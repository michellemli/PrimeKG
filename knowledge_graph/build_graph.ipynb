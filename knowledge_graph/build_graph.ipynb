{
 "cells": [
  {
   "cell_type": "code",
   "execution_count": 1,
   "metadata": {
    "ExecuteTime": {
     "end_time": "2021-08-06T12:17:42.529843Z",
     "start_time": "2021-08-06T12:17:37.821976Z"
    }
   },
   "outputs": [],
   "source": [
    "from tqdm.notebook import tqdm\n",
    "import re\n",
    "import os \n",
    "import shutil\n",
    "import numpy as np\n",
    "import pandas as pd\n",
    "import igraph as ig\n",
    "from scipy.sparse import lil_matrix, save_npz\n",
    "from sklearn.metrics.pairwise import cosine_similarity\n",
    "import torch\n",
    "from transformers import AutoTokenizer, AutoModel, pipeline\n",
    "%load_ext autoreload\n",
    "%autoreload 2"
   ]
  },
  {
   "cell_type": "code",
   "execution_count": 2,
   "metadata": {},
   "outputs": [],
   "source": [
    "# Original data\n",
    "data_path = '/n/data1/hms/dbmi/zitnik/lab/datasets/2021-06-RxGNN/v07-12-2021/datasets/'\n",
    "\n",
    "# New data to add\n",
    "new_data_dir = '/n/data1/hms/dbmi/zitnik/lab/users/mli/PrimeKG/'\n",
    "new_data_path = new_data_dir + 'Monarch_6July2022/'\n",
    "\n",
    "save_path = '/n/data1/hms/dbmi/zitnik/lab/users/mli/PrimeKG/kg/'"
   ]
  },
  {
   "cell_type": "markdown",
   "metadata": {
    "heading_collapsed": true
   },
   "source": [
    "# Read datasets"
   ]
  },
  {
   "cell_type": "code",
   "execution_count": 3,
   "metadata": {
    "ExecuteTime": {
     "end_time": "2021-08-06T12:17:42.583094Z",
     "start_time": "2021-08-06T12:17:42.532233Z"
    },
    "hidden": true
   },
   "outputs": [],
   "source": [
    "def assert_dtypes(df): \n",
    "    all_string = True\n",
    "    for i, x in enumerate(df.dtypes.values): \n",
    "        if x != np.dtype('O'): \n",
    "            all_string = False\n",
    "            print(df.columns[i], x)\n",
    "    if not all_string: assert False"
   ]
  },
  {
   "cell_type": "code",
   "execution_count": 4,
   "metadata": {
    "ExecuteTime": {
     "end_time": "2021-08-06T12:17:58.905940Z",
     "start_time": "2021-08-06T12:17:42.598948Z"
    },
    "hidden": true
   },
   "outputs": [],
   "source": [
    "# Original PrimeKG Datasets\n",
    "\n",
    "df_ppi = pd.read_csv(data_path+'ppi/protein_protein.csv', low_memory=False).dropna()\n",
    "df_ppi = df_ppi.astype({'proteinA_entrezid':int}).astype({'proteinA_entrezid':str})\n",
    "df_ppi = df_ppi.astype({'proteinB_entrezid':int}).astype({'proteinB_entrezid':str})\n",
    "assert_dtypes(df_ppi)\n",
    "\n",
    "df_drugbank = pd.read_csv(data_path+'drugbank/drug_protein.csv', low_memory=False)\n",
    "df_drugbank = df_drugbank.get(['DrugBank', 'relation', 'NCBIGeneID','DrugBankName']).dropna()\n",
    "df_drugbank = df_drugbank.astype({'NCBIGeneID':int}).astype({'NCBIGeneID':str})\n",
    "assert_dtypes(df_drugbank)\n",
    "\n",
    "df_disgenet = pd.read_csv(data_path+'disgenet/curated_gene_disease_associations.tsv', sep='\\t', low_memory=False)\n",
    "df_disgenet = df_disgenet.astype({'geneId':int}).astype({'geneId':str})\n",
    "\n",
    "df_mondo_terms = pd.read_csv(data_path+'mondo/mondo_terms.csv', low_memory=False)\n",
    "df_mondo_terms = df_mondo_terms.astype({'id':int}).astype({'id':str})\n",
    "\n",
    "df_mondo_xref = pd.read_csv(data_path+'mondo/mondo_references.csv', low_memory=False)\n",
    "df_mondo_xref = df_mondo_xref.astype({'mondo_id':int}).astype({'mondo_id':str})\n",
    "assert_dtypes(df_mondo_xref)\n",
    "\n",
    "df_mondo_parents = pd.read_csv(data_path+'mondo/mondo_parents.csv', low_memory=False)\n",
    "df_mondo_parents = df_mondo_parents.astype({'parent':int}).astype({'parent':str})\n",
    "df_mondo_parents = df_mondo_parents.astype({'child':int}).astype({'child':str})\n",
    "assert_dtypes(df_mondo_parents)\n",
    "\n",
    "df_drug_central = pd.read_csv(data_path+'drugcentral/drug_disease.csv', low_memory=False)\n",
    "df_drug_central = df_drug_central.get(['cas_reg_no','relationship_name', 'umls_cui']) # 'concept_id', 'concept_name', 'snomed_conceptid'\n",
    "df_drug_central = df_drug_central.query('not @df_drug_central.cas_reg_no.isna()')\n",
    "df_drug_central = df_drug_central.query('not @df_drug_central.umls_cui.isna()')\n",
    "assert_dtypes(df_drug_central)\n",
    "\n",
    "df_ddi = pd.read_csv(data_path+'drugbank/drug_drug.csv', low_memory=False)\n",
    "assert_dtypes(df_ddi)\n",
    "\n",
    "df_hp_terms = pd.read_csv(data_path+'hpo/hp_terms.csv', low_memory=False)\n",
    "df_hp_terms = df_hp_terms.astype({'id':int}).astype({'id':str})\n",
    "\n",
    "df_hp_xref = pd.read_csv(data_path+'hpo/hp_references.csv', low_memory=False)\n",
    "df_hp_xref = df_hp_xref.astype({'hp_id':int}).astype({'hp_id':str})\n",
    "\n",
    "df_hp_parents = pd.read_csv(data_path+'hpo/hp_parents.csv', low_memory=False)\n",
    "df_hp_parents = df_hp_parents.astype({'parent':int}).astype({'parent':str})\n",
    "df_hp_parents = df_hp_parents.astype({'child':int}).astype({'child':str})\n",
    "assert_dtypes(df_hp_parents)\n",
    "\n",
    "df_hpoa_pos = pd.read_csv(data_path+'hpo/disease_phenotype_pos.csv', low_memory=False)\n",
    "df_hpoa_pos = df_hpoa_pos.astype({'hp_id':int}).astype({'hp_id':str})\n",
    "df_hpoa_pos = df_hpoa_pos.astype({'disease_ontology_id':int}).astype({'disease_ontology_id':str})\n",
    "assert_dtypes(df_hpoa_pos)\n",
    "\n",
    "df_hpoa_neg = pd.read_csv(data_path+'hpo/disease_phenotype_neg.csv', low_memory=False)\n",
    "df_hpoa_neg = df_hpoa_neg.astype({'hp_id':int}).astype({'hp_id':str})\n",
    "df_hpoa_neg = df_hpoa_neg.astype({'disease_ontology_id':int}).astype({'disease_ontology_id':str})\n",
    "assert_dtypes(df_hpoa_neg)\n",
    "\n",
    "df_sider = pd.read_csv(data_path+'sider/sider.csv', low_memory=False)\n",
    "assert_dtypes(df_sider)\n",
    "\n",
    "df_go_terms = pd.read_csv(data_path+'go/go_terms_info.csv', low_memory=False)\n",
    "df_go_terms = df_go_terms.astype({'go_term_id':int}).astype({'go_term_id':str})\n",
    "assert_dtypes(df_go_terms)\n",
    "\n",
    "df_go_edges = pd.read_csv(data_path+'go/go_terms_relations.csv', low_memory=False)\n",
    "df_go_edges = df_go_edges.astype({'x':int}).astype({'x':str})\n",
    "df_go_edges = df_go_edges.astype({'y':int}).astype({'y':str})\n",
    "assert_dtypes(df_go_edges)\n",
    "\n",
    "df_gene2go = pd.read_csv(data_path+'ncbigene/protein_go_associations.csv', low_memory=False)\n",
    "df_gene2go = df_gene2go.astype({'ncbi_gene_id':int}).astype({'ncbi_gene_id':str})\n",
    "df_gene2go = df_gene2go.astype({'go_term_id':int}).astype({'go_term_id':str})\n",
    "assert_dtypes(df_gene2go)\n",
    "\n",
    "df_exposures = pd.read_csv(data_path+'ctd/exposure_data.csv', low_memory=False)\n",
    "df_exposures = df_exposures.get(['exposurestressorname', 'exposurestressorid',\n",
    "                  'exposuremarker', 'exposuremarkerid',\n",
    "                  'diseasename', 'diseaseid',\n",
    "                  'phenotypename', 'phenotypeid'])\n",
    "assert_dtypes(df_exposures)\n",
    "\n",
    "df_uberon_terms = pd.read_csv(data_path+'uberon/uberon_terms.csv', low_memory=False)\n",
    "df_uberon_terms = df_uberon_terms.astype({'id':int}).astype({'id':str})\n",
    "assert_dtypes(df_uberon_terms)\n",
    "\n",
    "df_uberon_is_a = pd.read_csv(data_path+'uberon/uberon_is_a.csv', low_memory=False)\n",
    "df_uberon_is_a = df_uberon_is_a.astype({'id':int}).astype({'id':str})\n",
    "df_uberon_is_a = df_uberon_is_a.astype({'is_a':int}).astype({'is_a':str})\n",
    "assert_dtypes(df_uberon_is_a)\n",
    "\n",
    "df_uberon_rels = pd.read_csv(data_path+'uberon/uberon_rels.csv', low_memory=False)\n",
    "df_uberon_rels = df_uberon_rels.astype({'id':int}).astype({'id':str})\n",
    "df_uberon_rels = df_uberon_rels.astype({'relation_id':int}).astype({'relation_id':str})\n",
    "assert_dtypes(df_uberon_rels)\n",
    "\n",
    "df_bgee = pd.read_csv(data_path+'bgee/anatomy_gene.csv', low_memory=False)\n",
    "df_bgee = df_bgee.astype({'expression_rank':int}).astype({'expression_rank':str})\n",
    "df_bgee = df_bgee.astype({'anatomy_id':int}).astype({'anatomy_id':str})\n",
    "assert_dtypes(df_bgee)\n",
    "\n",
    "df_reactome_terms = pd.read_csv(data_path+'reactome/reactome_terms.csv', low_memory=False)\n",
    "assert_dtypes(df_reactome_terms)\n",
    "\n",
    "df_reactome_rels = pd.read_csv(data_path+'reactome/reactome_relations.csv', low_memory=False)\n",
    "assert_dtypes(df_reactome_rels)\n",
    "\n",
    "df_reactome_ncbi = pd.read_csv(data_path+'reactome/reactome_ncbi.csv', low_memory=False)\n",
    "df_reactome_ncbi = df_reactome_ncbi[df_reactome_ncbi.ncbi_id.str.isnumeric()]\n",
    "assert_dtypes(df_reactome_ncbi)\n",
    "\n",
    "df_umls_mondo = pd.read_csv(data_path+'vocab/umls_mondo.csv', low_memory=False)\n",
    "df_umls_mondo = df_umls_mondo.astype({'mondo_id':int}).astype({'mondo_id':str})\n",
    "assert_dtypes(df_umls_mondo)\n",
    "\n",
    "df_prot_names = pd.read_csv(data_path+'vocab/gene_names.csv', low_memory=False, sep='\\t')\n",
    "df_prot_names = df_prot_names.rename(columns={'NCBI Gene ID(supplied by NCBI)':'ncbi_id', 'NCBI Gene ID':'ncbi_id2', 'Approved symbol':'symbol', 'Approved name':'name'})\n",
    "df_prot_names = df_prot_names.get(['ncbi_id', 'symbol']).dropna()\n",
    "df_prot_names = df_prot_names.astype({'ncbi_id':int}).astype({'ncbi_id':str})\n",
    "assert_dtypes(df_prot_names)\n",
    "\n",
    "db_vocab = pd.read_csv(data_path+'vocab/drugbank_vocabulary.csv', low_memory=False)\n",
    "assert_dtypes(db_vocab)\n",
    "\n",
    "df_db_atc = pd.read_csv(data_path+'vocab/drugbank_atc_codes.csv', low_memory=False).get(['atc_code','parent_key'])\n",
    "assert_dtypes(df_db_atc)"
   ]
  },
  {
   "cell_type": "code",
   "execution_count": 5,
   "metadata": {
    "scrolled": false
   },
   "outputs": [
    {
     "name": "stdout",
     "output_type": "stream",
     "text": [
      "['MONDO' 'OMIM']\n",
      "['HGNC' 'NCBIGene' 'ENSEMBL' 'OMIM']\n",
      "['MONDO' 'EFO' 'HP']\n"
     ]
    }
   ],
   "source": [
    "# New datasets to add to PrimeKG\n",
    "\n",
    "df_variant_disease = pd.read_csv(new_data_path+'variant_disease.all.tsv', low_memory=False, sep='\\t')\n",
    "df_variant_disease = df_variant_disease[df_variant_disease[\"subject_taxon_label\"] == \"Homo sapiens\"]\n",
    "df_variant_disease = df_variant_disease.rename(columns={\"subject\": \"variant_id\", \"subject_label\": \"variant_label\", \"object\": \"disease_id\", \"object_label\": \"disease_name\"})\n",
    "df_variant_disease[[\"disease_source\", \"disease_id\"]] = df_variant_disease[\"disease_id\"].str.split(\":\", expand=True)\n",
    "print(df_variant_disease[\"disease_source\"].unique())\n",
    "df_variant_disease[\"disease_id\"] = df_variant_disease[\"disease_id\"].astype(int).astype(str)\n",
    "df_variant_disease = df_variant_disease.get([\"variant_id\", \"variant_label\", \"disease_id\", \"disease_name\", \"disease_source\", \"relation_label\"]).dropna()\n",
    "assert_dtypes(df_variant_disease)\n",
    "\n",
    "df_variant_gene = pd.read_csv(new_data_path+'variant_gene.all.tsv', low_memory=False, sep='\\t')\n",
    "df_variant_gene = df_variant_gene[df_variant_gene[\"subject_taxon_label\"] == \"Homo sapiens\"]\n",
    "df_variant_gene = df_variant_gene.rename(columns={\"subject\": \"variant_id\", \"subject_label\": \"variant_label\", \"object\": \"gene_id\", \"object_label\": \"gene_name\"})\n",
    "df_variant_gene[[\"gene_source\", \"gene_id\"]] = df_variant_gene[\"gene_id\"].str.split(\":\", expand=True)\n",
    "print(df_variant_gene[\"gene_source\"].unique())\n",
    "df_variant_gene = df_variant_gene.get([\"variant_id\", \"variant_label\", \"gene_id\", \"gene_name\", \"gene_source\", \"relation_label\"]).dropna()\n",
    "assert_dtypes(df_variant_gene)\n",
    "\n",
    "df_variant_phenotype = pd.read_csv(new_data_path+'variant_phenotype.all.tsv', low_memory=False, sep='\\t')\n",
    "df_variant_phenotype = df_variant_phenotype[df_variant_phenotype[\"subject_taxon_label\"] == \"Homo sapiens\"]\n",
    "df_variant_phenotype = df_variant_phenotype.rename(columns={\"subject\": \"variant_id\", \"subject_label\": \"variant_label\", \"object\": \"phenotype_id\", \"object_label\": \"phenotype_label\"})\n",
    "df_variant_phenotype[[\"phenotype_source\", \"phenotype_id\"]] = df_variant_phenotype[\"phenotype_id\"].str.split(\":\", expand=True)\n",
    "df_variant_phenotype[\"phenotype_id\"] = df_variant_phenotype[\"phenotype_id\"].astype(int).astype(str)\n",
    "print(df_variant_phenotype[\"phenotype_source\"].unique())\n",
    "df_variant_phenotype = df_variant_phenotype.get([\"variant_id\", \"variant_label\", \"phenotype_id\", \"phenotype_label\", \"phenotype_source\", \"relation_label\"]).dropna()\n",
    "assert_dtypes(df_variant_phenotype)\n",
    "\n",
    "df_gene_mapping = pd.read_csv(new_data_dir+'gene_mappings_6July2022.txt', low_memory=False, sep=\"\\t\")\n",
    "df_gene_mapping = df_gene_mapping.rename(columns={\"Approved symbol\": \"gene_name\", \"NCBI gene ID\": \"ncbi_id\", \"OMIM ID\": \"omim_id\", \"Ensembl gene ID\": \"ens_id\"})\n",
    "df_gene_mapping[[\"source\", \"hgnc_id\"]] = df_gene_mapping[\"HGNC ID\"].str.split(\":\", expand=True)\n",
    "df_gene_mapping = df_gene_mapping.get([\"hgnc_id\", \"ncbi_id\", \"omim_id\", \"ens_id\", \"gene_name\"])"
   ]
  },
  {
   "cell_type": "code",
   "execution_count": 6,
   "metadata": {},
   "outputs": [
    {
     "name": "stdout",
     "output_type": "stream",
     "text": [
      "Disease associated: 148551 Gene associated: 219399 Phenotype associated: 132649\n",
      "Overlap between dis and gen: 112937\n",
      "Overlap between dis and phe: 9225\n",
      "Overlap between gen and phe: 80903\n",
      "Overlap between gen and phe+dis: 188039\n",
      "{'ClinVarVariant:477594', 'OMIM:276903.0012', 'OMIM:617782.0014', 'OMIM:600924.0004', 'OMIM:147880.0003', 'OMIM:123833.0005', 'OMIM:300390.0011', 'OMIM:607008.0015', 'OMIM:300550.0004', 'OMIM:192340.0012', 'OMIM:120240.0016', 'OMIM:606463.0026', 'OMIM:609014.0007', 'OMIM:312180.0001', 'OMIM:120436.0008', 'OMIM:612309.0013', 'OMIM:118955.0003', 'OMIM:605802.0008', 'OMIM:142000.0021', 'OMIM:180901.0035', 'OMIM:109270.0005', 'OMIM:603845.0002', 'OMIM:617782.0006', 'OMIM:607614.0001', 'OMIM:607939.0005', 'OMIM:138079.0012', 'OMIM:614459.0004', 'OMIM:608473.0003', 'OMIM:608378.0006', 'OMIM:128260.0002', 'OMIM:611060.0009', 'OMIM:300841.0227', 'OMIM:300311.0002', 'ClinVarVariant:613408', 'OMIM:600509.0017', 'OMIM:141800.0133', 'OMIM:600797.0001', 'OMIM:609539.0007', 'OMIM:300885.0002', 'OMIM:608041.0007', 'OMIM:603254.0010', 'OMIM:600005.0004', 'OMIM:142968.0001', 'OMIM:602669.0001', 'OMIM:300300.0004', 'OMIM:609010.0005', 'OMIM:300017.0021', 'ClinVarVariant:25857', 'OMIM:141900.0137', 'OMIM:162080.0003', 'OMIM:614461.0001', 'OMIM:614161.0001', 'OMIM:173110.0010', 'OMIM:613534.0004', 'OMIM:604629.0004', 'OMIM:613352.0002', 'OMIM:141850.0059', 'OMIM:150325.0003', 'OMIM:300142.0001', 'OMIM:160720.0015', 'OMIM:159440.0001', 'OMIM:607186.0008', 'OMIM:300377.0048', 'OMIM:608151.0011', 'OMIM:107820.0004', 'OMIM:164050.0010', 'OMIM:182309.0009', 'OMIM:158378.0004', 'OMIM:601656.0012', 'OMIM:605131.0002', 'OMIM:134570.0003', 'OMIM:153455.0002', 'OMIM:142410.0003', 'OMIM:300160.0012', 'OMIM:300072.0007', 'OMIM:141900.0059', 'OMIM:607397.0008', 'OMIM:561000.0006', 'OMIM:604780.0004', 'OMIM:607961.0005', 'OMIM:601199.0010', 'ClinVarVariant:28438', 'OMIM:600046.0010', 'OMIM:132810.0001', 'OMIM:612121.0004', 'OMIM:608102.0002', 'OMIM:613596.0005', 'OMIM:116806.0003', 'OMIM:110600.0002', 'OMIM:606062.0003', 'OMIM:609588.0001', 'OMIM:189907.0001', 'OMIM:608581.0006', 'OMIM:600244.0001', 'OMIM:601881.0004', 'OMIM:607386.0007', 'OMIM:601017.0001', 'OMIM:606119.0006', 'OMIM:604505.0005', 'OMIM:613160.0007', 'OMIM:601373.0004', 'OMIM:609644.0001', 'OMIM:612283.0022', 'dbSNP:rs6828434', 'OMIM:612021.0002', 'OMIM:602229.0014', 'OMIM:616183.0004', 'OMIM:604653.0007', 'OMIM:300841.0020', 'OMIM:191010.0003', 'OMIM:301870.0001', 'OMIM:186780.0001', 'OMIM:113705.0020', 'OMIM:601007.0001', 'OMIM:150325.0005', 'OMIM:600163.0022', 'OMIM:602753.0001', 'OMIM:605799.0006', 'OMIM:602421.0133', 'OMIM:606885.0015', 'OMIM:607982.0009', 'OMIM:601047.0006', 'OMIM:134797.0065', 'OMIM:602780.0003', 'OMIM:607096.0002', 'OMIM:607633.0003', 'OMIM:120250.0001', 'OMIM:152427.0025', 'OMIM:603506.0022', 'OMIM:611459.0004', 'OMIM:607108.0003', 'OMIM:113705.0042', 'OMIM:138140.0020', 'OMIM:180380.0023', 'OMIM:601972.0003', 'dbSNP:rs191540449', 'OMIM:608549.0001', 'OMIM:604580.0013', 'OMIM:607270.0002', 'OMIM:185620.0004', 'OMIM:608801.0001', 'OMIM:610230.0002', 'OMIM:604330.0001', 'OMIM:300390.0004', 'OMIM:139250.0001', 'OMIM:605537.0004', 'OMIM:613742.0009', 'OMIM:605283.0004', 'OMIM:600287.0008', 'OMIM:608894.0005', 'OMIM:300377.0051', 'OMIM:616105.0004', 'OMIM:606897.0004', 'OMIM:605978.0007', 'OMIM:164005.0014', 'OMIM:617209.0001', 'OMIM:607632.0005', 'OMIM:607306.0001', 'OMIM:602991.0009', 'OMIM:606945.0040', 'OMIM:606977.0003', 'OMIM:123841.0004', 'dbSNP:rs2814162', 'OMIM:100690.0008', 'OMIM:189907.0010', 'OMIM:180902.0010', 'OMIM:609671.0001', 'OMIM:605725.0009', 'OMIM:188450.0011', 'OMIM:604695.0003', 'OMIM:606622.0001', 'OMIM:615068.0002', 'dbSNP:rs997154', 'OMIM:606742.0003', 'OMIM:614258.0012', 'OMIM:146933.0002', 'OMIM:300034.0006', 'OMIM:142200.0033', 'OMIM:605995.0002', 'OMIM:615291.0008', 'OMIM:604611.0005', 'OMIM:606933.0036', 'OMIM:602669.0003', 'OMIM:604985.0006', 'OMIM:609595.0001', 'OMIM:164920.0020', 'ClinVarVariant:242516', 'OMIM:601785.0018', 'OMIM:108961.0002', 'ClinVarVariant:950720', 'OMIM:612192.0006', 'OMIM:600291.0004', 'OMIM:613742.0003', 'OMIM:602769.0004', 'OMIM:311850.0001', 'OMIM:305371.0002', 'OMIM:164770.0008', 'OMIM:613653.0003', 'OMIM:142000.0020', 'OMIM:601861.0001', 'OMIM:141900.0336', 'OMIM:115501.0005', 'OMIM:480000.0010', 'OMIM:608958.0029', 'OMIM:516002.0002', 'OMIM:600983.0012', 'OMIM:603507.0003', 'OMIM:606821.0009', 'OMIM:153450.0003', 'OMIM:141900.0332', 'OMIM:603301.0001', 'OMIM:603851.0011', 'OMIM:609412.0001', 'OMIM:608072.0003', 'OMIM:612349.0052', 'OMIM:191070.0002', 'OMIM:600011.0013', 'OMIM:607690.0005', 'OMIM:611731.0027', 'dbSNP:rs6658356', 'OMIM:184600.0004', 'OMIM:612035.0005', 'OMIM:604346.0011', 'OMIM:607300.0004', 'OMIM:601269.0001', 'OMIM:610621.0003', 'OMIM:614647.0006', 'OMIM:603005.0004', 'OMIM:157147.0006', 'OMIM:614477.0001', 'OMIM:607976.0001', 'OMIM:138450.0007', 'OMIM:614140.0001', 'OMIM:160710.0007', 'OMIM:612026.0005', 'OMIM:146920.0002', 'dbSNP:rs114070671', 'OMIM:614785.0002', 'OMIM:159440.0036', 'OMIM:191740.0004', 'OMIM:300841.0079', 'OMIM:609059.0006', 'OMIM:603707.0002', 'OMIM:605073.0007', 'OMIM:610774.0002', 'OMIM:608307.0005', 'OMIM:137780.0010', 'OMIM:607213.0002', 'OMIM:610345.0009', 'OMIM:190195.0014', 'OMIM:614591.0003', 'OMIM:130130.0010', 'OMIM:601802.0008', 'OMIM:603178.0002', 'OMIM:300841.0043', 'OMIM:107300.0007', 'OMIM:601538.0006', 'OMIM:618424.0003', 'OMIM:300172.0008', 'OMIM:606158.0014', 'OMIM:603051.0002', 'OMIM:606687.0006', 'OMIM:613899.0010', 'OMIM:605516.0012', 'OMIM:605124.0008', 'OMIM:615567.0007', 'OMIM:138140.0019', 'OMIM:300005.0017', 'OMIM:601789.0001', 'OMIM:605646.0023', 'OMIM:602589.0004', 'OMIM:114208.0002', 'OMIM:137164.0002', 'dbSNP:rs11897432', 'OMIM:600983.0017', 'OMIM:604705.0007', 'OMIM:612866.0006', 'OMIM:606210.0005', 'OMIM:300383.0001', 'ClinVarVariant:46930', 'OMIM:602630.0002', 'OMIM:123859.0002', 'OMIM:608555.0001', 'OMIM:176943.0030', 'OMIM:303630.0001', 'OMIM:118425.0015', 'OMIM:100720.0009', 'ClinVarVariant:952684', 'OMIM:300338.0001', 'dbSNP:rs12474609', 'OMIM:607922.0001', 'OMIM:604083.0001', 'OMIM:604447.0005', 'OMIM:606869.0016', 'OMIM:300808.0001', 'OMIM:606807.0003', 'OMIM:601763.0003', 'OMIM:614191.0004', 'OMIM:121011.0026', 'OMIM:617094.0003', 'OMIM:606702.0002', 'OMIM:313700.0042', 'OMIM:152427.0010', 'OMIM:611908.0004', 'OMIM:179035.0001', 'OMIM:604096.0007', 'OMIM:173490.0015', 'OMIM:300090.0004', 'dbSNP:rs993648', 'OMIM:313700.0012', 'OMIM:614068.0003', 'OMIM:600129.0010', 'OMIM:618802.0001', 'OMIM:138850.0010', 'OMIM:617840.0003', 'OMIM:170261.0003', 'OMIM:607244.0003', 'OMIM:611472.0002', 'OMIM:608300.0007', 'OMIM:600119.0007', 'OMIM:602593.0003', 'OMIM:121015.0004', 'OMIM:141850.0060', 'OMIM:606580.0002', 'OMIM:604934.0005', 'OMIM:300841.0271', 'OMIM:300384.0005', 'OMIM:605622.0001', 'OMIM:606463.0020', 'OMIM:603959.0016', 'OMIM:609390.0011', 'OMIM:618424.0001', 'OMIM:141800.0057', 'OMIM:601690.0004', 'OMIM:313700.0041', 'OMIM:123690.0001', 'OMIM:605648.0002', 'OMIM:130160.0013', 'OMIM:301300.0005', 'OMIM:606951.0003', 'OMIM:300365.0001', 'ClinVarVariant:572503', 'OMIM:176943.0011', 'dbSNP:rs3796839', 'OMIM:604611.0008', 'OMIM:275360.0001', 'OMIM:607542.0007', 'OMIM:607063.0008', 'OMIM:603297.0008', 'OMIM:120160.0007', 'OMIM:138600.0001', 'OMIM:165220.0001', 'OMIM:608444.0001', 'OMIM:618586.0004', 'OMIM:182340.0005', 'OMIM:600046.0016', 'ClinVarVariant:853366', 'OMIM:152200.0003', 'OMIM:605799.0005', 'OMIM:102630.0001', 'OMIM:609300.0012', 'OMIM:607623.0022', 'OMIM:606224.0004', 'OMIM:178620.0003', 'OMIM:605020.0004', 'OMIM:120131.0008', 'OMIM:613768.0003', 'OMIM:142702.0001', 'OMIM:613228.0007', 'OMIM:142840.0001', 'OMIM:305900.0052', 'ClinVarVariant:364266', 'OMIM:600005.0005', 'OMIM:605593.0002', 'OMIM:142250.0038', 'OMIM:480000.0022', 'OMIM:176876.0018', 'dbSNP:rs73086581', 'OMIM:600230.0001', 'OMIM:601119.0003', 'OMIM:604159.0002', 'OMIM:608958.0022', 'OMIM:137207.0001', 'OMIM:300906.0001', 'dbSNP:rs2010949', 'OMIM:301300.0016', 'OMIM:608833.0014', 'OMIM:601620.0002', 'OMIM:114205.0007', 'OMIM:600483.0004', 'OMIM:178620.0005', 'OMIM:615587.0002', 'OMIM:139250.0016', 'OMIM:601243.0005', 'OMIM:607512.0002', 'OMIM:104311.0006', 'OMIM:176730.0008', 'OMIM:300126.0012', 'ClinVarVariant:77412', 'OMIM:616107.0002', 'OMIM:605754.0005', 'OMIM:600899.0001', 'OMIM:139312.0001', 'ClinVarVariant:28981', 'OMIM:300644.0038', 'OMIM:107271.0001', 'OMIM:177075.0008', 'OMIM:608305.0007', 'OMIM:614297.0011', 'ClinVarVariant:36367', 'OMIM:311770.0014', 'OMIM:611104.0002', 'OMIM:605725.0008', 'ClinVarVariant:77410', 'OMIM:603967.0009', 'OMIM:609314.0001', 'ClinVarVariant:14320', 'OMIM:612659.0004', 'OMIM:129190.0001', 'OMIM:191845.0001', 'OMIM:100725.0012', 'OMIM:607386.0013', 'dbSNP:rs4704187', 'OMIM:104311.0034', 'OMIM:606269.0001', 'OMIM:608221.0001', 'OMIM:605837.0004', 'OMIM:300746.0050', 'OMIM:606822.0003', 'dbSNP:rs12460587', 'OMIM:603681.0004', 'OMIM:190195.0021', 'OMIM:138470.0008', 'OMIM:610925.0003', 'OMIM:177070.0005', 'OMIM:189980.0003', 'OMIM:602991.0014', 'OMIM:600529.0002', 'OMIM:614571.0010', 'OMIM:600298.0003', 'OMIM:611927.0003', 'OMIM:607199.0007', 'OMIM:120140.0053', 'OMIM:300746.0055', 'OMIM:114105.0001', 'OMIM:126380.0001', 'OMIM:602421.0045', 'OMIM:300292.0011', 'OMIM:600993.0013', 'OMIM:141900.0027', 'OMIM:605906.0009', 'OMIM:120160.0057', 'OMIM:126375.0003', 'OMIM:602743.0004', 'OMIM:147265.0009', 'OMIM:184429.0014', 'OMIM:314850.0008', 'OMIM:601147.0011', 'OMIM:606351.0007', 'OMIM:603465.0004', 'OMIM:120290.0012', 'OMIM:147545.0002', 'OMIM:601428.0010', 'dbSNP:rs314432863', 'OMIM:603729.0006', 'OMIM:139311.0002', 'OMIM:184745.0008', 'OMIM:107777.0005', 'OMIM:615320.0001', 'dbSNP:rs138701026', 'OMIM:602671.0004', 'OMIM:616213.0005', 'OMIM:603959.0004', 'OMIM:134820.0001', 'OMIM:610774.0001', 'OMIM:133550.0002', 'OMIM:104760.0023', 'OMIM:311800.0002', 'OMIM:603470.0006', 'OMIM:607837.0006', 'OMIM:603333.0002', 'OMIM:164005.0003', 'OMIM:191030.0007', 'OMIM:606544.0003', 'dbSNP:rs62141280', 'OMIM:618735.0002', 'OMIM:615618.0003', 'OMIM:148040.0009', 'OMIM:601295.0001', 'ClinVarVariant:617555', 'OMIM:612186.0004', 'OMIM:107400.0040', 'OMIM:152790.0029', 'OMIM:600810.0010', 'OMIM:613213.0006', 'OMIM:126340.0014', 'OMIM:300841.0062', 'OMIM:610670.0004', 'OMIM:607837.0007', 'OMIM:600909.0010', 'OMIM:167409.0002', 'OMIM:600761.0003', 'OMIM:123841.0001', 'OMIM:176260.0001', 'ClinVarVariant:833082', 'OMIM:607574.0044', 'OMIM:601015.0008', 'OMIM:300300.0025', 'OMIM:601806.0006', 'OMIM:600682.0010', 'OMIM:605379.0006', 'OMIM:604210.0004', 'OMIM:134797.0016', 'OMIM:606062.0006', 'OMIM:238310.0009', 'OMIM:615004.0003', 'OMIM:606945.0004', 'OMIM:610523.0006', 'OMIM:124089.0002', 'OMIM:615292.0005', 'OMIM:601313.0012', 'ClinVarVariant:370036', 'OMIM:191043.0002', 'OMIM:480000.0001', 'OMIM:600555.0024', 'OMIM:609806.0018', 'OMIM:605459.0006', 'OMIM:606822.0011', 'dbSNP:rs76610913', 'OMIM:603234.0014', 'OMIM:120290.0009', 'OMIM:604349.0003', 'OMIM:134820.0015', 'OMIM:600923.0006', 'OMIM:138450.0003', 'OMIM:603372.0006', 'OMIM:600555.0006', 'OMIM:176876.0026', 'OMIM:605988.0001', 'OMIM:611549.0001', 'OMIM:189909.0002', 'OMIM:300897.0007', 'OMIM:105850.0004', 'OMIM:141900.0298', 'OMIM:303630.0011', 'OMIM:300040.0005', 'OMIM:611409.0015', 'OMIM:154045.0001', 'OMIM:600220.0001', 'OMIM:192340.0011', 'OMIM:314850.0005', 'OMIM:600194.0003', 'OMIM:300205.0007', 'OMIM:605420.0008', 'OMIM:173410.0004', 'ClinVarVariant:375322', 'OMIM:616842.0002', 'OMIM:603409.0001', 'OMIM:613326.0001', 'OMIM:617687.0005', 'OMIM:300019.0001', 'OMIM:601255.0004', 'OMIM:305900.0060', 'OMIM:300377.0033', 'OMIM:147575.0001', 'OMIM:607604.0001', 'OMIM:314200.0011', 'OMIM:608755.0002', 'OMIM:617220.0004', 'OMIM:614998.0006', 'OMIM:609751.0009', 'OMIM:611731.0054', 'OMIM:600014.0003', 'OMIM:610290.0003', 'OMIM:300160.0003', 'OMIM:609853.0001', 'OMIM:190195.0031', 'OMIM:607759.0015', 'OMIM:300746.0054', 'OMIM:609862.0011', 'OMIM:182389.0001', 'OMIM:613666.0006', 'OMIM:600555.0005', 'OMIM:300398.0003', 'OMIM:609058.0008', 'OMIM:603254.0001', 'OMIM:602650.0001', 'OMIM:136350.0016', 'OMIM:177060.0002', 'OMIM:300035.0009', 'OMIM:607465.0005', 'OMIM:177400.0007', 'OMIM:602734.0003', 'OMIM:603576.0006', 'OMIM:600857.0005', 'OMIM:133510.0001', 'OMIM:610089.0003', 'OMIM:147265.0010', 'OMIM:300005.0024', 'OMIM:608103.0003', 'OMIM:604819.0005', 'OMIM:134797.0050', 'OMIM:611061.0010', 'OMIM:603048.0006', 'OMIM:614917.0002', 'OMIM:182350.0017', 'OMIM:188450.0019', 'OMIM:608053.0003', 'OMIM:600890.0002', 'OMIM:605283.0008', 'OMIM:170261.0001', 'OMIM:300386.0013', 'OMIM:108345.0001', 'OMIM:160760.0019', 'ClinVarVariant:437930', 'OMIM:606397.0007', 'OMIM:605461.0003', 'ClinVarVariant:665640', 'OMIM:602280.0004', 'OMIM:609661.0007', 'OMIM:600310.0016', 'OMIM:611386.0001', 'OMIM:190181.0004', 'OMIM:113811.0005', 'OMIM:102582.0011', 'OMIM:300307.0009', 'OMIM:604632.0004', 'OMIM:264900.0009', 'OMIM:189907.0015', 'OMIM:102565.0005', 'OMIM:614258.0019', 'OMIM:614191.0007', 'OMIM:102576.0009', 'OMIM:300377.0029', 'OMIM:191092.0007', 'OMIM:606953.0001', 'OMIM:606229.0003', 'OMIM:617094.0002', 'OMIM:516000.0014', 'OMIM:606834.0003', 'OMIM:600856.0008', 'OMIM:609309.0008', 'OMIM:152200.0002', 'OMIM:150330.0013', 'OMIM:610745.0012', 'OMIM:606821.0003', 'OMIM:613624.0001', 'OMIM:211100.0003', 'OMIM:606810.0001', 'OMIM:300084.0003', 'OMIM:142993.0003', 'OMIM:167409.0003', 'OMIM:611595.0002', 'OMIM:141900.0509', 'OMIM:606439.0009', 'OMIM:300307.0002', 'OMIM:114205.0009', 'OMIM:164790.0001', 'OMIM:162080.0004', 'OMIM:608862.0006', 'OMIM:613816.0006', 'OMIM:180430.0001', 'OMIM:134638.0001', 'OMIM:609689.0005', 'OMIM:601844.0003', 'OMIM:238300.0007', 'OMIM:610032.0002', 'OMIM:172460.0004', 'OMIM:611927.0011', 'OMIM:123940.0002', 'OMIM:603859.0002', 'OMIM:179616.0007', 'OMIM:617371.0001', 'OMIM:176300.0050', 'OMIM:141800.0171', 'OMIM:300628.0003', 'OMIM:604544.0012', 'OMIM:238331.0011', 'OMIM:607544.0002', 'OMIM:602661.0003', 'OMIM:147200.0003', 'OMIM:300502.0020', 'OMIM:606470.0003', 'OMIM:605204.0004', 'OMIM:607575.0011', 'OMIM:600650.0010', 'OMIM:300075.0007', 'OMIM:605010.0001', 'OMIM:606844.0002', 'dbSNP:rs11765575', 'OMIM:603136.0004', 'OMIM:300841.0036', 'OMIM:603799.0003', 'OMIM:120436.0027', 'OMIM:603381.0003', 'OMIM:603109.0006', 'OMIM:191135.0003', 'OMIM:606478.0003', 'OMIM:190181.0008', 'OMIM:164017.0003', 'dbSNP:rs837231', 'OMIM:614647.0008', 'OMIM:604580.0009', 'OMIM:191092.0016', 'OMIM:148040.0008', 'OMIM:613425.0001', 'OMIM:141900.0157', 'OMIM:606097.0005', 'OMIM:134830.0007', 'OMIM:600160.0002', 'OMIM:114240.0009', 'OMIM:179060.0009', 'OMIM:603942.0007', 'OMIM:611432.0003', 'OMIM:600415.0004', 'OMIM:600682.0003', 'OMIM:612971.0001', 'OMIM:133170.0004', 'OMIM:613878.0023', 'OMIM:300202.0006', 'OMIM:606967.0011', 'OMIM:300032.0016', 'OMIM:614982.0012', 'OMIM:123805.0001', 'OMIM:616663.0003', 'OMIM:191315.0011', 'dbSNP:rs4723738', 'OMIM:600163.0006', 'OMIM:602445.0002', 'OMIM:611203.0002', 'OMIM:606945.0018', 'OMIM:608309.0002', 'OMIM:600354.0019', 'OMIM:602704.0001', 'ClinVarVariant:220275', 'OMIM:604488.0005', 'OMIM:605202.0001', 'OMIM:606201.0014', 'OMIM:602887.0006', 'OMIM:150325.0008', 'OMIM:141900.0470', 'OMIM:614258.0018', 'OMIM:182307.0008', 'OMIM:311800.0008', 'OMIM:608183.0001', 'OMIM:300746.0005', 'OMIM:134637.0019', 'OMIM:602431.0001', 'OMIM:606347.0001', 'OMIM:614258.0011', 'OMIM:602334.0001', 'OMIM:613597.0006', 'OMIM:300169.0002', 'OMIM:107400.0031', 'OMIM:605573.0008', 'OMIM:614661.0002', 'OMIM:184745.0005', 'OMIM:612570.0005', 'OMIM:611486.0002', 'OMIM:164040.0002', 'OMIM:613726.0006', 'OMIM:614984.0002', 'OMIM:612803.0010', 'OMIM:614620.0012', 'OMIM:608671.0002', 'OMIM:605558.0002', 'OMIM:607386.0015', 'OMIM:609826.0002', 'OMIM:300300.0034', 'OMIM:300473.0014', 'OMIM:603109.0009', 'OMIM:606118.0006', 'OMIM:191040.0006', 'OMIM:139396.0003', 'OMIM:164012.0001', 'OMIM:611089.0002', 'OMIM:125645.0001', 'OMIM:176930.0004', 'OMIM:180380.0010', 'OMIM:606075.0009', 'OMIM:123680.0002', 'OMIM:606860.0001', 'OMIM:602201.0005', 'OMIM:607788.0008', 'ClinVarVariant:19855', 'OMIM:610745.0005', 'OMIM:615712.0003', 'OMIM:159440.0037', 'OMIM:300451.0017', 'OMIM:605924.0006', 'dbSNP:rs2656108', 'OMIM:610350.0002', 'OMIM:141900.0130', 'OMIM:164820.0005', 'OMIM:615262.0002', 'OMIM:616174.0001', 'OMIM:612850.0005', 'OMIM:604501.0003', 'ClinVarVariant:188877', 'OMIM:516002.0001', 'OMIM:608034.0011', 'OMIM:602421.0004', 'OMIM:602322.0001', 'OMIM:601691.0020', 'OMIM:102620.0002', 'dbSNP:rs143913735', 'OMIM:609471.0007', 'OMIM:606800.0013', 'OMIM:600322.0001', 'OMIM:190195.0024', 'OMIM:187011.0001', 'OMIM:608041.0005', 'OMIM:600778.0005', 'OMIM:139350.0012', 'OMIM:602931.0008', 'dbSNP:rs76735429', 'OMIM:609262.0001', 'OMIM:300556.0004', 'OMIM:617110.0007', 'OMIM:168468.0012', 'OMIM:613742.0007', 'OMIM:611055.0007', 'ClinVarVariant:237649', 'OMIM:609591.0001', 'OMIM:613815.0031', 'OMIM:606718.0002', 'OMIM:602858.0006', 'OMIM:600897.0007', 'OMIM:600702.0011', 'ClinVarVariant:92961', 'OMIM:608755.0006', 'OMIM:609017.0001', 'OMIM:618255.0006', 'OMIM:179615.0001', 'OMIM:238331.0007', 'ClinVarVariant:364265', 'OMIM:173610.0002', 'OMIM:300841.0147', 'OMIM:606362.0005', 'OMIM:603290.0003', 'OMIM:308000.0028', 'OMIM:231675.0008', 'OMIM:610045.0004', 'OMIM:603550.0001', 'OMIM:604357.0002', 'dbSNP:rs113928546', 'OMIM:308000.0003', 'OMIM:602140.0004', 'ClinVarVariant:380146', 'OMIM:614352.0001', 'OMIM:606025.0004', 'OMIM:602410.0001', 'OMIM:604546.0003', 'ClinVarVariant:446259', 'OMIM:602887.0004', 'OMIM:600225.0006', 'OMIM:614397.0004', 'OMIM:602121.0002', 'OMIM:600179.0013', 'OMIM:609701.0005', 'OMIM:313700.0032', 'OMIM:300841.0107', 'OMIM:300473.0004', 'OMIM:118945.0001', 'OMIM:604566.0007', 'OMIM:609845.0004', 'OMIM:173110.0006', 'ClinVarVariant:242381', 'OMIM:605109.0001', 'OMIM:300371.0007', 'OMIM:615291.0010', 'OMIM:126065.0006', 'OMIM:308000.0034', 'OMIM:610079.0004', 'OMIM:114350.0002', 'OMIM:601011.0013', 'OMIM:600584.0014', 'OMIM:103320.0003', 'OMIM:602821.0010', 'OMIM:607526.0001', 'OMIM:609506.0009', 'OMIM:609144.0003', 'OMIM:602727.0005', 'OMIM:107930.0003', 'OMIM:612920.0003', 'OMIM:607875.0005', 'OMIM:603851.0010', 'OMIM:612453.0008', 'OMIM:608206.0003', 'OMIM:141900.0449', 'OMIM:609702.0001', 'OMIM:604065.0001', 'OMIM:612414.0005', 'OMIM:305900.0005', 'OMIM:120436.0023', 'OMIM:120130.0014', 'OMIM:601592.0011', 'OMIM:193060.0002', 'OMIM:604705.0006', 'OMIM:610613.0009', 'OMIM:603593.0002', 'OMIM:613583.0003', 'OMIM:609584.0007', 'OMIM:607560.0001', 'OMIM:165230.0003', 'OMIM:600463.0002', 'OMIM:600584.0016', 'OMIM:157140.0009', 'OMIM:300008.0007', 'OMIM:613815.0007', 'OMIM:600576.0018', 'OMIM:607144.0003', 'OMIM:601758.0007', 'OMIM:601843.0001', 'OMIM:612411.0005', 'OMIM:613883.0003', 'OMIM:603506.0016', 'OMIM:120131.0006', 'OMIM:184757.0018', 'OMIM:600225.0009', 'dbSNP:rs6588480', 'OMIM:602601.0003', 'OMIM:603234.0012', 'OMIM:608000.0004', 'OMIM:607905.0004', 'OMIM:606974.0001', 'OMIM:609489.0007', 'OMIM:607358.0003', 'OMIM:151385.0002', 'OMIM:614194.0003', 'OMIM:605597.0011', 'OMIM:134570.0019', 'OMIM:182282.0004', 'OMIM:604546.0007', 'ClinVarVariant:226245', 'OMIM:600570.0013', 'OMIM:614041.0015', 'OMIM:617089.0002', 'OMIM:601199.0045', 'OMIM:160794.0004', 'OMIM:608944.0002', 'OMIM:191030.0002', 'OMIM:609309.0010', 'dbSNP:rs313167809', 'OMIM:606489.0007', 'OMIM:313700.0058', 'OMIM:608798.0004', 'OMIM:601757.0011', 'OMIM:107300.0006', 'OMIM:606060.0006', 'OMIM:610057.0001', 'OMIM:607002.0004', 'OMIM:601199.0032', 'OMIM:612898.0001', 'OMIM:602574.0006', 'OMIM:605178.0003', 'OMIM:148041.0008', 'OMIM:605206.0008', 'OMIM:601653.0008', 'OMIM:516060.0012', 'OMIM:609458.0002', 'OMIM:600037.0010', 'OMIM:154100.0002', 'OMIM:141900.0159', 'ClinVarVariant:142208', 'OMIM:612732.0013', 'OMIM:120130.0027', 'OMIM:600414.0002', 'ClinVarVariant:637033', 'OMIM:300746.0008', 'OMIM:600336.0001', 'ClinVarVariant:362400', 'dbSNP:rs6460664', 'OMIM:611908.0001', 'OMIM:617083.0003', 'OMIM:618689.0005', 'ClinVarVariant:649490', 'OMIM:114350.0004', 'OMIM:180901.0034', 'OMIM:610550.0002', 'OMIM:602614.0001', 'OMIM:610436.0006', 'OMIM:603795.0005', 'OMIM:611911.0001', 'OMIM:602090.0008', 'OMIM:600725.0002', 'OMIM:300841.0160', 'OMIM:300142.0003', 'OMIM:300390.0009', 'OMIM:141900.0410', 'OMIM:602743.0002', 'OMIM:125670.0002', 'OMIM:605925.0007', 'OMIM:602026.0003', 'OMIM:615949.0001', 'OMIM:614477.0008', 'OMIM:607352.0002', 'OMIM:601239.0001', 'OMIM:605713.0005', 'ClinVarVariant:811149', 'OMIM:142000.0045', 'OMIM:300163.0009', 'OMIM:604237.0008', 'OMIM:611153.0001', 'OMIM:613373.0001', 'OMIM:615187.0002', 'OMIM:607817.0010', 'OMIM:188450.0015', 'OMIM:606530.0004', 'OMIM:605284.0010', 'OMIM:602427.0005', 'OMIM:162332.0002', 'OMIM:191275.0003', 'OMIM:609557.0002', 'OMIM:300401.0005', 'OMIM:300522.0005', 'OMIM:300538.0009', 'OMIM:137164.0007', 'OMIM:516070.0001', 'OMIM:120140.0009', 'OMIM:131222.0014', 'OMIM:610936.0006', 'OMIM:611432.0005', 'OMIM:601255.0009', 'OMIM:600160.0016', 'OMIM:605185.0006', 'OMIM:600574.0013', 'OMIM:107470.0002', 'OMIM:608803.0001', 'OMIM:610206.0014', 'OMIM:300822.0003', 'OMIM:125647.0004', 'OMIM:611295.0004', 'ClinVarVariant:982526', 'OMIM:608667.0008', 'OMIM:188840.0001', 'OMIM:604649.0004', 'OMIM:300746.0044', 'OMIM:608205.0006', 'OMIM:613899.0008', 'OMIM:147679.0004', 'OMIM:180040.0002', 'OMIM:614297.0009', 'OMIM:609019.0004', 'OMIM:610463.0002', 'OMIM:602026.0004', 'OMIM:148067.0004', 'OMIM:136435.0010', 'OMIM:191342.0002', 'OMIM:165190.0001', 'OMIM:601011.0026', 'OMIM:604588.0008', 'OMIM:311800.0010', 'OMIM:604857.0005', 'OMIM:611672.0001', 'OMIM:103220.0005', 'OMIM:606463.0012', 'OMIM:180430.0002', 'ClinVarVariant:477433', 'OMIM:164040.0004', 'OMIM:600857.0004', 'OMIM:600678.0007', 'ClinVarVariant:262707', 'OMIM:176930.0014', 'ClinVarVariant:832971', 'OMIM:608313.0004', 'OMIM:605896.0003', 'OMIM:604126.0001', 'OMIM:105850.0007', 'OMIM:607465.0003', 'OMIM:607667.0001', 'OMIM:147557.0016', 'OMIM:606821.0010', 'OMIM:609802.0006', 'OMIM:606933.0031', 'OMIM:602686.0001', 'OMIM:602142.0002', 'OMIM:614725.0002', 'OMIM:609317.0001', 'OMIM:604544.0013', 'OMIM:603024.0003', 'OMIM:604597.0002', 'OMIM:608416.0001', 'OMIM:300371.0014', 'OMIM:131222.0008', 'OMIM:164761.0009', 'OMIM:300017.0012', 'ClinVarVariant:406229', 'OMIM:603357.0004', 'OMIM:180380.0019', 'OMIM:604712.0015', 'OMIM:176977.0002', 'OMIM:300823.0003', 'OMIM:613160.0035', 'OMIM:300248.0009', 'OMIM:138491.0001', 'OMIM:176943.0037', 'OMIM:602661.0001', 'OMIM:609617.0002', 'OMIM:600011.0005', 'OMIM:300975.0001', 'OMIM:300386.0008', 'OMIM:607207.0009', 'OMIM:610363.0004', 'OMIM:600119.0004', 'OMIM:125647.0022', 'OMIM:613469.0004', 'OMIM:604539.0003', 'OMIM:601652.0016', 'OMIM:603945.0008', 'OMIM:601897.0004', 'OMIM:608226.0001', 'ClinVarVariant:242507', 'OMIM:607393.0013', 'OMIM:603527.0002', 'OMIM:600020.0003', 'OMIM:162332.0004', 'OMIM:152790.0014', 'OMIM:610206.0020', 'OMIM:608210.0011', 'OMIM:134797.0017', 'OMIM:176300.0044', 'OMIM:601489.0003', 'dbSNP:rs786870', 'OMIM:107910.0006', 'OMIM:606102.0001', 'OMIM:176640.0030', 'OMIM:190070.0005', 'OMIM:606822.0023', 'ClinVarVariant:245692', 'OMIM:602985.0003', 'OMIM:160710.0008', 'OMIM:192090.0007', 'OMIM:610966.0002', 'OMIM:300386.0012', 'OMIM:160720.0016', 'OMIM:603377.0014', 'OMIM:611053.0002', 'OMIM:613900.0003', 'ClinVarVariant:933785', 'OMIM:191050.0001', 'OMIM:605084.0002', 'OMIM:609346.0003', 'OMIM:611236.0001', 'OMIM:608723.0003', 'OMIM:602229.0012', 'OMIM:608614.0003', 'OMIM:601408.0005', 'OMIM:606241.0005', 'OMIM:608124.0008', 'OMIM:602743.0010', 'ClinVarVariant:262762', 'OMIM:615585.0001', 'OMIM:109270.0014', 'OMIM:611654.0008', 'OMIM:118485.0008', 'OMIM:601012.0003', 'OMIM:209901.0001', 'OMIM:607237.0005', 'OMIM:314200.0018', 'OMIM:141900.0437', 'ClinVarVariant:38448', 'OMIM:608780.0004', 'OMIM:604485.0004', 'OMIM:601771.0006', 'OMIM:314370.0004', 'OMIM:606933.0019', 'ClinVarVariant:28196', 'OMIM:305900.0046', 'dbSNP:rs10164289', 'OMIM:300110.0010', 'OMIM:612719.0009', 'OMIM:607998.0002', 'OMIM:608272.0008', 'dbSNP:rs4743910', 'OMIM:610060.0011', 'OMIM:608539.0002', 'OMIM:600548.0001', 'OMIM:600298.0001', 'OMIM:603576.0005', 'OMIM:606596.0009', 'OMIM:164870.0007', 'OMIM:603009.0009', 'OMIM:608552.0006', 'OMIM:142810.0006', 'OMIM:613009.0002', 'OMIM:605014.0003', 'OMIM:608083.0003', 'OMIM:300189.0006', 'OMIM:600276.0002', 'OMIM:188070.0001', 'OMIM:603758.0001', 'OMIM:602593.0004', 'OMIM:602274.0001', 'OMIM:120960.0005', 'OMIM:134830.0004', 'OMIM:610827.0003', 'OMIM:300170.0011', 'OMIM:300278.0002', 'OMIM:600555.0028', 'OMIM:114240.0006', 'OMIM:609059.0001', 'OMIM:300841.0165', 'OMIM:190090.0001', 'OMIM:134934.0009', 'OMIM:168468.0008', 'OMIM:605907.0006', 'OMIM:609018.0008', 'OMIM:300463.0001', 'OMIM:606718.0006', 'ClinVarVariant:970499', 'OMIM:179035.0003', 'OMIM:614086.0003', 'OMIM:605131.0005', 'OMIM:147570.0002', 'OMIM:159530.0008', 'ClinVarVariant:242395', 'OMIM:142600.0004', 'OMIM:172460.0001', 'OMIM:610036.0003', 'OMIM:603324.0008', 'OMIM:601284.0003', 'OMIM:609019.0010', 'OMIM:603109.0008', 'OMIM:605086.0007', 'OMIM:615320.0010', 'OMIM:614667.0001', 'OMIM:606229.0001', 'OMIM:607295.0002', 'OMIM:603506.0036', 'OMIM:607379.0008', 'OMIM:600211.0012', 'OMIM:602943.0002', 'OMIM:601439.0004', 'OMIM:123940.0003', 'OMIM:607854.0011', 'OMIM:117700.0001', 'OMIM:300172.0002', 'OMIM:120150.0024', 'OMIM:136350.0012', 'OMIM:612424.0001', 'OMIM:608630.0003', 'OMIM:612349.0011', 'OMIM:112262.0004', 'OMIM:300017.0014', 'OMIM:609898.0001', 'OMIM:139330.0001', 'OMIM:118502.0003', 'OMIM:607207.0008', 'OMIM:607922.0008', 'OMIM:602858.0021', 'OMIM:608124.0004', 'OMIM:134570.0011', 'dbSNP:rs60526088', 'OMIM:609332.0016', 'OMIM:170993.0003', 'OMIM:152790.0019', 'OMIM:104620.0006', 'OMIM:190020.0005', 'OMIM:613165.0013', 'OMIM:123680.0003', 'OMIM:167415.0003', 'OMIM:603297.0019', 'OMIM:609139.0001', 'OMIM:613599.0005', 'OMIM:157655.0002', 'OMIM:600112.0004', 'OMIM:138160.0009', 'OMIM:600960.0004', 'OMIM:605646.0031', 'OMIM:615902.0003', 'OMIM:612316.0003', 'OMIM:313440.0005', 'OMIM:604780.0005', 'OMIM:300451.0003', 'OMIM:600119.0002', 'OMIM:600140.0004', 'OMIM:274180.0002', 'OMIM:618570.0002', 'OMIM:601149.0001', 'OMIM:604267.0001', 'OMIM:601313.0009', 'OMIM:602322.0011', 'OMIM:604580.0012', 'OMIM:180380.0007', 'dbSNP:rs915832', 'OMIM:614169.0005', 'OMIM:603309.0005', 'OMIM:121013.0007', 'OMIM:601756.0008', 'OMIM:607574.0014', 'OMIM:600293.0002', 'OMIM:607837.0004', 'OMIM:180901.0028', 'OMIM:600024.0010', 'OMIM:604569.0011', 'OMIM:120520.0009', 'ClinVarVariant:472254', 'OMIM:603258.0002', 'OMIM:179615.0010', 'OMIM:613446.0001', 'OMIM:300005.0002', 'OMIM:120160.0045', 'OMIM:190195.0029', 'OMIM:606782.0001', 'OMIM:615712.0001', 'OMIM:300546.0003', 'OMIM:116806.0025', 'OMIM:613596.0004', 'OMIM:604875.0002', 'OMIM:607440.0004', 'OMIM:603234.0025', 'OMIM:141900.0405', 'ClinVarVariant:205025', 'OMIM:600970.0005', 'OMIM:157129.0005', 'OMIM:134850.0003', 'OMIM:605597.0017', 'OMIM:604447.0006', 'OMIM:603945.0007', 'OMIM:606119.0002', 'OMIM:610573.0001', 'OMIM:191330.0001', 'OMIM:300806.0001', 'OMIM:193067.0004', 'OMIM:164770.0007', 'OMIM:608041.0004', 'OMIM:190120.0003', 'OMIM:605032.0003', 'OMIM:616715.0006', 'OMIM:604373.0014', 'OMIM:601902.0007', 'OMIM:605573.0006', 'OMIM:603883.0004', 'OMIM:125671.0003', 'ClinVarVariant:942553', 'OMIM:609826.0009', 'OMIM:610516.0001', 'OMIM:613942.0002', 'OMIM:615464.0001', 'OMIM:608744.0002', 'OMIM:602671.0015', 'OMIM:609010.0004', 'OMIM:604096.0001', 'OMIM:612990.0007', 'OMIM:603297.0001', 'OMIM:606754.0001', 'OMIM:612349.0018', 'ClinVarVariant:13662', 'OMIM:605511.0003', 'OMIM:600574.0011', 'OMIM:604875.0001', 'OMIM:602410.0002', 'OMIM:605460.0001', 'dbSNP:rs11580730', 'OMIM:188840.0004', 'ClinVarVariant:24906', 'OMIM:618628.0001', 'OMIM:619109.0001', 'OMIM:603248.0004', 'ClinVarVariant:543921', 'OMIM:125647.0009', 'OMIM:191350.0010', 'OMIM:605459.0003', 'OMIM:613113.0035', 'OMIM:300644.0030', 'OMIM:612107.0001', 'OMIM:610827.0005', 'OMIM:300392.0007', 'OMIM:138252.0005', 'ClinVarVariant:13669', 'OMIM:604773.0003', 'OMIM:604579.0001', 'OMIM:601656.0014', 'OMIM:300798.0010', 'OMIM:602218.0007', 'OMIM:300746.0062', 'OMIM:613113.0023', 'OMIM:600709.0008', 'dbSNP:rs17252438', 'OMIM:139380.0001', 'OMIM:610362.0003', 'OMIM:607393.0012', 'OMIM:604592.0002', 'OMIM:191163.0006', 'OMIM:107470.0012', 'OMIM:608667.0002', 'OMIM:600617.0005', 'dbSNP:rs790116', 'OMIM:610277.0002', 'OMIM:615495.0005', 'OMIM:134570.0020', 'OMIM:107400.0024', 'OMIM:600946.0027', 'OMIM:603294.0002', 'OMIM:608780.0002', 'OMIM:103600.0011', 'OMIM:604096.0008', 'OMIM:176640.0002', 'OMIM:607343.0011', 'OMIM:606238.0004', 'OMIM:618685.0001', 'OMIM:602858.0009', 'OMIM:173325.0004', 'dbSNP:rs16925187', 'OMIM:164920.0016', 'OMIM:516001.0006', 'OMIM:603604.0002', 'OMIM:614917.0003', 'ClinVarVariant:937793', 'OMIM:108740.0011', 'OMIM:617362.0007', 'OMIM:607984.0002', 'OMIM:613698.0004', 'OMIM:603951.0001', 'OMIM:613214.0002', 'OMIM:603198.0007', 'OMIM:618726.0003', 'OMIM:611279.0004', 'OMIM:611559.0001', 'OMIM:611290.0005', 'OMIM:306250.0001', 'OMIM:186790.0002', 'OMIM:604142.0002', 'OMIM:602235.0008', 'OMIM:141900.0174', 'OMIM:300008.0014', 'OMIM:612373.0006', 'ClinVarVariant:14324', 'OMIM:162280.0004', 'ClinVarVariant:576440', 'OMIM:600011.0006', 'OMIM:603184.0002', 'OMIM:614270.0004', 'OMIM:618255.0008', 'OMIM:616105.0001', 'OMIM:606692.0001', 'OMIM:300008.0011', 'OMIM:165230.0006', 'OMIM:601837.0001', 'OMIM:614169.0007', 'OMIM:612315.0003', 'OMIM:611655.0001', 'OMIM:601756.0004', 'OMIM:600944.0001', 'OMIM:607340.0006', 'OMIM:103950.0005', 'OMIM:607928.0006', 'OMIM:607809.0016', 'OMIM:603057.0001', 'OMIM:606285.0001', 'dbSNP:rs10811771', 'OMIM:300169.0010', 'OMIM:611647.0002', 'OMIM:603490.0003', 'OMIM:604083.0006', 'OMIM:107470.0011', 'OMIM:120436.0007', 'OMIM:603785.0005', 'OMIM:606201.0028', 'OMIM:608283.0006', 'OMIM:114206.0003', 'OMIM:601530.0009', 'OMIM:612025.0001', 'OMIM:604134.0021', 'ClinVarVariant:200465', 'OMIM:180297.0006', 'OMIM:191740.0023', 'OMIM:251170.0018', 'OMIM:613899.0006', 'OMIM:607961.0004', 'OMIM:604896.0007', 'OMIM:607001.0004', 'OMIM:152427.0002', 'OMIM:113811.0007', 'OMIM:185470.0018', 'OMIM:120180.0001', 'OMIM:614041.0006', 'OMIM:601736.0001', 'OMIM:305900.0001', 'OMIM:300836.0013', 'OMIM:600220.0003', 'OMIM:600702.0009', 'OMIM:190160.0023', 'OMIM:137070.0005', 'OMIM:147470.0003', 'OMIM:187380.0001', 'OMIM:180901.0002', 'OMIM:604610.0004', 'OMIM:605925.0005', 'OMIM:191170.0001', 'OMIM:613521.0008', 'OMIM:606977.0004', 'OMIM:607182.0003', 'OMIM:137192.0008', 'OMIM:600185.0015', 'OMIM:124092.0001', 'OMIM:608103.0005', 'OMIM:120180.0014', 'OMIM:160780.0002', 'OMIM:300005.0006', 'OMIM:606687.0002', 'dbSNP:rs7829759', 'OMIM:612283.0015', 'OMIM:107680.0024', 'OMIM:171640.0001', 'OMIM:601692.0012', 'OMIM:614631.0014', 'OMIM:602676.0001', 'OMIM:600726.0011', 'OMIM:612515.0004', 'OMIM:172100.0001', 'OMIM:154235.0004', 'OMIM:120150.0050', 'OMIM:607056.0003', 'dbSNP:rs61883261', 'OMIM:104225.0002', 'ClinVarVariant:585008', 'OMIM:300841.0071', 'OMIM:610516.0003', 'OMIM:601015.0009', 'OMIM:189967.0001', 'OMIM:300746.0046', 'OMIM:613349.0039', 'OMIM:600698.0003', 'OMIM:120190.0004', 'OMIM:611654.0006', 'OMIM:609661.0004', 'OMIM:191740.0020', 'OMIM:617612.0001', 'OMIM:609575.0010', 'OMIM:610595.0001', 'OMIM:608668.0005', 'OMIM:601924.0001', 'OMIM:300573.0001', 'OMIM:612465.0002', 'OMIM:608183.0003', 'OMIM:604546.0009', 'OMIM:300642.0002', 'OMIM:300032.0004', 'OMIM:176300.0009', 'OMIM:157129.0003', 'dbSNP:rs6912975', 'OMIM:123580.0007', 'OMIM:601240.0005', 'dbSNP:rs478597', 'OMIM:602332.0001', 'OMIM:608884.0003', 'OMIM:608990.0001', 'OMIM:602635.0016', 'OMIM:300798.0005', 'OMIM:147557.0009', 'OMIM:142989.0015', 'OMIM:301870.0004', 'OMIM:147450.0021', 'OMIM:611951.0002', 'OMIM:102560.0003', 'OMIM:614270.0003', 'ClinVarVariant:13878', 'OMIM:607393.0008', 'OMIM:139150.0003', 'OMIM:141900.0266', 'OMIM:170261.0004', 'OMIM:612186.0002', 'OMIM:600179.0005', 'OMIM:104311.0002', 'OMIM:141900.0313', 'OMIM:613420.0001', 'OMIM:600509.0029', 'OMIM:610826.0008', 'dbSNP:rs4149228', 'OMIM:176943.0039', 'OMIM:600053.0007', 'OMIM:613893.0007', 'OMIM:607522.0004', 'OMIM:615288.0001', 'OMIM:305900.0057', 'OMIM:192340.0007', 'OMIM:604214.0004', 'OMIM:120900.0005', 'OMIM:300300.0005', 'OMIM:120120.0009', 'OMIM:606686.0008', 'OMIM:601860.0012', 'ClinVarVariant:666292', 'OMIM:605073.0005', 'OMIM:608124.0010', 'OMIM:176260.0007', 'OMIM:602591.0002', 'OMIM:601728.0039', 'OMIM:607647.0003', 'OMIM:300427.0001', 'ClinVarVariant:857364', 'OMIM:608256.0002', 'OMIM:516000.0013', 'OMIM:603157.0001', 'ClinVarVariant:38491', 'OMIM:606938.0015', 'OMIM:610345.0001', 'OMIM:608075.0002', 'dbSNP:rs4848939', 'OMIM:120650.0003', 'OMIM:605371.0002', 'ClinVarVariant:468705', 'OMIM:612659.0007', 'OMIM:177400.0009', 'OMIM:608248.0004', 'OMIM:131242.0002', 'OMIM:300841.0262', 'OMIM:151385.0010', 'OMIM:608102.0005', 'OMIM:113703.0001', 'OMIM:107400.0030', 'OMIM:139320.0009', 'OMIM:608375.0005', 'OMIM:601567.0004', 'OMIM:602121.0006', 'OMIM:300377.0012', 'OMIM:182888.0001', 'OMIM:138140.0021', 'OMIM:603868.0003', 'OMIM:123631.0003', 'OMIM:607776.0003', 'OMIM:107730.0001', 'OMIM:600946.0022', 'OMIM:516002.0003', 'OMIM:605431.0001', 'OMIM:609661.0012', 'OMIM:194363.0009', 'OMIM:608212.0001', 'OMIM:612636.0001', 'dbSNP:rs11931812', 'OMIM:600073.0002', 'OMIM:608136.0001', 'OMIM:610194.0004', 'OMIM:600163.0019', 'OMIM:605232.0006', 'OMIM:300180.0005', 'OMIM:176801.0013', 'OMIM:601728.0006', 'OMIM:173350.0009', 'OMIM:300457.0003', 'OMIM:107741.0020', 'OMIM:604373.0010', 'OMIM:611927.0012', 'OMIM:602346.0009', 'OMIM:606410.0003', 'OMIM:601728.0043', 'OMIM:614194.0001', 'OMIM:136352.0007', 'OMIM:607875.0003', 'OMIM:148070.0001', 'OMIM:601691.0002', 'OMIM:607428.0002', 'dbSNP:rs10913472', 'OMIM:300386.0006', 'OMIM:601404.0002', 'OMIM:141800.0011', 'OMIM:600502.0001', 'OMIM:600568.0002', 'OMIM:120580.0001', 'OMIM:114021.0001', 'OMIM:601313.0003', 'OMIM:171833.0005', 'OMIM:612035.0007', 'OMIM:300075.0022', 'OMIM:604217.0001', 'OMIM:601284.0011', 'OMIM:600635.0006', 'OMIM:606869.0036', 'OMIM:607817.0001', 'OMIM:603506.0005', 'OMIM:607273.0005', 'OMIM:607542.0022', 'OMIM:139313.0003', 'OMIM:617491.0001', 'OMIM:113705.0032', 'dbSNP:rs11997721', 'OMIM:605145.0005', 'OMIM:116820.0001', 'OMIM:300139.0001', 'dbSNP:rs72790443', 'OMIM:617413.0005', 'OMIM:612280.0006', 'OMIM:606630.0001', 'OMIM:158105.0001', 'OMIM:102576.0007', 'OMIM:604267.0002', 'OMIM:600570.0004', 'OMIM:607830.0005', 'OMIM:606351.0001', 'OMIM:126065.0005', 'OMIM:613160.0039', 'OMIM:613349.0012', 'OMIM:608441.0012', 'OMIM:607223.0001', 'OMIM:601313.0010', 'OMIM:142994.0003', 'OMIM:614771.0001', 'OMIM:162080.0002', 'OMIM:142600.0005', 'OMIM:602129.0001', 'OMIM:613858.0006', 'OMIM:123101.0005', 'OMIM:141800.0087', 'OMIM:300841.0154', 'ClinVarVariant:587500', 'OMIM:615847.0003', 'OMIM:601282.0009', 'OMIM:300713.0002', 'OMIM:601218.0005', 'OMIM:609471.0008', 'OMIM:600291.0005', 'OMIM:612732.0010', 'OMIM:177060.0004', 'OMIM:602991.0010', 'OMIM:103020.0004', 'OMIM:605018.0003', 'OMIM:610513.0004', 'OMIM:607752.0003', 'OMIM:608374.0001', 'OMIM:608107.0012', 'OMIM:300415.0001', 'dbSNP:rs153091', 'OMIM:610859.0002', 'OMIM:603667.0001', 'OMIM:606869.0039', 'OMIM:123980.0001', 'OMIM:609557.0001', 'ClinVarVariant:427598', 'OMIM:191160.0004', 'OMIM:602821.0008', 'OMIM:606873.0017', 'OMIM:176946.0002', 'OMIM:602121.0001', 'OMIM:602460.0003', 'OMIM:116840.0005', 'ClinVarVariant:262930', 'OMIM:173490.0003', 'OMIM:615847.0004', 'OMIM:120160.0043', 'OMIM:610991.0002', 'OMIM:308000.0037', 'OMIM:603009.0007', 'OMIM:600163.0017', 'OMIM:602533.0003', 'OMIM:616615.0001', 'OMIM:607093.0012', 'dbSNP:rs34339117', 'OMIM:602498.0001', 'OMIM:106180.0001', 'OMIM:300836.0010', 'OMIM:611204.0004', 'OMIM:105590.0002', 'dbSNP:rs2708377', 'OMIM:615585.0005', 'OMIM:590050.0012', 'OMIM:611935.0006', 'OMIM:609708.0015', 'OMIM:603415.0004', 'OMIM:302910.0003', 'OMIM:120150.0057', 'OMIM:134790.0014', 'OMIM:617095.0002', 'OMIM:600221.0002', 'OMIM:608630.0010', 'OMIM:615635.0001', 'dbSNP:rs552308765', 'OMIM:608892.0008', 'OMIM:561000.0003', 'OMIM:607009.0008', 'OMIM:613278.0004', 'OMIM:601728.0010', 'OMIM:148080.0011', 'OMIM:613160.0009', 'dbSNP:rs3748731', 'ClinVarVariant:477518', 'OMIM:609512.0003', 'OMIM:618994.0006', 'dbSNP:rs10769945', 'OMIM:609595.0002', 'OMIM:612866.0001', 'OMIM:109270.0032', 'OMIM:171834.0010', 'OMIM:603273.0014', 'OMIM:182860.0017', 'OMIM:602650.0007', 'OMIM:603295.0001', 'OMIM:605522.0016', 'OMIM:600937.0020', 'OMIM:147670.0034', 'OMIM:603377.0024', 'OMIM:600783.0003', 'OMIM:604780.0001', 'OMIM:103072.0001', 'OMIM:600827.0014', 'OMIM:608414.0008', 'OMIM:610512.0004', 'OMIM:600011.0012', 'dbSNP:rs315270186', 'OMIM:155541.0011', 'OMIM:600660.0004', 'ClinVarVariant:92994', 'OMIM:600829.0007', 'OMIM:164757.0019', 'OMIM:104614.0007', 'OMIM:604312.0002', 'OMIM:603848.0001', 'OMIM:606463.0013', 'dbSNP:rs17641078', 'OMIM:608348.0008', 'OMIM:601089.0002', 'OMIM:609309.0016', 'OMIM:610285.0006', 'OMIM:601263.0002', 'OMIM:601691.0029', 'OMIM:603701.0005', 'OMIM:603405.0001', 'OMIM:603107.0003', 'OMIM:611153.0004', 'OMIM:608648.0002', 'OMIM:607512.0001', 'OMIM:120180.0009', 'OMIM:613878.0001', 'OMIM:192090.0022', 'OMIM:190182.0012', 'OMIM:608160.0015', 'OMIM:603795.0003', 'OMIM:300032.0021', 'OMIM:607207.0010', 'OMIM:607776.0004', 'OMIM:608552.0002', 'OMIM:616146.0006', 'OMIM:608103.0008', 'OMIM:613878.0014', 'OMIM:176876.0007', 'OMIM:300265.0008', 'OMIM:305900.0056', 'OMIM:611177.0005', 'OMIM:134934.0033', 'OMIM:601542.0010', 'ClinVarVariant:976250', 'OMIM:607839.0018', 'OMIM:602533.0006', 'OMIM:604588.0003', 'OMIM:188830.0013', 'OMIM:182125.0007', 'OMIM:248611.0005', 'OMIM:616899.0001', 'OMIM:300798.0006', 'OMIM:612802.0004', 'OMIM:264900.0005', 'OMIM:300017.0008', 'OMIM:606945.0022', 'OMIM:602717.0002', 'OMIM:604144.0009', 'OMIM:605195.0001', 'OMIM:614829.0003', 'OMIM:605290.0015', 'OMIM:602292.0007', 'OMIM:176300.0014', 'OMIM:600119.0005', 'OMIM:611729.0001', 'OMIM:610986.0001', 'OMIM:600877.0001', 'OMIM:605131.0010', 'OMIM:251170.0019', 'OMIM:605460.0004', 'OMIM:605712.0005', 'OMIM:608378.0003', 'OMIM:107300.0031', 'OMIM:614140.0004', 'OMIM:604649.0006', 'OMIM:125660.0011', 'ClinVarVariant:424961', 'OMIM:616842.0003', 'OMIM:604577.0002', 'dbSNP:rs11574703', 'OMIM:600235.0008', 'OMIM:600733.0003', 'OMIM:165240.0020', 'ClinVarVariant:389365', 'OMIM:190070.0009', 'OMIM:606037.0002', 'OMIM:610087.0007', 'OMIM:607574.0046', 'ClinVarVariant:267289', 'OMIM:605981.0003', 'OMIM:601687.0006', 'OMIM:123930.0003', 'OMIM:606419.0009', 'OMIM:610142.0002', 'OMIM:605427.0019', 'OMIM:300473.0002', 'OMIM:603157.0002', 'OMIM:609309.0019', 'ClinVarVariant:614641', 'OMIM:602480.0005', 'OMIM:617083.0004', 'OMIM:617362.0001', 'OMIM:608005.0010', 'OMIM:606718.0008', 'OMIM:607365.0004', 'OMIM:172405.0005', 'OMIM:605546.0002', 'OMIM:602544.0016', 'OMIM:603009.0016', 'OMIM:602617.0001', 'OMIM:608958.0020', 'OMIM:615623.0001', 'OMIM:613403.0002', 'OMIM:164350.0001', 'OMIM:605204.0003', 'OMIM:600037.0005', 'OMIM:605427.0027', 'OMIM:604733.0005', 'OMIM:612800.0003', 'OMIM:601269.0004', 'OMIM:126391.0002', 'OMIM:600799.0006', 'OMIM:608243.0001', 'OMIM:613113.0040', 'OMIM:604933.0009', 'OMIM:602900.0001', 'OMIM:600958.0028', 'OMIM:603506.0003', 'OMIM:300269.0006', 'OMIM:191342.0003', 'OMIM:606765.0002', 'OMIM:516002.0004', 'OMIM:604581.0010', 'OMIM:141850.0026', 'OMIM:610355.0002', 'OMIM:603184.0001', 'OMIM:606945.0019', 'OMIM:182389.0009', 'OMIM:191327.0003', 'ClinVarVariant:39420', 'OMIM:607542.0014', 'OMIM:107820.0002', 'OMIM:300644.0012', 'dbSNP:rs17281813', 'OMIM:601819.0003', 'OMIM:605286.0004', 'dbSNP:rs4416719', 'OMIM:276903.0017', 'OMIM:605489.0001', 'OMIM:611101.0002', 'OMIM:603415.0006', 'OMIM:300080.0002', 'OMIM:604580.0007', 'OMIM:615247.0001', 'OMIM:602650.0005', 'OMIM:607542.0026', 'OMIM:600733.0001', 'OMIM:121014.0023', 'OMIM:300095.0002', 'ClinVarVariant:430847', 'OMIM:614243.0001', 'OMIM:606014.0002', 'OMIM:608667.0006', 'OMIM:601728.0003', 'OMIM:120436.0006', 'OMIM:610936.0001', 'OMIM:176801.0002', 'OMIM:603196.0009', 'OMIM:615003.0006', 'OMIM:176880.0007', 'OMIM:160720.0017', 'dbSNP:rs6440667', 'OMIM:608884.0004', 'OMIM:300463.0007', 'OMIM:602360.0006', 'OMIM:112264.0006', 'OMIM:600827.0006', 'OMIM:600359.0001', 'OMIM:603708.0003', 'OMIM:602216.0016', 'ClinVarVariant:477590', 'OMIM:600946.0021', 'OMIM:181031.0005', 'OMIM:611204.0005', 'OMIM:600129.0006', 'OMIM:605420.0009', 'OMIM:139350.0008', 'OMIM:141800.0055', 'OMIM:606869.0053', 'OMIM:164757.0003', 'OMIM:604983.0003', 'OMIM:601530.0005', 'OMIM:605763.0001', 'OMIM:300841.0008', 'OMIM:600725.0012', 'OMIM:147265.0002', 'OMIM:602858.0014', 'OMIM:120140.0010', 'OMIM:606945.0021', 'OMIM:601011.0009', 'OMIM:609806.0025', 'OMIM:607697.0003', 'OMIM:606075.0014', 'OMIM:614191.0009', 'OMIM:600599.0009', 'OMIM:614998.0010', 'OMIM:600712.0004', 'OMIM:308000.0055', 'OMIM:603123.0002', 'OMIM:107730.0015', 'OMIM:604570.0001', 'OMIM:148069.0006', 'OMIM:606978.0001', 'OMIM:300391.0005', 'OMIM:600035.0004', 'OMIM:603100.0006', 'OMIM:602207.0003', 'OMIM:161650.0008', 'OMIM:605014.0002', 'OMIM:607696.0005', 'OMIM:604210.0002', 'OMIM:606075.0015', 'OMIM:603273.0029', 'OMIM:601734.0003', 'OMIM:603504.0004', 'OMIM:604134.0017', 'OMIM:141800.0018', 'OMIM:607002.0005', 'OMIM:133510.0002', 'OMIM:155760.0008', 'OMIM:300841.0226', 'OMIM:617371.0003', 'OMIM:600982.0002', 'OMIM:613497.0002', 'OMIM:300011.0010', 'OMIM:611177.0003', 'OMIM:602956.0006', 'OMIM:141900.0108', 'OMIM:607261.0012', 'OMIM:611492.0005', 'OMIM:603335.0009', 'OMIM:120130.0019', 'OMIM:609196.0001', 'OMIM:608697.0002', 'OMIM:608283.0003', 'OMIM:603196.0003', 'OMIM:608160.0014', 'OMIM:603400.0004', 'OMIM:602703.0001', 'OMIM:611542.0011', 'OMIM:612866.0002', 'OMIM:600225.0005', 'OMIM:606672.0003', 'OMIM:614397.0003', 'OMIM:612805.0001', 'ClinVarVariant:247523', 'OMIM:604521.0001', 'OMIM:139311.0009', 'OMIM:606152.0002', 'OMIM:601609.0001', 'OMIM:104160.0005', 'OMIM:611458.0001', 'OMIM:605518.0004', 'OMIM:606686.0006', 'OMIM:152427.0017', 'OMIM:604982.0002', 'OMIM:605610.0005', 'OMIM:615847.0002', 'OMIM:600163.0009', 'OMIM:605239.0011', 'ClinVarVariant:940879', 'OMIM:607423.0008', 'OMIM:600897.0001', 'OMIM:606973.0002', 'OMIM:614647.0010', 'OMIM:102560.0001', 'OMIM:171060.0006', 'OMIM:609708.0011', 'OMIM:605522.0018', 'OMIM:176730.0002', 'OMIM:300746.0097', 'OMIM:608272.0014', 'OMIM:312040.0005', 'OMIM:602671.0013', 'OMIM:601002.0001', 'OMIM:613171.0001', 'OMIM:150292.0002', 'OMIM:600480.0003', 'OMIM:604490.0008', 'OMIM:608537.0005', 'OMIM:180901.0026', 'OMIM:607955.0005', 'dbSNP:rs13269021', 'OMIM:142000.0006', 'OMIM:603892.0004', 'OMIM:139320.0039', 'dbSNP:rs10937913', 'ClinVarVariant:44499', 'OMIM:615462.0001', 'OMIM:190070.0014', 'OMIM:134797.0001', 'ClinVarVariant:838209', 'OMIM:300823.0002', 'OMIM:309060.0009', 'OMIM:300371.0020', 'OMIM:120215.0011', 'OMIM:300746.0103', 'dbSNP:rs1694977', 'OMIM:147582.0003', 'OMIM:146920.0005', 'OMIM:606633.0002', 'OMIM:600046.0011', 'OMIM:600259.0004', 'OMIM:308000.0033', 'OMIM:153456.0001', 'OMIM:614984.0004', 'OMIM:138040.0002', 'OMIM:604488.0001', 'OMIM:616615.0003', 'OMIM:607144.0009', 'OMIM:605557.0006', 'OMIM:193001.0001', 'OMIM:134770.0001', 'OMIM:300401.0027', 'OMIM:142250.0001', 'OMIM:604395.0003', 'OMIM:125671.0004', 'OMIM:603297.0011', 'OMIM:120150.0032', 'OMIM:601620.0010', 'OMIM:174763.0021', 'OMIM:300746.0080', 'OMIM:604985.0001', 'OMIM:141800.0111', 'OMIM:606718.0012', 'OMIM:607901.0002', 'OMIM:609237.0001', 'OMIM:613349.0023', 'OMIM:603372.0026', 'OMIM:164790.0008', 'OMIM:604649.0002', 'OMIM:184420.0003', 'OMIM:139396.0002', 'OMIM:613878.0002', 'OMIM:612182.0004', 'OMIM:109270.0027', 'OMIM:608547.0005', 'OMIM:608160.0018', 'OMIM:608892.0003', 'OMIM:238331.0001', 'OMIM:605764.0001', 'OMIM:610436.0007', 'OMIM:618163.0005', 'dbSNP:rs11655081', 'ClinVarVariant:208554', 'dbSNP:rs2236824', 'dbSNP:rs8001976', 'OMIM:300032.0020', 'OMIM:604588.0006', 'OMIM:611052.0005', 'OMIM:600805.0003', 'OMIM:605423.0003', 'ClinVarVariant:189415', 'OMIM:606558.0001', 'OMIM:602667.0009', 'OMIM:602410.0008', 'dbSNP:rs60349741', 'ClinVarVariant:242512', 'OMIM:605522.0010', 'OMIM:300841.0072', 'OMIM:606834.0005', 'OMIM:160740.0005', 'OMIM:613541.0003', 'OMIM:305900.0011', 'OMIM:603681.0006', 'OMIM:616112.0003', 'OMIM:600673.0001', 'OMIM:608706.0001', 'OMIM:607407.0003', 'OMIM:600228.0004', 'OMIM:601545.0006', 'OMIM:300473.0001', 'OMIM:167415.0007', 'OMIM:182391.0001', 'OMIM:607435.0001', 'OMIM:300526.0001', 'OMIM:120900.0003', 'OMIM:606833.0004', 'OMIM:613619.0005', 'OMIM:609449.0002', 'OMIM:604041.0005', 'OMIM:610512.0001', 'OMIM:604417.0003', 'OMIM:607423.0004', 'OMIM:146738.0004', 'OMIM:609512.0002', 'OMIM:615068.0008', 'OMIM:516030.0005', 'OMIM:605713.0002', 'OMIM:176300.0022', 'OMIM:606144.0002', 'OMIM:121011.0023', 'OMIM:605629.0001', 'OMIM:300371.0023', 'OMIM:614258.0001', 'dbSNP:rs11167062', 'OMIM:300248.0030', 'OMIM:142220.0001', 'OMIM:604260.0002', 'OMIM:617612.0004', 'OMIM:181031.0002', 'OMIM:603381.0013', 'OMIM:314690.0003', 'OMIM:159440.0004', 'OMIM:605284.0009', 'OMIM:604237.0003', 'OMIM:609414.0003', 'OMIM:616146.0005', 'OMIM:300841.0057', 'OMIM:603377.0018', 'OMIM:602441.0001', 'OMIM:300205.0010', 'OMIM:605516.0001', 'OMIM:606800.0007', 'OMIM:615587.0004', 'OMIM:125647.0011', 'OMIM:114105.0004', 'OMIM:609314.0004', 'OMIM:610271.0004', 'OMIM:606596.0011', 'OMIM:137295.0016', 'OMIM:602997.0005', 'OMIM:303630.0009', 'OMIM:300746.0093', 'OMIM:606582.0001', 'OMIM:179615.0024', 'OMIM:609661.0011', 'OMIM:590105.0001', 'OMIM:604834.0007', 'OMIM:180380.0029', 'OMIM:142250.0021', 'OMIM:610206.0005', 'OMIM:606597.0004', 'OMIM:608507.0020', 'OMIM:617558.0001', 'OMIM:609575.0003', 'OMIM:609347.0003', 'OMIM:147569.0005', 'OMIM:159990.0002', 'OMIM:608083.0009', 'OMIM:615283.0001', 'OMIM:606869.0041', 'OMIM:314370.0003', 'OMIM:104750.0002', 'OMIM:610732.0001', 'OMIM:617220.0002', 'OMIM:191092.0014', 'OMIM:606489.0002', 'OMIM:123870.0001', 'OMIM:605131.0007', 'OMIM:300628.0002', 'OMIM:131290.0001', 'OMIM:610531.0002', 'OMIM:606761.0003', 'OMIM:602218.0011', 'OMIM:184745.0007', 'OMIM:601411.0005', 'OMIM:608894.0011', 'dbSNP:rs186178198', 'OMIM:305900.0014', 'OMIM:609412.0004', 'dbSNP:rs113731242', 'OMIM:614661.0003', 'OMIM:311850.0023', 'OMIM:608512.0007', 'OMIM:107280.0003', 'OMIM:180071.0003', 'OMIM:600970.0002', 'OMIM:109690.0002', 'OMIM:300841.0084', 'OMIM:614785.0005', 'OMIM:168470.0003', 'OMIM:614351.0001', 'OMIM:600528.0002', 'OMIM:102565.0001', 'OMIM:300197.0007', 'OMIM:300841.0180', 'OMIM:148040.0004', 'OMIM:601542.0004', 'OMIM:613541.0006', 'OMIM:611170.0002', 'ClinVarVariant:264661', 'OMIM:602544.0018', 'OMIM:141850.0047', 'ClinVarVariant:468665', 'OMIM:314370.0002', 'ClinVarVariant:477512', 'ClinVarVariant:246096', 'OMIM:600037.0014', 'OMIM:618865.0005', 'OMIM:607331.0002', 'OMIM:609132.0002', 'OMIM:138491.0008', 'OMIM:601565.0004', 'OMIM:300485.0007', 'OMIM:311870.0005', 'OMIM:602876.0002', 'OMIM:150370.0006', 'OMIM:107300.0010', 'OMIM:614571.0006', 'OMIM:606470.0001', 'OMIM:602421.0055', 'OMIM:114220.0004', 'OMIM:603381.0006', 'OMIM:600584.0013', 'OMIM:300821.0005', 'OMIM:610538.0002', 'OMIM:605789.0002', 'OMIM:120110.0007', 'OMIM:606397.0001', 'OMIM:190195.0002', 'OMIM:613629.0010', 'OMIM:147679.0005', 'dbSNP:rs2011905', 'OMIM:603799.0008', 'OMIM:610206.0018', 'OMIM:600983.0009', 'OMIM:614784.0003', 'ClinVarVariant:181238', 'OMIM:607693.0002', 'OMIM:126375.0001', 'OMIM:191044.0014', 'OMIM:141800.0208', 'OMIM:615743.0007', 'OMIM:604902.0003', 'OMIM:312865.0001', 'OMIM:300163.0002', 'OMIM:176262.0001', 'OMIM:612374.0001', 'OMIM:613349.0020', 'OMIM:608892.0005', 'OMIM:613352.0001', 'OMIM:141800.0209', 'ClinVarVariant:279614', 'OMIM:300311.0001', 'OMIM:602861.0004', 'OMIM:300384.0008', 'OMIM:610550.0007', 'OMIM:152427.0026', 'OMIM:604611.0002', 'OMIM:608416.0010', 'OMIM:605516.0019', 'OMIM:615738.0002', 'OMIM:609332.0002', 'OMIM:182350.0009', 'dbSNP:rs140596460', 'OMIM:618085.0002', 'OMIM:602690.0016', 'OMIM:191845.0002', 'OMIM:300603.0001', 'OMIM:107323.0003', 'OMIM:606597.0012', 'OMIM:121013.0002', 'OMIM:176876.0022', 'OMIM:150325.0007', 'OMIM:600073.0008', 'OMIM:607008.0004', 'OMIM:605925.0003', 'OMIM:142000.0041', 'OMIM:610363.0002', 'OMIM:601802.0009', 'ClinVarVariant:594139', 'OMIM:615585.0007', 'OMIM:300111.0001', 'OMIM:615345.0001', 'OMIM:601570.0002', 'OMIM:608896.0002', 'OMIM:600163.0047', 'OMIM:601218.0002', 'OMIM:604705.0003', 'OMIM:300120.0001', 'OMIM:611731.0023', 'OMIM:600574.0002', 'OMIM:251170.0007', 'OMIM:607397.0010', 'OMIM:605420.0001', 'OMIM:612570.0004', 'dbSNP:rs4502542', 'OMIM:610804.0002', 'ClinVarVariant:974626', 'OMIM:603861.0001', 'OMIM:613932.0002', 'OMIM:608465.0012', 'OMIM:601105.0006', 'OMIM:616982.0002', 'OMIM:603273.0004', 'OMIM:601405.0003', 'OMIM:602694.0002', 'OMIM:609377.0001', 'OMIM:600727.0001', 'OMIM:120110.0015', 'OMIM:613858.0010', 'OMIM:120470.0008', 'OMIM:610956.0004', 'OMIM:610277.0008', 'OMIM:602656.0002', 'OMIM:607882.0004', 'OMIM:607522.0002', 'OMIM:614632.0003', 'OMIM:613726.0007', 'OMIM:600040.0003', 'ClinVarVariant:637576', 'OMIM:600279.0002', 'OMIM:602630.0005', 'OMIM:602208.0001', 'OMIM:607059.0005', 'OMIM:605799.0002', 'OMIM:604844.0001', 'OMIM:120140.0001', 'OMIM:608706.0002', 'OMIM:604313.0003', 'OMIM:114078.0002', 'OMIM:120360.0004', 'OMIM:610219.0007', 'OMIM:134580.0004', 'OMIM:604277.0022', 'OMIM:600897.0003', 'OMIM:609332.0003', 'OMIM:102630.0005', 'dbSNP:rs150144185', 'OMIM:609708.0039', 'OMIM:161650.0007', 'OMIM:600235.0006', 'OMIM:612688.0002', 'OMIM:604134.0004', 'OMIM:612907.0004', 'OMIM:609557.0004', 'OMIM:606822.0007', 'OMIM:604223.0008', 'OMIM:604485.0005', 'OMIM:138210.0005', 'OMIM:609868.0006', 'OMIM:107323.0004', 'OMIM:160760.0036', 'ClinVarVariant:28994', 'ClinVarVariant:577958', 'OMIM:191350.0007', 'OMIM:600276.0018', 'OMIM:603506.0010', 'OMIM:190160.0018', 'OMIM:609007.0008', 'OMIM:606672.0004', 'OMIM:602839.0003', 'ClinVarVariant:171716', 'OMIM:137150.0001', 'OMIM:614312.0001', 'OMIM:600163.0040', 'OMIM:606945.0012', 'OMIM:130410.0001', 'OMIM:611539.0001', 'OMIM:608801.0006', 'OMIM:601309.0007', 'OMIM:107730.0006', 'OMIM:300163.0001', 'OMIM:600276.0001', 'OMIM:107777.0008', 'ClinVarVariant:92942', 'OMIM:180090.0002', 'OMIM:605514.0001', 'ClinVarVariant:660619', 'OMIM:613577.0005', 'OMIM:606870.0007', 'OMIM:616899.0007', 'OMIM:176260.0009', 'OMIM:607243.0003', 'OMIM:613555.0006', 'OMIM:604101.0007', 'OMIM:300839.0005', 'OMIM:616120.0001', 'OMIM:610224.0001', 'OMIM:120180.0038', 'ClinVarVariant:406224', 'OMIM:604473.0003', 'OMIM:601912.0001', 'OMIM:607939.0002', 'OMIM:122500.0002', 'OMIM:613872.0001', 'OMIM:601728.0024', 'OMIM:607590.0004', 'OMIM:104150.0001', 'OMIM:604638.0001', 'OMIM:605557.0003', 'ClinVarVariant:45814', 'OMIM:600576.0013', 'OMIM:603968.0012', 'OMIM:187270.0014', 'OMIM:138700.0001', 'OMIM:605237.0001', 'OMIM:606810.0009', 'OMIM:141800.0104', 'OMIM:602053.0006', 'OMIM:610647.0001', 'OMIM:300011.0005', 'OMIM:480000.0008', 'OMIM:609842.0001', 'OMIM:137160.0006', 'OMIM:606268.0008', 'ClinVarVariant:940044', 'OMIM:107300.0037', 'OMIM:602146.0001', 'OMIM:611345.0001', 'OMIM:606806.0004', 'dbSNP:rs183717966', 'OMIM:612277.0007', 'OMIM:601925.0001', 'OMIM:116840.0002', 'OMIM:600599.0003', 'OMIM:605880.0004', 'OMIM:613599.0002', 'OMIM:138040.0010', 'OMIM:601671.0003', 'OMIM:607300.0006', 'OMIM:613577.0009', 'OMIM:614958.0003', 'OMIM:164860.0013', 'OMIM:605955.0002', 'OMIM:300841.0177', 'OMIM:300390.0002', 'ClinVarVariant:197987', 'OMIM:600722.0005', 'OMIM:603214.0003', 'dbSNP:rs4706938', 'OMIM:300841.0144', 'OMIM:107400.0028', 'OMIM:603301.0002', 'OMIM:139313.0007', 'OMIM:615623.0003', 'OMIM:612349.0034', 'OMIM:614297.0007', 'OMIM:602544.0023', 'OMIM:141800.0119', 'ClinVarVariant:225406', 'OMIM:613602.0014', 'OMIM:610044.0002', 'OMIM:141900.0380', 'ClinVarVariant:431887', 'dbSNP:rs11937061', 'OMIM:131340.0001', 'OMIM:603370.0003', 'dbSNP:rs2901331', 'OMIM:607393.0015', 'OMIM:142994.0008', 'OMIM:602858.0013', 'OMIM:603191.0007', 'OMIM:605379.0001', 'OMIM:608107.0011', 'ClinVarVariant:265425', 'OMIM:616146.0002', 'OMIM:300841.0173', 'OMIM:601604.0005', 'dbSNP:rs112568625', 'OMIM:604346.0008', 'OMIM:609309.0026', 'OMIM:185470.0015', 'OMIM:601428.0016', 'OMIM:607854.0025', 'OMIM:601771.0005', 'ClinVarVariant:38962', 'OMIM:603263.0001', 'OMIM:605610.0006', 'OMIM:300180.0007', 'OMIM:606462.0001', 'OMIM:133520.0005', 'OMIM:607574.0042', 'OMIM:610285.0005', 'OMIM:121011.0032', 'OMIM:313700.0054', 'OMIM:606119.0009', 'OMIM:118425.0014', 'OMIM:165240.0010', 'OMIM:612837.0002', 'OMIM:602860.0011', 'OMIM:602115.0001', 'OMIM:609883.0006', 'OMIM:609332.0012', 'OMIM:602216.0001', 'ClinVarVariant:29173', 'OMIM:605753.0001', 'OMIM:602207.0005', 'OMIM:113705.0041', 'OMIM:171800.0001', 'OMIM:120130.0016', 'OMIM:276903.0011', 'OMIM:107470.0014', 'OMIM:601593.0001', 'OMIM:191040.0001', 'OMIM:312040.0001', 'dbSNP:rs13027837', 'OMIM:300011.0016', 'OMIM:160710.0003', 'OMIM:616615.0004', 'OMIM:606083.0001', 'OMIM:142410.0015', 'OMIM:605515.0005', 'OMIM:601566.0002', 'OMIM:100850.0012', 'OMIM:176640.0016', 'OMIM:300401.0011', 'OMIM:602959.0002', 'OMIM:610363.0001', 'OMIM:134371.0001', 'OMIM:603921.0004', 'OMIM:187011.0002', 'OMIM:300841.0012', 'OMIM:176941.0001', 'OMIM:107730.0002', 'ClinVarVariant:220115', 'OMIM:106180.0005', 'OMIM:608633.0001', 'OMIM:134629.0002', 'OMIM:604705.0008', 'OMIM:607059.0002', 'OMIM:611184.0014', 'OMIM:604296.0004', 'OMIM:608517.0009', 'OMIM:612349.0019', 'OMIM:107269.0001', 'OMIM:608897.0002', 'ClinVarVariant:5493', 'OMIM:590060.0002', 'OMIM:605921.0011', 'OMIM:141900.0119', 'dbSNP:rs8014194', 'OMIM:108370.0006', 'ClinVarVariant:33008', 'OMIM:103950.0003', 'OMIM:601313.0015', 'OMIM:608833.0019', 'OMIM:141900.0093', 'OMIM:605378.0008', 'OMIM:248610.0008', 'OMIM:608958.0008', 'OMIM:137160.0003', 'OMIM:138890.0001', 'OMIM:104311.0009', 'OMIM:607945.0001', 'OMIM:608160.0017', 'OMIM:177075.0001', 'OMIM:300300.0044', 'OMIM:135600.0002', 'dbSNP:rs4569005', 'OMIM:608025.0002', 'OMIM:190070.0013', 'OMIM:603503.0002', 'OMIM:602238.0002', 'OMIM:104311.0025', 'OMIM:609014.0010', 'OMIM:141800.0067', 'OMIM:185470.0006', 'OMIM:616327.0004', 'OMIM:160760.0022', 'OMIM:602377.0002', 'OMIM:180380.0039', 'OMIM:609280.0002', 'OMIM:606681.0010', 'OMIM:606933.0029', 'OMIM:601094.0007', 'OMIM:612034.0003', 'OMIM:602109.0006', 'OMIM:606201.0011', 'ClinVarVariant:25541', 'OMIM:609373.0002', 'OMIM:603415.0012', 'OMIM:600576.0001', 'OMIM:605609.0002', 'OMIM:602662.0008', 'OMIM:614138.0001', 'OMIM:601421.0007', 'OMIM:141800.0076', 'OMIM:600963.0004', 'OMIM:601199.0020', 'OMIM:601758.0006', 'OMIM:134797.0045', 'OMIM:612309.0007', 'OMIM:603729.0004', 'OMIM:103000.0003', 'OMIM:616658.0002', 'ClinVarVariant:17743', 'OMIM:601033.0002', 'ClinVarVariant:189023', 'dbSNP:rs4313770', 'OMIM:516060.0006', 'OMIM:608205.0001', 'dbSNP:rs7000734', 'OMIM:148040.0015', 'OMIM:613165.0014', 'OMIM:614848.0004', 'OMIM:123860.0001', 'OMIM:606933.0013', 'OMIM:600937.0022', 'dbSNP:rs149386674', 'OMIM:603833.0001', 'OMIM:120120.0026', 'OMIM:608750.0001', 'OMIM:142000.0024', 'OMIM:613409.0005', 'OMIM:300451.0019', 'OMIM:618586.0002', 'dbSNP:rs4591272', 'OMIM:602365.0010', 'OMIM:610924.0001', 'ClinVarVariant:178311', 'OMIM:603024.0006', 'OMIM:590050.0008', 'OMIM:608771.0003', 'OMIM:600702.0014', 'OMIM:191030.0006', 'OMIM:606870.0002', 'OMIM:607352.0001', 'OMIM:607604.0007', 'OMIM:600020.0004', 'OMIM:176261.0001', 'ClinVarVariant:544691', 'OMIM:120260.0002', 'OMIM:608053.0004', 'OMIM:238310.0004', 'dbSNP:rs7170931', 'OMIM:608222.0003', 'OMIM:300647.0005', 'OMIM:165230.0010', 'OMIM:600555.0008', 'OMIM:300644.0013', 'OMIM:192090.0025', 'dbSNP:rs16938910', 'dbSNP:rs10170310', 'OMIM:609279.0002', 'OMIM:171834.0021', 'OMIM:613596.0006', 'OMIM:120940.0003', 'OMIM:603550.0005', 'OMIM:176980.0008', 'OMIM:603405.0004', 'OMIM:609762.0001', 'OMIM:139150.0007', 'dbSNP:rs2939710', 'OMIM:600957.0002', 'OMIM:300841.0086', 'OMIM:606869.0020', 'OMIM:610934.0006', 'OMIM:605739.0002', 'OMIM:194360.0001', 'OMIM:600726.0010', 'OMIM:612502.0004', 'OMIM:300172.0009', 'OMIM:613349.0028', 'OMIM:600359.0009', 'OMIM:611492.0008', 'OMIM:113810.0002', 'OMIM:120180.0032', 'OMIM:609353.0002', 'OMIM:606374.0004', 'OMIM:141900.0267', 'OMIM:612034.0002', 'OMIM:611542.0006', 'OMIM:600958.0018', 'OMIM:600618.0001', 'OMIM:605080.0003', 'ClinVarVariant:431060', 'OMIM:124080.0003', 'OMIM:120436.0015', 'OMIM:190990.0004', 'OMIM:300747.0001', 'OMIM:606890.0003', 'OMIM:603400.0006', 'OMIM:616830.0004', 'OMIM:300032.0005', 'OMIM:605257.0002', 'OMIM:603604.0011', 'OMIM:606860.0010', 'OMIM:191740.0022', 'OMIM:607102.0020', 'OMIM:136850.0005', 'ClinVarVariant:49438', 'dbSNP:rs180758259', 'OMIM:605206.0003', 'OMIM:300300.0008', 'OMIM:104311.0012', 'OMIM:606389.0001', 'OMIM:157660.0013', 'OMIM:610912.0001', 'OMIM:603214.0004', 'OMIM:601906.0002', 'OMIM:600946.0006', 'OMIM:601500.0008', 'OMIM:601500.0007', 'OMIM:605460.0008', 'OMIM:603372.0010', 'OMIM:104150.0003', 'OMIM:612349.0054', 'dbSNP:rs74762505', 'ClinVarVariant:255673', 'OMIM:120570.0003', 'OMIM:602445.0001', 'OMIM:609862.0013', 'OMIM:610937.0003', 'dbSNP:rs144042126', 'OMIM:180901.0033', 'OMIM:617486.0001', 'OMIM:602218.0005', 'OMIM:118504.0005', 'ClinVarVariant:242467', 'OMIM:194363.0003', 'OMIM:608735.0002', 'OMIM:602063.0004', 'OMIM:603400.0005', 'OMIM:606585.0002', 'OMIM:118661.0007', 'OMIM:300382.0003', 'OMIM:300036.0004', 'OMIM:608107.0015', 'OMIM:179605.0005', 'OMIM:120150.0066', 'dbSNP:rs11172247', 'OMIM:605632.0001', 'OMIM:605775.0003', 'OMIM:604580.0008', 'OMIM:107741.0010', 'OMIM:602021.0003', 'OMIM:607839.0019', 'OMIM:171834.0012', 'OMIM:603861.0004', 'OMIM:613577.0008', 'OMIM:605775.0006', 'OMIM:607002.0001', 'OMIM:608517.0010', 'OMIM:602421.0138', 'OMIM:157140.0003', 'OMIM:300017.0033', 'OMIM:606195.0002', 'OMIM:600523.0004', 'OMIM:300392.0018', 'OMIM:606999.0016', 'OMIM:608210.0008', 'OMIM:134797.0011', 'OMIM:600173.0006', 'OMIM:605958.0002', 'OMIM:300713.0001', 'ClinVarVariant:38456', 'OMIM:611642.0001', 'OMIM:608429.0005', 'OMIM:157129.0001', 'OMIM:182309.0005', 'OMIM:600946.0014', 'OMIM:606374.0001', 'OMIM:118485.0002', 'OMIM:613278.0005', 'OMIM:171760.0016', 'OMIM:613742.0010', 'OMIM:608507.0015', 'OMIM:188040.0002', 'OMIM:313700.0022', 'ClinVarVariant:36316', 'OMIM:120140.0032', 'OMIM:610937.0012', 'OMIM:114220.0001', 'OMIM:603048.0003', 'OMIM:611604.0002', 'OMIM:102576.0004', 'OMIM:608537.0008', 'OMIM:602218.0006', 'OMIM:607393.0001', 'OMIM:609506.0011', 'OMIM:146920.0012', 'OMIM:123101.0002', 'OMIM:147020.0004', 'OMIM:600374.0001', 'OMIM:607999.0005', 'OMIM:121015.0003', 'OMIM:609173.0001', 'OMIM:300823.0016', 'OMIM:613798.0001', 'dbSNP:rs17170316', 'OMIM:616144.0007', 'OMIM:606869.0044', 'OMIM:313475.0003', 'OMIM:608830.0016', 'OMIM:600179.0014', 'OMIM:608025.0003', 'OMIM:601199.0034', 'OMIM:300075.0003', 'OMIM:106180.0004', 'OMIM:606439.0007', 'OMIM:604594.0001', 'ClinVarVariant:613419', 'OMIM:606201.0026', 'OMIM:605087.0005', 'ClinVarVariant:425600', 'OMIM:300746.0015', 'OMIM:276903.0015', 'OMIM:612452.0002', 'OMIM:607939.0004', 'OMIM:601197.0001', 'OMIM:191740.0024', 'OMIM:607440.0011', 'OMIM:173470.0007', 'OMIM:614787.0008', 'OMIM:176705.0001', 'OMIM:147557.0003', 'OMIM:605743.0001', 'OMIM:608313.0006', 'OMIM:609187.0001', 'OMIM:607604.0009', 'OMIM:601280.0003', 'OMIM:612570.0006', 'OMIM:601199.0014', 'ClinVarVariant:644838', 'OMIM:141800.0168', 'dbSNP:rs873884', 'OMIM:191092.0018', 'OMIM:600838.0007', 'OMIM:603415.0021', 'OMIM:600370.0004', 'OMIM:190160.0039', 'OMIM:608679.0001', 'OMIM:607072.0001', 'OMIM:608552.0001', 'OMIM:118490.0009', 'OMIM:606879.0008', 'OMIM:618726.0005', 'OMIM:611549.0002', 'OMIM:609367.0004', 'OMIM:610362.0004', 'OMIM:300841.0137', 'OMIM:606686.0004', 'OMIM:600924.0003', 'OMIM:120328.0006', 'OMIM:611731.0007', 'OMIM:601697.0003', 'OMIM:171640.0009', 'OMIM:608307.0010', 'OMIM:607854.0026', 'OMIM:603123.0004', 'OMIM:600993.0016', 'OMIM:150325.0009', 'OMIM:606463.0042', 'dbSNP:rs2126709', 'OMIM:138140.0014', 'OMIM:603681.0002', 'OMIM:603196.0010', 'OMIM:606464.0003', 'OMIM:613121.0002', 'OMIM:613363.0005', 'OMIM:141900.0401', 'OMIM:615427.0001', 'OMIM:300197.0008', 'OMIM:607036.0005', 'OMIM:611720.0005', 'dbSNP:rs219649', 'OMIM:104760.0007', 'OMIM:608628.0005', 'OMIM:603198.0001', 'OMIM:603615.0003', 'OMIM:133520.0010', 'OMIM:191170.0015', 'OMIM:613583.0011', 'OMIM:607343.0002', 'OMIM:615600.0001', 'OMIM:138570.0001', 'dbSNP:rs72793759', 'OMIM:601538.0001', 'OMIM:608507.0005', 'OMIM:600020.0002', 'OMIM:133530.0002', 'OMIM:609145.0001', 'OMIM:601623.0002', 'OMIM:102560.0012', 'OMIM:606873.0016', 'OMIM:100720.0008', 'OMIM:601642.0001', 'OMIM:602421.0092', 'OMIM:610285.0004', 'OMIM:605237.0003', 'OMIM:120620.0001', 'OMIM:613883.0002', 'OMIM:300841.0121', 'OMIM:590075.0003', 'OMIM:300371.0022', 'OMIM:187270.0012', 'OMIM:605978.0004', 'OMIM:605113.0007', 'OMIM:190220.0001', 'OMIM:604544.0003', 'OMIM:300390.0001', 'OMIM:607295.0001', 'OMIM:614270.0001', 'OMIM:300401.0019', 'OMIM:300841.0103', 'OMIM:301870.0006', 'OMIM:600590.0001', 'OMIM:602421.0105', 'OMIM:608160.0001', 'OMIM:165360.0005', 'OMIM:603220.0003', 'OMIM:182138.0001', 'OMIM:107400.0012', 'OMIM:606142.0005', 'OMIM:141900.0346', 'OMIM:116896.0003', 'OMIM:232000.0002', 'OMIM:613160.0032', 'OMIM:602840.0001', 'OMIM:606417.0001', 'OMIM:605925.0002', 'OMIM:600211.0006', 'OMIM:602769.0007', 'OMIM:613666.0003', 'OMIM:604774.0006', 'ClinVarVariant:622830', 'OMIM:609010.0001', 'OMIM:120160.0015', 'OMIM:300628.0004', 'dbSNP:rs2055011', 'OMIM:606938.0007', 'OMIM:601717.0005', 'dbSNP:rs57792062', 'OMIM:612386.0016', 'OMIM:142983.0006', 'OMIM:610148.0002', 'OMIM:614123.0002', 'OMIM:600840.0001', 'OMIM:609245.0003', 'OMIM:147200.0002', 'OMIM:600937.0005', 'OMIM:152790.0021', 'OMIM:605646.0030', 'OMIM:182860.0010', 'OMIM:613160.0042', 'OMIM:102545.0006', 'OMIM:616178.0002', 'OMIM:100730.0007', 'OMIM:610670.0001', 'ClinVarVariant:225399', 'OMIM:120160.0040', 'OMIM:606596.0006', 'OMIM:174763.0016', 'OMIM:300839.0010', 'OMIM:300300.0006', 'OMIM:604878.0008', 'OMIM:304040.0001', 'OMIM:615720.0001', 'OMIM:605284.0004', 'ClinVarVariant:44530', 'OMIM:608107.0020', 'OMIM:601592.0007', 'OMIM:612395.0005', 'OMIM:147450.0020', 'OMIM:600528.0001', 'OMIM:607817.0007', 'OMIM:604695.0002', 'OMIM:300821.0001', 'OMIM:305900.0043', 'OMIM:614571.0003', 'OMIM:610496.0001', 'OMIM:300841.0092', 'OMIM:601728.0009', 'OMIM:189907.0006', 'OMIM:603415.0028', 'OMIM:603959.0007', 'OMIM:300644.0001', 'OMIM:120960.0002', 'OMIM:606945.0033', 'OMIM:300017.0026', 'OMIM:601255.0012', 'OMIM:300827.0001', 'OMIM:141900.0349', 'OMIM:171760.0018', 'OMIM:182810.0004', 'OMIM:600160.0006', 'dbSNP:rs116987964', 'OMIM:603355.0001', 'OMIM:614515.0004', 'OMIM:604297.0001', 'OMIM:606145.0002', 'OMIM:611124.0005', 'OMIM:300011.0002', 'OMIM:590075.0002', 'dbSNP:rs73186025', 'OMIM:600980.0002', 'ClinVarVariant:280320', 'OMIM:606702.0001', 'OMIM:613111.0014', 'OMIM:603263.0003', 'OMIM:617840.0005', 'OMIM:614396.0001', 'ClinVarVariant:477601', 'OMIM:608803.0009', 'OMIM:300032.0010', 'OMIM:606105.0003', 'OMIM:604619.0012', 'OMIM:182390.0006', 'OMIM:120190.0003', 'OMIM:107741.0026', 'OMIM:600014.0004', 'ClinVarVariant:1351', 'OMIM:605925.0006', 'OMIM:603415.0007', 'OMIM:104620.0007', 'ClinVarVariant:2572', 'OMIM:609845.0008', 'OMIM:182381.0005', 'dbSNP:rs1488831', 'OMIM:126340.0005', 'OMIM:107680.0003', 'OMIM:300300.0039', 'OMIM:305900.0007', 'OMIM:612801.0001', 'OMIM:600235.0005', 'OMIM:604581.0015', 'OMIM:617559.0005', 'OMIM:605427.0012', 'OMIM:141900.0127', 'OMIM:603681.0011', 'OMIM:176260.0011', 'OMIM:611805.0002', 'dbSNP:rs525304', 'OMIM:120150.0011', 'OMIM:191290.0002', 'OMIM:609139.0007', 'OMIM:608172.0002', 'OMIM:300838.0002', 'OMIM:604614.0004', 'OMIM:172860.0005', 'OMIM:607617.0005', 'OMIM:600509.0011', 'OMIM:148080.0015', 'OMIM:300746.0019', 'OMIM:312610.0026', 'OMIM:601653.0007', 'OMIM:605646.0016', 'OMIM:617242.0002', 'OMIM:606882.0019', 'OMIM:146920.0003', 'ClinVarVariant:1353', 'OMIM:601103.0002', 'OMIM:192132.0005', 'OMIM:605747.0006', 'OMIM:604214.0005', 'OMIM:610271.0005', 'dbSNP:rs2011071', 'OMIM:607532.0005', 'OMIM:172425.0001', 'OMIM:604569.0013', 'OMIM:605634.0004', 'OMIM:600185.0034', 'dbSNP:rs13193176', 'OMIM:606157.0010', 'OMIM:601255.0001', 'OMIM:606873.0009', 'OMIM:602926.0003', 'OMIM:613666.0009', 'OMIM:601691.0012', 'OMIM:604095.0004', 'OMIM:607544.0006', 'OMIM:615521.0002', 'OMIM:603158.0003', 'OMIM:604358.0004', 'OMIM:607093.0008', 'OMIM:123695.0002', 'OMIM:600023.0001', 'OMIM:616253.0002', 'OMIM:600536.0002', 'OMIM:615407.0001', 'OMIM:188830.0016', 'OMIM:604579.0004', 'OMIM:609806.0023', 'OMIM:608536.0002', 'OMIM:603084.0005', 'OMIM:138945.0015', 'OMIM:603883.0003', 'OMIM:601604.0004', 'OMIM:612283.0012', 'OMIM:300075.0016', 'OMIM:606682.0007', 'OMIM:600525.0001', 'OMIM:232050.0004', 'OMIM:133510.0007', 'ClinVarVariant:38388', 'OMIM:134820.0009', 'OMIM:604546.0011', 'OMIM:613084.0003', 'dbSNP:rs199563603', 'OMIM:102582.0006', 'ClinVarVariant:214537', 'dbSNP:rs2175789', 'OMIM:614789.0005', 'OMIM:606480.0006', 'OMIM:612078.0002', 'OMIM:610345.0002', 'OMIM:607968.0004', 'ClinVarVariant:214536', 'OMIM:610190.0001', 'OMIM:607860.0004', 'OMIM:138244.0002', 'OMIM:610284.0004', 'OMIM:614556.0012', 'ClinVarVariant:841323', 'dbSNP:rs7691456', 'OMIM:601479.0002', 'OMIM:607800.0005', 'OMIM:305900.0048', 'dbSNP:rs28714232', 'OMIM:109270.0008', 'OMIM:606873.0005', 'OMIM:120160.0041', 'OMIM:614787.0010', 'OMIM:600370.0002', 'OMIM:192132.0003', 'OMIM:602302.0005', 'OMIM:607481.0003', 'OMIM:107300.0022', 'OMIM:617094.0005', 'OMIM:606977.0001', 'OMIM:152427.0009', 'OMIM:603601.0002', 'OMIM:165240.0016', 'OMIM:300292.0001', 'OMIM:603370.0002', 'OMIM:141900.0196', 'OMIM:159555.0006', 'ClinVarVariant:645374', 'OMIM:613577.0006', 'OMIM:608160.0006', 'OMIM:618269.0001', 'OMIM:191290.0009', 'ClinVarVariant:655856', 'OMIM:600147.0002', 'OMIM:107680.0012', 'OMIM:142250.0043', 'OMIM:171834.0018', 'OMIM:616213.0003', 'OMIM:613555.0008', 'OMIM:126455.0005', 'ClinVarVariant:374173', 'OMIM:138252.0008', 'ClinVarVariant:47696', 'OMIM:610513.0009', 'OMIM:603287.0004', 'OMIM:611611.0004', 'OMIM:107741.0009', 'OMIM:602225.0001', 'OMIM:252800.0017', 'OMIM:602671.0005', 'OMIM:603094.0004', 'ClinVarVariant:242463', 'OMIM:600922.0004', 'OMIM:300084.0004', 'OMIM:602614.0007', 'OMIM:120150.0067', 'OMIM:605775.0012', 'OMIM:138292.0007', 'OMIM:606201.0002', 'OMIM:602119.0003', 'OMIM:603056.0001', 'OMIM:601411.0001', 'OMIM:182340.0009', 'OMIM:609631.0001', 'dbSNP:rs141490781', 'OMIM:612770.0002', 'OMIM:612026.0003', 'OMIM:243305.0005', 'OMIM:611192.0004', 'OMIM:615626.0002', 'OMIM:604122.0001', 'OMIM:176977.0001', 'ClinVarVariant:543927', 'OMIM:615494.0003', 'OMIM:610552.0013', 'OMIM:606157.0003', 'OMIM:120130.0007', 'OMIM:613878.0020', 'OMIM:182381.0006', 'OMIM:300572.0003', 'OMIM:300377.0035', 'OMIM:614757.0001', 'OMIM:607649.0001', 'OMIM:604223.0009', 'OMIM:614917.0005', 'OMIM:613976.0001', 'OMIM:608504.0001', 'OMIM:142993.0001', 'OMIM:182340.0002', 'ClinVarVariant:178310', 'dbSNP:rs315473846', 'OMIM:612029.0001', 'OMIM:139130.0003', 'OMIM:602091.0002', 'OMIM:605995.0004', 'OMIM:613609.0009', 'OMIM:159530.0009', 'ClinVarVariant:577445', 'OMIM:300841.0259', 'dbSNP:rs12722605', 'OMIM:603288.0004', 'OMIM:607093.0010', 'OMIM:600523.0001', 'OMIM:607854.0004', 'OMIM:190020.0007', 'OMIM:612661.0004', 'OMIM:190990.0006', 'OMIM:603495.0001', 'OMIM:613072.0002', 'OMIM:138249.0010', 'OMIM:608833.0009', 'OMIM:193065.0001', 'OMIM:164757.0027', 'ClinVarVariant:375325', 'OMIM:602931.0013', 'OMIM:184429.0008', 'OMIM:107300.0049', 'OMIM:610933.0003', 'OMIM:610533.0001', 'OMIM:151385.0006', 'OMIM:600037.0011', 'OMIM:614530.0001', 'OMIM:612349.0045', 'OMIM:601065.0001', 'OMIM:600509.0023', 'OMIM:602931.0009', 'OMIM:613293.0001', 'OMIM:613129.0010', 'OMIM:600571.0001', 'OMIM:602730.0002', 'OMIM:602402.0007', 'OMIM:516006.0005', 'OMIM:617558.0004', 'OMIM:614194.0005', 'OMIM:603506.0014', 'OMIM:300609.0005', 'OMIM:609413.0004', 'OMIM:113705.0007', 'OMIM:300371.0004', 'OMIM:602109.0007', 'OMIM:602870.0004', 'OMIM:613733.0002', 'OMIM:605573.0001', 'OMIM:600225.0008', 'OMIM:151350.0001', 'OMIM:606938.0006', 'OMIM:613597.0005', 'OMIM:180072.0006', 'OMIM:194363.0001', 'dbSNP:rs9386796', 'OMIM:613386.0003', 'OMIM:611778.0001', 'OMIM:608667.0001', 'dbSNP:rs4793062', 'OMIM:608771.0006', 'OMIM:125270.0002', 'OMIM:611731.0010', 'OMIM:610937.0008', 'OMIM:300170.0007', 'OMIM:608160.0013', 'OMIM:615187.0004', 'OMIM:608034.0009', 'OMIM:605086.0001', 'OMIM:604831.0001', 'OMIM:614787.0003', 'OMIM:191092.0006', 'OMIM:607347.0001', 'OMIM:614982.0014', 'OMIM:188545.0005', 'OMIM:182350.0005', 'OMIM:602365.0013', 'OMIM:603024.0004', 'OMIM:141800.0021', 'OMIM:300203.0013', 'OMIM:601621.0006', 'OMIM:612641.0008', 'OMIM:600937.0007', 'OMIM:300474.0008', 'OMIM:141800.0047', 'OMIM:600712.0001', 'OMIM:173110.0015', 'OMIM:603273.0012', 'ClinVarVariant:963631', 'OMIM:604983.0002', 'OMIM:607701.0004', 'OMIM:601802.0006', 'OMIM:610206.0016', 'OMIM:300841.0166', 'dbSNP:rs148992522', 'OMIM:617570.0001', 'OMIM:608700.0007', 'OMIM:612082.0005', 'OMIM:137960.0006', 'OMIM:177060.0007', 'OMIM:602529.0009', 'OMIM:608364.0001', 'OMIM:600617.0001', 'OMIM:152427.0001', 'OMIM:604272.0002', 'OMIM:606999.0009', 'OMIM:131240.0003', 'OMIM:600724.0001', 'OMIM:610079.0001', 'OMIM:300481.0003', 'OMIM:300248.0024', 'OMIM:603395.0001', 'dbSNP:rs9506281', 'OMIM:138079.0005', 'OMIM:602642.0002', 'OMIM:605512.0004', 'OMIM:604095.0001', 'OMIM:605481.0007', 'dbSNP:rs12625057', 'OMIM:607585.0019', 'OMIM:603864.0001', 'OMIM:516050.0006', 'OMIM:611458.0008', 'OMIM:142410.0009', 'OMIM:615403.0009', 'OMIM:607093.0001', 'OMIM:612392.0004', 'OMIM:300005.0037', 'OMIM:120150.0012', 'OMIM:611562.0003', 'OMIM:603136.0002', 'OMIM:606945.0005', 'OMIM:610148.0005', 'OMIM:604313.0001', 'ClinVarVariant:47701', 'OMIM:182465.0002', 'OMIM:616144.0003', 'OMIM:600682.0001', 'OMIM:300841.0225', 'OMIM:173445.0001', 'OMIM:612349.0015', 'OMIM:114078.0007', 'OMIM:165240.0006', 'OMIM:103220.0009', 'OMIM:603959.0003', 'OMIM:606350.0006', 'OMIM:148066.0019', 'OMIM:602859.0008', 'OMIM:171834.0023', 'OMIM:601728.0041', 'OMIM:604149.0008', 'OMIM:141850.0013', 'OMIM:602700.0007', 'OMIM:605238.0001', 'OMIM:602651.0001', 'OMIM:605283.0005', 'OMIM:608300.0005', 'OMIM:300121.0005', 'OMIM:141900.0078', 'OMIM:141900.0002', 'OMIM:604404.0007', 'OMIM:607461.0009', 'OMIM:600958.0019', 'dbSNP:rs79920190', 'OMIM:610657.0003', 'OMIM:609797.0006', 'OMIM:165240.0018', 'OMIM:124015.0002', 'OMIM:601465.0007', 'OMIM:612411.0007', 'OMIM:600301.0005', 'OMIM:609300.0026', 'OMIM:609728.0004', 'OMIM:209901.0005', 'OMIM:300826.0008', 'OMIM:308000.0054', 'OMIM:602225.0006', 'OMIM:126380.0002', 'OMIM:606439.0011', 'OMIM:191170.0034', 'OMIM:607613.0003', 'OMIM:602780.0006', 'OMIM:606945.0043', 'OMIM:303630.0014', 'OMIM:603277.0006', 'OMIM:179615.0009', 'OMIM:217030.0011', 'OMIM:154550.0004', 'dbSNP:rs61873668', 'OMIM:313650.0006', 'OMIM:134797.0037', 'OMIM:604024.0001', 'OMIM:607478.0003', 'ClinVarVariant:804077', 'OMIM:191740.0006', 'OMIM:600909.0002', 'OMIM:609196.0008', 'OMIM:617949.0004', 'ClinVarVariant:79570', 'OMIM:300096.0003', 'OMIM:603254.0007', 'OMIM:159440.0006', 'OMIM:613160.0034', 'ClinVarVariant:364261', 'OMIM:190160.0015', 'OMIM:147200.0001', 'OMIM:619129.0003', 'OMIM:606100.0001', 'OMIM:615047.0005', 'OMIM:604619.0002', 'dbSNP:rs10017238', 'OMIM:604526.0002', 'OMIM:603372.0022', 'OMIM:609390.0010', 'OMIM:604041.0003', 'OMIM:308840.0005', 'OMIM:148067.0006', 'OMIM:300746.0105', 'OMIM:608285.0002', 'OMIM:611549.0008', 'OMIM:120252.0001', 'OMIM:601789.0002', 'OMIM:300127.0002', 'OMIM:611813.0001', 'OMIM:612732.0011', 'OMIM:606530.0006', 'OMIM:607211.0007', 'OMIM:141850.0056', 'OMIM:176640.0029', 'OMIM:608160.0021', 'OMIM:603645.0002', 'OMIM:603701.0008', 'OMIM:189909.0001', 'OMIM:134797.0047', 'OMIM:600150.0007', 'OMIM:608752.0001', 'OMIM:157140.0007', 'OMIM:613236.0001', 'OMIM:191740.0008', 'OMIM:300079.0007', 'OMIM:613257.0001', 'OMIM:605514.0007', 'OMIM:136350.0034', 'OMIM:613890.0006', 'OMIM:609058.0014', 'OMIM:611731.0052', 'OMIM:608059.0004', 'OMIM:602167.0002', 'OMIM:188040.0007', 'OMIM:102770.0002', 'OMIM:238331.0009', 'OMIM:120570.0002', 'OMIM:176310.0001', 'OMIM:180069.0009', 'OMIM:102565.0010', 'ClinVarVariant:404157', 'OMIM:601149.0004', 'OMIM:613942.0004', 'OMIM:602765.0001', 'OMIM:191044.0012', 'OMIM:605446.0001', 'OMIM:155541.0002', 'OMIM:602149.0001', 'OMIM:614245.0003', 'OMIM:115441.0006', 'OMIM:102582.0013', 'OMIM:590080.0002', 'OMIM:107741.0025', 'OMIM:617817.0002', 'ClinVarVariant:857434', 'OMIM:608750.0003', 'OMIM:100790.0003', 'OMIM:590045.0005', 'dbSNP:rs4996188', 'OMIM:600024.0002', 'ClinVarVariant:434125', 'OMIM:601873.0004', 'OMIM:139340.0004', 'OMIM:602991.0007', 'OMIM:300628.0011', 'OMIM:606702.0006', 'OMIM:188830.0002', 'OMIM:139380.0002', 'OMIM:611184.0013', 'OMIM:146920.0004', 'OMIM:313475.0002', 'OMIM:118490.0003', 'OMIM:603711.0006', 'ClinVarVariant:242394', 'OMIM:120150.0019', 'OMIM:300746.0024', 'OMIM:612724.0006', 'OMIM:609173.0002', 'OMIM:516003.0003', 'OMIM:610683.0002', 'OMIM:125485.0009', 'OMIM:613733.0022', 'OMIM:612515.0007', 'OMIM:600354.0004', 'OMIM:602292.0009', 'OMIM:609373.0005', 'OMIM:300392.0017', 'OMIM:190151.0001', 'OMIM:605262.0003', 'ClinVarVariant:568187', 'OMIM:116805.0001', 'OMIM:607642.0006', 'OMIM:603612.0001', 'OMIM:300203.0001', 'OMIM:611386.0008', 'OMIM:603967.0022', 'OMIM:611184.0015', 'OMIM:139200.0003', 'ClinVarVariant:417326', 'OMIM:300386.0003', 'OMIM:607108.0001', 'OMIM:600163.0015', 'OMIM:191170.0006', 'OMIM:605317.0001', 'OMIM:300248.0007', 'OMIM:300377.0049', 'OMIM:603693.0001', 'OMIM:606860.0007', 'OMIM:170993.0002', 'OMIM:600584.0024', 'OMIM:107730.0004', 'OMIM:182391.0007', 'OMIM:601567.0003', 'OMIM:612082.0002', 'OMIM:603122.0001', 'OMIM:602136.0002', 'OMIM:602296.0002', 'OMIM:608801.0005', 'OMIM:602642.0003', 'OMIM:182500.0002', 'OMIM:607759.0009', 'OMIM:601199.0041', 'OMIM:608429.0008', 'OMIM:605511.0001', 'OMIM:611254.0003', 'OMIM:608441.0008', 'OMIM:607199.0013', 'OMIM:604610.0002', 'OMIM:600397.0002', 'OMIM:608507.0008', 'OMIM:611542.0007', 'OMIM:305900.0032', 'OMIM:605705.0002', 'OMIM:610766.0001', 'OMIM:605446.0003', 'OMIM:164770.0003', 'OMIM:609291.0001', 'dbSNP:rs188284312', 'OMIM:134797.0025', 'OMIM:613113.0024', 'OMIM:300019.0002', 'OMIM:104311.0021', 'OMIM:609769.0002', 'OMIM:104311.0008', 'ClinVarVariant:215659', 'OMIM:608348.0009', 'OMIM:605646.0022', 'OMIM:616261.0002', 'OMIM:606416.0003', 'OMIM:176943.0044', 'OMIM:615533.0003', 'OMIM:601920.0002', 'OMIM:603331.0003', 'OMIM:610083.0002', 'OMIM:607608.0014', 'OMIM:603824.0013', 'OMIM:600037.0003', 'OMIM:605232.0012', 'OMIM:607096.0006', 'OMIM:610550.0003', 'OMIM:113811.0015', 'OMIM:147670.0032', 'OMIM:608172.0004', 'OMIM:604277.0008', 'OMIM:604878.0002', 'OMIM:600897.0005', 'OMIM:606025.0003', 'ClinVarVariant:242565', 'OMIM:603708.0006', 'OMIM:137070.0012', 'OMIM:170280.0013', 'OMIM:601007.0004', 'OMIM:606410.0005', 'OMIM:611565.0005', 'OMIM:607752.0002', 'dbSNP:rs1479876', 'OMIM:590005.0002', 'OMIM:188840.0011', 'OMIM:605956.0009', 'OMIM:603332.0004', 'OMIM:608679.0003', 'OMIM:606409.0003', 'OMIM:600713.0001', 'OMIM:142810.0001', 'OMIM:131320.0009', 'OMIM:182389.0004', 'OMIM:608331.0001', 'OMIM:619129.0002', 'OMIM:611254.0004', 'OMIM:600760.0009', 'OMIM:142983.0007', 'dbSNP:rs4909764', 'OMIM:609863.0002', 'OMIM:102573.0007', 'OMIM:300460.0006', 'OMIM:617782.0013', 'OMIM:607261.0014', 'OMIM:607093.0006', 'OMIM:613326.0007', 'OMIM:602138.0001', 'OMIM:516030.0007', 'OMIM:603845.0001', 'ClinVarVariant:38463', 'OMIM:300121.0008', 'OMIM:605427.0022', 'OMIM:609237.0008', 'OMIM:605566.0002', 'OMIM:617621.0001', 'OMIM:603632.0003', 'OMIM:152780.0004', 'OMIM:300395.0003', 'OMIM:300382.0002', 'OMIM:606873.0012', 'OMIM:603384.0010', 'OMIM:615790.0004', 'OMIM:600502.0006', 'OMIM:602519.0005', 'OMIM:180297.0008', 'OMIM:174763.0004', 'OMIM:141900.0539', 'OMIM:604917.0001', 'OMIM:600997.0002', 'OMIM:600359.0006', 'OMIM:602302.0017', 'OMIM:157655.0006', 'OMIM:120150.0025', 'OMIM:613653.0001', 'OMIM:123590.0009', 'OMIM:613293.0005', 'OMIM:609139.0005', 'OMIM:151443.0001', 'ClinVarVariant:216038', 'OMIM:600185.0026', 'OMIM:123580.0009', 'OMIM:600929.0001', 'OMIM:602690.0019', 'OMIM:480000.0005', 'dbSNP:rs17540621', 'OMIM:600584.0001', 'OMIM:617619.0008', 'OMIM:135940.0003', 'OMIM:300078.0001', 'OMIM:176948.0002', 'OMIM:138850.0014', 'OMIM:116945.0001', 'OMIM:167413.0004', 'OMIM:300429.0002', 'OMIM:118490.0010', 'OMIM:607261.0011', 'OMIM:602662.0001', 'OMIM:608548.0002', 'OMIM:606144.0004', 'OMIM:605232.0002', 'OMIM:607783.0002', 'OMIM:600709.0002', 'OMIM:611499.0002', 'OMIM:613213.0012', 'OMIM:180381.0001', 'OMIM:604900.0001', 'dbSNP:rs318182493', 'OMIM:141900.0128', 'OMIM:164015.0003', 'OMIM:608769.0006', 'OMIM:300264.0002', 'OMIM:601920.0001', 'OMIM:608662.0008', 'OMIM:608400.0008', 'OMIM:607444.0003', 'OMIM:607574.0008', 'OMIM:602661.0005', 'OMIM:607031.0002', 'OMIM:107680.0019', 'OMIM:612222.0015', 'OMIM:615787.0002', 'OMIM:602146.0003', 'OMIM:300095.0006', 'OMIM:141900.0112', 'OMIM:606672.0001', 'OMIM:608669.0001', 'OMIM:608465.0008', 'OMIM:602122.0001', 'OMIM:614515.0007', 'dbSNP:rs7968606', 'OMIM:600037.0006', 'OMIM:608132.0002', 'OMIM:600528.0009', 'OMIM:142989.0007', 'OMIM:300644.0050', 'OMIM:603295.0002', 'OMIM:125660.0004', 'OMIM:164008.0004', 'OMIM:104311.0027', 'OMIM:603107.0006', 'OMIM:600887.0002', 'OMIM:614667.0002', 'OMIM:188840.0014', 'OMIM:164008.0006', 'OMIM:600650.0006', 'OMIM:600839.0009', 'ClinVarVariant:599053', 'OMIM:615618.0001', 'OMIM:601199.0038', 'OMIM:600570.0014', 'OMIM:605910.0002', 'OMIM:608270.0004', 'OMIM:160760.0031', 'OMIM:600983.0010', 'OMIM:164761.0012', 'OMIM:134790.0005', 'OMIM:590080.0001', 'OMIM:604653.0005', 'OMIM:150320.0001', 'OMIM:610859.0001', 'OMIM:120220.0009', 'OMIM:190000.0007', 'OMIM:603942.0003', 'OMIM:610243.0002', 'OMIM:612719.0004', 'OMIM:134934.0018', 'ClinVarVariant:512192', 'OMIM:600726.0007', 'OMIM:300746.0095', 'OMIM:138430.0001', 'OMIM:109691.0001', 'OMIM:120140.0051', 'OMIM:608441.0019', 'OMIM:147670.0033', 'OMIM:604210.0010', 'OMIM:609708.0030', 'OMIM:606847.0005', 'OMIM:141900.0237', 'OMIM:601592.0002', 'OMIM:603941.0009', 'OMIM:603377.0004', 'OMIM:179605.0001', 'OMIM:602142.0004', 'OMIM:174763.0017', 'OMIM:121011.0016', 'OMIM:171760.0002', 'OMIM:164761.0018', 'OMIM:134797.0003', 'OMIM:300828.0003', 'OMIM:606151.0004', 'OMIM:612035.0001', 'OMIM:107741.0005', 'OMIM:607672.0004', 'OMIM:607210.0006', 'OMIM:607575.0004', 'OMIM:120436.0025', 'OMIM:600937.0017', 'OMIM:120215.0012', 'OMIM:601478.0001', 'OMIM:601485.0003', 'OMIM:602421.0019', 'OMIM:610197.0001', 'OMIM:610113.0001', 'OMIM:300502.0002', 'OMIM:300502.0018', 'OMIM:600993.0017', 'OMIM:157660.0012', 'OMIM:605573.0002', 'OMIM:146933.0003', 'OMIM:608750.0002', 'OMIM:608667.0009', 'OMIM:148041.0010', 'OMIM:614258.0008', 'OMIM:118190.0001', 'OMIM:604383.0004', 'OMIM:615796.0002', 'OMIM:600013.0003', 'OMIM:607697.0001', 'OMIM:120120.0042', 'OMIM:607845.0001', 'OMIM:125660.0017', 'OMIM:603122.0003', 'OMIM:152780.0002', 'OMIM:123900.0001', 'OMIM:617110.0006', 'OMIM:176876.0033', 'OMIM:600574.0009', 'OMIM:609196.0007', 'OMIM:612283.0001', 'OMIM:602669.0002', 'ClinVarVariant:70476', 'OMIM:209901.0006', 'OMIM:300697.0009', 'OMIM:606882.0001', 'OMIM:150310.0016', 'OMIM:613931.0005', 'OMIM:139313.0006', 'OMIM:300005.0032', 'OMIM:182390.0017', 'OMIM:601920.0004', 'OMIM:605799.0003', 'OMIM:605882.0002', 'OMIM:134850.0019', 'OMIM:300377.0023', 'OMIM:300746.0026', 'OMIM:601097.0011', 'OMIM:141900.0284', 'OMIM:604614.0001', 'OMIM:103600.0026', 'OMIM:602302.0003', 'OMIM:300377.0006', 'OMIM:608317.0001', 'OMIM:600065.0009', 'OMIM:604149.0006', 'OMIM:601424.0005', 'OMIM:610063.0002', 'OMIM:605981.0002', 'dbSNP:rs6861976', 'OMIM:300841.0052', 'OMIM:600897.0004', 'OMIM:602292.0008', 'OMIM:600463.0001', 'OMIM:480000.0011', 'OMIM:607117.0003', 'OMIM:604277.0018', 'OMIM:604594.0002', 'OMIM:607929.0008', 'OMIM:612641.0004', 'OMIM:179838.0001', 'OMIM:609044.0001', 'OMIM:108746.0001', 'OMIM:605294.0006', 'OMIM:602839.0001', 'OMIM:602931.0007', 'OMIM:606382.0003', 'OMIM:603506.0006', 'ClinVarVariant:17503', 'OMIM:600839.0001', 'OMIM:152780.0006', 'OMIM:601538.0009', 'OMIM:602821.0013', 'OMIM:602421.0079', 'OMIM:605988.0009', 'OMIM:616787.0001', 'OMIM:606227.0007', 'OMIM:607669.0001', 'OMIM:138491.0015', 'OMIM:607752.0004', 'OMIM:607574.0003', 'OMIM:602690.0023', 'OMIM:136850.0011', 'OMIM:120140.0047', 'OMIM:141900.0120', 'OMIM:614058.0002', 'OMIM:516030.0003', 'OMIM:602397.0007', 'OMIM:171834.0004', 'OMIM:600946.0019', 'OMIM:120131.0002', 'OMIM:608700.0004', 'OMIM:607817.0012', 'OMIM:603767.0002', 'OMIM:300546.0005', 'OMIM:141800.0149', 'OMIM:611124.0011', 'OMIM:300913.0004', 'OMIM:147558.0003', 'OMIM:614757.0002', 'OMIM:608671.0001', 'OMIM:191170.0018', 'OMIM:602666.0009', 'OMIM:605427.0025', 'OMIM:164975.0001', 'OMIM:600958.0003', 'OMIM:613409.0004', 'OMIM:604592.0007', 'OMIM:613278.0006', 'OMIM:610690.0001', 'OMIM:611459.0001', 'OMIM:614258.0005', 'OMIM:600890.0004', 'OMIM:142959.0003', 'OMIM:107777.0002', 'OMIM:305900.0023', 'OMIM:604965.0002', 'OMIM:609761.0001', 'OMIM:612944.0001', 'OMIM:606761.0004', 'OMIM:609648.0002', 'OMIM:605747.0007', 'OMIM:300377.0016', 'OMIM:150341.0005', 'OMIM:167413.0001', 'OMIM:182309.0004', 'OMIM:608102.0010', 'OMIM:608552.0003', 'OMIM:614780.0001', 'ClinVarVariant:242464', 'OMIM:139320.0019', 'OMIM:617278.0001', 'OMIM:604629.0002', 'dbSNP:rs922107', 'dbSNP:rs17815774', 'OMIM:608845.0001', 'OMIM:600301.0001', 'OMIM:600900.0009', 'OMIM:613160.0027', 'OMIM:602690.0004', 'OMIM:607882.0007', 'OMIM:607379.0005', 'OMIM:300126.0013', 'OMIM:141850.0057', 'OMIM:616023.0001', 'OMIM:607709.0001', 'OMIM:601860.0004', 'OMIM:123890.0008', 'OMIM:609669.0004', 'OMIM:114815.0002', 'OMIM:601146.0003', 'OMIM:604346.0006', 'OMIM:615140.0002', 'OMIM:609520.0004', 'OMIM:608170.0004', 'OMIM:607939.0007', 'OMIM:611421.0001', 'OMIM:120150.0065', 'OMIM:120160.0021', 'OMIM:611037.0004', 'OMIM:141180.0003', 'OMIM:608648.0004', 'OMIM:612971.0006', 'OMIM:109270.0002', 'OMIM:600310.0009', 'OMIM:163970.0001', 'OMIM:123890.0006', 'OMIM:610513.0001', 'OMIM:134629.0003', 'OMIM:608329.0001', 'OMIM:614123.0001', 'OMIM:603967.0016', 'OMIM:131399.0003', 'OMIM:300391.0011', 'OMIM:609300.0031', 'dbSNP:rs10412199', 'OMIM:613121.0004', 'OMIM:107400.0022', 'OMIM:590060.0003', 'OMIM:600845.0001', 'OMIM:141900.0376', 'OMIM:604611.0003', 'OMIM:180290.0001', 'ClinVarVariant:226734', 'OMIM:607575.0002', 'OMIM:613349.0031', 'OMIM:126455.0004', 'OMIM:618163.0004', 'OMIM:300841.0019', 'OMIM:142250.0032', 'OMIM:605124.0005', 'OMIM:615204.0001', 'OMIM:602119.0008', 'OMIM:141900.0293', 'OMIM:609610.0004', 'OMIM:612325.0005', 'OMIM:605080.0004', 'OMIM:602421.0094', 'OMIM:614982.0003', 'OMIM:603584.0001', 'OMIM:602421.0050', 'OMIM:300841.0119', 'OMIM:600291.0001', 'OMIM:606362.0002', 'OMIM:604712.0003', 'OMIM:600555.0012', 'OMIM:618058.0002', 'dbSNP:rs315654479', 'OMIM:601538.0012', 'OMIM:300572.0001', 'OMIM:300821.0003', 'OMIM:600179.0001', 'OMIM:138130.0009', 'OMIM:612719.0006', 'dbSNP:rs12711680', 'OMIM:600150.0011', 'OMIM:603681.0007', 'OMIM:609584.0001', 'OMIM:607854.0012', 'OMIM:613931.0002', 'OMIM:300276.0001', 'OMIM:300746.0049', 'OMIM:602235.0005', 'OMIM:608005.0002', 'OMIM:164820.0009', 'OMIM:603415.0026', 'OMIM:602686.0002', 'OMIM:606938.0014', 'ClinVarVariant:200560', 'OMIM:162280.0008', 'ClinVarVariant:637215', 'OMIM:300121.0007', 'OMIM:602690.0010', 'OMIM:612839.0001', 'OMIM:604687.0002', 'ClinVarVariant:831385', 'OMIM:601646.0001', 'ClinVarVariant:978707', 'OMIM:311770.0003', 'OMIM:148066.0008', 'dbSNP:rs1623879', 'OMIM:605025.0001', 'OMIM:182530.0007', 'OMIM:600827.0010', 'OMIM:600678.0010', 'ClinVarVariant:970501', 'OMIM:609591.0005', 'OMIM:120140.0028', 'OMIM:107730.0020', 'OMIM:607542.0035', 'OMIM:608272.0006', 'OMIM:601671.0004', 'OMIM:107300.0044', 'ClinVarVariant:242504', 'OMIM:616715.0007', 'OMIM:609413.0015', 'OMIM:152790.0015', 'OMIM:612349.0048', 'OMIM:304040.0021', 'OMIM:600502.0009', 'OMIM:608167.0010', 'OMIM:609314.0006', 'OMIM:184429.0015', 'OMIM:606725.0010', 'OMIM:600584.0008', 'OMIM:603690.0005', 'OMIM:300746.0017', 'OMIM:141900.0136', 'OMIM:604210.0005', 'OMIM:300163.0013', 'OMIM:109270.0031', 'OMIM:613534.0007', 'OMIM:602821.0011', 'OMIM:604710.0001', 'dbSNP:rs16996151', 'OMIM:608420.0003', 'OMIM:138290.0002', 'OMIM:136351.0006', 'OMIM:611927.0013', 'OMIM:610044.0001', 'OMIM:602421.0132', 'OMIM:164761.0036', 'dbSNP:rs316596897', 'OMIM:139396.0001', 'OMIM:113810.0001', 'OMIM:601199.0053', 'OMIM:602397.0012', 'OMIM:605713.0001', 'ClinVarVariant:245946', 'OMIM:605755.0002', 'dbSNP:rs1048818', 'OMIM:601248.0002', 'OMIM:191170.0013', 'OMIM:610034.0001', 'ClinVarVariant:38455', 'OMIM:137780.0004', 'OMIM:605025.0004', 'OMIM:300275.0008', 'OMIM:617630.0001', 'OMIM:113705.0040', 'OMIM:300075.0015', 'OMIM:600238.0001', 'OMIM:611045.0005', 'OMIM:601282.0011', 'OMIM:168468.0015', 'OMIM:606494.0001', 'OMIM:611026.0003', 'OMIM:601409.0003', 'OMIM:600681.0003', 'OMIM:600855.0005', 'OMIM:114078.0008', 'OMIM:131222.0003', 'OMIM:613529.0008', 'OMIM:300203.0003', 'OMIM:613785.0007', 'OMIM:164008.0008', 'OMIM:601728.0045', 'OMIM:615340.0004', 'OMIM:191170.0038', 'OMIM:176730.0009', 'OMIM:611766.0003', 'ClinVarVariant:46849', 'OMIM:176310.0007', 'OMIM:601424.0003', 'OMIM:613815.0005', 'OMIM:604365.0004', 'OMIM:607568.0003', 'OMIM:142989.0012', 'OMIM:603780.0016', 'dbSNP:rs736596', 'OMIM:604741.0003', 'OMIM:311770.0007', 'OMIM:606869.0011', 'OMIM:619098.0004', 'OMIM:608792.0006', 'OMIM:605446.0006', 'OMIM:606157.0015', 'OMIM:607542.0044', 'OMIM:120280.0002', 'OMIM:252800.0014', 'OMIM:611409.0014', 'OMIM:609720.0005', 'OMIM:606201.0016', 'OMIM:614168.0003', 'OMIM:164920.0022', 'ClinVarVariant:948071', 'OMIM:608206.0004', 'OMIM:608441.0015', 'OMIM:300473.0027', 'dbSNP:rs1108131', 'OMIM:600259.0007', 'OMIM:173490.0010', 'OMIM:617618.0004', 'OMIM:138150.0001', 'dbSNP:rs11696806', 'OMIM:300161.0003', 'OMIM:164790.0006', 'OMIM:607474.0009', 'OMIM:601924.0003', 'OMIM:616177.0001', 'OMIM:100710.0003', 'OMIM:606945.0045', 'OMIM:601205.0005', 'OMIM:600864.0001', 'OMIM:614917.0004', 'OMIM:300163.0017', 'OMIM:192090.0017', 'OMIM:605262.0001', 'OMIM:614632.0002', 'OMIM:300300.0033', 'OMIM:602671.0016', 'OMIM:180381.0004', 'OMIM:141900.0419', 'OMIM:603808.0004', 'OMIM:612280.0001', 'OMIM:613919.0001', 'OMIM:601199.0035', 'OMIM:601749.0002', 'OMIM:300746.0022', 'OMIM:300401.0024', 'OMIM:606034.0001', 'OMIM:606142.0007', 'OMIM:613698.0007', 'OMIM:600937.0006', 'OMIM:612182.0001', 'OMIM:607108.0024', 'OMIM:601002.0005', 'OMIM:300808.0013', 'OMIM:604386.0006', 'OMIM:600734.0001', 'OMIM:182350.0010', 'OMIM:185881.0002', 'OMIM:600810.0001', 'dbSNP:rs6414374', 'OMIM:601040.0001', 'OMIM:232050.0006', 'OMIM:603474.0006', 'OMIM:605862.0003', 'OMIM:613360.0002', 'OMIM:604712.0007', 'OMIM:103180.0001', 'OMIM:611184.0016', 'OMIM:603395.0004', 'OMIM:300473.0013', 'OMIM:157660.0011', 'dbSNP:rs1281154', 'ClinVarVariant:34011', 'OMIM:602480.0006', 'OMIM:300647.0006', 'OMIM:300823.0013', 'OMIM:173910.0008', 'OMIM:611386.0010', 'OMIM:120131.0004', 'OMIM:611632.0010', 'OMIM:141900.0344', 'OMIM:606977.0005', 'OMIM:605378.0009', 'OMIM:182870.0001', 'dbSNP:rs142226072', 'OMIM:124080.0012', 'OMIM:121011.0012', 'OMIM:612676.0002', 'OMIM:601542.0002', 'OMIM:112261.0001', 'OMIM:601460.0008', 'OMIM:603330.0008', 'OMIM:606761.0006', 'OMIM:608528.0001', 'OMIM:141900.0251', 'OMIM:602216.0005', 'OMIM:301770.0001', 'OMIM:603371.0005', 'OMIM:600046.0002', 'OMIM:613113.0027', 'OMIM:191190.0008', 'OMIM:600760.0001', 'OMIM:114080.0001', 'OMIM:601542.0003', 'OMIM:603317.0001', 'OMIM:601385.0002', 'OMIM:609479.0003', 'OMIM:601785.0004', 'OMIM:187395.0001', 'OMIM:605740.0004', 'OMIM:610130.0002', 'OMIM:601517.0002', 'OMIM:141900.0178', 'OMIM:603681.0015', 'OMIM:516005.0002', 'OMIM:612014.0004', 'OMIM:605648.0003', 'OMIM:607186.0005', 'OMIM:603959.0014', 'OMIM:600024.0012', 'OMIM:600980.0003', 'OMIM:251170.0001', 'OMIM:607840.0002', 'OMIM:150330.0005', 'OMIM:604633.0001', 'OMIM:604544.0010', 'OMIM:300841.0075', 'OMIM:600014.0012', 'OMIM:148760.0005', 'OMIM:603234.0004', 'OMIM:613230.0005', 'OMIM:604395.0004', 'OMIM:148066.0005', 'OMIM:311850.0010', 'OMIM:602694.0006', 'OMIM:141800.0028', 'OMIM:603517.0008', 'OMIM:136132.0011', 'OMIM:615498.0001', 'OMIM:613160.0026', 'OMIM:601282.0008', 'OMIM:604063.0003', 'OMIM:300535.0005', 'OMIM:605018.0008', 'OMIM:604297.0004', 'OMIM:614154.0001', 'OMIM:615407.0002', 'OMIM:605336.0001', 'OMIM:603590.0004', 'OMIM:300056.0001', 'OMIM:606934.0004', 'OMIM:125240.0005', 'OMIM:602931.0003', 'OMIM:603560.0002', 'OMIM:609321.0003', 'OMIM:614459.0005', 'OMIM:602026.0009', 'OMIM:602783.0001', 'OMIM:604490.0004', 'OMIM:134790.0001', 'OMIM:611124.0001', 'dbSNP:rs12049671', 'OMIM:606382.0001', 'OMIM:605197.0005', 'dbSNP:rs9285640', 'OMIM:604569.0003', 'OMIM:617059.0001', 'OMIM:134790.0015', 'OMIM:601097.0006', 'OMIM:191160.0005', 'OMIM:187270.0006', 'OMIM:610397.0001', 'OMIM:608451.0005', 'OMIM:600983.0018', 'OMIM:600968.0007', 'OMIM:142200.0020', 'OMIM:604933.0004', 'OMIM:103180.0002', 'dbSNP:rs3917672', 'OMIM:190070.0018', 'OMIM:601692.0010', 'OMIM:603850.0006', 'OMIM:150330.0015', 'OMIM:607968.0005', 'OMIM:612753.0004', 'OMIM:600909.0012', 'OMIM:602280.0006', 'OMIM:610860.0015', 'OMIM:300035.0004', 'OMIM:602402.0008', 'OMIM:615038.0004', 'OMIM:608214.0002', 'OMIM:606351.0004', 'OMIM:602954.0003', 'OMIM:608187.0001', 'OMIM:607606.0011', 'OMIM:612280.0003', 'OMIM:613138.0010', 'OMIM:608222.0007', 'OMIM:608241.0001', 'OMIM:607617.0007', 'ClinVarVariant:99867', 'OMIM:123590.0005', 'ClinVarVariant:982552', 'OMIM:191092.0017', 'OMIM:606885.0009', 'OMIM:601097.0010', 'OMIM:604878.0001', 'OMIM:190182.0007', 'OMIM:606370.0005', 'OMIM:609577.0006', 'OMIM:137070.0009', 'OMIM:606945.0017', 'ClinVarVariant:447435', 'OMIM:300715.0002', 'OMIM:604581.0009', 'OMIM:606681.0011', 'OMIM:137295.0005', 'OMIM:602851.0010', 'OMIM:107323.0001', 'OMIM:606821.0004', 'ClinVarVariant:576347', 'OMIM:164350.0003', 'OMIM:300005.0031', 'OMIM:138210.0001', 'OMIM:138250.0012', 'OMIM:603708.0002', 'dbSNP:rs317787', 'OMIM:604846.0005', 'OMIM:606869.0049', 'OMIM:100730.0005', 'OMIM:602109.0001', 'OMIM:604588.0002', 'dbSNP:rs4764043', 'OMIM:600856.0002', 'OMIM:606976.0001', 'OMIM:611642.0003', 'OMIM:607809.0008', 'OMIM:125645.0003', 'OMIM:308000.0007', 'OMIM:601607.0006', 'OMIM:300708.0005', 'OMIM:609884.0006', 'OMIM:602144.0001', 'OMIM:125660.0012', 'OMIM:614620.0003', 'OMIM:602141.0002', 'OMIM:179615.0019', 'OMIM:607082.0003', 'OMIM:609712.0011', 'OMIM:138140.0011', 'OMIM:606860.0017', 'OMIM:605232.0004', 'dbSNP:rs7222250', 'OMIM:611104.0007', 'OMIM:604001.0001', 'OMIM:612121.0005', 'OMIM:605907.0001', 'OMIM:190160.0027', 'OMIM:608507.0010', 'OMIM:608771.0008', 'OMIM:603183.0003', 'OMIM:135600.0004', 'OMIM:613878.0007', 'OMIM:308000.0039', 'OMIM:613872.0012', 'OMIM:601143.0008', 'OMIM:610397.0002', 'OMIM:300841.0200', 'OMIM:252800.0009', 'OMIM:607440.0016', 'ClinVarVariant:242508', 'OMIM:185605.0005', 'OMIM:604889.0005', 'OMIM:611345.0002', 'OMIM:601107.0008', 'OMIM:600163.0028', 'OMIM:607809.0007', 'OMIM:264900.0011', 'OMIM:605597.0006', 'OMIM:605031.0001', 'OMIM:604365.0007', 'OMIM:138945.0002', 'OMIM:601819.0001', 'OMIM:150310.0003', 'OMIM:607456.0001', 'OMIM:102630.0009', 'OMIM:176876.0003', 'OMIM:607840.0010', 'OMIM:605459.0001', 'OMIM:603307.0001', 'OMIM:138040.0014', 'OMIM:609689.0003', 'OMIM:603754.0001', 'OMIM:608833.0003', 'OMIM:608944.0007', 'OMIM:603826.0001', 'OMIM:611669.0001', 'OMIM:608461.0001', 'OMIM:176941.0002', 'OMIM:603454.0001', 'OMIM:606274.0001', 'OMIM:603033.0005', 'OMIM:600047.0003', 'OMIM:607108.0018', 'OMIM:615944.0001', 'OMIM:602987.0001', 'ClinVarVariant:851291', 'OMIM:190230.0006', 'ClinVarVariant:242492', 'OMIM:300371.0009', 'OMIM:608786.0009', 'OMIM:176948.0004', 'OMIM:107680.0027', 'OMIM:609321.0001', 'OMIM:600522.0002', 'OMIM:609058.0011', 'OMIM:305900.0015', 'OMIM:613277.0003', 'OMIM:601785.0012', 'OMIM:610586.0001', 'OMIM:137290.0006', 'OMIM:141800.0219', 'OMIM:608145.0001', 'OMIM:300300.0027', 'OMIM:600035.0002', 'OMIM:147795.0001', 'OMIM:607839.0008', 'OMIM:187680.0007', 'OMIM:600011.0002', 'OMIM:138981.0002', 'OMIM:606725.0014', 'OMIM:609575.0013', 'OMIM:605431.0003', 'OMIM:605031.0004', 'OMIM:603633.0001', 'OMIM:602421.0089', 'OMIM:147781.0002', 'OMIM:613109.0005', 'OMIM:300300.0052', 'OMIM:602743.0005', 'OMIM:615698.0001', 'OMIM:171050.0003', 'OMIM:612386.0004', 'OMIM:300746.0048', 'OMIM:174763.0008', 'OMIM:109760.0001', 'OMIM:607194.0002', 'OMIM:609245.0006', 'OMIM:188830.0004', 'OMIM:300128.0005', 'OMIM:604733.0001', 'OMIM:131244.0002', 'OMIM:604447.0004', 'OMIM:602021.0001', 'OMIM:607037.0001', 'dbSNP:rs316241305', 'OMIM:600577.0009', 'OMIM:607397.0009', 'OMIM:133530.0008', 'ClinVarVariant:36221', 'OMIM:190195.0012', 'OMIM:600179.0003', 'OMIM:607199.0001', 'OMIM:602974.0001', 'OMIM:134797.0060', 'OMIM:300392.0022', 'OMIM:613878.0004', 'OMIM:619098.0002', 'OMIM:610362.0001', 'OMIM:610222.0002', 'OMIM:154235.0003', 'OMIM:134820.0004', 'OMIM:603409.0003', 'OMIM:612757.0001', 'OMIM:125270.0007', 'OMIM:617570.0002', 'OMIM:613497.0005', 'OMIM:164761.0019', 'OMIM:600958.0024', 'OMIM:164770.0016', 'OMIM:134370.0003', 'OMIM:610928.0002', 'OMIM:610924.0005', 'OMIM:600227.0004', 'OMIM:617110.0003', 'OMIM:300108.0001', 'OMIM:601147.0008', 'OMIM:300964.0001', 'OMIM:606682.0001', 'OMIM:609588.0005', 'OMIM:141800.0107', 'OMIM:107777.0019', 'OMIM:126650.0003', 'OMIM:604808.0001', 'OMIM:604277.0011', 'OMIM:607613.0001', 'OMIM:600650.0011', 'OMIM:603892.0002', 'OMIM:613363.0008', 'OMIM:300628.0008', 'OMIM:104311.0032', 'OMIM:120575.0002', 'ClinVarVariant:424962', 'OMIM:600227.0001', 'OMIM:251170.0017', 'OMIM:607199.0002', 'OMIM:162643.0003', 'OMIM:604027.0002', 'OMIM:612349.0010', 'OMIM:138850.0007', 'OMIM:120250.0002', 'OMIM:137030.0002', 'OMIM:603780.0011', 'OMIM:601567.0005', 'OMIM:601147.0009', 'OMIM:605792.0002', 'OMIM:607423.0017', 'OMIM:142989.0006', 'OMIM:606938.0019', 'OMIM:603372.0002', 'OMIM:147670.0003', 'OMIM:605795.0001', 'OMIM:136850.0012', 'dbSNP:rs314016574', 'OMIM:308380.0013', 'OMIM:300538.0017', 'OMIM:602642.0001', 'OMIM:147450.0013', 'OMIM:612349.0066', 'OMIM:618941.0002', 'OMIM:607036.0006', 'OMIM:602529.0008', 'OMIM:120436.0004', 'OMIM:613213.0004', 'OMIM:601785.0021', 'OMIM:605420.0002', 'OMIM:613037.0005', 'OMIM:605086.0003', 'OMIM:603051.0004', 'OMIM:611542.0002', 'OMIM:604384.0001', 'OMIM:314200.0009', 'OMIM:300490.0008', 'OMIM:120120.0036', 'OMIM:601175.0001', 'OMIM:300011.0012', 'OMIM:608439.0003', 'OMIM:607566.0009', 'OMIM:190195.0017', 'OMIM:609840.0004', 'OMIM:176880.0001', 'OMIM:618269.0004', 'OMIM:609390.0002', 'OMIM:613621.0002', 'OMIM:606871.0001', 'dbSNP:rs11148708', 'OMIM:190070.0026', 'OMIM:611524.0003', 'OMIM:608473.0002', 'OMIM:608025.0005', 'OMIM:615115.0003', 'OMIM:612082.0003', 'OMIM:191315.0006', 'OMIM:607900.0002', 'OMIM:603109.0001', 'OMIM:600529.0001', 'ClinVarVariant:493610', 'OMIM:615587.0007', 'OMIM:165230.0008', 'OMIM:150325.0004', 'OMIM:600211.0015', 'OMIM:600417.0005', 'OMIM:182860.0021', 'OMIM:179035.0006', 'OMIM:611279.0007', 'OMIM:610732.0003', 'OMIM:176880.0011', 'OMIM:176830.0007', 'OMIM:118425.0012', 'OMIM:613363.0009', 'dbSNP:rs4149080', 'dbSNP:rs16892135', 'OMIM:300841.0033', 'OMIM:176260.0002', 'OMIM:300474.0003', 'OMIM:617094.0006', 'OMIM:609017.0003', 'OMIM:182381.0003', 'OMIM:300005.0010', 'OMIM:138040.0009', 'ClinVarVariant:424334', 'OMIM:607839.0020', 'OMIM:602194.0010', 'dbSNP:rs6429703', 'OMIM:107265.0005', 'OMIM:609806.0043', 'OMIM:603198.0002', 'OMIM:606945.0060', 'OMIM:141900.0104', 'OMIM:300203.0012', 'OMIM:176710.0002', 'OMIM:600799.0007', 'OMIM:612498.0003', 'OMIM:608107.0009', 'ClinVarVariant:242460', 'OMIM:616023.0003', 'OMIM:608309.0006', 'OMIM:300248.0027', 'OMIM:600359.0002', 'OMIM:607623.0011', 'OMIM:600827.0002', 'dbSNP:rs2444896', 'OMIM:300248.0020', 'OMIM:606844.0003', 'OMIM:243305.0004', 'OMIM:613279.0002', 'OMIM:611061.0006', 'OMIM:608515.0002', 'ClinVarVariant:623122', 'OMIM:107680.0004', 'OMIM:608780.0001', 'OMIM:147730.0002', 'OMIM:607604.0002', 'OMIM:191306.0001', 'OMIM:300072.0005', 'OMIM:191190.0009', 'OMIM:602694.0003', 'ClinVarVariant:30774', 'OMIM:300039.0005', 'OMIM:604723.0002', 'OMIM:301300.0008', 'dbSNP:rs187319357', 'OMIM:604630.0002', 'OMIM:613868.0004', 'OMIM:300017.0009', 'OMIM:300205.0008', 'OMIM:615408.0005', 'OMIM:171900.0001', 'OMIM:610745.0007', 'OMIM:147582.0001', 'OMIM:312610.0013', 'OMIM:180380.0014', 'OMIM:604831.0005', 'OMIM:184757.0006', 'dbSNP:rs12569163', 'ClinVarVariant:32887', 'OMIM:192132.0006', 'dbSNP:rs80221606', 'OMIM:103600.0051', 'OMIM:613555.0003', 'OMIM:160720.0006', 'OMIM:160794.0001', 'OMIM:610746.0006', 'OMIM:590080.0003', 'OMIM:608072.0004', 'OMIM:601296.0002', 'OMIM:609309.0023', 'OMIM:600838.0009', 'OMIM:611501.0002', 'OMIM:191170.0011', 'OMIM:300382.0023', 'OMIM:147582.0004', 'OMIM:600450.0003', 'OMIM:300841.0164', 'OMIM:102560.0013', 'OMIM:615320.0009', 'OMIM:600528.0008', 'OMIM:609506.0013', 'OMIM:309060.0006', 'OMIM:102545.0002', 'OMIM:617083.0007', 'OMIM:133171.0001', 'OMIM:607542.0043', 'OMIM:141900.0261', 'OMIM:590050.0003', 'OMIM:614585.0002', 'OMIM:142000.0023', 'OMIM:614726.0002', 'OMIM:600211.0002', 'OMIM:602168.0002', 'OMIM:608552.0007', 'OMIM:600937.0019', 'OMIM:600970.0007', 'ClinVarVariant:7831', 'OMIM:176943.0017', 'OMIM:608684.0003', 'OMIM:605725.0004', 'OMIM:602427.0001', 'OMIM:300163.0012', 'OMIM:606463.0018', 'OMIM:178640.0002', 'OMIM:613878.0013', 'OMIM:603601.0003', 'OMIM:613815.0035', 'ClinVarVariant:635465', 'OMIM:613350.0010', 'OMIM:141900.0080', 'OMIM:608801.0002', 'OMIM:602662.0004', 'OMIM:604024.0003', 'OMIM:606869.0019', 'OMIM:608455.0021', 'OMIM:606945.0024', 'OMIM:120470.0006', 'OMIM:107470.0006', 'OMIM:300473.0021', 'OMIM:300032.0008', 'OMIM:182340.0012', 'OMIM:300644.0052', 'OMIM:607566.0003', 'OMIM:611458.0019', 'dbSNP:rs76164207', 'OMIM:164757.0007', 'ClinVarVariant:982520', 'OMIM:603593.0003', 'OMIM:600140.0010', 'OMIM:139311.0006', 'ClinVarVariant:864296', 'OMIM:194363.0007', 'OMIM:613896.0004', 'OMIM:122720.0003', 'OMIM:190990.0005', 'OMIM:606989.0010', 'OMIM:603883.0005', 'OMIM:604485.0002', 'OMIM:602694.0001', 'OMIM:164940.0001', 'OMIM:600725.0019', 'OMIM:600937.0015', 'OMIM:602703.0006', 'OMIM:300746.0066', 'OMIM:601717.0002', 'OMIM:300095.0004', 'OMIM:618455.0002', 'OMIM:142200.0035', 'OMIM:180069.0002', 'OMIM:604277.0019', 'OMIM:604485.0008', 'OMIM:605799.0001', 'OMIM:191030.0005', 'OMIM:190070.0015', 'OMIM:603590.0002', 'dbSNP:rs16921385', 'OMIM:607144.0006', 'OMIM:615903.0004', 'OMIM:600037.0007', 'OMIM:102630.0007', 'dbSNP:rs693680', 'OMIM:606630.0004', 'OMIM:107680.0015', 'OMIM:603465.0007', 'OMIM:600923.0002', 'OMIM:610613.0016', 'OMIM:608072.0005', 'OMIM:607108.0022', 'OMIM:603384.0001', 'OMIM:300644.0051', 'OMIM:601146.0006', 'OMIM:601687.0007', 'OMIM:617510.0001', 'OMIM:618689.0003', 'OMIM:603799.0009', 'OMIM:604212.0003', 'OMIM:614571.0011', 'OMIM:616768.0003', 'OMIM:601791.0001', 'OMIM:134850.0009', 'OMIM:164012.0004', 'OMIM:118494.0002', 'OMIM:608305.0005', 'OMIM:613815.0009', 'OMIM:516070.0002', 'OMIM:137780.0006', 'OMIM:602671.0014', 'OMIM:170995.0003', 'OMIM:120120.0044', 'OMIM:605197.0001', 'OMIM:613213.0010', 'OMIM:164860.0001', 'OMIM:602679.0002', 'OMIM:604611.0007', 'OMIM:612386.0011', 'OMIM:300247.0002', 'OMIM:604505.0011', 'OMIM:217070.0002', 'OMIM:602851.0005', 'OMIM:300292.0005', 'OMIM:617245.0003', 'OMIM:604619.0005', 'OMIM:602754.0001', 'OMIM:610142.0004', 'dbSNP:rs8040395', 'OMIM:614566.0001', 'OMIM:605555.0007', 'OMIM:300371.0001', 'OMIM:613577.0007', 'OMIM:606882.0020', 'OMIM:606478.0002', 'dbSNP:rs681524', 'OMIM:603647.0001', 'dbSNP:rs7744326', 'OMIM:600662.0005', 'OMIM:613228.0003', 'OMIM:606967.0009', 'OMIM:613602.0002', 'ClinVarVariant:418555', 'OMIM:164770.0001', 'ClinVarVariant:657428', 'OMIM:125647.0020', 'OMIM:142200.0017', 'OMIM:606416.0011', 'OMIM:602194.0012', 'OMIM:612801.0005', 'OMIM:618260.0004', 'OMIM:182310.0001', 'OMIM:609510.0001', 'OMIM:300172.0011', 'OMIM:603415.0003', 'OMIM:605206.0001', 'OMIM:601002.0006', 'OMIM:614258.0013', 'OMIM:607207.0005', 'OMIM:180069.0004', 'OMIM:607696.0006', 'OMIM:300386.0007', 'OMIM:611687.0001', 'OMIM:601949.0001', 'OMIM:107271.0002', 'ClinVarVariant:364264', 'OMIM:608111.0002', 'OMIM:141800.0015', 'OMIM:609701.0008', 'OMIM:607186.0002', 'OMIM:607009.0004', 'OMIM:615587.0003', 'OMIM:611006.0002', 'OMIM:606885.0012', 'OMIM:601692.0004', 'dbSNP:rs79396740', 'OMIM:610661.0007', 'OMIM:608662.0005', 'OMIM:113703.0002', 'OMIM:165240.0019', 'OMIM:601762.0006', 'OMIM:603634.0007', 'OMIM:612222.0018', 'OMIM:612971.0009', 'ClinVarVariant:551645', 'OMIM:300197.0005', 'OMIM:138491.0003', 'OMIM:604775.0001', 'OMIM:600840.0005', 'OMIM:188545.0002', 'OMIM:611507.0002', 'OMIM:609413.0001', 'OMIM:136350.0031', 'OMIM:138252.0007', 'OMIM:134850.0017', 'OMIM:141900.0504', 'OMIM:614141.0002', 'OMIM:606990.0001', 'OMIM:176640.0011', 'OMIM:600678.0011', 'OMIM:150100.0001', 'OMIM:613213.0019', 'OMIM:600024.0013', 'OMIM:604566.0004', 'OMIM:606045.0005', 'OMIM:618735.0001', 'OMIM:606157.0005', 'dbSNP:rs115863756', 'OMIM:601735.0004', 'OMIM:613165.0012', 'OMIM:107741.0024', 'OMIM:147569.0006', 'OMIM:602360.0002', 'OMIM:300841.0248', 'OMIM:601920.0005', 'OMIM:608025.0004', 'OMIM:608786.0006', 'OMIM:602658.0004', 'OMIM:605906.0007', 'OMIM:138252.0002', 'dbSNP:rs61747002', 'OMIM:613160.0002', 'OMIM:601920.0008', 'OMIM:180297.0002', 'OMIM:612392.0009', 'OMIM:604539.0001', 'OMIM:600897.0006', 'OMIM:609139.0002', 'OMIM:603470.0004', 'OMIM:600839.0005', 'OMIM:613893.0004', 'ClinVarVariant:434131', 'OMIM:611632.0006', 'OMIM:606725.0009', 'OMIM:606847.0011', 'OMIM:184757.0004', 'OMIM:142250.0013', 'OMIM:600229.0003', 'OMIM:300377.0067', 'OMIM:603495.0003', 'OMIM:601622.0006', 'OMIM:611409.0006', 'OMIM:142640.0001', 'OMIM:134850.0001', 'OMIM:602421.0121', 'OMIM:613846.0003', 'OMIM:606272.0018', 'OMIM:102600.0009', 'OMIM:603967.0001', 'OMIM:123690.0004', 'OMIM:138253.0004', 'OMIM:138850.0012', 'OMIM:139250.0022', 'OMIM:191845.0015', 'OMIM:606214.0006', 'OMIM:134370.0018', 'OMIM:610355.0007', 'OMIM:300841.0268', 'OMIM:604277.0010', 'OMIM:603273.0001', 'OMIM:612732.0009', 'OMIM:120960.0006', 'OMIM:617112.0002', 'OMIM:607379.0018', 'ClinVarVariant:13949', 'OMIM:614086.0001', 'OMIM:612758.0002', 'OMIM:120215.0008', 'OMIM:607556.0002', 'OMIM:602091.0006', 'OMIM:604384.0006', 'OMIM:600294.0001', 'OMIM:607199.0012', 'OMIM:308000.0032', 'OMIM:617608.0004', 'OMIM:607343.0003', 'OMIM:170260.0004', 'OMIM:238330.0001', 'OMIM:107777.0009', 'ClinVarVariant:660013', 'OMIM:610860.0010', 'OMIM:611386.0003', 'OMIM:611731.0003', 'OMIM:618586.0003', 'OMIM:612250.0001', 'OMIM:308000.0038', 'OMIM:603191.0009', 'OMIM:147670.0025', 'ClinVarVariant:33006', 'OMIM:141850.0031', 'OMIM:606973.0001', 'OMIM:604450.0004', 'OMIM:120180.0020', 'OMIM:112262.0001', 'OMIM:300292.0003', 'OMIM:167416.0008', 'OMIM:602118.0001', 'OMIM:602421.0036', 'dbSNP:rs75690380', 'OMIM:602997.0004', 'OMIM:603015.0001', 'OMIM:605555.0003', 'OMIM:602635.0020', 'OMIM:609631.0002', 'OMIM:123590.0006', 'OMIM:613113.0004', 'OMIM:603470.0019', 'OMIM:164920.0013', 'OMIM:611731.0053', 'OMIM:602024.0001', 'OMIM:300451.0022', 'OMIM:176876.0009', 'OMIM:615495.0001', 'OMIM:134820.0020', 'OMIM:180380.0026', 'OMIM:137290.0008', 'OMIM:190195.0026', 'OMIM:613719.0001', 'OMIM:613785.0004', 'OMIM:613165.0001', 'OMIM:606268.0001', 'OMIM:602744.0003', 'OMIM:605802.0011', 'OMIM:141800.0097', 'OMIM:602661.0006', 'OMIM:616215.0003', 'OMIM:602257.0007', 'OMIM:155541.0020', 'OMIM:601545.0004', 'OMIM:606934.0002', 'OMIM:607042.0004', 'OMIM:141900.0021', 'OMIM:300292.0008', 'OMIM:606551.0001', 'OMIM:112262.0002', 'OMIM:615322.0006', 'OMIM:141900.0144', 'OMIM:607300.0001', 'ClinVarVariant:18675', 'OMIM:605862.0001', 'OMIM:607878.0012', 'OMIM:610982.0003', 'OMIM:608489.0001', 'OMIM:176300.0046', 'OMIM:300473.0006', 'OMIM:141900.0206', 'OMIM:300470.0001', 'OMIM:120240.0019', 'OMIM:602860.0012', 'OMIM:610844.0011', 'OMIM:615292.0004', 'OMIM:150310.0013', 'OMIM:608465.0009', 'OMIM:611103.0004', 'OMIM:603033.0007', 'OMIM:604712.0005', 'OMIM:603109.0002', 'OMIM:611170.0006', 'OMIM:607170.0005', 'OMIM:602731.0002', 'OMIM:601199.0019', 'OMIM:125270.0008', 'OMIM:138252.0011', 'OMIM:610937.0009', 'OMIM:606726.0002', 'OMIM:603202.0001', 'OMIM:300248.0029', 'OMIM:300808.0012', 'OMIM:185620.0001', 'OMIM:141900.0356', 'OMIM:231675.0004', 'OMIM:300474.0001', 'OMIM:608761.0006', 'OMIM:617840.0002', 'OMIM:603718.0002', 'OMIM:613742.0002', 'OMIM:300904.0003', 'OMIM:600829.0004', 'OMIM:607102.0016', 'OMIM:601620.0005', 'OMIM:313700.0013', 'OMIM:300056.0002', 'OMIM:600678.0013', 'OMIM:608151.0013', 'OMIM:125255.0003', 'OMIM:617608.0002', 'OMIM:612779.0002', 'OMIM:109700.0003', 'OMIM:600859.0001', 'OMIM:607983.0001', 'OMIM:107910.0005', 'OMIM:604611.0010', 'OMIM:187790.0003', 'OMIM:610004.0002', 'OMIM:608830.0006', 'OMIM:612944.0004', 'OMIM:602616.0002', 'OMIM:603465.0003', 'OMIM:603835.0004', 'OMIM:606520.0001', 'OMIM:614041.0011', 'OMIM:612453.0004', 'OMIM:617083.0011', 'OMIM:176797.0001', 'OMIM:619129.0004', 'OMIM:107777.0006', 'OMIM:608124.0009', 'OMIM:180297.0010', 'OMIM:600582.0003', 'OMIM:601255.0015', 'OMIM:164761.0015', 'OMIM:601663.0001', 'OMIM:612021.0001', 'OMIM:614506.0006', 'OMIM:300035.0001', 'OMIM:180960.0002', 'OMIM:603517.0007', 'OMIM:609708.0028', 'OMIM:606879.0006', 'OMIM:191315.0010', 'OMIM:600946.0011', 'OMIM:605010.0007', 'OMIM:300377.0009', 'OMIM:601688.0003', 'OMIM:137190.0003', 'OMIM:103600.0037', 'OMIM:603937.0002', 'OMIM:604214.0002', 'OMIM:611499.0015', 'OMIM:604179.0001', 'OMIM:604322.0004', 'OMIM:605018.0012', 'OMIM:171834.0005', 'OMIM:604349.0004', 'OMIM:600129.0007', 'OMIM:600235.0001', 'dbSNP:rs4534636', 'ClinVarVariant:440223', 'OMIM:300841.0224', 'OMIM:313440.0001', 'OMIM:155760.0014', 'OMIM:120960.0004', 'OMIM:603355.0002', 'OMIM:134830.0005', 'OMIM:609736.0001', 'OMIM:600983.0005', 'OMIM:609855.0001', 'OMIM:616842.0004', 'OMIM:606352.0005', 'OMIM:300746.0100', 'OMIM:618277.0002', 'OMIM:606416.0005', 'OMIM:606885.0014', 'OMIM:613815.0029', 'OMIM:300823.0008', 'OMIM:600259.0016', 'OMIM:603507.0002', 'OMIM:612498.0006', 'OMIM:601652.0013', 'OMIM:606439.0006', 'OMIM:137070.0008', 'OMIM:603942.0005', 'OMIM:608307.0012', 'OMIM:611358.0004', 'OMIM:612029.0003', 'OMIM:300307.0003', 'OMIM:102600.0002', 'OMIM:147450.0002', 'OMIM:610089.0005', 'OMIM:601428.0006', 'OMIM:601240.0004', 'OMIM:614759.0002', 'OMIM:605446.0002', 'OMIM:120280.0008', 'OMIM:601860.0006', 'OMIM:137780.0011', 'OMIM:305900.9999', 'OMIM:600997.0001', 'OMIM:157140.0017', 'OMIM:611716.0001', 'OMIM:608205.0003', 'OMIM:109270.0030', 'OMIM:603576.0003', 'OMIM:602744.0002', 'OMIM:601284.0012', 'OMIM:605555.0004', 'OMIM:164761.0046', 'OMIM:602568.0002', 'OMIM:601595.0001', 'OMIM:603122.0004', 'OMIM:605427.0016', 'OMIM:300401.0018', 'OMIM:264900.0007', 'OMIM:611124.0010', 'OMIM:604590.0001', 'OMIM:182389.0005', 'OMIM:607102.0006', 'OMIM:606655.0001', 'OMIM:300169.0016', 'OMIM:191740.0017', 'OMIM:614631.0011', 'OMIM:613113.0028', 'OMIM:601652.0010', 'OMIM:300169.0005', 'OMIM:611124.0006', 'OMIM:602421.0056', 'OMIM:613213.0018', 'OMIM:607042.0001', 'OMIM:300392.0015', 'OMIM:611458.0013', 'OMIM:604875.0004', 'ClinVarVariant:17603', 'OMIM:608666.0002', 'OMIM:613602.0001', 'OMIM:173335.0003', 'OMIM:604720.0001', 'OMIM:300746.0089', 'OMIM:604632.0003', 'OMIM:314690.0008', 'OMIM:611103.0005', 'OMIM:607585.0006', 'dbSNP:rs17135437', 'OMIM:109270.0024', 'OMIM:607809.0002', 'OMIM:608205.0005', 'OMIM:606439.0005', 'OMIM:605185.0002', 'OMIM:601844.0001', 'OMIM:602166.0004', 'OMIM:615416.0002', 'OMIM:300039.0009', 'OMIM:100725.0004', 'OMIM:606873.0001', 'OMIM:142250.0019', 'OMIM:610619.0001', 'OMIM:613228.0012', 'OMIM:614829.0002', 'OMIM:120110.0016', 'OMIM:107773.0008', 'OMIM:618735.0003', 'OMIM:612502.0002', 'OMIM:113705.0044', 'OMIM:609708.0018', 'OMIM:604712.0013', 'OMIM:311850.0016', 'OMIM:610860.0013', 'OMIM:120290.0003', 'OMIM:107741.0013', 'OMIM:617048.0005', 'OMIM:606883.0006', 'OMIM:300040.0010', 'OMIM:121014.0020', 'OMIM:609309.0011', 'OMIM:608774.0001', 'ClinVarVariant:39626', 'dbSNP:rs2014357', 'OMIM:606709.0001', 'OMIM:607472.0001', 'OMIM:608892.0012', 'OMIM:608614.0006', 'OMIM:608756.0003', 'OMIM:100730.0001', 'OMIM:609689.0002', 'OMIM:142409.0001', 'OMIM:607878.0009', 'OMIM:615549.0007', 'OMIM:609826.0003', 'OMIM:300377.0034', 'OMIM:606869.0032', 'ClinVarVariant:29130', 'OMIM:147670.0021', 'OMIM:610148.0007', 'OMIM:600983.0020', 'OMIM:606060.0001', 'OMIM:300037.0001', 'OMIM:147470.0001', 'OMIM:311800.0012', 'OMIM:139250.0013', 'dbSNP:rs4742269', 'OMIM:613733.0023', 'OMIM:608307.0008', 'OMIM:100690.0006', 'OMIM:142000.0014', 'OMIM:248610.0010', 'OMIM:300644.0007', 'OMIM:611119.0010', 'OMIM:300481.0015', 'OMIM:602887.0005', 'OMIM:602054.0006', 'OMIM:238300.0006', 'OMIM:608111.0003', 'OMIM:601691.0008', 'OMIM:611282.0003', 'OMIM:173470.0003', 'OMIM:601094.0002', 'OMIM:606945.0047', 'OMIM:603029.0006', 'OMIM:300746.0009', 'OMIM:615408.0001', 'OMIM:601047.0004', 'OMIM:192977.0003', 'OMIM:610881.0001', 'OMIM:614218.0004', 'OMIM:607292.0002', 'ClinVarVariant:6659', 'OMIM:180250.0002', 'OMIM:100850.0005', 'OMIM:611654.0001', 'OMIM:610573.0004', 'OMIM:607063.0005', 'OMIM:120140.0036', 'OMIM:614515.0002', 'OMIM:601734.0005', 'OMIM:600140.0013', 'OMIM:603294.0008', 'OMIM:107300.0033', 'OMIM:609523.0001', 'OMIM:148041.0006', 'OMIM:590105.0002', 'ClinVarVariant:245904', 'OMIM:600579.0001', 'OMIM:608107.0016', 'OMIM:611562.0002', 'OMIM:120160.0022', 'OMIM:116899.0001', 'OMIM:190080.0004', 'OMIM:602666.0004', 'OMIM:300746.0110', 'OMIM:611357.0002', 'OMIM:614295.0001', 'OMIM:150330.0031', 'OMIM:602690.0002', 'OMIM:600985.0001', 'OMIM:130500.0005', 'OMIM:600725.0007', 'OMIM:601199.0051', 'OMIM:603504.0003', 'OMIM:607102.0027', 'OMIM:611744.0001', 'OMIM:173470.0010', 'OMIM:616658.0003', 'OMIM:609806.0005', 'OMIM:615291.0015', 'OMIM:613698.0005', 'OMIM:104760.0005', 'OMIM:134637.0007', 'OMIM:605725.0011', 'OMIM:604544.0008', 'OMIM:608473.0001', 'OMIM:102565.0008', 'OMIM:314995.0002', 'OMIM:176300.0003', 'OMIM:612222.0007', 'OMIM:124015.0005', 'ClinVarVariant:661592', 'OMIM:610897.0002', 'OMIM:146738.0001', 'OMIM:606025.0005', 'OMIM:600983.0011', 'OMIM:606152.0007', 'OMIM:602120.0004', 'OMIM:605634.0003', 'OMIM:612349.0039', 'OMIM:608958.0031', 'OMIM:604134.0012', 'ClinVarVariant:679848', 'OMIM:600509.0007', 'OMIM:138160.0001', 'ClinVarVariant:189483', 'OMIM:613816.0001', 'OMIM:118504.0003', 'OMIM:606158.0006', 'OMIM:120150.0063', 'OMIM:604592.0008', 'OMIM:182125.0008', 'OMIM:600287.0010', 'OMIM:613113.0012', 'OMIM:607939.0009', 'OMIM:603371.0008', 'OMIM:603824.0012', 'OMIM:608167.0007', 'OMIM:603005.0003', 'OMIM:612316.0005', 'OMIM:607575.0007', 'OMIM:607306.0015', 'dbSNP:rs6761655', 'OMIM:610206.0009', 'OMIM:147183.0002', 'ClinVarVariant:40032', 'ClinVarVariant:567556', 'OMIM:603381.0008', 'OMIM:608500.0003', 'OMIM:609845.0007', 'OMIM:608125.0002', 'OMIM:616899.0003', 'OMIM:612283.0024', 'OMIM:603111.0005', 'OMIM:607982.0001', 'OMIM:300628.0005', 'OMIM:609300.0002', 'OMIM:602421.0057', 'OMIM:607620.0003', 'OMIM:617220.0001', 'OMIM:605257.0008', 'OMIM:604766.0003', 'OMIM:613541.0002', 'OMIM:300202.0002', 'OMIM:607397.0005', 'OMIM:300205.0001', 'OMIM:601691.0010', 'OMIM:610194.0002', 'OMIM:516005.0005', 'OMIM:300490.0014', 'OMIM:600968.0010', 'OMIM:600574.0001', 'OMIM:606417.0002', 'OMIM:609347.0001', 'OMIM:601199.0007', 'OMIM:300766.0005', 'OMIM:182310.0005', 'OMIM:605459.0007', 'OMIM:610354.0001', 'OMIM:602997.0001', 'OMIM:300011.0014', 'OMIM:603201.0004', 'OMIM:613276.0004', 'OMIM:610110.0004', 'OMIM:609059.0011', 'OMIM:176943.0038', 'OMIM:604214.0007', 'ClinVarVariant:245787', 'OMIM:601897.0003', 'OMIM:300913.0005', 'OMIM:162662.0002', 'OMIM:120215.0001', 'OMIM:605284.0006', 'OMIM:602421.0048', 'OMIM:613890.0003', 'OMIM:604285.0015', 'OMIM:114206.0001', 'OMIM:608243.0002', 'OMIM:603089.0007', 'OMIM:601460.0004', 'OMIM:608735.0001', 'OMIM:609300.0005', 'OMIM:607522.0008', 'OMIM:613893.0002', 'OMIM:164731.0001', 'OMIM:608630.0014', 'OMIM:607849.0001', 'OMIM:611731.0001', 'OMIM:608833.0002', 'OMIM:147470.0002', 'OMIM:604327.0006', 'OMIM:611731.0019', 'OMIM:603537.0009', 'OMIM:607474.0001', 'OMIM:607999.0004', 'OMIM:163890.0005', 'OMIM:607009.0012', 'OMIM:604638.0003', 'OMIM:606938.0020', 'OMIM:617658.0001', 'OMIM:138079.0006', 'OMIM:120240.0014', 'OMIM:607001.0003', 'OMIM:607207.0004', 'OMIM:609712.0010', 'OMIM:138890.0003', 'OMIM:191135.0001', 'OMIM:162280.0005', 'OMIM:608226.0003', 'OMIM:602536.0009', 'OMIM:600939.0002', 'OMIM:609883.0009', 'OMIM:606272.0008', 'OMIM:617387.0004', 'OMIM:612003.0001', 'OMIM:600963.0003', 'OMIM:610148.0006', 'OMIM:160760.0016', 'OMIM:613733.0030', 'OMIM:606210.0007', 'OMIM:609806.0042', 'OMIM:617378.0003', 'OMIM:600574.0004', 'OMIM:607215.0002', 'OMIM:602376.0002', 'OMIM:176876.0010', 'OMIM:115501.0007', 'OMIM:610681.0007', 'OMIM:300746.0108', 'OMIM:176943.0014', 'OMIM:107670.0001', 'OMIM:604277.0021', 'OMIM:182309.0001', 'OMIM:606202.0003', 'OMIM:142200.0016', 'OMIM:311850.0005', 'OMIM:602063.0001', 'OMIM:606885.0010', 'OMIM:604285.0004', 'OMIM:604095.0002', 'OMIM:191170.0008', 'OMIM:604123.0002', 'OMIM:120140.0030', 'OMIM:182391.0004', 'OMIM:605988.0015', 'OMIM:300644.0043', 'OMIM:607606.0006', 'OMIM:610746.0001', 'OMIM:120150.0037', 'dbSNP:rs792975', 'OMIM:614386.0012', 'OMIM:600887.0003', 'OMIM:602376.0001', 'OMIM:605145.0007', 'OMIM:613169.0001', 'OMIM:601719.0006', 'OMIM:601011.0011', 'OMIM:610573.0005', 'OMIM:252800.0006', 'OMIM:613733.0020', 'OMIM:136132.0004', 'OMIM:300080.0005', 'OMIM:602544.0012', 'OMIM:613349.0008', 'OMIM:192240.0001', 'OMIM:602643.0003', 'OMIM:609720.0002', 'OMIM:606945.0009', 'OMIM:608205.0004', 'OMIM:606454.0006', 'OMIM:607474.0003', 'OMIM:601253.0018', 'OMIM:613871.0005', 'dbSNP:rs72810550', 'OMIM:606936.0006', 'OMIM:614258.0010', 'OMIM:608222.0008', 'OMIM:104160.0001', 'OMIM:613878.0018', 'OMIM:607210.0009', 'OMIM:607108.0007', 'OMIM:611731.0047', 'dbSNP:rs4742205', 'ClinVarVariant:854117', 'OMIM:603005.0001', 'OMIM:607606.0004', 'OMIM:602460.0002', 'OMIM:607421.0001', 'OMIM:609831.0007', 'OMIM:607574.0031', 'OMIM:604194.0007', 'OMIM:516006.0008', 'OMIM:603946.0004', 'OMIM:176300.0020', 'dbSNP:rs12320526', 'OMIM:611061.0012', 'OMIM:164757.0004', 'OMIM:142993.0004', 'ClinVarVariant:47215', 'OMIM:614584.0002', 'OMIM:608736.0002', 'OMIM:615320.0011', 'OMIM:138247.0006', 'OMIM:300841.0070', 'OMIM:604366.0002', 'OMIM:180071.0004', 'OMIM:606945.0010', 'OMIM:602280.0013', 'OMIM:616261.0001', 'OMIM:612753.0005', 'ClinVarVariant:468689', 'OMIM:102582.0012', 'OMIM:157147.0003', 'OMIM:107770.0001', 'OMIM:604878.0003', 'OMIM:191110.0005', 'OMIM:605446.0009', 'OMIM:607204.0002', 'OMIM:613580.0003', 'OMIM:300841.0244', 'OMIM:601330.0001', 'OMIM:602402.0016', 'OMIM:171760.0005', 'OMIM:300414.0005', 'OMIM:516004.0001', 'OMIM:606439.0015', 'ClinVarVariant:637608', 'OMIM:606897.0001', 'OMIM:125255.0004', 'OMIM:138090.0003', 'OMIM:190020.0001', 'OMIM:185470.0004', 'OMIM:303630.0004', 'OMIM:614461.0002', 'OMIM:610826.0003', 'OMIM:613276.0002', 'OMIM:611052.0001', 'OMIM:613599.0004', 'OMIM:601146.0002', 'OMIM:602981.0003', 'OMIM:186780.0002', 'OMIM:605947.0003', 'OMIM:614982.0019', 'OMIM:613872.0008', 'OMIM:602365.0001', 'OMIM:605131.0001', 'OMIM:313700.0035', 'OMIM:614107.0002', 'OMIM:612386.0010', 'OMIM:120920.0005', 'OMIM:590055.0003', 'OMIM:605257.0004', 'OMIM:603690.0001', 'OMIM:610575.0003', 'OMIM:606241.0011', 'OMIM:610956.0009', 'ClinVarVariant:982549', 'OMIM:139250.0009', 'OMIM:131320.0005', 'ClinVarVariant:665039', 'OMIM:600235.0003', 'OMIM:602769.0006', 'OMIM:605907.0003', 'OMIM:613441.0002', 'dbSNP:rs2293698', 'OMIM:121014.0011', 'OMIM:604188.0001', 'OMIM:605020.0003', 'OMIM:107323.0008', 'OMIM:600463.0003', 'OMIM:300538.0008', 'dbSNP:rs17216786', 'OMIM:600065.0011', 'OMIM:116952.0004', 'OMIM:601690.0002', 'OMIM:156100.0005', 'OMIM:180069.0003', 'OMIM:608160.0010', 'OMIM:604773.0005', 'OMIM:605988.0005', 'OMIM:601975.0003', 'OMIM:611055.0006', 'OMIM:164757.0010', 'OMIM:611360.0001', 'OMIM:607696.0002', 'OMIM:615115.0004', 'OMIM:606673.0003', 'OMIM:608877.0004', 'OMIM:601617.0008', 'OMIM:120180.0036', 'OMIM:608517.0004', 'OMIM:155555.0008', 'OMIM:142200.0006', 'OMIM:125255.0002', 'OMIM:602421.0099', 'OMIM:601814.0001', 'OMIM:603273.0020', 'OMIM:606596.0008', 'OMIM:608576.0005', 'OMIM:607575.0005', 'OMIM:604614.0005', 'OMIM:600112.0003', 'ClinVarVariant:38446', 'OMIM:120070.0006', 'OMIM:604574.0001', 'OMIM:609300.0016', 'ClinVarVariant:484600', 'OMIM:606945.0051', 'OMIM:607544.0001', 'OMIM:608374.0002', 'OMIM:100850.0003', 'OMIM:164011.0002', 'OMIM:616254.0010', 'OMIM:607860.0006', 'OMIM:172480.0004', 'OMIM:606897.0009', 'OMIM:615684.0003', 'dbSNP:rs78025620', 'OMIM:120160.0053', 'OMIM:613160.0012', 'OMIM:164920.0002', 'OMIM:120090.0004', 'OMIM:606945.0054', 'OMIM:134370.0004', 'OMIM:603593.0004', 'OMIM:606951.0005', 'ClinVarVariant:242581', 'OMIM:611731.0045', 'OMIM:300386.0002', 'OMIM:602726.0001', 'dbSNP:rs13353224', 'OMIM:138140.0023', 'OMIM:616213.0002', 'dbSNP:rs149564412', 'OMIM:600747.0002', 'OMIM:605712.0001', 'OMIM:603465.0001', 'OMIM:601860.0013', 'OMIM:300841.0063', 'OMIM:184756.0004', 'OMIM:606829.0004', 'OMIM:611684.0001', 'OMIM:618269.0005', 'OMIM:120520.0001', 'OMIM:608083.0006', 'OMIM:610456.0005', 'OMIM:141900.0069', 'OMIM:118955.0004', 'OMIM:605425.0003', 'OMIM:141900.0066', 'dbSNP:rs12762955', 'OMIM:606687.0004', 'OMIM:600354.0014', 'OMIM:143450.0010', 'ClinVarVariant:38435', 'OMIM:156560.0004', 'OMIM:603415.0011', 'ClinVarVariant:214532', 'OMIM:141800.0105', 'OMIM:606598.0013', 'OMIM:605908.0007', 'OMIM:140100.0001', 'OMIM:139250.0025', 'OMIM:107300.0035', 'OMIM:191525.0001', 'OMIM:142959.0006', 'OMIM:612850.0004', 'OMIM:616842.0006', 'OMIM:312040.0004', 'OMIM:120070.0010', 'OMIM:300120.0003', 'OMIM:602402.0013', 'OMIM:607617.0008', 'OMIM:609825.0007', 'OMIM:120180.0012', 'OMIM:604144.0002', 'OMIM:603248.0003', 'OMIM:176300.0034', 'OMIM:134637.0006', 'OMIM:607300.0003', 'OMIM:134797.0055', 'OMIM:138945.0019', 'OMIM:606609.0002', 'OMIM:139185.0001', 'OMIM:600574.0010', 'OMIM:605367.0003', 'OMIM:606834.0004', 'OMIM:167420.0001', 'OMIM:607803.0001', 'OMIM:605423.0007', 'OMIM:103710.0001', 'OMIM:611104.0001', 'OMIM:138130.0004', 'OMIM:603506.0019', 'OMIM:139320.0032', 'OMIM:179615.0012', 'OMIM:610844.0005', 'OMIM:607245.0002', 'OMIM:300036.0007', 'OMIM:608300.0006', 'dbSNP:rs301440', 'OMIM:601002.0002', 'OMIM:600943.0001', 'OMIM:184420.0001', 'OMIM:300644.0022', 'OMIM:300841.0249', 'OMIM:141800.0034', 'OMIM:602568.0001', 'OMIM:608830.0015', 'OMIM:612648.0001', 'OMIM:120324.0001', 'OMIM:607063.0003', 'OMIM:607211.0008', 'OMIM:182390.0014', 'OMIM:118423.0004', 'OMIM:616372.0001', 'OMIM:311850.0011', 'OMIM:610453.0009', 'OMIM:191315.0003', 'dbSNP:rs138126300', 'OMIM:602166.0002', 'OMIM:141900.0417', 'OMIM:608833.0008', 'OMIM:601538.0010', 'OMIM:182309.0006', 'OMIM:605744.0003', 'OMIM:104155.0001', 'OMIM:141800.0194', 'OMIM:604105.0001', 'OMIM:300157.0001', 'OMIM:165190.0002', 'OMIM:600618.0003', 'OMIM:604283.0004', 'OMIM:602280.0011', 'OMIM:606034.0005', 'OMIM:601731.0004', 'OMIM:617570.0004', 'OMIM:300131.0001', 'OMIM:600985.0007', 'OMIM:300933.0001', 'OMIM:314200.0003', 'OMIM:602731.0001', 'OMIM:601421.0011', 'OMIM:107265.0002', 'OMIM:300017.0031', 'OMIM:602666.0007', 'OMIM:609708.0017', 'OMIM:613942.0006', 'OMIM:602208.0002', 'OMIM:133171.0005', 'OMIM:100790.0002', 'OMIM:602466.0001', 'OMIM:605113.0004', 'OMIM:312610.0018', 'OMIM:614708.0005', 'OMIM:608508.0011', 'OMIM:614770.0001', 'OMIM:156100.0003', 'OMIM:618085.0005', 'ClinVarVariant:964652', 'OMIM:600632.0001', 'dbSNP:rs17228156', 'OMIM:305371.0006', 'OMIM:136350.0015', 'OMIM:312610.0002', 'OMIM:602574.0008', 'OMIM:164757.0015', 'OMIM:607951.0001', 'OMIM:612801.0003', 'OMIM:607478.0002', 'OMIM:141900.0117', 'OMIM:100690.0007', 'OMIM:604581.0014', 'OMIM:605446.0004', 'OMIM:300841.0208', 'OMIM:264900.0014', 'OMIM:602671.0011', 'OMIM:138247.0005', 'OMIM:614666.0001', 'OMIM:602997.0009', 'OMIM:601592.0015', 'OMIM:600617.0002', 'OMIM:611492.0004', 'OMIM:191110.0006', 'OMIM:608400.0012', 'OMIM:608769.0002', 'OMIM:612349.0047', 'ClinVarVariant:13665', 'OMIM:614574.0004', 'OMIM:612360.0002', 'OMIM:137960.0007', 'OMIM:607854.0024', 'OMIM:300658.0007', 'OMIM:608488.0001', 'OMIM:138253.0003', 'OMIM:601730.0001', 'OMIM:608455.0013', 'OMIM:264900.0013', 'OMIM:610453.0002', 'OMIM:607928.0003', 'OMIM:601181.0001', 'OMIM:614708.0001', 'OMIM:609875.0002', 'OMIM:612374.0003', 'OMIM:611654.0004', 'dbSNP:rs28533249', 'OMIM:606761.0008', 'OMIM:609751.0007', 'OMIM:176893.0001', 'OMIM:611994.0001', 'OMIM:142600.0002', 'OMIM:309060.0003', 'OMIM:300841.0022', 'ClinVarVariant:70540', 'OMIM:600556.0004', 'OMIM:141800.0081', 'OMIM:141850.0015', 'OMIM:606821.0006', 'OMIM:610613.0013', 'OMIM:607102.0008', 'OMIM:300034.0002', 'OMIM:601146.0014', 'OMIM:606061.0003', 'dbSNP:rs2636697', 'OMIM:600287.0005', 'OMIM:603681.0008', 'OMIM:609826.0005', 'ClinVarVariant:98339', 'OMIM:603593.0010', 'OMIM:150340.0001', 'OMIM:613890.0008', 'OMIM:605206.0007', 'OMIM:613469.0008', 'OMIM:608329.0006', 'OMIM:605268.0001', 'OMIM:606214.0004', 'OMIM:613598.0001', 'OMIM:124010.0002', 'OMIM:300168.0002', 'OMIM:612074.0001', 'OMIM:602421.0110', 'OMIM:603089.0001', 'OMIM:602229.0006', 'OMIM:300382.0025', 'OMIM:601615.0004', 'OMIM:608833.0006', 'OMIM:611595.0003', 'OMIM:300836.0001', 'OMIM:150290.0001', 'OMIM:180380.0008', 'OMIM:603959.0018', 'OMIM:146690.0006', 'OMIM:601296.0004', 'OMIM:601925.0002', 'OMIM:134580.0005', 'OMIM:120130.0010', 'OMIM:139350.0013', 'OMIM:607379.0004', 'OMIM:603708.0008', 'OMIM:139312.0005', 'OMIM:190182.0020', 'OMIM:182310.0006', 'OMIM:608465.0001', 'OMIM:138033.0001', 'OMIM:134820.0018', 'OMIM:613113.0006', 'OMIM:190220.0005', 'OMIM:313700.0019', 'OMIM:603652.0003', 'OMIM:604384.0005', 'OMIM:612515.0005', 'ClinVarVariant:38832', 'OMIM:600570.0005', 'OMIM:190160.0031', 'OMIM:601617.0001', 'OMIM:141900.0462', 'OMIM:300017.0024', 'OMIM:607854.0002', 'ClinVarVariant:22204', 'OMIM:608625.0002', 'OMIM:107680.0021', 'OMIM:601622.0001', 'OMIM:300474.0004', 'OMIM:602050.0004', 'OMIM:612392.0005', 'OMIM:607040.0002', 'OMIM:612724.0008', 'OMIM:601928.0002', 'OMIM:602627.0001', 'OMIM:603959.0006', 'OMIM:611430.0005', 'dbSNP:rs312680651', 'OMIM:608700.0002', 'OMIM:600617.0004', 'OMIM:300644.0019', 'OMIM:606464.0002', 'OMIM:601282.0006', 'OMIM:608803.0004', 'OMIM:601893.0007', 'OMIM:601639.0001', 'OMIM:300379.0005', 'OMIM:602529.0005', 'ClinVarVariant:237656', 'OMIM:609173.0003', 'OMIM:607002.0002', 'OMIM:602616.0005', 'OMIM:300386.0014', 'dbSNP:rs1532815', 'OMIM:126064.0009', 'ClinVarVariant:244069', 'OMIM:602635.0002', 'OMIM:603263.0004', 'OMIM:609751.0006', 'OMIM:604436.0003', 'OMIM:108740.0009', 'OMIM:617266.0001', 'OMIM:606207.0003', 'OMIM:147571.0001', 'OMIM:607574.0004', 'OMIM:607805.0004', 'OMIM:164040.0006', 'OMIM:605242.0001', 'OMIM:607481.0004', 'dbSNP:rs313064336', 'OMIM:137167.0004', 'OMIM:603683.0001', 'ClinVarVariant:47697', 'OMIM:300300.0029', 'OMIM:300196.0002', 'OMIM:607340.0005', 'OMIM:173335.0010', 'OMIM:300248.0031', 'OMIM:601860.0001', 'OMIM:147730.0005', 'OMIM:147370.0004', 'OMIM:606014.0007', 'OMIM:603123.0003', 'OMIM:300897.0008', 'OMIM:107776.0002', 'OMIM:302910.0004', 'OMIM:603234.0010', 'OMIM:600492.0002', 'OMIM:613160.0015', 'OMIM:611577.0003', 'OMIM:160777.0003', 'OMIM:608945.0001', 'OMIM:604384.0002', 'OMIM:603372.0020', 'OMIM:613129.0002', 'OMIM:125255.0001', 'OMIM:611177.0002', 'dbSNP:rs1568679', 'OMIM:600555.0027', 'OMIM:608958.0028', 'OMIM:601566.0003', 'OMIM:604144.0004', 'OMIM:604368.0006', 'OMIM:180901.0001', 'OMIM:300647.0003', 'OMIM:616144.0002', 'OMIM:300647.0001', 'OMIM:608515.0004', 'OMIM:602861.0002', 'OMIM:141850.0006', 'OMIM:613129.0007', 'OMIM:300841.0037', 'OMIM:133520.0007', 'OMIM:607009.0002', 'OMIM:612907.0010', 'OMIM:128239.0004', 'OMIM:600937.0003', 'OMIM:600839.0004', 'OMIM:603197.0007', 'OMIM:613733.0015', 'OMIM:603714.0008', 'OMIM:613160.0033', 'OMIM:516005.0003', 'OMIM:300350.0003', 'OMIM:300170.0009', 'OMIM:601288.0003', 'OMIM:155541.0013', 'OMIM:142250.0036', 'OMIM:605257.0009', 'OMIM:606945.0050', 'OMIM:618058.0003', 'OMIM:602717.0003', 'OMIM:605537.0005', 'OMIM:606522.0002', 'OMIM:118661.0001', 'OMIM:603650.0006', 'OMIM:600185.0010', 'OMIM:612452.0003', 'OMIM:605427.0008', 'OMIM:179035.0005', 'OMIM:604457.0002', 'OMIM:602216.0002', 'OMIM:604368.0004', 'OMIM:601656.0005', 'OMIM:607206.0001', 'OMIM:606605.0001', 'OMIM:608307.0013', 'OMIM:609369.0002', 'OMIM:607100.0003', 'OMIM:600211.0013', 'OMIM:190182.0001', 'ClinVarVariant:188792', 'OMIM:300841.0094', 'OMIM:300644.0061', 'OMIM:614245.0009', 'OMIM:123690.0002', 'OMIM:600031.0004', 'OMIM:147670.0006', 'OMIM:606453.0002', 'OMIM:139191.0003', 'OMIM:610513.0008', 'OMIM:604433.0001', 'OMIM:602195.0001', 'OMIM:611542.0009', 'OMIM:603254.0011', 'OMIM:601785.0007', 'ClinVarVariant:642358', 'OMIM:608480.0001', 'OMIM:607608.0004', 'OMIM:602292.0010', 'OMIM:600963.0001', 'OMIM:613349.0026', 'OMIM:118425.0013', 'OMIM:104760.0016', 'OMIM:605632.0002', 'OMIM:300746.0082', 'OMIM:607386.0006', 'OMIM:160776.0002', 'OMIM:613733.0012', 'OMIM:300128.0004', 'OMIM:600529.0004', 'OMIM:608416.0005', 'OMIM:300550.0007', 'OMIM:607261.0007', 'OMIM:602125.0001', 'OMIM:300386.0004', 'OMIM:120140.0044', 'OMIM:120210.0002', 'OMIM:613111.0012', 'OMIM:190181.0005', 'OMIM:605514.0006', 'OMIM:590100.0001', 'OMIM:607040.0001', 'OMIM:613497.0004', 'OMIM:590095.0003', 'OMIM:102560.0010', 'OMIM:173335.0019', 'OMIM:605186.0001', 'OMIM:606622.0005', 'ClinVarVariant:37038', 'OMIM:606636.0008', 'OMIM:120900.0001', 'OMIM:141800.0048', 'OMIM:606639.0003', 'OMIM:248611.0004', 'OMIM:139320.0027', 'OMIM:605908.0012', 'OMIM:179035.0002', 'OMIM:614649.0001', 'OMIM:190182.0014', 'ClinVarVariant:371477', 'OMIM:614423.0003', 'OMIM:179616.0010', 'OMIM:300386.0009', 'OMIM:300075.0018', 'OMIM:120140.0055', 'OMIM:102573.0010', 'OMIM:300746.0016', 'OMIM:618255.0005', 'OMIM:300017.0019', 'OMIM:301300.0019', 'OMIM:609377.0002', 'OMIM:300746.0070', 'OMIM:300161.0002', 'OMIM:148066.0002', 'OMIM:603332.0003', 'OMIM:610206.0001', 'OMIM:607939.0015', 'OMIM:602192.0007', 'OMIM:602410.0007', 'OMIM:609884.0004', 'OMIM:603294.0001', 'OMIM:602229.0016', 'OMIM:114800.0001', 'OMIM:165215.0001', 'OMIM:612322.0002', 'OMIM:192090.0001', 'OMIM:102575.0002', 'dbSNP:rs12675862', 'OMIM:137163.0002', 'OMIM:603213.0002', 'OMIM:607672.0002', 'OMIM:611145.0003', 'OMIM:610619.0006', 'OMIM:602421.0124', 'OMIM:614041.0003', 'OMIM:604159.0003', 'OMIM:121014.0005', 'OMIM:608455.0014', 'OMIM:300011.0013', 'OMIM:300307.0005', 'OMIM:612048.0002', 'OMIM:610142.0008', 'OMIM:167416.0007', 'OMIM:603381.0005', 'OMIM:608873.0003', 'OMIM:141800.0078', 'ClinVarVariant:942694', 'OMIM:605420.0013', 'OMIM:606945.0014', 'OMIM:191760.0001', 'OMIM:608034.0006', 'OMIM:141900.0239', 'OMIM:300005.0034', 'OMIM:614917.0001', 'OMIM:114208.0009', 'OMIM:155760.0005', 'OMIM:609562.0004', 'OMIM:601368.0002', 'OMIM:615316.0008', 'OMIM:605242.0008', 'OMIM:600129.0008', 'OMIM:176943.0035', 'OMIM:602650.0006', 'OMIM:602368.0001', 'OMIM:300481.0018', 'OMIM:617094.0004', 'OMIM:135940.0004', 'OMIM:600571.0002', 'OMIM:610194.0006', 'OMIM:173110.0011', 'ClinVarVariant:38466', 'OMIM:180901.0005', 'OMIM:136132.0005', 'OMIM:613524.0006', 'OMIM:614864.0003', 'OMIM:612515.0008', 'OMIM:601247.0002', 'OMIM:136435.0011', 'OMIM:121015.0005', 'OMIM:123730.0002', 'OMIM:305900.0012', 'OMIM:167409.0013', 'OMIM:614647.0004', 'OMIM:610463.0004', 'OMIM:614725.0004', 'OMIM:606885.0016', 'OMIM:600286.0002', 'OMIM:608756.0002', 'OMIM:610045.0005', 'OMIM:606530.0012', 'OMIM:614426.0002', 'OMIM:163890.0002', 'OMIM:123580.0001', 'OMIM:300481.0001', 'OMIM:141900.0382', 'OMIM:600275.0005', 'OMIM:600805.0004', 'OMIM:616144.0001', 'OMIM:602783.0007', 'OMIM:314690.0006', 'OMIM:590070.0006', 'OMIM:602397.0008', 'OMIM:607440.0003', 'OMIM:300560.0003', 'OMIM:120180.0030', 'dbSNP:rs1187614', 'OMIM:615790.0005', 'OMIM:606933.0014', 'OMIM:109480.0001', 'OMIM:602783.0003', 'OMIM:605555.0005', 'OMIM:601097.0013', 'OMIM:612991.0004', 'OMIM:179605.0002', 'OMIM:176830.0006', 'OMIM:613111.0010', 'OMIM:164005.0008', 'OMIM:142250.0012', 'dbSNP:rs139944141', 'OMIM:600163.0013', 'ClinVarVariant:242672', 'OMIM:600946.0032', 'OMIM:603109.0004', 'OMIM:610512.0002', 'OMIM:606597.0015', 'OMIM:602858.0020', 'OMIM:612803.0008', 'OMIM:609948.0002', 'OMIM:613469.0005', 'OMIM:300255.0002', 'OMIM:601309.0010', 'OMIM:607574.0033', 'OMIM:615944.0003', 'OMIM:614620.0002', 'OMIM:176260.0008', 'OMIM:600900.0006', 'OMIM:300708.0002', 'OMIM:612636.0007', 'OMIM:602115.0005', 'OMIM:600760.0004', 'OMIM:300473.0023', 'OMIM:603453.0003', 'OMIM:607601.0003', 'OMIM:600053.0006', 'OMIM:600618.0004', 'OMIM:156560.0001', 'OMIM:606247.0002', 'OMIM:600046.0022', 'ClinVarVariant:647926', 'OMIM:168470.0004', 'OMIM:600968.0004', 'OMIM:607556.0003', 'OMIM:104170.0005', 'ClinVarVariant:242639', 'OMIM:603967.0014', 'OMIM:141900.0037', 'OMIM:617424.0004', 'OMIM:600827.0007', 'OMIM:157140.0020', 'OMIM:120220.0006', 'OMIM:601566.0001', 'OMIM:189964.0002', 'OMIM:601609.0002', 'OMIM:300386.0005', 'OMIM:611971.0003', 'OMIM:613160.0031', 'OMIM:607380.0004', 'OMIM:107730.0011', 'OMIM:603824.0002', 'OMIM:604653.0004', 'OMIM:300121.0004', 'OMIM:138253.0006', 'OMIM:604285.0008', 'OMIM:603033.0002', 'OMIM:300658.0001', 'OMIM:610206.0006', 'OMIM:609186.0004', 'OMIM:176946.0001', 'OMIM:146710.0002', 'OMIM:184430.0003', 'OMIM:601758.0012', 'OMIM:601920.0013', 'OMIM:161015.0003', 'OMIM:603711.0005', 'OMIM:300034.0003', 'OMIM:606152.0005', 'OMIM:606811.0003', 'OMIM:608047.0003', 'OMIM:174763.0010', 'OMIM:602298.0001', 'OMIM:168468.0011', 'OMIM:608148.0003', 'OMIM:618334.0002', 'OMIM:608648.0003', 'OMIM:601149.0003', 'OMIM:123590.0001', 'OMIM:602690.0021', 'OMIM:606870.0006', 'OMIM:608667.0010', 'OMIM:107680.0022', 'OMIM:608507.0007', 'OMIM:607102.0003', 'OMIM:602216.0018', 'OMIM:601065.0005', 'OMIM:600725.0017', 'OMIM:601865.0001', 'OMIM:610865.0001', 'OMIM:601033.0001', 'OMIM:607562.0002', 'OMIM:605713.0004', 'OMIM:607273.0016', 'OMIM:182870.0007', 'OMIM:125270.0005', 'OMIM:300841.0088', 'OMIM:602991.0019', 'OMIM:164950.0008', 'OMIM:113705.0035', 'OMIM:607542.0017', 'OMIM:300502.0003', 'OMIM:610844.0006', 'OMIM:610534.0002', 'OMIM:606860.0004', 'OMIM:603647.0003', 'OMIM:601620.0007', 'OMIM:613111.0003', 'OMIM:613629.0001', 'OMIM:300550.0002', 'OMIM:601758.0009', 'OMIM:603962.0005', 'OMIM:123101.0001', 'ClinVarVariant:6493', 'dbSNP:rs2157250', 'OMIM:603372.0030', 'ClinVarVariant:1352', 'OMIM:615140.0001', 'OMIM:139370.0002', 'OMIM:300414.0006', 'dbSNP:rs179429', 'ClinVarVariant:970502', 'OMIM:173515.0005', 'OMIM:607118.0001', 'OMIM:300401.0017', 'OMIM:606830.0007', 'OMIM:301300.0020', 'OMIM:605802.0015', 'OMIM:107777.0012', 'OMIM:608433.0002', 'OMIM:600855.0001', 'OMIM:603377.0009', 'OMIM:618980.0002', 'OMIM:600734.0004', 'OMIM:603604.0012', 'OMIM:601240.0003', 'dbSNP:rs2213635', 'dbSNP:rs1126828', 'ClinVarVariant:104942', 'OMIM:600220.0002', 'OMIM:114180.0004', 'OMIM:611409.0002', 'OMIM:177400.0002', 'OMIM:606326.0002', 'OMIM:147571.0002', 'OMIM:141900.0214', 'OMIM:618255.0002', 'OMIM:300490.0007', 'OMIM:176300.0011', 'OMIM:600929.0003', 'OMIM:171640.0002', 'OMIM:150310.0010', 'OMIM:607878.0007', 'OMIM:609424.0001', 'OMIM:611211.0001', 'ClinVarVariant:242499', 'OMIM:601757.0010', 'OMIM:606706.0003', 'OMIM:611935.0002', 'OMIM:607929.0007', 'OMIM:606412.0009', 'OMIM:590075.0001', 'OMIM:610937.0010', 'OMIM:609144.0004', 'OMIM:159440.0033', 'OMIM:601253.0003', 'OMIM:607542.0027', 'OMIM:606945.0049', 'OMIM:606412.0008', 'dbSNP:rs10949481', 'OMIM:124080.0009', 'OMIM:609530.0001', 'OMIM:605232.0008', 'OMIM:603743.0002', 'OMIM:150330.0018', 'ClinVarVariant:48594', 'OMIM:614661.0001', 'OMIM:614780.0002', 'OMIM:276903.0008', 'OMIM:602115.0002', 'OMIM:104760.0020', 'OMIM:607759.0004', 'OMIM:164860.0008', 'OMIM:137163.0001', 'OMIM:120436.0016', 'OMIM:103600.0015', 'OMIM:603384.0007', 'OMIM:138140.0017', 'OMIM:147370.0001', 'OMIM:611910.0001', 'OMIM:300392.0010', 'ClinVarVariant:575306', 'OMIM:603722.0003', 'OMIM:300841.0205', 'OMIM:607839.0002', 'OMIM:313700.0051', 'OMIM:164017.0001', 'OMIM:190160.0042', 'OMIM:159530.0004', 'OMIM:300392.0009', 'OMIM:120260.0005', 'OMIM:607542.0046', 'OMIM:604592.0005', 'OMIM:300841.0039', 'OMIM:157140.0025', 'OMIM:605947.0001', 'OMIM:180901.0007', 'OMIM:605185.0003', 'OMIM:164005.0002', 'OMIM:603506.0001', 'ClinVarVariant:242617', 'OMIM:605646.0027', 'OMIM:190020.0012', 'OMIM:605516.0016', 'OMIM:602090.0010', 'dbSNP:rs12565755', 'OMIM:608272.0016', 'ClinVarVariant:370303', 'OMIM:609806.0030', 'OMIM:612757.0010', 'ClinVarVariant:536104', 'OMIM:608568.0004', 'OMIM:608630.0002', 'OMIM:601656.0008', 'OMIM:102565.0003', 'OMIM:176847.0001', 'OMIM:606945.0035', 'OMIM:601656.0002', 'OMIM:614179.0001', 'OMIM:604144.0006', 'OMIM:605202.0008', 'OMIM:300248.0015', 'OMIM:191290.0003', 'OMIM:612349.0049', 'OMIM:614515.0003', 'OMIM:603213.0003', 'OMIM:120160.0038', 'dbSNP:rs11242445', 'OMIM:168468.0002', 'ClinVarVariant:242641', 'OMIM:608272.0010', 'ClinVarVariant:244097', 'OMIM:613138.0005', 'OMIM:610044.0004', 'OMIM:615623.0004', 'OMIM:601570.0001', 'OMIM:300823.0017', 'OMIM:300841.0172', 'ClinVarVariant:23204', 'OMIM:607301.0001', 'OMIM:613113.0010', 'OMIM:606630.0003', 'OMIM:616663.0002', 'OMIM:604831.0003', 'OMIM:611026.0006', 'OMIM:614726.0001', 'OMIM:120700.0007', 'OMIM:300515.0006', 'OMIM:603826.0003', 'OMIM:123825.0004', 'OMIM:609332.0010', 'OMIM:107400.0014', 'OMIM:617570.0003', 'OMIM:614518.0001', 'OMIM:104760.0017', 'OMIM:611432.0004', 'OMIM:276903.0019', 'OMIM:605078.0001', 'OMIM:264900.0004', 'OMIM:312610.0022', 'OMIM:606967.0007', 'OMIM:603859.0006', 'OMIM:603873.0001', 'OMIM:613297.0001', 'OMIM:618628.0003', 'OMIM:164975.0003', 'OMIM:136350.0029', 'OMIM:190198.0007', 'OMIM:173335.0007', 'OMIM:217050.0003', 'OMIM:612373.0014', 'OMIM:611974.0001', 'OMIM:603645.0001', 'OMIM:608374.0007', 'OMIM:607574.0034', 'OMIM:609690.0001', 'dbSNP:rs525455', 'OMIM:613349.0040', 'OMIM:176943.0004', 'OMIM:300075.0014', 'OMIM:608697.0001', 'OMIM:300163.0005', 'OMIM:305900.0017', 'OMIM:612222.0002', 'OMIM:300037.0008', 'OMIM:608628.0003', 'OMIM:614708.0003', 'OMIM:608310.0004', 'OMIM:300079.0006', 'OMIM:120140.0012', 'OMIM:300070.0001', 'OMIM:308840.0018', 'OMIM:603537.0003', 'OMIM:150310.0017', 'OMIM:600098.0001', 'OMIM:612800.0001', 'OMIM:602365.0005', 'OMIM:610275.0001', 'OMIM:107300.0012', 'OMIM:179615.0003', 'OMIM:604270.0009', 'OMIM:608662.0007', 'OMIM:612661.0002', 'OMIM:190070.0024', 'OMIM:611550.0001', 'ClinVarVariant:851749', 'OMIM:600020.0001', 'OMIM:600579.0002', 'OMIM:173350.0006', 'OMIM:606416.0010', 'OMIM:607939.0012', 'ClinVarVariant:817614', 'OMIM:615876.0005', 'OMIM:612392.0002', 'OMIM:600839.0010', 'OMIM:590085.0002', 'OMIM:602053.0004', 'ClinVarVariant:216422', 'OMIM:604417.0002', 'dbSNP:rs13137105', 'OMIM:602938.0001', 'OMIM:602292.0011', 'OMIM:612719.0008', 'OMIM:300697.0006', 'OMIM:612349.0008', 'OMIM:146920.0016', 'OMIM:134820.0023', 'OMIM:613900.0005', 'OMIM:300897.0004', 'OMIM:603711.0010', 'OMIM:608833.0012', 'OMIM:613160.0028', 'OMIM:612870.0005', 'OMIM:605242.0011', 'OMIM:600555.0011', 'OMIM:611927.0010', 'OMIM:610613.0003', 'OMIM:600287.0003', 'dbSNP:rs150226882', 'OMIM:516040.0001', 'OMIM:141900.0285', 'OMIM:605522.0019', 'OMIM:606870.0005', 'OMIM:603727.0003', 'OMIM:601865.0003', 'OMIM:611220.0003', 'OMIM:602049.0001', 'OMIM:611026.0002', 'ClinVarVariant:20347', 'OMIM:604685.0001', 'OMIM:176876.0027', 'OMIM:147440.0001', 'OMIM:612688.0003', 'OMIM:133510.0005', 'OMIM:601789.0004', 'OMIM:243305.0001', 'OMIM:614566.0003', 'OMIM:608083.0010', 'OMIM:601641.0001', 'OMIM:605597.0005', 'dbSNP:rs1057910', 'OMIM:604096.0004', 'OMIM:120940.0002', 'OMIM:618981.0002', 'OMIM:300556.0001', 'OMIM:609309.0006', 'OMIM:142250.0041', 'OMIM:610523.0004', 'dbSNP:rs6052699', 'OMIM:608005.0006', 'OMIM:171760.0009', 'OMIM:607393.0009', 'OMIM:602717.0004', 'OMIM:190160.0004', 'OMIM:611357.0003', 'OMIM:141900.0494', 'ClinVarVariant:133083', 'OMIM:611495.0003', 'OMIM:300841.0081', 'ClinVarVariant:50263', 'OMIM:138040.0001', 'OMIM:171834.0016', 'OMIM:300188.0002', 'OMIM:604285.0005', 'OMIM:611632.0005', 'OMIM:601498.0007', 'OMIM:601146.0011', 'OMIM:238331.0002', 'OMIM:121011.0010', 'OMIM:131320.0014', 'OMIM:300524.0006', 'OMIM:603557.0005', 'OMIM:612395.0004', 'OMIM:120120.0018', 'OMIM:608441.0013', 'OMIM:607379.0016', 'OMIM:606742.0001', 'OMIM:608830.0005', 'OMIM:600185.0018', 'dbSNP:rs6790433', 'OMIM:191845.0006', 'OMIM:164950.0003', 'OMIM:152200.0007', 'OMIM:186973.0002', 'OMIM:300395.0002', 'OMIM:606967.0006', 'OMIM:300206.0003', 'OMIM:603850.0004', 'dbSNP:rs10100651', 'OMIM:120220.0011', 'OMIM:607575.0003', 'OMIM:191163.0001', 'OMIM:190080.0002', 'ClinVarVariant:14330', 'OMIM:147557.0013', 'OMIM:300841.0035', 'OMIM:601517.0001', 'dbSNP:rs17651157', 'OMIM:174762.0006', 'OMIM:603324.0003', 'OMIM:608815.0006', 'OMIM:120160.0049', 'OMIM:600150.0005', 'dbSNP:rs258019', 'OMIM:607379.0013', 'OMIM:100725.0010', 'OMIM:164761.0039', 'OMIM:609449.0004', 'OMIM:611632.0008', 'OMIM:604695.0001', 'OMIM:120220.0003', 'OMIM:609300.0023', 'OMIM:123580.0010', 'OMIM:103270.0001', 'OMIM:600993.0009', 'OMIM:606201.0021', 'OMIM:605507.0008', 'OMIM:608166.0001', 'OMIM:600065.0005', 'OMIM:601639.0002', 'OMIM:601280.0005', 'OMIM:608517.0007', 'OMIM:152445.0002', 'OMIM:610690.0006', 'OMIM:600958.0006', 'OMIM:590095.0004', 'OMIM:612358.0004', 'OMIM:602123.0001', 'OMIM:612014.0005', 'OMIM:131230.0001', 'OMIM:618726.0004', 'OMIM:609471.0003', 'dbSNP:rs10759883', 'OMIM:147570.0004', 'OMIM:120436.0031', 'OMIM:609883.0002', 'OMIM:608803.0003', 'OMIM:611496.0004', 'OMIM:605764.0002', 'OMIM:185535.0007', 'OMIM:138210.0009', 'OMIM:603356.0001', 'OMIM:608507.0013', 'OMIM:300090.0003', 'OMIM:612803.0001', 'OMIM:180381.0003', 'OMIM:613363.0007', 'OMIM:603507.0005', 'ClinVarVariant:237648', 'dbSNP:rs10120322', 'OMIM:606598.0016', 'OMIM:191030.0001', 'OMIM:607854.0003', 'OMIM:605906.0005', 'OMIM:605519.0001', 'OMIM:102573.0011', 'ClinVarVariant:430848', 'OMIM:600014.0005', 'OMIM:252800.0016', 'OMIM:612487.0001', 'OMIM:157147.0008', 'OMIM:137295.0004', 'OMIM:608803.0013', 'OMIM:612802.0010', 'OMIM:606347.0002', 'OMIM:150330.0045', 'OMIM:613583.0002', 'OMIM:602638.0001', 'ClinVarVariant:242604', 'OMIM:300350.0006', 'OMIM:614459.0001', 'OMIM:600857.0003', 'OMIM:614949.0001', 'OMIM:610162.0001', 'OMIM:153620.0001', 'OMIM:602783.0008', 'OMIM:190181.0002', 'OMIM:148080.0022', 'OMIM:604144.0005', 'OMIM:605849.0001', 'OMIM:603658.0001', 'OMIM:160760.0020', 'OMIM:120900.0004', 'OMIM:607759.0018', 'OMIM:603491.0001', 'OMIM:608272.0001', 'OMIM:611731.0034', 'OMIM:300008.0001', 'OMIM:134797.0042', 'dbSNP:rs316844568', 'OMIM:612911.0003', 'OMIM:600150.0008', 'OMIM:604194.0006', 'OMIM:605597.0001', 'OMIM:603634.0006', 'OMIM:611184.0002', 'OMIM:191845.0011', 'OMIM:102573.0002', 'OMIM:603537.0008', 'OMIM:608666.0010', 'OMIM:611458.0005', 'OMIM:608416.0002', 'OMIM:138250.0007', 'OMIM:613521.0011', 'OMIM:132890.0001', 'OMIM:300256.0004', 'OMIM:141850.0014', 'OMIM:601810.0004', 'OMIM:600983.0013', 'OMIM:603647.0006', 'OMIM:607892.0007', 'OMIM:133530.0012', 'ClinVarVariant:92983', 'OMIM:190198.0003', 'OMIM:107300.0048', 'OMIM:138492.0003', 'OMIM:276903.0001', 'OMIM:613524.0003', 'OMIM:142976.0001', 'OMIM:614647.0007', 'OMIM:176300.0045', 'ClinVarVariant:429840', 'OMIM:102560.0002', 'OMIM:613409.0002', 'OMIM:139320.0023', 'ClinVarVariant:260732', 'OMIM:124030.0007', 'OMIM:602618.0001', 'OMIM:605880.0009', 'OMIM:611458.0024', 'ClinVarVariant:430661', 'OMIM:605983.0003', 'OMIM:136350.0018', 'OMIM:182135.0001', 'OMIM:607108.0014', 'ClinVarVariant:427583', 'dbSNP:rs12526186', 'OMIM:608465.0004', 'OMIM:609309.0012', 'OMIM:602690.0008', 'ClinVarVariant:560977', 'OMIM:190160.0034', 'dbSNP:rs2275540', 'OMIM:300644.0049', 'OMIM:613900.0001', 'OMIM:313700.0026', 'OMIM:603333.0004', 'OMIM:147557.0010', 'OMIM:613629.0004', 'OMIM:102576.0001', 'OMIM:600574.0003', 'OMIM:603780.0009', 'OMIM:612373.0013', 'OMIM:615291.0001', 'OMIM:613129.0003', 'OMIM:190160.0017', 'OMIM:606933.0026', 'OMIM:604653.0009', 'dbSNP:rs9919839', 'OMIM:609689.0004', 'OMIM:615584.0002', 'ClinVarVariant:842378', 'OMIM:606608.0001', 'OMIM:613890.0011', 'OMIM:601485.0001', 'OMIM:607900.0003', 'ClinVarVariant:642558', 'OMIM:600234.0001', 'dbSNP:rs17077154', 'dbSNP:rs13231650', 'OMIM:607261.0004', 'OMIM:608730.0001', 'OMIM:607542.0003', 'OMIM:612778.0002', 'OMIM:184429.0018', 'OMIM:613896.0003', 'OMIM:600608.0001', 'OMIM:300013.0003', 'OMIM:602360.0007', 'OMIM:118425.0002', 'dbSNP:rs75189942', 'OMIM:176640.0035', 'OMIM:141900.0333', 'OMIM:604385.0005', 'OMIM:614477.0007', 'OMIM:613160.0006', 'OMIM:614191.0010', 'OMIM:147450.0017', 'OMIM:300300.0014', 'dbSNP:rs3849106', 'ClinVarVariant:830836', 'OMIM:114840.0003', 'OMIM:156845.0005', 'OMIM:150330.0057', 'OMIM:107730.0016', 'OMIM:607542.0025', 'OMIM:610206.0007', 'OMIM:146933.0004', 'OMIM:301870.0005', 'OMIM:603506.0011', 'OMIM:600576.0003', 'OMIM:606806.0005', 'OMIM:164761.0023', 'OMIM:141900.0238', 'OMIM:609853.0003', 'OMIM:615820.0001', 'OMIM:611801.0004', 'OMIM:176943.0027', 'dbSNP:rs55731933', 'OMIM:609512.0004', 'OMIM:614258.0015', 'OMIM:113705.0004', 'OMIM:603850.0008', 'OMIM:126650.0008', 'OMIM:602774.0006', 'OMIM:602048.0002', 'OMIM:603506.0028', 'OMIM:608107.0019', 'OMIM:516000.0010', 'OMIM:176761.0002', 'OMIM:115440.0006', 'OMIM:300075.0019', 'OMIM:217070.0001', 'OMIM:607542.0002', 'OMIM:600682.0004', 'OMIM:157140.0002', 'OMIM:516050.0002', 'OMIM:138249.0009', 'OMIM:300836.0006', 'OMIM:168468.0010', 'OMIM:604433.0003', 'OMIM:300841.0023', 'OMIM:608675.0003', 'OMIM:607764.0005', 'OMIM:603490.0004', 'OMIM:609383.0004', 'OMIM:300502.0011', 'OMIM:608272.0003', 'OMIM:300524.0008', 'OMIM:601690.0003', 'OMIM:150330.0048', 'OMIM:600397.0001', 'OMIM:608668.0004', 'OMIM:604144.0011', 'OMIM:305900.0004', 'OMIM:191523.0001', 'OMIM:103270.0002', 'OMIM:177400.0008', 'OMIM:615757.0003', 'OMIM:164790.0002', 'OMIM:308000.0036', 'OMIM:300248.0025', 'OMIM:613868.0001', 'OMIM:304040.0018', 'OMIM:608041.0003', 'OMIM:613381.0001', 'OMIM:607440.0009', 'OMIM:613228.0008', 'OMIM:102771.0005', 'OMIM:604095.0009', 'OMIM:610991.0001', 'OMIM:617220.0005', 'OMIM:615949.0002', 'OMIM:603273.0009', 'OMIM:190160.0012', 'OMIM:610956.0011', 'OMIM:609019.0001', 'OMIM:608451.0006', 'OMIM:615291.0016', 'OMIM:603005.0006', 'OMIM:609855.0004', 'OMIM:606754.0003', 'OMIM:608005.0009', 'OMIM:612012.0002', 'OMIM:615743.0005', 'OMIM:185620.0009', 'OMIM:605020.0005', 'OMIM:182810.0005', 'OMIM:606686.0005', 'dbSNP:rs6586111', 'OMIM:611055.0004', 'OMIM:601487.0006', 'OMIM:300040.0013', 'OMIM:602225.0003', 'OMIM:600179.0009', 'OMIM:618171.0001', 'OMIM:300713.0005', 'ClinVarVariant:28967', 'OMIM:172405.0006', 'OMIM:607601.0002', 'OMIM:300300.0024', 'OMIM:139250.0007', 'OMIM:264900.0010', 'OMIM:606596.0005', 'dbSNP:rs809736', 'OMIM:160790.0002', 'OMIM:159440.0026', 'OMIM:606268.0009', 'OMIM:300746.0021', 'OMIM:601327.0001', 'OMIM:603617.0002', 'OMIM:190000.0003', 'OMIM:608507.0003', 'OMIM:602661.0007', 'OMIM:125647.0014', 'ClinVarVariant:517520', 'OMIM:603009.0003', 'OMIM:125670.0006', 'OMIM:609728.0002', 'OMIM:601573.0001', 'OMIM:613976.0002', 'OMIM:160760.0040', 'OMIM:602431.0002', 'OMIM:150310.0018', 'OMIM:606980.0010', 'OMIM:300005.0004', 'OMIM:613893.0006', 'OMIM:603945.0001', 'OMIM:603499.0008', 'OMIM:608170.0002', 'ClinVarVariant:481282', 'OMIM:309060.0012', 'OMIM:308000.0001', 'OMIM:609761.0006', 'OMIM:605483.0002', 'OMIM:602780.0005', 'OMIM:107820.0001', 'OMIM:607038.0001', 'OMIM:612659.0008', 'OMIM:601253.0001', 'OMIM:609712.0013', 'OMIM:300017.0030', 'OMIM:614161.0003', 'OMIM:606822.0014', 'OMIM:608160.0003', 'OMIM:141900.0138', 'OMIM:611458.0002', 'OMIM:141900.0155', 'OMIM:609412.0006', 'OMIM:171834.0013', 'OMIM:607998.0001', 'OMIM:605460.0010', 'OMIM:615796.0003', 'OMIM:605427.0018', 'OMIM:600053.0009', 'OMIM:613529.0003', 'OMIM:604167.0001', 'OMIM:607204.0001', 'OMIM:150330.0001', 'OMIM:611731.0042', 'OMIM:613868.0002', 'OMIM:252800.0011', 'OMIM:618865.0002', 'OMIM:181031.0006', 'OMIM:603309.0002', 'OMIM:603681.0014', 'OMIM:611254.0008', 'OMIM:141900.0110', 'OMIM:608700.0008', 'OMIM:603295.0003', 'OMIM:605394.0001', 'OMIM:601728.0032', 'OMIM:600073.0005', 'OMIM:603060.0004', 'OMIM:601771.0001', 'OMIM:176300.0051', 'OMIM:600194.0001', 'ClinVarVariant:370603', 'OMIM:613816.0003', 'OMIM:612280.0004', 'OMIM:602413.0002', 'OMIM:148041.0004', 'OMIM:607440.0019', 'OMIM:606810.0008', 'OMIM:612349.0035', 'OMIM:601439.0007', 'OMIM:602141.0006', 'OMIM:185880.0001', 'OMIM:603507.0001', 'OMIM:164050.0008', 'OMIM:617558.0006', 'OMIM:609884.0008', 'OMIM:607213.0001', 'OMIM:141900.9999', 'OMIM:602378.0010', 'OMIM:612991.0003', 'OMIM:114105.0005', 'OMIM:607800.0002', 'OMIM:600681.0014', 'OMIM:300839.0011', 'OMIM:603846.0001', 'OMIM:605795.0004', 'OMIM:603337.0006', 'OMIM:607386.0012', 'OMIM:605810.0003', 'OMIM:601615.0003', 'OMIM:604705.0002', 'OMIM:150370.0005', 'ClinVarVariant:28958', 'OMIM:614245.0006', 'OMIM:605802.0006', 'OMIM:176876.0031', 'OMIM:605775.0010', 'ClinVarVariant:246098', 'OMIM:602354.0002', 'OMIM:605956.0005', 'OMIM:159991.0001', 'OMIM:606873.0011', 'OMIM:300724.0002', 'OMIM:603377.0007', 'OMIM:610552.0011', 'OMIM:300377.0046', 'OMIM:604223.0007', 'OMIM:600301.0006', 'OMIM:607306.0016', 'OMIM:613381.0006', 'OMIM:124080.0011', 'OMIM:136350.0021', 'OMIM:600024.0015', 'OMIM:611060.0006', 'OMIM:604139.0002', 'OMIM:300377.0072', 'OMIM:613009.0001', 'OMIM:607542.0008', 'OMIM:602292.0005', 'OMIM:600946.0018', 'OMIM:605158.0004', 'OMIM:114760.0002', 'dbSNP:rs7312122', 'ClinVarVariant:21119', 'OMIM:125645.0005', 'OMIM:607407.0002', 'dbSNP:rs6988229', 'OMIM:608444.0003', 'OMIM:106410.0003', 'OMIM:601699.0001', 'OMIM:121014.0004', 'OMIM:608754.0001', 'OMIM:608517.0011', 'OMIM:607009.0007', 'OMIM:611124.0002', 'OMIM:600229.0005', 'OMIM:606151.0014', 'OMIM:590000.0002', 'OMIM:185535.0006', 'OMIM:611731.0002', 'OMIM:613815.0004', 'OMIM:606245.0002', 'OMIM:191350.0011', 'OMIM:602421.0059', 'OMIM:182390.0007', 'OMIM:612078.0003', 'OMIM:150330.0003', 'OMIM:601487.0012', 'OMIM:300746.0031', 'ClinVarVariant:558709', 'dbSNP:rs56116178', 'OMIM:614159.0002', 'OMIM:608630.0005', 'OMIM:300841.0209', 'dbSNP:rs17556665', 'OMIM:103600.0005', 'OMIM:134934.0026', 'ClinVarVariant:24928', 'OMIM:609883.0007', 'OMIM:606882.0024', 'OMIM:148080.0002', 'OMIM:610060.0002', 'OMIM:605755.0007', 'OMIM:617353.0003', 'OMIM:608537.0032', 'dbSNP:rs2082278', 'OMIM:606412.0004', 'OMIM:141900.0409', 'OMIM:608309.0005', 'OMIM:615403.0008', 'OMIM:612800.0002', 'OMIM:137060.0001', 'dbSNP:rs2863344', 'OMIM:600997.0005', 'OMIM:609019.0005', 'OMIM:100730.0006', 'OMIM:130160.0005', 'OMIM:617110.0002', 'OMIM:600702.0001', 'OMIM:603415.0016', 'OMIM:605145.0008', 'OMIM:606214.0003', 'OMIM:603324.0011', 'OMIM:607814.0001', 'OMIM:600275.0003', 'OMIM:300546.0004', 'OMIM:610934.0001', 'dbSNP:rs7239368', 'OMIM:612757.0006', 'OMIM:613899.0001', 'OMIM:607093.0002', 'OMIM:607867.0004', 'OMIM:605829.0003', 'OMIM:164011.0003', 'OMIM:603617.0004', 'OMIM:148060.0002', 'OMIM:612753.0003', 'OMIM:603307.0003', 'OMIM:607955.0002', 'OMIM:608206.0007', 'OMIM:601498.0002', 'OMIM:300275.0003', 'dbSNP:rs73028974', 'OMIM:179615.0018', 'OMIM:612399.0001', 'OMIM:607461.0002', 'OMIM:607854.0023', 'ClinVarVariant:371067', 'OMIM:190315.0003', 'OMIM:602900.0012', 'OMIM:309850.0005', 'OMIM:124080.0013', 'ClinVarVariant:47700', 'OMIM:116952.0005', 'OMIM:616082.0003', 'dbSNP:rs17470570', 'OMIM:611672.0010', 'OMIM:142200.0015', 'OMIM:607379.0002', 'OMIM:160745.0002', 'OMIM:605236.0002', 'OMIM:143450.0011', 'OMIM:607984.0001', 'OMIM:602054.0005', 'OMIM:113705.0008', 'OMIM:604161.0006', 'dbSNP:rs62445864', 'dbSNP:rs14978', 'OMIM:157660.0004', 'OMIM:600098.0002', 'OMIM:613230.0007', 'OMIM:190220.0004', 'OMIM:603277.0003', 'OMIM:300197.0003', 'dbSNP:rs4086116', 'OMIM:600157.0001', 'OMIM:238300.0004', 'OMIM:600108.0006', 'OMIM:131399.0001', 'OMIM:612078.0001', 'OMIM:616003.0004', 'OMIM:142200.0027', 'OMIM:608894.0004', 'OMIM:615743.0003', 'OMIM:607574.0021', 'dbSNP:rs7443270', 'OMIM:602421.0118', 'OMIM:604863.0001', 'OMIM:607786.0002', 'OMIM:607623.0007', 'OMIM:607439.0019', 'OMIM:300371.0018', 'OMIM:612661.0001', 'OMIM:607186.0003', 'OMIM:300300.0018', 'OMIM:300203.0011', 'ClinVarVariant:582265', 'OMIM:600856.0010', 'OMIM:607707.0002', 'OMIM:601366.0001', 'OMIM:311800.0009', 'OMIM:608177.0009', 'OMIM:600160.0015', 'OMIM:148067.0002', 'OMIM:132890.0004', 'OMIM:607273.0017', 'OMIM:600958.0025', 'OMIM:604844.0004', 'OMIM:300371.0026', 'ClinVarVariant:189102', 'OMIM:173335.0020', 'OMIM:611542.0005', 'OMIM:618988.0001', 'OMIM:303630.0002', 'OMIM:604299.0002', 'OMIM:209901.0002', 'OMIM:606869.0057', 'OMIM:615291.0007', 'OMIM:118425.0008', 'OMIM:179615.0023', 'OMIM:613114.0004', 'OMIM:173910.0011', 'OMIM:602614.0005', 'OMIM:614086.0002', 'OMIM:300005.0022', 'OMIM:615638.0001', 'OMIM:609414.0005', 'OMIM:610982.0008', 'OMIM:141900.0292', 'OMIM:134850.0010', 'OMIM:609853.0002', 'OMIM:603859.0004', 'OMIM:610194.0003', 'OMIM:607585.0014', 'OMIM:300110.0007', 'dbSNP:rs11975522', 'OMIM:190197.0001', 'OMIM:606410.0001', 'OMIM:300371.0008', 'OMIM:179605.0016', 'OMIM:300644.0009', 'dbSNP:rs132275', 'OMIM:608568.0005', 'OMIM:300552.0006', 'OMIM:603136.0001', 'OMIM:608348.0006', 'OMIM:164770.0005', 'OMIM:138945.0003', 'OMIM:603305.0005', 'OMIM:314850.0002', 'OMIM:605236.0003', 'OMIM:614258.0009', 'OMIM:300121.0009', 'OMIM:601440.0008', 'OMIM:613004.0002', 'OMIM:148040.0005', 'OMIM:605113.0003', 'OMIM:300070.0002', 'ClinVarVariant:637563', 'OMIM:604917.0002', 'OMIM:600375.0002', 'OMIM:601691.0032', 'OMIM:110300.0005', 'ClinVarVariant:846669', 'OMIM:609787.0001', 'OMIM:191170.0032', 'OMIM:612804.0002', 'OMIM:600521.0002', 'OMIM:608798.0001', 'OMIM:121014.0016', 'OMIM:616690.0004', 'OMIM:130160.0018', 'OMIM:604633.0009', 'OMIM:114020.0006', 'OMIM:176947.0007', 'OMIM:610690.0007', 'OMIM:147440.0002', 'OMIM:606584.0001', 'dbSNP:rs3763558', 'OMIM:608990.0002', 'OMIM:314200.0001', 'OMIM:606034.0002', 'OMIM:606097.0008', 'OMIM:138160.0006', 'OMIM:608034.0002', 'OMIM:151750.0003', 'OMIM:300105.0001', 'OMIM:120140.0035', 'OMIM:602113.0002', 'OMIM:600909.0001', 'dbSNP:rs313963238', 'OMIM:601299.0008', 'OMIM:600236.0002', 'OMIM:130160.0014', 'OMIM:300481.0012', 'OMIM:610087.0001', 'OMIM:147141.0001', 'OMIM:300013.0004', 'OMIM:604863.0003', 'OMIM:300032.0018', 'OMIM:300170.0010', 'ClinVarVariant:242443', 'OMIM:618016.0001', 'OMIM:609275.0006', 'OMIM:610690.0005', 'OMIM:139396.0004', 'OMIM:161561.0002', 'OMIM:603024.0005', 'OMIM:125660.0007', 'OMIM:607840.0003', 'OMIM:301870.0003', 'OMIM:610284.0003', 'OMIM:142958.0001', 'OMIM:182135.0003', 'OMIM:173490.0014', 'OMIM:192090.0016', 'OMIM:605517.0002', 'OMIM:606441.0004', 'OMIM:312610.0023', 'OMIM:602229.0023', 'OMIM:611103.0008', 'OMIM:600617.0006', 'OMIM:300160.0010', 'OMIM:110750.0003', 'OMIM:103020.0002', 'OMIM:120150.0048', 'OMIM:179605.0015', 'OMIM:605290.0018', 'OMIM:601697.0002', 'OMIM:613279.0001', 'OMIM:602298.0004', 'OMIM:604358.0001', 'OMIM:139350.0004', 'OMIM:304040.0010', 'OMIM:125270.0004', 'OMIM:613742.0006', 'OMIM:600480.0002', 'OMIM:613733.0018', 'ClinVarVariant:969028', 'OMIM:607199.0009', 'OMIM:141800.0062', 'OMIM:600983.0001', 'OMIM:608699.0003', 'OMIM:602009.0002', 'OMIM:613927.0001', 'OMIM:174763.0014', 'OMIM:606596.0002', 'OMIM:300137.0001', 'OMIM:608593.0003', 'OMIM:141800.0176', 'OMIM:612309.0010', 'OMIM:609577.0004', 'OMIM:602839.0004', 'OMIM:601255.0006', 'OMIM:607365.0008', 'dbSNP:rs1343763', 'OMIM:604556.0002', 'OMIM:608546.0004', 'OMIM:604110.0003', 'OMIM:603214.0001', 'OMIM:609291.0009', 'OMIM:604142.0001', 'OMIM:603234.0022', 'ClinVarVariant:38447', 'OMIM:191275.0002', 'OMIM:142250.0037', 'OMIM:300457.0006', 'OMIM:605795.0003', 'OMIM:600037.0004', 'OMIM:141800.0038', 'OMIM:602457.0001', 'OMIM:601641.0002', 'OMIM:613165.0010', 'OMIM:300095.0001', 'OMIM:176300.0013', 'OMIM:120436.0020', 'OMIM:602956.0003', 'OMIM:300307.0010', 'OMIM:176930.0002', 'OMIM:605673.0003', 'OMIM:604373.0012', 'OMIM:613113.0007', 'OMIM:600681.0008', 'OMIM:600294.0003', 'OMIM:601604.0002', 'OMIM:602412.0001', 'OMIM:133510.0006', 'OMIM:608083.0005', 'OMIM:167413.0002', 'OMIM:604580.0002', 'OMIM:604490.0003', 'OMIM:141900.0118', 'OMIM:604501.0001', 'OMIM:607882.0005', 'OMIM:300300.0023', 'OMIM:300746.0001', 'OMIM:606439.0013', 'OMIM:611801.0002', 'OMIM:603335.0003', 'OMIM:613733.0017', 'OMIM:602216.0013', 'OMIM:611731.0009', 'OMIM:122720.0004', 'OMIM:602228.0003', 'OMIM:602690.0006', 'OMIM:238331.0004', 'OMIM:610341.0001', 'OMIM:160710.0001', 'OMIM:300248.0017', 'OMIM:613890.0002', 'OMIM:613602.0010', 'OMIM:602700.0008', 'OMIM:182340.0011', 'OMIM:142250.0002', 'OMIM:125240.0008', 'OMIM:102540.0003', 'OMIM:603051.0003', 'OMIM:300072.0003', 'ClinVarVariant:13666', 'ClinVarVariant:6334', 'OMIM:615068.0004', 'OMIM:604896.0006', 'OMIM:606061.0002', 'OMIM:604687.0001', 'OMIM:300502.0024', 'OMIM:608455.0019', 'OMIM:115440.0001', 'OMIM:604780.0006', 'OMIM:606034.0003', 'OMIM:616381.0001', 'OMIM:614930.0004', 'OMIM:601601.0008', 'OMIM:604214.0010', 'OMIM:607444.0002', 'OMIM:608576.0004', 'OMIM:604210.0011', 'OMIM:601991.0002', 'OMIM:607544.0004', 'OMIM:606754.0005', 'OMIM:300841.0192', 'OMIM:164050.0009', 'OMIM:120120.0025', 'ClinVarVariant:31357', 'OMIM:608136.0002', 'OMIM:603868.0002', 'OMIM:610272.0001', 'ClinVarVariant:106601', 'OMIM:138210.0003', 'ClinVarVariant:216068', 'OMIM:608892.0016', 'ClinVarVariant:431888', 'OMIM:609479.0004', 'ClinVarVariant:550707', 'OMIM:610316.0003', 'OMIM:603967.0017', 'dbSNP:rs77889880', 'OMIM:600857.0001', 'OMIM:613437.0001', 'OMIM:143450.0001', 'OMIM:276903.0002', 'OMIM:608455.0004', 'OMIM:121011.0019', 'OMIM:610595.0006', 'OMIM:607273.0009', 'OMIM:609875.0004', 'OMIM:613976.0003', 'OMIM:611145.0002', 'OMIM:606869.0051', 'OMIM:614556.0008', 'OMIM:606938.0004', 'OMIM:601385.0001', 'OMIM:611654.0005', 'OMIM:601769.0002', 'OMIM:604912.0002', 'OMIM:603089.0006', 'OMIM:180040.0005', 'OMIM:611060.0005', 'OMIM:602412.0003', 'OMIM:601411.0004', 'OMIM:107777.0001', 'OMIM:141900.0508', 'OMIM:612268.0004', 'OMIM:611731.0051', 'OMIM:605032.0002', 'OMIM:156540.0001', 'OMIM:613381.0010', 'OMIM:211100.0001', 'OMIM:608455.0017', 'OMIM:613138.0011', 'dbSNP:rs7984483', 'OMIM:150370.0003', 'OMIM:161561.0001', 'ClinVarVariant:496970', 'OMIM:617745.0001', 'OMIM:607462.0003', 'OMIM:300646.0002', 'OMIM:602575.0009', 'OMIM:480000.0018', 'OMIM:141850.0065', 'OMIM:607844.0009', 'OMIM:120120.0043', 'OMIM:608662.0006', 'OMIM:603084.0001', 'OMIM:611725.0006', 'OMIM:606870.0008', 'OMIM:313700.0024', 'OMIM:162280.0010', 'OMIM:606980.0003', 'OMIM:136530.0002', 'OMIM:607854.0021', 'OMIM:612386.0008', 'OMIM:600287.0002', 'OMIM:607108.0016', 'OMIM:590080.0006', 'OMIM:609806.0046', 'OMIM:606639.0004', 'OMIM:604144.0008', 'OMIM:190181.0007', 'OMIM:608103.0007', 'OMIM:607261.0006', 'OMIM:610916.0005', 'OMIM:114350.0003', 'OMIM:142000.0037', 'OMIM:308000.0024', 'OMIM:602397.0005', 'OMIM:300535.0001', 'OMIM:609390.0012', 'OMIM:300072.0001', 'OMIM:601284.0016', 'OMIM:150340.0004', 'OMIM:150330.0006', 'OMIM:614351.0004', 'OMIM:300841.0238', 'dbSNP:rs188810024', 'OMIM:605145.0009', 'OMIM:609512.0001', 'OMIM:604581.0001', 'OMIM:192090.0023', 'OMIM:608201.0006', 'OMIM:300188.0006', 'ClinVarVariant:262709', 'OMIM:602635.0005', 'OMIM:607273.0012', 'OMIM:601368.0001', 'OMIM:604277.0004', 'OMIM:152200.0001', 'OMIM:606584.0005', 'OMIM:611466.0002', 'OMIM:152760.0001', 'OMIM:606384.0004', 'OMIM:612322.0003', 'OMIM:613846.0001', 'OMIM:120160.0030', 'OMIM:615521.0003', 'ClinVarVariant:552330', 'OMIM:608830.0014', 'OMIM:601758.0002', 'OMIM:607386.0016', 'OMIM:607440.0010', 'OMIM:188840.0008', 'OMIM:141900.0273', 'OMIM:192340.0019', 'OMIM:311850.0018', 'OMIM:131320.0006', 'OMIM:300040.0007', 'OMIM:300131.0003', 'OMIM:146710.0001', 'OMIM:607904.0005', 'OMIM:602858.0017', 'OMIM:182390.0001', 'dbSNP:rs4342892', 'OMIM:613311.0001', 'dbSNP:rs2251885', 'OMIM:300415.0005', 'OMIM:606201.0018', 'OMIM:600225.0019', 'OMIM:138850.0011', 'OMIM:603305.0008', 'OMIM:609806.0020', 'OMIM:611345.0006', 'OMIM:300300.0026', 'OMIM:142410.0018', 'OMIM:606936.0003', 'OMIM:611023.0002', 'OMIM:615626.0001', 'OMIM:590040.0003', 'OMIM:609511.0001', 'OMIM:604418.0005', 'OMIM:606938.0018', 'ClinVarVariant:216903', 'OMIM:126430.0001', 'OMIM:601692.0009', 'OMIM:120215.0010', 'OMIM:603150.0001', 'dbSNP:rs17599026', 'OMIM:177045.0001', 'OMIM:156225.0002', 'OMIM:603570.0001', 'OMIM:102610.0012', 'OMIM:608461.0004', 'OMIM:600982.0003', 'OMIM:616003.0001', 'OMIM:605078.0012', 'OMIM:480000.0004', 'OMIM:602033.0002', 'OMIM:602044.0003', 'OMIM:604544.0014', 'OMIM:618255.0009', 'OMIM:614243.0003', 'OMIM:185470.0001', 'OMIM:607922.0004', 'OMIM:164761.0052', 'OMIM:300826.0005', 'OMIM:604632.0001', 'OMIM:614386.0006', 'OMIM:607237.0004', 'OMIM:191044.0007', 'OMIM:607647.0001', 'OMIM:604159.0008', 'OMIM:608305.0009', 'OMIM:610844.0001', 'OMIM:191092.0008', 'OMIM:605131.0006', 'OMIM:612283.0021', 'OMIM:607786.0003', 'OMIM:601023.0009', 'OMIM:300056.0003', 'OMIM:612971.0002', 'OMIM:602421.0071', 'OMIM:611341.0002', 'OMIM:602783.0010', 'OMIM:600480.0007', 'OMIM:130160.0010', 'OMIM:600675.0001', 'OMIM:611731.0011', 'OMIM:613230.0006', 'OMIM:142250.0025', 'OMIM:238331.0006', 'OMIM:600354.0015', 'OMIM:609948.0003', 'OMIM:160760.0041', 'OMIM:105850.0001', 'OMIM:141900.0488', 'OMIM:615464.0002', 'OMIM:170993.0001', 'OMIM:614828.0001', 'ClinVarVariant:267280', 'OMIM:601763.0002', 'OMIM:604190.0001', 'OMIM:184429.0002', 'OMIM:176943.0036', 'OMIM:607407.0008', 'OMIM:609690.0005', 'OMIM:603100.0005', 'OMIM:103220.0008', 'OMIM:606463.0032', 'OMIM:516005.0011', 'OMIM:150325.0010', 'OMIM:607542.0012', 'OMIM:604546.0008', 'dbSNP:rs7228835', 'ClinVarVariant:48087', 'OMIM:191740.0012', 'OMIM:608160.0008', 'OMIM:300485.0012', 'OMIM:605573.0010', 'OMIM:139340.0003', 'OMIM:603604.0010', 'OMIM:608072.0001', 'OMIM:604488.0006', 'OMIM:133430.0003', 'OMIM:611731.0033', 'OMIM:300032.0026', 'OMIM:134797.0008', 'OMIM:602118.0002', 'OMIM:604270.0011', 'OMIM:118507.0001', 'OMIM:607585.0031', 'OMIM:608568.0006', 'OMIM:300777.0002', 'OMIM:176801.0011', 'OMIM:300079.0001', 'OMIM:602768.0004', 'OMIM:617538.0001', 'OMIM:607434.0001', 'OMIM:614041.0012', 'OMIM:159440.0003', 'OMIM:606118.0004', 'OMIM:602544.0003', 'ClinVarVariant:242517', 'OMIM:607568.0006', 'OMIM:300032.0011', 'OMIM:611731.0013', 'OMIM:162080.0001', 'OMIM:608303.0002', 'OMIM:610844.0003', 'dbSNP:rs37439', 'OMIM:121011.0022', 'OMIM:146920.0014', 'OMIM:608374.0006', 'OMIM:167414.0001', 'OMIM:601013.0003', 'ClinVarVariant:245873', 'OMIM:157140.0024', 'OMIM:603795.0001', 'OMIM:605988.0002', 'OMIM:139150.0006', 'OMIM:141900.0006', 'OMIM:300826.0001', 'OMIM:300163.0007', 'OMIM:601147.0004', 'OMIM:603297.0014', 'OMIM:611124.0012', 'OMIM:615370.0003', 'OMIM:209901.0007', 'OMIM:603537.0001', 'OMIM:148080.0018', 'OMIM:613890.0009', 'OMIM:604313.0005', 'OMIM:602780.0010', 'OMIM:300826.0006', 'OMIM:300392.0002', 'OMIM:602354.0001', 'OMIM:602123.0002', 'OMIM:608124.0001', 'OMIM:300777.0001', 'OMIM:300256.0002', 'OMIM:141800.0186', 'OMIM:300535.0007', 'OMIM:600442.0002', 'OMIM:308840.0006', 'OMIM:615370.0001', 'OMIM:181590.0003', 'OMIM:603297.0009', 'OMIM:131242.0004', 'ClinVarVariant:976090', 'OMIM:300499.0001', 'OMIM:601465.0004', 'OMIM:605880.0012', 'OMIM:607839.0017', 'OMIM:157140.0021', 'OMIM:612584.0002', 'OMIM:605078.0002', 'OMIM:603089.0004', 'dbSNP:rs7172689', 'OMIM:606934.0003', 'OMIM:177400.0014', 'OMIM:605294.0008', 'OMIM:600958.0017', 'OMIM:107730.0007', 'OMIM:615316.0005', 'OMIM:311850.0003', 'OMIM:153450.0002', 'OMIM:160760.0026', 'OMIM:121014.0009', 'OMIM:604223.0004', 'OMIM:300644.0024', 'OMIM:609264.0001', 'OMIM:141900.0389', 'OMIM:162643.0004', 'dbSNP:rs12901682', 'OMIM:603711.0008', 'OMIM:188830.0010', 'OMIM:610284.0001', 'ClinVarVariant:22107', 'OMIM:308000.0057', 'OMIM:613113.0046', 'OMIM:617946.0001', 'OMIM:605995.0001', 'OMIM:607215.0007', 'OMIM:615792.0003', 'ClinVarVariant:468721', 'OMIM:300377.0057', 'OMIM:603377.0013', 'OMIM:115500.0001', 'OMIM:120140.0056', 'OMIM:603330.0005', 'OMIM:608151.0003', 'OMIM:300105.0002', 'OMIM:606883.0009', 'OMIM:614620.0013', 'OMIM:603868.0006', 'OMIM:614930.0003', 'OMIM:606145.0006', 'OMIM:606765.0014', 'OMIM:300481.0019', 'OMIM:605025.0003', 'OMIM:142461.0002', 'OMIM:141900.0053', 'OMIM:602049.0005', 'OMIM:606201.0023', 'OMIM:603360.0004', 'OMIM:142000.0039', 'OMIM:600185.0007', 'OMIM:603263.0002', 'OMIM:610936.0002', 'OMIM:602572.0001', 'ClinVarVariant:835229', 'OMIM:618277.0001', 'OMIM:300841.0061', 'OMIM:603155.0002', 'OMIM:602216.0003', 'OMIM:300644.0040', 'OMIM:188450.0006', 'OMIM:602421.0126', 'OMIM:118423.0009', 'OMIM:602194.0007', 'OMIM:606075.0002', 'OMIM:182340.0006', 'OMIM:606806.0006', 'OMIM:603384.0002', 'OMIM:604843.0002', 'OMIM:607817.0009', 'OMIM:164757.0008', 'OMIM:613468.0009', 'OMIM:182340.0003', 'OMIM:607358.0006', 'ClinVarVariant:36296', 'OMIM:600983.0014', 'OMIM:609884.0013', 'OMIM:609761.0008', 'OMIM:616062.0002', 'OMIM:613555.0001', 'OMIM:613138.0006', 'OMIM:141900.0357', 'OMIM:516000.0005', 'OMIM:604165.0004', 'OMIM:147795.0002', 'OMIM:608169.0001', 'OMIM:603236.0002', 'ClinVarVariant:22927', 'OMIM:107680.0018', 'OMIM:102610.0018', 'OMIM:613940.0002', 'OMIM:613553.0001', 'OMIM:300841.0134', 'OMIM:601592.0001', 'OMIM:606681.0004', 'OMIM:120120.0032', 'OMIM:603604.0004', 'OMIM:611052.0004', 'OMIM:300841.0114', 'OMIM:617687.0004', 'OMIM:612349.0057', 'OMIM:125660.0003', 'ClinVarVariant:477514', 'OMIM:606945.0059', 'OMIM:611279.0009', 'OMIM:614064.0006', 'OMIM:600417.0004', 'OMIM:602632.0001', 'OMIM:176880.0008', 'OMIM:114760.0003', 'OMIM:606202.0004', 'OMIM:601269.0006', 'OMIM:157660.0005', 'OMIM:604632.0002', 'OMIM:609831.0011', 'OMIM:602322.0005', 'OMIM:601143.0004', 'OMIM:114205.0005', 'OMIM:180660.0004', 'OMIM:300126.0007', 'OMIM:603799.0006', 'OMIM:601263.0005', 'OMIM:180380.0003', 'OMIM:121015.0008', 'OMIM:139350.0014', 'OMIM:614759.0001', 'OMIM:136352.0006', 'OMIM:605507.0001', 'OMIM:600584.0023', 'OMIM:602432.0006', 'OMIM:116806.0002', 'OMIM:610230.0007', 'OMIM:300841.0251', 'OMIM:300746.0081', 'OMIM:178620.0007', 'OMIM:168450.0002', 'ClinVarVariant:970498', 'OMIM:605654.0005', 'OMIM:604774.0002', 'OMIM:604149.0004', 'OMIM:480000.0019', 'OMIM:607257.0003', 'OMIM:608896.0008', 'OMIM:102610.0010', 'OMIM:609427.0003', 'ClinVarVariant:521207', 'OMIM:155541.0006', 'OMIM:138079.0008', 'OMIM:186845.0001', 'OMIM:603009.0002', 'OMIM:600514.0006', 'OMIM:603680.0001', 'OMIM:159555.0008', 'OMIM:605145.0011', 'ClinVarVariant:14339', 'ClinVarVariant:518424', 'OMIM:615262.0003', 'OMIM:601771.0003', 'OMIM:134934.0036', 'OMIM:118425.0007', 'ClinVarVariant:225370', 'OMIM:170995.0002', 'OMIM:601691.0035', 'OMIM:604961.0002', 'OMIM:614789.0004', 'OMIM:612349.0014', 'OMIM:610613.0015', 'OMIM:605950.0003', 'OMIM:606860.0014', 'OMIM:103000.0005', 'OMIM:614245.0005', 'OMIM:606831.0001', 'OMIM:134797.0064', 'OMIM:608348.0005', 'OMIM:609332.0008', 'OMIM:609751.0008', 'OMIM:190195.0010', 'OMIM:602150.0001', 'OMIM:604569.0007', 'ClinVarVariant:404162', 'OMIM:120150.0006', 'OMIM:606201.0030', 'OMIM:300017.0002', 'OMIM:190195.0005', 'OMIM:148066.0012', 'OMIM:604134.0015', 'OMIM:601421.0008', 'OMIM:613577.0018', 'OMIM:190450.0002', 'OMIM:610219.0003', 'OMIM:102770.0003', 'OMIM:231675.0001', 'OMIM:609799.0002', 'OMIM:600799.0022', 'OMIM:139320.0012', 'OMIM:600618.0005', 'OMIM:607123.0001', 'OMIM:123841.0005', 'OMIM:618304.0003', 'OMIM:120220.0014', 'ClinVarVariant:46929', 'OMIM:600160.0014', 'OMIM:603756.0001', 'OMIM:602671.0009', 'OMIM:601150.0004', 'OMIM:300377.0027', 'OMIM:612850.0001', 'OMIM:608990.0003', 'OMIM:186830.0003', 'OMIM:300247.0003', 'OMIM:252800.0007', 'OMIM:613629.0016', 'OMIM:612898.0005', 'OMIM:164015.0002', 'OMIM:609382.0002', 'OMIM:611060.0003', 'OMIM:188040.0001', 'OMIM:611987.0001', 'OMIM:614631.0008', 'OMIM:139311.0007', 'OMIM:608465.0005', 'OMIM:608433.0007', 'OMIM:606453.0005', 'OMIM:606158.0003', 'OMIM:607585.0017', 'OMIM:602536.0011', 'OMIM:300392.0001', 'OMIM:612349.0046', 'OMIM:602365.0015', 'OMIM:606230.0005', 'OMIM:176264.0001', 'ClinVarVariant:242432', 'OMIM:603646.0003', 'OMIM:609562.0003', 'OMIM:142959.0004', 'OMIM:612014.0001', 'OMIM:602208.0004', 'OMIM:190070.0022', 'OMIM:609300.0024', 'OMIM:606075.0003', 'OMIM:611060.0004', 'OMIM:602170.0002', 'dbSNP:rs138978821', 'OMIM:604285.0010', 'OMIM:608400.0009', 'OMIM:300356.0006', 'OMIM:148040.0012', 'OMIM:604386.0004', 'OMIM:600760.0010', 'OMIM:612322.0006', 'OMIM:148067.0001', 'OMIM:611592.0006', 'ClinVarVariant:66029', 'OMIM:614161.0007', 'OMIM:601618.0001', 'OMIM:602136.0008', 'OMIM:141800.0058', 'OMIM:300841.0171', 'OMIM:180380.0005', 'OMIM:610690.0008', 'OMIM:164780.0008', 'OMIM:138981.0001', 'OMIM:165330.0001', 'OMIM:608285.0003', 'OMIM:602232.0001', 'OMIM:138971.0005', 'OMIM:613037.0003', 'OMIM:176892.0003', 'OMIM:141900.0109', 'OMIM:313440.0003', 'OMIM:603930.0002', 'OMIM:601368.0005', 'OMIM:300205.0003', 'OMIM:615076.0002', 'OMIM:608400.0010', 'OMIM:606323.0005', 'OMIM:171760.0020', 'OMIM:615743.0004', 'OMIM:141800.0203', 'OMIM:516040.0003', 'OMIM:606673.0004', 'OMIM:614783.0002', 'OMIM:600922.0002', 'OMIM:600509.0001', 'OMIM:613360.0005', 'OMIM:601089.0004', 'OMIM:103020.0012', 'OMIM:141800.0093', 'OMIM:614386.0005', 'OMIM:600814.0001', 'dbSNP:rs80082057', 'OMIM:136351.0008', 'OMIM:135820.0001', 'OMIM:602225.0008', 'OMIM:608271.0003', 'OMIM:179615.0004', 'OMIM:607365.0006', 'OMIM:604418.0002', 'ClinVarVariant:28104', 'OMIM:171900.0006', 'OMIM:118470.0003', 'OMIM:603716.0004', 'OMIM:600675.0002', 'OMIM:608965.0001', 'OMIM:300460.0007', 'OMIM:600584.0007', 'OMIM:611045.0004', 'OMIM:274180.0004', 'OMIM:300095.0003', 'OMIM:608684.0002', 'OMIM:605747.0009', 'OMIM:126060.0001', 'OMIM:300841.0140', 'OMIM:600275.0006', 'OMIM:107777.0015', 'OMIM:151670.0006', 'OMIM:614584.0004', 'OMIM:608732.0001', 'OMIM:300481.0014', 'OMIM:608083.0011', 'OMIM:603324.0010', 'OMIM:190195.0020', 'OMIM:605353.0001', 'OMIM:609390.0004', 'OMIM:238310.0001', 'OMIM:609145.0003', 'OMIM:601785.0013', 'OMIM:617612.0007', 'OMIM:602113.0004', 'OMIM:601040.0003', 'OMIM:180380.0033', 'OMIM:615567.0001', 'OMIM:613468.0007', 'OMIM:188840.0007', 'OMIM:604917.0006', 'OMIM:601592.0012', 'OMIM:605988.0014', 'OMIM:179615.0005', 'OMIM:134790.0007', 'OMIM:609728.0001', 'OMIM:612647.0001', 'OMIM:150370.0001', 'OMIM:138140.0006', 'OMIM:614215.0004', 'OMIM:300461.0007', 'OMIM:126451.0001', 'OMIM:604296.0001', 'OMIM:610060.0009', 'OMIM:615903.0002', 'OMIM:609279.0004', 'OMIM:606871.0002', 'dbSNP:rs4719463', 'OMIM:304040.0014', 'OMIM:300206.0004', 'OMIM:606558.0005', 'ClinVarVariant:477604', 'OMIM:116806.0019', 'OMIM:618163.0002', 'OMIM:613897.0005', 'OMIM:300485.0004', 'OMIM:171834.0020', 'OMIM:612920.0004', 'OMIM:607617.0002', 'dbSNP:rs73688764', 'OMIM:164860.0006', 'OMIM:612724.0014', 'ClinVarVariant:242613', 'OMIM:609607.0001', 'OMIM:182389.0020', 'OMIM:300515.0005', 'OMIM:605522.0004', 'OMIM:600533.0002', 'dbSNP:rs2384207', 'OMIM:113705.0027', 'OMIM:300841.0003', 'OMIM:604594.0003', 'OMIM:304040.0017', 'OMIM:616054.0004', 'OMIM:603686.0001', 'OMIM:601143.0005', 'OMIM:305900.0018', 'OMIM:609457.0004', 'OMIM:607590.0003', 'OMIM:609988.0005', 'OMIM:150340.0002', 'OMIM:173470.0020', 'OMIM:614901.0002', 'OMIM:602536.0006', 'OMIM:604124.0003', 'OMIM:607186.0009', 'OMIM:134934.0007', 'OMIM:142000.0009', 'OMIM:134370.0020', 'OMIM:617491.0004', 'ClinVarVariant:38478', 'OMIM:120140.0052', 'OMIM:614720.0002', 'OMIM:118490.0007', 'ClinVarVariant:847248', 'OMIM:120290.0007', 'OMIM:184429.0003', 'ClinVarVariant:34280', 'OMIM:603183.0001', 'ClinVarVariant:943021', 'OMIM:611592.0004', 'OMIM:300032.0013', 'OMIM:121013.0001', 'OMIM:301300.0015', 'OMIM:617619.0003', 'OMIM:300841.0255', 'OMIM:138190.0001', 'OMIM:300975.0002', 'OMIM:609502.0001', 'OMIM:612803.0003', 'OMIM:150310.0007', 'ClinVarVariant:829876', 'OMIM:107680.0001', 'OMIM:617210.0001', 'OMIM:300538.0014', 'OMIM:603305.0007', 'OMIM:606596.0003', 'OMIM:614998.0003', 'OMIM:611332.0002', 'OMIM:602177.0001', 'OMIM:300382.0004', 'OMIM:602421.0108', 'OMIM:142994.0001', 'OMIM:123841.0006', 'OMIM:611482.0001', 'OMIM:120150.0056', 'OMIM:167414.0002', 'OMIM:602195.0008', 'OMIM:300746.0068', 'OMIM:614610.0001', 'OMIM:606463.0029', 'OMIM:182465.0007', 'ClinVarVariant:657967', 'OMIM:108961.0009', 'OMIM:141800.0037', 'OMIM:312610.0008', 'OMIM:601785.0005', 'OMIM:300644.0033', 'OMIM:601487.0011', 'OMIM:188040.0006', 'OMIM:611052.0007', 'OMIM:602421.0101', 'OMIM:160720.0020', 'OMIM:602026.0006', 'OMIM:612322.0005', 'OMIM:600225.0013', 'OMIM:300746.0032', 'OMIM:300039.0011', 'OMIM:164757.0012', 'OMIM:607982.0004', 'ClinVarVariant:375324', 'OMIM:120120.0016', 'OMIM:603297.0012', 'OMIM:608375.0003', 'OMIM:300206.0001', 'OMIM:606673.0001', 'OMIM:606967.0014', 'OMIM:116952.0002', 'OMIM:600635.0005', 'OMIM:107773.0009', 'OMIM:314705.0001', 'OMIM:613113.0002', 'OMIM:615730.0003', 'dbSNP:rs33993717', 'OMIM:116840.0004', 'OMIM:160760.0009', 'OMIM:195000.0001', 'OMIM:600734.0002', 'OMIM:603372.0011', 'OMIM:164005.0004', 'OMIM:165360.0007', 'OMIM:601296.0007', 'OMIM:603741.0004', 'ClinVarVariant:242502', 'OMIM:142959.0008', 'OMIM:118485.0003', 'OMIM:612895.0003', 'dbSNP:rs4793149', 'OMIM:190182.0015', 'OMIM:118425.0009', 'OMIM:184755.0001', 'OMIM:116897.0002', 'OMIM:604159.0001', 'OMIM:190450.0007', 'OMIM:602643.0005', 'OMIM:610553.0001', 'OMIM:141800.0204', 'OMIM:603557.0002', 'OMIM:608455.0018', 'OMIM:603371.0006', 'OMIM:608172.0003', 'OMIM:171833.0010', 'OMIM:600778.0004', 'OMIM:141900.0169', 'OMIM:608307.0003', 'OMIM:603499.0005', 'OMIM:603309.0006', 'OMIM:103020.0008', 'OMIM:172490.0004', 'OMIM:608307.0009', 'OMIM:614259.0001', 'OMIM:188450.0014', 'OMIM:602421.0131', 'OMIM:180901.0004', 'OMIM:612799.0001', 'OMIM:606755.0002', 'OMIM:605073.0004', 'OMIM:603109.0005', 'OMIM:610456.0004', 'OMIM:602192.0004', 'OMIM:606596.0010', 'OMIM:617170.0001', 'OMIM:605516.0014', 'OMIM:613799.0003', 'OMIM:602694.0004', 'OMIM:120110.0002', 'dbSNP:rs149142052', 'OMIM:112261.0003', 'OMIM:606933.0028', 'OMIM:176310.0005', 'OMIM:300839.0007', 'OMIM:300644.0014', 'OMIM:603945.0004', 'OMIM:611119.0008', 'OMIM:601265.0003', 'OMIM:604241.0002', 'OMIM:605629.0002', 'OMIM:153245.0001', 'OMIM:601409.0002', 'OMIM:615944.0004', 'OMIM:600555.0003', 'OMIM:606882.0012', 'OMIM:606060.0004', 'OMIM:161650.0003', 'OMIM:264900.0015', 'OMIM:615276.0002', 'OMIM:609413.0005', 'OMIM:161561.0004', 'OMIM:603527.0004', 'OMIM:157660.0021', 'dbSNP:rs8009420', 'OMIM:103020.0007', 'OMIM:617083.0009', 'OMIM:300197.0006', 'OMIM:604418.0003', 'OMIM:150310.0005', 'OMIM:600133.0002', 'OMIM:602257.0002', 'OMIM:608107.0010', 'OMIM:601500.0001', 'OMIM:606397.0005', 'OMIM:300104.0002', 'OMIM:600522.0001', 'ClinVarVariant:262708', 'OMIM:603288.0005', 'OMIM:615667.0001', 'OMIM:126060.0002', 'OMIM:608329.0003', 'OMIM:300841.0207', 'OMIM:160775.0001', 'OMIM:182810.0002', 'OMIM:162330.0002', 'OMIM:617083.0008', 'OMIM:605427.0017', 'OMIM:138248.0001', 'OMIM:602275.0001', 'OMIM:611088.0001', 'OMIM:605747.0010', 'OMIM:120280.0010', 'OMIM:609806.0040', 'OMIM:164160.0003', 'OMIM:141900.0050', 'OMIM:603377.0015', 'OMIM:601652.0008', 'OMIM:602880.0002', 'OMIM:300644.0056', 'OMIM:612392.0008', 'OMIM:617378.0001', 'OMIM:607182.0004', 'ClinVarVariant:35671', 'OMIM:142983.0004', 'ClinVarVariant:570878', 'OMIM:603415.0017', 'OMIM:608455.0002', 'OMIM:605648.0004', 'OMIM:617782.0009', 'OMIM:606953.0002', 'ClinVarVariant:242487', 'OMIM:300485.0006', 'OMIM:300823.0007', 'OMIM:608303.0003', 'OMIM:608626.0002', 'OMIM:616054.0002', 'OMIM:614589.0008', 'ClinVarVariant:242636', 'OMIM:600650.0012', 'OMIM:613898.0002', 'OMIM:300172.0012', 'OMIM:608177.0012', 'OMIM:611358.0001', 'OMIM:606224.0005', 'OMIM:603799.0012', 'OMIM:601756.0012', 'OMIM:612373.0009', 'OMIM:308000.0042', 'ClinVarVariant:24394', 'OMIM:102610.0007', 'OMIM:602026.0001', 'OMIM:190070.0016', 'OMIM:602402.0005', 'OMIM:603506.0004', 'OMIM:606797.0004', 'OMIM:604214.0001', 'OMIM:607752.0005', 'OMIM:601421.0006', 'OMIM:609653.0005', 'dbSNP:rs116853700', 'OMIM:107300.0040', 'OMIM:300550.0008', 'OMIM:300485.0010', 'OMIM:600478.0003', 'OMIM:600608.0003', 'OMIM:604774.0007', 'ClinVarVariant:495043', 'OMIM:148067.0009', 'OMIM:154950.0005', 'OMIM:602069.0001', 'ClinVarVariant:536541', 'OMIM:105850.0009', 'OMIM:190230.0004', 'OMIM:600829.0003', 'OMIM:608414.0005', 'OMIM:300275.0002', 'OMIM:130130.0011', 'OMIM:180072.0007', 'OMIM:611060.0011', 'OMIM:600568.0003', 'OMIM:602421.0070', 'OMIM:602727.0006', 'OMIM:150330.0041', 'OMIM:600053.0003', 'OMIM:603517.0016', 'dbSNP:rs6718702', 'OMIM:613354.0003', 'OMIM:179605.0014', 'OMIM:612349.0062', 'OMIM:603415.0009', 'dbSNP:rs10492002', 'OMIM:613816.0005', 'OMIM:300036.0005', 'OMIM:180380.0012', 'OMIM:137140.0004', 'OMIM:613113.0036', 'OMIM:147569.0002', 'OMIM:138140.0003', 'OMIM:608892.0004', 'OMIM:607575.0010', 'OMIM:590070.0002', 'OMIM:614631.0004', 'ClinVarVariant:23191', 'OMIM:607117.0004', 'OMIM:150325.0011', 'OMIM:605555.0009', 'OMIM:190020.0006', 'OMIM:600346.0001', 'OMIM:614194.0004', 'OMIM:115440.0002', 'OMIM:611177.0006', 'OMIM:148066.0007', 'OMIM:603839.0001', 'OMIM:603517.0010', 'ClinVarVariant:372481', 'OMIM:124020.0004', 'OMIM:604134.0025', 'OMIM:311770.0005', 'OMIM:602667.0007', 'OMIM:125670.0005', 'OMIM:182380.0001', 'OMIM:606945.0031', 'OMIM:610272.0004', 'OMIM:613555.0005', 'OMIM:120140.0005', 'OMIM:193067.0001', 'OMIM:605593.0005', 'OMIM:614631.0013', 'OMIM:603517.0018', 'OMIM:120190.0006', 'OMIM:118485.0006', 'OMIM:607093.0011', 'OMIM:601785.0019', 'OMIM:180902.0001', 'OMIM:601013.0002', 'OMIM:603196.0004', 'OMIM:160720.0012', 'OMIM:104150.0002', 'OMIM:120270.0002', 'OMIM:612373.0003', 'OMIM:601615.0007', 'OMIM:179820.0005', 'OMIM:612283.0011', 'OMIM:614194.0006', 'OMIM:238300.0002', 'OMIM:603937.0006', 'OMIM:612358.0002', 'OMIM:171833.0007', 'ClinVarVariant:76326', 'OMIM:300414.0009', 'OMIM:185470.0005', 'OMIM:603033.0003', 'OMIM:606530.0013', 'OMIM:300075.0021', 'OMIM:611313.0002', 'OMIM:603089.0008', 'OMIM:614169.0001', 'OMIM:605802.0001', 'OMIM:607709.0005', 'OMIM:154235.0001', 'OMIM:180380.0032', 'OMIM:300005.0039', 'OMIM:300005.0038', 'OMIM:610911.0001', 'OMIM:608603.0001', 'OMIM:173910.0007', 'OMIM:602235.0015', 'OMIM:134850.0008', 'OMIM:611495.0005', 'OMIM:604260.0005', 'OMIM:603381.0001', 'ClinVarVariant:242523', 'OMIM:600958.0026', 'OMIM:608378.0007', 'OMIM:602346.0011', 'OMIM:606945.0027', 'OMIM:611731.0025', 'OMIM:606598.0009', 'OMIM:611894.0001', 'ClinVarVariant:944553', 'dbSNP:rs11733276', 'OMIM:608508.0010', 'OMIM:176943.0040', 'OMIM:611725.0002', 'OMIM:176876.0008', 'OMIM:300841.0034', 'OMIM:159440.0029', 'OMIM:600726.0005', 'OMIM:602421.0069', 'OMIM:138250.0016', 'OMIM:167416.0012', 'OMIM:300821.0004', 'ClinVarVariant:933378', 'OMIM:605511.0004', 'OMIM:601199.0003', 'OMIM:141900.0124', 'OMIM:606980.0007', 'OMIM:612920.0001', 'OMIM:138295.0002', 'OMIM:600548.0003', 'OMIM:601428.0015', 'OMIM:139396.0007', 'OMIM:590050.0009', 'OMIM:608014.0001', 'OMIM:173470.0014', 'OMIM:125647.0024', 'OMIM:120150.0036', 'OMIM:613655.0001', 'OMIM:601538.0002', 'OMIM:180380.0035', 'OMIM:300160.0007', 'OMIM:601428.0014', 'OMIM:600509.0004', 'ClinVarVariant:243924', 'OMIM:157655.0005', 'OMIM:171060.0011', 'OMIM:107910.0008', 'OMIM:611026.0007', 'OMIM:100720.0005', 'OMIM:609252.0001', 'OMIM:612453.0002', 'OMIM:600509.0018', 'OMIM:607273.0001', 'OMIM:107690.0001', 'OMIM:613165.0017', 'OMIM:103220.0007', 'OMIM:605938.0002', 'OMIM:150330.0050', 'OMIM:601570.0004', 'dbSNP:rs7563627', 'OMIM:601924.0004', 'OMIM:611901.0003', 'OMIM:611026.0004', 'OMIM:182350.0002', 'OMIM:614829.0001', 'OMIM:603584.0005', 'OMIM:609314.0005', 'OMIM:610573.0007', 'OMIM:607117.0007', 'OMIM:603681.0005', 'dbSNP:rs711355', 'OMIM:190020.0016', 'OMIM:611052.0006', 'OMIM:613871.0010', 'OMIM:606887.0001', 'OMIM:610083.0004', 'OMIM:608461.0003', 'OMIM:606869.0003', 'ClinVarVariant:430722', 'OMIM:605896.0008', 'OMIM:613891.0001', 'OMIM:603395.0005', 'OMIM:603290.0001', 'OMIM:120130.0020', 'OMIM:120353.0001', 'OMIM:602023.0002', 'OMIM:611428.0006', 'OMIM:603033.0008', 'OMIM:124015.0004', 'OMIM:605514.0003', 'ClinVarVariant:242462', 'OMIM:607243.0002', 'OMIM:606822.0004', 'OMIM:150330.0044', 'OMIM:134790.0013', 'OMIM:141900.0501', 'OMIM:176830.0001', 'OMIM:602713.0004', 'OMIM:173350.0008', 'OMIM:185605.0004', 'OMIM:300127.0001', 'OMIM:120150.0034', 'OMIM:606489.0006', 'OMIM:312865.0006', 'OMIM:612280.0002', 'OMIM:607707.0003', 'OMIM:107580.0003', 'OMIM:161650.0009', 'OMIM:170993.0006', 'OMIM:120160.0016', 'OMIM:608214.0001', 'OMIM:604506.0003', 'OMIM:601734.0004', 'OMIM:139320.0036', 'OMIM:611290.0002', 'OMIM:603652.0005', 'ClinVarVariant:982521', 'OMIM:614141.0003', 'OMIM:164761.0032', 'ClinVarVariant:67897', 'OMIM:300128.0003', 'ClinVarVariant:71434', 'OMIM:613726.0005', 'OMIM:179605.0006', 'OMIM:609342.0002', 'OMIM:605124.0002', 'OMIM:190160.0035', 'OMIM:120160.0055', 'OMIM:611971.0001', 'OMIM:610299.0002', 'OMIM:141900.0044', 'OMIM:159970.0003', 'OMIM:300841.0073', 'OMIM:120160.0014', 'OMIM:603856.0002', 'OMIM:300040.0004', 'OMIM:107580.0005', 'ClinVarVariant:972597', 'OMIM:614828.0005', 'OMIM:134820.0010', 'OMIM:609799.0005', 'OMIM:103600.0017', 'OMIM:617608.0003', 'OMIM:604095.0006', 'OMIM:613814.0003', 'OMIM:608187.0003', 'dbSNP:rs7940423', 'ClinVarVariant:433546', 'OMIM:173350.0007', 'OMIM:605080.0006', 'OMIM:607839.0013', 'OMIM:613160.0008', 'OMIM:613871.0004', 'OMIM:150320.0003', 'OMIM:606352.0017', 'OMIM:141900.0315', 'OMIM:300371.0017', 'OMIM:138040.0012', 'OMIM:606834.0002', 'OMIM:609139.0006', 'OMIM:608761.0004', 'OMIM:182860.0002', 'OMIM:167409.0006', 'OMIM:601620.0008', 'OMIM:606241.0002', 'OMIM:617782.0007', 'ClinVarVariant:933594', 'ClinVarVariant:652292', 'OMIM:141800.0091', 'OMIM:141900.0400', 'OMIM:606201.0003', 'OMIM:313700.0031', 'OMIM:606157.0014', 'OMIM:604505.0006', 'OMIM:609591.0006', 'ClinVarVariant:620506', 'OMIM:600326.0005', 'OMIM:609797.0007', 'OMIM:604734.0002', 'OMIM:114205.0001', 'OMIM:606480.0010', 'OMIM:614010.0004', 'OMIM:248610.0002', 'OMIM:116897.0003', 'OMIM:217070.0007', 'OMIM:300746.0007', 'OMIM:614982.0016', 'OMIM:601199.0013', 'OMIM:604198.0002', 'OMIM:601756.0007', 'OMIM:609988.0006', 'OMIM:185620.0016', 'OMIM:602229.0021', 'OMIM:610148.0003', 'OMIM:141900.0278', 'OMIM:120180.0024', 'OMIM:605284.0005', 'OMIM:604723.0003', 'OMIM:191290.0004', 'OMIM:130160.0007', 'OMIM:611184.0009', 'OMIM:152427.0005', 'OMIM:601592.0009', 'OMIM:610197.0003', 'OMIM:618334.0001', 'OMIM:154050.0003', 'OMIM:300841.0058', 'OMIM:138130.0003', 'OMIM:607556.0007', 'OMIM:604557.0001', 'OMIM:120160.0044', 'OMIM:131222.0009', 'OMIM:610573.0008', 'ClinVarVariant:188136', 'OMIM:182389.0014', 'ClinVarVariant:2423', 'OMIM:179605.0020', 'OMIM:604556.0001', 'OMIM:605775.0008', 'OMIM:603089.0002', 'dbSNP:rs470903', 'OMIM:601460.0010', 'OMIM:616244.0003', 'OMIM:602421.0127', 'OMIM:602635.0003', 'OMIM:608329.0002', 'OMIM:192340.0001', 'OMIM:602389.0001', 'OMIM:138720.0002', 'OMIM:182530.0001', 'OMIM:601498.0013', 'OMIM:613915.0001', 'OMIM:300390.0008', 'OMIM:603904.0001', 'OMIM:600799.0024', 'OMIM:603967.0011', 'OMIM:600599.0005', 'OMIM:602783.0011', 'OMIM:604289.0002', 'OMIM:602421.0096', 'OMIM:600225.0010', 'OMIM:300644.0023', 'ClinVarVariant:28953', 'OMIM:300776.0002', 'OMIM:600824.0001', 'OMIM:600574.0012', 'OMIM:609840.0003', 'OMIM:188450.0012', 'OMIM:614138.0004', 'OMIM:106150.0004', 'ClinVarVariant:264674', 'OMIM:603415.0014', 'dbSNP:rs78723182', 'OMIM:606882.0015', 'OMIM:612502.0001', 'OMIM:615054.0004', 'OMIM:182389.0007', 'OMIM:603652.0001', 'OMIM:609523.0009', 'OMIM:300499.0003', 'ClinVarVariant:27212', 'OMIM:118425.0020', 'OMIM:601762.0005', 'OMIM:600709.0007', 'OMIM:138450.0002', 'OMIM:600570.0011', 'OMIM:300841.0083', 'OMIM:610045.0001', 'OMIM:608944.0001', 'OMIM:120150.0017', 'OMIM:600635.0008', 'OMIM:600728.0003', 'OMIM:609762.0002', 'OMIM:142994.0009', 'ClinVarVariant:830393', 'OMIM:113705.0009', 'OMIM:608103.0009', 'OMIM:601501.0001', 'OMIM:120130.0004', 'OMIM:602229.0005', 'OMIM:174763.0020', 'OMIM:516000.0002', 'OMIM:606860.0009', 'OMIM:616283.0001', 'OMIM:300379.0001', 'OMIM:606754.0007', 'OMIM:603848.0003', 'OMIM:138450.0006', 'OMIM:604134.0001', 'OMIM:602421.0115', 'dbSNP:rs1455740', 'OMIM:300126.0001', 'OMIM:193060.0001', 'OMIM:606847.0007', 'OMIM:600635.0009', 'OMIM:603448.0001', 'OMIM:160760.0044', 'OMIM:611153.0006', 'dbSNP:rs7816924', 'dbSNP:rs148979203', 'OMIM:607365.0001', 'OMIM:601149.0006', 'OMIM:172471.0008', 'OMIM:609751.0004', 'OMIM:601592.0004', 'OMIM:613113.0030', 'OMIM:147557.0005', 'OMIM:109700.0001', 'ClinVarVariant:831317', 'OMIM:136350.0008', 'OMIM:607261.0001', 'OMIM:300095.0010', 'OMIM:606938.0001', 'OMIM:176911.0001', 'OMIM:614232.0005', 'OMIM:600712.0002', 'OMIM:603506.0012', 'OMIM:300556.0003', 'OMIM:601199.0016', 'OMIM:300377.0074', 'OMIM:120240.0004', 'dbSNP:rs1031391', 'OMIM:610008.0001', 'OMIM:141850.0073', 'dbSNP:rs986359', 'OMIM:134934.0025', 'OMIM:609708.0026', 'OMIM:608107.0008', 'OMIM:138247.0001', 'OMIM:614426.0001', 'OMIM:603708.0001', 'OMIM:606014.0004', 'OMIM:601090.0007', 'OMIM:107400.0019', 'OMIM:610226.0001', 'OMIM:608537.0023', 'OMIM:300298.0002', 'OMIM:611360.0003', 'OMIM:609275.0001', 'OMIM:603370.0005', 'OMIM:137295.0014', 'OMIM:617835.0001', 'OMIM:605206.0004', 'OMIM:217050.0005', 'OMIM:600429.0003', 'OMIM:604710.0008', 'OMIM:605010.0006', 'OMIM:611061.0002', 'OMIM:614667.0003', 'OMIM:602229.0001', 'OMIM:311770.0001', 'OMIM:609014.0001', 'OMIM:605799.0004', 'OMIM:602716.0002', 'OMIM:134820.0016', 'OMIM:610272.0006', 'OMIM:610463.0003', 'OMIM:614232.0013', 'OMIM:603604.0015', 'OMIM:608537.0003', 'OMIM:609708.0036', 'OMIM:180220.0002', 'dbSNP:rs114458961', 'OMIM:611420.0001', 'ClinVarVariant:15623', 'OMIM:600678.0001', 'OMIM:300644.0015', 'OMIM:602183.0002', 'ClinVarVariant:38391', 'OMIM:613621.0001', 'OMIM:123829.0002', 'OMIM:611672.0005', 'OMIM:600853.0002', 'OMIM:300189.0004', 'OMIM:300011.0007', 'OMIM:157660.0010', 'OMIM:141900.0161', 'OMIM:615000.0001', 'OMIM:606945.0056', 'OMIM:606847.0006', 'OMIM:607386.0010', 'OMIM:137290.0004', 'OMIM:611888.0001', 'OMIM:604766.0010', 'OMIM:613942.0005', 'OMIM:182390.0018', 'OMIM:300841.0112', 'OMIM:156225.0001', 'OMIM:180901.0015', 'OMIM:311800.0006', 'OMIM:608945.0005', 'OMIM:602023.0004', 'dbSNP:rs62302171', 'OMIM:610860.0006', 'OMIM:613872.0002', 'OMIM:611524.0002', 'OMIM:600173.0004', 'OMIM:605653.0001', 'OMIM:611655.0003', 'OMIM:610859.0004', 'ClinVarVariant:70469', 'OMIM:602768.0003', 'OMIM:603634.0004', 'OMIM:608699.0006', 'OMIM:123970.0003', 'OMIM:608662.0001', 'OMIM:138850.0005', 'OMIM:608053.0005', 'OMIM:610326.0001', 'OMIM:126650.0006', 'OMIM:605516.0013', 'dbSNP:rs185374745', 'OMIM:611761.0001', 'OMIM:608102.0009', 'OMIM:606636.0003', 'OMIM:300766.0002', 'OMIM:603861.0008', 'OMIM:176943.0018', 'OMIM:604101.0002', 'OMIM:191305.0002', 'OMIM:194355.0001', 'OMIM:611574.0002', 'OMIM:104614.0006', 'OMIM:141900.0303', 'OMIM:603009.0006', 'OMIM:605789.0004', 'OMIM:137150.0003', 'ClinVarVariant:46851', 'OMIM:139320.0033', 'OMIM:603335.0007', 'OMIM:601047.0003', 'OMIM:605423.0006', 'OMIM:604934.0003', 'OMIM:610745.0006', 'OMIM:300040.0002', 'OMIM:602851.0002', 'OMIM:618570.0001', 'ClinVarVariant:584751', 'OMIM:516000.0011', 'OMIM:602617.0002', 'OMIM:150100.0004', 'OMIM:179820.0003', 'OMIM:138571.0006', 'OMIM:304040.0015', 'OMIM:618058.0005', 'OMIM:141800.0160', 'OMIM:305371.0003', 'ClinVarVariant:242519', 'OMIM:612907.0002', 'OMIM:123690.0005', 'OMIM:610934.0003', 'OMIM:600898.0002', 'OMIM:300644.0003', 'OMIM:191290.0010', 'OMIM:601758.0010', 'OMIM:602091.0009', 'OMIM:612636.0008', 'OMIM:607871.0004', 'OMIM:613599.0003', 'OMIM:300095.0007', 'OMIM:600958.0016', 'OMIM:610523.0007', 'ClinVarVariant:1270', 'ClinVarVariant:6658', 'OMIM:147200.0005', 'OMIM:606844.0007', 'OMIM:609019.0006', 'OMIM:608508.0003', 'OMIM:603851.0012', 'OMIM:600939.0004', 'OMIM:606268.0004', 'OMIM:601802.0001', 'OMIM:141850.0008', 'OMIM:607854.0022', 'OMIM:176943.0029', 'OMIM:613497.0007', 'OMIM:617449.0001', 'OMIM:308000.0011', 'ClinVarVariant:242616', 'OMIM:300688.0003', 'OMIM:312180.0002', 'OMIM:612804.0001', 'OMIM:104160.0003', 'OMIM:600502.0007', 'OMIM:600909.0004', 'OMIM:178620.0002', 'OMIM:604710.0004', 'OMIM:176943.0016', 'OMIM:182390.0004', 'OMIM:300453.0003', 'OMIM:612761.0004', 'OMIM:600236.0001', 'OMIM:613521.0007', 'OMIM:616254.0002', 'OMIM:615567.0002', 'OMIM:607601.0001', 'OMIM:609883.0003', 'OMIM:600046.0020', 'OMIM:602667.0002', 'OMIM:608500.0001', 'OMIM:103600.0030', 'OMIM:606682.0006', 'OMIM:604649.0010', 'OMIM:300298.0004', 'OMIM:164870.0006', 'OMIM:187270.0004', 'OMIM:107300.0001', 'OMIM:603537.0005', 'OMIM:605907.0004', 'OMIM:605802.0013', 'OMIM:611731.0031', 'OMIM:615738.0003', 'OMIM:608206.0001', 'OMIM:612870.0002', 'OMIM:124092.0002', 'OMIM:608429.0003', 'dbSNP:rs6897106', 'OMIM:607892.0004', 'OMIM:600495.0002', 'OMIM:600678.0012', 'OMIM:601023.0004', 'OMIM:118425.0017', 'OMIM:608465.0007', 'OMIM:603474.0007', 'OMIM:602667.0003', 'OMIM:608803.0006', 'ClinVarVariant:279615', 'OMIM:606726.0001', 'OMIM:613190.0003', 'OMIM:611104.0003', 'OMIM:601045.0002', 'ClinVarVariant:17602', 'OMIM:613350.0001', 'OMIM:601017.0002', 'OMIM:601769.0012', 'OMIM:613815.0033', 'OMIM:123101.0004', 'OMIM:607939.0018', 'OMIM:600810.0003', 'OMIM:601653.0005', 'OMIM:141800.0024', 'OMIM:608167.0003', 'dbSNP:rs3913363', 'OMIM:608547.0007', 'OMIM:134790.0018', 'OMIM:606157.0011', 'OMIM:612453.0006', 'OMIM:608792.0005', 'OMIM:141900.0126', 'OMIM:190070.0010', 'OMIM:613872.0006', 'OMIM:615403.0002', 'OMIM:134830.0003', 'OMIM:170280.0015', 'OMIM:608381.0004', 'OMIM:148760.0002', 'OMIM:607358.0008', 'OMIM:134797.0022', 'OMIM:182860.0007', 'OMIM:606821.0008', 'OMIM:146738.0002', 'OMIM:601719.0007', 'OMIM:603381.0009', 'OMIM:606309.0001', 'ClinVarVariant:857326', 'OMIM:134820.0013', 'OMIM:605286.0003', 'OMIM:607082.0002', 'OMIM:300746.0076', 'OMIM:611611.0002', 'OMIM:615291.0002', 'OMIM:590025.0001', 'OMIM:612958.0002', 'OMIM:151443.0005', 'OMIM:176915.0004', 'OMIM:608968.0010', 'OMIM:300841.0047', 'dbSNP:rs10740455', 'dbSNP:rs10509680', 'OMIM:605086.0005', 'dbSNP:rs2885805', 'OMIM:603234.0024', 'OMIM:612570.0007', 'OMIM:300897.0002', 'OMIM:603377.0010', 'OMIM:617424.0006', 'OMIM:605411.0006', 'OMIM:609214.0002', 'OMIM:606857.0002', 'ClinVarVariant:38479', 'OMIM:184757.0012', 'OMIM:616846.0002', 'OMIM:300841.0106', 'OMIM:607063.0010', 'ClinVarVariant:136253', 'OMIM:120150.0008', 'OMIM:608830.0002', 'OMIM:309850.0003', 'OMIM:147558.0002', 'OMIM:606019.0001', 'OMIM:156570.0011', 'OMIM:190010.0001', 'OMIM:300392.0021', 'OMIM:614258.0003', 'OMIM:612850.0006', 'OMIM:172100.0002', 'OMIM:605950.0002', 'OMIM:607206.0008', 'OMIM:610272.0007', 'OMIM:601282.0001', 'OMIM:608744.0001', 'OMIM:248610.0004', 'OMIM:188840.0003', 'OMIM:615038.0001', 'OMIM:608167.0008', 'OMIM:601015.0010', 'OMIM:173335.0009', 'OMIM:148066.0014', 'OMIM:606397.0004', 'OMIM:602421.0051', 'OMIM:125660.0016', 'OMIM:612661.0003', 'OMIM:601622.0011', 'OMIM:600985.0003', 'OMIM:614141.0001', 'OMIM:601902.0004', 'OMIM:608245.0001', 'OMIM:602360.0009', 'OMIM:102630.0006', 'OMIM:605938.0001', 'ClinVarVariant:181518', 'OMIM:608206.0005', 'OMIM:603604.0008', 'OMIM:614537.0002', 'OMIM:605283.0001', 'OMIM:171060.0010', 'OMIM:605370.0001', 'OMIM:614677.0002', 'OMIM:602286.0004', 'OMIM:191030.0010', 'OMIM:120361.0001', 'OMIM:605497.0008', 'OMIM:157660.0006', 'OMIM:606416.0001', 'OMIM:607139.0004', 'OMIM:607108.0005', 'OMIM:141800.0080', 'OMIM:600291.0003', 'OMIM:604095.0003', 'OMIM:108740.0006', 'OMIM:190160.0036', 'OMIM:603372.0013', 'OMIM:209901.0004', 'OMIM:107300.0019', 'OMIM:608283.0004', 'OMIM:604188.0003', 'OMIM:608803.0012', 'OMIM:304040.0022', 'OMIM:137140.0003', 'OMIM:313700.0052', 'OMIM:103600.0058', 'ClinVarVariant:262712', 'OMIM:308840.0004', 'OMIM:606869.0042', 'OMIM:112210.0001', 'OMIM:600005.0001', 'ClinVarVariant:4660', 'OMIM:604733.0006', 'OMIM:617218.0001', 'OMIM:607440.0017', 'OMIM:160760.0027', 'OMIM:611459.0005', 'OMIM:615844.0002', 'OMIM:103600.0044', 'OMIM:603714.0005', 'OMIM:138249.0007', 'OMIM:600160.0012', 'OMIM:604365.0001', 'OMIM:120120.0010', 'OMIM:603693.0009', 'OMIM:601255.0013', 'OMIM:604101.0005', 'OMIM:610363.0003', 'OMIM:610272.0003', 'OMIM:606350.0008', 'OMIM:120700.0006', 'OMIM:602218.0010', 'OMIM:137167.0008', 'OMIM:303630.0010', 'ClinVarVariant:205614', 'dbSNP:rs6782149', 'OMIM:120070.0011', 'OMIM:602194.0008', 'OMIM:131222.0013', 'OMIM:602887.0001', 'OMIM:604357.0001', 'OMIM:608137.0002', 'OMIM:601460.0001', 'OMIM:133170.0003', 'OMIM:603808.0003', 'OMIM:608000.0003', 'OMIM:606411.0001', 'OMIM:601253.0020', 'OMIM:607982.0002', 'OMIM:192150.0011', 'OMIM:137150.0004', 'OMIM:617413.0006', 'OMIM:113705.0026', 'OMIM:600259.0019', 'OMIM:190315.0008', 'OMIM:603811.0001', 'OMIM:600917.0003', 'OMIM:602195.0003', 'dbSNP:rs182668686', 'OMIM:606463.0044', 'OMIM:138180.0001', 'OMIM:603517.0004', 'OMIM:609280.0005', 'OMIM:609831.0005', 'OMIM:613878.0017', 'OMIM:602662.0005', 'OMIM:602389.0002', 'OMIM:251170.0004', 'OMIM:610552.0009', 'OMIM:314375.0002', 'OMIM:300746.0065', 'OMIM:601299.0007', 'OMIM:300415.0008', 'OMIM:182340.0004', 'OMIM:609019.0011', 'OMIM:608576.0006', 'OMIM:600909.0003', 'OMIM:191170.0025', 'OMIM:185620.0013', 'OMIM:300611.0004', 'OMIM:113705.0030', 'OMIM:131210.0001', 'OMIM:102545.0003', 'OMIM:173470.0012', 'OMIM:300798.0012', 'OMIM:107280.0001', 'OMIM:516060.0010', 'OMIM:613441.0003', 'OMIM:138850.0003', 'OMIM:184600.0001', 'OMIM:614537.0001', 'OMIM:607117.0002', 'ClinVarVariant:29150', 'OMIM:138130.0008', 'OMIM:610316.0004', 'OMIM:107580.0006', 'OMIM:606682.0010', 'OMIM:603968.0005', 'OMIM:613847.0003', 'OMIM:604523.0001', 'OMIM:605313.0004', 'OMIM:615340.0003', 'OMIM:300172.0004', 'OMIM:610285.0009', 'OMIM:606201.0005', 'OMIM:608769.0003', 'OMIM:600584.0022', 'OMIM:612121.0002', 'OMIM:172860.0003', 'OMIM:602743.0003', 'OMIM:120470.0005', 'OMIM:160775.0012', 'OMIM:154950.0001', 'OMIM:182120.0002', 'OMIM:103600.0004', 'OMIM:612373.0002', 'OMIM:601691.0019', 'OMIM:232000.0006', 'OMIM:603415.0023', 'OMIM:607585.0007', 'OMIM:606630.0005', 'OMIM:611888.0004', 'OMIM:141900.0294', 'OMIM:142410.0022', 'ClinVarVariant:242416', 'OMIM:590045.0004', 'OMIM:606075.0010', 'OMIM:602703.0003', 'OMIM:601863.0003', 'OMIM:116806.0007', 'OMIM:300377.0017', 'OMIM:605924.0004', 'OMIM:120120.0012', 'OMIM:120920.0001', 'OMIM:611731.0038', 'OMIM:611141.0001', 'OMIM:601011.0036', 'OMIM:602635.0010', 'OMIM:300841.0085', 'OMIM:609489.0004', 'OMIM:176876.0015', 'OMIM:608172.0005', 'OMIM:104311.0026', 'OMIM:300072.0006', 'dbSNP:rs12646107', 'OMIM:613878.0015', 'OMIM:606945.0026', 'OMIM:608177.0007', 'OMIM:602201.0006', 'OMIM:609575.0011', 'OMIM:612991.0006', 'OMIM:141800.0211', 'OMIM:120240.0005', 'OMIM:120180.0013', 'OMIM:608537.0018', 'OMIM:313700.0001', 'OMIM:107323.0006', 'OMIM:600820.0001', 'OMIM:155541.0016', 'OMIM:139313.0004', 'OMIM:165240.0005', 'OMIM:141900.0360', 'dbSNP:rs2280399', 'OMIM:605564.0002', 'ClinVarVariant:965640', 'OMIM:182135.0002', 'OMIM:152790.0004', 'OMIM:300127.0004', 'OMIM:604546.0005', 'OMIM:609884.0012', 'OMIM:190160.0024', 'OMIM:607604.0010', 'dbSNP:rs7989332', 'OMIM:300394.0009', 'OMIM:142992.0001', 'OMIM:602053.0005', 'OMIM:601731.0002', 'OMIM:613113.0043', 'OMIM:618255.0003', 'OMIM:618994.0003', 'dbSNP:rs143277812', 'OMIM:160720.0011', 'OMIM:142200.0022', 'OMIM:611654.0007', 'OMIM:141800.0026', 'OMIM:617242.0003', 'OMIM:603073.0001', 'OMIM:180901.0011', 'OMIM:126650.0002', 'OMIM:600577.0004', 'OMIM:108410.0006', 'OMIM:606945.0011', 'OMIM:314850.0001', 'OMIM:300382.0018', 'OMIM:605921.0001', 'OMIM:608271.0001', 'OMIM:602765.0003', 'OMIM:300502.0016', 'OMIM:606142.0009', 'OMIM:612753.0001', 'OMIM:601728.0035', 'OMIM:603722.0002', 'OMIM:616821.0001', 'OMIM:173360.0001', 'OMIM:600140.0003', 'ClinVarVariant:807384', 'OMIM:606938.0002', 'OMIM:147670.0013', 'OMIM:300032.0025', 'OMIM:300647.0002', 'OMIM:300401.0026', 'OMIM:606945.0030', 'OMIM:300859.0001', 'OMIM:603136.0005', 'OMIM:605290.0008', 'OMIM:604165.0003', 'OMIM:616432.0005', 'OMIM:600522.0003', 'ClinVarVariant:650191', 'OMIM:600336.0002', 'OMIM:125647.0016', 'OMIM:618058.0001', 'OMIM:613742.0011', 'OMIM:608815.0007', 'OMIM:300841.0095', 'OMIM:605197.0004', 'OMIM:610876.0005', 'OMIM:607139.0006', 'OMIM:608204.0002', 'OMIM:611966.0004', 'OMIM:611184.0008', 'OMIM:300300.0056', 'OMIM:136350.0030', 'OMIM:605393.0005', 'dbSNP:rs188380356', 'OMIM:300490.0010', 'OMIM:612392.0006', 'OMIM:179617.0006', 'OMIM:176640.0033', 'OMIM:600415.0003', 'OMIM:609806.0019', 'OMIM:602201.0004', 'OMIM:120160.0056', 'OMIM:615049.0004', 'OMIM:136530.0004', 'OMIM:141850.0032', 'OMIM:176876.0006', 'OMIM:601564.0001', 'OMIM:606598.0019', 'OMIM:614620.0007', 'OMIM:600310.0013', 'OMIM:606598.0005', 'OMIM:142810.0004', 'OMIM:148066.0016', 'OMIM:516000.0009', 'OMIM:600301.0008', 'OMIM:300292.0002', 'OMIM:607844.0008', 'ClinVarVariant:374392', 'OMIM:164761.0016', 'OMIM:604712.0006', 'dbSNP:rs73394299', 'OMIM:312173.0003', 'OMIM:600725.0018', 'OMIM:600024.0005', 'OMIM:606945.0037', 'OMIM:601758.0005', 'OMIM:604882.0001', 'OMIM:614169.0006', 'OMIM:608547.0002', 'OMIM:603254.0003', 'OMIM:184429.0001', 'OMIM:107300.0047', 'OMIM:607102.0001', 'OMIM:147700.0001', 'OMIM:609520.0006', 'OMIM:159440.0021', 'OMIM:603330.0006', 'OMIM:170285.0002', 'OMIM:613349.0038', 'OMIM:601231.0010', 'OMIM:605411.0001', 'OMIM:611103.0001', 'OMIM:120131.0003', 'OMIM:611501.0001', 'OMIM:134830.0016', 'OMIM:608313.0011', 'OMIM:613785.0002', 'OMIM:602486.0003', 'OMIM:300110.0008', 'OMIM:186973.0001', 'OMIM:606976.0002', 'OMIM:121011.0006', 'OMIM:614084.0004', 'OMIM:613733.0027', 'OMIM:125240.0006', 'OMIM:610624.0006', 'OMIM:600555.0021', 'OMIM:107910.0010', 'OMIM:615003.0004', 'OMIM:610956.0013', 'OMIM:611801.0006', 'OMIM:603967.0013', 'OMIM:613534.0008', 'OMIM:176262.0002', 'OMIM:610330.0001', 'OMIM:123580.0006', 'OMIM:300110.0003', 'OMIM:606969.0001', 'OMIM:601012.0002', 'OMIM:171060.0009', 'OMIM:602033.0004', 'OMIM:604588.0009', 'OMIM:607386.0002', 'OMIM:609300.0007', 'OMIM:192340.0003', 'OMIM:114240.0002', 'OMIM:602956.0007', 'OMIM:180069.0007', 'OMIM:612192.0005', 'OMIM:602452.0002', 'OMIM:606326.0001', 'OMIM:604649.0007', 'OMIM:604384.0009', 'OMIM:154100.0004', 'dbSNP:rs149948521', 'OMIM:611061.0007', 'OMIM:601771.0008', 'OMIM:604063.0001', 'OMIM:613293.0006', 'OMIM:120550.0001', 'OMIM:176872.0003', 'OMIM:602769.0001', 'OMIM:191350.0005', 'OMIM:120150.0054', 'OMIM:614631.0007', 'OMIM:609342.0004', 'OMIM:137150.0002', 'OMIM:300032.0007', 'OMIM:601149.0008', 'OMIM:610132.0001', 'OMIM:600364.0005', 'OMIM:613878.0010', 'ClinVarVariant:242671', 'OMIM:603780.0006', 'OMIM:609502.0002', 'OMIM:123825.0001', 'OMIM:300377.0011', 'OMIM:191030.0011', 'OMIM:605522.0008', 'OMIM:156225.0009', 'ClinVarVariant:14338', 'OMIM:609575.0009', 'OMIM:618865.0001', 'OMIM:601607.0014', 'OMIM:613577.0001', 'OMIM:600108.0005', 'OMIM:516000.0001', 'OMIM:613326.0003', 'OMIM:191170.0039', 'OMIM:133530.0011', 'OMIM:602054.0003', 'OMIM:608778.0001', 'OMIM:607059.0012', 'OMIM:608771.0002', 'OMIM:180902.0008', 'OMIM:108740.0001', 'OMIM:609301.0002', 'OMIM:137140.0007', 'OMIM:300014.0001', 'OMIM:176801.0010', 'OMIM:606822.0018', 'OMIM:300172.0010', 'OMIM:610860.0002', 'OMIM:601621.0001', 'OMIM:606201.0027', 'OMIM:142360.0003', 'OMIM:300121.0014', 'OMIM:141800.0046', 'OMIM:120328.0012', 'OMIM:601313.0004', 'OMIM:609787.0004', 'dbSNP:rs150245813', 'OMIM:142955.0003', 'OMIM:613349.0011', 'OMIM:611472.0001', 'OMIM:300746.0101', 'OMIM:607939.0017', 'OMIM:606097.0009', 'OMIM:613381.0007', 'OMIM:300897.0011', 'OMIM:602229.0008', 'OMIM:602897.0001', 'OMIM:182860.0001', 'OMIM:304040.0012', 'OMIM:601097.0005', 'OMIM:126141.0002', 'OMIM:191315.0007', 'dbSNP:rs2274870', 'OMIM:590050.0004', 'OMIM:165220.0004', 'OMIM:607358.0002', 'OMIM:120220.0005', 'OMIM:601623.0011', 'OMIM:600194.0002', 'ClinVarVariant:242484', 'OMIM:600923.0009', 'OMIM:600275.0009', 'OMIM:138140.0005', 'OMIM:114250.0001', 'OMIM:600073.0006', 'OMIM:609196.0006', 'ClinVarVariant:195182', 'OMIM:609825.0009', 'OMIM:603212.0001', 'OMIM:613815.0015', 'OMIM:601656.0004', 'OMIM:603711.0003', 'OMIM:151750.0002', 'OMIM:600185.0020', 'OMIM:603395.0002', 'OMIM:601756.0010', 'OMIM:602574.0010', 'OMIM:611549.0007', 'OMIM:300841.0152', 'OMIM:600112.0008', 'OMIM:613577.0016', 'OMIM:112262.0009', 'OMIM:609332.0013', 'OMIM:607306.0014', 'OMIM:603741.0013', 'OMIM:251170.0013', 'dbSNP:rs10521792', 'OMIM:606941.0004', 'OMIM:607690.0007', 'OMIM:600470.0003', 'OMIM:607522.0007', 'OMIM:600163.0048', 'OMIM:300746.0058', 'OMIM:612898.0002', 'OMIM:608536.0001', 'OMIM:300298.0003', 'OMIM:602572.0003', 'OMIM:601248.0005', 'OMIM:612724.0002', 'OMIM:191043.0004', 'OMIM:615847.0001', 'OMIM:301300.0014', 'OMIM:300841.0101', 'OMIM:604395.0005', 'OMIM:614982.0010', 'OMIM:312173.0004', 'OMIM:612801.0004', 'OMIM:139130.0004', 'OMIM:136352.0016', 'OMIM:164820.0001', 'OMIM:612990.0004', 'OMIM:607365.0007', 'OMIM:602397.0013', 'OMIM:611290.0004', 'OMIM:614787.0009', 'OMIM:601688.0006', 'OMIM:602421.0054', 'OMIM:609826.0010', 'OMIM:138040.0007', 'OMIM:185880.0002', 'ClinVarVariant:835405', 'OMIM:600031.0003', 'ClinVarVariant:237650', 'OMIM:614584.0001', 'OMIM:615047.0003', 'OMIM:607251.0001', 'OMIM:607434.0004', 'OMIM:301300.0017', 'OMIM:125670.0008', 'OMIM:603504.0006', 'OMIM:613621.0006', 'OMIM:300072.0004', 'OMIM:605956.0004', 'OMIM:614998.0008', 'OMIM:600856.0005', 'OMIM:606224.0003', 'OMIM:148067.0012', 'OMIM:157140.0011', 'OMIM:604310.0001', 'OMIM:602743.0009', 'OMIM:603196.0006', 'OMIM:604125.0001', 'OMIM:191092.0005', 'OMIM:309060.0010', 'dbSNP:rs890622', 'OMIM:607809.0011', 'OMIM:516006.0006', 'OMIM:604237.0004', 'OMIM:605452.0015', 'OMIM:612222.0001', 'OMIM:606596.0018', 'OMIM:616458.0003', 'OMIM:190230.0007', 'ClinVarVariant:242396', 'OMIM:604490.0011', 'OMIM:608515.0009', 'OMIM:605194.0004', 'OMIM:619109.0006', 'ClinVarVariant:427587', 'OMIM:608508.0012', 'OMIM:607145.0002', 'dbSNP:rs10510382', 'OMIM:615403.0004', 'OMIM:300644.0062', 'OMIM:608862.0003', 'OMIM:604061.0002', 'dbSNP:rs12666349', 'OMIM:614505.0003', 'OMIM:603060.0002', 'OMIM:176640.0018', 'dbSNP:rs146421862', 'OMIM:107400.0025', 'OMIM:613847.0004', 'dbSNP:rs2166775', 'OMIM:600725.0004', 'OMIM:600576.0016', 'OMIM:609648.0005', 'OMIM:185605.0003', 'OMIM:300747.0003', 'OMIM:189907.0011', 'OMIM:608671.0003', 'OMIM:516001.0003', 'OMIM:180901.0041', 'OMIM:150292.0008', 'OMIM:608109.0001', 'OMIM:605802.0003', 'OMIM:603123.0005', 'OMIM:613425.0002', 'OMIM:186740.0001', 'OMIM:613468.0005', 'OMIM:600724.0002', 'OMIM:603539.0006', 'OMIM:516050.0004', 'OMIM:141850.0001', 'OMIM:313700.0056', 'OMIM:191342.0004', 'OMIM:141900.0015', 'OMIM:604619.0010', 'OMIM:606439.0008', 'OMIM:613109.0003', 'OMIM:123841.0002', 'dbSNP:rs17211649', 'OMIM:610552.0005', 'OMIM:300384.0002', 'OMIM:148040.0014', 'OMIM:300137.0007', 'OMIM:601247.0001', 'OMIM:300644.0005', 'OMIM:600728.0006', 'OMIM:613236.0002', 'OMIM:606726.0003', 'OMIM:131243.0003', 'OMIM:600480.0001', 'OMIM:600522.0004', 'OMIM:182860.0016', 'OMIM:603234.0020', 'OMIM:191044.0004', 'OMIM:148066.0018', 'OMIM:160794.0007', 'OMIM:609300.0001', 'OMIM:300292.0007', 'ClinVarVariant:831316', 'OMIM:611672.0008', 'OMIM:150340.0003', 'OMIM:604115.0001', 'OMIM:600140.0011', 'OMIM:608732.0003', 'OMIM:605706.0007', 'OMIM:602235.0003', 'OMIM:105590.0004', 'OMIM:603409.0005', 'OMIM:603959.0011', 'OMIM:606584.0004', 'OMIM:611731.0005', 'OMIM:602049.0003', 'OMIM:142000.0030', 'OMIM:608248.0001', 'ClinVarVariant:28188', 'OMIM:138252.0006', 'OMIM:602870.0001', 'OMIM:171834.0007', 'OMIM:604500.0001', 'OMIM:608965.0003', 'OMIM:613160.0036', 'OMIM:176267.0001', 'OMIM:300377.0079', 'ClinVarVariant:22278', 'OMIM:606463.0041', 'ClinVarVariant:14340', 'OMIM:600799.0003', 'OMIM:615408.0002', 'OMIM:600713.0003', 'OMIM:608107.0004', 'OMIM:615496.0001', 'OMIM:603780.0014', 'OMIM:147670.0036', 'OMIM:604264.0001', 'OMIM:300808.0004', 'OMIM:614620.0001', 'ClinVarVariant:619827', 'OMIM:601313.0002', 'OMIM:600824.0002', 'OMIM:607939.0016', 'OMIM:609690.0008', 'OMIM:300746.0061', 'OMIM:606822.0009', 'OMIM:607123.0008', 'OMIM:611966.0003', 'OMIM:300658.0004', 'OMIM:604237.0006', 'OMIM:605597.0018', 'OMIM:610844.0002', 'OMIM:300401.0013', 'OMIM:610339.0004', 'OMIM:182870.0004', 'OMIM:120140.0039', 'OMIM:164950.0009', 'OMIM:173490.0011', 'OMIM:614958.0004', 'OMIM:607159.0003', 'OMIM:604450.0001', 'OMIM:121011.0025', 'OMIM:107680.0025', 'OMIM:600150.0004', 'OMIM:313700.0049', 'OMIM:238331.0010', 'OMIM:611140.0002', 'OMIM:610436.0003', 'OMIM:120180.0018', 'OMIM:614647.0002', 'ClinVarVariant:38488', 'OMIM:605956.0008', 'ClinVarVariant:76327', 'OMIM:601622.0005', 'OMIM:300248.0032', 'OMIM:600514.0003', 'OMIM:605202.0007', 'OMIM:601309.0016', 'OMIM:602774.0005', 'OMIM:601769.0003', 'OMIM:108740.0010', 'OMIM:613815.0028', 'OMIM:614336.0002', 'OMIM:608944.0004', 'OMIM:611731.0057', 'OMIM:176980.0004', 'OMIM:609332.0015', 'OMIM:137190.0001', 'ClinVarVariant:555382', 'OMIM:608700.0005', 'OMIM:605427.0029', 'OMIM:182889.0001', 'OMIM:142220.0002', 'OMIM:602700.0011', 'OMIM:114182.0007', 'OMIM:600429.0002', 'OMIM:156570.0010', 'OMIM:605197.0002', 'OMIM:300951.0003', 'OMIM:177046.0004', 'ClinVarVariant:242580', 'OMIM:606463.0040', 'OMIM:613534.0006', 'OMIM:300697.0008', 'OMIM:610826.0005', 'OMIM:608300.0003', 'OMIM:610613.0007', 'OMIM:600946.0015', 'OMIM:607664.0002', 'OMIM:300776.0001', 'OMIM:607123.0006', 'OMIM:185470.0016', 'OMIM:182500.0001', 'OMIM:605522.0014', 'OMIM:608877.0005', 'OMIM:137295.0010', 'OMIM:300011.0001', 'OMIM:601019.0002', 'OMIM:104760.0015', 'OMIM:300231.0004', 'OMIM:164757.0009', 'OMIM:120436.0019', 'OMIM:606118.0005', 'OMIM:602049.0002', 'OMIM:176880.0004', 'OMIM:613349.0016', 'OMIM:157660.0003', 'OMIM:192240.0002', 'OMIM:604867.0001', 'OMIM:143450.0004', 'OMIM:103000.0007', 'OMIM:142250.0011', 'OMIM:179616.0008', 'OMIM:607237.0001', 'OMIM:604358.0006', 'OMIM:606953.0005', 'OMIM:612003.0003', 'ClinVarVariant:679694', 'OMIM:300170.0006', 'OMIM:516060.0003', 'OMIM:612025.0003', 'OMIM:603197.0004', 'OMIM:611055.0002', 'OMIM:607696.0004', 'OMIM:152424.0001', 'OMIM:136430.0003', 'OMIM:604927.0001', 'OMIM:300841.0026', 'OMIM:300839.0006', 'OMIM:613425.0003', 'OMIM:613160.0017', 'OMIM:300609.0004', 'OMIM:142955.0002', 'OMIM:602880.0005', 'OMIM:607397.0001', 'OMIM:172100.0006', 'OMIM:176876.0011', 'OMIM:607423.0009', 'OMIM:134790.0002', 'OMIM:612641.0003', 'OMIM:141900.0105', 'OMIM:606945.0066', 'OMIM:300414.0011', 'OMIM:604366.0001', 'OMIM:300502.0007', 'OMIM:605646.0004', 'ClinVarVariant:47698', 'OMIM:601620.0006', 'OMIM:606882.0022', 'OMIM:188540.0002', 'OMIM:607439.0010', 'OMIM:142955.0004', 'OMIM:612482.0001', 'OMIM:603390.0002', 'OMIM:612349.0028', 'OMIM:601728.0029', 'OMIM:603729.0007', 'OMIM:138160.0013', 'dbSNP:rs11639682', 'OMIM:167409.0001', 'OMIM:154545.0003', 'OMIM:148069.0010', 'OMIM:603424.0001', 'OMIM:601007.0002', 'OMIM:603647.0004', 'OMIM:300126.0014', 'OMIM:603593.0006', 'OMIM:141900.0465', 'OMIM:606800.0018', 'OMIM:605740.0005', 'OMIM:160740.0007', 'OMIM:610956.0012', 'OMIM:600024.0014', 'OMIM:150330.0033', 'OMIM:603799.0002', 'OMIM:251170.0016', 'OMIM:107470.0010', 'OMIM:601717.0003', 'OMIM:605084.0004', 'OMIM:123670.0001', 'OMIM:115441.0005', 'OMIM:100690.0010', 'OMIM:601147.0002', 'OMIM:590095.0006', 'OMIM:605706.0003', 'OMIM:600031.0001', 'OMIM:603023.0001', 'OMIM:172471.0004', 'OMIM:603673.0002', 'OMIM:601199.0029', 'OMIM:607008.0008', 'OMIM:606142.0004', 'OMIM:613931.0006', 'ClinVarVariant:237798', 'OMIM:602345.0001', 'OMIM:141900.0097', 'OMIM:600194.0006', 'OMIM:607199.0006', 'OMIM:300481.0022', 'OMIM:107300.0013', 'OMIM:603288.0002', 'OMIM:602821.0005', 'ClinVarVariant:436440', 'OMIM:615292.0002', 'OMIM:603704.0001', 'OMIM:606384.0003', 'OMIM:610456.0007', 'OMIM:134637.0021', 'OMIM:300307.0001', 'OMIM:141900.0163', 'OMIM:602421.0061', 'OMIM:612641.0007', 'OMIM:601545.0003', 'OMIM:103600.0041', 'OMIM:603741.0009', 'OMIM:608593.0005', 'OMIM:300095.0005', 'OMIM:605294.0009', 'OMIM:176260.0013', 'OMIM:601617.0005', 'OMIM:313650.0002', 'OMIM:600310.0014', 'OMIM:604834.0006', 'OMIM:601284.0010', 'OMIM:600577.0002', 'OMIM:192090.0011', 'OMIM:300798.0003', 'OMIM:607664.0005', 'OMIM:190182.0019', 'OMIM:164920.0018', 'OMIM:618073.0001', 'OMIM:613228.0004', 'dbSNP:rs1202199', 'OMIM:126065.0003', 'OMIM:300713.0003', 'OMIM:177046.0003', 'OMIM:614191.0012', 'ClinVarVariant:444184', 'OMIM:190020.0018', 'OMIM:612931.0002', 'OMIM:108740.0004', 'OMIM:612325.0001', 'OMIM:606879.0012', 'OMIM:137140.0005', 'OMIM:155760.0010', 'OMIM:300651.0003', 'OMIM:610657.0005', 'OMIM:607108.0009', 'OMIM:607574.0039', 'dbSNP:rs4326884', 'OMIM:605481.0004', 'OMIM:300777.0004', 'OMIM:165215.0003', 'OMIM:309850.0004', 'OMIM:607704.0002', 'OMIM:300451.0021', 'OMIM:182390.0002', 'OMIM:614159.0001', 'OMIM:600958.0004', 'OMIM:615956.0002', 'OMIM:600682.0007', 'OMIM:607059.0004', 'OMIM:606887.0006', 'OMIM:607955.0008', 'OMIM:610432.0002', 'OMIM:609661.0006', 'OMIM:163729.0002', 'OMIM:607009.0011', 'OMIM:600570.0007', 'dbSNP:rs4557585', 'dbSNP:rs148580205', 'OMIM:603084.0006', 'OMIM:605610.0002', 'OMIM:300037.0005', 'dbSNP:rs113677319', 'OMIM:141900.0183', 'OMIM:176640.0026', 'OMIM:300161.0001', 'dbSNP:rs958476', 'OMIM:601259.0002', 'OMIM:602166.0005', 'OMIM:613734.0001', 'OMIM:605557.0001', 'OMIM:603942.0001', 'OMIM:602821.0006', 'OMIM:114019.0001', 'OMIM:608441.0005', 'OMIM:162150.0002', 'OMIM:602150.0002', 'OMIM:603212.0002', 'OMIM:300841.0153', 'OMIM:606323.0001', 'OMIM:139313.0005', 'OMIM:606967.0019', 'OMIM:613741.0002', 'OMIM:154100.0003', 'OMIM:612792.0001', 'OMIM:609927.0001', 'OMIM:138253.0010', 'OMIM:190180.0008', 'OMIM:191350.0006', 'OMIM:601299.0002', 'OMIM:102600.0004', 'OMIM:610956.0003', 'OMIM:276903.0013', 'OMIM:613349.0005', 'OMIM:300377.0026', 'OMIM:614631.0005', 'OMIM:608873.0001', 'OMIM:617513.0001', 'OMIM:603564.0001', 'OMIM:176876.0034', 'dbSNP:rs3772255', 'OMIM:608512.0003', 'OMIM:300841.0261', 'OMIM:603197.0006', 'OMIM:120150.0038', 'OMIM:603883.0001', 'OMIM:601500.0005', 'OMIM:176830.0002', 'OMIM:605420.0005', 'ClinVarVariant:964572', 'OMIM:605239.0003', 'OMIM:300248.0014', 'OMIM:311770.0017', 'OMIM:608769.0001', 'OMIM:613521.0013', 'OMIM:603968.0004', 'OMIM:605124.0007', 'OMIM:164950.0006', 'OMIM:120150.0041', 'OMIM:609584.0005', 'OMIM:614041.0023', 'OMIM:108370.0004', 'OMIM:120130.0011', 'OMIM:611669.0003', 'OMIM:608005.0004', 'OMIM:603033.0006', 'OMIM:141900.0367', 'OMIM:602991.0005', 'OMIM:609798.0004', 'OMIM:606598.0007', 'OMIM:603331.0001', 'OMIM:600778.0001', 'OMIM:141900.0149', 'OMIM:131242.0007', 'OMIM:602427.0002', 'OMIM:600185.0012', 'OMIM:606352.0012', 'OMIM:609862.0009', 'OMIM:301300.0004', 'OMIM:609023.0001', 'ClinVarVariant:75266', 'OMIM:139320.0020', 'OMIM:609883.0010', 'OMIM:176930.0008', 'OMIM:182530.0005', 'OMIM:607878.0002', 'OMIM:607844.0003', 'OMIM:603234.0008', 'ClinVarVariant:242449', 'OMIM:600163.0046', 'OMIM:604103.0005', 'OMIM:613897.0002', 'OMIM:126455.0001', 'OMIM:603288.0006', 'OMIM:600236.0004', 'OMIM:603305.0002', 'OMIM:609708.0009', 'OMIM:601149.0005', 'OMIM:141900.0503', 'OMIM:308000.0045', 'ClinVarVariant:65678', 'OMIM:613666.0004', 'OMIM:603390.0001', 'OMIM:600354.0013', 'OMIM:607983.0003', 'OMIM:300550.0009', 'OMIM:605242.0012', 'OMIM:300248.0021', 'OMIM:113811.0004', 'OMIM:604125.0004', 'OMIM:102565.0004', 'OMIM:150310.0012', 'OMIM:156845.0002', 'OMIM:606681.0007', 'OMIM:608537.0030', 'OMIM:600326.0004', 'OMIM:134797.0059', 'OMIM:608630.0006', 'OMIM:604386.0001', 'dbSNP:rs2193596', 'OMIM:613363.0006', 'OMIM:604526.0001', 'OMIM:300841.0190', 'ClinVarVariant:543886', 'OMIM:603339.0001', 'OMIM:603780.0002', 'OMIM:300275.0007', 'OMIM:605725.0010', 'OMIM:606860.0011', 'OMIM:603824.0008', 'OMIM:607194.0003', 'OMIM:608680.0001', 'OMIM:180901.0010', 'OMIM:164780.0001', 'OMIM:142994.0004', 'OMIM:600799.0017', 'OMIM:607939.0014', 'OMIM:600570.0008', 'OMIM:613653.0005', 'OMIM:613413.0001', 'OMIM:305900.0036', 'OMIM:605290.0011', 'OMIM:609708.0024', 'OMIM:609019.0008', 'OMIM:601007.0005', 'OMIM:604267.0003', 'OMIM:609471.0006', 'OMIM:607198.0001', 'OMIM:600529.0003', 'OMIM:191311.0001', 'OMIM:611570.0005', 'OMIM:603191.0001', 'OMIM:604844.0002', 'OMIM:176801.0007', 'OMIM:606439.0001', 'OMIM:191010.0005', 'ClinVarVariant:26945', 'OMIM:602413.0003', 'OMIM:180901.0031', 'OMIM:300838.0003', 'OMIM:600761.0002', 'OMIM:607608.0007', 'OMIM:164760.0005', 'OMIM:604383.0001', 'OMIM:606201.0024', 'OMIM:164920.0006', 'OMIM:606045.0007', 'OMIM:182860.0020', 'OMIM:602700.0013', 'OMIM:609204.0001', 'OMIM:150330.0002', 'OMIM:600046.0005', 'OMIM:607340.0008', 'OMIM:600985.0002', 'OMIM:300841.0250', 'dbSNP:rs2011738', 'OMIM:300841.0135', 'OMIM:141900.0043', 'OMIM:612907.0008', 'OMIM:605802.0004', 'OMIM:300011.0008', 'OMIM:605018.0004', 'OMIM:609855.0005', 'OMIM:602090.0004', 'OMIM:611224.0004', 'OMIM:602452.0001', 'OMIM:609806.0033', 'OMIM:600570.0003', 'OMIM:134797.0052', 'OMIM:148760.0007', 'OMIM:607761.0001', 'OMIM:604581.0013', 'OMIM:300538.0001', 'OMIM:607585.0020', 'OMIM:600811.0003', 'OMIM:612792.0002', 'OMIM:603415.0001', 'OMIM:608451.0002', 'OMIM:180250.0003', 'OMIM:108370.0007', 'OMIM:605284.0002', 'OMIM:104311.0022', 'OMIM:603968.0002', 'OMIM:124015.0013', 'OMIM:176930.0003', 'OMIM:147796.0002', 'OMIM:138210.0004', 'OMIM:150100.0003', 'OMIM:613425.0005', 'OMIM:608271.0002', 'OMIM:603470.0012', 'OMIM:610355.0005', 'OMIM:187790.0001', 'OMIM:605799.0007', 'OMIM:615792.0004', 'OMIM:156225.0017', 'OMIM:605290.0010', 'dbSNP:rs72763380', 'OMIM:615276.0001', 'OMIM:602421.0095', 'OMIM:602568.0004', 'OMIM:614730.0003', 'OMIM:608830.0010', 'OMIM:305900.0050', 'OMIM:610285.0002', 'OMIM:309060.0002', 'OMIM:605363.0002', 'OMIM:608892.0001', 'OMIM:607620.0001', 'OMIM:608441.0003', 'OMIM:300746.0057', 'OMIM:605512.0007', 'OMIM:604384.0004', 'OMIM:120150.0013', 'OMIM:607840.0012', 'OMIM:605290.0023', 'OMIM:604346.0005', 'OMIM:141900.0113', 'OMIM:606229.0004', 'ClinVarVariant:982542', 'OMIM:604149.0011', 'OMIM:612048.0001', 'OMIM:300556.0006', 'OMIM:606885.0011', 'dbSNP:rs17635967', 'OMIM:191190.0003', 'OMIM:156225.0011', 'ClinVarVariant:18776', 'OMIM:143054.0005', 'OMIM:160760.0015', 'OMIM:605828.0001', 'ClinVarVariant:377376', 'OMIM:604127.0002', 'OMIM:603390.0003', 'OMIM:605516.0007', 'OMIM:300377.0078', 'OMIM:614901.0001', 'OMIM:300377.0001', 'OMIM:601327.0002', 'OMIM:180901.0014', 'OMIM:614848.0005', 'OMIM:190195.0011', 'dbSNP:rs7587205', 'OMIM:601094.0008', 'OMIM:610812.0003', 'OMIM:610936.0003', 'OMIM:608630.0004', 'OMIM:613555.0009', 'OMIM:606062.0005', 'OMIM:300383.0003', 'ClinVarVariant:264657', 'OMIM:603785.0003', 'OMIM:173335.0017', 'OMIM:177075.0005', 'OMIM:300265.0009', 'OMIM:300746.0056', 'OMIM:133171.0004', 'OMIM:611731.0016', 'OMIM:187270.0021', 'OMIM:605298.0001', 'OMIM:601728.0004', 'OMIM:602991.0003', 'OMIM:616105.0006', 'OMIM:300644.0060', 'dbSNP:rs887466', 'OMIM:276000.0009', 'OMIM:604581.0003', 'OMIM:300822.0005', 'OMIM:180660.0002', 'OMIM:141900.0399', 'dbSNP:rs10509373', 'OMIM:167416.0013', 'OMIM:138040.0003', 'OMIM:601199.0048', 'OMIM:134570.0014', 'OMIM:610683.0001', 'OMIM:614789.0001', 'OMIM:300644.0020', 'OMIM:612761.0001', 'OMIM:603005.0005', 'OMIM:125647.0012', 'OMIM:150330.0040', 'dbSNP:rs8124080', 'OMIM:607844.0001', 'OMIM:604349.0002', 'ClinVarVariant:242503', 'OMIM:300350.0004', 'OMIM:603868.0007', 'OMIM:135600.0001', 'OMIM:107450.0003', 'OMIM:613733.0009', 'OMIM:300841.0138', 'OMIM:615757.0002', 'OMIM:516020.0008', 'OMIM:142994.0006', 'OMIM:609831.0008', 'OMIM:606934.0001', 'OMIM:609912.0001', 'OMIM:600660.0003', 'OMIM:600958.0001', 'OMIM:152790.0013', 'OMIM:300945.0001', 'dbSNP:rs114389936', 'OMIM:615534.0001', 'OMIM:610355.0008', 'dbSNP:rs187857589', 'OMIM:601090.0005', 'OMIM:164920.0008', 'OMIM:611994.0002', 'OMIM:605924.0001', 'OMIM:607281.0001', 'OMIM:251170.0003', 'OMIM:614884.0001', 'OMIM:609507.0001', 'OMIM:170261.0002', 'OMIM:173470.0001', 'OMIM:612309.0014', 'OMIM:603400.0007', 'OMIM:613469.0002', 'OMIM:300307.0004', 'OMIM:600827.0011', 'OMIM:613931.0004', 'OMIM:617618.0005', 'OMIM:614150.0001', 'OMIM:125671.0007', 'OMIM:611888.0006', 'dbSNP:rs7834588', 'ClinVarVariant:477588', 'OMIM:608666.0004', 'OMIM:192150.0009', 'OMIM:173410.0001', 'OMIM:601199.0011', 'OMIM:610865.0005', 'OMIM:616101.0002', 'OMIM:607059.0011', 'OMIM:601424.0002', 'OMIM:602337.0015', 'OMIM:615101.0002', 'OMIM:300746.0035', 'OMIM:600509.0022', 'OMIM:180380.0024', 'OMIM:152445.0001', 'OMIM:607042.0005', 'OMIM:300202.0010', 'OMIM:606097.0011', 'OMIM:609139.0003', 'OMIM:107300.0029', 'OMIM:138249.0001', 'OMIM:161015.0002', 'OMIM:300017.0011', 'OMIM:610550.0009', 'OMIM:600415.0006', 'OMIM:102582.0002', 'OMIM:611507.0003', 'OMIM:300757.0002', 'OMIM:606873.0003', 'ClinVarVariant:267276', 'OMIM:613577.0015', 'OMIM:120090.0007', 'OMIM:300394.0005', 'OMIM:608151.0004', 'OMIM:600470.0004', 'OMIM:610991.0004', 'OMIM:608893.0007', 'OMIM:173490.0006', 'OMIM:614366.0006', 'OMIM:615549.0003', 'OMIM:608815.0001', 'OMIM:607904.0001', 'OMIM:300451.0004', 'OMIM:600521.0005', 'ClinVarVariant:242450', 'OMIM:142959.0005', 'OMIM:606370.0004', 'OMIM:164770.0002', 'OMIM:160760.0011', 'OMIM:150310.0011', 'OMIM:606869.0026', 'OMIM:605577.0001', 'OMIM:173515.0003', 'OMIM:300628.0012', 'OMIM:134820.0012', 'OMIM:607883.0002', 'OMIM:118423.0002', 'OMIM:141800.0004', 'OMIM:604569.0004', 'OMIM:617853.0001', 'OMIM:607343.0013', 'OMIM:176947.0002', 'OMIM:300841.0237', 'OMIM:516005.0007', 'OMIM:137960.0008', 'OMIM:300180.0004', 'OMIM:190315.0006', 'OMIM:176730.0010', 'OMIM:609701.0007', 'OMIM:605558.0001', 'OMIM:603873.0002', 'OMIM:605988.0010', 'OMIM:603868.0005', 'OMIM:300499.0004', 'OMIM:164160.0001', 'OMIM:300841.0178', 'OMIM:107300.0028', 'OMIM:142994.0002', 'OMIM:602700.0002', 'OMIM:605573.0007', 'OMIM:516040.0002', 'OMIM:602753.0002', 'OMIM:615049.0001', 'OMIM:606048.0002', 'OMIM:611492.0002', 'OMIM:159440.0024', 'OMIM:600227.0002', 'OMIM:602122.0002', 'OMIM:608132.0001', 'OMIM:176730.0003', 'OMIM:609607.0005', 'OMIM:611592.0001', 'OMIM:107300.0043', 'OMIM:142000.0026', 'OMIM:603967.0010', 'OMIM:614161.0004', 'OMIM:610931.0001', 'OMIM:602997.0006', 'OMIM:160760.0030', 'OMIM:138140.0004', 'ClinVarVariant:242439', 'OMIM:300202.0005', 'dbSNP:rs2227492', 'OMIM:608630.0008', 'OMIM:300451.0016', 'OMIM:176264.0003', 'dbSNP:rs66830472', 'OMIM:611654.0009', 'OMIM:600044.0003', 'OMIM:601802.0007', 'ClinVarVariant:101627', 'OMIM:516050.0007', 'OMIM:164920.0024', 'OMIM:607982.0005', 'OMIM:184745.0003', 'OMIM:172460.0008', 'OMIM:600825.0003', 'OMIM:159530.0010', 'OMIM:146760.0001', 'OMIM:612659.0003', 'OMIM:136352.0009', 'OMIM:608537.0035', 'OMIM:613165.0005', 'OMIM:602858.0005', 'OMIM:618694.0001', 'OMIM:601863.0002', 'OMIM:608501.0002', 'OMIM:609826.0004', 'OMIM:607440.0006', 'OMIM:103600.0039', 'OMIM:120320.0002', 'OMIM:608370.0001', 'OMIM:602365.0016', 'OMIM:605692.0001', 'OMIM:610804.0001', 'OMIM:125647.0013', 'dbSNP:rs16839962', 'OMIM:604613.0001', 'OMIM:610745.0008', 'dbSNP:rs182795071', 'OMIM:607838.0005', 'OMIM:120960.0003', 'OMIM:612080.0001', 'OMIM:616712.0001', 'OMIM:190040.0003', 'OMIM:607421.0002', 'OMIM:600555.0009', 'OMIM:603073.0006', 'OMIM:118504.0006', 'OMIM:300401.0006', 'OMIM:610355.0012', 'OMIM:606598.0003', 'OMIM:619192.0001', 'OMIM:180040.0004', 'dbSNP:rs6863418', 'OMIM:613924.0001', 'OMIM:600024.0007', 'OMIM:134797.0010', 'OMIM:601530.0003', 'OMIM:609884.0005', 'OMIM:604473.0001', 'OMIM:613160.0018', 'OMIM:608862.0004', 'OMIM:603191.0002', 'OMIM:171834.0014', 'OMIM:138491.0007', 'OMIM:300203.0014', 'OMIM:611623.0001', 'OMIM:608400.0002', 'OMIM:614423.0004', 'OMIM:138140.0009', 'OMIM:147265.0012', 'OMIM:600374.0003', 'OMIM:601105.0002', 'OMIM:602743.0008', 'OMIM:604210.0007', 'OMIM:609787.0005', 'OMIM:611146.0003', 'OMIM:617558.0002', 'OMIM:604507.0006', 'OMIM:608537.0019', 'OMIM:607440.0005', 'OMIM:607528.0001', 'OMIM:601873.0003', 'OMIM:141900.0150', 'OMIM:603297.0005', 'OMIM:114208.0006', 'OMIM:590010.0003', 'OMIM:601309.0015', 'OMIM:300169.0009', 'OMIM:126391.0001', 'ClinVarVariant:172388', 'OMIM:605086.0006', 'OMIM:146920.0007', 'OMIM:141850.0003', 'OMIM:604566.0003', 'OMIM:138720.0001', 'OMIM:300415.0009', 'OMIM:142989.0018', 'OMIM:605219.0001', 'OMIM:607111.0001', 'OMIM:610746.0002', 'OMIM:602091.0010', 'OMIM:607900.0004', 'OMIM:608283.0005', 'OMIM:180380.0037', 'OMIM:603506.0030', 'OMIM:608151.0009', 'OMIM:611062.0006', 'OMIM:601485.0002', 'OMIM:186790.0001', 'OMIM:607511.0004', 'OMIM:610876.0007', 'OMIM:120270.0001', 'OMIM:155760.0006', 'OMIM:300798.0004', 'OMIM:615291.0003', 'OMIM:606830.0008', 'OMIM:136537.0001', 'OMIM:602700.0012', 'OMIM:613872.0013', 'OMIM:607186.0010', 'OMIM:300203.0004', 'OMIM:609701.0001', 'OMIM:606570.0001', 'OMIM:191050.0003', 'OMIM:600568.0001', 'OMIM:603415.0019', 'OMIM:600194.0008', 'OMIM:141900.0156', 'OMIM:600536.0003', 'OMIM:602859.0002', 'OMIM:614427.0001', 'OMIM:606247.0001', 'OMIM:615944.0002', 'OMIM:602192.0006', 'OMIM:605489.0006', 'OMIM:617036.0001', 'OMIM:159555.0004', 'OMIM:602544.0006', 'OMIM:607542.0032', 'OMIM:603254.0005', 'OMIM:609802.0002', 'OMIM:161561.0003', 'OMIM:601011.0021', 'OMIM:608132.0003', 'OMIM:607056.0004', 'OMIM:608296.0002', 'OMIM:606439.0003', 'OMIM:607380.0005', 'OMIM:276903.0004', 'OMIM:601309.0012', 'OMIM:604672.0001', 'OMIM:136350.0022', 'OMIM:300485.0008', 'OMIM:610745.0010', 'OMIM:600702.0012', 'OMIM:141900.0063', 'OMIM:185470.0010', 'OMIM:608303.0006', 'OMIM:603959.0001', 'OMIM:142000.0013', 'OMIM:300451.0009', 'OMIM:610330.0002', 'OMIM:601486.0001', 'OMIM:603372.0029', 'OMIM:142992.0002', 'OMIM:148066.0010', 'OMIM:604365.0006', 'OMIM:603470.0013', 'OMIM:604965.0003', 'OMIM:602730.0001', 'OMIM:605014.0001', 'OMIM:600514.0001', 'OMIM:601601.0001', 'OMIM:605525.0001', 'OMIM:613878.0021', 'OMIM:590105.0003', 'OMIM:133520.0006', 'OMIM:604223.0001', 'ClinVarVariant:637585', 'dbSNP:rs7648951', 'OMIM:300039.0002', 'OMIM:300382.0024', 'OMIM:612256.0002', 'ClinVarVariant:242494', 'ClinVarVariant:242579', 'OMIM:601771.0011', 'OMIM:176300.0047', 'OMIM:602242.0002', 'OMIM:605427.0001', 'OMIM:601143.0007', 'OMIM:614515.0001', 'OMIM:605078.0011', 'OMIM:611051.0001', 'OMIM:147571.0003', 'OMIM:617558.0012', 'OMIM:607357.0003', 'OMIM:300032.0023', 'OMIM:604404.0001', 'OMIM:121011.0041', 'OMIM:608181.0002', 'OMIM:191163.0003', 'OMIM:613878.0006', 'OMIM:609855.0003', 'OMIM:300490.0004', 'OMIM:607206.0003', 'OMIM:600150.0009', 'OMIM:609301.0003', 'OMIM:609584.0004', 'OMIM:134660.0002', 'OMIM:300414.0007', 'OMIM:611341.0004', 'dbSNP:rs7924176', 'OMIM:104614.0003', 'OMIM:614041.0018', 'OMIM:604210.0013', 'dbSNP:rs360071', 'OMIM:109690.0004', 'OMIM:601728.0014', 'OMIM:141900.0425', 'OMIM:147460.0001', 'OMIM:601097.0022', 'OMIM:611888.0002', 'OMIM:604685.0003', 'OMIM:164761.0034', 'OMIM:606830.0004', 'OMIM:608833.0018', 'OMIM:300377.0050', 'OMIM:604613.0003', 'OMIM:301770.0003', 'OMIM:300579.0002', 'OMIM:604194.0004', 'OMIM:142000.0044', 'OMIM:613004.0003', 'OMIM:602421.0114', 'OMIM:602023.0005', 'OMIM:601145.0005', 'OMIM:602296.0001', 'OMIM:300401.0023', 'OMIM:173410.0003', 'ClinVarVariant:19327', 'OMIM:609023.0003', 'OMIM:611888.0007', 'OMIM:613858.0007', 'OMIM:604633.0005', 'OMIM:147183.0001', 'OMIM:610956.0005', 'dbSNP:rs3778401', 'OMIM:607462.0005', 'OMIM:601949.0002', 'OMIM:604714.0001', 'OMIM:610745.0002', 'OMIM:147450.0029', 'OMIM:603856.0004', 'dbSNP:rs12742393', 'OMIM:603273.0022', 'dbSNP:rs258671', 'OMIM:605706.0006', 'OMIM:608111.0004', 'OMIM:613524.0007', 'OMIM:604933.0005', 'ClinVarVariant:28949', 'OMIM:605100.0002', 'OMIM:604242.0002', 'OMIM:138491.0010', 'OMIM:602119.0009', 'OMIM:300457.0001', 'OMIM:176801.0005', 'OMIM:605646.0011', 'OMIM:601199.0001', 'OMIM:615316.0012', 'OMIM:607206.0007', 'OMIM:601592.0010', 'OMIM:238331.0012', 'OMIM:609791.0002', 'OMIM:107300.0011', 'OMIM:610005.0001', 'OMIM:600160.0008', 'OMIM:602635.0017', 'OMIM:611432.0002', 'OMIM:605290.0009', 'OMIM:601421.0001', 'OMIM:605380.0001', 'OMIM:603506.0023', 'OMIM:609118.0007', 'OMIM:605497.0006', 'OMIM:606201.0010', 'OMIM:133430.0002', 'OMIM:615340.0001', 'OMIM:164761.0043', 'OMIM:602091.0004', 'OMIM:607556.0006', 'OMIM:606419.0002', 'OMIM:141800.0180', 'OMIM:136132.0007', 'OMIM:603197.0003', 'OMIM:608072.0007', 'OMIM:602421.0041', 'OMIM:147650.0002', 'OMIM:138491.0011', 'OMIM:607664.0004', 'OMIM:600294.0004', 'OMIM:605522.0003', 'ClinVarVariant:446869', 'OMIM:607939.0008', 'OMIM:607608.0015', 'OMIM:607574.0002', 'OMIM:602136.0007', 'OMIM:179605.0022', 'OMIM:607036.0003', 'OMIM:602744.0005', 'OMIM:602840.0003', 'dbSNP:rs11766298', 'OMIM:100730.0009', 'OMIM:601500.0002', 'OMIM:606919.0001', 'OMIM:300746.0079', 'OMIM:604296.0003', 'OMIM:610194.0001', 'OMIM:608546.0001', 'OMIM:120110.0011', 'OMIM:605573.0009', 'OMIM:600937.0010', 'OMIM:601143.0002', 'OMIM:609798.0003', 'OMIM:136440.0002', 'OMIM:606938.0010', 'OMIM:614982.0001', 'OMIM:159440.0023', 'OMIM:102573.0009', 'OMIM:605993.0003', 'OMIM:614041.0009', 'OMIM:142250.0028', 'OMIM:606938.0017', 'OMIM:600584.0010', 'OMIM:609520.0005', 'OMIM:603277.0001', 'ClinVarVariant:36326', 'OMIM:608480.0003', 'OMIM:300502.0017', 'ClinVarVariant:468703', 'OMIM:300841.0181', 'OMIM:606463.0036', 'OMIM:605597.0013', 'OMIM:125647.0005', 'dbSNP:rs4942242', 'OMIM:609948.0005', 'OMIM:608614.0005', 'OMIM:608047.0004', 'OMIM:314375.0004', 'OMIM:191043.0005', 'ClinVarVariant:554532', 'ClinVarVariant:242433', 'OMIM:611925.0001', 'ClinVarVariant:581956', 'ClinVarVariant:477481', 'OMIM:137290.0007', 'ClinVarVariant:29990', 'OMIM:604759.0002', 'ClinVarVariant:217306', 'OMIM:120240.0008', 'ClinVarVariant:237481', 'OMIM:609276.0002', 'OMIM:607380.0001', 'OMIM:146690.0005', 'OMIM:607617.0006', 'OMIM:605145.0002', 'ClinVarVariant:237640', 'OMIM:611220.0004', 'OMIM:120160.0046', 'OMIM:604712.0014', 'OMIM:180069.0011', 'OMIM:606980.0001', 'OMIM:612360.0001', 'OMIM:603208.0002', 'OMIM:603709.0001', 'OMIM:613602.0004', 'OMIM:604368.0002', 'OMIM:604588.0001', 'OMIM:601428.0004', 'OMIM:611990.0001', 'ClinVarVariant:583703', 'OMIM:176895.0001', 'OMIM:612802.0009', 'OMIM:600650.0005', 'OMIM:602207.0002', 'OMIM:612418.0004', 'OMIM:604212.0002', 'OMIM:300485.0001', 'OMIM:141800.0051', 'OMIM:607306.0005', 'OMIM:601687.0008', 'OMIM:607860.0005', 'OMIM:602177.0002', 'OMIM:605353.0002', 'OMIM:133171.0002', 'OMIM:603716.0005', 'OMIM:114021.0002', 'OMIM:616062.0001', 'OMIM:612870.0001', 'OMIM:120160.0032', 'OMIM:613635.0001', 'OMIM:179615.0002', 'OMIM:608465.0003', 'OMIM:602195.0006', 'OMIM:601439.0009', 'OMIM:590095.0002', 'OMIM:600855.0002', 'OMIM:300377.0053', 'OMIM:600310.0018', 'ClinVarVariant:242526', 'OMIM:600935.0002', 'OMIM:608625.0001', 'OMIM:606382.0002', 'OMIM:607008.0010', 'OMIM:602432.0002', 'OMIM:613190.0005', 'OMIM:102582.0010', 'OMIM:191010.0007', 'OMIM:130500.0003', 'OMIM:606897.0005', 'OMIM:602858.0018', 'OMIM:611577.0005', 'OMIM:142461.0003', 'OMIM:601248.0004', 'OMIM:606622.0007', 'OMIM:605100.0005', 'dbSNP:rs6842071', 'OMIM:600681.0007', 'OMIM:142200.0009', 'OMIM:604863.0002', 'OMIM:103600.0057', 'OMIM:612309.0004', 'OMIM:601309.0003', 'OMIM:609239.0005', 'OMIM:600179.0012', 'OMIM:125671.0008', 'OMIM:605427.0030', 'OMIM:137295.0003', 'OMIM:607697.0005', 'OMIM:610275.0003', 'OMIM:612003.0005', 'OMIM:611731.0015', 'OMIM:613111.0006', 'OMIM:608537.0020', 'OMIM:612482.0002', 'OMIM:601769.0014', 'OMIM:608845.0004', 'OMIM:300392.0014', 'OMIM:613872.0010', 'OMIM:615038.0003', 'OMIM:152790.0005', 'OMIM:603470.0018', 'OMIM:102620.0006', 'OMIM:601440.0007', 'OMIM:607574.0030', 'OMIM:615320.0008', 'OMIM:611052.0002', 'OMIM:171833.0013', 'OMIM:180297.0011', 'OMIM:611177.0001', 'OMIM:192150.0004', 'OMIM:172400.0007', 'OMIM:601691.0018', 'ClinVarVariant:19260', 'OMIM:606496.0001', 'OMIM:600660.0002', 'OMIM:612773.0001', 'OMIM:607904.0007', 'dbSNP:rs313437482', 'OMIM:103020.0001', 'OMIM:150000.0001', 'OMIM:617371.0004', 'OMIM:160760.0025', 'OMIM:601181.0002', 'OMIM:118190.0002', 'OMIM:189907.0002', 'OMIM:608532.0002', 'OMIM:616213.0006', 'dbSNP:rs78018149', 'OMIM:602365.0011', 'OMIM:300160.0002', 'OMIM:606530.0007', 'OMIM:603576.0007', 'OMIM:603335.0002', 'OMIM:613420.0007', 'OMIM:600163.0024', 'OMIM:602365.0002', 'OMIM:106410.0004', 'OMIM:607066.0004', 'OMIM:606999.0012', 'OMIM:602480.0003', 'OMIM:300552.0002', 'OMIM:604507.0002', 'OMIM:605511.0007', 'OMIM:600923.0011', 'dbSNP:rs1726672', 'OMIM:139350.0007', 'OMIM:141850.0058', 'OMIM:602851.0008', 'OMIM:176610.0003', 'OMIM:134797.0054', 'OMIM:134850.0011', 'OMIM:611492.0003', 'OMIM:609471.0001', 'OMIM:603273.0015', 'OMIM:602552.0002', 'OMIM:600958.0023', 'OMIM:120140.0034', 'OMIM:190198.0006', 'OMIM:305900.0003', 'OMIM:616261.0003', 'OMIM:605705.0005', 'OMIM:615831.0001', 'OMIM:602091.0007', 'OMIM:120130.0008', 'OMIM:607393.0010', 'OMIM:614068.0002', 'OMIM:608400.0007', 'dbSNP:rs13335336', 'OMIM:140100.0003', 'OMIM:613534.0005', 'OMIM:603183.0002', 'OMIM:603294.0007', 'OMIM:164950.0001', 'OMIM:603384.0003', 'OMIM:120250.0006', 'OMIM:142810.0003', 'OMIM:300427.0002', 'OMIM:188250.0007', 'ClinVarVariant:29574', 'OMIM:605178.0001', 'OMIM:612944.0003', 'OMIM:606463.0005', 'OMIM:610970.0001', 'OMIM:159440.0032', 'OMIM:607800.0010', 'OMIM:300841.0170', 'OMIM:603590.0008', 'OMIM:600129.0002', 'OMIM:165240.0013', 'OMIM:603026.0001', 'OMIM:603297.0002', 'OMIM:251170.0008', 'OMIM:605646.0008', 'OMIM:605732.0001', 'OMIM:142600.0007', 'OMIM:180468.0002', 'OMIM:617840.0004', 'OMIM:125485.0008', 'OMIM:133550.0003', 'OMIM:604766.0005', 'OMIM:601623.0009', 'OMIM:603796.0003', 'ClinVarVariant:38460', 'OMIM:604223.0006', 'OMIM:602397.0009', 'OMIM:614144.0005', 'OMIM:603714.0002', 'OMIM:603741.0007', 'OMIM:602121.0005', 'OMIM:605896.0007', 'OMIM:608603.0002', 'OMIM:610355.0013', 'OMIM:123740.0002', 'OMIM:142461.0007', 'OMIM:172490.0005', 'OMIM:134797.0007', 'OMIM:300746.0030', 'OMIM:148040.0013', 'OMIM:615620.0003', 'OMIM:600725.0001', 'OMIM:604297.0005', 'OMIM:603859.0007', 'OMIM:608603.0004', 'ClinVarVariant:189486', 'OMIM:609506.0008', 'OMIM:610876.0003', 'OMIM:134370.0019', 'OMIM:603780.0010', 'OMIM:165240.0021', 'OMIM:148760.0008', 'dbSNP:rs1291861', 'OMIM:607788.0004', 'OMIM:610436.0001', 'OMIM:300180.0008', 'OMIM:180901.0025', 'OMIM:603693.0005', 'OMIM:300075.0006', 'OMIM:606075.0001', 'OMIM:601199.0021', 'OMIM:607608.0006', 'OMIM:300490.0011', 'OMIM:516020.0007', 'OMIM:164005.0006', 'OMIM:600529.0007', 'OMIM:610224.0002', 'OMIM:191740.0009', 'ClinVarVariant:242491', 'OMIM:608921.0001', 'OMIM:605514.0008', 'OMIM:601653.0001', 'OMIM:300371.0024', 'OMIM:609826.0007', 'OMIM:615423.0002', 'OMIM:179820.0001', 'OMIM:607207.0015', 'OMIM:125647.0018', 'OMIM:606652.0003', 'OMIM:141800.0001', 'OMIM:176640.0022', 'OMIM:300776.0003', 'OMIM:608256.0001', 'OMIM:179616.0003', 'OMIM:120160.0037', 'OMIM:611082.0001', 'OMIM:611695.0001', 'dbSNP:rs7720298', 'OMIM:603850.0003', 'OMIM:605204.0007', 'OMIM:606761.0005', 'OMIM:300300.0040', 'OMIM:606847.0009', 'OMIM:305900.0044', 'OMIM:603636.0001', 'OMIM:606939.0001', 'OMIM:611332.0001', 'OMIM:141850.0068', 'OMIM:300535.0008', 'OMIM:603850.0002', 'OMIM:611124.0007', 'OMIM:614610.0002', 'OMIM:603824.0006', 'OMIM:300278.0003', 'OMIM:613138.0003', 'OMIM:137160.0008', 'ClinVarVariant:3163', 'OMIM:602519.0001', 'OMIM:605353.0004', 'OMIM:610194.0005', 'OMIM:607690.0001', 'OMIM:606397.0010', 'OMIM:300304.0001', 'OMIM:607556.0004', 'OMIM:605452.0009', 'OMIM:600011.0004', 'OMIM:610087.0002', 'OMIM:141800.0060', 'OMIM:604110.0004', 'OMIM:309060.0005', 'OMIM:612036.0004', 'OMIM:604175.0004', 'ClinVarVariant:59458', 'OMIM:115441.0001', 'OMIM:150292.0004', 'OMIM:604083.0002', 'OMIM:300300.0002', 'OMIM:614998.0001', 'OMIM:608528.0002', 'OMIM:607478.0001', 'OMIM:604843.0003', 'OMIM:602568.0006', 'OMIM:134350.0001', 'OMIM:172400.0008', 'OMIM:610844.0009', 'OMIM:162643.0002', 'OMIM:607159.0004', 'OMIM:606976.0005', 'OMIM:141900.0485', 'OMIM:120120.0029', 'OMIM:176876.0035', 'OMIM:300202.0003', 'OMIM:600993.0007', 'OMIM:612025.0004', 'OMIM:182860.0005', 'ClinVarVariant:970500', 'OMIM:613715.0005', 'OMIM:605204.0002', 'OMIM:610573.0003', 'OMIM:613363.0001', 'OMIM:176801.0003', 'OMIM:108370.0001', 'ClinVarVariant:423112', 'OMIM:606883.0008', 'OMIM:123829.0001', 'OMIM:613283.0001', 'OMIM:171834.0009', 'OMIM:300005.0026', 'OMIM:607108.0013', 'OMIM:605507.0006', 'OMIM:152200.0006', 'OMIM:610826.0009', 'OMIM:614631.0002', 'OMIM:601015.0003', 'OMIM:100710.0001', 'OMIM:610274.0001', 'OMIM:615843.0003', 'OMIM:602858.0015', 'dbSNP:rs7009759', 'OMIM:180220.0001', 'OMIM:607929.0002', 'OMIM:607585.0025', 'OMIM:610285.0007', 'OMIM:600799.0020', 'OMIM:610568.0002', 'OMIM:103850.0002', 'OMIM:602202.0001', 'OMIM:600900.0003', 'OMIM:141800.0070', 'OMIM:120120.0037', 'OMIM:600946.0016', 'OMIM:608581.0005', 'OMIM:608307.0011', 'OMIM:601646.0003', 'OMIM:162230.0001', 'OMIM:162280.0011', 'OMIM:600993.0010', 'OMIM:603309.0001', 'OMIM:601898.0003', 'OMIM:607292.0001', 'OMIM:614283.0001', 'OMIM:610881.0004', 'OMIM:606272.0013', 'OMIM:617853.0002', 'OMIM:613420.0005', 'OMIM:604653.0002', 'ClinVarVariant:28948', 'OMIM:602780.0013', 'OMIM:107400.0023', 'OMIM:615004.0001', 'OMIM:102610.0003', 'OMIM:136352.0010', 'OMIM:120140.0022', 'OMIM:609118.0002', 'OMIM:608830.0012', 'OMIM:610876.0008', 'OMIM:603718.0001', 'OMIM:608539.0001', 'OMIM:601408.0006', 'OMIM:604095.0005', 'OMIM:607306.0009', 'OMIM:152427.0022', 'OMIM:151385.0004', 'OMIM:148080.0014', 'OMIM:608226.0002', 'OMIM:603234.0026', 'OMIM:164940.0002', 'OMIM:165640.0004', 'OMIM:601902.0006', 'OMIM:603273.0018', 'OMIM:613283.0004', 'OMIM:603294.0005', 'OMIM:603634.0008', 'OMIM:120290.0002', 'OMIM:605102.0001', 'OMIM:606860.0002', 'OMIM:606201.0015', 'OMIM:160740.0004', 'OMIM:300040.0003', 'OMIM:147020.0003', 'OMIM:603734.0001', 'OMIM:615288.0002', 'OMIM:153390.0001', 'OMIM:102540.0004', 'OMIM:606180.0001', 'OMIM:300836.0007', 'OMIM:610949.0001', 'OMIM:252800.0003', 'OMIM:164874.0002', 'OMIM:176300.0028', 'OMIM:300231.0005', 'OMIM:607620.0002', 'OMIM:607805.0005', 'OMIM:612424.0004', 'OMIM:313700.0010', 'OMIM:608896.0006', 'OMIM:311850.0017', 'OMIM:123805.0002', 'OMIM:602170.0006', 'OMIM:147557.0014', 'OMIM:613715.0003', 'OMIM:136350.0001', 'OMIM:601652.0001', 'OMIM:613742.0012', 'OMIM:611496.0003', 'OMIM:608968.0009', 'ClinVarVariant:849878', 'OMIM:611295.0001', 'dbSNP:rs11506039', 'OMIM:607585.0032', 'OMIM:610060.0007', 'OMIM:602662.0002', 'OMIM:164040.0001', 'OMIM:612186.0003', 'ClinVarVariant:14040', 'OMIM:608005.0003', 'OMIM:600576.0008', 'OMIM:141900.0083', 'OMIM:160780.0001', 'OMIM:603756.0002', 'OMIM:606350.0007', 'OMIM:182380.0003', 'OMIM:171640.0004', 'OMIM:190160.0030', 'OMIM:613529.0007', 'OMIM:603372.0004', 'OMIM:604834.0008', 'OMIM:138292.0004', 'OMIM:600728.0007', 'OMIM:137960.0002', 'OMIM:251170.0015', 'ClinVarVariant:973308', 'OMIM:114182.0006', 'OMIM:608083.0012', 'OMIM:606694.0001', 'OMIM:605270.0008', 'OMIM:610865.0007', 'OMIM:605947.0004', 'OMIM:602614.0004', 'OMIM:600856.0003', 'OMIM:611577.0001', 'OMIM:606272.0014', 'OMIM:609937.0003', 'OMIM:147450.0007', 'ClinVarVariant:181521', 'OMIM:601542.0005', 'dbSNP:rs2074409', 'OMIM:606622.0003', 'OMIM:148080.0020', 'OMIM:610274.0005', 'OMIM:600509.0026', 'OMIM:179820.0007', 'OMIM:601487.0007', 'OMIM:611720.0002', 'OMIM:300198.0001', 'OMIM:139312.0003', 'OMIM:146691.0001', 'OMIM:141800.0083', 'OMIM:600970.0001', 'OMIM:615847.0005', 'OMIM:606822.0017', 'OMIM:611801.0003', 'OMIM:615262.0001', 'OMIM:609367.0003', 'OMIM:116897.0001', 'OMIM:311850.0008', 'OMIM:607009.0010', 'OMIM:600838.0001', 'ClinVarVariant:680081', 'OMIM:608092.0001', 'OMIM:609720.0007', 'OMIM:603248.0005', 'OMIM:100720.0007', 'OMIM:142858.0001', 'OMIM:600013.0002', 'OMIM:187270.0016', 'OMIM:611458.0020', 'OMIM:600194.0005', 'OMIM:607776.0001', 'OMIM:613741.0001', 'OMIM:610826.0006', 'OMIM:191170.0033', 'OMIM:607542.0006', 'OMIM:601280.0004', 'OMIM:600617.0003', 'OMIM:600761.0008', 'OMIM:300356.0009', 'OMIM:125647.0002', 'OMIM:602272.0002', 'OMIM:602679.0003', 'OMIM:300688.0001', 'OMIM:615403.0001', 'OMIM:603111.0001', 'OMIM:120180.0023', 'OMIM:602859.0012', 'OMIM:617618.0002', 'ClinVarVariant:545020', 'OMIM:606833.0002', 'OMIM:604194.0005', 'OMIM:107450.0002', 'dbSNP:rs181361216', 'dbSNP:rs78795763', 'OMIM:148040.0007', 'OMIM:107265.0001', 'OMIM:602869.0002', 'OMIM:300248.0012', 'OMIM:192340.0016', 'dbSNP:rs157089', 'OMIM:602322.0009', 'OMIM:609577.0002', 'ClinVarVariant:135653', 'OMIM:600584.0009', 'OMIM:160720.0002', 'OMIM:606725.0002', 'OMIM:613381.0005', 'ClinVarVariant:404140', 'dbSNP:rs923175', 'OMIM:600814.0003', 'OMIM:607571.0001', 'OMIM:608803.0002', 'OMIM:604270.0001', 'OMIM:607606.0002', 'dbSNP:rs12767583', 'OMIM:603294.0003', 'OMIM:609708.0029', 'OMIM:137164.0003', 'OMIM:612349.0012', 'OMIM:300377.0055', 'OMIM:312610.0006', 'OMIM:601881.0001', 'OMIM:606127.0003', 'OMIM:605383.0003', 'OMIM:138250.0003', 'OMIM:126340.0012', 'OMIM:617387.0001', 'OMIM:160775.0011', 'OMIM:613218.0003', 'ClinVarVariant:477437', 'OMIM:606471.0001', 'OMIM:602575.0004', 'OMIM:187270.0015', 'OMIM:300808.0007', 'OMIM:141850.0034', 'ClinVarVariant:827815', 'OMIM:612386.0007', 'OMIM:614232.0007', 'OMIM:605906.0008', 'OMIM:184757.0015', 'OMIM:157140.0004', 'OMIM:312610.0016', 'OMIM:606989.0009', 'OMIM:607892.0005', 'OMIM:605557.0002', 'OMIM:602421.0111', 'OMIM:311800.0014', 'OMIM:300746.0073', 'OMIM:604373.0007', 'OMIM:157655.0008', 'OMIM:613733.0013', 'OMIM:601205.0002', 'OMIM:608222.0006', 'OMIM:614139.0002', 'OMIM:601011.0006', 'OMIM:107930.0002', 'OMIM:608537.0013', 'dbSNP:rs1799922', 'OMIM:142250.0051', 'OMIM:603967.0021', 'dbSNP:rs285406', 'OMIM:612167.0001', 'OMIM:108410.0005', 'OMIM:614901.0003', 'OMIM:120090.0006', 'OMIM:601373.0007', 'ClinVarVariant:427596', 'OMIM:107400.0034', 'OMIM:608786.0008', 'OMIM:613469.0007', 'OMIM:187270.0002', 'OMIM:603843.0001', 'OMIM:600310.0019', 'OMIM:600576.0007', 'OMIM:609427.0004', 'OMIM:103020.0013', 'OMIM:138140.0018', 'OMIM:617619.0009', 'OMIM:160710.0006', 'OMIM:174761.0004', 'OMIM:156560.0003', 'OMIM:300724.0001', 'OMIM:128260.0001', 'OMIM:300746.0052', 'OMIM:138040.0015', 'OMIM:602954.0005', 'OMIM:300841.0220', 'OMIM:152790.0008', 'OMIM:602322.0008', 'OMIM:148040.0010', 'OMIM:102750.0004', 'ClinVarVariant:242509', 'OMIM:606979.0003', 'OMIM:602219.0001', 'OMIM:600799.0011', 'ClinVarVariant:431496', 'OMIM:480000.0023', 'OMIM:312610.0005', 'OMIM:600838.0005', 'OMIM:608444.0006', 'OMIM:300390.0003', 'OMIM:301300.0006', 'OMIM:605206.0010', 'OMIM:606871.0004', 'OMIM:608272.0013', 'OMIM:157129.0002', 'OMIM:141900.0383', 'OMIM:601488.0005', 'OMIM:602125.0006', 'OMIM:171760.0004', 'dbSNP:rs10113810', 'OMIM:120210.0003', 'OMIM:606062.0007', 'OMIM:604088.0001', 'OMIM:104311.0019', 'OMIM:601691.0031', 'OMIM:613036.0004', 'dbSNP:rs3822735', 'OMIM:602109.0004', 'OMIM:618661.0001', 'OMIM:613160.0022', 'OMIM:600725.0015', 'OMIM:121014.0019', 'OMIM:615115.0001', 'OMIM:612920.0002', 'OMIM:180380.0038', 'OMIM:611687.0003', 'OMIM:613113.0019', 'OMIM:120215.0007', 'OMIM:611888.0008', 'OMIM:606157.0013', 'OMIM:605998.0007', 'OMIM:107300.0020', 'OMIM:300841.0223', 'OMIM:142000.0029', 'OMIM:609186.0003', 'OMIM:609457.0001', 'OMIM:300382.0012', 'OMIM:191190.0010', 'OMIM:191130.0002', 'OMIM:611458.0021', 'OMIM:312865.0014', 'OMIM:109270.0009', 'OMIM:612121.0006', 'OMIM:602136.0005', 'OMIM:610916.0004', 'OMIM:609669.0003', 'OMIM:159530.0002', 'OMIM:601215.0002', 'OMIM:308840.0014', 'ClinVarVariant:975901', 'OMIM:610206.0004', 'OMIM:180472.0001', 'OMIM:616768.0006', 'OMIM:605881.0003', 'OMIM:603198.0004', 'OMIM:608439.0002', 'OMIM:191170.0014', 'OMIM:616146.0001', 'OMIM:602575.0014', 'OMIM:182125.0006', 'OMIM:617559.0003', 'OMIM:610523.0003', 'OMIM:614591.0002', 'OMIM:590080.0004', 'OMIM:600584.0021', 'OMIM:613583.0009', 'OMIM:600899.0002', 'OMIM:602716.0009', 'dbSNP:rs3862662', 'OMIM:232000.0003', 'OMIM:615495.0003', 'OMIM:601314.0007', 'OMIM:109690.0001', 'OMIM:611501.0003', 'OMIM:613349.0035', 'OMIM:300461.0024', 'OMIM:605411.0003', 'OMIM:141800.0068', 'OMIM:610457.0005', 'dbSNP:rs2479768', 'OMIM:608968.0002', 'OMIM:609058.0007', 'OMIM:130160.0008', 'dbSNP:rs9332539', 'OMIM:612277.0002', 'OMIM:300841.0267', 'OMIM:300460.0001', 'dbSNP:rs10708222', 'OMIM:191045.0003', 'dbSNP:rs9604529', 'OMIM:190160.0003', 'OMIM:604011.0001', 'OMIM:616655.0001', 'OMIM:604570.0002', 'OMIM:609799.0001', 'OMIM:607803.0004', 'OMIM:300169.0003', 'OMIM:141800.0163', 'ClinVarVariant:558600', 'OMIM:106165.0005', 'ClinVarVariant:209087', 'OMIM:601265.0002', 'ClinVarVariant:262764', 'OMIM:138160.0012', 'OMIM:605512.0002', 'OMIM:607901.0007', 'OMIM:137290.0003', 'OMIM:141800.0019', 'OMIM:610222.0001', 'OMIM:607439.0008', 'OMIM:171760.0001', 'OMIM:609806.0024', 'OMIM:146661.0005', 'OMIM:141900.0240', 'OMIM:609653.0003', 'OMIM:610823.0001', 'OMIM:604061.0001', 'OMIM:603729.0002', 'OMIM:134797.0062', 'ClinVarVariant:613413', 'OMIM:610595.0003', 'OMIM:608183.0006', 'OMIM:600276.0006', 'OMIM:613409.0003', 'OMIM:614064.0002', 'OMIM:160760.0029', 'OMIM:614571.0004', 'OMIM:605712.0004', 'OMIM:611731.0032', 'OMIM:107280.0004', 'OMIM:191110.0003', 'dbSNP:rs7928794', 'OMIM:607568.0009', 'OMIM:141900.0058', 'OMIM:611642.0002', 'OMIM:155541.0017', 'OMIM:600799.0025', 'OMIM:300202.0007', 'OMIM:150330.0009', 'OMIM:607343.0012', 'OMIM:604197.0003', 'OMIM:141900.0325', 'OMIM:108410.0003', 'OMIM:161015.0004', 'OMIM:605573.0003', 'OMIM:612424.0006', 'OMIM:121011.0009', 'OMIM:606201.0006', 'OMIM:600548.0005', 'OMIM:141900.0160', 'ClinVarVariant:477458', 'OMIM:141900.0329', 'OMIM:612647.0002', 'OMIM:174763.0005', 'OMIM:610362.0002', 'OMIM:607585.0018', 'OMIM:168820.0002', 'OMIM:176892.0004', 'OMIM:609806.0010', 'OMIM:602991.0012', 'OMIM:613228.0010', 'dbSNP:rs10089111', 'OMIM:611642.0008', 'OMIM:141800.0059', 'OMIM:610552.0008', 'OMIM:610206.0017', 'OMIM:611060.0010', 'OMIM:602635.0013', 'OMIM:150330.0016', 'OMIM:142250.0048', 'OMIM:606765.0007', 'OMIM:601397.0001', 'OMIM:604159.0006', 'OMIM:610113.0005', 'OMIM:605270.0013', 'OMIM:610045.0003', 'OMIM:602955.0002', 'OMIM:607839.0016', 'OMIM:605206.0002', 'OMIM:616842.0005', 'OMIM:606687.0003', 'OMIM:611026.0005', 'OMIM:608378.0002', 'OMIM:300037.0009', 'OMIM:160760.0028', 'OMIM:608183.0005', 'OMIM:185880.0005', 'OMIM:300798.0015', 'OMIM:313700.0059', 'OMIM:300798.0009', 'OMIM:604270.0002', 'OMIM:602774.0001', 'OMIM:603805.0006', 'OMIM:603333.0001', 'OMIM:602480.0004', 'OMIM:601282.0005', 'dbSNP:rs7572081', 'OMIM:173370.0001', 'OMIM:613605.0001', 'OMIM:613084.0002', 'OMIM:606584.0006', 'OMIM:617170.0003', 'OMIM:600157.0004', 'OMIM:137295.0002', 'OMIM:103270.0004', 'OMIM:613733.0006', 'OMIM:600682.0009', 'OMIM:611224.0003', 'OMIM:603693.0007', 'OMIM:176980.0006', 'OMIM:614145.0001', 'OMIM:137295.0009', 'OMIM:118425.0016', 'OMIM:603959.0013', 'OMIM:607632.0007', 'OMIM:600799.0013', 'dbSNP:rs4911405', 'OMIM:300980.0001', 'OMIM:602402.0002', 'OMIM:610924.0002', 'OMIM:600065.0002', 'OMIM:606967.0005', 'OMIM:138470.0006', 'OMIM:300839.0001', 'OMIM:607542.0036', 'ClinVarVariant:225231', 'OMIM:603714.0004', 'OMIM:603131.0005', 'OMIM:606869.0009', 'OMIM:153450.0004', 'OMIM:611893.0001', 'OMIM:604322.0005', 'OMIM:118444.0001', 'OMIM:602643.0007', 'OMIM:611632.0003', 'OMIM:603287.0006', 'OMIM:616918.0001', 'OMIM:139320.0034', 'OMIM:606999.0013', 'OMIM:600635.0004', 'OMIM:300461.0006', 'OMIM:131222.0001', 'OMIM:600286.0001', 'OMIM:609300.0021', 'OMIM:147450.0004', 'OMIM:601930.0001', 'ClinVarVariant:13736', 'OMIM:600576.0015', 'ClinVarVariant:430873', 'OMIM:612907.0001', 'OMIM:613815.0025', 'OMIM:614585.0001', 'OMIM:130130.0008', 'OMIM:604577.0003', 'OMIM:603716.0006', 'OMIM:602291.0002', 'OMIM:300642.0001', 'OMIM:611524.0001', 'OMIM:608329.0004', 'OMIM:159530.0011', 'OMIM:604909.0001', 'OMIM:605379.0003', 'OMIM:608830.0003', 'OMIM:602054.0004', 'OMIM:600853.0003', 'OMIM:300126.0009', 'OMIM:602983.0002', 'OMIM:607352.0004', 'OMIM:120140.0017', 'ClinVarVariant:653090', 'OMIM:100725.0018', 'OMIM:162030.0001', 'OMIM:607292.0003', 'OMIM:123580.0005', 'OMIM:137167.0009', 'OMIM:138945.0011', 'OMIM:103600.0045', 'OMIM:605367.0004', 'OMIM:134797.0033', 'OMIM:601728.0001', 'OMIM:611184.0007', 'OMIM:192020.0001', 'dbSNP:rs13188817', 'OMIM:174763.0007', 'OMIM:610619.0002', 'OMIM:604933.0001', 'OMIM:610859.0008', 'OMIM:616174.0003', 'OMIM:300079.0002', 'dbSNP:rs1967256', 'OMIM:104620.0004', 'OMIM:612991.0001', 'OMIM:148069.0013', 'OMIM:603178.0003', 'OMIM:180090.0005', 'OMIM:607542.0033', 'OMIM:156100.0007', 'OMIM:616815.0003', 'OMIM:100850.0004', 'OMIM:613109.0002', 'dbSNP:rs10949483', 'OMIM:109270.0033', 'OMIM:601728.0021', 'OMIM:606441.0005', 'OMIM:604961.0001', 'OMIM:602690.0029', 'OMIM:600749.0001', 'OMIM:603873.0004', 'OMIM:612666.0004', 'OMIM:602421.0102', 'OMIM:610683.0004', 'OMIM:125647.0019', 'OMIM:141900.0146', 'OMIM:606151.0003', 'OMIM:604910.0004', 'OMIM:609868.0002', 'OMIM:157660.0022', 'dbSNP:rs1438949', 'OMIM:300037.0002', 'OMIM:190160.0041', 'OMIM:600571.0007', 'OMIM:604505.0002', 'OMIM:138571.0004', 'OMIM:300841.0211', 'OMIM:131242.0008', 'OMIM:603372.0003', 'OMIM:605956.0011', 'OMIM:300195.0001', 'OMIM:606983.0001', 'OMIM:601498.0009', 'OMIM:607574.0011', 'OMIM:305900.0028', 'OMIM:608177.0003', 'OMIM:190450.0001', 'OMIM:607439.0009', 'OMIM:611062.0003', 'OMIM:601769.0011', 'OMIM:605747.0005', 'OMIM:602421.0073', 'OMIM:600075.0001', 'OMIM:612688.0001', 'OMIM:300473.0022', 'OMIM:606765.0015', 'OMIM:600923.0008', 'OMIM:300377.0037', 'OMIM:613469.0006', 'OMIM:148080.0008', 'OMIM:152790.0025', 'OMIM:602997.0008', 'OMIM:613814.0005', 'OMIM:608465.0002', 'OMIM:605084.0001', 'OMIM:609708.0025', 'OMIM:613349.0004', 'dbSNP:rs1808124', 'OMIM:608420.0001', 'OMIM:600259.0001', 'ClinVarVariant:477599', 'OMIM:616186.0002', 'OMIM:609059.0010', 'OMIM:606207.0002', 'OMIM:155540.0002', 'OMIM:609291.0002', 'OMIM:139320.0003', 'OMIM:141800.0213', 'OMIM:176843.0002', 'OMIM:602421.0047', 'OMIM:605452.0011', 'OMIM:606706.0002', 'OMIM:314690.0001', 'OMIM:605290.0020', 'OMIM:142989.0010', 'OMIM:590095.0005', 'OMIM:300013.0005', 'OMIM:606419.0001', 'OMIM:138850.0006', 'OMIM:601012.0005', 'OMIM:613113.0034', 'OMIM:182125.0001', 'OMIM:600013.0004', 'OMIM:606326.0003', 'OMIM:147470.0008', 'OMIM:600235.0009', 'OMIM:605113.0002', 'OMIM:613381.0016', 'OMIM:182389.0003', 'OMIM:601336.0003', 'OMIM:173335.0021', 'OMIM:300172.0003', 'OMIM:164920.0005', 'OMIM:601500.0009', 'OMIM:176258.0001', 'OMIM:609806.0002', 'OMIM:607139.0015', 'OMIM:300697.0005', 'OMIM:615247.0004', 'OMIM:613441.0001', 'OMIM:300391.0006', 'OMIM:600160.0007', 'OMIM:613815.0002', 'OMIM:601421.0005', 'OMIM:171640.0007', 'OMIM:600185.0006', 'OMIM:610860.0008', 'OMIM:615247.0003', 'OMIM:609209.0003', 'OMIM:614888.0004', 'OMIM:608786.0004', 'OMIM:120940.0006', 'dbSNP:rs4401379', 'OMIM:606323.0004', 'OMIM:134637.0016', 'OMIM:300377.0039', 'OMIM:605367.0008', 'OMIM:601488.0003', 'OMIM:608166.0002', 'OMIM:609346.0004', 'OMIM:600528.0010', 'OMIM:141800.0079', 'OMIM:602023.0010', 'OMIM:602667.0006', 'OMIM:603197.0017', 'OMIM:603183.0004', 'OMIM:613497.0003', 'OMIM:141900.0430', 'OMIM:604312.0001', 'OMIM:164010.0002', 'OMIM:607522.0010', 'OMIM:176930.0012', 'OMIM:603234.0002', 'OMIM:114760.0001', 'OMIM:143054.0006', 'OMIM:606742.0002', 'OMIM:608465.0011', 'OMIM:616112.0001', 'OMIM:300011.0003', 'OMIM:231675.0003', 'OMIM:603650.0003', 'OMIM:606062.0008', 'OMIM:608163.0002', 'OMIM:600271.0001', 'OMIM:607642.0002', 'OMIM:602666.0003', 'OMIM:238300.0009', 'OMIM:165240.0002', 'OMIM:172471.0006', 'OMIM:121011.0014', 'OMIM:606478.0009', 'OMIM:602576.0001', 'OMIM:607102.0007', 'OMIM:109270.0003', 'OMIM:300841.0005', 'OMIM:160760.0045', 'OMIM:120140.0020', 'OMIM:603714.0001', 'OMIM:616830.0003', 'OMIM:133520.0004', 'OMIM:125660.0021', 'OMIM:606759.0004', 'OMIM:612222.0013', 'OMIM:600157.0003', 'OMIM:300546.0011', 'OMIM:138160.0008', 'OMIM:601411.0007', 'OMIM:600185.0001', 'OMIM:191130.0003', 'OMIM:607704.0001', 'OMIM:604619.0001', 'OMIM:605646.0010', 'OMIM:590095.0001', 'OMIM:610827.0002', 'OMIM:137030.0001', 'OMIM:176941.0006', 'OMIM:606027.0001', 'OMIM:148041.0009', 'OMIM:601860.0008', 'OMIM:604210.0006', 'OMIM:141900.0029', 'OMIM:103320.0001', 'OMIM:602743.0011', 'OMIM:138249.0008', 'OMIM:611104.0005', 'OMIM:608000.0006', 'OMIM:608894.0010', 'OMIM:616254.0007', 'OMIM:605080.0002', 'OMIM:604546.0006', 'OMIM:173410.0002', 'OMIM:601769.0008', 'OMIM:618424.0004', 'OMIM:604610.0003', 'OMIM:142989.0005', 'dbSNP:rs77034926', 'OMIM:180901.0022', 'OMIM:300969.0001', 'OMIM:613521.0012', 'OMIM:608771.0009', 'OMIM:600073.0004', 'OMIM:613583.0001', 'OMIM:607830.0007', 'OMIM:614506.0004', 'OMIM:614647.0005', 'ClinVarVariant:477503', 'OMIM:607623.0023', 'OMIM:609520.0008', 'ClinVarVariant:36293', 'OMIM:615748.0001', 'OMIM:609239.0006', 'OMIM:600555.0014', 'OMIM:615495.0004', 'OMIM:615408.0004', 'ClinVarVariant:227508', 'dbSNP:rs7715172', 'OMIM:131222.0012', 'OMIM:600725.0003', 'OMIM:162640.0001', 'OMIM:180069.0001', 'OMIM:114761.0001', 'OMIM:301300.0011', 'OMIM:609831.0003', 'dbSNP:rs1714746', 'OMIM:608879.0001', 'OMIM:602690.0014', 'dbSNP:rs8041675', 'OMIM:617531.0003', 'OMIM:185620.0005', 'OMIM:139350.0011', 'OMIM:606081.0002', 'OMIM:612778.0003', 'OMIM:264900.0016', 'OMIM:600702.0013', 'OMIM:155541.0022', 'OMIM:138491.0009', 'OMIM:607617.0004', 'OMIM:311800.0001', 'ClinVarVariant:242420', 'OMIM:176610.0001', 'OMIM:141800.0162', 'OMIM:616404.0001', 'OMIM:601903.0001', 'dbSNP:rs76244256', 'OMIM:605378.0004', 'OMIM:301300.0003', 'OMIM:608102.0003', 'dbSNP:rs2842169', 'OMIM:141800.0218', 'OMIM:609648.0006', 'OMIM:609413.0012', 'OMIM:134830.0009', 'OMIM:601530.0008', 'OMIM:604526.0003', 'OMIM:182381.0002', 'OMIM:613111.0013', 'OMIM:608381.0001', 'OMIM:600185.0023', 'OMIM:605862.0005', 'OMIM:300715.0007', 'OMIM:165240.0017', 'OMIM:142200.0028', 'OMIM:608677.0002', 'OMIM:188540.0004', 'OMIM:152790.0020', 'OMIM:602026.0007', 'OMIM:618051.0001', 'dbSNP:rs115427296', 'OMIM:180902.0009', 'OMIM:179616.0002', 'OMIM:600275.0008', 'OMIM:600722.0004', 'OMIM:611720.0003', 'OMIM:311800.0015', 'OMIM:609332.0009', 'OMIM:188540.0005', 'OMIM:176260.0003', 'OMIM:300298.0001', 'OMIM:161650.0005', 'OMIM:142959.0007', 'OMIM:607093.0005', 'OMIM:607204.0003', 'OMIM:609018.0001', 'OMIM:609413.0013', 'OMIM:612298.0001', 'OMIM:604896.0008', 'OMIM:614506.0007', 'OMIM:600221.0001', 'ClinVarVariant:646152', 'OMIM:610142.0007', 'OMIM:608283.0001', 'dbSNP:rs6999859', 'OMIM:610937.0001', 'OMIM:600963.0002', 'OMIM:276903.0010', 'OMIM:118470.0001', 'OMIM:602146.0005', 'OMIM:300708.0001', 'OMIM:609862.0003', 'OMIM:600956.0001', 'OMIM:609300.0003', 'OMIM:126340.0009', 'OMIM:600937.0024', 'OMIM:590030.0002', 'OMIM:609797.0004', 'OMIM:603372.0007', 'OMIM:156845.0011', 'OMIM:602744.0008', 'OMIM:613160.0037', 'OMIM:603805.0003', 'ClinVarVariant:188928', 'OMIM:607867.0003', 'OMIM:164012.0002', 'OMIM:189907.0014', 'OMIM:606245.0005', 'OMIM:606702.0004', 'OMIM:180297.0007', 'OMIM:136435.0003', 'OMIM:168470.0001', 'OMIM:607273.0007', 'OMIM:606158.0009', 'OMIM:238310.0002', 'OMIM:300644.0059', 'OMIM:607574.0028', 'OMIM:612458.0002', 'OMIM:103600.0006', 'OMIM:601011.0030', 'OMIM:606596.0004', 'OMIM:139191.0006', 'OMIM:600576.0002', 'OMIM:308840.0015', 'OMIM:604139.0001', 'OMIM:131222.0011', 'OMIM:137140.0001', 'ClinVarVariant:544690', 'OMIM:142250.0007', 'OMIM:616244.0001', 'OMIM:106165.0003', 'OMIM:308380.0004', 'OMIM:608537.0002', 'OMIM:300502.0006', 'OMIM:603604.0016', 'OMIM:176260.0005', 'OMIM:605748.0001', 'OMIM:606945.0032', 'OMIM:608132.0006', 'OMIM:616768.0004', 'OMIM:139330.0004', 'OMIM:608755.0003', 'OMIM:300644.0058', 'OMIM:164761.0037', 'OMIM:606933.0034', 'OMIM:606142.0012', 'ClinVarVariant:962125', 'OMIM:603868.0009', 'OMIM:614785.0001', 'OMIM:602119.0005', 'OMIM:604487.0003', 'OMIM:607800.0009', 'OMIM:516006.0007', 'OMIM:164870.0005', 'OMIM:610512.0007', 'OMIM:600970.0004', 'OMIM:314850.0007', 'OMIM:603892.0001', 'OMIM:609806.0032', 'OMIM:610355.0010', 'OMIM:191170.0040', 'OMIM:600662.0001', 'OMIM:612799.0003', 'OMIM:608270.0002', 'OMIM:138253.0011', 'OMIM:300384.0003', 'OMIM:601620.0001', 'OMIM:605437.0001', 'OMIM:610924.0006', 'dbSNP:rs190545385', 'OMIM:114240.0008', 'OMIM:120436.0022', 'OMIM:300644.0036', 'OMIM:138090.0006', 'OMIM:146710.0004', 'OMIM:192090.0015', 'OMIM:604834.0004', 'OMIM:602421.0116', 'OMIM:141900.0479', 'OMIM:601863.0001', 'OMIM:608303.0001', 'OMIM:607340.0004', 'OMIM:614908.0001', 'OMIM:165640.0001', 'ClinVarVariant:468724', 'OMIM:613577.0011', 'ClinVarVariant:381586', 'OMIM:147450.0036', 'OMIM:607575.0001', 'OMIM:604630.0001', 'OMIM:162150.0001', 'OMIM:148067.0003', 'OMIM:606540.0001', 'OMIM:601439.0010', 'OMIM:613583.0005', 'OMIM:612277.0006', 'OMIM:176943.0012', 'OMIM:614589.0007', 'OMIM:600897.0002', 'OMIM:602486.0001', 'OMIM:113705.0023', 'OMIM:134830.0015', 'OMIM:606860.0008', 'OMIM:133170.0002', 'OMIM:602360.0008', 'OMIM:615564.0001', 'OMIM:189980.0006', 'OMIM:601090.0009', 'dbSNP:rs77254624', 'OMIM:613213.0013', 'OMIM:614982.0005', 'OMIM:300841.0118', 'OMIM:607063.0007', 'OMIM:300121.0013', 'OMIM:605648.0001', 'OMIM:146920.0001', 'OMIM:180250.0001', 'OMIM:606463.0021', 'OMIM:609523.0008', 'OMIM:300841.0245', 'OMIM:600342.0002', 'OMIM:608893.0004', 'OMIM:608877.0007', 'OMIM:603372.0021', 'ClinVarVariant:477440', 'OMIM:610564.0002', 'OMIM:300841.0080', 'OMIM:148043.0002', 'OMIM:601893.0011', 'OMIM:300008.0013', 'OMIM:111680.0002', 'OMIM:607179.0002', 'OMIM:601691.0006', 'OMIM:617048.0001', 'OMIM:188830.0018', 'OMIM:178630.0001', 'ClinVarVariant:14323', 'OMIM:616254.0008', 'OMIM:141900.0132', 'OMIM:160770.0001', 'OMIM:603273.0002', 'OMIM:138945.0007', 'OMIM:147380.0001', 'OMIM:120110.0013', 'OMIM:601653.0004', 'OMIM:605195.0003', 'OMIM:192340.0009', 'OMIM:610774.0003', 'OMIM:606945.0061', 'OMIM:141800.0206', 'OMIM:603317.0002', 'dbSNP:rs312863855', 'OMIM:614574.0007', 'OMIM:190990.0008', 'OMIM:252800.0010', 'OMIM:301770.0002', 'OMIM:616615.0002', 'OMIM:276000.0007', 'OMIM:603727.0004', 'OMIM:607186.0001', 'OMIM:600617.0008', 'OMIM:605035.0001', 'OMIM:103950.0002', 'OMIM:134640.0001', 'OMIM:612349.0029', 'OMIM:610819.0001', 'OMIM:605651.0001', 'OMIM:601975.0001', 'OMIM:312040.0003', 'OMIM:602194.0011', 'OMIM:604875.0003', 'OMIM:610463.0001', 'OMIM:136530.0003', 'OMIM:600983.0015', 'OMIM:614918.0002', 'OMIM:300319.0001', 'OMIM:612176.0001', 'OMIM:177060.0005', 'OMIM:601893.0005', 'OMIM:300231.0002', 'OMIM:606419.0006', 'OMIM:600993.0005', 'OMIM:611654.0003', 'OMIM:600108.0004', 'OMIM:607640.0001', 'OMIM:609862.0010', 'OMIM:602000.0001', 'OMIM:608581.0007', 'OMIM:602593.0001', 'OMIM:300170.0002', 'OMIM:611632.0002', 'OMIM:100850.0007', 'OMIM:604934.0002', 'OMIM:190195.0023', 'OMIM:300060.0002', 'OMIM:300017.0036', 'OMIM:608786.0007', 'OMIM:121011.0015', 'OMIM:601785.0014', 'OMIM:606530.0003', 'OMIM:611421.0002', 'ClinVarVariant:44524', 'OMIM:601047.0002', 'OMIM:606425.0001', 'OMIM:606731.0002', 'OMIM:603136.0006', 'OMIM:300307.0007', 'OMIM:614789.0002', 'OMIM:171050.0002', 'OMIM:604385.0001', 'OMIM:605420.0014', 'OMIM:157140.0015', 'OMIM:607043.0002', 'OMIM:116806.0012', 'OMIM:613727.0002', 'OMIM:124015.0014', 'OMIM:606953.0007', 'OMIM:186830.0001', 'OMIM:134934.0016', 'OMIM:616215.0001', 'OMIM:142000.0012', 'OMIM:141900.0265', 'OMIM:188250.0002', 'OMIM:613283.0003', 'OMIM:608375.0004', 'OMIM:608508.0008', 'OMIM:161015.0005', 'OMIM:600923.0001', 'OMIM:600492.0001', 'OMIM:184757.0003', 'dbSNP:rs5741804', 'OMIM:171900.0008', 'OMIM:300391.0013', 'OMIM:601424.0001', 'OMIM:190120.0005', 'OMIM:300300.0022', 'OMIM:300168.0004', 'OMIM:610540.0001', 'OMIM:141900.0123', 'ClinVarVariant:38498', 'OMIM:607093.0007', 'OMIM:300841.0120', 'OMIM:613228.0005', 'OMIM:606873.0006', 'OMIM:114025.0002', 'OMIM:606596.0016', 'OMIM:120120.0004', 'OMIM:604319.0001', 'OMIM:604593.0002', 'OMIM:107741.0028', 'OMIM:611061.0003', 'OMIM:152790.0024', 'OMIM:164757.0013', 'dbSNP:rs963731', 'OMIM:604386.0005', 'OMIM:120160.0039', 'OMIM:601468.0001', 'OMIM:614603.0004', 'OMIM:606518.0001', 'OMIM:180435.0002', 'OMIM:179060.0008', 'OMIM:160760.0047', 'OMIM:601646.0004', 'OMIM:600185.0030', 'OMIM:605955.0001', 'OMIM:608830.0013', 'OMIM:165230.0007', 'OMIM:607606.0007', 'OMIM:604096.0006', 'OMIM:608429.0009', 'OMIM:615291.0004', 'OMIM:176300.0015', 'OMIM:106165.0006', 'OMIM:617618.0006', 'OMIM:300168.0003', 'OMIM:161650.0006', 'OMIM:616495.0001', 'OMIM:120270.0004', 'ClinVarVariant:92986', 'OMIM:300841.0163', 'OMIM:611731.0021', 'OMIM:171640.0005', 'OMIM:606419.0007', 'OMIM:613577.0003', 'OMIM:602208.0008', 'OMIM:600111.0001', 'OMIM:601156.0002', 'OMIM:120436.0029', 'OMIM:606494.0004', 'OMIM:300746.0023', 'OMIM:611177.0004', 'OMIM:600713.0002', 'OMIM:600478.0002', 'OMIM:607542.0024', 'OMIM:612349.0004', 'OMIM:614661.0006', 'OMIM:590035.0001', 'OMIM:603400.0002', 'ClinVarVariant:242568', 'OMIM:612411.0008', 'OMIM:601408.0002', 'OMIM:611715.0003', 'OMIM:606882.0005', 'OMIM:606938.0016', 'OMIM:606272.0002', 'OMIM:126065.0007', 'OMIM:120150.0035', 'OMIM:613283.0002', 'ClinVarVariant:13684', 'ClinVarVariant:46848', 'OMIM:602568.0007', 'OMIM:612048.0003', 'OMIM:606897.0008', 'OMIM:107300.0004', 'OMIM:601991.0005', 'OMIM:600232.0002', 'OMIM:600946.0026', 'OMIM:614232.0004', 'OMIM:603360.0002', 'ClinVarVariant:1271', 'OMIM:173470.0002', 'OMIM:300017.0022', 'OMIM:608124.0012', 'dbSNP:rs79073424', 'OMIM:107400.0026', 'OMIM:176267.0002', 'dbSNP:rs167132', 'OMIM:120070.0003', 'OMIM:184430.0002', 'OMIM:601607.0010', 'dbSNP:rs17676256', 'OMIM:606097.0001', 'OMIM:605925.0001', 'OMIM:608893.0006', 'OMIM:600599.0001', 'OMIM:616215.0002', 'OMIM:607817.0016', 'OMIM:611720.0006', 'OMIM:610036.0001', 'OMIM:604780.0003', 'OMIM:606725.0004', 'OMIM:606075.0005', 'OMIM:162332.0001', 'OMIM:610513.0007', 'OMIM:123980.0002', 'OMIM:612757.0004', 'dbSNP:rs7772131', 'OMIM:300757.0007', 'OMIM:605712.0003', 'OMIM:180040.0003', 'OMIM:606936.0004', 'OMIM:610166.0001', 'OMIM:607199.0019', 'OMIM:612458.0010', 'OMIM:602138.0003', 'ClinVarVariant:12696', 'OMIM:602606.0001', 'OMIM:602195.0007', 'OMIM:605925.0004', 'OMIM:606568.0003', 'OMIM:147110.0001', 'ClinVarVariant:943901', 'OMIM:602421.0113', 'OMIM:613230.0003', 'OMIM:612799.0004', 'OMIM:609539.0005', 'OMIM:615796.0004', 'dbSNP:rs9332146', 'OMIM:605557.0005', 'OMIM:120120.0003', 'OMIM:604844.0005', 'OMIM:602956.0001', 'OMIM:600958.0007', 'OMIM:114183.0003', 'OMIM:617782.0001', 'OMIM:217030.0003', 'ClinVarVariant:18398', 'OMIM:607139.0013', 'OMIM:141900.0184', 'OMIM:606945.0041', 'OMIM:609751.0003', 'OMIM:182391.0002', 'ClinVarVariant:939080', 'OMIM:604418.0001', 'OMIM:304040.0002', 'OMIM:606953.0008', 'OMIM:601146.0016', 'OMIM:600053.0001', 'OMIM:605646.0017', 'OMIM:120240.0003', 'OMIM:603962.0002', 'OMIM:157140.0013', 'dbSNP:rs9291547', 'OMIM:300005.0014', 'OMIM:615585.0004', 'OMIM:611184.0006', 'OMIM:133520.0001', 'OMIM:610107.0007', 'OMIM:141800.0172', 'OMIM:617987.0001', 'OMIM:609280.0010', 'OMIM:601255.0003', 'OMIM:607001.0001', 'OMIM:600698.0001', 'OMIM:191040.0002', 'OMIM:180069.0008', 'OMIM:612412.0001', 'OMIM:612349.0001', 'OMIM:608879.0002', 'OMIM:609390.0007', 'OMIM:141900.0092', 'OMIM:604574.0002', 'OMIM:600228.0005', 'OMIM:134797.0068', 'OMIM:615790.0003', 'OMIM:182307.0001', 'OMIM:608662.0004', 'OMIM:139320.0006', 'OMIM:190181.0010', 'OMIM:604720.0002', 'OMIM:605907.0005', 'OMIM:120150.0043', 'OMIM:176980.0007', 'OMIM:176872.0007', 'OMIM:190450.0005', 'OMIM:608433.0005', 'OMIM:605270.0002', 'OMIM:600473.0004', 'OMIM:606702.0005', 'OMIM:602568.0005', 'OMIM:607542.0038', 'OMIM:611693.0001', 'OMIM:612971.0008', 'OMIM:606702.0007', 'OMIM:609309.0004', 'OMIM:107777.0016', 'OMIM:173335.0002', 'OMIM:605609.0004', 'OMIM:184757.0002', 'OMIM:610098.0001', 'OMIM:300841.0188', 'OMIM:232000.0005', 'OMIM:612280.0011', 'OMIM:609845.0005', 'OMIM:159440.0017', 'OMIM:134797.0043', 'OMIM:176943.0028', 'OMIM:131320.0001', 'OMIM:610804.0006', 'OMIM:600570.0015', 'OMIM:604485.0003', 'OMIM:609443.0002', 'OMIM:612803.0006', 'OMIM:610924.0007', 'OMIM:614161.0002', 'OMIM:609701.0011', 'OMIM:100690.0005', 'OMIM:113705.0029', 'dbSNP:rs61945108', 'OMIM:604633.0003', 'OMIM:610531.0001', 'OMIM:602125.0002', 'OMIM:605555.0008', 'OMIM:606118.0001', 'OMIM:609144.0001', 'OMIM:609226.0002', 'OMIM:603060.0001', 'ClinVarVariant:200333', 'OMIM:605880.0003', 'OMIM:179035.0010', 'OMIM:314370.0001', 'OMIM:305371.0009', 'OMIM:300377.0021', 'OMIM:606151.0017', 'OMIM:300300.0054', 'OMIM:607139.0010', 'OMIM:164780.0002', 'OMIM:611254.0007', 'OMIM:605113.0005', 'OMIM:173490.0008', 'OMIM:176980.0010', 'OMIM:610502.0002', 'OMIM:601330.0002', 'OMIM:300841.0099', 'OMIM:609059.0005', 'OMIM:617245.0001', 'OMIM:607608.0013', 'OMIM:604289.0001', 'OMIM:147520.0006', 'OMIM:187270.0010', 'OMIM:612647.0004', 'dbSNP:rs200548390', 'OMIM:613230.0010', 'OMIM:602225.0004', 'OMIM:604896.0004', 'OMIM:164761.0047', 'OMIM:606462.0003', 'OMIM:602821.0003', 'OMIM:612772.0001', 'OMIM:313700.0039', 'ClinVarVariant:262702', 'OMIM:609279.0003', 'OMIM:191845.0007', 'OMIM:100720.0004', 'OMIM:180380.0004', 'OMIM:133520.0011', 'OMIM:604392.0004', 'OMIM:177400.0010', 'OMIM:612498.0005', 'OMIM:191170.0002', 'ClinVarVariant:226735', 'OMIM:604490.0010', 'dbSNP:rs9556893', 'OMIM:600502.0015', 'OMIM:120220.0007', 'OMIM:139320.0029', 'OMIM:608201.0008', 'OMIM:606584.0007', 'OMIM:134797.0056', 'OMIM:610363.0005', 'OMIM:611888.0003', 'OMIM:189907.0003', 'OMIM:601614.0003', 'OMIM:602183.0001', 'OMIM:606416.0004', 'OMIM:608414.0002', 'OMIM:302910.0007', 'OMIM:610624.0007', 'OMIM:141800.0153', 'OMIM:601421.0003', 'OMIM:601478.0002', 'OMIM:609275.0002', 'OMIM:602044.0002', 'OMIM:605283.0003', 'OMIM:602201.0001', 'OMIM:605516.0017', 'OMIM:614297.0001', 'OMIM:141900.0299', 'OMIM:608869.0001', 'OMIM:613698.0006', 'OMIM:600727.0003', 'OMIM:610859.0006', 'OMIM:601881.0002', 'OMIM:605185.0005', 'OMIM:603202.0003', 'OMIM:308000.0053', 'OMIM:600112.0009', 'ClinVarVariant:5492', 'OMIM:120220.0012', 'OMIM:191740.0021', 'OMIM:164870.0003', 'OMIM:600163.0038', 'OMIM:600206.0001', 'OMIM:182307.0002', 'OMIM:137142.0001', 'OMIM:300264.0003', 'ClinVarVariant:679850', 'OMIM:603851.0009', 'OMIM:138945.0008', 'OMIM:600442.0004', 'OMIM:134850.0007', 'OMIM:607998.0005', 'OMIM:610528.0004', 'OMIM:172480.0001', 'OMIM:601428.0001', 'OMIM:100850.0006', 'OMIM:601498.0004', 'OMIM:605704.0002', 'OMIM:617278.0002', 'OMIM:604580.0005', 'OMIM:616105.0003', 'OMIM:609353.0001', 'OMIM:604277.0001', 'OMIM:609617.0001', 'OMIM:608648.0001', 'OMIM:300715.0005', 'OMIM:600709.0004', 'OMIM:607072.0002', 'OMIM:601607.0002', 'OMIM:600035.0003', 'OMIM:603288.0001', 'OMIM:600456.0001', 'OMIM:606800.0009', 'OMIM:134797.0029', 'OMIM:137167.0001', 'OMIM:609825.0003', 'OMIM:137167.0006', 'ClinVarVariant:904244', 'dbSNP:rs183669222', 'OMIM:610844.0015', 'OMIM:118502.0001', 'OMIM:141800.0002', 'OMIM:125671.0005', 'OMIM:608309.0009', 'OMIM:607882.0002', 'OMIM:601489.0001', 'OMIM:130130.0009', 'OMIM:610855.0003', 'OMIM:608488.0003', 'OMIM:604943.0002', 'OMIM:114251.0003', 'OMIM:179035.0008', 'OMIM:114240.0005', 'OMIM:602867.0001', 'OMIM:608581.0003', 'OMIM:608170.0003', 'OMIM:611458.0014', 'OMIM:609739.0003', 'ClinVarVariant:551446', 'OMIM:113705.0033', 'OMIM:612222.0005', 'OMIM:147370.0003', 'OMIM:601282.0014', 'OMIM:610053.0001', 'OMIM:602235.0006', 'ClinVarVariant:406225', 'dbSNP:rs3095008', 'OMIM:604174.0001', 'OMIM:603360.0001', 'OMIM:601012.0004', 'OMIM:187270.0001', 'OMIM:185620.0007', 'OMIM:617413.0002', 'OMIM:614988.0001', 'OMIM:602272.0006', 'OMIM:601156.0001', 'OMIM:607036.0001', 'OMIM:611672.0002', 'OMIM:123730.0003', 'OMIM:611901.0005', 'OMIM:600225.0018', 'OMIM:602860.0003', 'OMIM:182340.0014', 'OMIM:141900.0062', 'OMIM:300377.0062', 'OMIM:116806.0004', 'dbSNP:rs3829957', 'OMIM:609862.0004', 'OMIM:600370.0001', 'OMIM:312610.0019', 'OMIM:165240.0003', 'OMIM:600968.0011', 'OMIM:164920.0009', 'OMIM:107680.0009', 'OMIM:612773.0006', 'OMIM:152200.0005', 'OMIM:120940.0001', 'OMIM:134850.0021', 'OMIM:606945.0042', 'OMIM:305371.0010', 'ClinVarVariant:982516', 'OMIM:147450.0032', 'OMIM:617362.0004', 'OMIM:603537.0007', 'OMIM:609708.0027', 'OMIM:600909.0013', 'OMIM:608879.0003', 'OMIM:141900.0057', 'OMIM:311850.0021', 'OMIM:606822.0005', 'OMIM:605497.0002', 'OMIM:300774.0002', 'OMIM:107773.0006', 'OMIM:168470.0002', 'OMIM:300538.0019', 'OMIM:608897.0007', 'OMIM:601646.0002', 'OMIM:613742.0001', 'OMIM:138140.0001', 'dbSNP:rs1478912', 'dbSNP:rs141041718', 'OMIM:154050.0001', 'OMIM:252800.0015', 'OMIM:606680.0005', 'OMIM:604368.0001', 'OMIM:614988.0002', 'OMIM:600923.0012', 'OMIM:603725.0002', 'OMIM:604705.0004', 'OMIM:604588.0004', 'OMIM:173470.0015', 'OMIM:602302.0009', 'OMIM:609891.0001', 'OMIM:300746.0071', 'OMIM:141900.0371', 'OMIM:103850.0001', 'OMIM:120130.0021', 'OMIM:608075.0003', 'OMIM:616406.0006', 'dbSNP:rs7627756', 'OMIM:605010.0002', 'OMIM:603201.0003', 'OMIM:605516.0018', 'OMIM:600456.0002', 'OMIM:176876.0004', 'OMIM:600024.0006', 'OMIM:604027.0001', 'OMIM:187790.0002', 'OMIM:606439.0012', 'OMIM:603780.0005', 'OMIM:610982.0009', 'OMIM:613019.0002', 'OMIM:605124.0001', 'OMIM:602410.0004', 'OMIM:607614.0002', 'OMIM:192090.0020', 'OMIM:611731.0024', 'OMIM:608628.0001', 'OMIM:614041.0008', 'OMIM:188540.0003', 'OMIM:618726.0002', 'OMIM:141800.0137', 'OMIM:300294.0008', 'OMIM:608507.0011', 'OMIM:612895.0002', 'OMIM:617307.0003', 'OMIM:609825.0005', 'ClinVarVariant:22913', 'OMIM:610339.0007', 'OMIM:605270.0009', 'OMIM:603273.0003', 'OMIM:141900.0098', 'OMIM:607139.0012', 'dbSNP:rs13179734', 'OMIM:600287.0011', 'OMIM:300377.0019', 'OMIM:124015.0007', 'OMIM:606974.0002', 'ClinVarVariant:468686', 'OMIM:609739.0004', 'OMIM:606075.0019', 'OMIM:176300.0012', 'OMIM:606702.0003', 'OMIM:300300.0017', 'OMIM:120940.0005', 'OMIM:600173.0007', 'OMIM:609506.0017', 'OMIM:613354.0004', 'OMIM:600259.0005', 'OMIM:141900.0061', 'OMIM:606418.0006', 'OMIM:602421.0060', 'OMIM:610509.0001', 'OMIM:605921.0004', 'OMIM:134570.0015', 'OMIM:179615.0016', 'OMIM:601199.0043', 'OMIM:608630.0012', 'OMIM:134570.0012', 'OMIM:607031.0001', 'OMIM:120160.0050', 'OMIM:604566.0002', 'dbSNP:rs2721816', 'OMIM:300405.0001', 'OMIM:604616.0007', 'OMIM:602050.0001', 'OMIM:605379.0002', 'OMIM:600259.0003', 'OMIM:300391.0002', 'OMIM:601975.0005', 'OMIM:167415.0002', 'OMIM:611360.0002', 'OMIM:123580.0003', 'OMIM:612452.0006', 'OMIM:604712.0009', 'OMIM:126340.0003', 'OMIM:603370.0006', 'OMIM:619098.0005', 'OMIM:252800.0018', 'OMIM:179410.0002', 'OMIM:608201.0005', 'OMIM:300371.0012', 'OMIM:606945.0038', 'OMIM:604214.0006', 'OMIM:601861.0004', 'OMIM:308380.0009', 'OMIM:616618.0002', 'OMIM:141850.0029', 'OMIM:102573.0006', 'OMIM:615850.0001', 'OMIM:176300.0036', 'OMIM:121013.0004', 'OMIM:617246.0001', 'OMIM:176262.0004', 'OMIM:602368.0005', 'OMIM:142360.0004', 'OMIM:102582.0014', 'OMIM:606462.0004', 'OMIM:611766.0008', 'OMIM:607838.0007', 'OMIM:605646.0012', 'ClinVarVariant:662072', 'OMIM:308380.0006', 'OMIM:120240.0013', 'OMIM:141900.0173', 'OMIM:602421.0076', 'OMIM:173490.0001', 'OMIM:606362.0003', 'OMIM:601192.0003', 'OMIM:590050.0011', 'OMIM:174761.0001', 'OMIM:176943.0041', 'OMIM:605514.0005', 'OMIM:616054.0003', 'OMIM:603623.0002', 'OMIM:300839.0008', 'OMIM:516001.0004', 'OMIM:606201.0012', 'OMIM:609226.0001', 'dbSNP:rs1168987', 'OMIM:604358.0003', 'OMIM:606945.0006', 'OMIM:600556.0002', 'OMIM:606807.0005', 'OMIM:617307.0002', 'OMIM:608894.0009', 'OMIM:137140.0006', 'OMIM:136435.0001', 'OMIM:300841.0097', 'OMIM:607468.0001', 'OMIM:609769.0001', 'OMIM:120650.0002', 'OMIM:113811.0014', 'OMIM:600502.0003', 'OMIM:157147.0005', 'OMIM:141900.0101', 'OMIM:138079.0013', 'OMIM:612757.0008', 'OMIM:607606.0010', 'OMIM:609506.0003', 'OMIM:610957.0005', 'OMIM:141800.0110', 'OMIM:182310.0008', 'OMIM:312173.0002', 'OMIM:602280.0001', 'OMIM:142461.0009', 'dbSNP:rs2675163', 'OMIM:131550.0007', 'OMIM:609669.0002', 'OMIM:608771.0011', 'OMIM:614589.0001', 'OMIM:614574.0005', 'OMIM:603652.0002', 'OMIM:191170.0043', 'dbSNP:rs2716601', 'OMIM:180380.0017', 'OMIM:142250.0049', 'OMIM:613160.0030', 'OMIM:609512.0005', 'OMIM:602861.0001', 'OMIM:606979.0002', 'OMIM:604357.0004', 'OMIM:602769.0005', 'OMIM:614404.0003', 'OMIM:613580.0006', 'OMIM:613274.0003', 'OMIM:120130.0025', 'dbSNP:rs111355438', 'OMIM:606808.0002', 'OMIM:605356.0001', 'OMIM:612666.0001', 'OMIM:613084.0004', 'OMIM:610933.0004', 'OMIM:607289.0002', 'OMIM:606887.0005', 'OMIM:173490.0012', 'OMIM:209901.0003', 'OMIM:616458.0005', 'OMIM:602090.0005', 'OMIM:607840.0004', 'OMIM:615623.0002', 'OMIM:611632.0004', 'OMIM:604450.0003', 'OMIM:238310.0008', 'OMIM:602302.0012', 'OMIM:141900.0468', 'OMIM:126375.0004', 'OMIM:121011.0033', 'OMIM:300128.0001', 'OMIM:300460.0004', 'OMIM:614828.0003', 'ClinVarVariant:374259', 'OMIM:607838.0004', 'OMIM:182389.0023', 'OMIM:608313.0009', 'OMIM:605000.0001', 'OMIM:120160.0008', 'OMIM:608283.0007', 'OMIM:300205.0013', 'OMIM:603236.0001', 'OMIM:150330.0038', 'OMIM:615317.0003', 'OMIM:602119.0004', 'OMIM:616663.0005', 'OMIM:601528.0002', 'OMIM:603741.0011', 'OMIM:609988.0004', 'OMIM:167409.0005', 'OMIM:124010.0001', 'OMIM:600946.0029', 'OMIM:141900.0279', 'OMIM:600958.0002', 'OMIM:613386.0004', 'OMIM:606158.0011', 'OMIM:157129.0004', 'OMIM:611985.0001', 'OMIM:606230.0002', 'OMIM:606584.0002', 'OMIM:120280.0013', 'OMIM:615316.0003', 'OMIM:108345.0002', 'OMIM:602783.0005', 'OMIM:104160.0006', 'ClinVarVariant:265427', 'OMIM:300008.0008', 'OMIM:139250.0019', 'dbSNP:rs605843', 'OMIM:603191.0006', 'OMIM:610513.0013', 'dbSNP:rs146309381', 'OMIM:300841.0074', 'OMIM:603846.0002', 'OMIM:300841.0197', 'OMIM:610523.0001', 'OMIM:606725.0005', 'OMIM:600555.0010', 'OMIM:603945.0002', 'OMIM:605113.0001', 'OMIM:185881.0005', 'OMIM:617242.0001', 'OMIM:606241.0003', 'OMIM:613984.0005', 'OMIM:159530.0001', 'dbSNP:rs9650199', 'OMIM:156100.0006', 'OMIM:141900.0189', 'dbSNP:rs13148903', 'OMIM:120150.0003', 'OMIM:190160.0002', 'OMIM:126141.0003', 'OMIM:613847.0006', 'OMIM:600028.0003', 'OMIM:605083.0001', 'OMIM:176300.0029', 'OMIM:125485.0003', 'OMIM:606607.0001', 'dbSNP:rs113835330', 'OMIM:300265.0010', 'OMIM:605654.0003', 'OMIM:604985.0004', 'OMIM:600576.0010', 'OMIM:606489.0004', 'OMIM:115501.0002', 'OMIM:608171.0003', 'OMIM:602360.0003', 'OMIM:607892.0008', 'ClinVarVariant:24900', 'OMIM:300170.0003', 'OMIM:601728.0002', 'OMIM:611611.0003', 'OMIM:615781.0001', 'OMIM:602368.0004', 'OMIM:611203.0001', 'OMIM:611901.0006', 'OMIM:600528.0007', 'OMIM:613168.0003', 'ClinVarVariant:839949', 'OMIM:608187.0002', 'OMIM:612757.0011', 'OMIM:604574.0004', 'OMIM:606397.0002', 'OMIM:610956.0002', 'OMIM:604095.0008', 'OMIM:604975.0003', 'OMIM:191092.0003', 'OMIM:300008.0006', 'OMIM:161650.0001', 'OMIM:605608.0006', 'OMIM:606144.0001', 'ClinVarVariant:105317', 'dbSNP:rs151120610', 'OMIM:126453.0001', 'OMIM:601607.0009', 'OMIM:300377.0040', 'OMIM:120436.0003', 'OMIM:607968.0006', 'OMIM:613846.0002', 'OMIM:609884.0011', 'OMIM:600423.0003', 'OMIM:165230.0011', 'ClinVarVariant:186924', 'OMIM:603632.0002', 'OMIM:176980.0009', 'OMIM:160720.0001', 'OMIM:301300.0018', 'OMIM:605706.0001', 'OMIM:138295.0005', 'OMIM:612641.0005', 'OMIM:606597.0016', 'OMIM:600734.0003', 'OMIM:136352.0012', 'OMIM:136435.0005', 'OMIM:614677.0001', 'OMIM:174763.0003', 'OMIM:606201.0025', 'dbSNP:rs3741920', 'OMIM:618350.0001', 'OMIM:603297.0004', 'OMIM:180380.0011', 'OMIM:616183.0002', 'OMIM:618424.0002', 'OMIM:142640.0002', 'OMIM:600147.0003', 'OMIM:120436.0013', 'OMIM:609309.0024', 'OMIM:604270.0008', 'OMIM:300610.0001', 'OMIM:601828.0001', 'OMIM:606370.0002', 'ClinVarVariant:224127', 'OMIM:121014.0006', 'OMIM:601735.0001', 'OMIM:614556.0006', 'OMIM:603339.0005', 'OMIM:109270.0011', 'OMIM:130160.0002', 'OMIM:611466.0003', 'OMIM:602616.0004', 'OMIM:480000.0009', 'OMIM:616758.0001', 'OMIM:123930.0005', 'OMIM:612732.0003', 'OMIM:300821.0006', 'ClinVarVariant:869427', 'OMIM:610925.0001', 'OMIM:300382.0011', 'OMIM:607521.0007', 'OMIM:607608.0008', 'OMIM:120470.0003', 'OMIM:156845.0010', 'OMIM:600565.0002', 'OMIM:605100.0004', 'OMIM:606652.0001', 'OMIM:604588.0005', 'OMIM:605950.0005', 'OMIM:217070.0006', 'dbSNP:rs148208076', 'OMIM:608005.0007', 'OMIM:613111.0001', 'dbSNP:rs11240594', 'OMIM:611101.0004', 'OMIM:607102.0025', 'OMIM:606830.0006', 'OMIM:616406.0001', 'OMIM:604327.0004', 'OMIM:616650.0001', 'OMIM:607529.0001', 'OMIM:617491.0002', 'OMIM:601313.0001', 'OMIM:608755.0001', 'OMIM:131222.0002', 'OMIM:609412.0002', 'OMIM:600887.0004', 'OMIM:162280.0007', 'OMIM:136352.0011', 'OMIM:612349.0036', 'OMIM:608894.0007', 'OMIM:147670.0028', 'OMIM:607844.0005', 'OMIM:100690.0015', 'OMIM:614661.0005', 'OMIM:614864.0002', 'OMIM:602666.0006', 'OMIM:616661.0003', 'ClinVarVariant:982551', 'OMIM:609413.0006', 'OMIM:603708.0007', 'OMIM:217070.0003', 'OMIM:607568.0007', 'OMIM:182465.0001', 'OMIM:605185.0001', 'OMIM:603682.0001', 'OMIM:601231.0002', 'OMIM:602943.0001', 'OMIM:600046.0021', 'OMIM:600928.0002', 'OMIM:516020.0005', 'OMIM:176640.0024', 'OMIM:300415.0004', 'OMIM:158378.0006', 'dbSNP:rs2412488', 'ClinVarVariant:40044', 'OMIM:604025.0001', 'OMIM:312865.0007', 'OMIM:601740.0003', 'OMIM:312865.0013', 'OMIM:611778.0004', 'OMIM:600275.0002', 'OMIM:606834.0008', 'OMIM:603785.0001', 'OMIM:142989.0014', 'OMIM:609479.0002', 'ClinVarVariant:406226', 'OMIM:300822.0002', 'OMIM:176730.0012', 'OMIM:120810.0001', 'OMIM:600733.0002', 'OMIM:147569.0004', 'OMIM:300546.0012', 'OMIM:603839.0002', 'OMIM:602630.0004', 'OMIM:147370.0008', 'OMIM:606609.0011', 'OMIM:607306.0013', 'OMIM:612458.0006', 'OMIM:605431.0002', 'OMIM:122720.0002', 'OMIM:139320.0007', 'OMIM:613942.0001', 'OMIM:607623.0017', 'OMIM:606045.0002', 'OMIM:606718.0005', 'OMIM:601313.0006', 'OMIM:614351.0002', 'dbSNP:rs7013285', 'OMIM:600958.0029', 'OMIM:600221.0004', 'OMIM:618461.0001', 'OMIM:606869.0038', 'OMIM:601607.0001', 'OMIM:604134.0008', 'OMIM:300538.0007', 'OMIM:608753.0004', 'OMIM:176871.0002', 'OMIM:134850.0015', 'OMIM:600799.0001', 'OMIM:125485.0006', 'OMIM:613037.0004', 'OMIM:616186.0001', 'OMIM:606680.0001', 'OMIM:603009.0011', 'OMIM:608537.0024', 'OMIM:300265.0002', 'OMIM:613403.0001', 'OMIM:176730.0011', 'OMIM:608309.0011', 'OMIM:164790.0003', 'OMIM:150240.0001', 'OMIM:600956.0004', 'OMIM:604346.0007', 'OMIM:138210.0002', 'OMIM:605802.0005', 'dbSNP:rs5936487', 'OMIM:604710.0006', 'ClinVarVariant:132608', 'OMIM:614506.0002', 'OMIM:142250.0014', 'ClinVarVariant:43555', 'OMIM:600163.0042', 'OMIM:616112.0004', 'OMIM:300841.0151', 'dbSNP:rs13430864', 'OMIM:600844.0001', 'OMIM:615567.0006', 'OMIM:614477.0003', 'OMIM:611499.0011', 'dbSNP:rs317484645', 'OMIM:606811.0001', 'OMIM:311850.0013', 'OMIM:607273.0008', 'OMIM:605998.0008', 'OMIM:612025.0002', 'OMIM:152790.0023', 'OMIM:601622.0002', 'OMIM:613274.0001', 'OMIM:123695.0003', 'OMIM:600163.0043', 'OMIM:300137.0003', 'OMIM:608148.0001', 'OMIM:604641.0001', 'dbSNP:rs568300', 'dbSNP:rs3924426', 'OMIM:602090.0007', 'OMIM:615549.0006', 'OMIM:612268.0002', 'OMIM:607697.0002', 'OMIM:136350.0017', 'OMIM:603377.0003', 'OMIM:602322.0012', 'OMIM:182282.0001', 'OMIM:600179.0011', 'OMIM:100690.0003', 'OMIM:600923.0013', 'OMIM:603550.0004', 'OMIM:600259.0017', 'OMIM:616458.0002', 'OMIM:147670.0029', 'OMIM:604165.0005', 'OMIM:300120.0002', 'OMIM:138160.0011', 'OMIM:128239.0001', 'OMIM:610456.0006', 'OMIM:605515.0002', 'OMIM:609237.0009', 'OMIM:176300.0007', 'OMIM:123101.0007', 'OMIM:601146.0019', 'OMIM:606945.0065', 'dbSNP:rs93059', 'OMIM:600728.0001', 'OMIM:607096.0004', 'OMIM:603287.0002', 'OMIM:608325.0004', 'ClinVarVariant:565592', 'OMIM:602851.0009', 'OMIM:176930.0015', 'OMIM:118490.0002', 'OMIM:300256.0005', 'OMIM:607854.0013', 'OMIM:607199.0003', 'OMIM:603795.0002', 'OMIM:160740.0008', 'OMIM:600509.0025', 'OMIM:103600.0028', 'OMIM:109535.0002', 'OMIM:613629.0013', 'OMIM:604808.0004', 'OMIM:300032.0022', 'OMIM:138252.0012', 'OMIM:600810.0008', 'OMIM:156225.0003', 'OMIM:313650.0005', 'OMIM:120120.0033', 'OMIM:314375.0003', 'OMIM:313700.0044', 'OMIM:605378.0007', 'ClinVarVariant:587359', 'OMIM:300128.0006', 'OMIM:608201.0007', 'OMIM:178640.0005', 'OMIM:611220.0001', 'OMIM:138160.0005', 'OMIM:106180.0002', 'OMIM:600163.0032', 'OMIM:610512.0003', 'OMIM:600023.0003', 'OMIM:604907.0003', 'OMIM:613113.0016', 'OMIM:120160.0023', 'OMIM:120180.0037', 'OMIM:603499.0002', 'ClinVarVariant:242513', 'OMIM:600956.0002', 'OMIM:606692.0004', 'ClinVarVariant:28957', 'ClinVarVariant:404158', 'OMIM:613441.0004', 'OMIM:611577.0006', 'OMIM:608183.0004', 'OMIM:612676.0003', 'OMIM:608002.0005', 'OMIM:602667.0005', 'OMIM:608515.0003', 'dbSNP:rs3751196', 'OMIM:600483.0003', 'OMIM:165230.0005', 'OMIM:603297.0018', 'OMIM:142410.0012', 'OMIM:182888.0003', 'OMIM:211100.0004', 'OMIM:120140.0011', 'OMIM:607608.0005', 'OMIM:610613.0010', 'OMIM:606718.0009', 'OMIM:611623.0002', 'OMIM:607854.0010', 'OMIM:313700.0027', 'OMIM:605507.0005', 'OMIM:609188.0005', 'OMIM:600921.0002', 'OMIM:600939.0005', 'OMIM:141900.0296', 'OMIM:614366.0002', 'OMIM:601255.0010', 'OMIM:612013.0006', 'OMIM:612850.0007', 'OMIM:605602.0001', 'OMIM:600046.0006', 'OMIM:605557.0004', 'OMIM:601771.0019', 'OMIM:600543.0001', 'ClinVarVariant:959044', 'OMIM:600470.0001', 'OMIM:173325.0006', 'OMIM:609018.0003', 'OMIM:613165.0007', 'OMIM:126064.0008', 'OMIM:139250.0004', 'OMIM:608177.0008', 'OMIM:611341.0001', 'OMIM:179617.0004', 'OMIM:606800.0004', 'dbSNP:rs4906759', 'OMIM:147545.0003', 'OMIM:600819.0001', 'OMIM:141800.0003', 'OMIM:243305.0002', 'OMIM:122500.0003', 'OMIM:604990.0003', 'OMIM:606352.0015', 'OMIM:603942.0002', 'OMIM:134797.0014', 'OMIM:613785.0006', 'OMIM:602421.0028', 'OMIM:142360.0001', 'OMIM:609708.0031', 'ClinVarVariant:21911', 'OMIM:613727.0003', 'OMIM:607066.0003', 'OMIM:615316.0011', 'OMIM:600225.0011', 'ClinVarVariant:433556', 'OMIM:610860.0004', 'OMIM:606580.0001', 'OMIM:606158.0015', 'OMIM:138250.0001', 'OMIM:600582.0002', 'OMIM:141900.0452', 'OMIM:610982.0007', 'OMIM:608945.0007', 'dbSNP:rs17559144', 'OMIM:615759.0003', 'OMIM:602293.0001', 'OMIM:601314.0003', 'OMIM:601373.0008', 'dbSNP:rs1903595', 'OMIM:603234.0009', 'OMIM:609806.0006', 'ClinVarVariant:427580', 'OMIM:610550.0004', 'OMIM:607585.0002', 'OMIM:603856.0003', 'OMIM:152790.0001', 'OMIM:606682.0002', 'OMIM:151385.0008', 'OMIM:156570.0008', 'OMIM:165360.0002', 'OMIM:162150.0004', 'ClinVarVariant:536554', 'OMIM:164761.0001', 'OMIM:104614.0004', 'OMIM:141900.0318', 'OMIM:601089.0001', 'OMIM:600211.0010', 'OMIM:610613.0014', 'OMIM:141900.0070', 'OMIM:300202.0011', 'OMIM:606480.0002', 'OMIM:600456.0003', 'OMIM:607211.0001', 'dbSNP:rs72857992', 'OMIM:120220.0008', 'OMIM:612625.0003', 'OMIM:608803.0010', 'OMIM:602421.0039', 'OMIM:605460.0011', 'dbSNP:rs17101923', 'dbSNP:rs4710069', 'OMIM:123890.0003', 'ClinVarVariant:22933', 'ClinVarVariant:652379', 'OMIM:613160.0019', 'OMIM:172471.0007', 'OMIM:613858.0008', 'OMIM:603337.0002', 'OMIM:611414.0001', 'OMIM:605267.0004', 'OMIM:610345.0010', 'OMIM:107580.0004', 'OMIM:300414.0008', 'OMIM:600946.0012', 'OMIM:134850.0018', 'OMIM:613129.0005', 'ClinVarVariant:31376', 'ClinVarVariant:954079', 'OMIM:608309.0013', 'OMIM:607199.0010', 'OMIM:615345.0003', 'OMIM:136350.0011', 'OMIM:102565.0009', 'dbSNP:rs4476553', 'OMIM:123831.0001', 'OMIM:147670.0015', 'OMIM:600692.0002', 'OMIM:602713.0002', 'OMIM:600681.0006', 'OMIM:138247.0003', 'OMIM:124080.0002', 'dbSNP:rs8081814', 'OMIM:604032.0001', 'OMIM:190000.0005', 'OMIM:602402.0010', 'OMIM:604358.0005', 'OMIM:612866.0004', 'OMIM:606368.0003', 'OMIM:300035.0011', 'OMIM:616661.0004', 'OMIM:608400.0015', 'OMIM:611731.0026', 'dbSNP:rs12023577', 'OMIM:600968.0013', 'OMIM:609118.0006', 'OMIM:613113.0011', 'OMIM:600259.0009', 'OMIM:311770.0008', 'OMIM:603941.0004', 'OMIM:121013.0006', 'OMIM:613541.0004', 'OMIM:109270.0007', 'OMIM:601756.0006', 'OMIM:600570.0012', 'dbSNP:rs12497518', 'OMIM:602218.0012', 'OMIM:157655.0003', 'OMIM:603499.0003', 'OMIM:165360.0006', 'OMIM:590010.0001', 'OMIM:612411.0002', 'OMIM:608778.0002', 'OMIM:606060.0002', 'OMIM:172100.0007', 'OMIM:195000.0003', 'OMIM:610613.0017', 'OMIM:605978.0005', 'OMIM:614386.0010', 'OMIM:238331.0003', 'OMIM:312610.0020', 'OMIM:600046.0019', 'OMIM:604277.0007', 'OMIM:605394.0002', 'OMIM:164761.0029', 'OMIM:107450.0001', 'OMIM:607293.0001', 'OMIM:182389.0013', 'OMIM:610513.0002', 'OMIM:106150.0002', 'dbSNP:rs316025173', 'OMIM:610060.0004', 'OMIM:188840.0017', 'OMIM:300379.0002', 'OMIM:606890.0005', 'dbSNP:rs144870397', 'OMIM:604577.0001', 'OMIM:602959.0001', 'OMIM:606810.0003', 'OMIM:606142.0008', 'OMIM:172100.0011', 'OMIM:600442.0003', 'OMIM:112205.0002', 'ClinVarVariant:14322', 'OMIM:179035.0007', 'OMIM:601314.0004', 'OMIM:610575.0001', 'OMIM:608736.0007', 'ClinVarVariant:679695', 'OMIM:611061.0011', 'OMIM:590040.0002', 'ClinVarVariant:189440', 'dbSNP:rs11711956', 'OMIM:601443.0002', 'OMIM:611279.0001', 'OMIM:615302.0002', 'dbSNP:rs78781855', 'OMIM:607928.0001', 'OMIM:612803.0012', 'OMIM:601240.0002', 'OMIM:602421.0049', 'OMIM:300300.0038', 'OMIM:605978.0010', 'OMIM:613927.0002', 'OMIM:610345.0003', 'OMIM:305900.0039', 'OMIM:173335.0011', 'OMIM:141850.0046', 'dbSNP:rs60683621', 'OMIM:613667.0001', 'OMIM:605882.0001', 'OMIM:600326.0001', 'OMIM:300747.0006', 'OMIM:608313.0010', 'OMIM:300180.0003', 'OMIM:615950.0001', 'OMIM:602334.0002', 'OMIM:608374.0003', 'OMIM:173910.0001', 'OMIM:603401.0001', 'OMIM:610624.0003', 'OMIM:182860.0003', 'OMIM:606045.0008', 'dbSNP:rs6543610', 'OMIM:602054.0001', 'OMIM:600046.0023', 'OMIM:612349.0006', 'OMIM:137070.0007', 'OMIM:603470.0001', 'OMIM:193067.0006', 'OMIM:608400.0005', 'OMIM:109700.0002', 'OMIM:617218.0003', 'dbSNP:rs312589027', 'OMIM:600702.0002', 'OMIM:137192.0005', 'OMIM:603945.0009', 'OMIM:180297.0005', 'OMIM:609332.0001', 'OMIM:602201.0002', 'OMIM:606976.0003', 'OMIM:120160.0036', 'OMIM:609309.0021', 'OMIM:603615.0001', 'OMIM:608894.0002', 'OMIM:131310.0001', 'OMIM:600163.0004', 'OMIM:182860.0024', 'OMIM:614982.0006', 'OMIM:601717.0007', 'OMIM:612026.0004', 'OMIM:164760.0004', 'OMIM:158105.0002', 'ClinVarVariant:802612', 'OMIM:602575.0007', 'OMIM:611499.0001', 'dbSNP:rs1277203', 'OMIM:134797.0020', 'OMIM:300841.0266', 'OMIM:601863.0004', 'OMIM:601719.0010', 'OMIM:602302.0015', 'OMIM:611574.0001', 'OMIM:614138.0003', 'OMIM:123940.0001', 'OMIM:602170.0003', 'OMIM:611663.0005', 'OMIM:603584.0009', 'OMIM:607008.0003', 'OMIM:601740.0001', 'ClinVarVariant:36353', 'OMIM:608515.0008', 'OMIM:606686.0001', 'OMIM:164950.0005', 'OMIM:300188.0005', 'OMIM:612802.0003', 'OMIM:607082.0005', 'OMIM:516030.0009', 'OMIM:603470.0014', 'dbSNP:rs3794399', 'OMIM:300470.0004', 'OMIM:604197.0001', 'OMIM:602421.0058', 'OMIM:182391.0003', 'OMIM:300841.0186', 'OMIM:607590.0002', 'OMIM:190160.0013', 'OMIM:130130.0005', 'OMIM:606726.0005', 'OMIM:516005.0006', 'OMIM:120120.0008', 'OMIM:616661.0007', 'OMIM:191045.0010', 'OMIM:601146.0007', 'OMIM:605124.0004', 'dbSNP:rs315397868', 'OMIM:605747.0011', 'OMIM:601565.0003', 'OMIM:109270.0013', 'OMIM:139320.0014', 'OMIM:601810.0002', 'OMIM:141900.0212', 'OMIM:156100.0004', 'OMIM:305915.0003', 'OMIM:602703.0004', 'OMIM:300841.0018', 'OMIM:602292.0001', 'OMIM:600451.0001', 'dbSNP:rs7605400', 'dbSNP:rs36084697', 'OMIM:114105.0006', 'OMIM:300841.0126', 'OMIM:600840.0003', 'OMIM:189909.0004', 'OMIM:300205.0012', 'OMIM:600354.0011', 'OMIM:603795.0004', 'OMIM:609761.0007', 'OMIM:610550.0001', 'OMIM:191170.0044', 'OMIM:141900.0476', 'OMIM:109270.0018', 'OMIM:611595.0004', 'OMIM:613301.0001', 'OMIM:602658.0003', 'ClinVarVariant:565953', 'OMIM:603693.0002', 'OMIM:604110.0009', 'ClinVarVariant:536105', 'OMIM:300005.0013', 'OMIM:603381.0007', 'OMIM:604144.0001', 'OMIM:607206.0004', 'OMIM:105850.0006', 'OMIM:107680.0016', 'OMIM:607434.0003', 'OMIM:604134.0003', 'OMIM:600571.0005', 'OMIM:604672.0002', 'OMIM:300841.0048', 'dbSNP:rs13353016', 'OMIM:603200.0001', 'OMIM:100730.0003', 'OMIM:185880.0004', 'OMIM:606241.0010', 'OMIM:603959.0010', 'OMIM:605956.0006', 'OMIM:602775.0002', 'OMIM:602141.0003', 'OMIM:606844.0004', 'OMIM:617342.0001', 'OMIM:600805.0001', 'OMIM:138210.0006', 'OMIM:606806.0002', 'OMIM:600492.0003', 'OMIM:177060.0006', 'OMIM:606034.0004', 'OMIM:120920.0002', 'OMIM:601282.0004', 'OMIM:607144.0005', 'OMIM:604386.0012', 'OMIM:148040.0006', 'OMIM:125660.0020', 'OMIM:300247.0006', 'OMIM:146920.0009', 'OMIM:138292.0003', 'OMIM:602225.0010', 'OMIM:604485.0001', 'OMIM:600774.0002', 'OMIM:607465.0002', 'OMIM:300654.0001', 'OMIM:602536.0008', 'OMIM:170285.0004', 'OMIM:604579.0002', 'OMIM:601365.0003', 'OMIM:600502.0010', 'ClinVarVariant:428266', 'OMIM:154870.0001', 'OMIM:137295.0001', 'OMIM:103600.0022', 'OMIM:191170.0017', 'OMIM:611360.0004', 'OMIM:300473.0012', 'OMIM:603623.0004', 'OMIM:170280.0008', 'OMIM:300013.0001', 'OMIM:602536.0007', 'OMIM:602696.0001', 'OMIM:610826.0010', 'OMIM:613871.0011', 'OMIM:601409.0001', 'OMIM:193060.0003', 'OMIM:300451.0015', 'OMIM:611531.0001', 'OMIM:606238.0002', 'OMIM:610937.0002', 'OMIM:611499.0006', 'OMIM:605546.0003', 'OMIM:179605.0009', 'OMIM:606558.0002', 'OMIM:612802.0002', 'OMIM:118490.0008', 'OMIM:614258.0002', 'OMIM:147545.0001', 'ClinVarVariant:133342', 'OMIM:300550.0005', 'ClinVarVariant:435974', 'OMIM:602575.0001', 'OMIM:186880.0001', 'OMIM:609806.0035', 'OMIM:602727.0003', 'OMIM:609102.0001', 'OMIM:603454.0002', 'OMIM:186780.0004', 'OMIM:108780.0002', 'OMIM:615291.0019', 'OMIM:300451.0006', 'OMIM:605380.0004', 'OMIM:616786.0005', 'OMIM:606048.0004', 'OMIM:611725.0007', 'OMIM:176310.0004', 'OMIM:606781.0001', 'OMIM:139191.0005', 'OMIM:300079.0003', 'OMIM:162150.0006', 'OMIM:603287.0003', 'OMIM:188830.0003', 'OMIM:610192.0001', 'OMIM:167416.0006', 'OMIM:614459.0003', 'OMIM:173470.0011', 'OMIM:114240.0003', 'OMIM:603539.0002', 'OMIM:300356.0003', 'OMIM:300160.0004', 'OMIM:609196.0005', 'OMIM:618904.0001', 'OMIM:613420.0006', 'OMIM:614386.0011', 'OMIM:251170.0012', 'OMIM:612036.0001', 'ClinVarVariant:242421', 'OMIM:603590.0006', 'OMIM:160760.0042', 'OMIM:134830.0002', 'OMIM:612990.0006', 'OMIM:602533.0007', 'dbSNP:rs290794', 'OMIM:611062.0007', 'OMIM:602842.0001', 'OMIM:600760.0005', 'OMIM:604210.0003', 'dbSNP:rs9813712', 'OMIM:190070.0028', 'OMIM:191163.0005', 'OMIM:600993.0003', 'OMIM:607786.0008', 'OMIM:120160.0011', 'OMIM:608429.0002', 'OMIM:602235.0012', 'OMIM:615910.0002', 'OMIM:142200.0008', 'OMIM:603372.0025', 'OMIM:300377.0073', 'OMIM:606980.0006', 'OMIM:300451.0010', 'OMIM:124020.0001', 'OMIM:176261.0002', 'OMIM:606151.0020', 'OMIM:164950.0004', 'dbSNP:rs141342719', 'OMIM:614041.0022', 'OMIM:612994.0001', 'OMIM:607145.0001', 'dbSNP:rs2147112', 'OMIM:605789.0003', 'OMIM:609186.0006', 'OMIM:134797.0005', 'OMIM:300841.0174', 'ClinVarVariant:3397', 'OMIM:615316.0010', 'OMIM:613113.0026', 'OMIM:141900.0008', 'OMIM:601978.0003', 'OMIM:616423.0006', 'OMIM:313700.0016', 'OMIM:606544.0004', 'OMIM:601810.0003', 'OMIM:601404.0003', 'OMIM:603605.0001', 'OMIM:164770.0013', 'OMIM:604857.0004', 'OMIM:176930.0001', 'OMIM:312865.0010', 'OMIM:615600.0002', 'OMIM:610339.0005', 'OMIM:604490.0009', 'OMIM:106410.0001', 'OMIM:300205.0015', 'OMIM:607393.0004', 'OMIM:305371.0005', 'OMIM:300746.0074', 'OMIM:103020.0003', 'OMIM:612515.0002', 'OMIM:607871.0006', 'OMIM:300798.0008', 'OMIM:606765.0004', 'OMIM:600065.0008', 'OMIM:615364.0002', 'OMIM:130130.0001', 'ClinVarVariant:983283', 'OMIM:176930.0005', 'OMIM:607542.0045', 'OMIM:600760.0014', 'OMIM:606609.0005', 'OMIM:125671.0002', 'OMIM:182310.0002', 'OMIM:612570.0010', 'OMIM:607575.0006', 'OMIM:603647.0005', 'OMIM:613473.0001', 'OMIM:611935.0008', 'OMIM:137290.0005', 'OMIM:167416.0002', 'ClinVarVariant:248590', 'OMIM:606945.0058', 'OMIM:605236.0001', 'OMIM:171050.0001', 'OMIM:603277.0004', 'OMIM:190160.0009', 'OMIM:604629.0001', 'OMIM:300248.0013', 'OMIM:300841.0162', 'OMIM:605896.0009', 'OMIM:130160.0017', 'OMIM:608630.0001', 'OMIM:608400.0001', 'OMIM:607170.0002', 'OMIM:176262.0003', 'OMIM:606882.0014', 'OMIM:607393.0006', 'OMIM:182389.0002', 'OMIM:300470.0003', 'OMIM:601691.0015', 'OMIM:141900.0060', 'OMIM:607056.0006', 'OMIM:605427.0023', 'OMIM:114761.0003', 'OMIM:305915.0002', 'OMIM:107680.0013', 'OMIM:601653.0002', 'ClinVarVariant:404148', 'OMIM:601769.0005', 'OMIM:612676.0005', 'OMIM:604613.0002', 'OMIM:609797.0001', 'OMIM:123805.0005', 'OMIM:607379.0019', 'OMIM:104160.0004', 'ClinVarVariant:860189', 'OMIM:300964.0002', 'OMIM:601231.0001', 'dbSNP:rs1922809', 'OMIM:176300.0033', 'OMIM:604270.0003', 'OMIM:147670.0023', 'OMIM:602166.0003', 'OMIM:600112.0005', 'OMIM:606598.0008', 'OMIM:606418.0001', 'OMIM:609695.0005', 'OMIM:141850.0044', 'OMIM:167790.0004', 'OMIM:138250.0002', 'OMIM:603859.0005', 'OMIM:314690.0009', 'OMIM:300841.0091', 'OMIM:601623.0004', 'OMIM:606530.0002', 'OMIM:109270.0035', 'OMIM:610576.0001', 'ClinVarVariant:427586', 'OMIM:606967.0010', 'OMIM:608507.0009', 'OMIM:609701.0012', 'OMIM:602630.0003', 'OMIM:602575.0013', 'OMIM:170260.0001', 'OMIM:600810.0007', 'OMIM:611458.0015', 'OMIM:605573.0004', 'dbSNP:rs10040110', 'OMIM:607108.0023', 'OMIM:605465.0001', 'OMIM:603835.0001', 'OMIM:605951.0003', 'OMIM:607574.0036', 'OMIM:609862.0008', 'OMIM:179060.0003', 'OMIM:613596.0002', 'dbSNP:rs7764197', 'OMIM:300415.0010', 'OMIM:157147.0002', 'OMIM:611332.0003', 'OMIM:602770.0002', 'OMIM:601373.0005', 'OMIM:180381.0002', 'OMIM:611423.0002', 'OMIM:608455.0015', 'OMIM:611927.0002', 'OMIM:604285.0014', 'OMIM:608833.0001', 'OMIM:300169.0014', 'OMIM:601119.0002', 'OMIM:608313.0001', 'OMIM:603693.0003', 'OMIM:300461.0012', 'OMIM:300248.0001', 'OMIM:600667.0001', 'OMIM:172860.0006', 'OMIM:608137.0001', 'OMIM:617218.0004', 'OMIM:480000.0021', 'OMIM:601253.0017', 'OMIM:618260.0001', 'OMIM:613629.0009', 'ClinVarVariant:575793', 'OMIM:600235.0004', 'OMIM:607211.0005', 'OMIM:613350.0002', 'OMIM:609678.0002', 'OMIM:120360.0003', 'OMIM:612666.0002', 'OMIM:174761.0003', 'OMIM:516000.0016', 'OMIM:608102.0006', 'OMIM:300841.0046', 'OMIM:182389.0008', 'OMIM:139320.0017', 'OMIM:136132.0002', 'OMIM:601105.0007', 'OMIM:604846.0004', 'OMIM:613899.0003', 'OMIM:601728.0019', 'OMIM:611211.0003', 'ClinVarVariant:178396', 'OMIM:610534.0004', 'dbSNP:rs2160050', 'OMIM:603593.0001', 'OMIM:606145.0001', 'OMIM:606933.0020', 'OMIM:608414.0009', 'OMIM:606869.0015', 'OMIM:154050.0002', 'OMIM:602498.0003', 'OMIM:603946.0003', 'OMIM:300552.0008', 'OMIM:612570.0012', 'OMIM:605427.0009', 'OMIM:600853.0004', 'OMIM:141900.0219', 'ClinVarVariant:521379', 'OMIM:136430.0001', 'OMIM:607880.0002', 'OMIM:300644.0017', 'OMIM:602410.0010', 'OMIM:609799.0006', 'OMIM:601991.0001', 'ClinVarVariant:682301', 'OMIM:300904.0001', 'OMIM:603415.0015', 'dbSNP:rs10253216', 'OMIM:120290.0013', 'OMIM:190040.0005', 'OMIM:612373.0008', 'OMIM:609884.0010', 'OMIM:602421.0021', 'ClinVarVariant:523642', 'OMIM:607139.0001', 'OMIM:606718.0001', 'OMIM:607623.0009', 'OMIM:123101.0006', 'OMIM:605555.0002', 'OMIM:300746.0075', 'OMIM:193067.0003', 'OMIM:616213.0004', 'OMIM:118425.0021', 'OMIM:182389.0011', 'OMIM:606530.0005', 'OMIM:601622.0004', 'OMIM:604710.0007', 'OMIM:601487.0014', 'OMIM:107720.0005', 'OMIM:121011.0042', 'OMIM:608507.0012', 'OMIM:600840.0011', 'ClinVarVariant:937894', 'OMIM:606596.0019', 'OMIM:611458.0006', 'OMIM:164820.0007', 'OMIM:602614.0006', 'OMIM:607358.0009', 'OMIM:600702.0010', 'dbSNP:rs148845971', 'OMIM:602192.0002', 'OMIM:107773.0007', 'dbSNP:rs11706810', 'ClinVarVariant:654102', 'OMIM:159555.0002', 'OMIM:600112.0006', 'OMIM:615790.0001', 'OMIM:300300.0043', 'OMIM:612659.0006', 'OMIM:172460.0002', 'OMIM:608148.0002', 'OMIM:600599.0004', 'OMIM:608305.0006', 'OMIM:614218.0003', 'OMIM:602208.0013', 'OMIM:606869.0047', 'OMIM:612283.0005', 'OMIM:601530.0001', 'OMIM:601439.0006', 'OMIM:300403.0001', 'OMIM:600509.0009', 'OMIM:603557.0004', 'OMIM:300841.0258', 'OMIM:617245.0004', 'OMIM:601385.0003', 'dbSNP:rs72868658', 'ClinVarVariant:982537', 'OMIM:143054.0002', 'OMIM:604122.0004', 'OMIM:300538.0006', 'OMIM:190120.0002', 'OMIM:184757.0009', 'OMIM:610844.0014', 'OMIM:300715.0003', 'OMIM:612012.0005', 'ClinVarVariant:843675', 'OMIM:601897.0001', 'OMIM:601405.0001', 'OMIM:606201.0001', 'OMIM:176872.0001', 'OMIM:605862.0004', 'OMIM:164757.0006', 'OMIM:604283.0001', 'OMIM:615316.0006', 'OMIM:601199.0046', 'OMIM:607102.0005', 'ClinVarVariant:644202', 'OMIM:610355.0006', 'OMIM:148065.0001', 'OMIM:608517.0008', 'OMIM:604619.0004', 'OMIM:607606.0005', 'ClinVarVariant:237812', 'OMIM:108730.0004', 'OMIM:150330.0047', 'OMIM:610936.0007', 'OMIM:609708.0004', 'dbSNP:rs61735963', 'OMIM:182389.0012', 'OMIM:605010.0004', 'OMIM:131340.0002', 'OMIM:602460.0004', 'OMIM:186740.0003', 'OMIM:118661.0003', 'OMIM:188830.0006', 'OMIM:603714.0003', 'OMIM:601023.0006', 'OMIM:612866.0005', 'OMIM:617413.0003', 'OMIM:300538.0004', 'dbSNP:rs12046867', 'OMIM:600228.0006', 'OMIM:100790.0001', 'OMIM:138250.0008', 'OMIM:606938.0005', 'OMIM:308000.0048', 'OMIM:611062.0005', 'OMIM:608593.0004', 'OMIM:608025.0001', 'OMIM:615496.0002', 'OMIM:179605.0011', 'OMIM:134850.0002', 'OMIM:603506.0032', 'OMIM:613113.0042', 'OMIM:604365.0005', 'OMIM:610528.0008', 'OMIM:611472.0003', 'OMIM:147245.0001', 'dbSNP:rs34701716', 'OMIM:232050.0008', 'OMIM:607574.0027', 'OMIM:604061.0004', 'ClinVarVariant:32072', 'OMIM:606933.0038', 'OMIM:607273.0003', 'OMIM:102540.0005', 'OMIM:610552.0012', 'OMIM:617371.0007', 'OMIM:602859.0006', 'OMIM:607854.0001', 'OMIM:600577.0007', 'OMIM:185470.0003', 'OMIM:611577.0004', 'OMIM:603539.0001', 'OMIM:609831.0012', 'OMIM:601255.0005', 'OMIM:600571.0004', 'OMIM:176943.0013', 'OMIM:167416.0014', 'OMIM:617922.0001', 'OMIM:137290.0001', 'OMIM:126063.0001', 'OMIM:603028.0001', 'dbSNP:rs11062194', 'OMIM:157140.0018', 'OMIM:611716.0002', 'OMIM:300377.0064', 'OMIM:617371.0005', 'OMIM:603539.0005', 'OMIM:300839.0003', 'OMIM:115441.0002', 'OMIM:142200.0001', 'OMIM:605515.0001', 'OMIM:601465.0009', 'OMIM:313650.0004', 'OMIM:610745.0015', 'OMIM:300017.0035', 'OMIM:615292.0001', 'OMIM:176876.0014', 'OMIM:608145.0002', 'OMIM:153454.0009', 'OMIM:604473.0006', 'OMIM:141800.0184', 'OMIM:616899.0004', 'OMIM:603650.0001', 'OMIM:617278.0004', 'OMIM:609799.0010', 'OMIM:601609.0006', 'OMIM:180240.0001', 'OMIM:616663.0006', 'OMIM:612802.0008', 'OMIM:134637.0013', 'OMIM:608798.0002', 'OMIM:141900.0192', 'OMIM:187270.0017', 'OMIM:134934.0004', 'OMIM:613381.0003', 'OMIM:604285.0009', 'ClinVarVariant:18902', 'OMIM:615792.0002', 'ClinVarVariant:242440', 'OMIM:612411.0006', 'OMIM:616012.0004', 'OMIM:164761.0020', 'OMIM:300461.0022', 'OMIM:182870.0015', 'OMIM:604065.0002', 'OMIM:603470.0003', 'OMIM:173350.0005', 'OMIM:607423.0019', 'OMIM:176801.0012', 'OMIM:300552.0009', 'OMIM:600810.0009', 'OMIM:608309.0007', 'ClinVarVariant:635377', 'OMIM:182860.0019', 'OMIM:605363.0005', 'OMIM:601991.0004', 'OMIM:604144.0014', 'OMIM:300036.0001', 'OMIM:608512.0002', 'OMIM:607199.0004', 'OMIM:164005.0011', 'OMIM:165240.0009', 'OMIM:184430.0001', 'OMIM:608451.0003', 'OMIM:300823.0004', 'OMIM:612411.0001', 'OMIM:607574.0007', 'OMIM:607042.0002', 'OMIM:121015.0009', 'OMIM:601972.0004', 'OMIM:601802.0005', 'OMIM:300859.0002', 'OMIM:603962.0004', 'OMIM:607474.0006', 'OMIM:612034.0001', 'ClinVarVariant:429193', 'OMIM:173335.0005', 'OMIM:605431.0004', 'OMIM:600555.0002', 'ClinVarVariant:799648', 'OMIM:606272.0007', 'OMIM:603273.0010', 'OMIM:605481.0010', 'ClinVarVariant:185945', 'OMIM:607211.0002', 'OMIM:606933.0030', 'OMIM:116952.0001', 'OMIM:276903.0020', 'OMIM:603701.0006', 'dbSNP:rs2574975', 'OMIM:602574.0004', 'dbSNP:rs17713676', 'OMIM:602140.0002', 'OMIM:603400.0008', 'OMIM:603517.0001', 'OMIM:170280.0009', 'OMIM:152790.0007', 'OMIM:601011.0029', 'OMIM:164731.0002', 'OMIM:608507.0002', 'OMIM:602536.0002', 'dbSNP:rs3775182', 'OMIM:613893.0001', 'OMIM:603089.0003', 'OMIM:603531.0001', 'OMIM:605145.0012', 'OMIM:134934.0031', 'dbSNP:rs117941090', 'OMIM:138040.0013', 'OMIM:180072.0004', 'OMIM:100690.0001', 'OMIM:604149.0005', 'OMIM:147570.0001', 'OMIM:601094.0004', 'OMIM:613715.0001', 'OMIM:606609.0008', 'OMIM:613597.0002', 'OMIM:609245.0001', 'OMIM:602235.0004', 'OMIM:605525.0005', 'OMIM:607423.0005', 'OMIM:107680.0008', 'OMIM:134850.0004', 'OMIM:608990.0006', 'OMIM:185470.0020', 'OMIM:600291.0002', 'OMIM:300746.0039', 'OMIM:173335.0012', 'OMIM:607261.0005', 'OMIM:100725.0005', 'OMIM:164761.0027', 'OMIM:606869.0029', 'OMIM:613766.0001', 'OMIM:611062.0002', 'OMIM:601269.0002', 'OMIM:136470.0001', 'OMIM:608662.0009', 'OMIM:603590.0005', 'OMIM:148760.0003', 'OMIM:608786.0001', 'OMIM:607839.0009', 'OMIM:601145.0001', 'OMIM:164017.0002', 'OMIM:602631.0001', 'OMIM:602671.0008', 'OMIM:150310.0009', 'OMIM:601218.0004', 'OMIM:603107.0002', 'OMIM:120120.0013', 'OMIM:606870.0003', 'OMIM:609186.0002', 'dbSNP:rs10772420', 'OMIM:300300.0050', 'OMIM:141800.0092', 'OMIM:608414.0003', 'dbSNP:rs12660691', 'OMIM:604124.0001', 'OMIM:605452.0006', 'OMIM:190182.0018', 'OMIM:150325.0002', 'ClinVarVariant:562150', 'OMIM:312865.0011', 'dbSNP:rs11904006', 'OMIM:150292.0005', 'OMIM:609346.0001', 'OMIM:147683.0001', 'OMIM:191045.0007', 'OMIM:300205.0005', 'OMIM:108730.0002', 'OMIM:608034.0010', 'OMIM:602177.0004', 'OMIM:601757.0001', 'OMIM:605565.0001', 'OMIM:238331.0013', 'OMIM:608736.0005', 'OMIM:602346.0007', 'OMIM:600555.0026', 'OMIM:603527.0005', 'OMIM:300481.0016', 'OMIM:601269.0003', 'OMIM:133171.0007', 'OMIM:600414.0001', 'OMIM:600111.0002', 'OMIM:607860.0007', 'OMIM:605740.0003', 'OMIM:607904.0002', 'OMIM:603647.0008', 'OMIM:607379.0012', 'OMIM:603254.0012', 'OMIM:610178.0006', 'OMIM:614589.0006', 'OMIM:602631.0002', 'OMIM:612850.0002', 'OMIM:602421.0025', 'OMIM:606373.0001', 'OMIM:309850.0001', 'OMIM:602337.0007', 'OMIM:607854.0019', 'OMIM:612915.0001', 'OMIM:191740.0019', 'OMIM:608348.0007', 'OMIM:607892.0001', 'OMIM:612186.0007', 'OMIM:107773.0001', 'OMIM:102576.0008', 'OMIM:605755.0005', 'OMIM:602257.0003', 'OMIM:150320.0004', 'OMIM:603401.0003', 'OMIM:134797.0028', 'OMIM:601243.0003', 'OMIM:608305.0003', 'OMIM:185535.0008', 'OMIM:300072.0008', 'ClinVarVariant:982529', 'OMIM:607027.0002', 'OMIM:613437.0003', 'OMIM:608382.0001', 'OMIM:611409.0007', 'OMIM:136351.0009', 'OMIM:108740.0013', 'OMIM:300304.0005', 'OMIM:614218.0002', 'OMIM:188840.0016', 'OMIM:606666.0001', 'dbSNP:rs875125', 'OMIM:605516.0004', 'OMIM:601421.0004', 'OMIM:612724.0004', 'OMIM:611632.0001', 'OMIM:603273.0008', 'OMIM:607575.0009', 'OMIM:610285.0001', 'OMIM:165240.0011', 'OMIM:180380.0018', 'OMIM:602322.0002', 'OMIM:114019.0003', 'OMIM:615370.0004', 'OMIM:613609.0006', 'OMIM:107300.0009', 'OMIM:608151.0002', 'OMIM:105850.0010', 'OMIM:604488.0003', 'OMIM:178642.0001', 'OMIM:611611.0001', 'OMIM:609653.0002', 'OMIM:602229.0010', 'OMIM:305900.0020', 'OMIM:138090.0004', 'OMIM:605313.0002', 'OMIM:138079.0001', 'OMIM:610142.0006', 'OMIM:605420.0011', 'OMIM:601107.0002', 'OMIM:147569.0001', 'OMIM:154870.0002', 'OMIM:606718.0003', 'OMIM:609413.0002', 'OMIM:100720.0010', 'OMIM:300384.0001', 'OMIM:609300.0034', 'OMIM:612647.0006', 'OMIM:603337.0003', 'OMIM:136352.0002', 'OMIM:614064.0005', 'OMIM:605629.0003', 'OMIM:141800.0126', 'OMIM:164757.0016', 'OMIM:164920.0012', 'OMIM:123590.0004', 'OMIM:129010.0001', 'ClinVarVariant:48088', 'OMIM:600928.0001', 'dbSNP:rs76273496', 'OMIM:614041.0005', 'OMIM:300644.0042', 'OMIM:191110.0002', 'OMIM:601421.0009', 'OMIM:606530.0009', 'OMIM:605325.0001', 'OMIM:173470.0013', 'OMIM:113705.0028', 'OMIM:168468.0004', 'OMIM:114182.0005', 'OMIM:610453.0004', 'dbSNP:rs8015861', 'OMIM:147265.0001', 'OMIM:601896.0001', 'OMIM:138890.0002', 'OMIM:605000.0003', 'OMIM:300356.0004', 'OMIM:180380.0016', 'OMIM:612392.0003', 'OMIM:613218.0001', 'OMIM:608455.0003', 'dbSNP:rs3758785', 'OMIM:602053.0002', 'OMIM:313700.0047', 'OMIM:161650.0010', 'OMIM:133530.0015', 'OMIM:607998.0007', 'OMIM:516050.0005', 'OMIM:610957.0002', 'OMIM:600939.0001', 'OMIM:300392.0008', 'OMIM:608455.0006', 'OMIM:136850.0002', 'OMIM:601622.0014', 'OMIM:600890.0005', 'OMIM:602432.0001', 'OMIM:602983.0003', 'OMIM:612757.0007', 'OMIM:614603.0003', 'OMIM:607566.0001', 'OMIM:604569.0008', 'OMIM:600827.0003', 'OMIM:300746.0014', 'OMIM:188040.0005', 'OMIM:602090.0002', 'OMIM:142200.0026', 'OMIM:300377.0022', 'OMIM:613815.0026', 'OMIM:603796.0001', 'OMIM:300451.0001', 'OMIM:606350.0002', 'OMIM:600839.0003', 'OMIM:217030.0008', 'OMIM:603824.0011', 'OMIM:601215.0004', 'OMIM:606351.0006', 'OMIM:604373.0008', 'OMIM:600179.0016', 'OMIM:601478.0005', 'OMIM:601920.0011', 'OMIM:607144.0001', 'OMIM:133530.0014', 'OMIM:300715.0009', 'OMIM:612360.0003', 'OMIM:603851.0007', 'OMIM:600185.0005', 'OMIM:603892.0008', 'OMIM:607830.0006', 'OMIM:192090.0006', 'OMIM:603507.0006', 'OMIM:300826.0007', 'OMIM:600528.0003', 'OMIM:602280.0003', 'OMIM:603851.0001', 'OMIM:607759.0017', 'OMIM:608537.0009', 'OMIM:604819.0001', 'OMIM:600555.0019', 'OMIM:147730.0007', 'OMIM:516030.0004', 'OMIM:613349.0032', 'OMIM:601692.0003', 'OMIM:603650.0002', 'OMIM:606454.0003', 'OMIM:610513.0003', 'OMIM:601465.0010', 'OMIM:300841.0011', 'OMIM:300746.0083', 'OMIM:309550.0005', 'OMIM:613583.0013', 'OMIM:300841.0009', 'dbSNP:rs116934648', 'OMIM:613397.0001', 'OMIM:308000.0006', 'OMIM:605634.0001', 'OMIM:190195.0019', 'ClinVarVariant:226486', 'OMIM:617531.0001', 'OMIM:600993.0004', 'OMIM:606726.0004', 'OMIM:148760.0011', 'OMIM:605290.0017', 'OMIM:300377.0065', 'OMIM:607212.0001', 'OMIM:600958.0020', 'OMIM:611061.0008', 'OMIM:300374.0001', 'OMIM:590050.0007', 'OMIM:300841.0096', 'OMIM:615054.0003', 'OMIM:610826.0007', 'OMIM:609145.0002', 'OMIM:606597.0008', 'OMIM:603593.0011', 'OMIM:606544.0001', 'OMIM:561000.0007', 'OMIM:603089.0010', 'OMIM:120130.0017', 'OMIM:607462.0002', 'OMIM:120900.0002', 'OMIM:613114.0003', 'OMIM:617558.0003', 'OMIM:118661.0005', 'OMIM:611731.0037', 'OMIM:604096.0003', 'OMIM:604319.0003', 'OMIM:600129.0005', 'OMIM:114010.0003', 'OMIM:118504.0004', 'OMIM:126455.0006', 'dbSNP:rs10202497', 'OMIM:142622.0002', 'OMIM:180901.0018', 'dbSNP:rs2288884', 'OMIM:606384.0001', 'OMIM:613872.0004', 'OMIM:176801.0009', 'OMIM:608047.0002', 'OMIM:606210.0002', 'OMIM:300197.0001', 'OMIM:109270.0010', 'OMIM:602643.0006', 'OMIM:300307.0008', 'OMIM:612012.0003', 'OMIM:300356.0005', 'OMIM:604366.0003', 'OMIM:606869.0025', 'OMIM:300036.0006', 'OMIM:605481.0005', 'OMIM:606718.0007', 'OMIM:180901.0017', 'OMIM:601623.0008', 'OMIM:300017.0025', 'OMIM:605646.0018', 'OMIM:614949.0004', 'OMIM:604242.0003', 'OMIM:313700.0034', 'dbSNP:rs17650998', 'OMIM:608160.0020', 'OMIM:603009.0015', 'OMIM:609787.0007', 'ClinVarVariant:220007', 'OMIM:167415.0008', 'OMIM:612256.0003', 'OMIM:155760.0015', 'OMIM:607854.0008', 'ClinVarVariant:615901', 'dbSNP:rs7116879', 'OMIM:606945.0013', 'OMIM:601898.0002', 'OMIM:601248.0006', 'OMIM:602365.0014', 'OMIM:300644.0031', 'OMIM:603868.0004', 'OMIM:157140.0023', 'OMIM:182390.0019', 'OMIM:300841.0055', 'OMIM:185881.0003', 'OMIM:191740.0015', 'OMIM:276000.0002', 'OMIM:608151.0006', 'OMIM:609458.0007', 'OMIM:607462.0006', 'OMIM:603196.0007', 'OMIM:604142.0003', 'OMIM:603517.0014', 'OMIM:604546.0001', 'dbSNP:rs184392414', 'OMIM:606062.0002', 'OMIM:600179.0004', 'OMIM:616120.0002', 'OMIM:611951.0003', 'ClinVarVariant:622831', 'ClinVarVariant:27347', 'OMIM:150330.0020', 'OMIM:613890.0007', 'OMIM:608877.0002', 'OMIM:617817.0003', 'OMIM:133530.0001', 'OMIM:603377.0023', 'OMIM:606800.0005', 'OMIM:607892.0006', 'OMIM:141900.0327', 'OMIM:601002.0003', 'OMIM:603066.0002', 'OMIM:609390.0013', 'dbSNP:rs12188716', 'OMIM:607643.0001', 'OMIM:601873.0001', 'OMIM:610622.0002', 'OMIM:107690.0002', 'OMIM:605881.0001', 'OMIM:603639.0001', 'OMIM:601282.0013', 'OMIM:603808.0002', 'OMIM:177400.0006', 'OMIM:176300.0042', 'ClinVarVariant:105287', 'OMIM:607985.0003', 'OMIM:606869.0014', 'OMIM:606397.0003', 'OMIM:147265.0005', 'OMIM:300839.0002', 'dbSNP:rs438475', 'OMIM:602302.0007', 'OMIM:176740.0001', 'OMIM:607574.0015', 'OMIM:188830.0017', 'OMIM:606765.0013', 'OMIM:608125.0003', 'OMIM:616432.0004', 'OMIM:601218.0003', 'OMIM:600456.0004', 'OMIM:613715.0006', 'OMIM:602421.0075', 'OMIM:600712.0003', 'OMIM:615320.0004', 'OMIM:607809.0012', 'OMIM:609014.0008', 'OMIM:602658.0005', 'OMIM:314200.0008', 'ClinVarVariant:70215', 'ClinVarVariant:242468', 'OMIM:600119.0006', 'OMIM:610575.0002', 'OMIM:609435.0002', 'OMIM:176610.0004', 'OMIM:173910.0005', 'OMIM:274180.0001', 'OMIM:300808.0009', 'OMIM:609479.0005', 'OMIM:115501.0003', 'OMIM:602109.0003', 'dbSNP:rs10810790', 'OMIM:610624.0002', 'OMIM:608205.0002', 'OMIM:608040.0001', 'OMIM:603381.0004', 'OMIM:107580.0007', 'OMIM:133430.0004', 'OMIM:605984.0002', 'OMIM:612358.0001', 'OMIM:612570.0001', 'OMIM:300746.0045', 'OMIM:606869.0048', 'OMIM:601253.0016', 'OMIM:125647.0010', 'OMIM:612801.0006', 'OMIM:300256.0006', 'OMIM:600749.0002', 'OMIM:612386.0013', 'OMIM:609502.0003', 'OMIM:601802.0003', 'OMIM:300841.0232', 'OMIM:120150.0015', 'OMIM:138140.0008', 'OMIM:608041.0002', 'OMIM:617485.0001', 'OMIM:601758.0008', 'OMIM:600470.0002', 'OMIM:603197.0015', 'OMIM:607035.0001', 'OMIM:138079.0002', 'OMIM:611060.0007', 'OMIM:118423.0001', 'OMIM:164730.0001', 'OMIM:605824.0003', 'OMIM:188840.0018', 'OMIM:608124.0003', 'OMIM:615870.0001', 'OMIM:217050.0006', 'OMIM:610942.0001', 'OMIM:607386.0014', 'OMIM:609058.0006', 'OMIM:605483.0003', 'OMIM:171900.0009', 'OMIM:173335.0013', 'OMIM:164770.0010', 'OMIM:616423.0002', 'OMIM:165215.0002', 'OMIM:172100.0005', 'OMIM:606210.0001', 'OMIM:313700.0037', 'OMIM:607386.0008', 'OMIM:300104.0003', 'OMIM:602858.0003', 'OMIM:601498.0005', 'OMIM:167790.0001', 'OMIM:605461.0002', 'OMIM:603850.0011', 'dbSNP:rs11762096', 'OMIM:170280.0001', 'OMIM:608517.0002', 'OMIM:608435.0003', 'OMIM:164050.0004', 'OMIM:600301.0007', 'OMIM:600734.0005', 'OMIM:171833.0001', 'OMIM:601972.0002', 'OMIM:615620.0002', 'OMIM:141850.0038', 'OMIM:604447.0003', 'OMIM:612277.0005', 'dbSNP:rs5820435', 'OMIM:300142.0005', 'OMIM:180380.0034', 'ClinVarVariant:954612', 'OMIM:600515.0002', 'OMIM:603474.0003', 'OMIM:606598.0014', 'OMIM:134797.0061', 'OMIM:232050.0005', 'OMIM:176640.0019', 'OMIM:300841.0028', 'OMIM:134797.0058', 'dbSNP:rs12412836', 'ClinVarVariant:70475', 'OMIM:120150.0029', 'OMIM:142640.0003', 'OMIM:606439.0014', 'OMIM:141900.0225', 'OMIM:613278.0003', 'OMIM:612971.0003', 'OMIM:314370.0005', 'OMIM:141800.0066', 'OMIM:102582.0009', 'OMIM:600799.0023', 'OMIM:605712.0002', 'OMIM:606440.0001', 'OMIM:607871.0002', 'OMIM:184757.0007', 'ClinVarVariant:13683', 'OMIM:600678.0017', 'OMIM:600943.0002', 'OMIM:601253.0004', 'OMIM:164008.0007', 'OMIM:601439.0001', 'OMIM:603850.0009', 'OMIM:600935.0001', 'OMIM:176880.0003', 'OMIM:300300.0021', 'OMIM:601621.0002', 'OMIM:309060.0007', 'OMIM:610652.0002', 'OMIM:141850.0022', 'OMIM:607574.0019', 'OMIM:137070.0011', 'OMIM:604024.0004', 'OMIM:311770.0006', 'OMIM:602119.0007', 'ClinVarVariant:208723', 'OMIM:142000.0004', 'OMIM:109535.0003', 'OMIM:141900.0363', 'OMIM:164760.0006', 'OMIM:184757.0008', 'dbSNP:rs56247223', 'OMIM:614423.0001', 'ClinVarVariant:404145', 'OMIM:607144.0008', 'OMIM:300746.0084', 'OMIM:600857.0007', 'OMIM:613165.0008', 'ClinVarVariant:660157', 'OMIM:120180.0019', 'OMIM:603297.0013', 'OMIM:601488.0006', 'OMIM:141900.0528', 'OMIM:604616.0006', 'ClinVarVariant:268097', 'OMIM:610053.0005', 'OMIM:609225.0001', 'OMIM:180721.0001', 'OMIM:602382.0003', 'OMIM:142983.0005', 'OMIM:602821.0001', 'OMIM:616174.0004', 'OMIM:192090.0012', 'OMIM:606945.0064', 'OMIM:615003.0008', 'OMIM:607840.0008', 'OMIM:142410.0008', 'OMIM:611409.0009', 'OMIM:605522.0006', 'OMIM:152790.0026', 'OMIM:138079.0010', 'OMIM:154550.0003', 'OMIM:276903.0016', 'OMIM:300658.0005', 'OMIM:606869.0013', 'OMIM:614667.0004', 'OMIM:609910.0002', 'OMIM:311850.0014', 'OMIM:601762.0001', 'OMIM:167790.0003', 'OMIM:607544.0007', 'OMIM:120240.0017', 'OMIM:141850.0074', 'OMIM:138750.0001', 'OMIM:600450.0001', 'OMIM:608177.0004', 'OMIM:109535.0001', 'OMIM:103600.0014', 'OMIM:601573.0003', 'OMIM:605452.0004', 'OMIM:601928.0003', 'dbSNP:rs399885', 'OMIM:122720.0005', 'OMIM:300644.0016', 'dbSNP:rs9878522', 'OMIM:610916.0001', 'OMIM:191190.0005', 'OMIM:174762.0003', 'OMIM:614041.0017', 'OMIM:613446.0004', 'OMIM:601771.0004', 'OMIM:602821.0002', 'OMIM:600993.0001', 'OMIM:602716.0007', 'OMIM:605754.0003', 'OMIM:601693.0001', 'OMIM:603767.0001', 'ClinVarVariant:637569', 'OMIM:608400.0003', 'OMIM:142989.0001', 'OMIM:605522.0002', 'OMIM:131244.0008', 'OMIM:600163.0012', 'OMIM:600011.0011', 'OMIM:606882.0025', 'OMIM:176640.0006', 'OMIM:134820.0005', 'OMIM:180380.0028', 'OMIM:609802.0003', 'OMIM:600112.0002', 'OMIM:176267.0005', 'OMIM:300269.0002', 'OMIM:605546.0004', 'OMIM:610110.0002', 'OMIM:608416.0009', 'OMIM:603604.0009', 'OMIM:603623.0001', 'OMIM:606885.0005', 'ClinVarVariant:28984', 'OMIM:300841.0131', 'OMIM:141800.0161', 'OMIM:603650.0004', 'OMIM:616283.0002', 'OMIM:606945.0048', 'OMIM:611423.0003', 'OMIM:190080.0003', 'OMIM:604766.0009', 'OMIM:616027.0002', 'OMIM:613733.0005', 'OMIM:601097.0012', 'OMIM:600574.0005', 'OMIM:601620.0003', 'OMIM:139320.0037', 'OMIM:610855.0002', 'OMIM:608507.0006', 'OMIM:300841.0143', 'OMIM:600702.0008', 'OMIM:609708.0012', 'OMIM:617782.0002', 'OMIM:167416.0001', 'OMIM:601975.0002', 'OMIM:184429.0007', 'OMIM:136350.0019', 'OMIM:300766.0001', 'OMIM:120110.0018', 'OMIM:115441.0003', 'OMIM:609831.0004', 'OMIM:604383.0003', 'OMIM:180380.0036', 'OMIM:134934.0011', 'OMIM:609937.0001', 'OMIM:603658.0002', 'OMIM:600781.0001', 'OMIM:608547.0008', 'OMIM:604134.0011', 'OMIM:607490.0003', 'OMIM:607574.0047', 'OMIM:179605.0013', 'OMIM:600160.0001', 'OMIM:191740.0011', 'OMIM:300746.0096', 'OMIM:600727.0002', 'OMIM:611482.0002', 'OMIM:606419.0004', 'OMIM:607063.0012', 'OMIM:605874.0002', 'OMIM:606725.0012', 'OMIM:608832.0001', 'OMIM:604110.0008', 'OMIM:611430.0004', 'OMIM:608177.0001', 'OMIM:609309.0018', 'OMIM:141800.0045', 'OMIM:116896.0002', 'OMIM:605646.0029', 'OMIM:180072.0003', 'OMIM:160794.0002', 'OMIM:608663.0001', 'OMIM:157660.0019', 'OMIM:603867.0001', 'OMIM:605078.0013', 'OMIM:191170.0029', 'OMIM:615292.0003', 'OMIM:300267.0001', 'OMIM:300841.0129', 'OMIM:607839.0001', 'OMIM:191170.0031', 'OMIM:113811.0008', 'dbSNP:rs7975754', 'OMIM:300841.0215', 'OMIM:609690.0006', 'OMIM:613621.0004', 'OMIM:614620.0014', 'OMIM:309550.0002', 'OMIM:190182.0006', 'OMIM:601653.0015', 'OMIM:613171.0005', 'OMIM:150240.0004', 'OMIM:617619.0006', 'dbSNP:rs72791791', 'OMIM:601614.0001', 'OMIM:141900.0177', 'OMIM:614295.0002', 'OMIM:607118.0002', 'OMIM:609831.0001', 'OMIM:602109.0002', 'OMIM:600287.0004', 'OMIM:300394.0006', 'OMIM:188830.0009', 'OMIM:612309.0002', 'OMIM:300823.0011', 'OMIM:174762.0004', 'ClinVarVariant:20745', 'OMIM:612186.0006', 'OMIM:600229.0002', 'OMIM:300169.0013', 'OMIM:605010.0003', 'OMIM:600725.0009', 'OMIM:610467.0001', 'OMIM:600574.0007', 'OMIM:602421.0026', 'OMIM:606933.0018', 'OMIM:614366.0007', 'OMIM:607512.0003', 'OMIM:152427.0024', 'OMIM:603100.0002', 'OMIM:603024.0001', 'ClinVarVariant:227509', 'OMIM:602576.0003', 'dbSNP:rs1432364', 'OMIM:192150.0005', 'OMIM:609948.0004', 'OMIM:600939.0003', 'OMIM:613218.0002', 'OMIM:602377.0005', 'OMIM:308840.0016', 'OMIM:165640.0005', 'OMIM:607207.0007', 'OMIM:154545.0001', 'OMIM:605518.0003', 'OMIM:185535.0002', 'OMIM:607545.0003', 'ClinVarVariant:225545', 'OMIM:609309.0020', 'OMIM:300035.0005', 'OMIM:300079.0008', 'OMIM:601728.0017', 'OMIM:120110.0017', 'OMIM:608210.0012', 'ClinVarVariant:242390', 'OMIM:131222.0004', 'OMIM:100725.0021', 'OMIM:604720.0003', 'OMIM:603708.0004', 'OMIM:131243.0001', 'OMIM:607999.0002', 'OMIM:607027.0004', 'OMIM:590025.0004', 'OMIM:609791.0001', 'OMIM:171060.0001', 'OMIM:611119.0003', 'OMIM:300126.0008', 'OMIM:176300.0039', 'OMIM:189907.0005', 'OMIM:139350.0001', 'OMIM:613113.0001', 'ClinVarVariant:47856', 'OMIM:300644.0021', 'ClinVarVariant:975889', 'OMIM:602274.0005', 'OMIM:142000.0040', 'OMIM:172471.0001', 'OMIM:603123.0006', 'OMIM:603754.0002', 'OMIM:602424.0001', 'OMIM:300658.0021', 'OMIM:124030.0003', 'OMIM:603324.0012', 'OMIM:188450.0017', 'ClinVarVariant:225230', 'OMIM:300350.0002', 'OMIM:120160.0033', 'OMIM:618304.0001', 'OMIM:602229.0013', 'OMIM:138246.0005', 'OMIM:114208.0007', 'ClinVarVariant:262765', 'OMIM:300836.0009', 'OMIM:165360.0001', 'OMIM:603339.0006', 'ClinVarVariant:6996', 'OMIM:141800.0190', 'OMIM:185620.0015', 'OMIM:134790.0017', 'OMIM:187270.0013', 'OMIM:300823.0006', 'OMIM:142830.0001', 'OMIM:605518.0005', 'OMIM:602775.0001', 'OMIM:114020.0002', 'OMIM:603273.0025', 'OMIM:300644.0018', 'OMIM:114182.0002', 'ClinVarVariant:577270', 'dbSNP:rs17382202', 'OMIM:601728.0015', 'OMIM:605906.0006', 'OMIM:600853.0001', 'OMIM:603644.0002', 'OMIM:608877.0003', 'OMIM:604506.0006', 'OMIM:300502.0001', 'OMIM:613872.0003', 'OMIM:607805.0007', 'OMIM:134638.0002', 'OMIM:141800.0130', 'OMIM:608713.0003', 'ClinVarVariant:237479', 'OMIM:300746.0060', 'OMIM:300356.0002', 'OMIM:612990.0003', 'OMIM:600374.0002', 'OMIM:605109.0002', 'OMIM:611776.0002', 'OMIM:601421.0013', 'OMIM:300913.0001', 'OMIM:148066.0009', 'OMIM:107776.0001', 'dbSNP:rs138870727', 'OMIM:606603.0004', 'OMIM:120150.0045', 'OMIM:609302.0001', 'OMIM:602421.0065', 'OMIM:613798.0004', 'OMIM:176947.0003', 'OMIM:190181.0011', 'OMIM:130410.0002', 'OMIM:617048.0004', 'OMIM:606273.0005', 'OMIM:610804.0007', 'OMIM:131195.0008', 'OMIM:608713.0004', 'OMIM:601199.0009', 'OMIM:603057.0004', 'OMIM:118502.0002', 'OMIM:607108.0019', 'OMIM:609390.0005', 'OMIM:141850.0005', 'OMIM:602421.0080', 'OMIM:605597.0008', 'OMIM:600890.0009', 'OMIM:314200.0016', 'OMIM:176830.0005', 'OMIM:191350.0002', 'OMIM:179605.0003', 'ClinVarVariant:550442', 'OMIM:610206.0002', 'OMIM:189907.0008', 'OMIM:601205.0003', 'OMIM:617218.0005', 'OMIM:602290.0004', 'OMIM:300350.0005', 'OMIM:605031.0002', 'OMIM:142410.0020', 'OMIM:601094.0001', 'OMIM:604592.0003', 'OMIM:607070.0004', 'OMIM:173490.0005', 'OMIM:120240.0009', 'OMIM:611204.0002', 'OMIM:137192.0007', 'OMIM:610613.0002', 'OMIM:611458.0012', 'OMIM:608829.0001', 'OMIM:300841.0087', 'OMIM:611140.0001', 'OMIM:600725.0011', 'OMIM:126420.0001', 'OMIM:300841.0263', 'ClinVarVariant:429025', 'OMIM:147245.0002', 'ClinVarVariant:14333', 'OMIM:141800.0131', 'OMIM:171833.0003', 'OMIM:607900.0005', 'OMIM:602136.0001', 'OMIM:605978.0009', 'OMIM:612082.0001', 'OMIM:604544.0009', 'OMIM:613360.0004', 'OMIM:608897.0003', 'OMIM:180380.0042', 'OMIM:608667.0013', 'OMIM:615950.0002', 'OMIM:618128.0002', 'dbSNP:rs4712953', 'OMIM:138250.0006', 'OMIM:617558.0007', 'OMIM:602346.0005', 'OMIM:190180.0001', 'OMIM:602839.0002', 'OMIM:187270.0003', 'OMIM:610661.0008', 'OMIM:605651.0003', 'OMIM:604605.0001', 'OMIM:606860.0016', 'OMIM:601460.0006', 'OMIM:141800.0127', 'OMIM:600179.0008', 'OMIM:603305.0003', 'OMIM:610911.0002', 'OMIM:182380.0002', 'OMIM:102540.0006', 'OMIM:607929.0005', 'OMIM:107910.0007', 'OMIM:600681.0009', 'OMIM:134637.0004', 'OMIM:601199.0006', 'OMIM:614041.0027', 'OMIM:188250.0005', 'OMIM:141900.0122', 'OMIM:147670.0004', 'OMIM:601411.0003', 'OMIM:618980.0003', 'OMIM:611672.0004', 'OMIM:300379.0004', 'OMIM:606268.0012', 'OMIM:606558.0006', 'dbSNP:rs2732614', 'OMIM:108740.0008', 'OMIM:603701.0003', 'OMIM:609390.0001', 'OMIM:602421.0109', 'OMIM:604834.0009', 'OMIM:602748.0002', 'OMIM:162662.0003', 'OMIM:607542.0030', 'OMIM:190160.0032', 'OMIM:605983.0002', 'OMIM:615910.0001', 'OMIM:614064.0003', 'OMIM:602593.0002', 'OMIM:603517.0002', 'OMIM:604896.0009', 'ClinVarVariant:1272', 'OMIM:176640.0014', 'dbSNP:rs35681285', 'OMIM:609262.0002', 'OMIM:604653.0008', 'OMIM:601248.0003', 'OMIM:300502.0023', 'OMIM:610819.0002', 'OMIM:176710.0001', 'OMIM:164785.0001', 'OMIM:613009.0003', 'OMIM:300538.0012', 'ClinVarVariant:68985', 'OMIM:606636.0007', 'OMIM:113505.0001', 'OMIM:150330.0029', 'OMIM:300841.0175', 'OMIM:616254.0001', 'OMIM:608002.0007', 'OMIM:148760.0004', 'OMIM:190040.0002', 'OMIM:613160.0003', 'OMIM:603942.0006', 'dbSNP:rs59234479', 'OMIM:185620.0011', 'OMIM:142000.0046', 'OMIM:613920.0001', 'OMIM:611254.0005', 'OMIM:601991.0006', 'OMIM:616097.0001', 'OMIM:603191.0005', 'OMIM:601687.0002', 'OMIM:611223.0001', 'OMIM:612346.0001', 'OMIM:605921.0010', 'OMIM:615549.0001', 'OMIM:605356.0003', 'OMIM:600946.0031', 'OMIM:141900.0474', 'OMIM:176892.0001', 'OMIM:182870.0012', 'OMIM:606882.0009', 'OMIM:604418.0004', 'OMIM:600923.0003', 'OMIM:606045.0003', 'OMIM:610083.0003', 'OMIM:134830.0013', 'OMIM:605880.0006', 'OMIM:601771.0013', 'OMIM:613715.0004', 'OMIM:612358.0003', 'dbSNP:rs10996604', 'OMIM:147520.0005', 'OMIM:602690.0017', 'OMIM:102630.0002', 'OMIM:601515.0002', 'OMIM:609806.0045', 'OMIM:117143.0001', 'OMIM:601758.0004', 'ClinVarVariant:214540', 'OMIM:609010.0006', 'dbSNP:rs12198063', 'OMIM:604611.0009', 'OMIM:612732.0008', 'OMIM:191160.0001', 'OMIM:134820.0019', 'OMIM:300391.0003', 'OMIM:608005.0001', 'OMIM:605511.0002', 'OMIM:602244.0001', 'OMIM:606584.0003', 'OMIM:609831.0013', 'OMIM:609196.0004', 'OMIM:606158.0010', 'OMIM:602091.0011', 'OMIM:608348.0003', 'dbSNP:rs317806442', 'OMIM:110750.0001', 'OMIM:191092.0013', 'ClinVarVariant:429329', 'OMIM:609144.0002', 'OMIM:102610.0011', 'OMIM:602346.0008', 'OMIM:606158.0005', 'OMIM:613785.0001', 'OMIM:606075.0011', 'OMIM:100720.0011', 'OMIM:605566.0001', 'OMIM:180069.0005', 'OMIM:188830.0005', 'OMIM:191170.0012', 'OMIM:604313.0004', 'OMIM:607008.0009', 'OMIM:601728.0022', 'OMIM:612803.0011', 'OMIM:616661.0002', 'OMIM:611655.0004', 'OMIM:603848.0002', 'ClinVarVariant:631972', 'OMIM:613276.0001', 'OMIM:603921.0005', 'OMIM:610528.0007', 'OMIM:603029.0004', 'OMIM:609708.0041', 'dbSNP:rs1247769', 'OMIM:614245.0007', 'OMIM:602235.0007', 'OMIM:300008.0003', 'OMIM:300460.0008', 'OMIM:613665.0004', 'OMIM:605564.0001', 'OMIM:606725.0003', 'OMIM:113705.0001', 'OMIM:604210.0012', 'OMIM:613019.0001', 'OMIM:604373.0003', 'dbSNP:rs9364562', 'OMIM:604457.0004', 'OMIM:609188.0001', 'OMIM:601253.0015', 'dbSNP:rs242942', 'OMIM:601146.0013', 'OMIM:607817.0003', 'OMIM:608107.0003', 'OMIM:614232.0008', 'OMIM:606989.0008', 'OMIM:607709.0008', 'OMIM:601542.0006', 'OMIM:164761.0049', 'OMIM:300035.0010', 'OMIM:613653.0006', 'OMIM:612724.0003', 'OMIM:604873.0002', 'ClinVarVariant:584326', 'OMIM:604322.0006', 'OMIM:601105.0001', 'OMIM:603330.0003', 'OMIM:601065.0003', 'OMIM:606869.0058', 'OMIM:603647.0010', 'OMIM:606962.0003', 'OMIM:252800.0012', 'OMIM:300453.0004', 'OMIM:120215.0002', 'OMIM:154045.0002', 'dbSNP:rs12957214', 'OMIM:604975.0004', 'OMIM:605593.0001', 'OMIM:608958.0011', 'OMIM:118955.0006', 'OMIM:120180.0029', 'OMIM:610982.0011', 'OMIM:606882.0008', 'OMIM:606596.0013', 'OMIM:300371.0010', 'OMIM:605047.0001', 'dbSNP:rs61750222', 'OMIM:603868.0010', 'OMIM:612349.0041', 'OMIM:603967.0023', 'OMIM:614789.0003', 'OMIM:176260.0010', 'OMIM:613666.0007', 'OMIM:154550.0001', 'OMIM:608160.0007', 'OMIM:300394.0013', 'OMIM:182125.0003', 'OMIM:604024.0002', 'OMIM:604546.0002', 'OMIM:300841.0113', 'OMIM:106165.0004', 'OMIM:141900.0461', 'OMIM:601011.0034', 'OMIM:605802.0002', 'OMIM:607542.0028', 'OMIM:603937.0004', 'ClinVarVariant:430337', 'OMIM:606580.0003', 'OMIM:134637.0020', 'OMIM:603504.0005', 'OMIM:600958.0015', 'OMIM:600185.0009', 'OMIM:605925.0013', 'OMIM:618255.0001', 'OMIM:606890.0001', 'OMIM:164014.0001', 'OMIM:313700.0055', 'OMIM:609883.0005', 'OMIM:300311.0003', 'OMIM:113811.0003', 'OMIM:164015.0001', 'ClinVarVariant:580641', 'dbSNP:rs7614981', 'OMIM:604285.0001', 'OMIM:605906.0001', 'OMIM:604506.0004', 'OMIM:601011.0032', 'OMIM:607844.0010', 'ClinVarVariant:242637', 'OMIM:612026.0002', 'OMIM:610745.0009', 'OMIM:614505.0002', 'OMIM:300535.0004', 'OMIM:607009.0006', 'OMIM:613666.0002', 'OMIM:610957.0001', 'OMIM:131242.0001', 'OMIM:610513.0005', 'OMIM:606478.0004', 'OMIM:173110.0013', 'OMIM:613785.0005', 'OMIM:614297.0006', 'OMIM:606374.0002', 'OMIM:190195.0032', 'dbSNP:rs145215398', 'OMIM:612222.0004', 'OMIM:300163.0016', 'OMIM:610991.0005', 'OMIM:313430.0003', 'OMIM:606933.0015', 'OMIM:141900.0395', 'OMIM:176943.0020', 'OMIM:609797.0005', 'OMIM:601478.0004', 'OMIM:601617.0006', 'OMIM:300142.0002', 'OMIM:612453.0005', 'OMIM:600724.0003', 'dbSNP:rs4949715', 'OMIM:616830.0002', 'OMIM:601728.0030', 'OMIM:190198.0002', 'OMIM:602959.0003', 'OMIM:107300.0045', 'OMIM:602859.0005', 'OMIM:613619.0002', 'OMIM:616101.0003', 'OMIM:607968.0007', 'OMIM:607939.0011', 'OMIM:300629.0002', 'OMIM:605380.0002', 'OMIM:104311.0013', 'OMIM:608201.0004', 'OMIM:606323.0009', 'OMIM:602142.0001', 'OMIM:616663.0001', 'OMIM:147670.0017', 'OMIM:606869.0005', 'ClinVarVariant:484614', 'OMIM:603107.0001', 'OMIM:108370.0008', 'OMIM:300005.0030', 'OMIM:300008.0010', 'OMIM:610355.0009', 'ClinVarVariant:34010', 'OMIM:613228.0006', 'OMIM:141800.0088', 'OMIM:601652.0005', 'OMIM:138680.0002', 'OMIM:174762.0001', 'OMIM:139250.0017', 'OMIM:604366.0004', 'OMIM:610436.0005', 'OMIM:300647.0008', 'OMIM:176880.0005', 'OMIM:608374.0004', 'OMIM:608761.0005', 'OMIM:600824.0003', 'OMIM:158378.0005', 'OMIM:601592.0005', 'OMIM:610284.0002', 'OMIM:603506.0015', 'OMIM:138130.0005', 'OMIM:617631.0001', 'OMIM:609826.0006', 'OMIM:607838.0002', 'OMIM:604569.0002', 'OMIM:147670.0022', 'OMIM:616979.0001', 'OMIM:157655.0001', 'ClinVarVariant:19332', 'OMIM:606224.0010', 'OMIM:602767.0002', 'OMIM:602851.0007', 'OMIM:176640.0012', 'OMIM:146690.0004', 'OMIM:615302.0001', 'OMIM:138470.0005', 'OMIM:608480.0002', 'OMIM:603295.0004', 'OMIM:608537.0034', 'OMIM:100690.0012', 'OMIM:612453.0003', 'OMIM:601199.0005', 'OMIM:600759.0006', 'OMIM:605120.0003', 'OMIM:608441.0016', 'OMIM:605363.0004', 'OMIM:300142.0004', 'OMIM:160775.0015', 'OMIM:191840.0002', 'OMIM:607939.0006', 'OMIM:602302.0016', 'OMIM:603370.0007', 'OMIM:613213.0003', 'OMIM:601253.0019', 'OMIM:147781.0003', 'OMIM:600220.0005', 'OMIM:611951.0004', 'OMIM:120436.0012', 'OMIM:113810.0003', 'OMIM:150330.0046', 'OMIM:603967.0028', 'OMIM:177060.0001', 'OMIM:142000.0008', 'OMIM:611605.0002', 'OMIM:617273.0001', 'OMIM:180380.0043', 'OMIM:300841.0077', 'OMIM:602931.0006', 'OMIM:606453.0004', 'OMIM:610453.0013', 'OMIM:606412.0010', 'OMIM:300629.0001', 'OMIM:300777.0003', 'OMIM:610087.0006', 'ClinVarVariant:364260', 'OMIM:308000.0017', 'OMIM:137150.0008', 'OMIM:615743.0002', 'OMIM:601758.0001', 'OMIM:606765.0005', 'OMIM:609868.0005', 'OMIM:133430.0007', 'OMIM:600225.0020', 'OMIM:190195.0030', 'OMIM:609506.0015', 'dbSNP:rs9580312', 'OMIM:191160.0006', 'OMIM:605290.0021', 'OMIM:611715.0001', 'OMIM:311850.0020', 'OMIM:605880.0010', 'OMIM:606598.0012', 'ClinVarVariant:2900', 'OMIM:609390.0015', 'OMIM:138140.0015', 'OMIM:301300.0002', 'OMIM:114240.0001', 'OMIM:159350.0001', 'OMIM:616082.0002', 'OMIM:116896.0005', 'OMIM:608374.0009', 'OMIM:600825.0002', 'OMIM:125647.0008', 'OMIM:159530.0003', 'OMIM:600326.0002', 'OMIM:609280.0007', 'OMIM:112205.0001', 'OMIM:608414.0004', 'OMIM:612958.0001', 'OMIM:612732.0005', 'OMIM:120120.0020', 'dbSNP:rs11216614', 'OMIM:600185.0027', 'OMIM:312180.0003', 'OMIM:601011.0002', 'OMIM:613733.0034', 'OMIM:611592.0009', 'dbSNP:rs144481999', 'OMIM:158378.0002', 'OMIM:617828.0001', 'OMIM:607983.0005', 'OMIM:300646.0001', 'OMIM:138971.0001', 'OMIM:616454.0004', 'OMIM:120328.0005', 'ClinVarVariant:245688', 'OMIM:602421.0083', 'OMIM:600163.0030', 'OMIM:156560.0006', 'OMIM:608892.0002', 'OMIM:590045.0007', 'dbSNP:rs67487380', 'OMIM:604720.0005', 'OMIM:136350.0013', 'OMIM:602296.0003', 'OMIM:613230.0002', 'OMIM:601785.0010', 'OMIM:612515.0003', 'OMIM:134797.0036', 'OMIM:602529.0002', 'OMIM:141900.0232', 'OMIM:142600.0001', 'OMIM:165240.0004', 'OMIM:601617.0007', 'OMIM:608201.0009', 'OMIM:613183.0002', 'OMIM:300611.0005', 'OMIM:180430.0003', 'OMIM:606639.0002', 'OMIM:601691.0016', 'OMIM:617491.0003', 'OMIM:300757.0001', 'OMIM:176980.0011', 'OMIM:601288.0002', 'OMIM:602780.0011', 'OMIM:300017.0013', 'ClinVarVariant:28187', 'OMIM:126064.0005', 'OMIM:190040.0006', 'OMIM:610326.0002', 'OMIM:604272.0004', 'OMIM:605078.0004', 'OMIM:276000.0005', 'OMIM:102620.0008', 'OMIM:107323.0009', 'OMIM:607844.0004', 'OMIM:602292.0006', 'OMIM:601893.0008', 'OMIM:604161.0004', 'ClinVarVariant:543885', 'OMIM:600827.0009', 'OMIM:600993.0002', 'OMIM:608892.0011', 'OMIM:177075.0006', 'OMIM:107680.0007', 'dbSNP:rs1060061', 'OMIM:113811.0001', 'OMIM:604188.0004', 'OMIM:612418.0001', 'OMIM:610804.0003', 'OMIM:300473.0003', 'OMIM:191311.0002', 'OMIM:606822.0008', 'dbSNP:rs6992848', 'OMIM:601129.0002', 'OMIM:602858.0019', 'OMIM:120130.0012', 'OMIM:120320.0003', 'OMIM:136435.0012', 'OMIM:133520.0009', 'OMIM:238300.0001', 'dbSNP:rs12527429', 'OMIM:615187.0005', 'OMIM:300096.0002', 'OMIM:604878.0005', 'OMIM:300160.0011', 'dbSNP:rs7495052', 'OMIM:191845.0005', 'OMIM:606362.0001', 'dbSNP:rs59325236', 'OMIM:607800.0001', 'OMIM:602744.0001', 'OMIM:609720.0001', 'OMIM:186357.0002', 'OMIM:114208.0001', 'OMIM:180072.0005', 'OMIM:120130.0002', 'OMIM:613927.0003', 'OMIM:186973.0003', 'OMIM:616441.0001', 'OMIM:120120.0015', 'OMIM:612666.0005', 'OMIM:304040.0016', 'OMIM:603883.0002', 'ClinVarVariant:613414', 'dbSNP:rs1061235', 'OMIM:300403.0003', 'OMIM:602727.0004', 'OMIM:607542.0039', 'OMIM:114010.0001', 'OMIM:308000.0056', 'OMIM:611140.0006', 'ClinVarVariant:185713', 'OMIM:614191.0006', 'ClinVarVariant:244084', 'OMIM:609188.0003', 'OMIM:600185.0017', 'OMIM:300060.0003', 'OMIM:608201.0002', 'OMIM:152790.0010', 'OMIM:607407.0004', 'OMIM:300610.0002', 'OMIM:604896.0005', 'OMIM:601368.0003', 'OMIM:138249.0005', 'OMIM:601011.0015', 'OMIM:120110.0012', 'OMIM:601607.0005', 'OMIM:147557.0006', 'ClinVarVariant:951799', 'OMIM:615781.0002', 'OMIM:606834.0006', 'OMIM:614088.0001', 'OMIM:179605.0019', 'OMIM:608465.0006', 'OMIM:608603.0006', 'OMIM:613878.0022', 'OMIM:137070.0010', 'OMIM:602090.0003', 'OMIM:600937.0021', 'OMIM:602695.0001', 'OMIM:611421.0005', 'OMIM:607542.0041', 'OMIM:615730.0004', 'OMIM:141800.0175', 'OMIM:611124.0009', 'OMIM:608285.0004', 'dbSNP:rs73087860', 'OMIM:608489.0002', 'OMIM:606463.0034', 'OMIM:137960.0001', 'OMIM:603714.0010', 'dbSNP:rs76191705', 'OMIM:120140.0016', 'OMIM:604134.0022', 'OMIM:611351.0001', 'OMIM:607139.0003', 'OMIM:612051.0001', 'OMIM:110300.0001', 'OMIM:608000.0002', 'OMIM:604734.0003', 'OMIM:612078.0004', 'OMIM:600761.0001', 'OMIM:141850.0062', 'OMIM:601743.0005', 'OMIM:602109.0005', 'OMIM:611258.0002', 'OMIM:613401.0001', 'OMIM:607878.0008', 'OMIM:611725.0005', 'dbSNP:rs57083985', 'OMIM:300011.0011', 'OMIM:610528.0005', 'ClinVarVariant:613416', 'OMIM:608845.0003', 'OMIM:613878.0024', 'OMIM:615585.0003', 'OMIM:604975.0001', 'OMIM:167416.0005', 'OMIM:300572.0002', 'OMIM:107680.0011', 'OMIM:300013.0008', 'dbSNP:rs2748297', 'OMIM:609862.0012', 'OMIM:604649.0005', 'OMIM:613165.0002', 'dbSNP:rs12446319', 'ClinVarVariant:981623', 'OMIM:613629.0008', 'OMIM:605414.0002', 'OMIM:120580.0004', 'OMIM:603808.0005', 'OMIM:141800.0166', 'OMIM:613160.0029', 'OMIM:606060.0003', 'OMIM:108961.0006', 'OMIM:605497.0009', 'OMIM:123859.0005', 'OMIM:608614.0004', 'dbSNP:rs3765753', 'OMIM:136352.0003', 'OMIM:146933.0001', 'OMIM:182870.0010', 'OMIM:181031.0001', 'OMIM:604523.0002', 'OMIM:611282.0001', 'OMIM:609575.0002', 'OMIM:601011.0004', 'OMIM:147557.0015', 'OMIM:607709.0006', 'ClinVarVariant:76962', 'OMIM:614232.0001', 'OMIM:606879.0002', 'OMIM:600650.0003', 'OMIM:603667.0002', 'OMIM:300157.0003', 'OMIM:603258.0001', 'OMIM:603372.0015', 'OMIM:603258.0003', 'OMIM:614270.0002', 'OMIM:602480.0001', 'OMIM:600232.0003', 'OMIM:607059.0010', 'OMIM:607261.0009', 'OMIM:609701.0016', 'OMIM:609413.0017', 'OMIM:612895.0001', 'OMIM:601192.0001', 'OMIM:608181.0001', 'OMIM:142200.0003', 'OMIM:300836.0003', 'OMIM:615115.0002', 'OMIM:607542.0042', 'OMIM:601656.0011', 'OMIM:602194.0006', 'OMIM:607059.0009', 'OMIM:164860.0005', 'OMIM:173110.0009', 'OMIM:608628.0004', 'OMIM:600163.0021', 'OMIM:610453.0005', 'OMIM:300206.0002', 'OMIM:184757.0001', 'OMIM:600509.0014', 'dbSNP:rs12229918', 'OMIM:611655.0006', 'OMIM:606351.0003', 'OMIM:604237.0005', 'OMIM:155541.0015', 'OMIM:132810.0003', 'OMIM:192090.0008', 'OMIM:608222.0001', 'OMIM:180472.0003', 'OMIM:611332.0009', 'OMIM:603503.0003', 'OMIM:613113.0008', 'OMIM:608167.0005', 'OMIM:601090.0002', 'ClinVarVariant:637200', 'OMIM:609728.0003', 'OMIM:607809.0001', 'OMIM:600887.0001', 'OMIM:608884.0001', 'OMIM:610456.0001', 'OMIM:600827.0001', 'OMIM:606425.0002', 'OMIM:610206.0015', 'OMIM:602194.0005', 'OMIM:607063.0004', 'OMIM:606834.0007', 'OMIM:604436.0005', 'dbSNP:rs1956529', 'OMIM:609607.0002', 'OMIM:607215.0006', 'OMIM:613138.0008', 'OMIM:605481.0003', 'OMIM:610142.0001', 'OMIM:602322.0003', 'OMIM:606202.0002', 'OMIM:173470.0016', 'OMIM:308000.0052', 'OMIM:612048.0004', 'OMIM:120920.0006', 'OMIM:117143.0002', 'OMIM:190182.0016', 'OMIM:602690.0027', 'OMIM:160760.0001', 'OMIM:603560.0001', 'OMIM:600702.0003', 'OMIM:102575.0006', 'OMIM:601604.0001', 'OMIM:611101.0001', 'OMIM:102600.0005', 'OMIM:612349.0040', 'OMIM:157129.0006', 'OMIM:603824.0003', 'OMIM:608547.0004', 'OMIM:606202.0009', 'dbSNP:rs363512', 'OMIM:606837.0001', 'OMIM:156570.0004', 'dbSNP:rs140546855', 'OMIM:610648.0001', 'OMIM:142983.0001', 'OMIM:136430.0002', 'OMIM:604616.0001', 'OMIM:612994.0003', 'OMIM:607838.0003', 'OMIM:615951.0002', 'OMIM:616715.0004', 'OMIM:612283.0017', 'dbSNP:rs1393902', 'OMIM:150330.0036', 'OMIM:300392.0006', 'OMIM:606463.0010', 'OMIM:141900.0263', 'OMIM:604616.0002', 'OMIM:612418.0005', 'OMIM:300658.0020', 'OMIM:171834.0017', 'OMIM:164730.0003', 'OMIM:600465.0002', 'OMIM:184757.0014', 'OMIM:601623.0006', 'OMIM:178620.0001', 'OMIM:615587.0001', 'OMIM:605202.0006', 'OMIM:604134.0010', 'OMIM:164757.0020', 'OMIM:165360.0010', 'OMIM:610881.0003', 'OMIM:600937.0002', 'OMIM:300005.0023', 'OMIM:516030.0008', 'OMIM:602774.0002', 'OMIM:600783.0001', 'ClinVarVariant:543888', 'OMIM:603584.0008', 'OMIM:605744.0001', 'OMIM:607788.0007', 'OMIM:606686.0007', 'OMIM:173335.0006', 'OMIM:603109.0007', 'OMIM:154950.0002', 'OMIM:608170.0006', 'OMIM:157655.0004', 'OMIM:611574.0003', 'OMIM:600799.0005', 'OMIM:305900.0033', 'OMIM:612395.0003', 'OMIM:300457.0008', 'ClinVarVariant:8361', 'OMIM:600617.0013', 'dbSNP:rs2256816', 'OMIM:606540.0006', 'OMIM:134370.0023', 'OMIM:600185.0029', 'OMIM:141900.0348', 'OMIM:300255.0003', 'OMIM:603647.0013', 'OMIM:613609.0007', 'OMIM:603690.0004', 'OMIM:601719.0009', 'OMIM:603945.0012', 'OMIM:601498.0006', 'OMIM:134570.0005', 'OMIM:606397.0009', 'OMIM:607306.0002', 'OMIM:613301.0002', 'OMIM:604165.0001', 'OMIM:185535.0005', 'OMIM:607206.0002', 'OMIM:608700.0009', 'OMIM:616054.0001', 'ClinVarVariant:468666', 'OMIM:300746.0029', 'OMIM:604907.0005', 'OMIM:602201.0007', 'OMIM:176915.0001', 'OMIM:613742.0004', 'OMIM:618424.0005', 'OMIM:604733.0007', 'OMIM:601918.0001', 'OMIM:608307.0004', 'OMIM:164761.0014', 'OMIM:300646.0003', 'OMIM:616261.0005', 'OMIM:139311.0001', 'OMIM:602544.0010', 'OMIM:605712.0006', 'OMIM:157660.0014', 'ClinVarVariant:853319', 'OMIM:607690.0003', 'OMIM:601093.0001', 'OMIM:609868.0004', 'OMIM:134850.0006', 'ClinVarVariant:427590', 'OMIM:612458.0003', 'OMIM:121014.0024', 'OMIM:602063.0005', 'dbSNP:rs1471786', 'OMIM:610982.0005', 'ClinVarVariant:242382', 'OMIM:160781.0002', 'OMIM:182870.0002', 'OMIM:125645.0002', 'OMIM:605232.0005', 'OMIM:164757.0011', 'ClinVarVariant:536542', 'OMIM:615423.0001', 'OMIM:613381.0017', 'OMIM:300841.0001', 'OMIM:603197.0002', 'OMIM:607439.0007', 'OMIM:602026.0005', 'OMIM:617782.0008', 'OMIM:605010.0008', 'OMIM:148066.0013', 'OMIM:192090.0019', 'OMIM:609701.0010', 'OMIM:120150.0022', 'OMIM:109270.0021', 'OMIM:607102.0018', 'OMIM:176880.0006', 'OMIM:613622.0003', 'OMIM:120436.0001', 'OMIM:606418.0002', 'OMIM:613666.0005', 'OMIM:606597.0003', 'OMIM:178620.0008', 'OMIM:607215.0001', 'OMIM:601607.0004', 'OMIM:607063.0011', 'OMIM:603297.0020', 'OMIM:602533.0005', 'OMIM:606808.0003', 'OMIM:600266.0001', 'OMIM:602421.0066', 'OMIM:600944.0004', 'OMIM:609802.0005', 'OMIM:602346.0010', 'OMIM:617095.0001', 'OMIM:601065.0002', 'OMIM:138210.0008', 'OMIM:610881.0002', 'OMIM:300715.0010', 'OMIM:138280.0001', 'OMIM:607664.0003', 'OMIM:603371.0007', 'OMIM:607839.0015', 'OMIM:141900.0024', 'OMIM:602293.0003', 'OMIM:612243.0002', 'OMIM:131244.0007', 'OMIM:137035.0001', 'OMIM:602519.0002', 'OMIM:312610.0004', 'OMIM:609507.0002', 'OMIM:609300.0013', 'OMIM:604588.0007', 'OMIM:612373.0001', 'OMIM:601653.0014', 'OMIM:601664.0003', 'OMIM:605078.0008', 'OMIM:613018.0006', 'OMIM:176880.0010', 'OMIM:120150.0058', 'OMIM:614506.0008', 'OMIM:300294.0003', 'OMIM:601757.0009', 'OMIM:605242.0009', 'OMIM:611345.0005', 'ClinVarVariant:425651', 'OMIM:610552.0006', 'OMIM:606933.0001', 'OMIM:616646.0002', 'ClinVarVariant:546448', 'OMIM:300163.0010', 'OMIM:600536.0001', 'OMIM:300005.0019', 'OMIM:120180.0007', 'OMIM:602397.0002', 'OMIM:604544.0011', 'OMIM:120520.0002', 'OMIM:107741.0014', 'OMIM:617618.0003', 'OMIM:108740.0002', 'OMIM:300095.0009', 'OMIM:104311.0023', 'OMIM:609769.0003', 'OMIM:107300.0042', 'OMIM:606127.0002', 'OMIM:602700.0001', 'OMIM:607199.0016', 'OMIM:193067.0005', 'OMIM:600958.0009', 'OMIM:120180.0039', 'OMIM:603506.0027', 'OMIM:141900.0384', 'OMIM:516000.0015', 'OMIM:607809.0003', 'OMIM:120320.0001', 'OMIM:602048.0003', 'OMIM:142000.0017', 'dbSNP:rs6778131', 'OMIM:618735.0005', 'OMIM:611204.0003', 'OMIM:612029.0004', 'OMIM:602104.0007', 'OMIM:190220.0003', 'OMIM:114240.0007', 'OMIM:176943.0009', 'OMIM:607117.0005', 'OMIM:603377.0008', 'OMIM:164761.0035', 'OMIM:190020.0010', 'OMIM:610863.0001', 'OMIM:613278.0001', 'OMIM:602744.0004', 'OMIM:603557.0001', 'OMIM:188450.0010', 'OMIM:120180.0035', 'OMIM:103600.0036', 'OMIM:602662.0003', 'OMIM:103710.0003', 'ClinVarVariant:468725', 'OMIM:601769.0015', 'OMIM:600599.0006', 'OMIM:606718.0015', 'OMIM:300090.0002', 'OMIM:607379.0006', 'OMIM:601837.0005', 'OMIM:607261.0002', 'OMIM:604283.0007', 'OMIM:300515.0001', 'OMIM:600310.0001', 'OMIM:165220.0003', 'OMIM:605205.0001', 'OMIM:605018.0010', 'OMIM:141900.0463', 'OMIM:138130.0006', 'OMIM:611805.0001', 'OMIM:607585.0003', 'dbSNP:rs12262926', 'OMIM:601309.0017', 'OMIM:616406.0004', 'OMIM:607386.0017', 'OMIM:608990.0007', 'OMIM:607009.0009', 'OMIM:606241.0001', 'OMIM:164920.0010', 'ClinVarVariant:375326', 'OMIM:600266.0002', 'OMIM:614138.0002', 'OMIM:608374.0005', 'OMIM:126420.0002', 'OMIM:614232.0011', 'OMIM:190020.0002', 'OMIM:120160.0035', 'OMIM:604277.0012', 'OMIM:300017.0006', 'OMIM:607805.0006', 'OMIM:601877.0001', 'OMIM:300169.0011', 'dbSNP:rs12582168', 'OMIM:612676.0001', 'OMIM:180071.0002', 'OMIM:605145.0003', 'OMIM:104260.0001', 'OMIM:300808.0010', 'OMIM:603506.0025', 'OMIM:613381.0013', 'OMIM:141900.0222', 'OMIM:314990.0003', 'OMIM:601023.0011', 'ClinVarVariant:375328', 'OMIM:190182.0010', 'OMIM:103710.0002', 'OMIM:616213.0007', 'OMIM:606478.0011', 'OMIM:516020.0010', 'OMIM:605294.0007', 'OMIM:602274.0002', 'OMIM:604579.0005', 'OMIM:607207.0012', 'OMIM:107730.0012', 'OMIM:601253.0006', 'OMIM:614041.0028', 'OMIM:603150.0002', 'OMIM:300398.0002', 'OMIM:603464.0001', 'OMIM:134797.0048', 'OMIM:609024.0003', 'OMIM:615291.0006', 'OMIM:612034.0004', 'OMIM:602216.0012', 'OMIM:617094.0001', 'OMIM:610055.0001', 'OMIM:602421.0040', 'dbSNP:rs587776825', 'OMIM:610681.0008', 'OMIM:603835.0002', 'OMIM:113730.0001', 'OMIM:113811.0009', 'OMIM:312173.0005', 'OMIM:606994.0001', 'OMIM:605775.0007', 'OMIM:607008.0013', 'OMIM:601769.0001', 'dbSNP:rs1994969', 'OMIM:614404.0001', 'OMIM:613733.0026', 'OMIM:606157.0009', 'OMIM:609390.0003', 'OMIM:608830.0007', 'OMIM:590060.0004', 'OMIM:300017.0018', 'OMIM:604436.0006', 'OMIM:607805.0002', 'OMIM:606869.0034', 'OMIM:606158.0007', 'OMIM:603816.0001', 'OMIM:603930.0003', 'ClinVarVariant:477517', 'OMIM:606151.0002', 'OMIM:603474.0001', 'OMIM:152790.0022', 'OMIM:300473.0007', 'OMIM:152427.0006', 'OMIM:604459.0001', 'OMIM:300841.0239', 'OMIM:139185.0002', 'OMIM:120280.0001', 'OMIM:612349.0007', 'OMIM:126375.0002', 'ClinVarVariant:36290', 'OMIM:605651.0002', 'OMIM:607783.0004', 'OMIM:609708.0038', 'OMIM:612325.0006', 'OMIM:170993.0005', 'OMIM:606352.0014', 'OMIM:147450.0022', 'OMIM:601313.0014', 'OMIM:605981.0001', 'OMIM:612349.0055', 'OMIM:608892.0009', 'OMIM:102579.0001', 'OMIM:190230.0002', 'OMIM:605290.0006', 'dbSNP:rs34003787', 'OMIM:605896.0010', 'OMIM:610595.0005', 'OMIM:182307.0003', 'OMIM:603824.0001', 'OMIM:608461.0002', 'OMIM:141800.0041', 'OMIM:308840.0017', 'OMIM:604488.0004', 'OMIM:607939.0010', 'OMIM:602537.0002', 'OMIM:160741.0001', 'OMIM:602635.0015', 'OMIM:126065.0002', 'OMIM:600928.0003', 'OMIM:604101.0004', 'OMIM:142600.0003', 'OMIM:610739.0001', 'OMIM:609118.0005', 'OMIM:300535.0009', 'OMIM:185470.0021', 'OMIM:600354.0008', 'OMIM:120328.0011', 'OMIM:173110.0012', 'OMIM:602293.0004', 'OMIM:176300.0027', 'OMIM:164950.0007', 'OMIM:300188.0003', 'ClinVarVariant:937262', 'OMIM:616658.0001', 'OMIM:114078.0009', 'OMIM:613349.0003', 'OMIM:140581.0001', 'OMIM:601299.0006', 'dbSNP:rs314150542', 'OMIM:611386.0005', 'OMIM:141900.0073', 'OMIM:604277.0003', 'OMIM:602063.0003', 'OMIM:150340.0006', 'OMIM:604322.0003', 'OMIM:603073.0005', 'OMIM:612659.0001', 'ClinVarVariant:49442', 'OMIM:129190.0002', 'OMIM:600301.0002', 'OMIM:135600.0005', 'OMIM:602130.0001', 'OMIM:605514.0004', 'OMIM:142857.0002', 'ClinVarVariant:186561', 'OMIM:614459.0002', 'OMIM:617362.0005', 'OMIM:614888.0001', 'OMIM:614366.0008', 'OMIM:608896.0003', 'OMIM:604712.0002', 'OMIM:613084.0005', 'OMIM:611408.0003', 'OMIM:603324.0004', 'OMIM:605290.0022', 'OMIM:601309.0009', 'OMIM:614232.0010', 'OMIM:612013.0003', 'OMIM:612411.0004', 'OMIM:603941.0010', 'OMIM:602421.0107', 'OMIM:300248.0006', 'OMIM:604270.0010', 'OMIM:126452.0001', 'OMIM:184429.0019', 'OMIM:139250.0018', 'OMIM:600682.0005', 'OMIM:608537.0022', 'OMIM:114835.0002', 'OMIM:605515.0003', 'ClinVarVariant:216040', 'OMIM:609806.0011', 'ClinVarVariant:214379', 'OMIM:104311.0004', 'OMIM:613529.0004', 'OMIM:616982.0003', 'OMIM:603184.0004', 'OMIM:148066.0001', 'OMIM:604705.0005', 'OMIM:600804.0003', 'OMIM:300841.0156', 'OMIM:182389.0022', 'OMIM:147020.0005', 'OMIM:615720.0002', 'OMIM:617342.0002', 'OMIM:142250.0017', 'OMIM:601728.0044', 'OMIM:139250.0015', 'OMIM:603051.0001', 'OMIM:606598.0015', 'OMIM:609539.0004', 'OMIM:605270.0010', 'OMIM:120140.0003', 'OMIM:606879.0009', 'OMIM:176880.0012', 'ClinVarVariant:835404', 'OMIM:603073.0003', 'OMIM:609825.0006', 'OMIM:107470.0001', 'OMIM:164014.0002', 'OMIM:612907.0006', 'OMIM:611140.0004', 'OMIM:300481.0007', 'OMIM:605950.0001', 'OMIM:600364.0001', 'OMIM:607059.0001', 'OMIM:602926.0006', 'OMIM:609588.0004', 'OMIM:176640.0028', 'OMIM:609019.0003', 'OMIM:614334.0001', 'OMIM:601740.0002', 'OMIM:134370.0014', 'OMIM:300161.0004', 'OMIM:107400.0035', 'OMIM:300461.0017', 'OMIM:608944.0006', 'OMIM:600370.0003', 'OMIM:609708.0021', 'OMIM:107930.0006', 'OMIM:167415.0005', 'OMIM:606980.0002', 'OMIM:606119.0001', 'OMIM:601652.0011', 'OMIM:300836.0005', 'OMIM:176930.0011', 'OMIM:300204.0001', 'dbSNP:rs12470785', 'OMIM:162030.0002', 'OMIM:609059.0002', 'OMIM:602225.0007', 'OMIM:607379.0017', 'OMIM:516006.0002', 'OMIM:607878.0005', 'OMIM:177400.0016', 'OMIM:602054.0002', 'OMIM:607070.0006', 'OMIM:182390.0013', 'OMIM:608944.0005', 'OMIM:610230.0003', 'OMIM:606860.0003', 'OMIM:314200.0005', 'OMIM:609607.0003', 'OMIM:607207.0016', 'OMIM:614982.0007', 'OMIM:605284.0003', 'ClinVarVariant:477498', 'OMIM:612316.0004', 'OMIM:600185.0013', 'OMIM:300550.0001', 'OMIM:610534.0003', 'OMIM:613893.0003', 'OMIM:606229.0002', 'OMIM:601288.0005', 'OMIM:154235.0005', 'OMIM:303630.0008', 'OMIM:609884.0001', 'OMIM:616254.0006', 'OMIM:300394.0008', 'OMIM:606938.0013', 'OMIM:617558.0010', 'OMIM:190040.0004', 'OMIM:609018.0009', 'ClinVarVariant:850600', 'OMIM:607139.0011', 'OMIM:607759.0003', 'OMIM:603400.0010', 'OMIM:610670.0003', 'OMIM:614982.0011', 'OMIM:607365.0003', 'OMIM:114078.0004', 'OMIM:130130.0007', 'OMIM:617687.0002', 'OMIM:600839.0007', 'OMIM:606598.0004', 'OMIM:120940.0004', 'OMIM:601724.0003', 'OMIM:190181.0009', 'OMIM:608815.0004', 'OMIM:100850.0002', 'OMIM:610624.0004', 'OMIM:107680.0023', 'OMIM:611549.0003', 'OMIM:603499.0001', 'OMIM:605145.0010', 'OMIM:600555.0001', 'OMIM:606151.0008', 'OMIM:134570.0006', 'OMIM:603652.0004', 'OMIM:100720.0002', 'OMIM:611153.0007', 'OMIM:603005.0008', 'OMIM:187270.0011', 'ClinVarVariant:801771', 'OMIM:602821.0012', 'OMIM:601013.0004', 'OMIM:616112.0006', 'OMIM:609332.0006', 'OMIM:603729.0008', 'OMIM:137167.0003', 'OMIM:190070.0001', 'OMIM:180901.0029', 'OMIM:614505.0001', 'OMIM:133530.0009', 'dbSNP:rs149128771', 'OMIM:190195.0008', 'OMIM:602544.0009', 'OMIM:171900.0005', 'OMIM:608270.0003', 'OMIM:300017.0007', 'OMIM:148040.0016', 'OMIM:612107.0002', 'OMIM:602170.0001', 'OMIM:607840.0006', 'OMIM:603506.0007', 'OMIM:617362.0003', 'OMIM:118485.0007', 'OMIM:603400.0009', 'OMIM:164874.0001', 'OMIM:108370.0002', 'OMIM:602671.0006', 'OMIM:616506.0002', 'OMIM:188040.0003', 'OMIM:607102.0012', 'OMIM:300839.0004', 'OMIM:141900.0475', 'OMIM:147450.0006', 'OMIM:605452.0010', 'OMIM:610226.0002', 'OMIM:174762.0007', 'OMIM:300356.0008', 'OMIM:303631.0002', 'OMIM:603371.0001', 'OMIM:614232.0009', 'OMIM:611577.0002', 'OMIM:300189.0003', 'OMIM:300522.0003', 'OMIM:602671.0012', 'OMIM:613397.0002', 'dbSNP:rs790006', 'OMIM:610236.0002', 'OMIM:308000.0029', 'OMIM:603390.0004', 'OMIM:604277.0016', 'OMIM:605481.0002', 'OMIM:300757.0005', 'OMIM:604032.0003', 'OMIM:606224.0001', 'OMIM:217070.0008', 'ClinVarVariant:680082', 'OMIM:610219.0004', 'OMIM:314850.0004', 'OMIM:160760.0010', 'OMIM:600160.0009', 'OMIM:305371.0011', 'OMIM:603370.0001', 'OMIM:608151.0008', 'OMIM:143450.0006', 'OMIM:120140.0029', 'OMIM:300392.0023', 'OMIM:604933.0002', 'OMIM:614982.0018', 'OMIM:601107.0009', 'OMIM:138253.0012', 'OMIM:608944.0003', 'OMIM:601757.0003', 'OMIM:141850.0004', 'OMIM:120120.0041', 'OMIM:603499.0006', 'OMIM:107910.0004', 'OMIM:618260.0002', 'OMIM:113811.0013', 'OMIM:251170.0014', 'dbSNP:rs1144815', 'OMIM:607490.0001', 'OMIM:601604.0006', 'OMIM:608555.0003', 'OMIM:180901.0008', 'OMIM:606105.0002', 'OMIM:612392.0007', 'OMIM:613350.0007', 'OMIM:603861.0006', 'OMIM:120150.0049', 'OMIM:607273.0014', 'OMIM:604277.0005', 'OMIM:613742.0005', 'OMIM:141900.0125', 'OMIM:611935.0005', 'OMIM:601860.0011', 'OMIM:605060.0002', 'OMIM:601728.0025', 'OMIM:602690.0028', 'OMIM:182310.0007', 'OMIM:601273.0001', 'OMIM:600163.0029', 'OMIM:173510.0003', 'dbSNP:rs12598355', 'OMIM:104311.0028', 'OMIM:300110.0002', 'OMIM:604188.0002', 'OMIM:300392.0012', 'OMIM:602357.0002', 'OMIM:172100.0004', 'OMIM:300377.0008', 'OMIM:300278.0006', 'OMIM:609353.0005', 'OMIM:600556.0001', 'OMIM:606945.0067', 'OMIM:308840.0003', 'OMIM:605420.0003', 'ClinVarVariant:242423', 'OMIM:180071.0005', 'OMIM:120140.0025', 'OMIM:607915.0002', 'OMIM:618413.0002', 'OMIM:608894.0001', 'OMIM:611715.0005', 'OMIM:600229.0004', 'OMIM:607574.0020', 'OMIM:603384.0006', 'OMIM:300841.0133', 'OMIM:615787.0001', 'OMIM:603381.0011', 'OMIM:602880.0004', 'OMIM:614776.0001', 'OMIM:100850.0009', 'OMIM:611254.0009', 'OMIM:609695.0001', 'OMIM:603506.0035', 'OMIM:139350.0003', 'OMIM:115501.0004', 'OMIM:608515.0006', 'OMIM:120150.0046', 'OMIM:605239.0004', 'OMIM:609708.0016', 'ClinVarVariant:667418', 'OMIM:614452.0001', 'OMIM:611720.0001', 'OMIM:605420.0006', 'OMIM:300292.0010', 'OMIM:615003.0005', 'OMIM:610206.0011', 'OMIM:615317.0001', 'OMIM:120436.0032', 'OMIM:614463.0001', 'OMIM:139340.0002', 'OMIM:600287.0007', 'dbSNP:rs795484', 'OMIM:136350.0010', 'OMIM:141900.0241', 'OMIM:102750.0003', 'OMIM:186711.0002', 'OMIM:142200.0007', 'OMIM:601652.0006', 'OMIM:171834.0019', 'OMIM:600253.0001', 'OMIM:604982.0005', 'OMIM:607532.0006', 'OMIM:606829.0008', 'OMIM:603297.0015', 'OMIM:121011.0029', 'OMIM:116897.0006', 'OMIM:114180.0002', 'OMIM:616646.0001', 'OMIM:607900.0006', 'OMIM:151460.0002', 'OMIM:300841.0176', 'OMIM:602498.0002', 'OMIM:608893.0005', 'OMIM:612283.0025', 'dbSNP:rs216013', 'OMIM:606967.0018', 'ClinVarVariant:18706', 'OMIM:305900.0010', 'OMIM:603690.0006', 'OMIM:164761.0026', 'OMIM:613799.0001', 'OMIM:176943.0033', 'OMIM:137192.0001', 'OMIM:614351.0005', 'OMIM:150310.0019', 'OMIM:609237.0007', 'OMIM:120160.0052', 'OMIM:123610.0002', 'OMIM:600899.0003', 'OMIM:608201.0001', 'OMIM:606195.0001', 'OMIM:133520.0012', 'OMIM:300013.0002', 'OMIM:617782.0012', 'OMIM:607108.0025', 'OMIM:609245.0005', 'OMIM:608002.0004', 'OMIM:610178.0002', 'OMIM:600985.0004', 'OMIM:602397.0001', 'OMIM:607690.0006', 'OMIM:605522.0020', 'OMIM:300546.0010', 'OMIM:120120.0019', 'OMIM:480000.0013', 'OMIM:617413.0001', 'OMIM:601653.0009', 'OMIM:617220.0003', 'OMIM:182389.0019', 'dbSNP:rs62078811', 'OMIM:134820.0002', 'OMIM:605427.0031', 'OMIM:608537.0033', 'dbSNP:rs12658330', 'OMIM:300189.0002', 'OMIM:614297.0010', 'OMIM:300481.0009', 'OMIM:606118.0007', 'OMIM:603345.0003', 'OMIM:607182.0001', 'OMIM:609523.0002', 'OMIM:612414.0003', 'OMIM:167790.0005', 'OMIM:131390.0001', 'OMIM:120150.0004', 'OMIM:300039.0004', 'OMIM:191160.0002', 'dbSNP:rs73028070', 'OMIM:190181.0003', 'OMIM:312610.0015', 'OMIM:120650.0001', 'OMIM:157660.0002', 'OMIM:605755.0004', 'OMIM:165640.0003', 'OMIM:607306.0008', 'OMIM:606945.0016', 'OMIM:147670.0027', 'OMIM:607386.0005', 'dbSNP:rs12903325', 'OMIM:606241.0013', 'OMIM:154550.0005', 'OMIM:300226.0004', 'OMIM:607545.0001', 'OMIM:606245.0001', 'OMIM:605754.0006', 'OMIM:600617.0012', 'OMIM:610172.0007', 'OMIM:611458.0023', 'OMIM:116806.0022', 'OMIM:607854.0018', 'OMIM:141900.0148', 'OMIM:613847.0001', 'dbSNP:rs438034', 'OMIM:134370.0021', 'OMIM:607904.0006', 'OMIM:300502.0021', 'OMIM:617880.0001', 'OMIM:163731.0001', 'OMIM:617424.0003', 'dbSNP:rs3758079', 'OMIM:165230.0009', 'OMIM:300392.0005', 'OMIM:604619.0007', 'OMIM:606953.0004', 'OMIM:137192.0003', 'OMIM:300836.0012', 'OMIM:610453.0003', 'dbSNP:rs2992257', 'OMIM:305900.0022', 'dbSNP:rs3858526', 'OMIM:601146.0008', 'OMIM:107470.0007', 'OMIM:158378.0009', 'OMIM:102610.0013', 'OMIM:160775.0008', 'OMIM:602635.0014', 'OMIM:610089.0002', 'OMIM:610982.0002', 'OMIM:601445.0001', 'OMIM:134797.0035', 'OMIM:608707.0001', 'OMIM:604395.0008', 'dbSNP:rs13338060', 'OMIM:176260.0012', 'dbSNP:rs7105881', 'OMIM:605131.0008', 'OMIM:605522.0001', 'OMIM:602983.0001', 'OMIM:103180.0003', 'OMIM:600733.0008', 'OMIM:603381.0015', 'OMIM:600855.0003', 'OMIM:607844.0007', 'OMIM:139360.0001', 'OMIM:604260.0004', 'OMIM:604734.0001', 'OMIM:150341.0006', 'OMIM:606480.0005', 'OMIM:148080.0012', 'OMIM:604638.0002', 'dbSNP:rs2696961', 'OMIM:616454.0001', 'OMIM:601806.0003', 'OMIM:300766.0003', 'OMIM:607358.0011', 'OMIM:609413.0011', 'OMIM:118494.0001', 'OMIM:190040.0007', 'OMIM:116805.0003', 'OMIM:300384.0010', 'OMIM:151443.0006', 'OMIM:607042.0003', 'OMIM:300658.0009', 'OMIM:300017.0029', 'OMIM:191311.0003', 'OMIM:604237.0001', 'ClinVarVariant:70465', 'OMIM:156560.0008', 'OMIM:600985.0006', 'OMIM:600225.0007', 'ClinVarVariant:545510', 'OMIM:516006.0009', 'OMIM:300078.0002', 'OMIM:603155.0001', 'OMIM:176763.0002', 'OMIM:610350.0001', 'OMIM:605371.0003', 'OMIM:602774.0003', 'OMIM:138450.0001', 'OMIM:607108.0026', 'OMIM:180468.0001', 'OMIM:612256.0001', 'OMIM:134934.0022', 'OMIM:613878.0009', 'dbSNP:rs3771602', 'OMIM:177075.0007', 'OMIM:602997.0002', 'OMIM:159530.0006', 'dbSNP:rs77009694', 'OMIM:300377.0066', 'OMIM:147265.0003', 'OMIM:141900.0423', 'OMIM:130160.0015', 'OMIM:606636.0006', 'OMIM:608750.0004', 'OMIM:611358.0002', 'dbSNP:rs35344466', 'OMIM:139320.0005', 'ClinVarVariant:242500', 'OMIM:172405.0004', 'OMIM:616254.0005', 'OMIM:133430.0001', 'OMIM:608272.0005', 'dbSNP:rs190148485', 'OMIM:605411.0005', 'OMIM:603377.0001', 'OMIM:164160.0002', 'OMIM:610274.0002', 'OMIM:141900.0106', 'dbSNP:rs741898', 'OMIM:300292.0012', 'OMIM:604368.0005', 'OMIM:167416.0009', 'OMIM:607108.0015', 'OMIM:601107.0003', 'OMIM:603377.0016', 'OMIM:609526.0001', 'OMIM:606097.0010', 'OMIM:609314.0003', 'OMIM:613883.0001', 'OMIM:609506.0016', 'OMIM:612029.0002', 'OMIM:609806.0036', 'ClinVarVariant:28977', 'OMIM:600760.0003', 'OMIM:192090.0027', 'OMIM:300157.0002', 'OMIM:604373.0009', 'OMIM:604457.0003', 'OMIM:608283.0002', 'OMIM:160745.0001', 'OMIM:603283.0002', 'OMIM:604346.0003', 'OMIM:192090.0014', 'OMIM:612026.0001', 'OMIM:602302.0006', 'OMIM:600825.0004', 'OMIM:602954.0001', 'OMIM:134934.0003', 'OMIM:164874.0006', 'OMIM:608075.0004', 'OMIM:134820.0006', 'OMIM:604896.0003', 'OMIM:603617.0003', 'OMIM:600678.0015', 'OMIM:605988.0006', 'OMIM:171834.0003', 'OMIM:603370.0004', 'OMIM:138491.0006', 'OMIM:604103.0006', 'OMIM:120130.0023', 'OMIM:607210.0008', 'OMIM:300841.0201', 'OMIM:191190.0001', 'OMIM:110600.0004', 'OMIM:609884.0024', 'OMIM:602334.0003', 'OMIM:602931.0002', 'OMIM:146920.0015', 'OMIM:616918.0003', 'OMIM:601617.0004', 'OMIM:600502.0013', 'OMIM:602635.0012', 'OMIM:114815.0001', 'OMIM:120160.0010', 'OMIM:167410.0003', 'OMIM:300473.0005', 'OMIM:613932.0003', 'OMIM:604040.0001', 'OMIM:142461.0008', 'OMIM:617558.0008', 'OMIM:600726.0003', 'OMIM:300032.0001', 'OMIM:600555.0023', 'OMIM:300841.0222', 'OMIM:602346.0006', 'OMIM:171900.0007', 'OMIM:610619.0003', 'OMIM:608508.0007', 'OMIM:601975.0004', 'OMIM:602216.0017', 'OMIM:191170.0037', 'OMIM:154950.0004', 'OMIM:120180.0031', 'OMIM:613521.0004', 'OMIM:614423.0002', 'OMIM:614258.0014', 'OMIM:124040.0001', 'dbSNP:rs17198023', 'dbSNP:rs314495738', 'OMIM:603072.0001', 'OMIM:607574.0043', 'OMIM:612035.0003', 'OMIM:601542.0009', 'OMIM:600958.0014', 'OMIM:608603.0005', 'OMIM:142200.0013', 'OMIM:120140.0041', 'OMIM:603056.0002', 'OMIM:300644.0039', 'OMIM:191010.0002', 'OMIM:609797.0003', 'ClinVarVariant:613417', 'OMIM:160760.0013', 'OMIM:603297.0006', 'OMIM:607035.0008', 'OMIM:116806.0017', 'OMIM:139250.0014', 'OMIM:601692.0005', 'OMIM:612012.0006', 'ClinVarVariant:370489', 'OMIM:608303.0005', 'OMIM:601743.0004', 'OMIM:150330.0019', 'OMIM:613138.0001', 'OMIM:605629.0005', 'OMIM:606933.0003', 'OMIM:147730.0006', 'OMIM:604212.0008', 'OMIM:611052.0003', 'dbSNP:rs2562519', 'OMIM:603799.0011', 'OMIM:139312.0004', 'OMIM:606953.0006', 'OMIM:176980.0003', 'OMIM:607929.0009', 'OMIM:141900.0262', 'OMIM:607623.0016', 'OMIM:147450.0005', 'OMIM:107730.0013', 'OMIM:606418.0005', 'OMIM:610624.0008', 'OMIM:605921.0008', 'OMIM:613577.0013', 'ClinVarVariant:831646', 'OMIM:600163.0045', 'ClinVarVariant:245761', 'OMIM:180380.0021', 'OMIM:604126.0002', 'OMIM:600170.0001', 'dbSNP:rs12440952', 'OMIM:107820.0006', 'ClinVarVariant:225544', 'OMIM:603741.0001', 'dbSNP:rs316975666', 'OMIM:600925.0001', 'OMIM:612283.0006', 'OMIM:300451.0002', 'OMIM:603208.0001', 'OMIM:300841.0234', 'OMIM:605802.0014', 'OMIM:602377.0001', 'OMIM:608630.0009', 'OMIM:603967.0006', 'OMIM:182870.0006', 'OMIM:606075.0016', 'OMIM:615049.0002', 'OMIM:608210.0007', 'OMIM:614829.0005', 'OMIM:616183.0001', 'OMIM:613190.0002', 'OMIM:605254.0001', 'OMIM:600761.0006', 'OMIM:185535.0003', 'OMIM:113505.0003', 'OMIM:607805.0001', 'dbSNP:rs141977720', 'OMIM:612121.0003', 'OMIM:608679.0002', 'OMIM:602717.0001', 'OMIM:610693.0001', 'OMIM:602690.0012', 'OMIM:602410.0006', 'OMIM:300481.0005', 'OMIM:616062.0003', 'OMIM:173490.0004', 'OMIM:613160.0020', 'OMIM:173910.0010', 'ClinVarVariant:209093', 'OMIM:124015.0015', 'OMIM:125240.0002', 'OMIM:613213.0002', 'OMIM:188250.0004', 'OMIM:126065.0001', 'OMIM:604933.0007', 'OMIM:300248.0010', 'OMIM:603634.0001', 'OMIM:164770.0015', 'OMIM:602229.0003', 'OMIM:600555.0013', 'OMIM:610681.0003', 'OMIM:602229.0022', 'OMIM:602614.0003', 'OMIM:141800.0025', 'OMIM:604734.0005', 'OMIM:300300.0036', 'OMIM:600185.0033', 'OMIM:601011.0007', 'OMIM:141800.0086', 'OMIM:602183.0004', 'OMIM:120150.0052', 'OMIM:601691.0004', 'OMIM:601604.0003', 'dbSNP:rs11057864', 'ClinVarVariant:427579', 'OMIM:605290.0019', 'OMIM:601465.0011', 'OMIM:609539.0002', 'OMIM:164790.0005', 'dbSNP:rs6753520', 'OMIM:610512.0005', 'ClinVarVariant:242638', 'OMIM:613113.0038', 'OMIM:609132.0003', 'OMIM:600235.0002', 'ClinVarVariant:215658', 'OMIM:141900.0026', 'OMIM:603506.0034', 'OMIM:107680.0006', 'OMIM:114130.0001', 'OMIM:137060.0003', 'OMIM:139311.0003', 'OMIM:610502.0003', 'OMIM:605380.0003', 'OMIM:602713.0001', 'OMIM:610865.0008', 'OMIM:601982.0001', 'OMIM:611140.0005', 'OMIM:608771.0005', 'OMIM:612036.0005', 'OMIM:612418.0003', 'OMIM:605522.0021', 'OMIM:160710.0004', 'OMIM:176947.0004', 'OMIM:601243.0004', 'OMIM:300017.0037', 'OMIM:613878.0019', 'OMIM:614589.0003', 'OMIM:613733.0033', 'OMIM:604327.0005', 'OMIM:102560.0004', 'OMIM:611654.0011', 'dbSNP:rs142008161', 'ClinVarVariant:847587', 'OMIM:142000.0011', 'OMIM:606523.0001', 'OMIM:120120.0034', 'OMIM:605497.0004', 'OMIM:601299.0003', 'OMIM:153455.0005', 'OMIM:600160.0005', 'OMIM:164761.0048', 'OMIM:617782.0005', 'OMIM:610859.0003', 'OMIM:615844.0001', 'OMIM:606810.0005', 'OMIM:600046.0024', 'OMIM:605242.0007', 'OMIM:603824.0009', 'OMIM:610084.0001', 'OMIM:604577.0004', 'OMIM:607839.0007', 'OMIM:606463.0027', 'OMIM:609988.0007', 'OMIM:300160.0005', 'OMIM:180069.0006', 'OMIM:607574.0040', 'OMIM:606463.0046', 'OMIM:600354.0018', 'OMIM:217030.0009', 'OMIM:605124.0006', 'OMIM:606158.0013', 'OMIM:191045.0011', 'OMIM:600011.0007', 'OMIM:601538.0005', 'dbSNP:rs143461983', 'OMIM:167790.0007', 'OMIM:104170.0002', 'OMIM:607102.0015', 'OMIM:610132.0003', 'OMIM:604982.0006', 'OMIM:600023.0002', 'OMIM:606951.0010', 'OMIM:610598.0001', 'OMIM:141900.0180', 'dbSNP:rs2505127', 'OMIM:602216.0015', 'OMIM:188830.0012', 'dbSNP:rs2102847', 'OMIM:609825.0001', 'OMIM:601735.0005', 'OMIM:613698.0008', 'OMIM:139330.0002', 'OMIM:603158.0004', 'OMIM:603332.0005', 'ClinVarVariant:225366', 'OMIM:139330.0003', 'OMIM:611065.0001', 'OMIM:608083.0002', 'OMIM:600759.0009', 'ClinVarVariant:477464', 'OMIM:137030.0003', 'OMIM:600993.0015', 'OMIM:300502.0009', 'dbSNP:rs1914816', 'OMIM:612316.0001', 'OMIM:613160.0001', 'OMIM:158378.0008', 'OMIM:612659.0002', 'dbSNP:rs4651156', 'OMIM:480000.0003', 'OMIM:607439.0004', 'OMIM:600982.0006', 'OMIM:606201.0013', 'OMIM:610745.0011', 'OMIM:607998.0006', 'OMIM:608507.0014', 'OMIM:615949.0003', 'OMIM:188380.0001', 'OMIM:195000.0004', 'OMIM:608879.0004', 'OMIM:602170.0004', 'OMIM:605646.0003', 'OMIM:603824.0017', 'OMIM:300644.0055', 'OMIM:605232.0013', 'OMIM:300377.0007', 'OMIM:142200.0012', 'OMIM:608918.0001', 'OMIM:601192.0004', 'OMIM:600429.0001', 'OMIM:605692.0002', 'OMIM:600298.0002', 'OMIM:122500.0001', 'OMIM:613698.0003', 'OMIM:600047.0004', 'OMIM:190070.0019', 'OMIM:614215.0002', 'OMIM:612373.0011', 'OMIM:118485.0001', 'OMIM:603234.0018', 'OMIM:614386.0015', 'OMIM:602900.0005', 'OMIM:602216.0019', 'OMIM:154870.0004', 'OMIM:300644.0011', 'OMIM:178620.0006', 'OMIM:136350.0003', 'OMIM:125485.0004', 'OMIM:123695.0006', 'OMIM:607270.0001', 'ClinVarVariant:2363', 'OMIM:276903.0006', 'OMIM:601538.0004', 'OMIM:605646.0024', 'OMIM:176947.0005', 'OMIM:606829.0006', 'OMIM:155541.0009', 'OMIM:600232.0004', 'ClinVarVariant:536544', 'dbSNP:rs5751452', 'dbSNP:rs2280398', 'OMIM:300248.0023', 'OMIM:612584.0001', 'OMIM:300300.0003', 'OMIM:602981.0002', 'OMIM:607809.0010', 'OMIM:602783.0006', 'OMIM:613599.0006', 'OMIM:148069.0002', 'OMIM:107930.0008', 'OMIM:602410.0005', 'OMIM:604144.0013', 'OMIM:137150.0006', 'OMIM:612283.0016', 'OMIM:609539.0006', 'OMIM:605481.0001', 'dbSNP:rs7193230', 'OMIM:600937.0025', 'OMIM:606597.0005', 'OMIM:606025.0002', 'OMIM:602365.0007', 'OMIM:176640.0021', 'OMIM:313700.0007', 'OMIM:600028.0001', 'OMIM:173335.0008', 'OMIM:120250.0005', 'OMIM:172405.0001', 'OMIM:605925.0010', 'OMIM:603647.0009', 'OMIM:603197.0016', 'OMIM:600814.0002', 'OMIM:120140.0019', 'OMIM:146710.0003', 'OMIM:605370.0002', 'OMIM:607096.0005', 'OMIM:612277.0003', 'OMIM:604546.0010', 'OMIM:603959.0005', 'OMIM:608151.0012', 'OMIM:601500.0003', 'OMIM:608214.0003', 'OMIM:116897.0005', 'OMIM:480000.0016', 'OMIM:120160.0013', 'OMIM:618128.0001', 'OMIM:601097.0014', 'OMIM:120290.0015', 'OMIM:603945.0011', 'OMIM:613160.0041', 'OMIM:600584.0002', 'OMIM:107741.0006', 'OMIM:603009.0008', 'OMIM:171834.0015', 'OMIM:602090.0006', 'OMIM:607210.0005', 'OMIM:601460.0009', 'OMIM:612724.0009', 'OMIM:131399.0002', 'OMIM:604327.0001', 'OMIM:612944.0005', 'OMIM:606453.0001', 'OMIM:148080.0021', 'OMIM:107300.0034', 'OMIM:142984.0001', 'OMIM:603946.0006', 'OMIM:190990.0010', 'OMIM:609884.0018', 'OMIM:123810.0001', 'OMIM:300180.0002', 'OMIM:142983.0008', 'OMIM:103270.0003', 'OMIM:602141.0005', 'OMIM:604134.0002', 'OMIM:131370.0002', 'OMIM:607170.0003', 'OMIM:604579.0003', 'OMIM:609506.0002', 'OMIM:602378.0013', 'OMIM:601404.0001', 'OMIM:120120.0040', 'OMIM:603100.0009', 'OMIM:610290.0001', 'OMIM:601265.0004', 'OMIM:173490.0009', 'OMIM:125647.0007', 'OMIM:606754.0008', 'OMIM:160777.0004', 'OMIM:603604.0001', 'OMIM:601604.0007', 'OMIM:190090.0002', 'OMIM:613111.0008', 'OMIM:601023.0007', 'OMIM:217030.0004', 'OMIM:312610.0010', 'OMIM:607423.0006', 'OMIM:612458.0004', 'OMIM:147670.0014', 'OMIM:172480.0003', 'OMIM:300382.0020', 'OMIM:613160.0023', 'OMIM:602821.0007', 'OMIM:601011.0033', 'OMIM:600185.0022', 'OMIM:148043.0001', 'OMIM:133510.0008', 'OMIM:610150.0001', 'OMIM:102610.0006', 'ClinVarVariant:576307', 'OMIM:185470.0008', 'OMIM:607522.0001', 'OMIM:611170.0003', 'OMIM:147450.0034', 'OMIM:120700.0002', 'OMIM:300160.0009', 'OMIM:612349.0059', 'OMIM:602614.0008', 'OMIM:600968.0003', 'OMIM:611908.0006', 'OMIM:610277.0003', 'OMIM:155760.0001', 'OMIM:121011.0003', 'OMIM:193065.0003', 'OMIM:608841.0001', 'OMIM:607585.0011', 'OMIM:612283.0018', 'OMIM:614631.0012', 'OMIM:605290.0016', 'OMIM:606873.0002', 'OMIM:179060.0001', 'OMIM:190450.0008', 'OMIM:607701.0005', 'OMIM:612192.0001', 'OMIM:602421.0081', 'OMIM:603191.0004', 'OMIM:600584.0017', 'OMIM:134797.0019', 'OMIM:141900.0520', 'OMIM:613534.0003', 'OMIM:613274.0004', 'dbSNP:rs10489184', 'OMIM:189980.0001', 'dbSNP:rs35003134', 'OMIM:300169.0007', 'OMIM:590100.0002', 'OMIM:609577.0005', 'OMIM:314200.0002', 'OMIM:601692.0013', 'OMIM:303630.0015', 'OMIM:607901.0003', 'OMIM:602536.0010', 'OMIM:606362.0004', 'OMIM:607358.0004', 'OMIM:609575.0001', 'OMIM:603178.0006', 'OMIM:608300.0001', 'OMIM:602368.0003', 'OMIM:561000.0004', 'OMIM:612990.0001', 'OMIM:613129.0008', 'OMIM:142200.0014', 'OMIM:601089.0003', 'OMIM:600014.0002', 'OMIM:100850.0001', 'OMIM:137160.0004', 'OMIM:114240.0011', 'OMIM:614848.0003', 'OMIM:120290.0010', 'OMIM:603400.0001', 'OMIM:314990.0001', 'OMIM:600590.0005', 'OMIM:606272.0001', 'OMIM:309850.0002', 'OMIM:604212.0001', 'OMIM:613583.0006', 'OMIM:600140.0007', 'OMIM:142000.0025', 'OMIM:608801.0007', 'OMIM:605824.0001', 'OMIM:607574.0006', 'OMIM:605646.0025', 'OMIM:606027.0003', 'OMIM:601199.0039', 'OMIM:614184.0001', 'OMIM:607300.0005', 'OMIM:601962.0001', 'OMIM:606621.0001', 'OMIM:104311.0031', 'OMIM:613165.0004', 'OMIM:104160.0007', 'OMIM:313475.0001', 'dbSNP:rs77668180', 'OMIM:611124.0003', 'OMIM:190990.0011', 'OMIM:602218.0009', 'ClinVarVariant:242521', 'dbSNP:rs62091368', 'OMIM:120160.0018', 'OMIM:606811.0002', 'OMIM:176730.0001', 'OMIM:603576.0010', 'OMIM:616365.0002', 'dbSNP:rs4491175', 'OMIM:300821.0002', 'OMIM:607606.0001', 'OMIM:605384.0001', 'OMIM:102540.0007', 'OMIM:176941.0003', 'OMIM:609489.0003', 'OMIM:602690.0025', 'OMIM:603273.0019', 'OMIM:217050.0002', 'OMIM:616830.0001', 'OMIM:613858.0005', 'OMIM:107300.0015', 'OMIM:120150.0062', 'OMIM:176876.0024', 'OMIM:600664.0001', 'OMIM:607461.0008', 'OMIM:182282.0005', 'OMIM:177400.0004', 'OMIM:120180.0016', 'OMIM:192150.0008', 'OMIM:300394.0011', 'OMIM:100710.0002', 'OMIM:152427.0015', 'OMIM:126064.0002', 'ClinVarVariant:427591', 'OMIM:155541.0023', 'OMIM:610053.0004', 'OMIM:602666.0008', 'OMIM:191044.0005', 'OMIM:601313.0013', 'OMIM:602235.0001', 'OMIM:606075.0012', 'OMIM:176948.0001', 'OMIM:600839.0006', 'OMIM:300110.0004', 'OMIM:603623.0006', 'OMIM:104614.0009', 'OMIM:601023.0008', 'OMIM:603711.0007', 'OMIM:603470.0016', 'OMIM:602754.0002', 'OMIM:300841.0216', 'OMIM:134934.0027', 'OMIM:604521.0002', 'OMIM:176640.0015', 'OMIM:611421.0004', 'OMIM:610746.0003', 'OMIM:160720.0013', 'OMIM:301870.0002', 'OMIM:120580.0003', 'OMIM:605950.0004', 'OMIM:613381.0012', 'OMIM:170260.0002', 'OMIM:300708.0004', 'OMIM:606598.0006', 'OMIM:313700.0045', 'OMIM:607379.0011', 'OMIM:609390.0014', 'OMIM:300382.0010', 'dbSNP:rs11774576', 'OMIM:618994.0004', 'OMIM:602397.0011', 'OMIM:120110.0019', 'OMIM:603652.0006', 'OMIM:616404.0002', 'OMIM:120180.0025', 'OMIM:608419.0001', 'OMIM:604515.0001', 'OMIM:605294.0002', 'OMIM:120240.0020', 'OMIM:600003.0002', 'OMIM:139320.0025', 'dbSNP:rs114605388', 'OMIM:142000.0018', 'OMIM:300841.0229', 'OMIM:107580.0001', 'OMIM:173110.0005', 'OMIM:300265.0001', 'OMIM:611184.0001', 'OMIM:136350.0007', 'OMIM:610613.0008', 'OMIM:121015.0001', 'OMIM:600728.0002', 'ClinVarVariant:536574', 'OMIM:604507.0005', 'OMIM:606754.0011', 'OMIM:141850.0039', 'OMIM:610172.0004', 'OMIM:615292.0006', 'OMIM:163730.0001', 'OMIM:191043.0001', 'OMIM:138945.0006', 'OMIM:600397.0003', 'OMIM:608968.0006', 'OMIM:610552.0001', 'OMIM:601757.0008', 'OMIM:601408.0004', 'OMIM:607837.0003', 'OMIM:605908.0006', 'OMIM:107400.0006', 'OMIM:179020.0001', 'OMIM:130160.0012', 'OMIM:609301.0006', 'OMIM:300841.0100', 'OMIM:606472.0001', 'OMIM:612991.0002', 'OMIM:603377.0019', 'OMIM:602402.0004', 'OMIM:174763.0001', 'ClinVarVariant:242465', 'OMIM:142000.0038', 'OMIM:601920.0009', 'OMIM:614770.0002', 'OMIM:610534.0001', 'OMIM:600678.0005', 'OMIM:614930.0001', 'OMIM:605593.0004', 'OMIM:601421.0012', 'OMIM:601284.0005', 'OMIM:605870.0001', 'OMIM:604649.0009', 'OMIM:142622.0003', 'OMIM:609414.0002', 'OMIM:605020.0002', 'OMIM:608862.0007', 'OMIM:618865.0003', 'ClinVarVariant:20492', 'OMIM:103600.0029', 'OMIM:607566.0004', 'OMIM:600590.0002', 'ClinVarVariant:950002', 'ClinVarVariant:242591', 'OMIM:300526.0004', 'OMIM:600909.0014', 'OMIM:602274.0004', 'OMIM:604065.0003', 'OMIM:611499.0003', 'OMIM:606883.0005', 'OMIM:607854.0009', 'OMIM:604101.0001', 'OMIM:604983.0006', 'OMIM:142983.0009', 'OMIM:604237.0002', 'OMIM:601763.0004', 'OMIM:141800.0014', 'OMIM:606207.0001', 'OMIM:611037.0002', 'OMIM:609301.0004', 'dbSNP:rs11574532', 'OMIM:606214.0005', 'OMIM:603305.0009', 'OMIM:602229.0015', 'OMIM:601487.0008', 'OMIM:600016.0001', 'OMIM:610865.0002', 'OMIM:601785.0009', 'OMIM:164840.0004', 'OMIM:617619.0005', 'OMIM:180069.0012', 'OMIM:605514.0009', 'OMIM:615404.0001', 'OMIM:600829.0002', 'OMIM:603756.0004', 'OMIM:603967.0004', 'OMIM:603200.0003', 'OMIM:615618.0004', 'OMIM:139150.0001', 'OMIM:113811.0006', 'OMIM:606268.0007', 'OMIM:604875.0005', 'OMIM:605923.0001', 'OMIM:606582.0003', 'OMIM:138300.0002', 'OMIM:603395.0003', 'OMIM:617089.0001', 'OMIM:141800.0072', 'OMIM:142200.0030', 'OMIM:608532.0001', 'OMIM:602272.0004', 'OMIM:608151.0010', 'OMIM:605525.0002', 'OMIM:600840.0008', 'OMIM:602544.0020', 'OMIM:120950.0001', 'OMIM:616458.0001', 'OMIM:139340.0001', 'OMIM:138945.0014', 'OMIM:300040.0015', 'OMIM:609806.0016', 'OMIM:300933.0002', 'OMIM:607207.0002', 'OMIM:600024.0008', 'ClinVarVariant:613418', 'OMIM:301057.0002', 'OMIM:150000.0002', 'OMIM:606933.0037', 'OMIM:179617.0003', 'OMIM:138130.0007', 'OMIM:602666.0010', 'OMIM:614888.0006', 'OMIM:136132.0009', 'OMIM:613698.0001', 'OMIM:118490.0001', 'OMIM:600276.0010', 'OMIM:313650.0003', 'OMIM:120150.0030', 'OMIM:613350.0008', 'OMIM:601609.0004', 'ClinVarVariant:6492', 'OMIM:601837.0006', 'dbSNP:rs143382920', 'OMIM:604490.0005', 'OMIM:600993.0012', 'OMIM:147370.0005', 'OMIM:603005.0002', 'OMIM:606522.0003', 'OMIM:601199.0055', 'OMIM:601730.0003', 'OMIM:608439.0004', 'OMIM:603967.0003', 'OMIM:120180.0015', 'OMIM:602208.0003', 'OMIM:182309.0002', 'OMIM:608160.0009', 'OMIM:608439.0005', 'OMIM:612805.0002', 'OMIM:607839.0005', 'OMIM:300371.0011', 'OMIM:613468.0008', 'OMIM:141900.0277', 'OMIM:300226.0005', 'OMIM:192150.0007', 'OMIM:603381.0014', 'OMIM:611648.0001', 'OMIM:609139.0004', 'OMIM:171060.0002', 'OMIM:606597.0010', 'OMIM:133430.0006', 'OMIM:160790.0001', 'OMIM:136850.0001', 'OMIM:114855.0001', 'OMIM:612283.0010', 'OMIM:602216.0006', 'OMIM:611647.0003', 'OMIM:601691.0026', 'OMIM:614041.0026', 'OMIM:141900.0045', 'OMIM:603604.0003', 'OMIM:602635.0001', 'OMIM:600701.0001', 'OMIM:300090.0001', 'OMIM:142857.0001', 'OMIM:615831.0005', 'OMIM:602302.0001', 'OMIM:613350.0004', 'OMIM:601255.0002', 'OMIM:609884.0016', 'OMIM:613213.0005', 'OMIM:124080.0006', 'OMIM:613898.0006', 'OMIM:231675.0007', 'OMIM:606761.0002', 'ClinVarVariant:14332', 'OMIM:136352.0014', 'ClinVarVariant:31331', 'OMIM:605881.0004', 'OMIM:608435.0001', 'OMIM:516005.0009', 'OMIM:610670.0005', 'OMIM:614589.0004', 'OMIM:614825.0001', 'OMIM:613899.0009', 'OMIM:600225.0016', 'OMIM:601762.0007', 'OMIM:312865.0005', 'OMIM:600211.0007', 'OMIM:603197.0014', 'OMIM:606980.0008', 'dbSNP:rs275380', 'OMIM:603254.0009', 'OMIM:114025.0003', 'OMIM:120290.0006', 'OMIM:600783.0004', 'OMIM:611104.0004', 'OMIM:188040.0010', 'OMIM:126141.0001', 'OMIM:610657.0001', 'OMIM:137142.0003', 'OMIM:605367.0001', 'OMIM:600774.0001', 'OMIM:602918.0001', 'OMIM:184757.0011', 'OMIM:601920.0007', 'OMIM:605435.0001', 'OMIM:602694.0007', 'OMIM:125647.0023', 'OMIM:607386.0003', 'OMIM:164008.0002', 'OMIM:606941.0001', 'OMIM:610355.0004', 'OMIM:190160.0040', 'OMIM:615796.0001', 'dbSNP:rs1416208', 'OMIM:608568.0002', 'ClinVarVariant:186856', 'OMIM:107770.0002', 'OMIM:605522.0011', 'OMIM:606945.0020', 'OMIM:603945.0003', 'OMIM:601090.0012', 'OMIM:180380.0002', 'OMIM:606202.0006', 'dbSNP:rs4719147', 'OMIM:601618.0002', 'OMIM:600980.0001', 'OMIM:606025.0001', 'OMIM:300776.0004', 'OMIM:606201.0009', 'OMIM:164757.0026', 'OMIM:600983.0008', 'OMIM:613230.0011', 'OMIM:611672.0009', 'OMIM:611153.0003', 'OMIM:300127.0005', 'OMIM:300300.0037', 'OMIM:614215.0005', 'OMIM:600960.0003', 'OMIM:607461.0005', 'OMIM:606558.0004', 'OMIM:606097.0003', 'OMIM:606883.0004', 'OMIM:146660.0001', 'OMIM:613349.0010', 'OMIM:602937.0002', 'OMIM:610538.0001', 'OMIM:107670.0002', 'OMIM:613583.0012', 'OMIM:607840.0005', 'dbSNP:rs10123041', 'OMIM:134934.0030', 'OMIM:104760.0002', 'OMIM:602700.0003', 'OMIM:615345.0004', 'OMIM:607532.0004', 'OMIM:104760.0011', 'OMIM:603644.0003', 'OMIM:606967.0015', 'OMIM:607102.0002', 'OMIM:134637.0011', 'OMIM:607984.0004', 'OMIM:602421.0012', 'OMIM:142989.0011', 'OMIM:600909.0006', 'OMIM:176640.0025', 'OMIM:150330.0035', 'OMIM:173510.0006', 'OMIM:561010.0001', 'OMIM:120215.0004', 'OMIM:601771.0017', 'OMIM:611103.0006', 'OMIM:123833.0002', 'OMIM:613577.0002', 'OMIM:609695.0004', 'OMIM:609309.0014', 'OMIM:120070.0001', 'OMIM:602137.0001', 'OMIM:602023.0006', 'dbSNP:rs13424612', 'OMIM:618128.0003', 'OMIM:601428.0009', 'OMIM:616899.0006', 'OMIM:600827.0008', 'OMIM:147450.0018', 'OMIM:190195.0018', 'OMIM:134850.0016', 'OMIM:300013.0007', 'ClinVarVariant:371522', 'OMIM:601527.0001', 'OMIM:614825.0002', 'OMIM:114182.0001', 'OMIM:232050.0002', 'OMIM:609575.0006', 'OMIM:605460.0002', 'OMIM:147558.0004', 'OMIM:603349.0001', 'OMIM:605113.0006', 'OMIM:607379.0014', 'OMIM:603277.0002', 'OMIM:184756.0002', 'dbSNP:rs189007515', 'OMIM:604319.0007', 'OMIM:601615.0005', 'OMIM:615416.0001', 'OMIM:607566.0010', 'OMIM:164757.0005', 'OMIM:615843.0006', 'OMIM:138252.0010', 'OMIM:185470.0011', 'OMIM:601440.0004', 'OMIM:606821.0001', 'OMIM:120436.0028', 'OMIM:159440.0009', 'OMIM:602302.0002', 'OMIM:600044.0001', 'dbSNP:rs4900759', 'OMIM:300746.0069', 'OMIM:603727.0001', 'OMIM:300382.0016', 'OMIM:603506.0021', 'OMIM:300473.0024', 'OMIM:300371.0016', 'OMIM:603673.0001', 'OMIM:167420.0003', 'OMIM:602770.0001', 'OMIM:608699.0005', 'OMIM:602918.0002', 'OMIM:607343.0001', 'OMIM:189907.0013', 'OMIM:142250.0050', 'OMIM:601756.0013', 'OMIM:120140.0018', 'OMIM:602377.0004', 'OMIM:606350.0001', 'OMIM:603557.0003', 'OMIM:600211.0001', 'OMIM:600073.0010', 'OMIM:612803.0004', 'OMIM:613524.0004', 'OMIM:601443.0001', 'OMIM:605490.0003', 'OMIM:300746.0086', 'OMIM:606945.0062', 'OMIM:602635.0007', 'OMIM:305900.0021', 'OMIM:601542.0013', 'OMIM:142000.0015', 'dbSNP:rs75462778', 'OMIM:604319.0008', 'OMIM:610746.0004', 'OMIM:604270.0007', 'OMIM:608102.0001', 'OMIM:609868.0007', 'OMIM:264900.0006', 'OMIM:608786.0003', 'OMIM:614243.0002', 'OMIM:606869.0030', 'OMIM:156225.0004', 'OMIM:604457.0001', 'OMIM:300538.0018', 'OMIM:614297.0003', 'OMIM:614397.0001', 'dbSNP:rs565229', 'OMIM:105590.0003', 'OMIM:600310.0005', 'OMIM:602544.0013', 'OMIM:134797.0066', 'OMIM:185535.0004', 'OMIM:602821.0017', 'OMIM:300658.0012', 'OMIM:300377.0014', 'OMIM:606480.0001', 'OMIM:612732.0012', 'OMIM:608537.0015', 'OMIM:120160.0004', 'OMIM:164860.0007', 'OMIM:613872.0011', 'OMIM:601906.0005', 'OMIM:613168.0001', 'OMIM:139320.0018', 'OMIM:602860.0010', 'OMIM:300382.0015', 'OMIM:605795.0002', 'OMIM:190315.0001', 'OMIM:305900.0051', 'OMIM:615521.0001', 'OMIM:147265.0014', 'OMIM:300526.0005', 'OMIM:610662.0002', 'OMIM:601288.0001', 'OMIM:606873.0014', 'OMIM:607379.0015', 'OMIM:308000.0015', 'OMIM:604943.0003', 'OMIM:610523.0005', 'OMIM:604505.0012', 'OMIM:180071.0001', 'OMIM:120140.0048', 'OMIM:180297.0004', 'ClinVarVariant:20128', 'OMIM:611220.0006', 'OMIM:611542.0010', 'OMIM:601255.0016', 'OMIM:609414.0004', 'OMIM:615549.0005', 'OMIM:606352.0010', 'OMIM:600140.0005', 'OMIM:308380.0001', 'OMIM:609591.0004', 'OMIM:604896.0010', 'OMIM:615320.0003', 'OMIM:600509.0008', 'dbSNP:rs116889104', 'OMIM:607878.0011', 'OMIM:120950.0003', 'OMIM:607623.0005', 'ClinVarVariant:193438', 'dbSNP:rs5894994', 'OMIM:171833.0012', 'OMIM:604285.0002', 'OMIM:611725.0004', 'OMIM:608163.0004', 'OMIM:609884.0009', 'OMIM:605525.0004', 'dbSNP:rs4684585', 'OMIM:609373.0003', 'OMIM:607440.0002', 'OMIM:607343.0008', 'OMIM:608414.0010', 'OMIM:184429.0016', 'OMIM:107730.0019', 'OMIM:300256.0008', 'OMIM:162662.0001', 'OMIM:100690.0016', 'dbSNP:rs10954650', 'OMIM:601567.0002', 'OMIM:608148.0005', 'OMIM:604505.0010', 'OMIM:600950.0001', 'OMIM:164012.0007', 'OMIM:606831.0003', 'OMIM:605988.0003', 'OMIM:229000.0001', 'OMIM:590000.0001', 'OMIM:134820.0021', 'OMIM:602365.0008', 'OMIM:614107.0001', 'OMIM:605481.0011', 'OMIM:182389.0017', 'OMIM:605988.0008', 'OMIM:605988.0011', 'dbSNP:rs4545955', 'dbSNP:rs192879075', 'OMIM:613733.0001', 'OMIM:192340.0002', 'OMIM:313430.0001', 'OMIM:147450.0035', 'OMIM:143054.0001', 'OMIM:600857.0008', 'OMIM:602859.0011', 'OMIM:607623.0006', 'OMIM:607215.0004', 'dbSNP:rs13084580', 'OMIM:190120.0001', 'OMIM:607008.0002', 'OMIM:604402.0001', 'OMIM:300461.0019', 'OMIM:601103.0001', 'OMIM:157660.0016', 'OMIM:120150.0073', 'OMIM:612898.0003', 'OMIM:601199.0031', 'OMIM:600163.0008', 'OMIM:614366.0003', 'OMIM:160794.0005', 'OMIM:192977.0004', 'OMIM:601253.0012', 'OMIM:600929.0004', 'OMIM:614930.0002', 'OMIM:607257.0002', 'OMIM:605511.0006', 'OMIM:300822.0001', 'OMIM:602887.0002', 'ClinVarVariant:7099', 'OMIM:607223.0002', 'OMIM:600211.0005', 'OMIM:613555.0007', 'OMIM:103600.0018', 'OMIM:107400.0015', 'OMIM:607764.0004', 'OMIM:605294.0001', 'OMIM:610316.0001', 'OMIM:614245.0002', 'OMIM:602460.0001', 'OMIM:190990.0003', 'OMIM:607955.0001', 'OMIM:120150.0023', 'ClinVarVariant:6725', 'OMIM:602048.0001', 'OMIM:600236.0006', 'OMIM:114078.0005', 'OMIM:300170.0004', 'OMIM:134580.0002', 'OMIM:600574.0014', 'OMIM:605254.0002', 'OMIM:601239.0002', 'OMIM:187680.0003', 'OMIM:312610.0001', 'OMIM:608603.0003', 'OMIM:603850.0001', 'OMIM:155541.0014', 'OMIM:604161.0002', 'dbSNP:rs9556218', 'OMIM:616406.0005', 'OMIM:120900.0007', 'OMIM:613940.0005', 'OMIM:176947.0006', 'ClinVarVariant:245864', 'OMIM:141900.0306', 'OMIM:614631.0009', 'OMIM:607908.0001', 'OMIM:190181.0012', 'OMIM:134570.0013', 'OMIM:603504.0002', 'OMIM:603851.0005', 'OMIM:609280.0001', 'OMIM:610860.0014', 'dbSNP:rs1792358', 'OMIM:606680.0003', 'OMIM:104750.0001', 'OMIM:617659.0001', 'OMIM:133530.0003', 'OMIM:607440.0007', 'OMIM:604933.0008', 'OMIM:114021.0004', 'OMIM:600811.0004', 'OMIM:611731.0036', 'OMIM:602033.0001', 'OMIM:138491.0004', 'OMIM:613555.0002', 'OMIM:602311.0001', 'OMIM:300522.0006', 'OMIM:164761.0038', 'OMIM:613609.0005', 'OMIM:601691.0036', 'OMIM:604395.0006', 'OMIM:609413.0007', 'OMIM:604566.0001', 'OMIM:180380.0006', 'OMIM:158340.0001', 'OMIM:139191.0004', 'OMIM:612386.0002', 'OMIM:300032.0017', 'OMIM:142983.0003', 'OMIM:605673.0004', 'OMIM:141250.0001', 'OMIM:189980.0004', 'OMIM:162280.0002', 'OMIM:603868.0001', 'OMIM:606544.0005', 'OMIM:605622.0003', 'OMIM:609342.0003', 'OMIM:603033.0009', 'OMIM:108780.0001', 'OMIM:610860.0011', 'ClinVarVariant:976717', 'OMIM:616012.0005', 'OMIM:613121.0003', 'OMIM:608378.0001', 'OMIM:607574.0025', 'OMIM:600528.0004', 'OMIM:601280.0002', 'OMIM:176610.0002', 'OMIM:609806.0008', 'OMIM:605379.0008', 'OMIM:602780.0009', 'OMIM:614738.0002', 'ClinVarVariant:970511', 'OMIM:106180.0003', 'OMIM:124080.0005', 'OMIM:300746.0003', 'OMIM:308380.0010', 'OMIM:608210.0004', 'OMIM:103220.0004', 'OMIM:600417.0001', 'OMIM:141800.0193', 'OMIM:606463.0037', 'OMIM:608488.0002', 'OMIM:611693.0003', 'OMIM:300121.0011', 'OMIM:300463.0005', 'OMIM:138295.0003', 'OMIM:612349.0002', 'OMIM:125670.0009', 'OMIM:616815.0001', 'OMIM:185620.0008', 'OMIM:600709.0003', 'OMIM:608451.0008', 'OMIM:604917.0004', 'OMIM:103600.0050', 'OMIM:602432.0003', 'OMIM:603015.0002', 'OMIM:608537.0001', 'OMIM:300392.0019', 'ClinVarVariant:847797', 'OMIM:601045.0003', 'OMIM:300550.0010', 'OMIM:605286.0001', 'OMIM:300481.0002', 'OMIM:609390.0008', 'OMIM:605185.0004', 'OMIM:108410.0001', 'OMIM:608400.0004', 'ClinVarVariant:47699', 'OMIM:191329.0001', 'OMIM:189907.0007', 'OMIM:590025.0002', 'OMIM:617218.0002', 'OMIM:612799.0006', 'OMIM:610230.0005', 'OMIM:300390.0006', 'OMIM:602666.0005', 'ClinVarVariant:652517', 'OMIM:114240.0004', 'OMIM:605551.0002', 'OMIM:604580.0003', 'OMIM:602140.0003', 'OMIM:613446.0005', 'OMIM:607439.0003', 'OMIM:615421.0001', 'OMIM:102565.0002', 'OMIM:159990.0001', 'OMIM:613306.0002', 'OMIM:606142.0006', 'OMIM:602168.0001', 'OMIM:605516.0015', 'OMIM:601691.0014', 'OMIM:164761.0022', 'OMIM:133520.0003', 'OMIM:141850.0069', 'OMIM:614386.0009', 'OMIM:613420.0008', 'OMIM:613349.0001', 'OMIM:613349.0019', 'OMIM:138253.0009', 'OMIM:179590.0001', 'OMIM:609301.0001', 'OMIM:192090.0024', 'OMIM:604907.0006', 'OMIM:611849.0001', 'OMIM:605420.0012', 'OMIM:609648.0003', 'OMIM:611351.0002', 'OMIM:607707.0001', 'OMIM:148080.0017', 'OMIM:142968.0002', 'OMIM:613113.0003', 'OMIM:600576.0009', 'OMIM:607542.0019', 'OMIM:607642.0001', 'OMIM:612719.0011', 'dbSNP:rs977396', 'ClinVarVariant:552208', 'OMIM:114090.0002', 'OMIM:605254.0004', 'OMIM:615900.0002', 'OMIM:602533.0002', 'OMIM:179605.0024', 'OMIM:601592.0008', 'OMIM:611140.0003', 'OMIM:612452.0001', 'OMIM:516030.0001', 'OMIM:603197.0010', 'OMIM:607709.0007', 'OMIM:123859.0001', 'OMIM:607434.0002', 'OMIM:134797.0063', 'OMIM:173350.0002', 'OMIM:613111.0011', 'OMIM:609831.0002', 'OMIM:605518.0002', 'OMIM:602216.0021', 'OMIM:602421.0137', 'OMIM:133520.0002', 'OMIM:608958.0012', 'OMIM:141800.0132', 'OMIM:602880.0006', 'OMIM:602821.0016', 'OMIM:141800.0031', 'OMIM:600890.0006', 'OMIM:300841.0124', 'OMIM:191092.0002', 'OMIM:606882.0016', 'OMIM:612424.0002', 'OMIM:612182.0002', 'OMIM:590005.0001', 'OMIM:615003.0001', 'OMIM:606755.0004', 'OMIM:606967.0003', 'OMIM:613381.0015', 'OMIM:608700.0006', 'OMIM:314375.0005', 'OMIM:606268.0011', 'OMIM:600463.0005', 'OMIM:605420.0010', 'dbSNP:rs10246939', 'OMIM:600937.0011', 'OMIM:611731.0006', 'OMIM:180902.0007', 'OMIM:603254.0002', 'OMIM:606374.0003', 'OMIM:613521.0003', 'OMIM:601019.0001', 'OMIM:139250.0011', 'OMIM:608109.0002', 'OMIM:600235.0007', 'OMIM:614620.0006', 'OMIM:612724.0010', 'OMIM:607027.0006', 'OMIM:605131.0009', 'OMIM:610263.0002', 'OMIM:615564.0003', 'OMIM:607439.0012', 'OMIM:300075.0012', 'OMIM:607257.0004', 'OMIM:606075.0013', 'dbSNP:rs139634939', 'OMIM:604624.0001', 'OMIM:606152.0006', 'OMIM:300839.0009', 'dbSNP:rs7153028', 'OMIM:136350.0028', 'OMIM:153454.0006', 'OMIM:300502.0012', 'OMIM:300628.0007', 'OMIM:173490.0007', 'OMIM:611549.0006', 'OMIM:103600.0033', 'OMIM:602421.0125', 'OMIM:191170.0024', 'OMIM:314200.0007', 'ClinVarVariant:828165', 'OMIM:601906.0004', 'OMIM:604455.0004', 'OMIM:602064.0001', 'OMIM:180380.0040', 'OMIM:602382.0001', 'OMIM:603107.0004', 'OMIM:607574.0035', 'OMIM:604946.0001', 'OMIM:610745.0013', 'OMIM:603959.0008', 'OMIM:607696.0001', 'OMIM:607608.0009', 'OMIM:604258.0001', 'OMIM:160760.0032', 'OMIM:608307.0001', 'OMIM:602858.0011', 'OMIM:191315.0016', 'OMIM:142989.0003', 'dbSNP:rs4142041', 'OMIM:609321.0002', 'OMIM:613734.0002', 'OMIM:603604.0013', 'OMIM:172400.0004', 'OMIM:613577.0017', 'OMIM:300481.0004', 'OMIM:608441.0001', 'OMIM:109270.0023', 'OMIM:611386.0006', 'OMIM:606412.0006', 'OMIM:601487.0009', 'OMIM:600678.0018', 'OMIM:300524.0002', 'OMIM:300841.0030', 'OMIM:133440.0001', 'OMIM:600047.0001', 'OMIM:180435.0001', 'OMIM:604473.0002', 'OMIM:602900.0002', 'OMIM:600811.0001', 'OMIM:141800.0156', 'OMIM:108740.0003', 'OMIM:104311.0011', 'dbSNP:rs77114337', 'ClinVarVariant:2416', 'OMIM:604214.0011', 'OMIM:604194.0002', 'OMIM:600662.0004', 'OMIM:600521.0003', 'OMIM:136132.0006', 'OMIM:131244.0006', 'OMIM:120150.0033', 'OMIM:134797.0032', 'OMIM:603184.0003', 'dbSNP:rs388649', 'OMIM:300275.0005', 'OMIM:602671.0003', 'OMIM:609701.0015', 'OMIM:614930.0007', 'OMIM:612277.0004', 'OMIM:191045.0001', 'OMIM:126064.0001', 'OMIM:182350.0003', 'OMIM:606622.0004', 'OMIM:602286.0005', 'dbSNP:rs144241717', 'OMIM:609014.0004', 'OMIM:601089.0005', 'OMIM:613012.0002', 'OMIM:617817.0004', 'OMIM:137192.0004', 'OMIM:107300.0041', 'OMIM:615902.0002', 'OMIM:107310.0003', 'OMIM:605775.0004', 'OMIM:607123.0009', 'OMIM:615843.0004', 'OMIM:300386.0010', 'ClinVarVariant:835735', 'OMIM:300951.0001', 'OMIM:611901.0001', 'OMIM:300485.0005', 'OMIM:182810.0001', 'OMIM:152427.0003', 'OMIM:617612.0003', 'OMIM:600281.0008', 'OMIM:604165.0002', 'OMIM:300075.0001', 'OMIM:609761.0002', 'OMIM:608815.0003', 'OMIM:604134.0018', 'OMIM:612458.0007', 'OMIM:480000.0012', 'OMIM:611060.0008', 'OMIM:300644.0010', 'OMIM:609855.0002', 'OMIM:604210.0009', 'OMIM:600211.0014', 'OMIM:613629.0015', 'OMIM:606210.0004', 'OMIM:605460.0003', 'OMIM:610308.0004', 'OMIM:602302.0010', 'OMIM:114180.0001', 'OMIM:604134.0020', 'OMIM:603094.0001', 'OMIM:615247.0005', 'OMIM:605481.0009', 'OMIM:605998.0002', 'OMIM:120140.0042', 'OMIM:602365.0003', 'OMIM:601902.0002', 'OMIM:115440.0007', 'OMIM:300609.0003', 'OMIM:606241.0007', 'OMIM:606227.0001', 'OMIM:614245.0004', 'OMIM:600354.0006', 'OMIM:120575.0003', 'OMIM:300658.0013', 'OMIM:107910.0002', 'OMIM:185605.0002', 'OMIM:300382.0022', 'OMIM:110750.0002', 'OMIM:302910.0005', 'OMIM:516030.0011', 'OMIM:167409.0007', 'OMIM:134637.0015', 'OMIM:607461.0007', 'OMIM:601719.0008', 'OMIM:185470.0022', 'OMIM:612373.0004', 'OMIM:611458.0016', 'OMIM:300746.0091', 'OMIM:610084.0002', 'OMIM:611341.0005', 'OMIM:300019.0005', 'OMIM:606060.0007', 'OMIM:604507.0003', 'OMIM:600005.0007', 'OMIM:605194.0002', 'dbSNP:rs3824145', 'OMIM:611061.0005', 'ClinVarVariant:208717', 'OMIM:137167.0010', 'OMIM:611119.0001', 'OMIM:605290.0012', 'OMIM:609058.0013', 'OMIM:612971.0004', 'OMIM:602378.0006', 'OMIM:605525.0003', 'OMIM:601604.0008', 'OMIM:158378.0001', 'OMIM:113703.0004', 'OMIM:609489.0009', 'OMIM:602734.0001', 'OMIM:606152.0003', 'OMIM:601621.0003', 'dbSNP:rs78269837', 'OMIM:612349.0060', 'OMIM:601542.0001', 'OMIM:608958.0027', 'OMIM:602293.0002', 'OMIM:600014.0007', 'OMIM:164008.0003', 'OMIM:609523.0004', 'OMIM:602630.0006', 'OMIM:606241.0004', 'OMIM:608736.0004', 'OMIM:590050.0002', 'OMIM:616174.0006', 'OMIM:600722.0010', 'OMIM:300395.0004', 'OMIM:602421.0088', 'OMIM:612349.0021', 'OMIM:103600.0035', 'OMIM:137165.0004', 'OMIM:618639.0001', 'OMIM:612392.0001', 'OMIM:311870.0001', 'OMIM:151385.0001', 'OMIM:603537.0002', 'OMIM:600840.0002', 'OMIM:609489.0001', 'OMIM:603681.0001', 'OMIM:103600.0012', 'OMIM:300897.0009', 'OMIM:601730.0002', 'OMIM:611279.0005', 'ClinVarVariant:17501', 'OMIM:120280.0007', 'OMIM:614556.0001', 'OMIM:600982.0001', 'OMIM:609884.0015', 'OMIM:192340.0005', 'OMIM:602533.0004', 'OMIM:151460.0003', 'OMIM:614725.0001', 'OMIM:608798.0003', 'OMIM:164350.0005', 'OMIM:605725.0005', 'OMIM:607701.0003', 'ClinVarVariant:229079', 'OMIM:601129.0004', 'OMIM:608210.0001', 'OMIM:300451.0020', 'OMIM:179820.0006', 'OMIM:613165.0006', 'OMIM:614571.0002', 'OMIM:602593.0005', 'OMIM:608100.0001', 'OMIM:613113.0041', 'OMIM:606416.0002', 'OMIM:607574.0045', 'OMIM:616146.0004', 'OMIM:300300.0041', 'OMIM:610550.0005', 'OMIM:182465.0004', 'dbSNP:rs678553', 'OMIM:179616.0006', 'OMIM:610622.0001', 'OMIM:601687.0003', 'OMIM:602137.0004', 'OMIM:155541.0008', 'OMIM:611731.0055', 'OMIM:601542.0011', 'OMIM:300008.0009', 'OMIM:613160.0013', 'OMIM:190180.0003', 'OMIM:605290.0001', 'OMIM:600354.0016', 'OMIM:600104.0001', 'OMIM:614270.0005', 'OMIM:608897.0005', 'OMIM:300121.0001', 'ClinVarVariant:237644', 'OMIM:131320.0011', 'OMIM:606075.0006', 'dbSNP:rs11953990', 'OMIM:605740.0002', 'OMIM:602671.0010', 'OMIM:611966.0001', 'OMIM:120328.0007', 'OMIM:610060.0005', 'OMIM:609708.0013', 'ClinVarVariant:33988', 'OMIM:602432.0007', 'OMIM:612994.0002', 'OMIM:616086.0002', 'OMIM:600154.0002', 'OMIM:603590.0001', 'OMIM:173490.0013', 'OMIM:607465.0006', 'OMIM:606558.0003', 'OMIM:139320.0031', 'OMIM:601299.0009', 'OMIM:613326.0006', 'ClinVarVariant:816514', 'OMIM:609118.0001', 'OMIM:601515.0003', 'OMIM:608271.0004', 'OMIM:606979.0004', 'OMIM:614556.0010', 'OMIM:131222.0010', 'OMIM:608517.0005', 'OMIM:300294.0004', 'OMIM:131240.0005', 'OMIM:610432.0001', 'OMIM:300553.0002', 'ClinVarVariant:608890', 'OMIM:608968.0001', 'ClinVarVariant:2136', 'OMIM:608455.0016', 'OMIM:603089.0009', 'OMIM:603527.0006', 'OMIM:601428.0021', 'OMIM:165190.0003', 'OMIM:612021.0003', 'OMIM:600013.0001', 'OMIM:607170.0004', 'OMIM:613425.0004', 'OMIM:613293.0002', 'OMIM:148069.0003', 'OMIM:300538.0011', 'OMIM:140100.0005', 'OMIM:120328.0002', 'dbSNP:rs2859631', 'OMIM:611055.0005', 'OMIM:300481.0021', 'OMIM:191170.0020', 'OMIM:180902.0006', 'OMIM:613629.0005', 'OMIM:601724.0002', 'OMIM:607213.0005', 'OMIM:134797.0002', 'OMIM:120160.0029', 'OMIM:607386.0004', 'OMIM:603604.0007', 'OMIM:187270.0009', 'OMIM:613596.0003', 'OMIM:610172.0003', 'OMIM:108740.0007', 'OMIM:602859.0007', 'dbSNP:rs4483229', 'OMIM:602302.0013', 'OMIM:603584.0003', 'OMIM:606807.0002', 'OMIM:606441.0006', 'OMIM:611510.0001', 'OMIM:138252.0001', 'OMIM:614427.0002', 'OMIM:613165.0003', 'OMIM:600310.0017', 'OMIM:606374.0005', 'OMIM:600548.0004', 'OMIM:602931.0011', 'OMIM:613846.0004', 'OMIM:160760.0005', 'OMIM:607568.0005', 'OMIM:605763.0002', 'OMIM:157660.0018', 'OMIM:609520.0002', 'OMIM:615283.0002', 'OMIM:601785.0008', 'OMIM:608179.0001', 'OMIM:607439.0006', 'OMIM:136435.0013', 'OMIM:141900.0235', 'OMIM:608713.0002', 'OMIM:615291.0014', 'OMIM:600163.0027', 'OMIM:603060.0003', 'OMIM:610290.0002', 'OMIM:300538.0003', 'OMIM:141800.0155', 'OMIM:120520.0007', 'OMIM:606978.0002', 'OMIM:251170.0006', 'OMIM:300138.0001', 'OMIM:608002.0009', 'OMIM:603474.0002', 'OMIM:150330.0043', 'OMIM:612802.0007', 'OMIM:601011.0025', 'OMIM:609575.0012', 'dbSNP:rs8083427', 'OMIM:605602.0002', 'OMIM:167415.0006', 'OMIM:600465.0003', 'ClinVarVariant:5726', 'OMIM:192090.0018', 'OMIM:139250.0023', 'OMIM:138971.0002', 'OMIM:300075.0002', 'OMIM:612801.0007', 'OMIM:611428.0002', 'OMIM:123590.0011', 'OMIM:164005.0007', 'OMIM:192150.0003', 'OMIM:612517.0002', 'OMIM:608537.0014', 'OMIM:141900.0370', 'OMIM:601199.0025', 'OMIM:103600.0024', 'OMIM:606494.0003', 'ClinVarVariant:105269', 'OMIM:139380.0004', 'OMIM:608581.0008', 'OMIM:603009.0014', 'OMIM:602574.0003', 'OMIM:606885.0013', 'OMIM:605078.0007', 'OMIM:607633.0002', 'dbSNP:rs9302891', 'OMIM:602926.0005', 'OMIM:607059.0003', 'OMIM:600185.0004', 'OMIM:182125.0005', 'OMIM:612971.0011', 'OMIM:300401.0016', 'OMIM:613018.0002', 'dbSNP:rs28516534', 'OMIM:602851.0004', 'OMIM:142000.0007', 'OMIM:611765.0001', 'OMIM:614984.0003', 'OMIM:121011.0018', 'dbSNP:rs2337744', 'OMIM:118485.0005', 'OMIM:603131.0003', 'OMIM:147670.0030', 'OMIM:611421.0003', 'OMIM:123833.0003', 'OMIM:605018.0007', 'OMIM:134570.0018', 'OMIM:609332.0017', 'OMIM:608769.0004', 'OMIM:601107.0004', 'dbSNP:rs12099085', 'OMIM:600993.0014', 'OMIM:590035.0003', 'OMIM:139130.0002', 'OMIM:612770.0004', 'OMIM:600533.0001', 'OMIM:590060.0007', 'OMIM:601253.0007', 'OMIM:606844.0001', 'OMIM:614730.0001', 'OMIM:126064.0003', 'OMIM:516003.0002', 'OMIM:613363.0004', 'OMIM:604402.0002', 'OMIM:607179.0001', 'OMIM:613113.0033', 'OMIM:182310.0004', 'OMIM:600759.0008', 'ClinVarVariant:429026', 'OMIM:603967.0026', 'OMIM:606681.0012', 'dbSNP:rs1731240', 'OMIM:617362.0009', 'OMIM:607397.0004', 'OMIM:125670.0003', 'OMIM:604212.0007', 'OMIM:610053.0006', 'OMIM:610113.0003', 'OMIM:189907.0009', 'OMIM:103600.0047', 'OMIM:300075.0020', 'OMIM:123889.0002', 'OMIM:120520.0004', 'OMIM:147574.0001', 'OMIM:606706.0006', 'OMIM:603693.0006', 'OMIM:606241.0008', 'OMIM:147470.0005', 'OMIM:516001.0005', 'OMIM:604296.0005', 'OMIM:613289.0001', 'OMIM:300490.0005', 'OMIM:613278.0002', 'OMIM:607951.0003', 'OMIM:606882.0010', 'OMIM:609708.0003', 'OMIM:611061.0004', 'OMIM:610552.0004', 'OMIM:136530.0001', 'OMIM:107300.0039', 'OMIM:600480.0006', 'OMIM:605908.0001', 'OMIM:601728.0005', 'OMIM:608167.0006', 'OMIM:604134.0019', 'OMIM:176300.0030', 'OMIM:608771.0007', 'OMIM:617559.0001', 'OMIM:613940.0004', 'OMIM:611318.0001', 'OMIM:160760.0018', 'OMIM:601728.0008', 'OMIM:137295.0008', 'OMIM:607939.0003', 'ClinVarVariant:15577', 'OMIM:602241.0006', 'OMIM:606584.0008', 'OMIM:308000.0014', 'OMIM:131340.0003', 'OMIM:602229.0009', 'OMIM:142600.0006', 'OMIM:602700.0005', 'ClinVarVariant:982535', 'OMIM:160745.0005', 'OMIM:609584.0002', 'dbSNP:rs16960359', 'OMIM:617424.0002', 'OMIM:612991.0005', 'OMIM:608771.0010', 'ClinVarVariant:652901', 'OMIM:605093.0001', 'ClinVarVariant:446465', 'OMIM:602876.0001', 'OMIM:141800.0099', 'OMIM:610130.0001', 'OMIM:300553.0001', 'OMIM:610608.0001', 'OMIM:133530.0006', 'ClinVarVariant:983150', 'OMIM:607521.0006', 'OMIM:156560.0005', 'OMIM:300841.0044', 'OMIM:114840.0001', 'OMIM:615076.0001', 'OMIM:616244.0002', 'OMIM:602650.0002', 'OMIM:300180.0006', 'dbSNP:rs7636944', 'OMIM:618461.0004', 'OMIM:607163.0001', 'OMIM:300897.0006', 'OMIM:602544.0019', 'OMIM:606967.0012', 'OMIM:601300.0002', 'OMIM:601181.0003', 'dbSNP:rs9938946', 'OMIM:604277.0020', 'OMIM:134850.0022', 'OMIM:601428.0002', 'OMIM:141850.0016', 'OMIM:601145.0004', 'OMIM:300084.0001', 'OMIM:600759.0004', 'OMIM:170290.0001', 'OMIM:605634.0002', 'OMIM:614191.0008', 'OMIM:603273.0021', 'OMIM:610513.0011', 'OMIM:613653.0004', 'OMIM:602529.0001', 'OMIM:606830.0005', 'OMIM:150330.0058', 'OMIM:604710.0003', 'dbSNP:rs148286224', 'OMIM:603123.0001', 'OMIM:602402.0001', 'OMIM:605232.0010', 'OMIM:608922.0003', 'OMIM:615345.0002', 'OMIM:300897.0013', 'OMIM:300836.0008', 'OMIM:601011.0022', 'OMIM:601107.0007', 'OMIM:602690.0022', 'OMIM:605921.0003', 'OMIM:601671.0005', 'ClinVarVariant:12698', 'OMIM:300460.0002', 'OMIM:188840.0002', 'OMIM:606478.0001', 'OMIM:120130.0009', 'OMIM:608958.0021', 'OMIM:600682.0006', 'OMIM:246600.0001', 'OMIM:141900.0055', 'OMIM:608833.0004', 'OMIM:601978.0001', 'OMIM:606873.0013', 'dbSNP:rs62035110', 'OMIM:120360.0002', 'OMIM:252800.0005', 'OMIM:610528.0009', 'OMIM:137960.0009', 'OMIM:616254.0003', 'OMIM:176300.0023', 'OMIM:616768.0001', 'OMIM:603415.0022', 'OMIM:603690.0002', 'OMIM:137192.0002', 'OMIM:605551.0001', 'OMIM:603286.0002', 'OMIM:610662.0001', 'OMIM:603576.0004', 'OMIM:179615.0025', 'OMIM:147470.0006', 'OMIM:605391.0002', 'OMIM:604712.0004', 'OMIM:608679.0004', 'ClinVarVariant:477441', 'OMIM:611432.0001', 'OMIM:610060.0010', 'OMIM:142000.0031', 'OMIM:601728.0026', 'OMIM:606097.0006', 'OMIM:610107.0005', 'OMIM:609610.0003', 'OMIM:601865.0004', 'OMIM:102750.0002', 'OMIM:610745.0001', 'ClinVarVariant:262929', 'OMIM:613666.0008', 'OMIM:601146.0001', 'OMIM:613084.0001', 'OMIM:608667.0007', 'OMIM:601143.0003', 'OMIM:601728.0033', 'OMIM:605087.0001', 'OMIM:606781.0003', 'OMIM:612176.0002', 'OMIM:606822.0020', 'OMIM:608221.0002', 'OMIM:312610.0011', 'OMIM:610355.0001', 'OMIM:605610.0003', 'OMIM:601607.0012', 'OMIM:601199.0030', 'OMIM:600163.0036', 'OMIM:120240.0006', 'OMIM:606201.0008', 'OMIM:303630.0003', 'OMIM:603201.0008', 'OMIM:610178.0004', 'OMIM:180380.0022', 'OMIM:601192.0002', 'OMIM:130160.0011', 'OMIM:100720.0001', 'OMIM:612186.0001', 'OMIM:601255.0008', 'OMIM:614297.0002', 'OMIM:300841.0221', 'OMIM:600722.0007', 'OMIM:615564.0002', 'OMIM:604616.0003', 'OMIM:611770.0002', 'OMIM:608697.0003', 'OMIM:613871.0001', 'OMIM:603294.0004', 'OMIM:100730.0008', 'OMIM:615902.0001', 'OMIM:116897.0007', 'OMIM:102560.0007', 'OMIM:142989.0008', 'OMIM:171834.0011', 'OMIM:613521.0005', 'OMIM:613214.0001', 'dbSNP:rs80639403', 'OMIM:605425.0006', 'OMIM:102610.0015', 'OMIM:609300.0028', 'ClinVarVariant:431450', 'dbSNP:rs148586747', 'OMIM:300104.0004', 'OMIM:604896.0001', 'ClinVarVariant:433545', 'OMIM:606227.0003', 'OMIM:138295.0004', 'OMIM:610453.0001', 'OMIM:300017.0003', 'OMIM:174763.0012', 'OMIM:176943.0008', 'OMIM:300414.0001', 'OMIM:612898.0006', 'OMIM:607838.0001', 'OMIM:172100.0008', 'OMIM:300401.0010', 'OMIM:607830.0008', 'OMIM:603372.0008', 'OMIM:604269.0001', 'OMIM:603681.0003', 'OMIM:609806.0041', 'OMIM:602290.0002', 'OMIM:608160.0005', 'OMIM:164870.0002', 'OMIM:606475.0001', 'OMIM:116806.0023', 'OMIM:120700.0008', 'OMIM:107777.0007', 'OMIM:134934.0020', 'OMIM:606945.0055', 'OMIM:160710.0002', 'OMIM:609237.0003', 'OMIM:602879.0001', 'dbSNP:rs73024730', 'OMIM:130130.0003', 'OMIM:180901.0003', 'OMIM:610257.0001', 'OMIM:600970.0003', 'ClinVarVariant:841906', 'OMIM:609300.0018', 'OMIM:608515.0005', 'dbSNP:rs922106', 'OMIM:107777.0011', 'OMIM:138945.0010', 'OMIM:604506.0001', 'OMIM:606860.0006', 'OMIM:611055.0001', 'OMIM:300516.0001', 'OMIM:608160.0019', 'OMIM:300746.0020', 'OMIM:605792.0001', 'OMIM:613521.0014', 'OMIM:107680.0002', 'OMIM:181031.0004', 'OMIM:605239.0009', 'OMIM:609413.0014', 'ClinVarVariant:434128', 'OMIM:113705.0024', 'OMIM:608059.0001', 'OMIM:612848.0002', 'OMIM:611428.0001', 'OMIM:590070.0007', 'OMIM:613597.0008', 'OMIM:604569.0012', 'OMIM:606800.0001', 'OMIM:606879.0011', 'OMIM:107930.0007', 'OMIM:102573.0008', 'OMIM:611695.0002', 'OMIM:194363.0004', 'OMIM:616423.0004', 'OMIM:607542.0037', 'OMIM:612013.0001', 'OMIM:602033.0003', 'OMIM:603332.0006', 'OMIM:605232.0001', 'OMIM:602635.0008', 'OMIM:603701.0007', 'OMIM:610982.0006', 'OMIM:300841.0109', 'OMIM:601465.0005', 'OMIM:189964.0001', 'OMIM:611901.0002', 'OMIM:134370.0002', 'OMIM:603741.0002', 'OMIM:300304.0002', 'OMIM:612753.0002', 'dbSNP:rs34875023', 'OMIM:604569.0006', 'OMIM:604260.0008', 'OMIM:159440.0018', 'OMIM:616013.0002', 'OMIM:607623.0001', 'OMIM:602552.0003', 'OMIM:605862.0002', 'OMIM:611045.0007', 'OMIM:480000.0020', 'OMIM:138040.0008', 'OMIM:606557.0005', 'OMIM:300095.0011', 'dbSNP:rs6517147', 'OMIM:602063.0002', 'OMIM:611408.0004', 'OMIM:603164.0003', 'OMIM:606151.0018', 'OMIM:603824.0007', 'OMIM:117700.0002', 'OMIM:602023.0009', 'OMIM:609751.0001', 'OMIM:612222.0011', 'OMIM:605018.0011', 'OMIM:606464.0001', 'OMIM:605158.0003', 'OMIM:611672.0003', 'OMIM:614191.0003', 'ClinVarVariant:633178', 'OMIM:608455.0020', 'OMIM:613129.0013', 'ClinVarVariant:242525', 'OMIM:123101.0008', 'OMIM:604272.0003', 'OMIM:141900.0221', 'OMIM:191740.0005', 'OMIM:607632.0004', 'OMIM:300481.0023', 'OMIM:607012.0001', 'OMIM:606951.0006', 'OMIM:190180.0009', 'OMIM:613815.0023', 'OMIM:120290.0004', 'OMIM:610098.0003', 'OMIM:606603.0003', 'OMIM:300841.0233', 'OMIM:134934.0017', 'OMIM:300401.0022', 'OMIM:603967.0033', 'ClinVarVariant:32890', 'OMIM:184429.0009', 'dbSNP:rs2500535', 'OMIM:607837.0002', 'ClinVarVariant:16943', 'OMIM:604507.0004', 'OMIM:300127.0003', 'OMIM:173515.0006', 'OMIM:616174.0005', 'OMIM:136350.0023', 'OMIM:601691.0021', 'OMIM:603033.0004', 'OMIM:300032.0003', 'OMIM:609910.0001', 'OMIM:609884.0026', 'OMIM:608083.0001', 'OMIM:607929.0004', 'dbSNP:rs9321099', 'OMIM:607440.0012', 'OMIM:157129.0007', 'OMIM:601860.0003', 'OMIM:604505.0013', 'OMIM:125485.0001', 'OMIM:603714.0007', 'OMIM:610230.0004', 'dbSNP:rs7582141', 'OMIM:300265.0005', 'OMIM:610826.0004', 'OMIM:300383.0005', 'OMIM:612349.0064', 'OMIM:604167.0003', 'OMIM:613524.0002', 'OMIM:607840.0007', 'OMIM:602974.0002', 'OMIM:609799.0004', 'OMIM:188450.0001', 'OMIM:108961.0011', 'OMIM:168468.0006', 'OMIM:177400.0003', 'OMIM:141900.0368', 'ClinVarVariant:419769', 'OMIM:137030.0004', 'OMIM:612659.0005', 'OMIM:300377.0081', 'OMIM:176300.0004', 'OMIM:614998.0002', 'OMIM:130160.0003', 'OMIM:605906.0010', 'OMIM:608309.0010', 'OMIM:107271.0003', 'OMIM:141900.0270', 'OMIM:184429.0010', 'OMIM:614010.0003', 'OMIM:607985.0001', 'OMIM:603178.0001', 'dbSNP:rs35262746', 'OMIM:613113.0031', 'ClinVarVariant:242599', 'OMIM:601725.0001', 'OMIM:601488.0001', 'OMIM:604633.0008', 'OMIM:142830.0003', 'OMIM:192132.0004', 'OMIM:601097.0004', 'OMIM:607622.0002', 'OMIM:609237.0006', 'OMIM:167416.0010', 'OMIM:601411.0006', 'OMIM:603111.0003', 'OMIM:616715.0002', 'OMIM:607038.0004', 'OMIM:611104.0006', 'OMIM:170715.0001', 'OMIM:138160.0010', 'OMIM:606829.0009', 'OMIM:118955.0001', 'OMIM:300746.0051', 'OMIM:103600.0049', 'OMIM:605597.0010', 'OMIM:300017.0016', 'dbSNP:rs11224476', 'OMIM:300377.0070', 'OMIM:606144.0003', 'OMIM:608135.0001', 'OMIM:603683.0002', 'OMIM:609309.0015', 'dbSNP:rs1007190', 'OMIM:108961.0008', 'OMIM:602257.0005', 'OMIM:615618.0005', 'OMIM:124015.0011', 'OMIM:605998.0005', 'OMIM:610453.0014', 'OMIM:147840.0001', 'OMIM:601309.0005', 'OMIM:601545.0001', 'OMIM:610274.0006', 'OMIM:612465.0001', 'OMIM:601299.0001', 'OMIM:618685.0003', 'OMIM:176943.0034', 'OMIM:600890.0008', 'OMIM:176876.0030', 'OMIM:605232.0003', 'OMIM:603066.0001', 'OMIM:602716.0003', 'OMIM:607649.0003', 'ClinVarVariant:2135', 'OMIM:604095.0012', 'OMIM:609025.0001', 'OMIM:608429.0007', 'OMIM:180901.0021', 'dbSNP:rs7457112', 'dbSNP:rs2736099', 'OMIM:608317.0002', 'OMIM:608170.0005', 'OMIM:617782.0003', 'OMIM:136350.0026', 'OMIM:609280.0003', 'dbSNP:rs67385415', 'OMIM:609806.0028', 'OMIM:602421.0037', 'OMIM:615903.0003', 'OMIM:164012.0005', 'OMIM:313700.0040', 'OMIM:308380.0012', 'OMIM:610876.0004', 'OMIM:133510.0004', 'OMIM:192090.0009', 'OMIM:602026.0002', 'OMIM:120470.0010', 'OMIM:606201.0004', 'dbSNP:rs203425', 'OMIM:610670.0002', 'OMIM:601011.0012', 'OMIM:103730.0002', 'OMIM:602225.0002', 'OMIM:601428.0020', 'OMIM:602382.0002', 'OMIM:300841.0240', 'OMIM:107930.0004', 'OMIM:120140.0013', 'OMIM:601735.0003', 'OMIM:600937.0013', 'OMIM:156845.0008', 'OMIM:600509.0019', 'OMIM:300841.0010', 'OMIM:102560.0005', 'OMIM:604544.0004', 'dbSNP:rs1490075', 'OMIM:611663.0004', 'OMIM:606151.0010', 'OMIM:610513.0012', 'OMIM:147620.0001', 'OMIM:609019.0013', 'OMIM:603851.0002', 'OMIM:600111.0003', 'OMIM:180468.0003', 'OMIM:610812.0001', 'OMIM:134797.0013', 'OMIM:609291.0007', 'OMIM:125670.0004', 'OMIM:300644.0004', 'OMIM:604144.0015', 'OMIM:600014.0006', 'OMIM:605087.0003', 'OMIM:600228.0007', 'OMIM:605087.0004', 'OMIM:167790.0002', 'OMIM:605483.0004', 'OMIM:610528.0002', 'OMIM:300403.0002', 'OMIM:138253.0001', 'OMIM:164840.0003', 'OMIM:600502.0008', 'OMIM:141900.0372', 'OMIM:613726.0003', 'OMIM:613815.0030', 'OMIM:155760.0009', 'OMIM:605725.0002', 'OMIM:602183.0003', 'dbSNP:rs2070997', 'OMIM:117700.0004', 'dbSNP:rs143397262', 'OMIM:191170.0027', 'OMIM:141800.0008', 'OMIM:602346.0002', 'OMIM:602357.0001', 'OMIM:615876.0001', 'OMIM:107720.0001', 'OMIM:300300.0045', 'dbSNP:rs6046489', 'OMIM:123825.0002', 'OMIM:603490.0001', 'OMIM:608111.0001', 'OMIM:601231.0007', 'OMIM:148066.0011', 'OMIM:606097.0007', 'OMIM:607108.0002', 'OMIM:138130.0002', 'OMIM:602421.0015', 'OMIM:176640.0017', 'OMIM:614041.0020', 'ClinVarVariant:477435', 'OMIM:603084.0003', 'OMIM:608968.0008', 'OMIM:147557.0008', 'OMIM:609948.0006', 'OMIM:615532.0001', 'OMIM:607474.0007', 'OMIM:606478.0006', 'OMIM:612848.0001', 'ClinVarVariant:543917', 'dbSNP:rs1591697', 'OMIM:158343.0001', 'OMIM:603028.0002', 'OMIM:611495.0004', 'OMIM:120700.0003', 'OMIM:604506.0007', 'dbSNP:rs16838131', 'OMIM:141800.0187', 'OMIM:602956.0008', 'OMIM:167415.0001', 'OMIM:606439.0002', 'OMIM:120150.0059', 'OMIM:600810.0002', 'OMIM:590065.0001', 'OMIM:602690.0026', 'OMIM:613815.0013', 'ClinVarVariant:242496', 'OMIM:606598.0011', 'OMIM:613114.0005', 'OMIM:176876.0032', 'OMIM:136850.0004', 'OMIM:185620.0018', 'OMIM:174763.0018', 'OMIM:300394.0004', 'OMIM:590055.0001', 'OMIM:305900.0047', 'OMIM:604581.0004', 'OMIM:606014.0003', 'OMIM:609187.0002', 'OMIM:300841.0253', 'OMIM:301300.0009', 'OMIM:610827.0001', 'OMIM:601465.0006', 'OMIM:600890.0010', 'OMIM:611034.0002', 'OMIM:607393.0011', 'OMIM:600281.0004', 'OMIM:606680.0002', 'OMIM:191327.0002', 'OMIM:172860.0002', 'OMIM:607776.0002', 'OMIM:614232.0012', 'dbSNP:rs2325244', 'OMIM:300841.0159', 'OMIM:191170.0035', 'OMIM:602954.0002', 'OMIM:164012.0003', 'OMIM:604544.0002', 'OMIM:300457.0002', 'OMIM:103600.0016', 'OMIM:609512.0006', 'OMIM:188840.0015', 'OMIM:602421.0024', 'OMIM:138280.0005', 'OMIM:300841.0155', 'OMIM:300823.0010', 'OMIM:120110.0006', 'OMIM:182870.0011', 'OMIM:607922.0003', 'OMIM:617949.0003', 'OMIM:590050.0001', 'OMIM:600937.0004', 'dbSNP:rs729397', 'ClinVarVariant:189462', 'OMIM:601465.0001', 'OMIM:613878.0016', 'OMIM:603384.0004', 'OMIM:100725.0017', 'OMIM:604594.0004', 'OMIM:601538.0014', 'OMIM:614123.0003', 'OMIM:603424.0002', 'OMIM:604041.0004', 'OMIM:600028.0002', 'OMIM:191110.0004', 'OMIM:610271.0001', 'OMIM:300294.0007', 'OMIM:300841.0089', 'ClinVarVariant:843086', 'OMIM:600898.0001', 'OMIM:607982.0007', 'OMIM:602397.0010', 'OMIM:602290.0001', 'OMIM:160781.0001', 'OMIM:601807.0001', 'OMIM:615738.0001', 'OMIM:608862.0001', 'OMIM:608160.0004', 'OMIM:604581.0019', 'OMIM:171060.0013', 'OMIM:602208.0009', 'dbSNP:rs544434', 'OMIM:601269.0005', 'OMIM:300036.0010', 'OMIM:165640.0002', 'OMIM:607764.0003', 'OMIM:600820.0003', 'OMIM:102582.0003', 'OMIM:176947.0001', 'OMIM:610142.0005', 'OMIM:603371.0002', 'OMIM:602721.0001', 'OMIM:604581.0011', 'OMIM:611119.0011', 'OMIM:164050.0002', 'OMIM:614708.0002', 'OMIM:618735.0004', 'OMIM:607423.0015', 'OMIM:300121.0002', 'OMIM:180090.0001', 'OMIM:607199.0008', 'OMIM:147670.0005', 'OMIM:601309.0001', 'OMIM:300766.0004', 'ClinVarVariant:427597', 'OMIM:603941.0008', 'OMIM:602136.0003', 'OMIM:300560.0004', 'OMIM:608300.0002', 'ClinVarVariant:242506', 'OMIM:606977.0002', 'OMIM:603057.0003', 'OMIM:176300.0035', 'OMIM:601538.0013', 'OMIM:600129.0003', 'OMIM:604487.0002', 'OMIM:176872.0006', 'OMIM:600805.0002', 'OMIM:611632.0009', 'OMIM:609797.0009', 'ClinVarVariant:215653', 'OMIM:590070.0001', 'OMIM:615730.0001', 'OMIM:603107.0005', 'OMIM:601843.0003', 'OMIM:604161.0003', 'OMIM:600946.0009', 'OMIM:601920.0003', 'OMIM:604490.0001', 'OMIM:606941.0002', 'OMIM:146920.0006', 'OMIM:602985.0002', 'OMIM:191130.0005', 'OMIM:611499.0008', 'OMIM:608414.0007', 'OMIM:607423.0014', 'OMIM:125485.0002', 'OMIM:604489.0002', 'OMIM:606323.0006', 'OMIM:146690.0002', 'OMIM:615038.0002', 'OMIM:125660.0013', 'ClinVarVariant:644201', 'OMIM:600725.0008', 'OMIM:137780.0009', 'OMIM:123680.0004', 'OMIM:600958.0010', 'OMIM:607428.0001', 'OMIM:610860.0003', 'OMIM:612315.0001', 'OMIM:612256.0004', 'OMIM:609988.0008', 'OMIM:192340.0006', 'OMIM:134570.0009', 'OMIM:131320.0010', 'OMIM:605314.0001', 'OMIM:603959.0009', 'OMIM:600650.0004', 'OMIM:605367.0005', 'OMIM:607574.0017', 'OMIM:610142.0009', 'OMIM:612724.0007', 'OMIM:604774.0005', 'OMIM:116806.0014', 'OMIM:606945.0008', 'OMIM:603415.0005', 'OMIM:141800.0198', 'OMIM:605646.0014', 'OMIM:602272.0007', 'OMIM:188826.0004', 'OMIM:605522.0017', 'OMIM:300836.0014', 'OMIM:605810.0001', 'OMIM:180660.0001', 'OMIM:613698.0009', 'OMIM:120240.0002', 'OMIM:139320.0016', 'OMIM:182870.0014', 'OMIM:600998.0001', 'OMIM:173470.0009', 'OMIM:612515.0006', 'OMIM:602821.0009', 'OMIM:300292.0006', 'OMIM:147679.0003', 'OMIM:604322.0007', 'OMIM:603100.0008', 'OMIM:601487.0004', 'OMIM:607690.0004', 'OMIM:606999.0017', 'OMIM:188830.0007', 'OMIM:615403.0005', 'OMIM:601460.0005', 'OMIM:617619.0007', 'OMIM:602090.0009', 'OMIM:603309.0004', 'OMIM:605452.0002', 'OMIM:602421.0135', 'OMIM:604313.0006', 'OMIM:602229.0019', 'OMIM:190180.0010', 'OMIM:610178.0005', 'OMIM:108370.0005', 'OMIM:102771.0007', 'OMIM:124080.0007', 'dbSNP:rs180682174', 'OMIM:610456.0003', 'OMIM:124030.0008', 'OMIM:612349.0005', 'OMIM:248611.0002', 'OMIM:608769.0007', 'OMIM:191044.0009', 'OMIM:610178.0007', 'OMIM:107470.0013', 'OMIM:191350.0009', 'OMIM:610565.0001', 'OMIM:600584.0019', 'ClinVarVariant:213565', 'OMIM:605271.0001', 'dbSNP:rs60936317', 'OMIM:612386.0012', 'OMIM:134934.0037', 'OMIM:603799.0010', 'OMIM:107470.0003', 'OMIM:606158.0012', 'OMIM:603506.0013', 'OMIM:603131.0002', 'OMIM:605317.0002', 'OMIM:600857.0006', 'OMIM:604834.0002', 'OMIM:613360.0003', 'OMIM:605522.0015', 'OMIM:601622.0007', 'dbSNP:rs55644503', 'OMIM:605573.0005', 'OMIM:300078.0003', 'OMIM:120140.0043', 'OMIM:601107.0006', 'OMIM:603941.0005', 'OMIM:605427.0032', 'OMIM:605379.0009', 'ClinVarVariant:200466', 'OMIM:609806.0038', 'OMIM:614772.0002', 'OMIM:602486.0004', 'OMIM:157660.0008', 'OMIM:164757.0017', 'OMIM:606822.0016', 'OMIM:300193.0001', 'OMIM:607257.0006', 'OMIM:607386.0009', 'ClinVarVariant:246074', 'OMIM:601728.0042', 'OMIM:603009.0019', 'OMIM:114183.0001', 'OMIM:120150.0026', 'OMIM:614505.0004', 'OMIM:601621.0004', 'OMIM:600157.0005', 'dbSNP:rs17793829', 'OMIM:611725.0001', 'OMIM:600287.0009', 'OMIM:603415.0010', 'OMIM:614258.0016', 'OMIM:615203.0001', 'OMIM:602661.0002', 'OMIM:190160.0006', 'OMIM:611766.0005', 'OMIM:608100.0002', 'OMIM:114180.0005', 'OMIM:153455.0003', 'OMIM:605294.0005', 'OMIM:141800.0205', 'OMIM:602700.0010', 'OMIM:179410.0004', 'OMIM:163731.0002', 'OMIM:606603.0001', 'OMIM:600983.0007', 'OMIM:148040.0011', 'OMIM:601094.0005', 'OMIM:107265.0003', 'OMIM:602402.0006', 'OMIM:139312.0006', 'OMIM:606489.0005', 'OMIM:104150.0004', 'ClinVarVariant:38475', 'OMIM:602926.0004', 'OMIM:300473.0017', 'OMIM:602490.0001', 'OMIM:300300.0010', 'OMIM:148067.0010', 'OMIM:602780.0001', 'OMIM:174761.0002', 'OMIM:608873.0002', 'ClinVarVariant:487454', 'OMIM:607849.0002', 'OMIM:600570.0006', 'OMIM:600035.0001', 'OMIM:125647.0001', 'OMIM:170285.0001', 'OMIM:608285.0001', 'OMIM:121011.0013', 'OMIM:610453.0012', 'OMIM:607839.0012', 'OMIM:300823.0001', 'OMIM:600937.0023', 'OMIM:107730.0018', 'ClinVarVariant:613426', 'OMIM:516040.0005', 'OMIM:171760.0021', 'OMIM:606933.0005', 'OMIM:120150.0068', 'OMIM:102575.0003', 'OMIM:614218.0001', 'OMIM:142250.0026', 'OMIM:126650.0001', 'OMIM:176876.0012', 'OMIM:107910.0009', 'OMIM:300414.0004', 'OMIM:300040.0006', 'OMIM:604272.0007', 'OMIM:300202.0001', 'OMIM:159440.0030', 'OMIM:601146.0021', 'OMIM:173325.0002', 'OMIM:601771.0012', 'OMIM:147575.0002', 'OMIM:602235.0014', 'OMIM:610206.0012', 'OMIM:188826.0003', 'OMIM:159440.0007', 'OMIM:141900.0282', 'OMIM:139311.0005', 'OMIM:608536.0005', 'OMIM:602119.0001', 'OMIM:176640.0034', 'OMIM:126452.0002', 'OMIM:162330.0001', 'OMIM:300105.0003', 'OMIM:601785.0023', 'dbSNP:rs113975478', 'OMIM:600824.0006', 'OMIM:300885.0001', 'OMIM:146690.0003', 'OMIM:603560.0003', 'OMIM:601607.0008', 'OMIM:300904.0002', 'OMIM:186940.0001', 'OMIM:613276.0003', 'OMIM:606351.0005', 'OMIM:614041.0021', 'OMIM:141900.0033', 'dbSNP:rs12348139', 'OMIM:605747.0008', 'OMIM:164761.0042', 'OMIM:608163.0001', 'OMIM:614556.0002', 'OMIM:104311.0017', 'OMIM:176790.0001', 'OMIM:615799.0001', 'OMIM:172460.0007', 'OMIM:612758.0001', 'OMIM:602378.0012', 'OMIM:601788.0001', 'OMIM:600617.0007', 'OMIM:601090.0006', 'OMIM:606933.0035', 'OMIM:601692.0002', 'OMIM:601295.0002', 'OMIM:607066.0001', 'OMIM:609019.0002', 'OMIM:300897.0005', 'OMIM:300307.0011', 'OMIM:139311.0004', 'OMIM:614725.0003', 'OMIM:615730.0002', 'OMIM:612349.0033', 'OMIM:612638.0001', 'OMIM:191327.0001', 'OMIM:602643.0001', 'OMIM:609383.0001', 'OMIM:600929.0002', 'OMIM:606821.0011', 'OMIM:609845.0003', 'OMIM:601011.0028', 'OMIM:613602.0013', 'OMIM:608892.0006', 'OMIM:604025.0003', 'dbSNP:rs61878546', 'OMIM:611655.0005', 'OMIM:160760.0021', 'OMIM:607839.0011', 'OMIM:608214.0005', 'ClinVarVariant:28945', 'OMIM:618413.0001', 'OMIM:147557.0001', 'OMIM:615567.0003', 'OMIM:147679.0001', 'OMIM:613932.0001', 'OMIM:191170.0009', 'OMIM:600968.0009', 'OMIM:305371.0007', 'OMIM:607381.0002', 'OMIM:612309.0012', 'OMIM:104250.0001', 'OMIM:604124.0002', 'OMIM:602690.0001', 'ClinVarVariant:225229', 'OMIM:102582.0008', 'OMIM:614506.0005', 'OMIM:141900.0249', 'OMIM:606229.0005', 'OMIM:613403.0004', 'OMIM:601925.0003', 'ClinVarVariant:265407', 'OMIM:603693.0004', 'OMIM:607776.0005', 'OMIM:603780.0012', 'OMIM:602574.0009', 'OMIM:605078.0010', 'OMIM:600046.0001', 'OMIM:613577.0010', 'dbSNP:rs4879848', 'OMIM:123695.0009', 'OMIM:182465.0003', 'ClinVarVariant:424940', 'OMIM:121011.0011', 'OMIM:601756.0009', 'OMIM:217050.0001', 'OMIM:157660.0017', 'OMIM:604766.0008', 'OMIM:605824.0002', 'OMIM:146770.0003', 'OMIM:141900.0236', 'OMIM:614232.0002', 'OMIM:191190.0011', 'OMIM:305900.0030', 'dbSNP:rs148485005', 'OMIM:607968.0008', 'OMIM:606273.0001', 'OMIM:605073.0002', 'OMIM:616842.0001', 'OMIM:601465.0014', 'OMIM:613165.0011', 'OMIM:605507.0002', 'OMIM:614169.0003', 'OMIM:603122.0005', 'OMIM:612349.0037', 'OMIM:141900.0134', 'OMIM:603708.0005', 'OMIM:606837.0002', 'OMIM:601045.0001', 'ClinVarVariant:242461', 'OMIM:609701.0006', 'OMIM:605609.0001', 'OMIM:603517.0003', 'OMIM:601147.0001', 'OMIM:604194.0001', 'OMIM:104170.0003', 'OMIM:609058.0003', 'OMIM:606352.0008', 'ClinVarVariant:477595', 'OMIM:141800.0007', 'OMIM:606869.0006', 'OMIM:612418.0006', 'OMIM:606800.0011', 'OMIM:611951.0001', 'OMIM:164005.0009', 'OMIM:611410.0001', 'OMIM:120180.0005', 'OMIM:114350.0001', 'OMIM:609708.0034', 'OMIM:608614.0009', 'OMIM:136351.0004', 'OMIM:612666.0003', 'OMIM:606879.0003', 'OMIM:602978.0001', 'OMIM:179605.0008', 'OMIM:606230.0006', 'OMIM:615618.0006', 'OMIM:607365.0002', 'OMIM:148080.0016', 'OMIM:605646.0007', 'OMIM:608124.0005', 'OMIM:613397.0004', 'OMIM:603593.0007', 'OMIM:607617.0003', 'OMIM:300256.0007', 'OMIM:148066.0004', 'ClinVarVariant:590287', 'OMIM:190450.0003', 'OMIM:102771.0002', 'OMIM:606048.0003', 'OMIM:137070.0001', 'OMIM:176915.0002', 'OMIM:604580.0011', 'OMIM:305915.0005', 'ClinVarVariant:468681', 'OMIM:180380.0013', 'OMIM:160760.0003', 'OMIM:600185.0031', 'OMIM:609799.0003', 'OMIM:516020.0003', 'OMIM:300080.0003', 'OMIM:604507.0007', 'dbSNP:rs112687359', 'OMIM:613522.0003', 'OMIM:138292.0008', 'OMIM:159440.0016', 'OMIM:107300.0036', 'OMIM:602937.0003', 'OMIM:134934.0014', 'OMIM:604447.0001', 'OMIM:607522.0009', 'OMIM:607871.0003', 'OMIM:600565.0003', 'OMIM:602860.0004', 'OMIM:608712.0001', 'OMIM:616661.0005', 'dbSNP:rs4909189', 'OMIM:130130.0002', 'OMIM:604277.0009', 'OMIM:607854.0017', 'OMIM:616899.0005', 'OMIM:600179.0002', 'OMIM:609312.0002', 'OMIM:604819.0007', 'OMIM:609708.0010', 'OMIM:600838.0003', 'OMIM:182389.0015', 'OMIM:601130.0003', 'OMIM:606636.0001', 'OMIM:605951.0002', 'OMIM:601893.0012', 'OMIM:606425.0003', 'OMIM:610345.0005', 'OMIM:607854.0007', 'OMIM:156225.0018', 'OMIM:300644.0047', 'OMIM:601860.0009', 'OMIM:141800.0196', 'OMIM:138292.0001', 'OMIM:191305.0003', 'OMIM:300828.0001', 'OMIM:188826.0001', 'OMIM:137164.0004', 'OMIM:600354.0002', 'dbSNP:rs12059231', 'OMIM:610657.0004', 'OMIM:606869.0010', 'OMIM:614245.0001', 'OMIM:608414.0001', 'OMIM:618656.0002', 'OMIM:613553.0002', 'OMIM:102565.0007', 'OMIM:607854.0006', 'OMIM:134797.0069', 'OMIM:600276.0014', 'OMIM:109270.0016', 'OMIM:609300.0025', 'OMIM:610142.0013', 'OMIM:111700.0005', 'OMIM:611408.0002', 'OMIM:182389.0006', 'OMIM:604733.0004', 'OMIM:613715.0007', 'OMIM:606105.0001', 'OMIM:610745.0014', 'OMIM:614610.0003', 'OMIM:602780.0007', 'OMIM:106165.0001', 'OMIM:607440.0015', 'OMIM:300538.0002', 'OMIM:600024.0004', 'OMIM:610552.0003', 'OMIM:600276.0004', 'OMIM:609332.0004', 'OMIM:602931.0010', 'OMIM:608396.0001', 'OMIM:602445.0003', 'OMIM:602280.0008', 'OMIM:604368.0003', 'OMIM:123825.0003', 'OMIM:400005.0002', 'OMIM:111700.0006', 'OMIM:601645.0001', 'OMIM:601309.0006', 'OMIM:615410.0001', 'ClinVarVariant:21136', 'OMIM:614556.0003', 'OMIM:113811.0002', 'OMIM:604544.0007', 'OMIM:607300.0007', 'OMIM:137190.0002', 'OMIM:136850.0007', 'OMIM:300579.0001', 'OMIM:142704.0001', 'OMIM:605378.0010', 'OMIM:601771.0009', 'OMIM:151460.0001', 'OMIM:123930.0004', 'OMIM:601789.0003', 'ClinVarVariant:242459', 'OMIM:300379.0006', 'OMIM:600065.0003', 'OMIM:614184.0002', 'OMIM:608206.0002', 'OMIM:617110.0005', 'OMIM:611499.0007', 'OMIM:600944.0003', 'OMIM:100725.0008', 'OMIM:164770.0012', 'OMIM:607690.0002', 'ClinVarVariant:949392', 'OMIM:613597.0001', 'OMIM:608309.0001', 'OMIM:114010.0005', 'OMIM:601785.0003', 'OMIM:613437.0002', 'OMIM:600799.0026', 'OMIM:120150.0060', 'OMIM:251170.0002', 'OMIM:300457.0005', 'OMIM:604473.0005', 'OMIM:139191.0007', 'OMIM:607393.0002', 'OMIM:191044.0015', 'OMIM:185470.0012', 'OMIM:610573.0002', 'OMIM:164010.0001', 'OMIM:600228.0008', 'OMIM:603371.0003', 'dbSNP:rs3106136', 'OMIM:174763.0022', 'OMIM:601652.0002', 'OMIM:141900.0328', 'OMIM:141900.0175', 'OMIM:604210.0008', 'OMIM:603834.0001', 'OMIM:173470.0008', 'ClinVarVariant:237122', 'OMIM:602037.0001', 'OMIM:172400.0002', 'OMIM:606440.0002', 'OMIM:605880.0008', 'OMIM:605011.0001', 'OMIM:607839.0014', 'OMIM:191315.0013', 'OMIM:141900.0193', 'OMIM:602402.0011', 'OMIM:153454.0010', 'OMIM:134790.0003', 'OMIM:607800.0008', 'OMIM:120180.0002', 'OMIM:602590.0001', 'OMIM:601097.0018', 'OMIM:252800.0013', 'OMIM:602650.0004', 'OMIM:606389.0002', 'OMIM:606598.0002', 'OMIM:613798.0002', 'OMIM:180901.0024', 'dbSNP:rs2281845', 'OMIM:608002.0006', 'OMIM:600473.0002', 'dbSNP:rs1227969', 'OMIM:480000.0015', 'OMIM:155541.0018', 'OMIM:613381.0002', 'OMIM:603324.0009', 'OMIM:607788.0005', 'OMIM:613516.0001', 'OMIM:400033.0001', 'OMIM:162643.0001', 'OMIM:610219.0001', 'ClinVarVariant:804893', 'OMIM:615068.0005', 'OMIM:160760.0012', 'OMIM:615038.0005', 'OMIM:608537.0026', 'ClinVarVariant:242480', 'OMIM:300040.0009', 'OMIM:164350.0002', 'OMIM:605072.0001', 'OMIM:604384.0008', 'OMIM:607423.0002', 'OMIM:600726.0004', 'OMIM:604831.0004', 'OMIM:176871.0005', 'OMIM:603056.0003', 'OMIM:604710.0005', 'OMIM:605925.0012', 'OMIM:602519.0004', 'OMIM:610550.0006', 'OMIM:607983.0006', 'OMIM:612222.0010', 'OMIM:600011.0010', 'OMIM:603470.0005', 'dbSNP:rs17118552', 'OMIM:615790.0002', 'OMIM:610512.0008', 'OMIM:609539.0003', 'OMIM:619109.0004', 'OMIM:116805.0002', 'OMIM:600900.0002', 'OMIM:607608.0003', 'OMIM:601920.0006', 'OMIM:602544.0007', 'OMIM:603959.0015', 'OMIM:603372.0031', 'OMIM:614477.0006', 'OMIM:613160.0040', 'OMIM:603349.0003', 'OMIM:136351.0003', 'OMIM:300746.0090', 'OMIM:188830.0011', 'OMIM:608830.0001', 'OMIM:614584.0003', 'OMIM:601011.0031', 'OMIM:300515.0004', 'dbSNP:rs1543922', 'OMIM:604985.0003', 'OMIM:606463.0043', 'dbSNP:rs619745', 'OMIM:610613.0006', 'OMIM:607108.0012', 'OMIM:608830.0011', 'OMIM:600635.0010', 'OMIM:609937.0002', 'OMIM:600778.0006', 'OMIM:300451.0013', 'OMIM:139350.0015', 'OMIM:612655.0001', 'OMIM:300688.0004', 'OMIM:160775.0009', 'OMIM:603673.0003', 'OMIM:142000.0035', 'OMIM:615698.0002', 'OMIM:613176.0002', 'OMIM:604780.0007', 'OMIM:605232.0011', 'OMIM:605283.0002', 'OMIM:590035.0002', 'OMIM:606441.0002', 'OMIM:182389.0016', 'OMIM:141850.0033', 'OMIM:112262.0007', 'OMIM:612773.0004', 'OMIM:600014.0011', 'OMIM:606241.0014', 'OMIM:610089.0001', 'OMIM:164011.0001', 'OMIM:141900.0436', 'OMIM:120920.0004', 'OMIM:608757.0001', 'OMIM:300841.0004', 'OMIM:610036.0002', 'OMIM:607955.0010', 'OMIM:113705.0005', 'OMIM:606628.0001', 'OMIM:113530.0001', 'OMIM:603470.0008', 'OMIM:600529.0008', 'OMIM:613726.0001', 'OMIM:601296.0001', 'OMIM:182307.0007', 'dbSNP:rs10866646', 'OMIM:300203.0006', 'dbSNP:rs2919286', 'OMIM:606224.0006', 'OMIM:612373.0012', 'OMIM:191311.0004', 'OMIM:600799.0021', 'ClinVarVariant:427600', 'OMIM:602229.0004', 'OMIM:600650.0007', 'OMIM:147620.0002', 'OMIM:134629.0001', 'OMIM:600037.0001', 'OMIM:611045.0001', 'OMIM:191044.0002', 'OMIM:604404.0006', 'OMIM:602218.0002', 'OMIM:604175.0005', 'OMIM:609644.0002', 'OMIM:603220.0004', 'OMIM:614982.0008', 'OMIM:120280.0004', 'OMIM:612316.0002', 'OMIM:607982.0006', 'OMIM:180072.0002', 'OMIM:606421.0001', 'OMIM:131195.0006', 'OMIM:601860.0007', 'OMIM:160720.0007', 'OMIM:107773.0004', 'OMIM:613871.0003', 'OMIM:613529.0006', 'OMIM:604574.0003', 'OMIM:613354.0001', 'OMIM:616120.0003', 'OMIM:160720.0005', 'dbSNP:rs112016995', 'OMIM:605802.0010', 'OMIM:602337.0012', 'OMIM:177400.0013', 'OMIM:613349.0024', 'OMIM:613898.0005', 'OMIM:601199.0026', 'OMIM:602900.0011', 'OMIM:136350.0020', 'OMIM:600976.0001', 'OMIM:132890.0002', 'ClinVarVariant:486807', 'ClinVarVariant:613415', 'OMIM:300415.0003', 'OMIM:160790.0003', 'OMIM:610823.0002', 'OMIM:142955.0001', 'OMIM:600635.0007', 'OMIM:123805.0006', 'OMIM:600909.0009', 'OMIM:516050.0003', 'OMIM:148041.0002', 'OMIM:608555.0004', 'OMIM:308380.0007', 'OMIM:614452.0002', 'OMIM:156845.0012', 'OMIM:600509.0016', 'OMIM:605610.0001', 'OMIM:308000.0059', 'OMIM:314670.0001', 'OMIM:600450.0004', 'OMIM:134790.0004', 'OMIM:192340.0008', 'OMIM:606967.0004', 'OMIM:601771.0016', 'OMIM:305900.0040', 'OMIM:602421.0068', 'OMIM:609695.0006', 'OMIM:308000.0009', 'OMIM:159440.0034', 'dbSNP:rs75941298', 'OMIM:602403.0001', 'OMIM:141900.0049', 'OMIM:601802.0002', 'dbSNP:rs1045929', 'OMIM:601199.0023', 'OMIM:600760.0007', 'OMIM:148760.0001', 'OMIM:610197.0002', 'dbSNP:rs8003775', 'OMIM:139313.0002', 'OMIM:607273.0006', 'OMIM:607788.0006', 'OMIM:608441.0002', 'OMIM:602552.0001', 'OMIM:194363.0006', 'OMIM:190990.0001', 'OMIM:600011.0003', 'OMIM:516005.0008', 'ClinVarVariant:447695', 'OMIM:131240.0004', 'OMIM:606897.0002', 'OMIM:608310.0001', 'OMIM:603122.0002', 'OMIM:615322.0002', 'OMIM:601652.0012', 'OMIM:188830.0015', 'OMIM:139360.0004', 'OMIM:610192.0003', 'OMIM:617110.0001', 'OMIM:600228.0002', 'OMIM:142410.0010', 'OMIM:173321.0001', 'OMIM:603465.0006', 'OMIM:603248.0009', 'OMIM:613349.0017', 'OMIM:142410.0021', 'OMIM:121013.0005', 'ClinVarVariant:105260', 'OMIM:130500.0004', 'OMIM:608375.0001', 'OMIM:601090.0003', 'OMIM:607929.0006', 'OMIM:107300.0023', 'OMIM:123610.0001', 'OMIM:137165.0003', 'OMIM:611888.0005', 'OMIM:613468.0011', 'dbSNP:rs75293180', 'OMIM:602421.0090', 'OMIM:603647.0011', 'OMIM:606409.0002', 'OMIM:610528.0003', 'dbSNP:rs17293443', 'OMIM:607871.0001', 'OMIM:177070.0004', 'OMIM:611409.0011', 'OMIM:603023.0002', 'OMIM:606945.0044', 'OMIM:191092.0001', 'OMIM:138160.0014', 'OMIM:300169.0017', 'OMIM:617245.0002', 'OMIM:600521.0001', 'OMIM:600473.0009', 'OMIM:604159.0007', 'OMIM:134790.0019', 'ClinVarVariant:39629', 'OMIM:610690.0002', 'OMIM:188840.0019', 'OMIM:276000.0001', 'OMIM:600946.0010', 'OMIM:609312.0001', 'OMIM:168468.0005', 'OMIM:612222.0006', 'OMIM:147280.0002', 'OMIM:602575.0010', 'OMIM:601928.0006', 'OMIM:613160.0005', 'OMIM:176872.0004', 'OMIM:616112.0005', 'OMIM:612222.0003', 'OMIM:615494.0002', 'OMIM:602421.0098', 'OMIM:120150.0042', 'OMIM:605131.0004', 'OMIM:604629.0003', 'OMIM:604557.0002', 'OMIM:157660.0020', 'OMIM:300841.0024', 'dbSNP:rs77269753', 'OMIM:602024.0002', 'OMIM:606597.0011', 'OMIM:607642.0005', 'OMIM:606945.0039', 'OMIM:602536.0003', 'OMIM:300377.0030', 'OMIM:601011.0037', 'OMIM:612898.0007', 'OMIM:608945.0008', 'OMIM:610316.0002', 'OMIM:610457.0006', 'OMIM:608555.0005', 'OMIM:605597.0015', 'OMIM:604734.0004', 'ClinVarVariant:468695', 'OMIM:611184.0005', 'OMIM:602290.0003', 'OMIM:601313.0011', 'OMIM:602146.0002', 'OMIM:611458.0017', 'OMIM:618260.0003', 'OMIM:121014.0014', 'OMIM:164770.0004', 'OMIM:606582.0002', 'OMIM:602365.0012', 'OMIM:134790.0016', 'OMIM:603892.0005', 'OMIM:609825.0004', 'OMIM:606822.0006', 'OMIM:300822.0004', 'OMIM:612517.0001', 'OMIM:167409.0014', 'OMIM:610277.0005', 'OMIM:148040.0003', 'OMIM:603283.0003', 'OMIM:614512.0002', 'OMIM:105850.0005', 'ClinVarVariant:57683', 'OMIM:600065.0014', 'OMIM:601691.0003', 'OMIM:612322.0004', 'OMIM:606882.0007', 'OMIM:118485.0004', 'dbSNP:rs4489302', 'OMIM:600234.0006', 'OMIM:606609.0004', 'OMIM:142250.0031', 'OMIM:607393.0003', 'ClinVarVariant:17333', 'OMIM:607707.0005', 'OMIM:601746.0002', 'OMIM:613629.0011', 'OMIM:613363.0002', 'OMIM:602137.0003', 'OMIM:308000.0050', 'OMIM:611507.0001', 'OMIM:136352.0015', 'OMIM:147200.0004', 'OMIM:605874.0001', 'OMIM:141900.0023', 'OMIM:611224.0001', 'OMIM:607701.0001', 'OMIM:300275.0004', 'OMIM:300897.0014', 'OMIM:139350.0002', 'OMIM:607800.0007', 'OMIM:600968.0001', 'OMIM:607854.0020', 'OMIM:602242.0001', 'OMIM:613984.0001', 'OMIM:300841.0025', 'OMIM:613109.0004', 'OMIM:102579.0002', 'OMIM:604734.0007', 'OMIM:617371.0002', 'OMIM:123830.0001', 'OMIM:156845.0004', 'OMIM:601749.0004', 'OMIM:141900.0139', 'OMIM:156570.0006', 'OMIM:602700.0004', 'OMIM:606951.0002', 'OMIM:607439.0018', 'OMIM:614620.0008', 'OMIM:602153.0001', 'OMIM:602243.0001', 'OMIM:607883.0001', 'OMIM:136435.0007', 'OMIM:601609.0003', 'OMIM:602286.0002', 'OMIM:603377.0002', 'OMIM:120190.0005', 'OMIM:300256.0003', 'OMIM:605924.0005', 'OMIM:160760.0008', 'OMIM:600163.0010', 'OMIM:137960.0003', 'OMIM:141900.0390', 'OMIM:604902.0004', 'OMIM:300039.0006', 'OMIM:192090.0002', 'OMIM:605042.0001', 'OMIM:605514.0010', 'OMIM:604159.0004', 'OMIM:182350.0018', 'OMIM:600228.0001', 'OMIM:603942.0004', 'OMIM:164920.0004', 'OMIM:190020.0003', 'OMIM:614258.0006', 'OMIM:600179.0010', 'OMIM:604198.0001', 'OMIM:612959.0001', 'OMIM:308840.0013', 'OMIM:300126.0011', 'OMIM:603234.0023', 'OMIM:136351.0001', 'OMIM:103600.0043', 'OMIM:613541.0007', 'dbSNP:rs16906916', 'OMIM:600478.0001', 'OMIM:180297.0001', 'OMIM:179615.0020', 'OMIM:300746.0033', 'OMIM:603810.0001', 'OMIM:182340.0015', 'OMIM:300798.0013', 'OMIM:601373.0002', 'OMIM:604569.0009', 'ClinVarVariant:439524', 'OMIM:601843.0004', 'OMIM:300757.0004', 'OMIM:300697.0003', 'OMIM:190070.0012', 'OMIM:616735.0001', 'OMIM:600046.0009', 'OMIM:107680.0010', 'OMIM:605609.0003', 'dbSNP:rs80254053', 'OMIM:601538.0011', 'OMIM:120160.0051', 'OMIM:191030.0004', 'OMIM:300377.0036', 'OMIM:608771.0001', 'OMIM:150330.0039', 'OMIM:617612.0006', 'ClinVarVariant:242498', 'OMIM:190182.0004', 'OMIM:613277.0001', 'OMIM:138450.0005', 'OMIM:176943.0031', 'OMIM:120250.0008', 'OMIM:607199.0011', 'ClinVarVariant:472257', 'OMIM:607063.0009', 'OMIM:607574.0026', 'OMIM:611428.0004', 'OMIM:608625.0003', 'OMIM:615944.0005', 'OMIM:611595.0005', 'OMIM:311850.0007', 'OMIM:605459.0005', 'OMIM:153440.0001', 'OMIM:102750.0001', 'OMIM:168450.0003', 'OMIM:311800.0005', 'OMIM:187270.0023', 'OMIM:612732.0001', 'dbSNP:rs1052763', 'OMIM:600293.0001', 'OMIM:164012.0006', 'OMIM:137030.0005', 'OMIM:604402.0003', 'OMIM:120920.0003', 'OMIM:613733.0029', 'OMIM:176943.0005', 'OMIM:600473.0003', 'OMIM:614041.0013', 'OMIM:614084.0002', 'OMIM:160760.0037', 'OMIM:300121.0003', 'dbSNP:rs317856906', 'OMIM:607759.0016', 'OMIM:613524.0001', 'OMIM:300913.0006', 'OMIM:613872.0005', 'OMIM:606682.0005', 'OMIM:608348.0004', 'OMIM:600046.0003', 'dbSNP:rs71597752', 'OMIM:191845.0004', 'OMIM:615291.0009', 'OMIM:612648.0002', 'OMIM:603333.0005', 'OMIM:305900.0038', 'OMIM:300644.0002', 'OMIM:606951.0001', 'OMIM:601617.0003', 'OMIM:606794.0002', 'OMIM:614584.0005', 'OMIM:185620.0012', 'OMIM:601652.0004', 'OMIM:120160.0027', 'OMIM:180072.0001', 'OMIM:603861.0007', 'OMIM:611430.0003', 'OMIM:607839.0010', 'OMIM:613580.0005', 'OMIM:612724.0012', 'OMIM:118425.0010', 'OMIM:606158.0004', 'OMIM:602218.0008', 'OMIM:160775.0005', 'OMIM:147520.0003', 'OMIM:304040.0011', 'OMIM:602322.0010', 'OMIM:613176.0001', 'OMIM:188070.0002', 'OMIM:160720.0019', 'OMIM:150370.0007', 'OMIM:608272.0009', 'OMIM:607212.0004', 'OMIM:600163.0033', 'OMIM:313700.0043', 'OMIM:138420.0002', 'OMIM:612761.0003', 'OMIM:610683.0003', 'OMIM:614297.0008', 'OMIM:614848.0002', 'OMIM:165640.0006', 'OMIM:606810.0006', 'OMIM:603009.0005', 'ClinVarVariant:242610', 'OMIM:610222.0004', 'OMIM:616899.0002', 'OMIM:192132.0002', 'OMIM:300126.0003', 'OMIM:104760.0019', 'OMIM:603201.0006', 'OMIM:606822.0019', 'OMIM:181590.0005', 'OMIM:616178.0003', 'OMIM:603816.0002', 'OMIM:148041.0007', 'OMIM:609506.0007', 'OMIM:610924.0008', 'OMIM:107777.0018', 'OMIM:603959.0019', 'OMIM:609708.0006', 'OMIM:605313.0003', 'OMIM:607574.0037', 'OMIM:612411.0009', 'OMIM:601592.0003', 'OMIM:300841.0116', 'OMIM:179617.0001', 'ClinVarVariant:540550', 'OMIM:612502.0005', 'OMIM:600415.0001', 'OMIM:600733.0010', 'OMIM:120150.0055', 'OMIM:617387.0003', 'OMIM:107741.0018', 'OMIM:590020.0002', 'OMIM:160781.0005', 'OMIM:600678.0006', 'OMIM:120280.0011', 'OMIM:602090.0001', 'dbSNP:rs72687745', 'OMIM:611409.0008', 'OMIM:607343.0010', 'OMIM:603967.0027', 'OMIM:606480.0007', 'OMIM:164360.0001', 'ClinVarVariant:361135', 'OMIM:606951.0007', 'OMIM:300526.0003', 'OMIM:142989.0004', 'OMIM:141900.0226', 'OMIM:603647.0012', 'OMIM:300371.0021', 'OMIM:615847.0007', 'ClinVarVariant:679849', 'OMIM:605427.0006', 'OMIM:616144.0004', 'OMIM:611458.0022', 'OMIM:609681.0003', 'OMIM:191010.0006', 'OMIM:608507.0001', 'OMIM:606933.0032', 'OMIM:238300.0010', 'OMIM:176830.0004', 'OMIM:601893.0002', 'OMIM:300798.0014', 'OMIM:300008.0012', 'OMIM:300746.0094', 'OMIM:611565.0006', 'OMIM:605411.0007', 'OMIM:300060.0001', 'OMIM:300897.0001', 'dbSNP:rs60113019', 'OMIM:605073.0006', 'OMIM:606759.0003', 'OMIM:604614.0002', 'OMIM:600635.0003', 'OMIM:610263.0001', 'OMIM:615291.0017', 'dbSNP:rs11047249', 'OMIM:188840.0009', 'OMIM:603335.0006', 'OMIM:604857.0002', 'OMIM:123590.0007', 'OMIM:133510.0003', 'OMIM:308000.0002', 'OMIM:606397.0008', 'OMIM:147440.0003', 'OMIM:604139.0003', 'OMIM:606462.0008', 'OMIM:600065.0007', 'ClinVarVariant:543887', 'OMIM:121014.0008', 'OMIM:107777.0010', 'OMIM:602421.0084', 'ClinVarVariant:242612', 'OMIM:609658.0002', 'OMIM:613871.0002', 'OMIM:605367.0002', 'OMIM:616107.0001', 'OMIM:608614.0002', 'OMIM:611672.0007', 'OMIM:141850.0055', 'OMIM:615004.0004', 'OMIM:139080.0001', 'OMIM:604267.0004', 'OMIM:608171.0002', 'dbSNP:rs910083', 'OMIM:120436.0017', 'OMIM:146661.0001', 'OMIM:609383.0002', 'OMIM:170280.0003', 'OMIM:601691.0009', 'OMIM:608628.0002', 'dbSNP:rs495524', 'dbSNP:rs6691722', 'dbSNP:rs117551578', 'OMIM:142250.0009', 'OMIM:120120.0002', 'OMIM:603634.0005', 'OMIM:605597.0016', 'OMIM:176261.0003', 'OMIM:300473.0025', 'OMIM:610531.0003', 'OMIM:609373.0001', 'dbSNP:rs75607637', 'OMIM:607574.0032', 'OMIM:107323.0007', 'OMIM:300102.0001', 'OMIM:607878.0001', 'OMIM:604385.0004', 'OMIM:142200.0025', 'OMIM:610916.0002', 'OMIM:611317.0001', 'OMIM:617278.0003', 'OMIM:606847.0001', 'OMIM:113705.0010', 'OMIM:602765.0002', 'OMIM:605425.0001', 'OMIM:600726.0001', 'OMIM:113705.0031', 'OMIM:610982.0001', 'OMIM:612453.0001', 'OMIM:160760.0046', 'OMIM:612386.0006', 'OMIM:608537.0012', 'OMIM:184757.0019', 'OMIM:605461.0005', 'OMIM:142000.0022', 'OMIM:300746.0107', 'OMIM:153455.0004', 'OMIM:605754.0001', 'OMIM:616982.0001', 'OMIM:602413.0001', 'ClinVarVariant:242495', 'OMIM:617949.0002', 'OMIM:137780.0013', 'OMIM:610925.0002', 'OMIM:607306.0004', 'OMIM:120700.0005', 'OMIM:602858.0008', 'OMIM:602090.0011', 'dbSNP:rs6675828', 'OMIM:120190.0001', 'OMIM:603685.0001', 'OMIM:150310.0001', 'OMIM:141900.0028', 'OMIM:602264.0001', 'OMIM:609806.0021', 'OMIM:614366.0001', 'OMIM:191170.0021', 'OMIM:604373.0013', 'OMIM:190020.0008', 'OMIM:605789.0001', 'OMIM:102680.0001', 'OMIM:167409.0012', 'OMIM:618941.0001', 'OMIM:131320.0007', 'OMIM:148043.0003', 'OMIM:132811.0001', 'OMIM:602090.0012', 'OMIM:603158.0002', 'OMIM:607306.0011', 'OMIM:120180.0010', 'OMIM:616729.0001', 'OMIM:606681.0013', 'dbSNP:rs519595', 'OMIM:600211.0004', 'OMIM:180660.0003', 'OMIM:312610.0007', 'dbSNP:rs62208042', 'OMIM:123590.0008', 'OMIM:141850.0010', 'OMIM:601097.0016', 'OMIM:300473.0016', 'OMIM:143450.0007', 'OMIM:604505.0001', 'OMIM:612779.0005', 'OMIM:611486.0001', 'dbSNP:rs6809116', 'OMIM:107741.0033', 'OMIM:141900.0338', 'OMIM:603741.0003', 'OMIM:607809.0015', 'OMIM:164920.0019', 'OMIM:610991.0003', 'OMIM:308840.0007', 'OMIM:602044.0004', 'OMIM:605880.0007', 'OMIM:160794.0003', 'ClinVarVariant:569301', 'OMIM:191845.0013', 'OMIM:601284.0014', 'OMIM:300401.0025', 'OMIM:606933.0022', 'OMIM:600525.0002', 'OMIM:603372.0018', 'OMIM:601688.0001', 'OMIM:606869.0055', 'OMIM:606323.0007', 'OMIM:600160.0021', 'dbSNP:rs564148', 'OMIM:607840.0009', 'OMIM:616506.0003', 'OMIM:603490.0002', 'OMIM:600112.0007', 'OMIM:607999.0006', 'OMIM:602238.0001', 'OMIM:611034.0001', 'OMIM:103600.0008', 'OMIM:604973.0001', 'dbSNP:rs144150699', 'OMIM:601615.0006', 'OMIM:610826.0002', 'OMIM:600163.0041', 'OMIM:609520.0007', 'OMIM:191170.0004', 'OMIM:136350.0024', 'OMIM:613401.0005', 'OMIM:606765.0008', 'OMIM:124030.0002', 'OMIM:601622.0013', 'OMIM:609669.0001', 'OMIM:607035.0003', 'OMIM:311770.0011', 'OMIM:613441.0005', 'OMIM:603527.0003', 'OMIM:610142.0010', 'OMIM:151443.0004', 'OMIM:612676.0004', 'OMIM:300841.0027', 'OMIM:608309.0003', 'OMIM:300248.0028', 'OMIM:108730.0003', 'OMIM:603946.0001', 'OMIM:605608.0002', 'OMIM:176876.0029', 'OMIM:610277.0007', 'OMIM:604455.0001', 'OMIM:604385.0002', 'OMIM:606441.0007', 'ClinVarVariant:965814', 'OMIM:611025.0001', 'OMIM:608568.0003', 'OMIM:605435.0002', 'OMIM:190000.0009', 'OMIM:167411.0001', 'OMIM:192977.0005', 'OMIM:179605.0007', 'OMIM:121014.0003', 'OMIM:601819.0004', 'OMIM:600761.0007', 'OMIM:173110.0014', 'OMIM:603208.0005', 'OMIM:609588.0002', 'OMIM:610087.0005', 'OMIM:601893.0006', 'dbSNP:rs1114790', 'OMIM:608665.0001', 'OMIM:613113.0039', 'OMIM:607542.0034', 'OMIM:103220.0003', 'OMIM:600163.0011', 'OMIM:608537.0016', 'OMIM:610681.0005', 'OMIM:600555.0018', 'OMIM:602241.0002', 'OMIM:604774.0004', 'OMIM:601282.0012', 'ClinVarVariant:982538', 'OMIM:138971.0004', 'OMIM:610860.0009', 'OMIM:605942.0002', 'OMIM:601769.0010', 'OMIM:608969.0001', 'OMIM:138079.0015', 'OMIM:601877.0002', 'OMIM:601860.0002', 'dbSNP:rs2273359', 'OMIM:608375.0002', 'OMIM:607031.0003', 'OMIM:601498.0015', 'OMIM:603564.0002', 'OMIM:612013.0005', 'OMIM:300841.0076', 'OMIM:600760.0012', 'OMIM:600681.0010', 'OMIM:137070.0003', 'OMIM:600259.0008', 'OMIM:605608.0005', 'OMIM:120120.0035', 'OMIM:602617.0004', 'OMIM:102560.0008', 'OMIM:614151.0002', 'OMIM:604505.0008', 'OMIM:606794.0001', 'OMIM:131195.0001', 'OMIM:601897.0002', 'OMIM:171760.0013', 'OMIM:615407.0003', 'OMIM:608177.0006', 'OMIM:300461.0011', 'OMIM:120470.0004', 'OMIM:182350.0012', 'OMIM:613766.0002', 'OMIM:300390.0010', 'OMIM:614386.0002', 'OMIM:601408.0001', 'OMIM:612802.0001', 'OMIM:602643.0002', 'OMIM:608416.0011', 'OMIM:600201.0001', 'OMIM:609010.0002', 'OMIM:120250.0010', 'OMIM:609562.0001', 'OMIM:600184.0001', 'OMIM:141900.0205', 'OMIM:606241.0006', 'OMIM:603453.0005', 'OMIM:608083.0004', 'OMIM:141900.0133', 'OMIM:602859.0004', 'OMIM:611184.0010', 'OMIM:612850.0003', 'OMIM:313700.0020', 'OMIM:607642.0004', 'OMIM:159460.0002', 'OMIM:614787.0004', 'OMIM:146933.0005', 'OMIM:607568.0002', 'OMIM:600635.0002', 'OMIM:159465.0001', 'OMIM:118425.0018', 'OMIM:601689.0001', 'OMIM:264900.0008', 'OMIM:121014.0007', 'OMIM:602601.0002', 'OMIM:107400.0005', 'OMIM:601284.0008', 'OMIM:612901.0001', 'OMIM:141800.0189', 'OMIM:601107.0001', 'OMIM:180220.0003', 'OMIM:609575.0004', 'OMIM:600844.0002', 'OMIM:601428.0012', 'OMIM:601687.0005', 'OMIM:603539.0004', 'OMIM:602232.0003', 'dbSNP:rs45573441', 'OMIM:613621.0005', 'OMIM:141800.0077', 'OMIM:601265.0001', 'OMIM:601365.0006', 'OMIM:613868.0005', 'OMIM:141800.0185', 'OMIM:120220.0004', 'OMIM:615831.0003', 'OMIM:616284.0002', 'OMIM:607961.0003', 'OMIM:602774.0007', 'OMIM:600354.0020', 'OMIM:141900.0288', 'OMIM:607759.0006', 'OMIM:615416.0003', 'OMIM:607585.0022', 'OMIM:603377.0005', 'OMIM:611716.0005', 'OMIM:300371.0003', 'OMIM:609023.0002', 'OMIM:604161.0008', 'OMIM:131195.0002', 'OMIM:103600.0056', 'OMIM:608753.0003', 'OMIM:602635.0018', 'OMIM:607982.0008', 'OMIM:176980.0001', 'OMIM:608307.0007', 'OMIM:184745.0002', 'OMIM:300035.0008', 'OMIM:609806.0007', 'dbSNP:rs1273516', 'OMIM:605740.0001', 'OMIM:171760.0011', 'OMIM:602716.0008', 'OMIM:601769.0009', 'OMIM:603465.0002', 'OMIM:605755.0003', 'OMIM:607951.0002', 'OMIM:600031.0002', 'OMIM:607123.0007', 'OMIM:516003.0004', 'OMIM:164975.0004', 'OMIM:606682.0004', 'OMIM:276000.0006', 'OMIM:600599.0008', 'dbSNP:rs140224167', 'OMIM:601248.0001', 'OMIM:176300.0032', 'OMIM:616213.0001', 'OMIM:613898.0003', 'dbSNP:rs6440478', 'OMIM:141850.0066', 'OMIM:605546.0001', 'OMIM:609062.0001', 'OMIM:613128.0002', 'OMIM:602257.0006', 'OMIM:600923.0005', 'OMIM:611766.0006', 'OMIM:172860.0001', 'OMIM:614785.0004', 'OMIM:188830.0001', 'OMIM:607108.0021', 'OMIM:300470.0002', 'OMIM:182100.0003', 'OMIM:614574.0003', 'OMIM:604544.0006', 'OMIM:603470.0017', 'OMIM:602115.0006', 'OMIM:607306.0010', 'OMIM:137960.0005', 'OMIM:605363.0003', 'OMIM:616768.0005', 'OMIM:607343.0005', 'OMIM:601891.0001', 'OMIM:605705.0001', 'OMIM:141900.0020', 'OMIM:516005.0001', 'OMIM:156225.0015', 'OMIM:615843.0005', 'OMIM:607568.0010', 'OMIM:606151.0012', 'OMIM:602743.0001', 'OMIM:516001.0001', 'OMIM:312040.0002', 'OMIM:604503.0001', 'OMIM:300401.0007', 'OMIM:616023.0002', 'OMIM:141900.0428', 'OMIM:612503.0001', 'OMIM:134820.0014', 'OMIM:602389.0003', 'OMIM:601757.0004', 'OMIM:300658.0008', 'OMIM:176640.0031', 'OMIM:300798.0001', 'OMIM:300269.0004', 'OMIM:600725.0016', 'OMIM:613213.0007', 'OMIM:609884.0023', 'OMIM:300841.0270', 'OMIM:148760.0009', 'OMIM:300546.0007', 'OMIM:134820.0008', 'OMIM:170280.0006', 'OMIM:130160.0009', 'OMIM:614506.0010', 'OMIM:600509.0006', 'OMIM:613858.0002', 'OMIM:308000.0058', 'OMIM:602860.0013', 'OMIM:137165.0001', 'OMIM:179820.0002', 'OMIM:604873.0001', 'OMIM:603967.0007', 'OMIM:147558.0001', 'OMIM:608833.0017', 'OMIM:609884.0007', 'OMIM:300841.0196', 'OMIM:313440.0004', 'OMIM:613815.0010', 'OMIM:602421.0085', 'OMIM:609300.0027', 'OMIM:182530.0006', 'OMIM:601771.0002', 'OMIM:603967.0015', 'OMIM:609014.0005', 'OMIM:616253.0001', 'OMIM:605356.0002', 'OMIM:141900.0179', 'OMIM:607574.0009', 'OMIM:146690.0001', 'OMIM:300386.0001', 'OMIM:609291.0006', 'OMIM:136435.0008', 'OMIM:600364.0002', 'OMIM:605047.0002', 'OMIM:120240.0015', 'OMIM:177060.0003', 'OMIM:608317.0003', 'OMIM:608965.0004', 'ClinVarVariant:613420', 'OMIM:192090.0004', 'OMIM:612458.0008', 'OMIM:605158.0002', 'OMIM:603681.0010', 'OMIM:609884.0022', 'OMIM:613036.0003', 'OMIM:615054.0001', 'OMIM:605035.0003', 'OMIM:187270.0022', 'OMIM:614366.0004', 'OMIM:617558.0005', 'OMIM:609237.0005', 'OMIM:601734.0001', 'OMIM:160775.0013', 'OMIM:139191.0002', 'OMIM:604277.0015', 'OMIM:613878.0005', 'OMIM:604831.0006', 'OMIM:180901.0016', 'OMIM:604357.0003', 'OMIM:603357.0001', 'ClinVarVariant:974625', 'OMIM:180472.0002', 'OMIM:607159.0005', 'ClinVarVariant:857332', 'OMIM:603372.0005', 'OMIM:114840.0002', 'OMIM:607210.0004', 'OMIM:104225.0001', 'OMIM:616107.0003', 'OMIM:601089.0006', 'OMIM:607440.0014', 'OMIM:100730.0002', 'OMIM:114205.0010', 'OMIM:603646.0002', 'OMIM:617619.0004', 'OMIM:141800.0199', 'OMIM:611204.0001', 'dbSNP:rs477692', 'OMIM:141800.0074', 'ClinVarVariant:29991', 'ClinVarVariant:567945', 'OMIM:603780.0001', 'OMIM:614041.0002', 'OMIM:600681.0013', 'OMIM:120150.0071', 'ClinVarVariant:23635', 'OMIM:607817.0002', 'OMIM:141800.0179', 'OMIM:142410.0004', 'OMIM:604653.0001', 'OMIM:608317.0004', 'OMIM:607108.0010', 'OMIM:607613.0002', 'OMIM:300040.0012', 'OMIM:607830.0001', 'OMIM:609644.0004', 'OMIM:609427.0002', 'OMIM:603339.0004', 'OMIM:611026.0008', 'OMIM:600053.0002', 'OMIM:600523.0005', 'OMIM:606025.0006', 'OMIM:160720.0010', 'OMIM:138292.0006', 'OMIM:147670.0012', 'OMIM:125647.0021', 'OMIM:300644.0026', 'OMIM:154100.0001', 'dbSNP:rs4441621', 'OMIM:607709.0002', 'OMIM:607617.0001', 'OMIM:116806.0011', 'OMIM:602286.0003', 'OMIM:134820.0003', 'OMIM:612907.0005', 'OMIM:610272.0002', 'OMIM:601791.0002', 'OMIM:604895.0001', 'OMIM:311850.0002', 'OMIM:100725.0014', 'OMIM:600993.0008', 'OMIM:159530.0007', 'OMIM:160745.0003', 'OMIM:609332.0011', 'OMIM:613437.0005', 'OMIM:309550.0003', 'OMIM:604910.0005', 'OMIM:300470.0005', 'OMIM:603632.0001', 'OMIM:616715.0001', 'ClinVarVariant:48092', 'OMIM:163890.0007', 'OMIM:603400.0003', 'OMIM:302910.0002', 'dbSNP:rs11710967', 'OMIM:311800.0007', 'OMIM:300841.0082', 'OMIM:308000.0013', 'OMIM:300628.0001', 'OMIM:601728.0027', 'OMIM:190040.0001', 'OMIM:603921.0003', 'OMIM:142200.0021', 'OMIM:606897.0007', 'OMIM:600958.0008', 'ClinVarVariant:237681', 'OMIM:602120.0002', 'OMIM:148080.0004', 'OMIM:600570.0001', 'OMIM:123670.0002', 'OMIM:300391.0012', 'OMIM:164820.0006', 'OMIM:610219.0002', 'dbSNP:rs62482803', 'OMIM:608441.0010', 'OMIM:147450.0014', 'OMIM:609279.0001', 'OMIM:613213.0011', 'OMIM:605646.0021', 'OMIM:168840.0001', 'OMIM:107820.0005', 'OMIM:147557.0007', 'OMIM:608833.0005', 'OMIM:605000.0002', 'OMIM:601843.0006', 'ClinVarVariant:429194', 'OMIM:300658.0002', 'OMIM:613733.0007', 'OMIM:120120.0006', 'OMIM:313700.0015', 'dbSNP:rs11753937', 'OMIM:107265.0006', 'OMIM:607521.0002', 'OMIM:604125.0002', 'OMIM:613381.0009', 'OMIM:603604.0005', 'OMIM:138210.0007', 'OMIM:600011.0008', 'OMIM:600799.0019', 'OMIM:600810.0005', 'OMIM:600013.0005', 'OMIM:604436.0002', 'OMIM:607929.0003', 'OMIM:141800.0012', 'OMIM:606412.0003', 'OMIM:180901.0037', 'OMIM:138491.0012', 'OMIM:607961.0002', 'OMIM:130160.0001', 'OMIM:180435.0003', 'OMIM:600564.0001', 'OMIM:606419.0003', 'OMIM:611935.0001', 'OMIM:142994.0007', 'OMIM:141900.0048', 'OMIM:603248.0002', 'OMIM:141900.0340', 'OMIM:300377.0060', 'OMIM:605537.0001', 'dbSNP:rs55689260', 'ClinVarVariant:22918', 'OMIM:603674.0001', 'OMIM:605391.0003', 'dbSNP:rs7605235', 'OMIM:164757.0024', 'OMIM:600227.0003', 'OMIM:300019.0004', 'OMIM:600160.0022', 'OMIM:612309.0006', 'OMIM:612014.0006', 'OMIM:120436.0033', 'OMIM:190315.0005', 'OMIM:603305.0004', 'OMIM:607111.0002', 'OMIM:300265.0007', 'OMIM:602991.0011', 'OMIM:606075.0017', 'OMIM:600225.0003', 'OMIM:238310.0006', 'OMIM:148042.0002', 'OMIM:607672.0003', 'OMIM:603009.0001', 'OMIM:606489.0003', 'OMIM:613468.0006', 'OMIM:608786.0005', 'OMIM:139350.0009', 'OMIM:138253.0008', 'OMIM:611089.0001', 'OMIM:300546.0008', 'OMIM:611725.0003', 'OMIM:605742.0001', 'OMIM:603506.0017', 'OMIM:610308.0005', 'OMIM:607071.0002', 'OMIM:608416.0004', 'ClinVarVariant:2527', 'OMIM:605391.0001', 'OMIM:601023.0003', 'OMIM:616715.0003', 'OMIM:615320.0002', 'OMIM:160720.0018', 'OMIM:604404.0004', 'OMIM:608400.0013', 'OMIM:611731.0044', 'OMIM:300502.0015', 'OMIM:190180.0005', 'OMIM:604909.0002', 'OMIM:134637.0005', 'OMIM:612719.0005', 'OMIM:604427.0002', 'OMIM:141900.0496', 'OMIM:601440.0003', 'OMIM:157660.0007', 'OMIM:160781.0003', 'dbSNP:rs2251301', 'OMIM:138945.0017', 'OMIM:603779.0001', 'OMIM:608869.0003', 'OMIM:617579.0001', 'OMIM:610568.0001', 'ClinVarVariant:968216', 'OMIM:300461.0004', 'OMIM:606706.0001', 'OMIM:606765.0003', 'OMIM:609701.0013', 'dbSNP:rs1944582', 'dbSNP:rs8187707', 'OMIM:190195.0038', 'OMIM:603741.0006', 'OMIM:600509.0020', 'OMIM:613521.0001', 'OMIM:102620.0005', 'OMIM:138160.0002', 'OMIM:160775.0004', 'OMIM:601622.0008', 'OMIM:608000.0005', 'OMIM:605739.0003', 'OMIM:300197.0002', 'OMIM:107730.0008', 'OMIM:603330.0002', 'OMIM:606622.0006', 'OMIM:611592.0010', 'OMIM:107400.0003', 'OMIM:182390.0005', 'OMIM:605720.0002', 'OMIM:608303.0004', 'OMIM:120252.0003', 'OMIM:612013.0004', 'OMIM:607117.0006', 'OMIM:312610.0009', 'OMIM:606800.0016', 'OMIM:102565.0006', 'OMIM:124015.0016', 'OMIM:606821.0007', 'OMIM:601253.0011', 'OMIM:609373.0004', 'OMIM:141800.0016', 'OMIM:600960.0005', 'OMIM:601607.0011', 'OMIM:158375.0001', 'OMIM:614989.0001', 'dbSNP:rs4658888', 'OMIM:150330.0010', 'OMIM:600276.0005', 'OMIM:610550.0008', 'OMIM:300008.0005', 'OMIM:300461.0018', 'OMIM:300746.0040', 'OMIM:191045.0006', 'OMIM:613386.0001', 'OMIM:614161.0006', 'OMIM:608151.0007', 'OMIM:148042.0001', 'OMIM:603967.0029', 'OMIM:109750.0002', 'OMIM:182389.0021', 'OMIM:601757.0005', 'ClinVarVariant:35555', 'OMIM:609007.0007', 'OMIM:300264.0005', 'OMIM:600840.0010', 'OMIM:179060.0006', 'OMIM:606158.0019', 'OMIM:602397.0004', 'OMIM:608433.0004', 'OMIM:602851.0001', 'OMIM:600827.0012', 'dbSNP:rs16892673', 'dbSNP:rs118150334', 'OMIM:114761.0004', 'OMIM:601231.0003', 'dbSNP:rs6878462', 'OMIM:605828.0002', 'OMIM:603617.0001', 'OMIM:121014.0010', 'OMIM:109270.0025', 'OMIM:134370.0006', 'OMIM:601734.0002', 'OMIM:165240.0001', 'OMIM:600838.0006', 'OMIM:600480.0004', 'OMIM:164820.0004', 'OMIM:611693.0002', 'OMIM:607922.0005', 'OMIM:617064.0001', 'OMIM:600778.0002', 'OMIM:603805.0002', 'OMIM:604123.0001', 'OMIM:603196.0002', 'OMIM:102630.0010', 'OMIM:615320.0007', 'OMIM:605431.0005', 'OMIM:603208.0004', 'OMIM:606268.0005', 'OMIM:600140.0012', 'OMIM:148067.0007', 'OMIM:601424.0004', 'OMIM:608132.0005', 'OMIM:606210.0009', 'OMIM:603307.0002', 'OMIM:600957.0004', 'OMIM:125240.0001', 'OMIM:605802.0012', 'OMIM:602216.0024', 'OMIM:601893.0001', 'OMIM:300556.0002', 'OMIM:612192.0004', 'OMIM:300841.0016', 'OMIM:607809.0009', 'OMIM:151385.0005', 'OMIM:191305.0004', 'OMIM:150292.0003', 'OMIM:300131.0002', 'OMIM:606999.0011', 'OMIM:608832.0002', 'OMIM:612719.0001', 'OMIM:602023.0007', 'OMIM:612222.0009', 'OMIM:160720.0004', 'OMIM:613113.0045', 'OMIM:612349.0050', 'OMIM:112261.0006', 'OMIM:601145.0006', 'OMIM:138280.0007', 'OMIM:613653.0002', 'OMIM:138090.0001', 'OMIM:614041.0004', 'ClinVarVariant:22244', 'OMIM:604096.0005', 'OMIM:190000.0006', 'OMIM:615403.0006', 'OMIM:602322.0004', 'OMIM:300715.0008', 'OMIM:615462.0003', 'OMIM:606609.0009', 'OMIM:600917.0002', 'OMIM:606412.0007', 'OMIM:608305.0002', 'OMIM:616406.0002', 'OMIM:610110.0001', 'OMIM:606494.0002', 'OMIM:131320.0013', 'OMIM:179615.0011', 'OMIM:601664.0002', 'OMIM:176801.0001', 'OMIM:606636.0002', 'OMIM:616484.0001', 'OMIM:612458.0009', 'OMIM:104311.0005', 'OMIM:604712.0010', 'OMIM:602378.0008', 'OMIM:125660.0005', 'OMIM:308000.0010', 'OMIM:120240.0007', 'OMIM:114020.0003', 'OMIM:601314.0005', 'OMIM:603208.0003', 'OMIM:607759.0011', 'OMIM:603178.0004', 'OMIM:300070.0003', 'OMIM:300300.0012', 'OMIM:615054.0002', 'OMIM:141900.0269', 'OMIM:300502.0010', 'OMIM:300481.0011', 'OMIM:609884.0017', 'ClinVarVariant:832277', 'OMIM:114105.0007', 'OMIM:143054.0004', 'OMIM:138140.0002', 'OMIM:611045.0003', 'OMIM:610432.0003', 'ClinVarVariant:468708', 'OMIM:600635.0001', 'OMIM:613609.0010', 'OMIM:131244.0009', 'ClinVarVariant:645236', 'OMIM:608400.0011', 'ClinVarVariant:560286', 'OMIM:605634.0005', 'OMIM:610274.0003', 'OMIM:138322.0001', 'OMIM:115501.0001', 'OMIM:300172.0007', 'OMIM:113705.0037', 'OMIM:609797.0002', 'OMIM:607070.0002', 'OMIM:614787.0006', 'OMIM:602716.0010', 'OMIM:610897.0001', 'OMIM:300377.0086', 'dbSNP:rs6950647', 'OMIM:311870.0002', 'OMIM:606873.0018', 'dbSNP:rs115888957', 'OMIM:151670.0003', 'OMIM:601024.0001', 'OMIM:109630.0002', 'OMIM:600005.0006', 'OMIM:300746.0004', 'OMIM:616101.0001', 'OMIM:603158.0001', 'OMIM:176804.0001', 'OMIM:613129.0001', 'OMIM:602421.0104', 'ClinVarVariant:31366', 'OMIM:603198.0005', 'OMIM:610389.0001', 'OMIM:134797.0004', 'dbSNP:rs2555155', 'OMIM:600983.0019', 'OMIM:141900.0420', 'OMIM:603100.0007', 'OMIM:107741.0002', 'OMIM:120150.0020', 'OMIM:602869.0003', 'OMIM:609862.0002', 'OMIM:609884.0002', 'ClinVarVariant:855331', 'OMIM:603254.0008', 'ClinVarVariant:97321', 'OMIM:300841.0038', 'OMIM:309060.0011', 'OMIM:142410.0006', 'OMIM:600662.0003', 'OMIM:609059.0009', 'OMIM:611332.0006', 'OMIM:607273.0010', 'OMIM:610045.0007', 'OMIM:612325.0004', 'OMIM:300394.0001', 'OMIM:305900.0031', 'OMIM:605446.0008', 'ClinVarVariant:237480', 'OMIM:606596.0001', 'dbSNP:rs4235212', 'dbSNP:rs112779669', 'OMIM:131550.0002', 'OMIM:614620.0004', 'OMIM:602337.0006', 'dbSNP:rs763236', 'OMIM:606230.0001', 'OMIM:615016.0001', 'OMIM:137167.0005', 'OMIM:313700.0011', 'OMIM:300300.0020', 'OMIM:617817.0001', 'OMIM:516030.0002', 'OMIM:606463.0048', 'OMIM:610511.0002', 'OMIM:601601.0006', 'ClinVarVariant:832073', 'OMIM:164730.0002', 'OMIM:133171.0006', 'ClinVarVariant:427593', 'OMIM:602690.0003', 'OMIM:609690.0007', 'OMIM:603234.0015', 'OMIM:300292.0004', 'OMIM:609188.0004', 'OMIM:300841.0127', 'OMIM:601199.0024', 'OMIM:217070.0009', 'OMIM:600946.0020', 'OMIM:609610.0002', 'OMIM:617559.0006', 'OMIM:606890.0008', 'ClinVarVariant:613428', 'OMIM:607604.0008', 'ClinVarVariant:633815', 'OMIM:308840.0008', 'OMIM:601199.0002', 'OMIM:612243.0001', 'OMIM:608124.0011', 'OMIM:604283.0003', 'OMIM:610865.0004', 'OMIM:300841.0123', 'OMIM:613036.0001', 'OMIM:612309.0005', 'ClinVarVariant:976326', 'ClinVarVariant:189001', 'OMIM:606214.0002', 'OMIM:609280.0009', 'OMIM:130410.0003', 'OMIM:614144.0003', 'OMIM:614084.0006', 'OMIM:610236.0001', 'OMIM:608614.0001', 'OMIM:610690.0004', 'ClinVarVariant:468671', 'OMIM:602146.0006', 'OMIM:602780.0008', 'OMIM:600326.0003', 'OMIM:600922.0005', 'OMIM:159555.0007', 'OMIM:606831.0002', 'OMIM:609875.0001', 'OMIM:614556.0004', 'OMIM:603377.0021', 'OMIM:614772.0001', 'OMIM:602842.0003', 'OMIM:613469.0003', 'dbSNP:rs663497', 'OMIM:603384.0008', 'OMIM:182340.0001', 'OMIM:609309.0005', 'ClinVarVariant:13668', 'OMIM:611663.0003', 'OMIM:601002.0004', 'OMIM:601097.0015', 'OMIM:603033.0001', 'OMIM:604095.0013', 'OMIM:612349.0009', 'ClinVarVariant:427595', 'OMIM:602257.0004', 'OMIM:604427.0001', 'OMIM:600276.0017', 'OMIM:602997.0010', 'OMIM:606692.0003', 'OMIM:600799.0012', 'OMIM:607761.0002', 'OMIM:615068.0003', 'OMIM:172405.0003', 'OMIM:608151.0005', 'OMIM:184756.0005', 'OMIM:605516.0005', 'ClinVarVariant:613410', 'OMIM:613165.0009', 'OMIM:100690.0014', 'OMIM:300746.0037', 'ClinVarVariant:28660', 'OMIM:612453.0007', 'OMIM:601893.0010', 'OMIM:300203.0008', 'OMIM:611386.0002', 'dbSNP:rs11017740', 'OMIM:612349.0042', 'OMIM:602195.0004', 'dbSNP:rs77540208', 'OMIM:611562.0001', 'OMIM:134790.0010', 'OMIM:300039.0001', 'OMIM:605383.0001', 'OMIM:613213.0017', 'OMIM:605294.0004', 'OMIM:604588.0011', 'OMIM:141850.0024', 'OMIM:120160.0019', 'ClinVarVariant:477476', 'OMIM:603967.0030', 'OMIM:613899.0007', 'OMIM:601421.0002', 'OMIM:616086.0001', 'OMIM:615140.0003', 'OMIM:608441.0017', 'OMIM:612636.0005', 'OMIM:611731.0017', 'OMIM:605755.0008', 'OMIM:125660.0006', 'OMIM:601022.0001', 'OMIM:136435.0014', 'OMIM:607261.0010', 'OMIM:102620.0001', 'dbSNP:rs245880', 'OMIM:603945.0005', 'OMIM:305900.0042', 'OMIM:613326.0004', 'OMIM:600946.0007', 'OMIM:114205.0008', 'OMIM:606157.0012', 'OMIM:607759.0014', 'dbSNP:rs7142881', 'OMIM:600354.0009', 'dbSNP:rs2555605', 'OMIM:607809.0014', 'OMIM:121014.0017', 'OMIM:300255.0001', 'OMIM:603693.0008', 'OMIM:180380.0045', 'OMIM:300453.0002', 'OMIM:600576.0017', 'OMIM:126064.0004', 'OMIM:141900.0229', 'OMIM:300377.0059', 'OMIM:252800.0002', 'OMIM:164820.0008', 'OMIM:600160.0017', 'OMIM:614258.0017', 'OMIM:605516.0006', 'ClinVarVariant:13681', 'OMIM:607440.0001', 'dbSNP:rs41286168', 'OMIM:188830.0014', 'OMIM:180901.0038', 'OMIM:150341.0003', 'OMIM:602900.0006', 'OMIM:603470.0009', 'OMIM:602635.0009', 'OMIM:619098.0003', 'OMIM:604933.0003', 'OMIM:602293.0005', 'OMIM:300384.0009', 'OMIM:606945.0028', 'OMIM:300377.0058', 'OMIM:614589.0005', 'OMIM:614184.0003', 'OMIM:610130.0003', 'OMIM:136132.0008', 'OMIM:142200.0004', 'OMIM:300451.0018', 'OMIM:141850.0018', 'OMIM:190180.0002', 'OMIM:611766.0007', 'OMIM:614982.0013', 'OMIM:606127.0001', 'OMIM:179060.0011', 'OMIM:141800.0005', 'OMIM:602104.0001', 'OMIM:617307.0001', 'OMIM:311770.0016', 'OMIM:601007.0006', 'OMIM:606628.0003', 'OMIM:600644.0003', 'OMIM:131243.0002', 'OMIM:605597.0012', 'OMIM:612373.0007', 'OMIM:613274.0002', 'OMIM:121011.0024', 'OMIM:609309.0013', 'ClinVarVariant:183073', 'OMIM:600276.0011', 'OMIM:609342.0001', 'OMIM:187680.0001', 'OMIM:611496.0002', 'OMIM:136132.0003', 'OMIM:300463.0004', 'OMIM:606951.0008', 'ClinVarVariant:807510', 'OMIM:605775.0002', 'OMIM:603084.0004', 'OMIM:602574.0002', 'OMIM:608667.0004', 'OMIM:125647.0017', 'ClinVarVariant:178410', 'OMIM:602216.0004', 'ClinVarVariant:242588', 'OMIM:603191.0008', 'dbSNP:rs11641231', 'OMIM:131320.0002', 'OMIM:171833.0002', 'OMIM:601478.0006', 'OMIM:300473.0020', 'OMIM:615320.0006', 'OMIM:602044.0001', 'OMIM:600660.0001', 'OMIM:600129.0001', 'OMIM:611766.0001', 'OMIM:176876.0019', 'OMIM:607243.0001', 'OMIM:605060.0001', 'OMIM:609291.0003', 'OMIM:609383.0003', 'OMIM:604373.0005', 'OMIM:604590.0002', 'OMIM:600838.0010', 'OMIM:604734.0008', 'OMIM:171060.0005', 'OMIM:610219.0005', 'OMIM:610113.0006', 'OMIM:150310.0006', 'OMIM:606268.0010', 'OMIM:610063.0003', 'OMIM:174763.0006', 'OMIM:603716.0001', 'ClinVarVariant:178409', 'OMIM:147670.0026', 'OMIM:601373.0006', 'OMIM:114251.0001', 'OMIM:613183.0003', 'OMIM:147450.0023', 'dbSNP:rs4715057', 'OMIM:114105.0003', 'OMIM:300384.0004', 'OMIM:600483.0002', 'OMIM:300377.0077', 'OMIM:608309.0012', 'OMIM:191342.0001', 'OMIM:614191.0002', 'dbSNP:rs7758889', 'OMIM:604633.0002', 'OMIM:601465.0002', 'ClinVarVariant:40869', 'OMIM:123690.0003', 'OMIM:605988.0012', 'OMIM:300502.0004', 'OMIM:600556.0003', 'OMIM:164050.0007', 'OMIM:606754.0004', 'dbSNP:rs16977065', 'OMIM:120260.0006', 'OMIM:602402.0014', 'OMIM:176876.0001', 'OMIM:602138.0004', 'OMIM:610113.0004', 'OMIM:605018.0002', 'OMIM:300336.0001', 'OMIM:605518.0001', 'OMIM:141850.0072', 'OMIM:610045.0006', 'OMIM:143054.0003', 'OMIM:608177.0002', 'OMIM:607210.0001', 'OMIM:605921.0007', 'OMIM:613121.0005', 'OMIM:108740.0005', 'OMIM:608803.0011', 'OMIM:301057.0001', 'OMIM:608400.0014', 'dbSNP:rs6916624', 'OMIM:611052.0008', 'OMIM:232050.0007', 'OMIM:614140.0002', 'OMIM:607407.0001', 'ClinVarVariant:226485', 'OMIM:601515.0001', 'OMIM:164860.0002', 'OMIM:606453.0003', 'OMIM:600837.0003', 'OMIM:609019.0012', 'OMIM:604277.0014', 'OMIM:617618.0007', 'OMIM:600590.0003', 'OMIM:190160.0005', 'OMIM:608630.0007', 'OMIM:613580.0004', 'OMIM:120150.0072', 'OMIM:608222.0004', 'OMIM:614477.0002', 'OMIM:609302.0002', 'OMIM:602201.0003', 'OMIM:300546.0009', 'ClinVarVariant:38459', 'OMIM:601424.0006', 'OMIM:607922.0007', 'OMIM:607397.0002', 'OMIM:609708.0023', 'OMIM:300005.0035', 'OMIM:102573.0005', 'OMIM:190020.0019', 'OMIM:613733.0032', 'OMIM:600439.0001', 'OMIM:150341.0002', 'OMIM:611765.0003', 'OMIM:610113.0002', 'OMIM:141900.0480', 'OMIM:141900.0185', 'OMIM:120290.0014', 'OMIM:120180.0022', 'OMIM:616284.0001', 'OMIM:104311.0039', 'OMIM:138252.0003', 'OMIM:607707.0007', 'OMIM:136350.0025', 'OMIM:150370.0002', 'OMIM:300011.0015', 'OMIM:147270.0003', 'dbSNP:rs2241437', 'OMIM:603377.0006', 'OMIM:613815.0021', 'OMIM:313700.0003', 'OMIM:607245.0003', 'OMIM:615910.0005', 'OMIM:605646.0013', 'OMIM:618163.0003', 'OMIM:178640.0001', 'OMIM:300392.0024', 'OMIM:107400.0032', 'OMIM:120160.0031', 'OMIM:156100.0001', 'OMIM:176640.0032', 'OMIM:309060.0008', 'OMIM:300629.0005', 'OMIM:613004.0005', 'OMIM:607521.0001', 'OMIM:300826.0009', 'OMIM:601771.0015', 'OMIM:609062.0002', 'OMIM:120280.0009', 'OMIM:610277.0004', 'OMIM:153618.0001', 'OMIM:606765.0006', 'OMIM:607871.0005', 'OMIM:150325.0006', 'OMIM:617353.0001', 'OMIM:141900.0337', 'OMIM:609862.0001', 'OMIM:308840.0012', 'OMIM:608537.0007', 'OMIM:116806.0006', 'OMIM:164761.0021', 'OMIM:162280.0003', 'OMIM:609681.0001', 'OMIM:134790.0008', 'OMIM:125240.0007', 'OMIM:104170.0004', 'OMIM:123890.0005', 'OMIM:603506.0026', 'OMIM:603197.0012', 'OMIM:300037.0006', 'OMIM:601802.0010', 'OMIM:600185.0028', 'OMIM:616305.0001', 'OMIM:617019.0001', 'OMIM:601147.0005', 'OMIM:303630.0007', 'OMIM:141900.0208', 'OMIM:217030.0005', 'OMIM:191092.0012', 'OMIM:609014.0003', 'OMIM:602859.0010', 'OMIM:618689.0002', 'OMIM:606822.0012', 'OMIM:192977.0006', 'OMIM:147670.0035', 'ClinVarVariant:375327', 'dbSNP:rs76733922', 'OMIM:610613.0005', 'OMIM:173335.0022', 'OMIM:141900.0162', 'OMIM:120120.0045', 'OMIM:601893.0013', 'OMIM:184429.0013', 'OMIM:156570.0005', 'OMIM:155760.0002', 'OMIM:300163.0004', 'OMIM:300300.0013', 'OMIM:615843.0001', 'ClinVarVariant:242485', 'OMIM:590080.0008', 'OMIM:608581.0001', 'OMIM:604990.0001', 'OMIM:602421.0044', 'OMIM:605921.0006', 'OMIM:605411.0002', 'OMIM:601688.0002', 'dbSNP:rs60481745', 'OMIM:191070.0001', 'ClinVarVariant:1350', 'OMIM:300300.0049', 'OMIM:103600.0054', 'OMIM:605908.0005', 'OMIM:605947.0002', 'OMIM:603384.0005', 'OMIM:606890.0007', 'OMIM:614397.0002', 'OMIM:606807.0004', 'OMIM:606706.0007', 'dbSNP:rs7719624', 'OMIM:138249.0006', 'OMIM:606977.0006', 'OMIM:606241.0012', 'OMIM:121011.0017', 'OMIM:615720.0004', 'OMIM:602365.0009', 'OMIM:300746.0064', 'OMIM:600946.0023', 'OMIM:605239.0005', 'OMIM:606938.0009', 'OMIM:603178.0005', 'OMIM:613381.0011', 'OMIM:613228.0002', 'OMIM:606419.0008', 'OMIM:176264.0002', 'OMIM:165230.0004', 'OMIM:602000.0003', 'OMIM:180901.0023', 'OMIM:610457.0004', 'OMIM:607009.0005', 'OMIM:590090.0002', 'OMIM:613872.0009', 'OMIM:605993.0002', 'OMIM:605646.0006', 'ClinVarVariant:439520', 'dbSNP:rs59689077', 'OMIM:190198.0012', 'ClinVarVariant:28436', 'OMIM:606596.0007', 'OMIM:609397.0002', 'OMIM:600310.0002', 'OMIM:607998.0010', 'OMIM:116840.0001', 'OMIM:113811.0011', 'OMIM:613522.0002', 'OMIM:613349.0009', 'OMIM:107741.0034', 'OMIM:300256.0001', 'OMIM:600577.0006', 'OMIM:126064.0007', 'OMIM:614661.0008', 'OMIM:300110.0009', 'OMIM:138079.0014', 'OMIM:300836.0011', 'OMIM:601387.0001', 'OMIM:606119.0007', 'OMIM:617618.0001', 'OMIM:606060.0005', 'OMIM:163890.0004', 'OMIM:603843.0002', 'OMIM:170261.0005', 'OMIM:606945.0007', 'OMIM:192340.0004', 'OMIM:603415.0027', 'OMIM:609275.0003', 'OMIM:191110.0001', 'OMIM:605206.0006', 'OMIM:608005.0008', 'OMIM:601855.0001', 'OMIM:300545.0001', 'OMIM:190020.0015', 'OMIM:602141.0007', 'OMIM:217050.0004', 'OMIM:301027.0002', 'OMIM:300646.0006', 'OMIM:300035.0006', 'OMIM:613381.0014', 'ClinVarVariant:242414', 'OMIM:607788.0003', 'OMIM:611524.0004', 'OMIM:157140.0022', 'OMIM:609577.0007', 'OMIM:608177.0005', 'OMIM:610732.0002', 'OMIM:600890.0003', 'OMIM:300546.0006', 'ClinVarVariant:495046', 'OMIM:613277.0004', 'OMIM:603937.0007', 'OMIM:607693.0003', 'OMIM:600946.0017', 'OMIM:607905.0001', 'OMIM:179410.0001', 'ClinVarVariant:26950', 'OMIM:300382.0008', 'OMIM:607273.0013', 'OMIM:607461.0010', 'OMIM:603959.0017', 'dbSNP:rs9658108', 'OMIM:603707.0005', 'dbSNP:rs116399861', 'OMIM:600104.0002', 'OMIM:607837.0005', 'OMIM:608593.0001', 'OMIM:191290.0012', 'OMIM:605744.0002', 'OMIM:613214.0003', 'OMIM:147265.0008', 'OMIM:606887.0004', 'OMIM:300481.0020', 'OMIM:612990.0005', 'OMIM:300658.0019', 'OMIM:308000.0026', 'OMIM:604439.0001', 'OMIM:601743.0001', 'OMIM:606045.0004', 'OMIM:120140.0037', 'OMIM:603507.0007', 'OMIM:607100.0004', 'OMIM:185620.0017', 'OMIM:141180.0002', 'OMIM:104311.0018', 'OMIM:180721.0002', 'OMIM:605507.0003', 'OMIM:608897.0006', 'OMIM:137295.0007', 'OMIM:607759.0007', 'OMIM:120160.0034', 'OMIM:613420.0002', 'OMIM:179616.0009', 'OMIM:608000.0007', 'OMIM:182381.0007', 'dbSNP:rs9995730', 'OMIM:612349.0061', 'OMIM:602575.0006', 'OMIM:606822.0021', 'OMIM:141800.0010', 'OMIM:614161.0005', 'OMIM:126090.0003', 'OMIM:607585.0015', 'OMIM:114020.0005', 'OMIM:602956.0002', 'OMIM:300300.0016', 'OMIM:217070.0010', 'OMIM:300611.0001', 'OMIM:605906.0003', 'OMIM:605226.0001', 'OMIM:300841.0041', 'OMIM:114019.0002', 'OMIM:603883.0006', 'OMIM:608107.0006', 'ClinVarVariant:262713', 'OMIM:603201.0001', 'OMIM:603297.0017', 'OMIM:300126.0006', 'OMIM:600946.0004', 'OMIM:177075.0004', 'OMIM:609332.0005', 'OMIM:152427.0023', 'OMIM:614556.0007', 'OMIM:603198.0003', 'OMIM:604506.0005', 'OMIM:190315.0004', 'OMIM:141900.0361', 'OMIM:120210.0001', 'OMIM:600946.0002', 'OMIM:608444.0004', 'OMIM:184756.0001', 'OMIM:604083.0004', 'OMIM:606765.0010', 'OMIM:190160.0010', 'OMIM:600725.0010', 'OMIM:135600.0006', 'OMIM:134370.0013', 'OMIM:600799.0004', 'OMIM:179615.0007', 'OMIM:603213.0001', 'OMIM:142000.0005', 'OMIM:184757.0013', 'OMIM:612424.0005', 'OMIM:604101.0006', 'OMIM:604834.0010', 'OMIM:606979.0001', 'OMIM:602365.0004', 'OMIM:603506.0037', 'OMIM:300300.0047', 'OMIM:141800.0032', 'ClinVarVariant:551914', 'OMIM:600857.0002', 'ClinVarVariant:12697', 'OMIM:300535.0003', 'OMIM:600582.0001', 'OMIM:609347.0002', 'OMIM:600726.0009', 'OMIM:610087.0004', 'OMIM:605610.0007', 'OMIM:609884.0025', 'OMIM:611492.0007', 'OMIM:603647.0007', 'OMIM:616003.0002', 'OMIM:138420.0001', 'OMIM:605363.0006', 'OMIM:600415.0007', 'OMIM:141900.0095', 'OMIM:123730.0001', 'OMIM:611458.0018', 'OMIM:179020.0002', 'OMIM:609806.0022', 'OMIM:184756.0003', 'OMIM:182389.0010', 'OMIM:601012.0001', 'OMIM:590020.0001', 'ClinVarVariant:214538', 'OMIM:613113.0013', 'OMIM:602569.0002', 'OMIM:614631.0010', 'dbSNP:rs14524076', 'OMIM:614958.0002', 'OMIM:613871.0007', 'OMIM:103020.0010', 'OMIM:614386.0016', 'OMIM:601199.0004', 'OMIM:607429.0001', 'OMIM:120180.0034', 'OMIM:606933.0021', 'OMIM:613878.0003', 'OMIM:309550.0001', 'OMIM:609291.0005', 'OMIM:616112.0002', 'OMIM:603709.0003', 'OMIM:601498.0012', 'OMIM:613072.0003', 'OMIM:182870.0005', 'OMIM:615322.0004', 'OMIM:217070.0005', 'OMIM:616254.0009', 'dbSNP:rs7705566', 'OMIM:614661.0007', 'OMIM:600112.0001', 'OMIM:601653.0006', 'OMIM:608444.0005', 'OMIM:611386.0007', 'OMIM:607245.0001', 'OMIM:106410.0002', 'OMIM:605924.0003', 'OMIM:604455.0003', 'OMIM:170715.0002', 'OMIM:150330.0034', 'OMIM:602821.0014', 'dbSNP:rs17382228', 'OMIM:607649.0002', 'OMIM:116896.0004', 'OMIM:600140.0009', 'OMIM:608010.0003', 'OMIM:164760.0003', 'OMIM:190195.0001', 'OMIM:602991.0004', 'OMIM:134797.0044', 'OMIM:603946.0005', 'OMIM:248610.0011', 'OMIM:107777.0013', 'OMIM:609761.0003', 'OMIM:609520.0001', 'OMIM:613036.0002', 'OMIM:300300.0053', 'OMIM:120436.0024', 'OMIM:607928.0005', 'OMIM:300383.0004', 'OMIM:600555.0029', 'OMIM:300079.0004', 'OMIM:613113.0037', 'OMIM:300658.0006', 'OMIM:605086.0002', 'OMIM:190182.0011', 'OMIM:300746.0111', 'OMIM:607905.0003', 'OMIM:300522.0002', 'OMIM:613113.0044', 'ClinVarVariant:199979', 'OMIM:601411.0002', 'ClinVarVariant:460305', 'OMIM:608025.0006', 'OMIM:120215.0009', 'OMIM:147450.0025', 'OMIM:606557.0001', 'OMIM:606397.0006', 'OMIM:614026.0001', 'OMIM:126065.0004', 'OMIM:606869.0040', 'OMIM:604103.0007', 'OMIM:609300.0006', 'OMIM:615567.0005', 'dbSNP:rs11121380', 'OMIM:102540.0008', 'OMIM:605239.0006', 'dbSNP:rs11935103', 'OMIM:600968.0012', 'OMIM:608894.0008', 'OMIM:131222.0005', 'OMIM:104311.0029', 'ClinVarVariant:849735', 'OMIM:601728.0013', 'OMIM:600702.0005', 'OMIM:123620.0002', 'OMIM:604896.0014', 'OMIM:142250.0027', 'OMIM:609414.0001', 'OMIM:137060.0002', 'OMIM:108961.0007', 'OMIM:602544.0008', 'OMIM:610345.0004', 'OMIM:141850.0071', 'OMIM:600047.0002', 'OMIM:600310.0006', 'OMIM:142200.0034', 'OMIM:605921.0009', 'OMIM:300105.0005', 'OMIM:608944.0008', 'OMIM:107741.0003', 'OMIM:613171.0004', 'OMIM:138140.0024', 'OMIM:152427.0013', 'OMIM:120120.0030', 'OMIM:606151.0015', 'OMIM:609728.0005', 'OMIM:601479.0001', 'OMIM:613847.0005', 'OMIM:610937.0013', 'OMIM:300841.0254', 'OMIM:600119.0003', 'OMIM:176876.0025', 'OMIM:604734.0006', 'OMIM:141900.0129', 'OMIM:300798.0002', 'OMIM:607839.0004', 'OMIM:138492.0002', 'OMIM:613401.0002', 'OMIM:103950.0004', 'OMIM:100690.0013', 'OMIM:602421.0122', 'dbSNP:rs79560051', 'OMIM:116806.0005', 'OMIM:142983.0002', 'OMIM:611254.0006', 'OMIM:602635.0019', 'OMIM:160794.0006', 'OMIM:138140.0022', 'OMIM:614309.0001', 'OMIM:147450.0001', 'OMIM:600234.0002', 'OMIM:616454.0002', 'OMIM:120140.0007', 'OMIM:314200.0010', 'OMIM:611345.0003', 'OMIM:600235.0011', 'OMIM:602048.0005', 'OMIM:601146.0017', 'OMIM:601609.0005', 'dbSNP:rs12954803', 'OMIM:600857.0010', 'OMIM:603967.0018', 'OMIM:608313.0012', 'OMIM:136350.0027', 'OMIM:604202.0001', 'OMIM:300104.0001', 'OMIM:616359.0001', 'OMIM:614258.0020', 'OMIM:600473.0008', 'OMIM:107580.0002', 'OMIM:601097.0002', 'OMIM:516020.0006', 'OMIM:604297.0006', 'OMIM:516030.0006', 'OMIM:613815.0032', 'OMIM:134934.0038', 'OMIM:300382.0019', 'OMIM:610865.0006', 'dbSNP:rs12140361', 'OMIM:111700.0003', 'OMIM:603377.0022', 'dbSNP:rs111520934', 'OMIM:600359.0003', 'OMIM:300746.0038', 'OMIM:300040.0008', 'OMIM:130130.0004', 'dbSNP:rs6026990', 'OMIM:610804.0004', 'OMIM:309845.0001', 'OMIM:102575.0001', 'OMIM:516020.0004', 'OMIM:614982.0002', 'OMIM:182810.0003', 'OMIM:601697.0001', 'OMIM:300841.0168', 'OMIM:606897.0010', 'OMIM:603539.0003', 'OMIM:303630.0005', 'OMIM:605608.0003', 'OMIM:136350.0002', 'OMIM:602991.0002', 'OMIM:606821.0005', 'OMIM:603883.0009', 'OMIM:602955.0001', 'OMIM:137295.0015', 'OMIM:313700.0033', 'OMIM:614631.0003', 'OMIM:600694.0001', 'OMIM:600734.0006', 'OMIM:303630.0012', 'OMIM:164920.0027', 'OMIM:605460.0005', 'ClinVarVariant:512193', 'OMIM:300371.0006', 'OMIM:613381.0004', 'OMIM:141900.0207', 'OMIM:602671.0001', 'OMIM:516000.0012', 'OMIM:614631.0015', 'OMIM:608465.0010', 'OMIM:608700.0001', 'OMIM:156100.0002', 'OMIM:168468.0003', 'ClinVarVariant:904246', 'OMIM:605481.0006', 'ClinVarVariant:439519', 'OMIM:314200.0013', 'OMIM:602876.0003', 'OMIM:142410.0014', 'OMIM:610595.0002', 'OMIM:605086.0004', 'OMIM:308380.0003', 'OMIM:305900.0061', 'OMIM:614787.0005', 'OMIM:600294.0002', 'OMIM:189980.0005', 'OMIM:300522.0001', 'OMIM:138491.0014', 'OMIM:138079.0016', 'OMIM:165240.0007', 'OMIM:191315.0015', 'OMIM:601011.0020', 'OMIM:609058.0004', 'OMIM:601736.0003', 'OMIM:612277.0008', 'OMIM:616254.0004', 'OMIM:613979.0001', 'ClinVarVariant:187253', 'OMIM:176730.0004', 'OMIM:191044.0006', 'OMIM:165390.0002', 'OMIM:300841.0206', 'OMIM:604819.0004', 'ClinVarVariant:481370', 'OMIM:607908.0002', 'OMIM:152780.0003', 'OMIM:134637.0001', 'OMIM:172460.0003', 'OMIM:159530.0012', 'OMIM:617558.0009', 'OMIM:600725.0014', 'OMIM:602280.0010', 'OMIM:148066.0003', 'OMIM:603861.0009', 'OMIM:603009.0010', 'OMIM:610172.0005', 'OMIM:604260.0007', 'ClinVarVariant:214011', 'OMIM:605459.0008', 'OMIM:601011.0017', 'OMIM:102545.0008', 'OMIM:612325.0003', 'OMIM:604365.0003', 'OMIM:305900.0008', 'OMIM:300377.0041', 'OMIM:600053.0008', 'OMIM:604712.0001', 'OMIM:516020.0011', 'OMIM:300697.0002', 'OMIM:613160.0021', 'OMIM:606152.0001', 'OMIM:603191.0010', 'OMIM:606951.0004', 'OMIM:187680.0006', 'OMIM:604125.0003', 'OMIM:607800.0003', 'OMIM:604983.0004', 'ClinVarVariant:46845', 'OMIM:609018.0004', 'OMIM:601653.0017', 'OMIM:603198.0006', 'OMIM:600836.0001', 'OMIM:603504.0007', 'OMIM:308380.0008', 'OMIM:139320.0038', 'OMIM:114182.0003', 'OMIM:147730.0001', 'OMIM:603967.0032', 'OMIM:602876.0004', 'ClinVarVariant:14751', 'OMIM:126090.0001', 'OMIM:300332.0001', 'OMIM:605608.0001', 'OMIM:606472.0002', 'dbSNP:rs9503551', 'ClinVarVariant:956639', 'OMIM:606224.0008', 'OMIM:613236.0003', 'dbSNP:rs2253204', 'OMIM:603741.0012', 'OMIM:613521.0010', 'OMIM:182860.0011', 'OMIM:609413.0016', 'OMIM:609300.0033', 'OMIM:606410.0007', 'ClinVarVariant:970504', 'OMIM:601717.0001', 'OMIM:610272.0005', 'OMIM:615533.0004', 'OMIM:612003.0002', 'OMIM:600944.0002', 'OMIM:120290.0011', 'dbSNP:rs111731678', 'OMIM:600211.0003', 'OMIM:614998.0007', 'OMIM:601623.0001', 'OMIM:612647.0005', 'OMIM:609237.0004', 'OMIM:607968.0001', 'OMIM:614477.0004', 'OMIM:141900.0014', 'OMIM:276000.0012', 'OMIM:602486.0005', 'OMIM:607186.0006', 'OMIM:600555.0016', 'OMIM:120215.0005', 'OMIM:606568.0002', 'OMIM:131195.0009', 'OMIM:603707.0003', 'OMIM:600221.0006', 'OMIM:146920.0008', 'OMIM:603464.0004', 'OMIM:300005.0015', 'OMIM:601090.0008', 'OMIM:602053.0001', 'OMIM:114205.0002', 'OMIM:313700.0046', 'OMIM:300644.0035', 'OMIM:176876.0028', 'OMIM:300163.0015', 'OMIM:180903.0002', 'OMIM:604327.0003', 'OMIM:612778.0001', 'OMIM:602991.0013', 'OMIM:613349.0007', 'OMIM:300075.0008', 'OMIM:603381.0010', 'OMIM:614386.0014', 'OMIM:603861.0003', 'OMIM:600702.0007', 'OMIM:609557.0005', 'OMIM:611731.0048', 'OMIM:608877.0001', 'OMIM:608107.0014', 'OMIM:146661.0002', 'OMIM:606933.0011', 'OMIM:171760.0014', 'ClinVarVariant:371503', 'OMIM:305900.0045', 'OMIM:603506.0031', 'OMIM:171833.0004', 'dbSNP:rs17623382', 'OMIM:300032.0024', 'OMIM:607474.0005', 'OMIM:607462.0004', 'OMIM:113705.0034', 'OMIM:238300.0008', 'OMIM:188450.0016', 'OMIM:312865.0008', 'OMIM:116806.0021', 'OMIM:610271.0002', 'OMIM:613872.0014', 'OMIM:603824.0016', 'OMIM:600725.0006', 'OMIM:613816.0002', 'OMIM:107730.0022', 'OMIM:603024.0002', 'OMIM:148080.0003', 'OMIM:117700.0005', 'OMIM:182350.0004', 'OMIM:611458.0025', 'OMIM:605202.0004', 'OMIM:612411.0003', 'OMIM:123890.0004', 'OMIM:190195.0034', 'OMIM:600225.0017', 'OMIM:614772.0003', 'OMIM:601094.0003', 'OMIM:605367.0006', 'OMIM:141850.0036', 'OMIM:605257.0005', 'OMIM:142410.0002', 'OMIM:176872.0002', 'OMIM:191160.0003', 'OMIM:176801.0015', 'OMIM:300746.0013', 'OMIM:300474.0006', 'OMIM:176946.0004', 'OMIM:606585.0004', 'OMIM:608109.0003', 'OMIM:147670.0016', 'OMIM:600840.0009', 'OMIM:618315.0001', 'OMIM:312861.0001', 'OMIM:142989.0002', 'ClinVarVariant:242583', 'OMIM:150320.0002', 'OMIM:608148.0004', 'OMIM:300202.0009', 'OMIM:600046.0015', 'OMIM:603273.0016', 'OMIM:602774.0008', 'OMIM:606596.0017', 'OMIM:308000.0027', 'OMIM:614720.0001', 'OMIM:617612.0008', 'OMIM:141900.0041', 'OMIM:141800.0195', 'dbSNP:rs4400118', 'OMIM:182120.0001', 'OMIM:156845.0006', 'OMIM:603164.0004', 'OMIM:600733.0005', 'OMIM:314998.0001', 'OMIM:300746.0099', 'OMIM:600024.0011', 'OMIM:602216.0010', 'OMIM:601023.0012', 'OMIM:300037.0007', 'OMIM:607532.0001', 'OMIM:603287.0005', 'OMIM:601465.0012', 'OMIM:604217.0004', 'ClinVarVariant:654101', 'OMIM:617310.0001', 'OMIM:614571.0001', 'OMIM:125671.0001', 'OMIM:134830.0001', 'OMIM:600759.0003', 'OMIM:137167.0011', 'OMIM:176267.0006', 'OMIM:602421.0086', 'OMIM:139320.0022', 'OMIM:604212.0006', 'OMIM:116790.0002', 'OMIM:600799.0028', 'OMIM:300841.0068', 'OMIM:300481.0017', 'OMIM:610956.0010', 'dbSNP:rs6909398', 'OMIM:300300.0055', 'OMIM:134637.0014', 'OMIM:190195.0022', 'OMIM:300035.0003', 'OMIM:605031.0003', 'ClinVarVariant:860122', 'ClinVarVariant:433559', 'OMIM:131320.0008', 'OMIM:167410.0004', 'OMIM:607901.0004', 'OMIM:187380.0002', 'OMIM:180902.0003', 'OMIM:300841.0029', 'OMIM:611184.0004', 'OMIM:312173.0001', 'OMIM:601568.0001', 'OMIM:604774.0003', 'OMIM:300841.0102', 'OMIM:107300.0018', 'OMIM:600678.0014', 'OMIM:180960.0001', 'OMIM:611282.0002', 'OMIM:142000.0033', 'OMIM:300061.0001', 'OMIM:613871.0008', 'OMIM:601090.0011', 'OMIM:120320.0004', 'OMIM:606272.0006', 'OMIM:612801.0008', 'OMIM:610819.0005', 'OMIM:617094.0007', 'OMIM:606945.0002', 'OMIM:141900.0022', 'OMIM:107300.0030', 'OMIM:601785.0015', 'OMIM:173410.0006', 'dbSNP:rs316269327', 'OMIM:606869.0028', 'OMIM:103600.0019', 'OMIM:604202.0002', 'OMIM:606680.0006', 'OMIM:612990.0002', 'OMIM:603646.0001', 'OMIM:160775.0002', 'OMIM:602337.0014', 'OMIM:600728.0004', 'OMIM:606682.0003', 'OMIM:600946.0005', 'OMIM:107777.0014', 'OMIM:601428.0013', 'OMIM:611570.0004', 'OMIM:142968.0003', 'OMIM:300774.0004', 'OMIM:601134.0001', 'OMIM:604392.0003', 'OMIM:613733.0035', 'OMIM:608626.0001', 'OMIM:190195.0027', 'OMIM:600650.0015', 'OMIM:141800.0169', 'OMIM:610453.0007', 'OMIM:141800.0197', 'OMIM:607218.0001', 'OMIM:184757.0005', 'OMIM:605828.0003', 'OMIM:601485.0005', 'OMIM:100850.0008', 'OMIM:603454.0003', 'OMIM:605907.0007', 'ClinVarVariant:613422', 'OMIM:172471.0002', 'OMIM:613897.0001', 'OMIM:300451.0014', 'ClinVarVariant:384474', 'OMIM:608160.0012', 'OMIM:605490.0002', 'dbSNP:rs930055', 'OMIM:102771.0006', 'OMIM:604611.0001', 'OMIM:604889.0002', 'OMIM:147370.0002', 'OMIM:614150.0002', 'OMIM:150330.0054', 'OMIM:141900.0203', 'OMIM:608072.0002', 'OMIM:608455.0007', 'OMIM:600014.0009', 'OMIM:605011.0002', 'OMIM:609708.0020', 'OMIM:601728.0023', 'dbSNP:rs6696619', 'OMIM:601284.0009', 'OMIM:608730.0002', 'OMIM:606629.0001', 'OMIM:300644.0045', 'OMIM:611101.0005', 'OMIM:602661.0008', 'OMIM:614775.0001', 'OMIM:601205.0001', 'ClinVarVariant:431886', 'OMIM:603851.0003', 'OMIM:147450.0024', 'OMIM:313700.0029', 'OMIM:611386.0004', 'OMIM:601015.0002', 'OMIM:313700.0025', 'OMIM:180073.0001', 'OMIM:300278.0001', 'OMIM:141900.0198', 'OMIM:603701.0001', 'OMIM:607474.0002', 'OMIM:615115.0006', 'OMIM:300040.0001', 'OMIM:141900.0042', 'OMIM:613733.0025', 'OMIM:313700.0023', 'OMIM:604831.0002', 'OMIM:613529.0001', 'OMIM:136435.0006', 'OMIM:147557.0002', 'OMIM:107323.0002', 'OMIM:602438.0003', 'OMIM:601653.0011', 'OMIM:604134.0014', 'OMIM:300841.0015', 'OMIM:600829.0008', 'OMIM:300017.0034', 'OMIM:113811.0010', 'OMIM:617378.0002', 'OMIM:615867.0001', 'OMIM:604605.0002', 'OMIM:152790.0027', 'OMIM:603415.0024', 'OMIM:137070.0002', 'OMIM:189909.0003', 'OMIM:300005.0012', 'OMIM:603297.0016', 'OMIM:120180.0004', 'OMIM:602432.0005', 'OMIM:300841.0214', 'OMIM:606847.0008', 'OMIM:602768.0002', 'OMIM:600900.0004', 'OMIM:300461.0009', 'OMIM:137290.0002', 'OMIM:611565.0001', 'dbSNP:rs12493585', 'OMIM:123630.0002', 'dbSNP:rs77628230', 'OMIM:607036.0007', 'OMIM:607764.0002', 'OMIM:611542.0004', 'OMIM:172460.0009', 'OMIM:613138.0007', 'OMIM:602529.0003', 'OMIM:608786.0002', 'OMIM:607632.0002', 'OMIM:109270.0020', 'OMIM:605802.0009', 'OMIM:611279.0002', 'OMIM:608892.0014', 'ClinVarVariant:627560', 'OMIM:600810.0004', 'OMIM:609806.0012', 'OMIM:110600.0005', 'OMIM:300377.0054', 'OMIM:300538.0016', 'OMIM:615103.0001', 'OMIM:141900.0016', 'OMIM:600650.0013', 'OMIM:164760.0002', 'OMIM:613037.0001', 'OMIM:602931.0004', 'OMIM:604384.0007', 'OMIM:146920.0011', 'OMIM:607983.0004', 'OMIM:121011.0007', 'OMIM:604459.0002', 'OMIM:606822.0022', 'OMIM:616144.0006', 'OMIM:615587.0005', 'OMIM:602574.0012', 'OMIM:610957.0004', 'OMIM:605564.0003', 'OMIM:134370.0022', 'OMIM:606869.0045', 'OMIM:609275.0005', 'OMIM:602544.0015', 'OMIM:603368.0001', 'OMIM:604134.0007', 'OMIM:590010.0002', 'OMIM:602537.0001', 'OMIM:182888.0002', 'OMIM:612322.0001', 'OMIM:300746.0072', 'OMIM:309060.0001', 'OMIM:611935.0004', 'OMIM:606416.0012', 'OMIM:606252.0001', 'OMIM:164761.0004', 'OMIM:608313.0005', 'OMIM:607511.0005', 'OMIM:601785.0017', 'OMIM:602009.0001', 'OMIM:601653.0016', 'dbSNP:rs916264', 'OMIM:615316.0002', 'OMIM:164860.0009', 'OMIM:300126.0005', 'OMIM:605046.0001', 'OMIM:188450.0002', 'OMIM:604161.0005', 'OMIM:601728.0036', 'OMIM:300356.0001', 'OMIM:107300.0032', 'OMIM:612870.0003', 'OMIM:103600.0038', 'OMIM:605489.0003', 'OMIM:142250.0020', 'OMIM:176640.0004', 'OMIM:617083.0002', 'OMIM:617619.0002', 'OMIM:603517.0009', 'OMIM:617539.0001', 'OMIM:609309.0017', 'OMIM:120470.0007', 'OMIM:613900.0002', 'OMIM:611778.0003', 'OMIM:606598.0018', 'OMIM:609875.0003', 'OMIM:606463.0033', 'OMIM:605956.0010', 'OMIM:191290.0011', 'OMIM:610000.0002', 'OMIM:107265.0004', 'OMIM:134934.0028', 'OMIM:610937.0007', 'OMIM:608732.0002', 'OMIM:604217.0003', 'OMIM:612570.0002', 'dbSNP:rs59623126', 'OMIM:606544.0006', 'OMIM:604710.0002', 'OMIM:191740.0003', 'OMIM:601902.0005', 'OMIM:600900.0007', 'ClinVarVariant:565315', 'ClinVarVariant:536540', 'OMIM:609806.0044', 'OMIM:603518.0003', 'OMIM:606551.0002', 'OMIM:605942.0001', 'OMIM:164760.0007', 'OMIM:609712.0002', 'OMIM:604385.0003', 'OMIM:300841.0202', 'OMIM:173110.0001', 'OMIM:612021.0004', 'OMIM:604780.0008', 'OMIM:601478.0003', 'OMIM:139320.0008', 'OMIM:102540.0009', 'OMIM:613798.0003', 'OMIM:121014.0015', 'OMIM:116806.0009', 'OMIM:612850.0008', 'dbSNP:rs10270308', 'OMIM:608429.0001', 'OMIM:604272.0006', 'OMIM:607764.0001', 'OMIM:164860.0004', 'OMIM:603576.0001', 'OMIM:606635.0001', 'ClinVarVariant:50278', 'OMIM:611398.0001', 'OMIM:300248.0004', 'OMIM:600502.0011', 'ClinVarVariant:840161', 'OMIM:123930.0006', 'OMIM:121011.0036', 'OMIM:600259.0013', 'OMIM:601023.0010', 'OMIM:607386.0011', 'OMIM:176300.0038', 'OMIM:605555.0006', 'OMIM:604580.0006', 'OMIM:602421.0117', 'OMIM:131195.0005', 'OMIM:606472.0003', 'OMIM:601623.0007', 'ClinVarVariant:28698', 'OMIM:300203.0005', 'OMIM:606540.0002', 'OMIM:606882.0018', 'OMIM:188545.0004', 'OMIM:601844.0002', 'OMIM:608892.0015', 'OMIM:606830.0002', 'OMIM:141900.0151', 'OMIM:601129.0003', 'OMIM:300377.0002', 'OMIM:602138.0006', 'OMIM:120140.0004', 'OMIM:300248.0018', 'OMIM:173910.0002', 'OMIM:608034.0004', 'OMIM:608684.0001', 'OMIM:600442.0001', 'OMIM:607270.0004', 'ClinVarVariant:968006', 'OMIM:141800.0053', 'OMIM:613629.0002', 'OMIM:300377.0043', 'ClinVarVariant:36282', 'OMIM:601920.0012', 'OMIM:604159.0005', 'OMIM:308380.0002', 'OMIM:104311.0020', 'OMIM:607215.0005', 'OMIM:607542.0005', 'OMIM:180902.0011', 'OMIM:609280.0006', 'OMIM:138246.0002', 'OMIM:612309.0003', 'OMIM:614917.0006', 'ClinVarVariant:242510', 'OMIM:138292.0002', 'OMIM:600523.0002', 'OMIM:615587.0006', 'OMIM:602225.0005', 'OMIM:608210.0005', 'OMIM:107400.0038', 'OMIM:136350.0006', 'OMIM:604878.0009', 'OMIM:102771.0004', 'OMIM:602703.0002', 'OMIM:300264.0004', 'OMIM:300231.0007', 'OMIM:607532.0003', 'dbSNP:rs1726866', 'ClinVarVariant:637135', 'OMIM:605608.0004', 'OMIM:113705.0043', 'OMIM:156845.0007', 'OMIM:603372.0028', 'OMIM:600211.0011', 'OMIM:300841.0217', 'OMIM:138571.0003', 'OMIM:300205.0009', 'OMIM:605427.0013', 'OMIM:182389.0024', 'OMIM:176300.0026', 'OMIM:120436.0009', 'OMIM:164870.0004', 'OMIM:606585.0001', 'OMIM:608536.0004', 'OMIM:609353.0006', 'OMIM:605270.0011', 'OMIM:611258.0001', 'OMIM:616846.0003', 'OMIM:603873.0003', 'OMIM:601728.0038', 'OMIM:118490.0011', 'OMIM:300490.0009', 'OMIM:601253.0005', 'OMIM:600958.0012', 'OMIM:191092.0009', 'ClinVarVariant:831576', 'OMIM:600185.0014', 'OMIM:176261.0004', 'OMIM:610032.0001', 'OMIM:191275.0001', 'ClinVarVariant:36317', 'OMIM:605461.0006', 'OMIM:192090.0003', 'OMIM:600804.0002', 'OMIM:602753.0003', 'OMIM:607542.0016', 'OMIM:192977.0002', 'OMIM:611654.0002', 'OMIM:616406.0003', 'OMIM:185470.0009', 'OMIM:609058.0012', 'ClinVarVariant:242529', 'OMIM:600584.0006', 'OMIM:607008.0014', 'OMIM:606230.0003', 'OMIM:607817.0005', 'OMIM:610316.0008', 'OMIM:164920.0003', 'OMIM:613306.0001', 'OMIM:108730.0005', 'OMIM:609443.0003', 'OMIM:173335.0004', 'dbSNP:rs72694622', 'OMIM:600185.0008', 'OMIM:602216.0008', 'OMIM:607830.0004', 'OMIM:601691.0024', 'OMIM:615049.0003', 'OMIM:606014.0001', 'OMIM:608381.0003', 'OMIM:138945.0012', 'OMIM:603506.0038', 'OMIM:191170.0010', 'OMIM:609912.0004', 'OMIM:603136.0003', 'OMIM:141900.0322', 'ClinVarVariant:370761', 'OMIM:142000.0032', 'OMIM:618530.0001', 'OMIM:608552.0004', 'dbSNP:rs77488208', 'OMIM:605512.0005', 'OMIM:191030.0008', 'ClinVarVariant:285718', 'OMIM:600871.0002', 'OMIM:613165.0015', 'OMIM:610044.0005', 'OMIM:603785.0004', 'OMIM:605427.0002', 'OMIM:613621.0007', 'ClinVarVariant:660601', 'ClinVarVariant:477439', 'OMIM:300461.0026', 'OMIM:615332.0001', 'OMIM:605195.0004', 'OMIM:604569.0010', 'OMIM:600924.0002', 'OMIM:602235.0009', 'OMIM:615684.0001', 'OMIM:590050.0006', 'OMIM:603506.0024', 'OMIM:607059.0006', 'OMIM:139150.0004', 'OMIM:300538.0020', 'OMIM:610766.0002', 'OMIM:603930.0001', 'OMIM:612414.0002', 'OMIM:615247.0002', 'dbSNP:rs4838255', 'OMIM:186910.0001', 'OMIM:609007.0002', 'OMIM:614930.0006', 'OMIM:615743.0001', 'OMIM:604122.0003', 'OMIM:164790.0004', 'ClinVarVariant:237643', 'OMIM:300451.0007', 'OMIM:602378.0005', 'OMIM:607261.0008', 'OMIM:150330.0011', 'OMIM:308000.0040', 'OMIM:600824.0004', 'OMIM:613138.0004', 'OMIM:602956.0004', 'OMIM:605646.0020', 'OMIM:608441.0006', 'OMIM:609787.0003', 'OMIM:141800.0117', 'OMIM:300746.0036', 'OMIM:609712.0008', 'OMIM:609367.0002', 'OMIM:103600.0001', 'OMIM:141800.9999', 'OMIM:607207.0006', 'OMIM:613138.0002', 'OMIM:600185.0025', 'OMIM:600163.0023', 'OMIM:603273.0017', 'OMIM:608170.0001', 'dbSNP:rs11242661', 'OMIM:300040.0014', 'OMIM:300264.0001', 'OMIM:300473.0019', 'OMIM:164874.0004', 'dbSNP:rs883013', 'OMIM:602650.0003', 'OMIM:603518.0001', 'OMIM:603009.0012', 'OMIM:606540.0003', 'OMIM:609506.0014', 'OMIM:613741.0005', 'OMIM:248610.0005', 'OMIM:612994.0004', 'OMIM:608508.0001', 'OMIM:608307.0006', 'OMIM:614647.0003', 'OMIM:612349.0038', 'OMIM:134830.0010', 'OMIM:100725.0002', 'OMIM:608307.0002', 'OMIM:608568.0001', 'ClinVarVariant:36314', 'OMIM:612799.0005', 'OMIM:120150.0018', 'OMIM:606933.0017', 'OMIM:603634.0003', 'OMIM:301057.0003', 'OMIM:605378.0002', 'OMIM:300644.0006', 'OMIM:300300.0007', 'OMIM:604758.0001', 'OMIM:606754.0002', 'OMIM:612349.0032', 'OMIM:182390.0020', 'OMIM:605379.0004', 'OMIM:191315.0014', 'OMIM:616327.0006', 'OMIM:612386.0009', 'OMIM:612724.0005', 'OMIM:604638.0004', 'OMIM:612792.0003', 'ClinVarVariant:260161', 'OMIM:602590.0002', 'OMIM:605427.0007', 'OMIM:141900.0025', 'OMIM:300169.0006', 'OMIM:603234.0003', 'OMIM:138249.0011', 'OMIM:602421.0100', 'OMIM:614574.0002', 'OMIM:172460.0005', 'OMIM:159460.0001', 'OMIM:100690.0011', 'OMIM:614041.0014', 'OMIM:611766.0002', 'OMIM:600024.0003', 'OMIM:141900.0286', 'OMIM:300247.0005', 'OMIM:600909.0005', 'OMIM:608210.0014', 'OMIM:142250.0023', 'OMIM:157655.0007', 'OMIM:600548.0002', 'OMIM:612502.0003', 'OMIM:618269.0003', 'ClinVarVariant:70218', 'OMIM:613349.0018', 'OMIM:617048.0003', 'OMIM:102576.0002', 'OMIM:138850.0013', 'OMIM:600147.0001', 'OMIM:601653.0013', 'OMIM:300079.0005', 'OMIM:191044.0010', 'OMIM:602997.0007', 'OMIM:606887.0003', 'dbSNP:rs11230328', 'OMIM:104760.0010', 'OMIM:614041.0007', 'OMIM:304040.0007', 'OMIM:607606.0008', 'OMIM:115500.0003', 'OMIM:614620.0016', 'OMIM:604581.0007', 'OMIM:614386.0003', 'OMIM:300522.0004', 'OMIM:300515.0002', 'OMIM:613890.0001', 'OMIM:616101.0005', 'OMIM:138079.0009', 'OMIM:300461.0015', 'OMIM:300463.0006', 'OMIM:138244.0001', 'OMIM:147670.0020', 'OMIM:188540.0001', 'OMIM:173515.0002', 'OMIM:607604.0012', 'OMIM:120140.0027', 'OMIM:231675.0002', 'OMIM:300841.0066', 'OMIM:605441.0001', 'OMIM:613741.0004', 'OMIM:130660.0001', 'OMIM:609300.0032', 'OMIM:150330.0004', 'OMIM:606522.0004', 'OMIM:606754.0009', 'OMIM:602337.0008', 'dbSNP:rs77944739', 'OMIM:600681.0011', 'OMIM:308000.0008', 'OMIM:600473.0007', 'OMIM:612280.0012', 'OMIM:604134.0023', 'OMIM:300126.0015', 'OMIM:605423.0002', 'OMIM:610859.0005', 'ClinVarVariant:633179', 'OMIM:601147.0006', 'dbSNP:rs11574583', 'OMIM:610627.0001', 'OMIM:300377.0032', 'OMIM:301012.0001', 'OMIM:609276.0003', 'OMIM:300075.0004', 'OMIM:300080.0001', 'OMIM:601728.0018', 'OMIM:602769.0002', 'OMIM:176876.0021', 'OMIM:300841.0145', 'OMIM:613733.0004', 'OMIM:614726.0003', 'OMIM:300272.0001', 'OMIM:300474.0002', 'OMIM:141900.0362', 'OMIM:604878.0007', 'OMIM:141900.0074', 'OMIM:300052.0001', 'OMIM:605202.0002', 'OMIM:190315.0007', 'ClinVarVariant:225228', 'OMIM:613018.0003', 'OMIM:613932.0004', 'OMIM:139150.0008', 'OMIM:601968.0001', 'OMIM:600644.0002', 'OMIM:600163.0003', 'OMIM:602298.0002', 'OMIM:300841.0260', 'OMIM:615843.0002', 'OMIM:611565.0004', 'OMIM:118503.0002', 'OMIM:300644.0048', 'OMIM:605495.0002', 'OMIM:604860.0001', 'OMIM:616109.0002', 'OMIM:600855.0004', 'OMIM:607759.0010', 'OMIM:602985.0001', 'OMIM:172400.0005', 'OMIM:174762.0005', 'OMIM:600417.0002', 'OMIM:150340.0005', 'ClinVarVariant:857329', 'OMIM:612761.0006', 'OMIM:604149.0009', 'OMIM:608201.0003', 'OMIM:131242.0006', 'OMIM:608628.0006', 'OMIM:608879.0005', 'OMIM:610826.0001', 'OMIM:164874.0003', 'OMIM:605204.0006', 'OMIM:605010.0005', 'OMIM:126340.0015', 'ClinVarVariant:29221', 'ClinVarVariant:371591', 'OMIM:611731.0050', 'OMIM:608546.0003', 'OMIM:121014.0013', 'dbSNP:rs6532271', 'OMIM:606462.0006', 'OMIM:609831.0010', 'ClinVarVariant:806343', 'OMIM:603745.0001', 'OMIM:605420.0004', 'OMIM:607878.0004', 'OMIM:608309.0014', 'OMIM:600509.0005', 'OMIM:611542.0008', 'OMIM:100725.0020', 'OMIM:516030.0010', 'OMIM:610132.0002', 'OMIM:120436.0002', 'OMIM:605597.0004', 'OMIM:609059.0004', 'OMIM:601439.0005', 'OMIM:152427.0007', 'OMIM:607380.0003', 'OMIM:120150.0002', 'OMIM:613129.0012', 'OMIM:300611.0003', 'OMIM:609661.0010', 'OMIM:610224.0003', 'OMIM:180040.0001', 'OMIM:300897.0003', 'OMIM:601756.0005', 'OMIM:136132.0012', 'OMIM:601933.0001', 'OMIM:606352.0013', 'OMIM:604149.0003', 'OMIM:615316.0009', 'OMIM:173510.0004', 'OMIM:608614.0008', 'OMIM:602421.0023', 'OMIM:605226.0003', 'OMIM:608675.0001', 'OMIM:125660.0001', 'OMIM:136132.0001', 'OMIM:120328.0003', 'OMIM:191845.0009', 'OMIM:305915.0001', 'OMIM:613129.0004', 'OMIM:613214.0004', 'OMIM:139320.0026', 'OMIM:590060.0005', 'OMIM:605460.0006', 'OMIM:605725.0006', 'OMIM:600900.0001', 'OMIM:610652.0001', 'OMIM:152780.0007', 'OMIM:120120.0024', 'OMIM:609539.0001', 'OMIM:300841.0167', 'OMIM:604217.0002', 'OMIM:107680.0014', 'OMIM:114208.0004', 'OMIM:608536.0006', 'OMIM:603234.0017', 'OMIM:613446.0003', 'OMIM:608537.0031', 'OMIM:607983.0002', 'OMIM:612625.0001', 'OMIM:300644.0032', 'OMIM:248610.0001', 'OMIM:600968.0008', 'OMIM:613344.0001', 'OMIM:604373.0004', 'OMIM:600037.0002', 'OMIM:600682.0008', 'OMIM:600509.0003', 'OMIM:610528.0006', 'OMIM:185470.0007', 'OMIM:107310.0001', 'OMIM:600163.0031', 'OMIM:602026.0008', 'OMIM:190195.0003', 'OMIM:604983.0001', 'OMIM:601769.0004', 'OMIM:138290.0001', 'OMIM:613111.0005', 'OMIM:600825.0001', 'OMIM:607557.0001', 'OMIM:300485.0002', 'OMIM:601313.0005', 'OMIM:613609.0011', 'OMIM:314690.0005', 'OMIM:139250.0005', 'OMIM:607608.0016', 'OMIM:605378.0006', 'OMIM:138250.0004', 'OMIM:103000.0002', 'OMIM:601498.0016', 'OMIM:610453.0010', 'OMIM:607574.0016', 'OMIM:608210.0002', 'ClinVarVariant:504232', 'OMIM:305900.0025', 'OMIM:138480.0001', 'OMIM:600820.0002', 'OMIM:107470.0005', 'OMIM:106150.0003', 'OMIM:160720.0008', 'OMIM:613397.0003', 'OMIM:606227.0009', 'OMIM:164840.0007', 'ClinVarVariant:5725', 'OMIM:608896.0001', 'OMIM:160781.0004', 'dbSNP:rs11979476', 'OMIM:601545.0008', 'OMIM:300535.0006', 'OMIM:300841.0194', 'OMIM:608581.0002', 'OMIM:602860.0008', 'OMIM:138491.0005', 'OMIM:607245.0004', 'OMIM:300644.0028', 'OMIM:300137.0002', 'OMIM:606630.0002', 'OMIM:300005.0036', 'OMIM:611458.0026', 'OMIM:600259.0010', 'OMIM:300841.0235', 'OMIM:138450.0004', 'OMIM:606725.0007', 'OMIM:605925.0011', 'OMIM:600185.0019', 'OMIM:612280.0005', 'OMIM:136132.0014', 'OMIM:604619.0009', 'OMIM:300377.0010', 'OMIM:148066.0017', 'OMIM:605978.0003', 'ClinVarVariant:95937', 'OMIM:120140.0024', 'OMIM:605646.0028', 'OMIM:304040.0020', 'OMIM:601860.0005', 'OMIM:602656.0001', 'OMIM:605705.0003', 'OMIM:601902.0003', 'OMIM:616112.0007', 'OMIM:300128.0002', 'OMIM:610355.0011', 'OMIM:308000.0051', 'OMIM:190182.0002', 'dbSNP:rs12220898', 'OMIM:123695.0004', 'OMIM:606370.0001', 'ClinVarVariant:477508', 'dbSNP:rs113316507', 'OMIM:613878.0011', 'OMIM:155760.0011', 'OMIM:300461.0016', 'OMIM:300823.0014', 'OMIM:604766.0012', 'OMIM:606869.0052', 'OMIM:611994.0003', 'OMIM:606048.0005', 'OMIM:613349.0033', 'OMIM:603799.0013', 'OMIM:142410.0005', 'OMIM:607386.0001', 'OMIM:614620.0009', 'ClinVarVariant:430209', 'OMIM:601015.0006', 'OMIM:300170.0005', 'OMIM:252800.0020', 'OMIM:170285.0003', 'OMIM:188450.0013', 'OMIM:229000.0003', 'OMIM:603850.0007', 'OMIM:605257.0007', 'OMIM:157140.0012', 'OMIM:300609.0002', 'OMIM:600225.0022', 'OMIM:615049.0006', 'OMIM:138720.0004', 'OMIM:613622.0001', 'OMIM:606410.0004', 'dbSNP:rs115780313', 'OMIM:118490.0006', 'OMIM:607009.0003', 'OMIM:171833.0006', 'OMIM:300265.0006', 'OMIM:300300.0001', 'OMIM:141900.0047', 'OMIM:600928.0004', 'OMIM:604766.0007', 'OMIM:601692.0011', 'dbSNP:rs4950', 'OMIM:613733.0008', 'OMIM:600565.0001', 'OMIM:602421.0064', 'OMIM:615322.0005', 'OMIM:121011.0008', 'OMIM:608769.0005', 'OMIM:125240.0003', 'OMIM:605646.0015', 'OMIM:609739.0002', 'OMIM:163730.0003', 'OMIM:314200.0012', 'OMIM:602337.0011', 'OMIM:612283.0020', 'OMIM:171760.0017', 'OMIM:611927.0001', 'ClinVarVariant:362401', 'OMIM:601485.0004', 'OMIM:300168.0001', 'OMIM:611901.0004', 'OMIM:603426.0001', 'OMIM:606157.0006', 'OMIM:600160.0018', 'OMIM:600716.0002', 'OMIM:600173.0001', 'OMIM:615876.0002', 'OMIM:611318.0002', 'OMIM:102620.0007', 'OMIM:167411.0002', 'ClinVarVariant:364259', 'OMIM:602432.0004', 'OMIM:616786.0002', 'OMIM:141800.0054', 'OMIM:604122.0005', 'OMIM:590040.0004', 'OMIM:111680.0001', 'OMIM:612105.0001', 'OMIM:147650.0001', 'OMIM:607511.0002', 'OMIM:612280.0008', 'OMIM:170280.0007', 'OMIM:601097.0008', 'OMIM:606967.0017', 'OMIM:300913.0008', 'OMIM:138571.0005', 'OMIM:248610.0007', 'OMIM:609806.0027', 'OMIM:300841.0158', 'OMIM:141900.0319', 'OMIM:160760.0007', 'OMIM:607817.0011', 'OMIM:610219.0006', 'OMIM:612349.0063', 'OMIM:601893.0004', 'OMIM:141900.0086', 'OMIM:141800.0134', 'OMIM:604260.0006', 'OMIM:613446.0006', 'OMIM:182860.0004', 'OMIM:607139.0007', 'OMIM:601488.0002', 'ClinVarVariant:47216', 'OMIM:164920.0026', 'OMIM:300629.0006', 'OMIM:606323.0002', 'OMIM:146740.0002', 'OMIM:131530.0001', 'OMIM:609367.0005', 'OMIM:120550.0002', 'OMIM:603454.0004', 'OMIM:601752.0002', 'OMIM:600617.0014', 'OMIM:190198.0001', 'OMIM:603531.0002', 'OMIM:607528.0002', 'OMIM:601728.0011', 'OMIM:603506.0002', 'OMIM:300080.0004', 'OMIM:178642.0002', 'OMIM:607585.0009', 'OMIM:600840.0012', 'OMIM:300203.0002', 'OMIM:300377.0076', 'OMIM:600983.0003', 'OMIM:601093.0002', 'OMIM:614725.0005', 'OMIM:182860.0018', 'OMIM:613326.0005', 'OMIM:602023.0008', 'OMIM:603100.0001', 'OMIM:600856.0007', 'OMIM:607465.0004', 'OMIM:607100.0005', 'ClinVarVariant:427574', 'OMIM:600439.0004', 'OMIM:148040.0002', 'OMIM:170280.0012', 'OMIM:607331.0001', 'OMIM:605958.0001', 'OMIM:601542.0007', 'OMIM:615115.0008', 'OMIM:601150.0001', 'OMIM:191525.0002', 'OMIM:601691.0023', 'OMIM:603873.0005', 'OMIM:136352.0004', 'ClinVarVariant:959370', 'OMIM:603623.0003', 'OMIM:116896.0001', 'OMIM:300451.0008', 'OMIM:612757.0005', 'dbSNP:rs1249675', 'OMIM:191170.0016', 'OMIM:607063.0002', 'OMIM:603377.0011', 'OMIM:603883.0008', 'dbSNP:rs55828312', 'OMIM:601725.0002', 'OMIM:603506.0029', 'OMIM:300377.0003', 'OMIM:156570.0002', 'OMIM:148042.0003', 'OMIM:606230.0004', 'OMIM:300473.0026', 'OMIM:610206.0013', 'OMIM:191342.0005', 'OMIM:264900.0001', 'OMIM:614084.0005', 'dbSNP:rs35277959', 'OMIM:153440.0002', 'OMIM:618656.0001', 'OMIM:612641.0002', 'OMIM:600968.0015', 'OMIM:616655.0002', 'OMIM:601728.0020', 'OMIM:604113.0001', 'OMIM:176941.0004', 'OMIM:176300.0037', 'OMIM:300202.0004', 'OMIM:118425.0011', 'OMIM:114800.0002', 'OMIM:601440.0005', 'OMIM:604844.0003', 'OMIM:609024.0004', 'OMIM:616003.0003', 'OMIM:611990.0002', 'OMIM:603381.0016', 'OMIM:618802.0002', 'OMIM:608803.0007', 'OMIM:608420.0005', 'OMIM:300096.0001', 'ClinVarVariant:47043', 'OMIM:607522.0006', 'dbSNP:rs9544382', 'OMIM:114090.0001', 'OMIM:605978.0001', 'OMIM:300806.0002', 'OMIM:609019.0007', 'OMIM:120436.0005', 'OMIM:613344.0002', 'OMIM:601408.0003', 'OMIM:606596.0014', 'OMIM:188840.0013', 'ClinVarVariant:45604', 'OMIM:615403.0007', 'OMIM:613858.0001', 'OMIM:602767.0001', 'OMIM:602195.0005', 'OMIM:615317.0002', 'OMIM:605248.0008', 'dbSNP:rs140817157', 'OMIM:160710.0005', 'OMIM:300451.0011', 'OMIM:184757.0017', 'OMIM:601149.0002', 'OMIM:602421.0074', 'OMIM:608151.0001', 'ClinVarVariant:50926', 'OMIM:300747.0004', 'OMIM:300490.0001', 'OMIM:190198.0011', 'ClinVarVariant:540042', 'OMIM:600709.0006', 'OMIM:615623.0005', 'OMIM:606416.0009', 'OMIM:615847.0006', 'OMIM:603861.0002', 'OMIM:118423.0005', 'OMIM:613847.0002', 'OMIM:107741.0007', 'OMIM:191135.0002', 'OMIM:602136.0006', 'OMIM:607212.0003', 'OMIM:609891.0002', 'OMIM:606761.0001', 'OMIM:141900.0396', 'OMIM:616327.0001', 'OMIM:102560.0011', 'OMIM:613230.0001', 'OMIM:124015.0006', 'OMIM:608884.0002', 'OMIM:605018.0001', 'OMIM:603273.0024', 'OMIM:604404.0002', 'OMIM:120520.0006', 'OMIM:192340.0015', 'OMIM:186780.0003', 'OMIM:601500.0004', 'OMIM:602956.0005', 'OMIM:300135.0003', 'OMIM:604677.0001', 'OMIM:613213.0008', 'OMIM:613113.0015', 'OMIM:602768.0006', 'OMIM:605988.0004', 'OMIM:605197.0003', 'OMIM:608107.0017', 'OMIM:141800.0029', 'dbSNP:rs9901834', 'OMIM:164780.0003', 'ClinVarVariant:47876', 'OMIM:600163.0002', 'OMIM:176267.0004', 'OMIM:615956.0001', 'OMIM:609988.0003', 'OMIM:602113.0003', 'OMIM:102770.0001', 'OMIM:138252.0009', 'OMIM:176300.0002', 'dbSNP:rs140222672', 'OMIM:155555.0007', 'OMIM:156560.0007', 'OMIM:138250.0011', 'OMIM:619109.0003', 'OMIM:300377.0068', 'OMIM:606489.0001', 'OMIM:102610.0016', 'dbSNP:rs2014572', 'OMIM:179060.0005', 'OMIM:300746.0113', 'OMIM:608507.0018', 'OMIM:300377.0042', 'OMIM:138571.0008', 'OMIM:600909.0011', 'OMIM:150240.0002', 'OMIM:604212.0005', 'OMIM:612732.0004', 'dbSNP:rs2475229', 'OMIM:607491.0001', 'OMIM:300300.0009', 'OMIM:602421.0112', 'OMIM:608792.0001', 'dbSNP:rs10871454', 'OMIM:609300.0004', 'OMIM:300841.0184', 'OMIM:188830.0008', 'OMIM:120190.0007', 'OMIM:608507.0017', 'OMIM:142461.0001', 'OMIM:609300.0008', 'OMIM:300841.0090', 'OMIM:604604.0001', 'OMIM:606945.0036', 'OMIM:600235.0010', 'OMIM:607423.0003', 'OMIM:164761.0054', 'ClinVarVariant:5491', 'OMIM:614730.0002', 'OMIM:106180.0006', 'OMIM:613629.0018', 'OMIM:147582.0002', 'OMIM:601597.0001', 'OMIM:300371.0015', 'dbSNP:rs6110404', 'OMIM:109091.0001', 'OMIM:120130.0003', 'OMIM:120090.0003', 'OMIM:604214.0009', 'OMIM:601439.0003', 'OMIM:606885.0008', 'OMIM:603904.0003', 'OMIM:609209.0001', 'OMIM:305900.0009', 'OMIM:601769.0007', 'OMIM:138090.0005', 'OMIM:231675.0005', 'OMIM:300644.0034', 'OMIM:136351.0002', 'OMIM:177075.0010', 'OMIM:605646.0019', 'OMIM:238300.0005', 'OMIM:603401.0002', 'OMIM:600502.0014', 'dbSNP:rs472402', 'OMIM:604733.0002', 'OMIM:165360.0009', 'OMIM:193067.0002', 'OMIM:602207.0001', 'OMIM:607117.0001', 'OMIM:120470.0001', 'OMIM:600185.0016', 'OMIM:300841.0183', 'OMIM:300552.0005', 'OMIM:102630.0004', 'OMIM:617209.0004', 'OMIM:138250.0010', 'OMIM:604741.0004', 'OMIM:605489.0004', 'OMIM:606681.0009', 'OMIM:610860.0007', 'OMIM:602421.0134', 'OMIM:102545.0001', 'OMIM:300126.0004', 'OMIM:607423.0020', 'OMIM:604149.0001', 'OMIM:146920.0010', 'OMIM:120190.0002', 'OMIM:610859.0007', 'OMIM:300885.0003', 'OMIM:606882.0004', 'OMIM:148080.0010', 'dbSNP:rs314113468', 'OMIM:190160.0019', 'ClinVarVariant:446871', 'OMIM:159440.0019', 'OMIM:609300.0030', 'OMIM:613213.0016', 'ClinVarVariant:33013', 'OMIM:611279.0006', 'OMIM:617531.0002', 'OMIM:604834.0001', 'OMIM:608769.0010', 'OMIM:614725.0006', 'ClinVarVariant:950741', 'ClinVarVariant:31786', 'OMIM:602194.0002', 'OMIM:618227.0004', 'OMIM:606118.0002', 'OMIM:138250.0009', 'OMIM:120520.0008', 'OMIM:305900.0058', 'OMIM:154550.0002', 'OMIM:603729.0005', 'OMIM:609845.0001', 'dbSNP:rs710987', 'OMIM:300841.0264', 'OMIM:606882.0003', 'OMIM:300275.0006', 'OMIM:603384.0009', 'OMIM:120240.0001', 'OMIM:141900.0391', 'ClinVarVariant:975762', 'OMIM:603716.0002', 'OMIM:606421.0003', 'OMIM:614787.0007', 'OMIM:614041.0025', 'dbSNP:rs480409', 'dbSNP:rs73034216', 'OMIM:604032.0002', 'OMIM:603405.0003', 'OMIM:602574.0007', 'OMIM:601656.0009', 'OMIM:142000.0036', 'OMIM:609010.0007', 'OMIM:600465.0001', 'OMIM:113530.0002', 'OMIM:610053.0002', 'OMIM:300841.0136', 'OMIM:604766.0002', 'OMIM:606352.0001', 'OMIM:113705.0038', 'OMIM:613160.0038', 'OMIM:141900.0158', 'OMIM:602870.0002', 'ClinVarVariant:554623', 'ClinVarVariant:38492', 'OMIM:600983.0016', 'OMIM:300697.0010', 'OMIM:614140.0005', 'OMIM:600570.0010', 'OMIM:607999.0003', 'OMIM:602589.0001', 'OMIM:600375.0001', 'OMIM:313700.0050', 'OMIM:608124.0006', 'OMIM:601327.0003', 'OMIM:602216.0011', 'OMIM:313650.0001', 'OMIM:617687.0003', 'OMIM:147730.0004', 'OMIM:603415.0008', 'OMIM:156845.0003', 'OMIM:602900.0013', 'OMIM:141850.0020', 'OMIM:600924.0001', 'OMIM:617840.0006', 'OMIM:300746.0025', 'OMIM:602091.0008', 'OMIM:607343.0009', 'OMIM:602421.0136', 'OMIM:602091.0001', 'OMIM:612386.0005', 'OMIM:609607.0004', 'OMIM:602421.0130', 'OMIM:300841.0189', 'OMIM:602375.0001', 'OMIM:112264.0004', 'OMIM:615322.0003', 'OMIM:615712.0002', 'OMIM:611663.0001', 'OMIM:156225.0006', 'ClinVarVariant:21358', 'OMIM:300841.0054', 'OMIM:600150.0003', 'OMIM:133530.0010', 'OMIM:610855.0001', 'OMIM:604501.0002', 'OMIM:601749.0001', 'OMIM:603504.0001', 'OMIM:141900.0068', 'ClinVarVariant:370704', 'OMIM:176943.0002', 'OMIM:139350.0010', 'OMIM:184429.0006', 'OMIM:300841.0078', 'OMIM:610110.0003', 'OMIM:120220.0002', 'OMIM:601972.0001', 'OMIM:609787.0008', 'OMIM:134830.0012', 'OMIM:156570.0009', 'OMIM:300180.0001', 'OMIM:191163.0004', 'OMIM:610672.0001', 'OMIM:614169.0004', 'OMIM:601259.0001', 'OMIM:610457.0003', 'OMIM:600983.0002', 'OMIM:607237.0006', 'OMIM:614191.0011', 'ClinVarVariant:613423', 'OMIM:617559.0004', 'OMIM:601243.0001', 'dbSNP:rs1060348', 'OMIM:139320.0002', 'OMIM:147670.0008', 'OMIM:164780.0009', 'ClinVarVariant:968246', 'OMIM:107280.0005', 'OMIM:300275.0001', 'OMIM:601545.0005', 'OMIM:176761.0003', 'OMIM:604975.0002', 'OMIM:612222.0017', 'OMIM:603248.0001', 'OMIM:606478.0008', 'OMIM:613940.0003', 'OMIM:607922.0002', 'OMIM:611927.0007', 'OMIM:600168.0001', 'OMIM:603741.0010', 'OMIM:152427.0008', 'OMIM:601011.0019', 'ClinVarVariant:262763', 'OMIM:607002.0006', 'OMIM:608884.0005', 'OMIM:601728.0012', 'OMIM:607623.0008', 'OMIM:605896.0006', 'OMIM:139396.0006', 'OMIM:602421.0053', 'OMIM:605262.0002', 'OMIM:605284.0008', 'ClinVarVariant:580498', 'OMIM:516006.0004', 'OMIM:605908.0002', 'OMIM:602783.0012', 'OMIM:229000.0002', 'OMIM:607070.0001', 'OMIM:102620.0004', 'OMIM:605238.0003', 'OMIM:600829.0005', 'OMIM:611663.0002', 'OMIM:606938.0003', 'OMIM:312865.0004', 'OMIM:602769.0009', 'OMIM:605046.0002', 'OMIM:615533.0001', 'OMIM:600839.0002', 'OMIM:159440.0014', 'OMIM:611495.0001', 'OMIM:176801.0006', 'OMIM:606797.0003', 'OMIM:168450.0001', 'OMIM:609806.0015', 'OMIM:174763.0011', 'OMIM:601011.0024', 'OMIM:605597.0019', 'OMIM:141800.0049', 'OMIM:157660.0015', 'OMIM:124015.0012', 'OMIM:603883.0007', 'OMIM:600819.0002', 'OMIM:601691.0005', 'OMIM:611492.0001', 'OMIM:604124.0004', 'OMIM:147450.0019', 'dbSNP:rs1494373', 'OMIM:604242.0001', 'dbSNP:rs138696382', 'OMIM:606580.0006', 'OMIM:162280.0001', 'OMIM:600211.0009', 'OMIM:601313.0016', 'OMIM:180901.0030', 'OMIM:604985.0005', 'ClinVarVariant:948321', 'OMIM:171640.0003', 'OMIM:602870.0003', 'OMIM:134570.0016', 'OMIM:107280.0002', 'OMIM:617134.0001', 'OMIM:609720.0004', 'OMIM:607343.0004', 'OMIM:611971.0002', 'OMIM:604272.0001', 'OMIM:604485.0006', 'OMIM:165240.0014', 'OMIM:606754.0010', 'OMIM:300841.0247', 'OMIM:606045.0006', 'OMIM:600829.0001', 'OMIM:164761.0007', 'OMIM:173350.0003', 'OMIM:607800.0006', 'OMIM:602368.0002', 'OMIM:100690.0009', 'OMIM:613534.0002', 'OMIM:601828.0002', 'dbSNP:rs10510829', 'OMIM:603707.0004', 'ClinVarVariant:404151', 'OMIM:609369.0001', 'OMIM:602021.0002', 'dbSNP:rs145658364', 'OMIM:300629.0003', 'OMIM:610732.0004', 'OMIM:607070.0003', 'OMIM:609506.0010', 'OMIM:614784.0002', 'OMIM:176730.0005', 'OMIM:607585.0027', 'OMIM:617378.0004', 'OMIM:238310.0005', 'OMIM:300841.0252', 'OMIM:614386.0007', 'OMIM:607696.0003', 'OMIM:601097.0007', 'OMIM:603009.0017', 'OMIM:617353.0002', 'OMIM:188450.0005', 'OMIM:607786.0001', 'OMIM:600465.0004', 'OMIM:608325.0001', 'OMIM:608977.0001', 'OMIM:300628.0009', 'OMIM:603709.0002', 'OMIM:148040.0001', 'OMIM:603945.0006', 'dbSNP:rs141515844', 'OMIM:608581.0004', 'OMIM:607830.0002', 'OMIM:607440.0008', 'OMIM:600760.0011', 'OMIM:600414.0003', 'OMIM:606609.0006', 'OMIM:607838.0009', 'OMIM:100725.0023', 'OMIM:607574.0038', 'OMIM:602858.0010', 'OMIM:603856.0005', 'OMIM:603015.0003', 'OMIM:613446.0007', 'OMIM:100725.0011', 'OMIM:601683.0001', 'OMIM:604581.0006', 'OMIM:605284.0001', 'OMIM:134370.0001', 'ClinVarVariant:200690', 'ClinVarVariant:32903', 'OMIM:618439.0001', 'OMIM:232000.0004', 'OMIM:609840.0002', 'OMIM:300746.0085', 'OMIM:608548.0001', 'OMIM:613814.0004', 'OMIM:617558.0011', 'OMIM:605653.0003', 'OMIM:123590.0010', 'OMIM:300226.0001', 'OMIM:607212.0005', 'OMIM:300300.0032', 'OMIM:618689.0001', 'OMIM:609661.0002', 'OMIM:612035.0002', 'OMIM:603015.0006', 'OMIM:601011.0035', 'ClinVarVariant:27226', 'OMIM:601263.0001', 'OMIM:608107.0002', 'OMIM:603005.0007', 'OMIM:314995.0001', 'OMIM:173510.0007', 'OMIM:191010.0001', 'OMIM:314375.0006', 'OMIM:613236.0004', 'OMIM:601771.0018', 'OMIM:300546.0002', 'OMIM:605882.0004', 'OMIM:618146.0002', 'OMIM:156845.0001', 'OMIM:613160.0004', 'OMIM:606806.0001', 'OMIM:606158.0001', 'ClinVarVariant:36283', 'OMIM:602821.0015', 'OMIM:300371.0013', 'OMIM:605951.0001', 'OMIM:612719.0010', 'OMIM:606118.0003', 'OMIM:121014.0012', 'OMIM:164920.0015', 'OMIM:181590.0001', 'OMIM:300841.0117', 'dbSNP:rs150216791', 'OMIM:133520.0008', 'OMIM:152427.0016', 'OMIM:610083.0005', 'OMIM:601601.0003', 'ClinVarVariant:982555', 'OMIM:603453.0001', 'OMIM:164820.0003', 'OMIM:176871.0003', 'OMIM:604878.0010', 'ClinVarVariant:16068', 'OMIM:148069.0014', 'OMIM:115500.0002', 'OMIM:606829.0003', 'OMIM:602676.0002', 'OMIM:300747.0005', 'OMIM:609506.0004', 'ClinVarVariant:646993', 'OMIM:608769.0008', 'ClinVarVariant:242489', 'OMIM:613799.0004', 'OMIM:608465.0013', 'OMIM:103020.0009', 'OMIM:615340.0002', 'OMIM:604597.0001', 'OMIM:608310.0003', 'OMIM:608662.0003', 'dbSNP:rs10513968', 'OMIM:607803.0005', 'OMIM:600576.0011', 'OMIM:602378.0009', 'OMIM:109750.0001', 'OMIM:609300.0020', 'OMIM:601146.0020', 'OMIM:606352.0009', 'OMIM:190160.0038', 'OMIM:608256.0003', 'ClinVarVariant:14298', 'OMIM:604588.0012', 'OMIM:603330.0001', 'OMIM:609132.0001', 'OMIM:172490.0003', 'OMIM:603711.0001', 'ClinVarVariant:36976', 'OMIM:600509.0015', 'OMIM:165360.0003', 'OMIM:102582.0004', 'OMIM:603826.0002', 'OMIM:607632.0006', 'OMIM:613580.0002', 'OMIM:142250.0044', 'OMIM:141900.0353', 'ClinVarVariant:545511', 'OMIM:138945.0016', 'OMIM:300746.0087', 'OMIM:600968.0002', 'OMIM:600281.0007', 'OMIM:610303.0001', 'OMIM:138295.0001', 'OMIM:603647.0002', 'OMIM:609862.0005', 'OMIM:142200.0032', 'OMIM:615759.0001', 'OMIM:600733.0006', 'OMIM:167416.0003', 'OMIM:300307.0006', 'OMIM:611731.0029', 'OMIM:104311.0015', 'OMIM:601691.0013', 'OMIM:102620.0009', 'ClinVarVariant:70466', 'OMIM:118423.0008', 'OMIM:613602.0009', 'OMIM:606833.0003', 'OMIM:300490.0002', 'OMIM:603131.0001', 'OMIM:142000.0010', 'OMIM:139250.0008', 'OMIM:613768.0001', 'OMIM:607474.0008', 'OMIM:606268.0013', 'OMIM:602748.0001', 'OMIM:613183.0004', 'OMIM:300392.0004', 'ClinVarVariant:95756', 'OMIM:138945.0004', 'OMIM:300453.0005', 'dbSNP:rs6778436', 'OMIM:600565.0004', 'OMIM:604507.0001', 'OMIM:601263.0004', 'OMIM:607093.0009', 'OMIM:120960.0001', 'OMIM:153454.0007', 'OMIM:107400.0010', 'OMIM:608896.0004', 'OMIM:607955.0004', 'OMIM:600276.0003', 'OMIM:613230.0004', 'OMIM:309845.0002', 'OMIM:605747.0002', 'OMIM:602660.0001', 'OMIM:616690.0001', 'OMIM:617658.0002', 'OMIM:123680.0001', 'dbSNP:rs11212617', 'OMIM:604094.0001', 'OMIM:614726.0004', 'OMIM:601146.0004', 'OMIM:602931.0005', 'OMIM:600528.0005', 'OMIM:147450.0026', 'OMIM:600473.0010', 'OMIM:120160.0006', 'dbSNP:rs10740993', 'OMIM:602274.0003', 'OMIM:613541.0001', 'OMIM:612837.0001', 'OMIM:160740.0006', 'OMIM:141900.0121', 'OMIM:615291.0018', 'OMIM:609063.0001', 'OMIM:608455.0005', 'OMIM:134797.0027', 'OMIM:173360.0002', 'OMIM:607301.0002', 'OMIM:300841.0139', 'OMIM:602460.0005', 'OMIM:601150.0005', 'OMIM:600555.0015', 'OMIM:129190.0003', 'OMIM:300382.0005', 'OMIM:608894.0003', 'OMIM:107400.0020', 'OMIM:609332.0007', 'OMIM:300644.0037', 'OMIM:602421.0087', 'OMIM:609739.0001', 'OMIM:600890.0007', 'OMIM:614297.0012', 'OMIM:606628.0002', 'OMIM:612802.0006', 'OMIM:165220.0002', 'OMIM:605371.0001', 'OMIM:300841.0199', 'OMIM:138160.0003', 'OMIM:609275.0004', 'OMIM:608222.0005', 'OMIM:314850.0006', 'OMIM:603415.0020', 'OMIM:604383.0002', 'OMIM:150571.0001', 'OMIM:610004.0001', 'OMIM:602360.0005', 'OMIM:191290.0007', 'OMIM:607066.0005', 'OMIM:605084.0003', 'OMIM:613597.0007', 'OMIM:102560.0006', 'OMIM:607289.0001', 'OMIM:606869.0023', 'OMIM:613349.0014', 'OMIM:141900.0530', 'dbSNP:rs7652179', 'OMIM:610844.0004', 'OMIM:608922.0002', 'OMIM:141900.0472', 'OMIM:610341.0003', 'OMIM:600221.0005', 'OMIM:607585.0010', 'OMIM:300502.0019', 'OMIM:603335.0008', 'ClinVarVariant:560292', 'OMIM:609806.0037', 'OMIM:602926.0002', 'OMIM:608892.0007', 'OMIM:162230.0003', 'OMIM:147370.0009', 'OMIM:607854.0015', 'OMIM:619109.0005', 'OMIM:609883.0004', 'OMIM:617362.0002', 'OMIM:134934.0034', 'OMIM:311800.0013', 'OMIM:608833.0007', 'OMIM:612373.0010', 'OMIM:138571.0007', 'OMIM:300005.0033', 'OMIM:211100.0005', 'OMIM:608968.0007', 'OMIM:132810.0004', 'OMIM:607139.0014', 'OMIM:300715.0001', 'OMIM:615047.0004', 'OMIM:142250.0034', 'OMIM:601309.0011', 'OMIM:601488.0004', 'OMIM:601538.0008', 'OMIM:300019.0003', 'OMIM:160760.0017', 'ClinVarVariant:38831', 'OMIM:604773.0002', 'OMIM:607379.0010', 'OMIM:611592.0007', 'OMIM:611592.0003', 'OMIM:607795.0002', 'OMIM:172471.0003', 'OMIM:607199.0014', 'OMIM:606272.0012', 'dbSNP:rs62103177', 'OMIM:612349.0031', 'OMIM:607166.0001', 'OMIM:608107.0018', 'OMIM:600046.0012', 'OMIM:616105.0008', 'OMIM:300473.0018', 'OMIM:607139.0005', 'OMIM:606151.0009', 'OMIM:606224.0002', 'OMIM:612931.0001', 'OMIM:602851.0003', 'OMIM:607511.0003', 'OMIM:141900.0365', 'OMIM:610627.0003', 'OMIM:612636.0003', 'OMIM:177400.0012', 'OMIM:300502.0014', 'OMIM:616146.0003', 'OMIM:191740.0010', 'OMIM:613858.0003', 'OMIM:610457.0001', 'OMIM:609309.0003', 'OMIM:603666.0001', 'OMIM:120700.0009', 'OMIM:611045.0006', 'OMIM:118503.0003', 'OMIM:141800.0178', 'dbSNP:rs316977473', 'OMIM:109270.0012', 'OMIM:300169.0015', 'OMIM:300188.0001', 'OMIM:609798.0001', 'OMIM:603503.0004', 'OMIM:603131.0004', 'OMIM:176930.0007', 'dbSNP:rs4888280', 'OMIM:600259.0018', 'OMIM:610937.0005', 'OMIM:138680.0003', 'OMIM:600509.0028', 'OMIM:100720.0003', 'OMIM:603824.0015', 'OMIM:604241.0001', 'OMIM:608124.0002', 'OMIM:191010.0008', 'OMIM:118955.0005', 'OMIM:601548.0001', 'OMIM:606830.0003', 'OMIM:601147.0007', 'OMIM:618685.0002', 'OMIM:610166.0002', 'ClinVarVariant:39628', 'OMIM:179617.0007', 'OMIM:125485.0007', 'OMIM:118490.0005', 'OMIM:606897.0003', 'OMIM:609018.0002', 'OMIM:300629.0004', 'OMIM:138253.0007', 'OMIM:179060.0007', 'ClinVarVariant:447428', 'dbSNP:rs79714767', 'OMIM:160760.0023', 'OMIM:600310.0011', 'OMIM:600173.0003', 'OMIM:604327.0002', 'OMIM:609806.0034', 'OMIM:611270.0001', 'OMIM:601282.0007', 'OMIM:604455.0002', 'dbSNP:rs17641529', 'OMIM:107470.0004', 'OMIM:164757.0025', 'OMIM:600150.0002', 'OMIM:609007.0005', 'OMIM:606672.0006', 'OMIM:601691.0030', 'OMIM:102610.0008', 'OMIM:125645.0004', 'OMIM:176943.0010', 'OMIM:607207.0013', 'ClinVarVariant:569099', 'OMIM:164840.0001', 'OMIM:603537.0006', 'OMIM:180660.0005', 'OMIM:612283.0019', 'OMIM:604633.0004', 'OMIM:607244.0002', 'OMIM:603345.0002', 'dbSNP:rs141292672', 'OMIM:190182.0009', 'OMIM:141800.0167', 'OMIM:300746.0012', 'OMIM:614184.0004', 'OMIM:608171.0001', 'OMIM:182340.0013', 'OMIM:139350.0006', 'OMIM:603518.0002', 'OMIM:606180.0002', 'OMIM:131222.0006', 'OMIM:602427.0004', 'OMIM:300841.0213', 'OMIM:607059.0008', 'OMIM:300017.0015', 'OMIM:606692.0002', 'ClinVarVariant:246097', 'OMIM:192340.0014', 'OMIM:300075.0005', 'dbSNP:rs642516', 'ClinVarVariant:22144', 'dbSNP:rs114437475', 'OMIM:604505.0007', 'OMIM:611254.0002', 'OMIM:606568.0001', 'OMIM:604110.0005', 'OMIM:600584.0020', 'OMIM:300032.0002', 'OMIM:142200.0002', 'OMIM:134797.0046', 'OMIM:608272.0012', 'OMIM:608428.0001', 'OMIM:148040.0017', 'OMIM:116806.0020', 'OMIM:300658.0018', 'OMIM:609712.0003', 'OMIM:179615.0013', 'OMIM:613577.0014', 'OMIM:603290.0002', 'OMIM:607008.0011', 'OMIM:611430.0001', 'OMIM:614603.0002', 'ClinVarVariant:362631', 'dbSNP:rs1402954', 'OMIM:126375.0006', 'OMIM:516005.0004', 'ClinVarVariant:214531', 'OMIM:300036.0009', 'OMIM:606847.0002', 'OMIM:176310.0006', 'OMIM:604161.0001', 'OMIM:608667.0012', 'OMIM:160775.0003', 'OMIM:600574.0006', 'OMIM:604322.0009', 'OMIM:104620.0003', 'OMIM:611935.0009', 'ClinVarVariant:242481', 'OMIM:125660.0009', 'OMIM:138680.0001', 'OMIM:600185.0003', 'OMIM:134637.0017', 'OMIM:172405.0002', 'OMIM:610316.0005', 'OMIM:617782.0004', 'OMIM:611606.0001', 'OMIM:300401.0015', 'OMIM:118485.0009', 'OMIM:104311.0036', 'OMIM:141900.0375', 'OMIM:561000.0002', 'OMIM:601623.0005', 'OMIM:607439.0011', 'OMIM:300300.0030', 'OMIM:607439.0001', 'OMIM:138079.0004', 'OMIM:610453.0008', 'OMIM:590070.0003', 'OMIM:605248.0007', 'OMIM:608537.0027', 'OMIM:605427.0003', 'OMIM:611459.0003', 'OMIM:605516.0003', 'OMIM:603164.0002', 'OMIM:600584.0011', 'OMIM:172400.0011', 'OMIM:603851.0006', 'OMIM:120520.0005', 'OMIM:604819.0002', 'OMIM:604346.0002', 'OMIM:610009.0001', 'OMIM:603197.0009', 'ClinVarVariant:97524', 'OMIM:602589.0003', 'OMIM:606540.0005', 'OMIM:120120.0039', 'OMIM:300377.0024', 'OMIM:603028.0003', 'OMIM:610554.0002', 'OMIM:300644.0025', 'OMIM:601309.0004', 'OMIM:604917.0005', 'OMIM:602229.0020', 'dbSNP:rs1396485', 'dbSNP:rs2291067', 'OMIM:600584.0004', 'ClinVarVariant:371247', 'OMIM:176876.0020', 'dbSNP:rs28410095', 'dbSNP:rs12589674', 'OMIM:609894.0002', 'OMIM:612411.0010', 'OMIM:609648.0001', 'OMIM:610621.0002', 'OMIM:609435.0001', 'OMIM:141900.0187', 'OMIM:614958.0001', 'OMIM:607439.0016', 'OMIM:600279.0001', 'OMIM:602635.0004', 'OMIM:603191.0003', 'OMIM:120130.0018', 'dbSNP:rs73759508', 'OMIM:602690.0030', 'OMIM:311850.0022', 'OMIM:609346.0002', 'OMIM:601176.0001', 'OMIM:605427.0020', 'OMIM:165240.0022', 'OMIM:603617.0005', 'OMIM:614708.0004', 'OMIM:601607.0003', 'OMIM:608515.0007', 'OMIM:604808.0003', 'OMIM:118425.0003', 'OMIM:605522.0009', 'OMIM:603415.0018', 'dbSNP:rs12787112', 'OMIM:300538.0005', 'OMIM:611061.0001', 'OMIM:608833.0015', 'OMIM:602632.0002', 'OMIM:608103.0004', 'OMIM:121011.0002', 'OMIM:156225.0016', 'OMIM:170710.0001', 'OMIM:142000.0016', 'OMIM:300390.0005', 'OMIM:618255.0004', 'OMIM:610277.0006', 'OMIM:103020.0005', 'OMIM:604653.0006', 'OMIM:601837.0007', 'OMIM:601405.0002', 'OMIM:603681.0012', 'OMIM:613815.0019', 'OMIM:160760.0004', 'OMIM:609988.0001', 'dbSNP:rs4799915', 'OMIM:603273.0028', 'OMIM:107720.0002', 'OMIM:611408.0001', 'OMIM:605755.0006', 'OMIM:604581.0016', 'OMIM:300644.0027', 'OMIM:613898.0004', 'OMIM:601296.0006', 'OMIM:179605.0023', 'OMIM:606681.0001', 'OMIM:603048.0001', 'OMIM:160775.0007', 'OMIM:606227.0010', 'OMIM:600694.0002', 'OMIM:184745.0004', 'OMIM:600065.0004', 'OMIM:608107.0022', 'OMIM:186830.0002', 'OMIM:608990.0005', 'OMIM:606686.0003', 'OMIM:161015.0001', 'OMIM:180250.0005', 'OMIM:600692.0001', 'ClinVarVariant:468685', 'OMIM:615291.0012', 'OMIM:608005.0005', 'OMIM:614998.0005', 'ClinVarVariant:941014', 'OMIM:125240.0004', 'OMIM:601735.0002', 'dbSNP:rs1809529', 'OMIM:602115.0007', 'OMIM:604285.0003', 'OMIM:613984.0004', 'OMIM:608222.0002', 'OMIM:604032.0005', 'OMIM:602115.0004', 'OMIM:605239.0010', 'OMIM:164005.0015', 'OMIM:605018.0005', 'ClinVarVariant:137950', 'OMIM:107470.0009', 'OMIM:107820.0003', 'OMIM:191845.0016', 'OMIM:614245.0008', 'OMIM:120150.0009', 'OMIM:607759.0008', 'OMIM:300461.0005', 'OMIM:137167.0002', 'OMIM:605290.0013', 'OMIM:604544.0001', 'OMIM:305900.0024', 'OMIM:608451.0001', 'OMIM:603015.0005', 'OMIM:601530.0007', 'OMIM:182340.0010', 'OMIM:123590.0003', 'OMIM:190990.0009', 'OMIM:180297.0009', 'OMIM:601440.0006', 'OMIM:601253.0010', 'OMIM:182390.0003', 'OMIM:614998.0009', 'OMIM:141800.0044', 'OMIM:601105.0004', 'OMIM:182391.0006', 'OMIM:602997.0003', 'OMIM:604223.0005', 'OMIM:614647.0009', 'OMIM:604633.0010', 'OMIM:612349.0056', 'OMIM:605204.0008', 'OMIM:615003.0002', 'OMIM:603317.0003', 'OMIM:179605.0017', 'OMIM:134830.0008', 'OMIM:152427.0011', 'OMIM:600599.0007', 'OMIM:612283.0003', 'OMIM:614984.0001', 'OMIM:611801.0007', 'OMIM:176948.0003', 'OMIM:180072.0008', 'OMIM:602694.0005', 'ClinVarVariant:536545', 'OMIM:607880.0001', 'OMIM:600980.0004', 'OMIM:159970.0002', 'OMIM:605725.0001', 'OMIM:300017.0020', 'OMIM:142989.0016', 'OMIM:184420.0002', 'OMIM:611927.0004', 'OMIM:606470.0002', 'OMIM:611655.0007', 'OMIM:609644.0007', 'OMIM:600514.0005', 'OMIM:601728.0007', 'OMIM:606350.0003', 'OMIM:141900.0342', 'OMIM:607800.0011', 'ClinVarVariant:951228', 'OMIM:604110.0007', 'OMIM:188840.0006', 'OMIM:300163.0003', 'OMIM:120110.0014', 'OMIM:164860.0010', 'OMIM:300427.0003', 'OMIM:150310.0014', 'OMIM:172400.0003', 'OMIM:142461.0004', 'OMIM:614145.0002', 'OMIM:300460.0003', 'dbSNP:rs9923231', 'OMIM:300382.0009', 'OMIM:603335.0001', 'OMIM:602900.0010', 'OMIM:605427.0033', 'OMIM:141850.0027', 'OMIM:108961.0010', 'OMIM:141850.0007', 'OMIM:614478.0001', 'OMIM:176761.0001', 'ClinVarVariant:488481', 'OMIM:603861.0005', 'OMIM:604134.0013', 'OMIM:312865.0015', 'OMIM:604237.0009', 'OMIM:604161.0007', 'OMIM:162150.0005', 'ClinVarVariant:543839', 'OMIM:602208.0010', 'OMIM:605393.0004', 'OMIM:613583.0007', 'OMIM:603470.0010', 'dbSNP:rs655484', 'OMIM:304040.0009', 'OMIM:300032.0006', 'OMIM:610339.0003', 'OMIM:600725.0013', 'OMIM:601817.0001', 'OMIM:600829.0006', 'OMIM:300170.0001', 'OMIM:182389.0018', 'OMIM:171900.0002', 'OMIM:141900.0067', 'OMIM:147679.0002', 'OMIM:600225.0002', 'OMIM:607035.0002', 'OMIM:604175.0006', 'OMIM:604210.0001', 'OMIM:602279.0003', 'OMIM:602575.0002', 'OMIM:606463.0025', 'OMIM:607358.0001', 'OMIM:120150.0001', 'ClinVarVariant:242380', 'OMIM:607817.0006', 'OMIM:300202.0012', 'OMIM:607108.0004', 'OMIM:176876.0036', 'OMIM:600259.0015', 'OMIM:188070.0003', 'OMIM:158105.0003', 'OMIM:603961.0001', 'OMIM:613891.0002', 'OMIM:300377.0018', 'OMIM:616432.0001', 'OMIM:141900.0168', 'OMIM:147670.0007', 'OMIM:610339.0006', 'OMIM:610107.0004', 'OMIM:190370.0001', 'OMIM:609367.0001', 'OMIM:612013.0002', 'OMIM:192150.0001', 'OMIM:156225.0012', 'dbSNP:rs11174650', 'OMIM:300415.0002', 'dbSNP:rs7260598', 'OMIM:605881.0002', 'OMIM:600760.0006', 'OMIM:156570.0001', 'OMIM:141800.0207', 'OMIM:112264.0002', 'OMIM:120130.0026', 'OMIM:602421.0043', 'OMIM:134797.0057', 'ClinVarVariant:613407', 'OMIM:610271.0003', 'OMIM:123680.0005', 'OMIM:141900.0366', 'OMIM:612349.0016', 'OMIM:613401.0004', 'OMIM:602438.0004', 'OMIM:609884.0019', 'OMIM:605423.0004', 'OMIM:602229.0002', 'OMIM:610277.0001', 'ClinVarVariant:47214', 'OMIM:617413.0007', 'OMIM:606557.0002', 'OMIM:300401.0020', 'dbSNP:rs35820208', 'OMIM:103600.0046', 'OMIM:607139.0009', 'OMIM:128239.0002', 'OMIM:138250.0014', 'OMIM:613183.0001', 'OMIM:602121.0003', 'ClinVarVariant:918138', 'OMIM:603234.0006', 'OMIM:603506.0020', 'OMIM:608841.0003', 'ClinVarVariant:566707', 'OMIM:609863.0001', 'OMIM:601255.0017', 'OMIM:300841.0191', 'OMIM:606718.0010', 'OMIM:606034.0006', 'OMIM:314200.0019', 'OMIM:138140.0016', 'OMIM:138150.0003', 'OMIM:104614.0005', 'OMIM:602286.0001', 'OMIM:606725.0006', 'OMIM:602091.0005', 'OMIM:141900.0258', 'OMIM:607521.0005', 'OMIM:190195.0025', 'OMIM:312865.0002', 'OMIM:605109.0004', 'OMIM:612988.0001', 'OMIM:613897.0003', 'OMIM:300826.0004', 'OMIM:300226.0003', 'OMIM:605622.0004', 'OMIM:603273.0011', 'OMIM:606687.0005', 'OMIM:120140.0008', 'OMIM:313700.0038', 'OMIM:604067.0001', 'OMIM:602851.0006', 'ClinVarVariant:197403', 'OMIM:600935.0003', 'OMIM:105850.0008', 'OMIM:604175.0003', 'OMIM:300841.0231', 'OMIM:607900.0001', 'OMIM:611716.0004', 'OMIM:605984.0004', 'OMIM:134797.0053', 'OMIM:142200.0005', 'OMIM:605420.0007', 'OMIM:148080.0005', 'ClinVarVariant:187252', 'OMIM:605018.0006', 'OMIM:107730.0014', 'OMIM:609413.0010', 'OMIM:605597.0002', 'OMIM:600364.0004', 'OMIM:314200.0006', 'OMIM:142200.0029', 'OMIM:606526.0001', 'OMIM:603506.0033', 'OMIM:604741.0002', 'OMIM:608958.0026', 'OMIM:600163.0034', 'OMIM:300075.0009', 'OMIM:121014.0025', 'OMIM:601373.0003', 'OMIM:607102.0026', 'OMIM:300481.0006', 'OMIM:607207.0011', 'OMIM:613815.0034', 'OMIM:170715.0003', 'OMIM:607182.0006', 'OMIM:606478.0005', 'OMIM:300628.0006', 'OMIM:120120.0027', 'OMIM:601149.0009', 'OMIM:164975.0002', 'OMIM:600157.0002', 'OMIM:609457.0002', 'OMIM:613577.0012', 'OMIM:164770.0014', 'OMIM:613733.0016', 'OMIM:601487.0015', 'OMIM:190230.0003', 'OMIM:601498.0014', 'OMIM:610934.0005', 'ClinVarVariant:433557', 'OMIM:607102.0010', 'OMIM:600429.0004', 'OMIM:607585.0028', 'OMIM:611223.0003', 'OMIM:607905.0002', 'OMIM:604889.0004', 'OMIM:103600.0053', 'OMIM:613109.0001', 'OMIM:601284.0013', 'OMIM:608206.0006', 'OMIM:601253.0002', 'OMIM:606869.0007', 'OMIM:610550.0010', 'OMIM:308000.0018', 'OMIM:612761.0007', 'OMIM:120290.0005', 'OMIM:182309.0008', 'OMIM:601620.0009', 'OMIM:102540.0001', 'OMIM:300746.0018', 'OMIM:610456.0002', 'OMIM:601231.0009', 'OMIM:153454.0008', 'OMIM:179035.0012', 'OMIM:604488.0002', 'OMIM:300415.0007', 'OMIM:605239.0001', 'OMIM:608555.0002', 'OMIM:608815.0002', 'OMIM:608465.0014', 'OMIM:602421.0027', 'OMIM:607423.0001', 'OMIM:300160.0001', 'OMIM:609644.0005', 'OMIM:605925.0008', 'OMIM:120160.0026', 'OMIM:603881.0001', 'OMIM:615910.0004', 'dbSNP:rs2137255', 'ClinVarVariant:427582', 'OMIM:134820.0007', 'OMIM:606945.0029', 'OMIM:159440.0025', 'OMIM:134570.0017', 'OMIM:138160.0004', 'OMIM:604723.0001', 'OMIM:112262.0006', 'OMIM:610060.0006', 'OMIM:603799.0005', 'OMIM:602666.0002', 'OMIM:607210.0003', 'OMIM:300841.0157', 'OMIM:164820.0002', 'OMIM:601282.0002', 'ClinVarVariant:23999', 'OMIM:603824.0010', 'OMIM:103600.0048', 'OMIM:610683.0005', 'ClinVarVariant:26197', 'OMIM:607199.0018', 'OMIM:603799.0004', 'OMIM:616918.0002', 'OMIM:605802.0007', 'dbSNP:rs3786094', 'OMIM:103600.0040', 'OMIM:607585.0033', 'OMIM:616846.0004', 'OMIM:603808.0001', 'ClinVarVariant:262706', 'OMIM:611495.0002', 'OMIM:601652.0014', 'OMIM:609245.0004', 'OMIM:600163.0001', 'OMIM:610934.0002', 'OMIM:615584.0001', 'OMIM:300248.0026', 'OMIM:606989.0006', 'OMIM:604487.0001', 'OMIM:606227.0004', 'OMIM:105850.0003', 'OMIM:608667.0003', 'OMIM:120070.0008', 'OMIM:601545.0007', 'OMIM:607213.0004', 'OMIM:614775.0002', 'OMIM:604404.0005', 'OMIM:610273.0001', 'OMIM:192340.0010', 'OMIM:300126.0010', 'OMIM:604723.0004', 'OMIM:134797.0018', 'ClinVarVariant:242528', 'OMIM:601487.0003', 'OMIM:179617.0002', 'OMIM:607574.0018', 'OMIM:601253.0009', 'OMIM:300757.0003', 'OMIM:109270.0019', 'OMIM:102573.0004', 'OMIM:300311.0004', 'OMIM:604983.0007', 'OMIM:164757.0001', 'OMIM:600754.0001', 'OMIM:610937.0006', 'OMIM:305900.0027', 'OMIM:305900.0029', 'OMIM:103020.0006', 'OMIM:617840.0001', 'OMIM:606967.0002', 'OMIM:605120.0001', 'OMIM:141900.0107', 'OMIM:607817.0008', 'OMIM:602926.0008', 'OMIM:516070.0003', 'OMIM:605981.0004', 'OMIM:601819.0005', 'OMIM:300398.0001', 'OMIM:217030.0007', 'OMIM:182530.0002', 'OMIM:605204.0005', 'ClinVarVariant:577991', 'OMIM:276000.0003', 'OMIM:118490.0004', 'OMIM:613899.0005', 'OMIM:604272.0008', 'OMIM:143450.0009', 'OMIM:615586.0001', 'OMIM:601656.0001', 'OMIM:600897.0008', 'OMIM:174763.0019', 'OMIM:605705.0004', 'OMIM:312040.0006', 'OMIM:300841.0169', 'OMIM:612719.0003', 'OMIM:602402.0003', 'ClinVarVariant:48091', 'OMIM:601465.0003', 'OMIM:604436.0001', 'OMIM:602072.0001', 'OMIM:603057.0005', 'OMIM:191311.0007', 'OMIM:604283.0006', 'OMIM:155541.0012', 'OMIM:614041.0001', 'OMIM:613733.0014', 'OMIM:601011.0010', 'OMIM:120120.0005', 'OMIM:613128.0001', 'OMIM:604619.0003', 'OMIM:603725.0001', 'OMIM:120215.0006', 'OMIM:300039.0010', 'OMIM:610087.0003', 'OMIM:611062.0009', 'OMIM:608833.0010', 'OMIM:611357.0001', 'OMIM:602402.0017', 'ClinVarVariant:480485', 'OMIM:179035.0011', 'OMIM:125505.0001', 'OMIM:602768.0005', 'ClinVarVariant:267287', 'OMIM:142000.0003', 'OMIM:608508.0006', 'OMIM:304040.0005', 'OMIM:103600.0034', 'OMIM:616830.0006', 'OMIM:605210.0001', 'OMIM:610107.0008', 'OMIM:136850.0013', 'OMIM:604296.0002', 'OMIM:618085.0001', 'OMIM:615316.0001', 'OMIM:603337.0004', 'OMIM:602574.0005', 'OMIM:300708.0003', 'ClinVarVariant:558430', 'OMIM:608761.0002', 'OMIM:615585.0002', 'OMIM:305900.0053', 'ClinVarVariant:449088', 'OMIM:606833.0001', 'OMIM:603372.0024', 'OMIM:300515.0003', 'OMIM:613113.0009', 'OMIM:300913.0007', 'OMIM:600617.0011', 'ClinVarVariant:379903', 'OMIM:300473.0030', 'OMIM:605516.0010', 'OMIM:600236.0003', 'OMIM:613171.0002', 'OMIM:120436.0018', 'OMIM:602194.0003', 'OMIM:142220.0003', 'OMIM:302910.0006', 'OMIM:601065.0004', 'OMIM:141800.0082', 'OMIM:601855.0002', 'OMIM:609489.0005', 'OMIM:154870.0003', 'OMIM:603470.0002', 'OMIM:156225.0019', 'OMIM:616144.0008', 'OMIM:603465.0008', 'OMIM:171640.0010', 'OMIM:602402.0009', 'OMIM:603503.0006', 'OMIM:608429.0004', 'OMIM:605507.0004', 'OMIM:123680.0006', 'OMIM:600509.0024', 'OMIM:602859.0001', 'OMIM:600163.0005', 'OMIM:152427.0014', 'OMIM:608271.0006', 'OMIM:600570.0009', 'ClinVarVariant:7545', 'OMIM:607542.0031', 'OMIM:138247.0002', 'OMIM:120575.0001', 'dbSNP:rs3850344', 'OMIM:618421.0002', 'OMIM:164874.0005', 'OMIM:602536.0004', 'OMIM:164840.0002', 'OMIM:516000.0004', 'OMIM:608532.0003', 'OMIM:152427.0019', 'OMIM:616027.0001', 'OMIM:142410.0007', 'OMIM:603711.0009', 'OMIM:613160.0010', 'OMIM:613469.0009', 'OMIM:190160.0001', 'OMIM:612773.0005', 'OMIM:612012.0001', 'OMIM:106410.0005', 'OMIM:615533.0002', 'OMIM:602048.0004', 'OMIM:118955.0002', 'OMIM:170260.0003', 'OMIM:605379.0005', 'OMIM:604619.0011', 'ClinVarVariant:79579', 'OMIM:601205.0004', 'ClinVarVariant:242469', 'OMIM:609014.0006', 'OMIM:600163.0035', 'OMIM:610827.0004', 'OMIM:603048.0004', 'OMIM:607574.0023', 'OMIM:600259.0011', 'OMIM:602630.0001', 'OMIM:606883.0002', 'OMIM:604712.0012', 'OMIM:480000.0007', 'OMIM:590090.0003', 'OMIM:615720.0003', 'OMIM:615876.0004', 'OMIM:187270.0020', 'dbSNP:rs3784943', 'OMIM:134570.0008', 'OMIM:603584.0006', 'OMIM:114078.0003', 'OMIM:600354.0005', 'OMIM:171060.0008', 'OMIM:104160.0002', 'OMIM:604983.0005', 'OMIM:141850.0035', 'OMIM:601728.0040', 'OMIM:604083.0005', 'OMIM:116806.0013', 'OMIM:191290.0001', 'OMIM:191050.0002', 'OMIM:612036.0006', 'OMIM:141900.0210', 'OMIM:605896.0002', 'OMIM:608700.0003', 'OMIM:141800.0151', 'dbSNP:rs965808', 'OMIM:604846.0003', 'OMIM:611595.0006', 'OMIM:602887.0003', 'OMIM:600576.0012', 'OMIM:617246.0002', 'OMIM:609797.0008', 'OMIM:614784.0001', 'OMIM:600483.0006', 'OMIM:148067.0005', 'OMIM:603785.0002', 'OMIM:602119.0010', 'OMIM:606412.0005', 'OMIM:613160.0011', 'OMIM:611379.0001', 'OMIM:601300.0001', 'OMIM:107300.0003', 'OMIM:142250.0005', 'OMIM:608329.0005', 'OMIM:191010.0009', 'OMIM:611037.0001', 'OMIM:184429.0011', 'dbSNP:rs7366282', 'OMIM:614169.0002', 'ClinVarVariant:51078', 'ClinVarVariant:364263', 'OMIM:123833.0004', 'OMIM:610044.0006', 'ClinVarVariant:38477', 'OMIM:600509.0002', 'OMIM:104760.0022', 'OMIM:600635.0012', 'OMIM:606985.0001', 'OMIM:601656.0006', 'OMIM:607380.0002', 'OMIM:312610.0012', 'OMIM:142200.0031', 'OMIM:607830.0003', 'OMIM:602232.0002', 'OMIM:605290.0002', 'OMIM:600073.0001', 'OMIM:606463.0008', 'OMIM:608177.0010', 'OMIM:611642.0004', 'OMIM:100730.0004', 'OMIM:300144.0001', 'OMIM:609059.0003', 'OMIM:600571.0006', 'OMIM:613213.0009', 'OMIM:159555.0003', 'OMIM:612655.0002', 'OMIM:180297.0003', 'OMIM:616365.0001', 'OMIM:603937.0003', 'OMIM:171640.0008', 'OMIM:613497.0001', 'OMIM:300160.0006', 'OMIM:613815.0027', 'OMIM:606608.0002', 'OMIM:176730.0016', 'OMIM:603029.0007', 'OMIM:609058.0009', 'OMIM:608112.0003', 'OMIM:605998.0003', 'OMIM:601691.0034', 'OMIM:191092.0004', 'OMIM:607397.0003', 'OMIM:604319.0006', 'OMIM:139150.0002', 'OMIM:125647.0003', 'OMIM:141800.0191', 'OMIM:600275.0001', 'OMIM:605743.0002', 'OMIM:300304.0004', 'OMIM:604982.0007', 'OMIM:164780.0004', 'ClinVarVariant:545959', 'OMIM:601692.0006', 'OMIM:601090.0001', 'OMIM:603495.0002', 'OMIM:605654.0002', 'OMIM:613114.0001', 'OMIM:606844.0009', 'OMIM:606370.0003', 'OMIM:604101.0003', 'OMIM:618025.0001', 'OMIM:276903.0005', 'OMIM:618586.0001', 'OMIM:603009.0013', 'OMIM:608706.0004', 'OMIM:608761.0003', 'OMIM:160740.0001', 'OMIM:611458.0007', 'OMIM:608893.0002', 'OMIM:180902.0005', 'OMIM:171834.0022', 'OMIM:607237.0003', 'OMIM:603499.0004', 'OMIM:603029.0003', 'OMIM:600310.0012', 'OMIM:607585.0001', 'OMIM:604386.0011', 'ClinVarVariant:219704', 'OMIM:603856.0001', 'OMIM:605950.0006', 'dbSNP:rs141799618', 'OMIM:600840.0004', 'OMIM:300609.0001', 'OMIM:604505.0009', 'OMIM:600502.0005', 'OMIM:612325.0002', 'OMIM:609912.0003', 'OMIM:611927.0005', 'ClinVarVariant:38476', 'OMIM:138850.0008', 'OMIM:600943.0003', 'ClinVarVariant:28024', 'OMIM:610665.0001', 'OMIM:300393.0001', 'OMIM:612349.0026', 'OMIM:602402.0015', 'OMIM:600618.0006', 'OMIM:601691.0022', 'ClinVarVariant:45603', 'OMIM:614140.0003', 'OMIM:606933.0024', 'ClinVarVariant:13663', 'OMIM:608378.0005', 'OMIM:190990.0002', 'OMIM:300169.0004', 'OMIM:602050.0002', 'OMIM:614787.0002', 'OMIM:138140.0012', 'OMIM:607860.0002', 'OMIM:602744.0007', 'OMIM:607604.0004', 'OMIM:610552.0010', 'OMIM:300037.0010', 'OMIM:156225.0005', 'OMIM:142989.0009', 'OMIM:602421.0093', 'OMIM:600712.0005', 'OMIM:120280.0006', 'OMIM:129010.0002', 'OMIM:300553.0003', 'OMIM:602192.0005', 'OMIM:600281.0002', 'OMIM:612724.0015', 'OMIM:603220.0001', 'OMIM:124015.0003', 'OMIM:137160.0007', 'OMIM:609506.0005', 'OMIM:100690.0002', 'OMIM:608897.0004', 'OMIM:176880.0009', 'dbSNP:rs6758334', 'OMIM:601911.0001', 'OMIM:190990.0007', 'OMIM:128239.0003', 'OMIM:607613.0004', 'OMIM:603313.0001', 'OMIM:238310.0003', 'OMIM:605423.0005', 'OMIM:114208.0003', 'OMIM:606830.0001', 'OMIM:188826.0002', 'OMIM:300841.0031', 'OMIM:601802.0004', 'OMIM:313700.0030', 'OMIM:180069.0013', 'OMIM:601498.0011', 'OMIM:605393.0003', 'OMIM:159440.0027', 'OMIM:600185.0032', 'OMIM:138246.0003', 'OMIM:605383.0002', 'OMIM:608507.0004', 'OMIM:611720.0007', 'OMIM:300481.0010', 'OMIM:604418.0006', 'OMIM:606272.0016', 'OMIM:606945.0003', 'OMIM:611908.0002', 'OMIM:608507.0016', 'OMIM:300481.0013', 'OMIM:103000.0001', 'OMIM:602931.0012', 'OMIM:600310.0004', 'OMIM:603234.0011', 'OMIM:120110.0009', 'OMIM:613815.0016', 'OMIM:617531.0004', 'OMIM:605145.0006', 'OMIM:607632.0001', 'OMIM:615115.0005', 'OMIM:173910.0006', 'OMIM:605993.0001', 'OMIM:608576.0002', 'OMIM:602769.0003', 'OMIM:300017.0027', 'OMIM:187270.0018', 'OMIM:601644.0001', 'OMIM:300841.0161', 'OMIM:611026.0001', 'OMIM:516060.0005', 'OMIM:141900.0001', 'OMIM:150330.0008', 'OMIM:147450.0003', 'OMIM:607237.0002', 'OMIM:603615.0002', 'OMIM:156560.0002', 'OMIM:607137.0001', 'OMIM:602840.0002', 'OMIM:601618.0004', 'OMIM:603962.0003', 'OMIM:607343.0007', 'OMIM:601040.0004', 'OMIM:607144.0002', 'OMIM:600024.0009', 'OMIM:613742.0013', 'OMIM:606201.0017', 'OMIM:107820.0007', 'OMIM:141900.0369', 'ClinVarVariant:512195', 'OMIM:613890.0005', 'OMIM:609584.0006', 'OMIM:609309.0007', 'OMIM:173335.0023', 'OMIM:300377.0075', 'OMIM:600662.0002', 'ClinVarVariant:242444', 'dbSNP:rs17014720', 'OMIM:191041.0001', 'OMIM:300460.0005', 'OMIM:601199.0017', 'OMIM:616144.0005', 'OMIM:611062.0001', 'OMIM:612035.0004', 'OMIM:190120.0004', 'OMIM:601785.0022', 'OMIM:610423.0001', 'ClinVarVariant:13676', 'OMIM:606860.0015', 'OMIM:600259.0012', 'OMIM:607102.0013', 'OMIM:602337.0010', 'OMIM:136132.0010', 'OMIM:604819.0006', 'OMIM:606967.0016', 'OMIM:601646.0005', 'OMIM:601530.0004', 'OMIM:605427.0010', 'OMIM:608770.0001', 'OMIM:602208.0011', 'OMIM:602858.0004', 'OMIM:610804.0005', 'OMIM:610635.0001', 'dbSNP:rs79054532', 'OMIM:300841.0230', 'OMIM:612719.0002', 'OMIM:613208.0010', 'OMIM:176977.0003', 'OMIM:612732.0002', 'OMIM:603331.0002', 'OMIM:602421.0119', 'OMIM:607838.0006', 'OMIM:613799.0002', 'ClinVarVariant:242505', 'OMIM:600960.0001', 'OMIM:609118.0003', 'OMIM:601145.0003', 'OMIM:300127.0006', 'OMIM:164005.0013', 'OMIM:138571.0001', 'OMIM:608296.0001', 'OMIM:606933.0027', 'OMIM:602229.0017', 'OMIM:612724.0013', 'OMIM:176730.0015', 'OMIM:601487.0001', 'OMIM:120090.0001', 'OMIM:136350.0004', 'OMIM:608416.0012', 'dbSNP:rs10982218', 'OMIM:603650.0005', 'OMIM:601601.0009', 'OMIM:139130.0001', 'OMIM:311800.0003', 'OMIM:605452.0008', 'OMIM:606936.0005', 'OMIM:600968.0014', 'OMIM:606227.0006', 'OMIM:185880.0003', 'OMIM:134370.0005', 'OMIM:606890.0009', 'OMIM:610457.0002', 'OMIM:190181.0001', 'OMIM:100725.0019', 'OMIM:608167.0004', 'OMIM:600354.0003', 'OMIM:613146.0001', 'OMIM:176300.0025', 'OMIM:107400.0021', 'OMIM:610657.0002', 'OMIM:607261.0003', 'OMIM:605452.0014', 'OMIM:111700.0004', 'OMIM:190070.0008', 'OMIM:182350.0011', 'OMIM:148069.0008', 'OMIM:603773.0001', 'OMIM:604223.0003', 'OMIM:603796.0005', 'OMIM:176872.0005', 'OMIM:606151.0007', 'OMIM:311770.0012', 'OMIM:610192.0004', 'OMIM:136440.0004', 'OMIM:605597.0009', 'OMIM:600725.0020', 'OMIM:308840.0010', 'OMIM:185881.0004', 'OMIM:143450.0005', 'OMIM:607210.0010', 'ClinVarVariant:8411', 'OMIM:120220.0001', 'OMIM:602336.0001', 'OMIM:604824.0001', 'OMIM:300841.0064', 'OMIM:615910.0003', 'OMIM:610608.0002', 'OMIM:137780.0008', 'OMIM:300841.0257', 'OMIM:609591.0002', 'OMIM:100725.0006', 'OMIM:603941.0006', 'OMIM:605461.0001', 'ClinVarVariant:29170', 'OMIM:104760.0013', 'OMIM:188040.0008', 'OMIM:136350.0032', 'OMIM:138680.0004', 'OMIM:606869.0021', 'OMIM:616105.0007', 'OMIM:611765.0002', 'OMIM:604774.0001', 'OMIM:608797.0003', 'OMIM:610613.0001', 'OMIM:147450.0030', 'dbSNP:rs4787484', 'OMIM:131370.0001', 'OMIM:610966.0001', 'OMIM:141900.0087', 'OMIM:613349.0002', 'OMIM:606157.0008', 'OMIM:609168.0001', 'OMIM:606238.0001', 'OMIM:603330.0007', 'OMIM:601309.0008', 'OMIM:141800.0112', 'OMIM:300521.0001', 'OMIM:123835.0001', 'ClinVarVariant:982546', 'OMIM:147460.0002', 'OMIM:605512.0006', 'OMIM:607556.0001', 'OMIM:606873.0019', 'OMIM:607511.0001', 'OMIM:608124.0007', 'OMIM:300008.0002', 'OMIM:603634.0002', 'dbSNP:rs317685252', 'OMIM:120110.0008', 'OMIM:602280.0012', 'OMIM:191170.0030', 'OMIM:160760.0006', 'OMIM:605423.0001', 'OMIM:138130.0001', 'OMIM:605956.0012', 'OMIM:300841.0059', 'OMIM:601623.0010', 'ClinVarVariant:431177', 'OMIM:614930.0005', 'OMIM:609187.0003', 'OMIM:176801.0014', 'OMIM:612502.0006', 'OMIM:179060.0004', 'OMIM:600473.0001', 'OMIM:125660.0018', 'OMIM:603593.0008', 'OMIM:604450.0002', 'OMIM:590045.0002', 'OMIM:606027.0002', 'OMIM:602119.0002', 'OMIM:182125.0002', 'OMIM:600993.0011', 'OMIM:607423.0018', 'OMIM:600937.0016', 'OMIM:602421.0103', 'OMIM:170993.0004', 'OMIM:613733.0024', 'dbSNP:rs11045818', 'OMIM:141900.0331', 'dbSNP:rs4265793', 'OMIM:607928.0002', 'OMIM:611642.0005', 'OMIM:605983.0001', 'OMIM:607102.0004', 'OMIM:148065.0002', 'OMIM:611192.0001', 'OMIM:182390.0015', 'OMIM:120140.0045', 'OMIM:139320.0010', 'OMIM:602225.0009', 'OMIM:606037.0001', 'OMIM:600584.0005', 'OMIM:167413.0003', 'OMIM:612013.0007', 'OMIM:100725.0016', 'OMIM:180090.0004', 'OMIM:610552.0007', 'OMIM:300777.0005', 'OMIM:134570.0002', 'OMIM:602280.0002', 'OMIM:607357.0004', 'OMIM:609678.0001', 'OMIM:607461.0003', 'dbSNP:rs78058068', 'OMIM:188450.0009', 'OMIM:612801.0002', 'OMIM:600997.0004', 'OMIM:607170.0001', 'dbSNP:rs1047210', 'OMIM:105850.0002', 'OMIM:312865.0016', 'OMIM:164950.0002', 'OMIM:615567.0004', 'OMIM:616786.0003', 'OMIM:615535.0001', 'dbSNP:rs11980749', 'OMIM:601728.0031', 'OMIM:608272.0011', 'OMIM:601743.0002', 'dbSNP:rs6039763', 'OMIM:173910.0009', 'OMIM:602121.0004', 'OMIM:608444.0002', 'OMIM:608347.0002', 'OMIM:141900.0036', 'OMIM:605427.0004', 'OMIM:608204.0001', 'OMIM:605100.0003', 'OMIM:137150.0007', 'OMIM:603941.0007', 'OMIM:600439.0002', 'OMIM:162280.0009', 'ClinVarVariant:967953', 'OMIM:608845.0002', 'OMIM:608455.0011', 'OMIM:190195.0009', 'OMIM:616101.0004', 'OMIM:600211.0008', 'OMIM:602774.0004', 'OMIM:607568.0008', 'OMIM:611642.0007', 'OMIM:607380.0006', 'OMIM:108730.0001', 'OMIM:605238.0002', 'OMIM:120436.0021', 'OMIM:602954.0006', 'OMIM:602438.0001', 'OMIM:590045.0003', 'OMIM:607212.0002', 'OMIM:300524.0007', 'OMIM:600681.0002', 'OMIM:112261.0004', 'OMIM:602280.0005', 'OMIM:600163.0044', 'OMIM:136850.0003', 'OMIM:300897.0010', 'OMIM:610595.0004', 'OMIM:176300.0018', 'OMIM:612123.0001', 'OMIM:300451.0023', 'OMIM:606834.0001', 'OMIM:118425.0006', 'OMIM:108961.0004', 'OMIM:608347.0001', 'OMIM:300841.0195', 'OMIM:301300.0001', 'OMIM:605584.0002', 'OMIM:613113.0021', 'OMIM:601691.0001', 'OMIM:300039.0003', 'dbSNP:rs3745571', 'OMIM:142976.0003', 'OMIM:120140.0026', 'OMIM:602149.0002', 'OMIM:176876.0005', 'OMIM:605378.0005', 'OMIM:609701.0009', 'OMIM:605896.0004', 'OMIM:603527.0001', 'OMIM:191045.0004', 'OMIM:604346.0010', 'OMIM:123841.0003', 'OMIM:137140.0008', 'OMIM:134370.0011', 'OMIM:605131.0003', 'OMIM:600065.0010', 'OMIM:603967.0008', 'OMIM:114205.0003', 'OMIM:610928.0001', 'OMIM:123631.0002', 'OMIM:603023.0006', 'OMIM:118425.0001', 'OMIM:611062.0004', 'OMIM:121011.0030', 'OMIM:176941.0005', 'OMIM:600840.0006', 'OMIM:602208.0012', 'OMIM:114021.0003', 'OMIM:141900.0076', 'OMIM:600483.0008', 'OMIM:176300.0016', 'OMIM:606014.0006', 'OMIM:159440.0013', 'OMIM:600163.0007', 'OMIM:601255.0007', 'OMIM:606999.0004', 'OMIM:142981.0001', 'OMIM:607397.0007', 'OMIM:601253.0008', 'OMIM:608630.0011', 'OMIM:602821.0004', 'OMIM:600140.0008', 'OMIM:607035.0009', 'OMIM:612283.0002', 'ClinVarVariant:279978', 'OMIM:614949.0002', 'OMIM:613004.0004', 'OMIM:602229.0018', 'OMIM:147670.0002', 'OMIM:300391.0007', 'OMIM:605880.0005', 'OMIM:605158.0001', 'OMIM:603048.0002', 'ClinVarVariant:242431', 'OMIM:608508.0009', 'OMIM:600473.0006', 'OMIM:604566.0005', 'OMIM:608922.0004', 'ClinVarVariant:22923', 'OMIM:182350.0001', 'OMIM:607379.0003', 'OMIM:605018.0009', 'OMIM:609291.0004', 'OMIM:601047.0005', 'OMIM:156225.0007', 'OMIM:606869.0054', 'OMIM:141900.0491', 'OMIM:138720.0003', 'OMIM:300841.0130', 'OMIM:100690.0004', 'OMIM:609312.0004', 'OMIM:300377.0004', 'OMIM:604889.0003', 'OMIM:300841.0256', 'OMIM:608707.0003', 'OMIM:604386.0003', 'ClinVarVariant:955572', 'OMIM:605483.0001', 'OMIM:600259.0006', 'OMIM:609186.0007', 'OMIM:610844.0010', 'OMIM:164920.0025', 'OMIM:180250.0004', 'OMIM:608517.0006', 'OMIM:605435.0003', 'ClinVarVariant:33000', 'ClinVarVariant:29724', 'OMIM:616786.0001', 'OMIM:606200.0001', 'OMIM:604270.0006', 'ClinVarVariant:854669', 'OMIM:602743.0012', 'OMIM:605921.0012', 'OMIM:136352.0005', 'OMIM:608846.0001', 'OMIM:314200.0014', 'OMIM:300457.0007', 'OMIM:311850.0015', 'OMIM:605978.0008', 'OMIM:606418.0003', 'OMIM:604285.0007', 'OMIM:112262.0003', 'OMIM:102610.0017', 'OMIM:609681.0002', 'OMIM:154200.0001', 'OMIM:612222.0014', 'ClinVarVariant:679212', 'OMIM:100710.0004', 'OMIM:605754.0002', 'OMIM:103600.0009', 'OMIM:609245.0002', 'OMIM:300473.0028', 'OMIM:601545.0002', 'ClinVarVariant:31932', 'OMIM:604149.0007', 'OMIM:610613.0012', 'OMIM:617659.0003', 'OMIM:612732.0006', 'ClinVarVariant:802613', 'OMIM:561010.0002', 'OMIM:601620.0004', 'OMIM:604834.0005', 'dbSNP:rs13433330', 'OMIM:601255.0011', 'OMIM:611570.0001', 'OMIM:141180.0001', 'OMIM:176943.0024', 'OMIM:300095.0008', 'ClinVarVariant:22148', 'OMIM:603372.0001', 'ClinVarVariant:104999', 'OMIM:610062.0001', 'OMIM:611055.0003', 'OMIM:600576.0005', 'dbSNP:rs4844624', 'OMIM:300746.0098', 'OMIM:616615.0005', 'OMIM:601498.0010', 'OMIM:603357.0003', 'OMIM:191130.0004', 'OMIM:615345.0005', 'OMIM:616786.0006', 'OMIM:606702.0008', 'OMIM:147670.0011', 'OMIM:612222.0016', 'ClinVarVariant:662198', 'OMIM:151385.0009', 'dbSNP:rs76694263', 'OMIM:602744.0009', 'OMIM:300841.0045', 'dbSNP:rs800586', 'OMIM:607393.0007', 'OMIM:610681.0002', 'OMIM:612944.0002', 'OMIM:607199.0017', 'OMIM:617449.0002', 'OMIM:606609.0003', 'OMIM:604346.0004', 'OMIM:612013.0009', 'OMIM:609799.0008', 'OMIM:600577.0008', 'OMIM:600733.0007', 'OMIM:120120.0021', 'OMIM:300451.0012', 'OMIM:120130.0006', 'OMIM:602575.0012', 'OMIM:131195.0007', 'OMIM:300379.0007', 'OMIM:141800.0114', 'OMIM:605283.0007', 'dbSNP:rs6967385', 'OMIM:605248.0003', 'OMIM:610275.0002', 'OMIM:600864.0002', 'OMIM:600046.0018', 'OMIM:614683.0002', 'OMIM:300391.0008', 'OMIM:176946.0005', 'OMIM:141900.0077', 'OMIM:130160.0004', 'OMIM:605427.0026', 'OMIM:616786.0004', 'ClinVarVariant:27225', 'OMIM:120160.0025', 'ClinVarVariant:287934', 'OMIM:612866.0003', 'OMIM:612625.0002', 'OMIM:608675.0002', 'OMIM:609661.0009', 'ClinVarVariant:242566', 'OMIM:126452.0003', 'OMIM:606945.0023', 'OMIM:614566.0002', 'OMIM:611655.0002', 'OMIM:172490.0001', 'OMIM:600532.0003', 'OMIM:603109.0003', 'OMIM:608455.0008', 'OMIM:611150.0001', 'OMIM:121011.0028', 'OMIM:608892.0010', 'OMIM:601570.0005', 'OMIM:609239.0002', 'OMIM:170280.0002', 'OMIM:611716.0003', 'OMIM:120110.0005', 'ClinVarVariant:178276', 'OMIM:600555.0004', 'OMIM:610860.0001', 'OMIM:611592.0008', 'OMIM:602421.0031', 'OMIM:605254.0003', 'OMIM:609712.0014', 'OMIM:613815.0008', 'OMIM:609312.0003', 'OMIM:610819.0003', 'OMIM:600225.0001', 'OMIM:607817.0013', 'dbSNP:rs150801101', 'OMIM:606202.0001', 'OMIM:300688.0002', 'OMIM:600532.0001', 'OMIM:606725.0011', 'OMIM:164761.0002', 'OMIM:606980.0009', 'OMIM:312865.0012', 'OMIM:177400.0015', 'OMIM:607102.0019', 'OMIM:157140.0001', 'OMIM:606879.0007', 'OMIM:615950.0004', 'OMIM:601757.0007', 'OMIM:184429.0017', 'OMIM:604633.0007', 'OMIM:611192.0003', 'OMIM:608753.0002', 'OMIM:602700.0006', 'OMIM:609588.0003', 'OMIM:608968.0003', 'ClinVarVariant:833147', 'OMIM:141900.0142', 'OMIM:610928.0003', 'OMIM:142000.0027', 'OMIM:308000.0030', 'OMIM:606869.0046', 'OMIM:300034.0004', 'OMIM:300841.0125', 'OMIM:615068.0007', 'OMIM:601023.0014', 'OMIM:606245.0004', 'OMIM:610881.0005', 'OMIM:605646.0009', 'OMIM:607604.0011', 'OMIM:615370.0005', 'OMIM:613409.0001', 'OMIM:600483.0001', 'OMIM:608893.0001', 'dbSNP:rs149211860', 'OMIM:603100.0004', 'OMIM:607783.0001', 'OMIM:142959.0001', 'OMIM:601280.0001', 'OMIM:160776.0001', 'OMIM:300265.0003', 'OMIM:604896.0013', 'OMIM:142250.0040', 'OMIM:612036.0007', 'OMIM:125647.0015', 'OMIM:313700.0060', 'OMIM:300414.0010', 'dbSNP:rs12829696', 'OMIM:611604.0001', 'OMIM:300746.0047', 'OMIM:173510.0005', 'OMIM:300490.0013', 'OMIM:603332.0002', 'OMIM:170280.0014', 'OMIM:603335.0005', 'OMIM:134797.0049', 'OMIM:604685.0002', 'OMIM:605516.0008', 'OMIM:602861.0003', 'OMIM:610060.0008', 'OMIM:120130.0022', 'OMIM:607882.0001', 'OMIM:605880.0002', 'OMIM:238331.0008', 'OMIM:604489.0001', 'OMIM:614144.0001', 'OMIM:300391.0009', 'OMIM:600856.0001', 'OMIM:300827.0003', 'OMIM:605537.0002', 'OMIM:300808.0011', 'OMIM:601615.0001', 'dbSNP:rs6670083', 'OMIM:607788.0001', 'ClinVarVariant:77391', 'OMIM:602690.0013', 'OMIM:607604.0006', 'OMIM:146920.0013', 'OMIM:164860.0014', 'OMIM:601538.0003', 'OMIM:137295.0013', 'OMIM:607693.0001', 'OMIM:190160.0007', 'OMIM:617057.0001', 'OMIM:179605.0004', 'OMIM:617687.0001', 'OMIM:616183.0003', 'OMIM:608803.0005', 'OMIM:611499.0010', 'OMIM:600220.0004', 'dbSNP:rs114758110', 'OMIM:614620.0010', 'OMIM:601460.0003', 'OMIM:606464.0005', 'OMIM:102560.0014', 'OMIM:610812.0002', 'OMIM:604325.0001', 'OMIM:176930.0013', 'OMIM:600509.0013', 'OMIM:188450.0004', 'OMIM:300013.0006', 'OMIM:152790.0012', 'OMIM:602218.0003', 'OMIM:608047.0001', 'OMIM:602667.0008', 'OMIM:300377.0044', 'OMIM:516006.0001', 'OMIM:300841.0053', 'OMIM:606158.0008', 'OMIM:614144.0004', 'OMIM:170280.0010', 'OMIM:139370.0001', 'OMIM:602410.0009', 'OMIM:162150.0003', 'OMIM:185470.0023', 'OMIM:600837.0001', 'OMIM:114835.0001', 'OMIM:141900.0089', 'OMIM:141800.0065', 'OMIM:609720.0008', 'OMIM:601190.0001', 'OMIM:606224.0009', 'ClinVarVariant:499550', 'OMIM:311770.0002', 'OMIM:618304.0004', 'OMIM:603109.0010', 'OMIM:147265.0006', 'dbSNP:rs59050332', 'OMIM:121014.0021', 'OMIM:603089.0005', 'OMIM:141900.0385', 'OMIM:609309.0002', 'OMIM:613621.0003', 'OMIM:607875.0006', 'OMIM:612013.0008', 'OMIM:180901.0019', 'dbSNP:rs2242882', 'ClinVarVariant:237477', 'OMIM:603273.0027', 'OMIM:600225.0012', 'OMIM:605452.0005', 'OMIM:107323.0005', 'OMIM:300377.0045', 'OMIM:604134.0016', 'OMIM:120328.0001', 'OMIM:601243.0002', 'OMIM:300841.0040', 'OMIM:611223.0002', 'OMIM:120150.0031', 'OMIM:600840.0007', 'OMIM:602141.0004', 'OMIM:142000.9999', 'OMIM:130500.0001', 'OMIM:600275.0007', 'OMIM:616715.0005', 'OMIM:134797.0067', 'OMIM:603517.0005', 'OMIM:605242.0003', 'OMIM:604485.0007', 'OMIM:614632.0001', 'OMIM:601011.0016', 'OMIM:608958.0032', 'OMIM:115441.0004', 'OMIM:300457.0004', 'OMIM:602235.0002', 'OMIM:605202.0005', 'OMIM:134934.0035', 'OMIM:120350.0002', 'OMIM:613160.0024', 'dbSNP:rs9674544', 'OMIM:601843.0008', 'OMIM:611935.0003', 'dbSNP:rs10180106', 'OMIM:142409.0003', 'OMIM:160720.0014', 'OMIM:610035.0002', 'OMIM:606797.0001', 'OMIM:311870.0003', 'OMIM:116952.0003', 'OMIM:300560.0001', 'OMIM:603633.0002', 'OMIM:608892.0013', 'OMIM:107930.0001', 'OMIM:606702.0009', 'OMIM:616639.0001', 'OMIM:602911.0001', 'OMIM:123620.0001', 'OMIM:301300.0010', 'OMIM:182860.0023', 'OMIM:600824.0005', 'OMIM:312610.0025', 'OMIM:605378.0001', 'OMIM:300005.0018', 'OMIM:605848.0001', 'OMIM:601731.0003', 'OMIM:601656.0013', 'OMIM:610316.0006', 'ClinVarVariant:943937', 'OMIM:163890.0006', 'OMIM:137960.0004', 'OMIM:603959.0002', 'OMIM:141800.0030', 'OMIM:609912.0002', 'OMIM:603277.0005', 'OMIM:191040.0005', 'OMIM:611927.0009', 'OMIM:611332.0005', 'OMIM:604985.0002', 'OMIM:612395.0002', 'OMIM:300757.0008', 'OMIM:602733.0001', 'OMIM:601691.0033', 'OMIM:611423.0001', 'OMIM:602279.0002', 'dbSNP:rs13224682', 'OMIM:605507.0007', 'OMIM:108733.0001', 'OMIM:300368.0001', 'OMIM:613349.0027', 'OMIM:607082.0001', 'OMIM:610392.0001', 'OMIM:608792.0002', 'OMIM:600287.0013', 'OMIM:608958.0025', 'OMIM:604741.0001', 'OMIM:617538.0002', 'OMIM:300205.0016', 'ClinVarVariant:171717', 'OMIM:156560.0009', 'dbSNP:rs80618910', 'OMIM:603824.0005', 'OMIM:618899.0001', 'ClinVarVariant:495045', 'OMIM:602119.0006', 'OMIM:148760.0006', 'OMIM:608833.0013', 'OMIM:141900.0377', 'OMIM:609213.0002', 'OMIM:300377.0052', 'OMIM:614725.0007', 'dbSNP:rs10468986', 'OMIM:184600.0002', 'OMIM:114180.0003', 'ClinVarVariant:524103', 'dbSNP:rs117578199', 'OMIM:180901.0009', 'OMIM:613529.0005', 'OMIM:601097.0003', 'OMIM:300035.0012', 'OMIM:602716.0004', 'OMIM:176892.0002', 'OMIM:600900.0005', 'OMIM:134934.0015', 'OMIM:185620.0010', 'OMIM:120150.0051', 'OMIM:300746.0088', 'OMIM:602536.0001', 'ClinVarVariant:495044', 'OMIM:606765.0012', 'OMIM:608014.0002', 'ClinVarVariant:159730', 'OMIM:184757.0016', 'OMIM:610502.0001', 'OMIM:120250.0011', 'ClinVarVariant:495047', 'OMIM:613129.0011', 'OMIM:604277.0002', 'dbSNP:rs56020557', 'OMIM:601691.0017', 'OMIM:608455.0009', 'OMIM:164790.0007', 'OMIM:609884.0020', 'OMIM:601439.0008', 'OMIM:138140.0013', 'OMIM:610107.0003', 'OMIM:615950.0003', 'OMIM:600922.0003', 'OMIM:608877.0006', 'OMIM:614297.0004', 'OMIM:605720.0001', 'OMIM:600228.0009', 'OMIM:607982.0003', 'OMIM:109630.0003', 'dbSNP:rs55895004', 'dbSNP:rs78721916', 'OMIM:606870.0001', 'OMIM:600359.0004', 'OMIM:300032.0012', 'dbSNP:rs74977054', 'OMIM:609280.0008', 'OMIM:300199.0001', 'OMIM:173325.0001', 'OMIM:601545.0010', 'OMIM:607585.0021', 'OMIM:606598.0010', 'OMIM:300841.0210', 'OMIM:102560.0009', 'OMIM:602421.0072', 'OMIM:603590.0003', 'OMIM:300841.0228', 'OMIM:108410.0002', 'OMIM:611908.0003', 'OMIM:615757.0001', 'OMIM:608830.0008', 'OMIM:613871.0009', 'OMIM:120150.0014', 'OMIM:600799.0015', 'OMIM:150330.0037', 'OMIM:613111.0009', 'OMIM:118190.0003', 'OMIM:604110.0006', 'OMIM:611731.0043', 'OMIM:300746.0041', 'OMIM:606145.0004', 'OMIM:276000.0011', 'OMIM:613160.0016', 'OMIM:608512.0004', 'OMIM:150340.0007', 'OMIM:613437.0004', 'OMIM:601094.0006', 'OMIM:607860.0003', 'OMIM:150310.0008', 'OMIM:164761.0040', 'OMIM:600053.0004', 'dbSNP:rs11697151', 'OMIM:601011.0014', 'OMIM:609239.0001', 'OMIM:600799.0018', 'OMIM:300457.0009', 'OMIM:606939.0002', 'OMIM:601861.0003', 'OMIM:314370.0006', 'OMIM:606609.0001', 'OMIM:611994.0004', 'OMIM:609247.0001', 'OMIM:607057.0001', 'OMIM:613742.0008', 'OMIM:614512.0001', 'OMIM:606373.0002', 'OMIM:604733.0003', 'OMIM:611153.0005', 'OMIM:605410.0001', 'dbSNP:rs6044112', 'OMIM:603584.0007', 'OMIM:601240.0001', 'dbSNP:rs12618573', 'OMIM:612870.0007', 'OMIM:601736.0002', 'OMIM:606264.0001', 'OMIM:600837.0002', 'OMIM:107730.0003', 'OMIM:601199.0042', 'dbSNP:rs12142335', 'OMIM:300121.0012', 'OMIM:603850.0010', 'dbSNP:rs77853392', 'OMIM:314690.0007', 'ClinVarVariant:264669', 'dbSNP:rs3893319', 'OMIM:612570.0008', 'OMIM:600681.0012', 'OMIM:120700.0004', 'ClinVarVariant:31527', 'OMIM:603701.0004', 'OMIM:141900.0364', 'OMIM:600838.0002', 'OMIM:607439.0017', 'OMIM:600555.0017', 'OMIM:608780.0003', 'OMIM:600576.0004', 'OMIM:610172.0002', 'OMIM:134797.0015', 'OMIM:150330.0049', 'OMIM:300841.0105', 'OMIM:108410.0004', 'OMIM:147557.0004', 'OMIM:608075.0001', 'OMIM:138246.0004', 'OMIM:610860.0005', 'OMIM:618981.0001', 'ClinVarVariant:830372', 'OMIM:603941.0003', 'OMIM:126340.0010', 'OMIM:606800.0008', 'OMIM:605537.0003', 'OMIM:607709.0003', 'OMIM:604580.0001', 'OMIM:601601.0005', 'OMIM:603937.0005', 'OMIM:617048.0002', 'OMIM:190160.0021', 'OMIM:607393.0005', 'OMIM:608317.0005', 'OMIM:120328.0008', 'OMIM:611499.0009', 'OMIM:600354.0001', 'OMIM:300231.0001', 'OMIM:601282.0003', 'OMIM:155540.0001', 'OMIM:142461.0005', 'OMIM:600804.0004', 'OMIM:614191.0001', 'OMIM:611731.0035', 'OMIM:607357.0001', 'OMIM:609051.0001', 'OMIM:609720.0009', 'OMIM:607474.0010', 'OMIM:171060.0004', 'OMIM:103600.0021', 'OMIM:600722.0009', 'OMIM:300552.0001', 'OMIM:605597.0020', 'OMIM:152790.0016', 'OMIM:138971.0003', 'OMIM:608958.0023', 'OMIM:601573.0002', 'OMIM:613698.0002', 'OMIM:612192.0003', 'OMIM:300538.0013', 'ClinVarVariant:22940', 'OMIM:300644.0029', 'OMIM:604433.0002', 'OMIM:602569.0001', 'OMIM:600760.0015', 'OMIM:615403.0003', 'OMIM:603111.0004', 'OMIM:600761.0005', 'OMIM:602170.0005', 'OMIM:614041.0019', 'OMIM:612803.0007', 'OMIM:608210.0013', 'OMIM:120270.0005', 'OMIM:120150.0010', 'OMIM:603324.0001', 'OMIM:600079.0001', 'OMIM:300746.0092', 'OMIM:300980.0002', 'OMIM:616690.0003', 'OMIM:602614.0002', 'dbSNP:rs3757057', 'OMIM:176943.0006', 'OMIM:300697.0011', 'OMIM:191044.0011', 'OMIM:182860.0022', 'OMIM:300371.0002', 'OMIM:610355.0003', 'OMIM:602486.0002', 'OMIM:608400.0006', 'OMIM:191163.0002', 'OMIM:603294.0006', 'OMIM:604327.0007', 'OMIM:141900.0443', 'OMIM:300552.0003', 'OMIM:600287.0006', 'OMIM:607352.0003', 'OMIM:611542.0001', 'OMIM:603111.0002', 'OMIM:141900.0152', 'OMIM:612243.0003', 'OMIM:613468.0010', 'OMIM:611146.0005', 'OMIM:155541.0021', 'OMIM:618304.0002', 'OMIM:120160.0020', 'OMIM:120150.0028', 'OMIM:300746.0002', 'OMIM:607854.0014', 'OMIM:610924.0004', 'OMIM:600946.0003', 'OMIM:300384.0006', 'OMIM:608313.0008', 'OMIM:102610.0009', 'OMIM:602713.0005', 'OMIM:118423.0006', 'OMIM:141850.0050', 'OMIM:141800.0033', 'OMIM:153450.0001', 'OMIM:313700.0006', 'OMIM:616423.0001', 'OMIM:191190.0006', 'OMIM:604358.0002', 'OMIM:610084.0003', 'OMIM:605257.0003', 'dbSNP:rs139978857', 'OMIM:612498.0004', 'OMIM:600163.0025', 'OMIM:192090.0005', 'OMIM:605597.0003', 'OMIM:313700.0008', 'ClinVarVariant:76004', 'OMIM:182381.0004', 'OMIM:611606.0002', 'OMIM:103600.0013', 'OMIM:115440.0004', 'OMIM:608507.0019', 'OMIM:603337.0005', 'OMIM:602575.0005', 'OMIM:610844.0012', 'OMIM:300379.0003', 'OMIM:142000.0042', 'OMIM:601424.0007', 'ClinVarVariant:24410', 'OMIM:610982.0004', 'OMIM:150341.0007', 'OMIM:100725.0022', 'OMIM:300746.0042', 'OMIM:300841.0069', 'OMIM:142410.0017', 'OMIM:141800.0022', 'OMIM:603372.0014', 'OMIM:605862.0006', 'OMIM:602053.0003', 'OMIM:610436.0004', 'OMIM:176943.0001', 'OMIM:300356.0007', 'ClinVarVariant:651333', 'OMIM:123695.0007', 'OMIM:604505.0003', 'OMIM:608667.0005', 'OMIM:609300.0017', 'OMIM:615320.0005', 'OMIM:179615.0015', 'OMIM:615408.0003', 'OMIM:195000.0002', 'OMIM:605378.0003', 'OMIM:609520.0003', 'OMIM:147450.0008', 'OMIM:600014.0010', 'OMIM:602937.0001', 'OMIM:606557.0006', 'OMIM:613619.0004', 'OMIM:603029.0001', 'OMIM:610860.0012', 'OMIM:614041.0016', 'OMIM:601336.0004', 'OMIM:600480.0005', 'OMIM:147880.0002', 'OMIM:300017.0028', 'OMIM:608770.0003', 'OMIM:605461.0004', 'OMIM:142250.0006', 'OMIM:608862.0005', 'OMIM:604539.0002', 'OMIM:600359.0005', 'OMIM:176946.0003', 'OMIM:300550.0011', 'OMIM:600019.0002', 'OMIM:184429.0004', 'dbSNP:rs6444970', 'OMIM:600040.0001', 'OMIM:606883.0007', 'OMIM:601011.0005', 'OMIM:611345.0004', 'OMIM:605896.0001', 'OMIM:300746.0011', 'OMIM:602202.0002', 'OMIM:607837.0001', 'OMIM:176880.0002', 'OMIM:229000.0004', 'OMIM:152760.0002', 'OMIM:610564.0001', 'OMIM:188450.0008', 'OMIM:120140.0038', 'OMIM:138250.0005', 'OMIM:614010.0002', 'OMIM:603339.0002', 'dbSNP:rs11768053', 'ClinVarVariant:25537', 'OMIM:605242.0006', 'OMIM:608958.0030', 'OMIM:612770.0003', 'OMIM:611731.0046', 'dbSNP:rs317808829', 'OMIM:147570.0003', 'OMIM:130160.0006', 'OMIM:605522.0007', 'dbSNP:rs10270805', 'OMIM:300195.0002', 'OMIM:608040.0002', 'OMIM:600799.0002', 'OMIM:601090.0010', 'OMIM:171760.0015', 'OMIM:607608.0017', 'OMIM:609562.0002', 'OMIM:602568.0003', 'OMIM:601607.0013', 'OMIM:608576.0003', 'OMIM:605921.0005', 'OMIM:600140.0006', 'OMIM:120960.0007', 'OMIM:609276.0001', 'OMIM:603892.0006', 'OMIM:300841.0108', 'OMIM:611492.0006', 'OMIM:176260.0004', 'ClinVarVariant:477434', 'OMIM:603381.0012', 'OMIM:158378.0007', 'OMIM:189980.0007', 'OMIM:607035.0004', 'OMIM:151460.0004', 'dbSNP:rs950027', 'OMIM:612515.0001', 'OMIM:607379.0001', 'OMIM:155541.0019', 'OMIM:613111.0007', 'OMIM:603693.0010', 'OMIM:185470.0014', 'OMIM:600234.0004', 'OMIM:606806.0003', 'OMIM:602780.0002', 'OMIM:610652.0004', 'OMIM:613733.0010', 'OMIM:139320.0015', 'OMIM:602421.0097', 'OMIM:602667.0004', 'OMIM:142250.0003', 'OMIM:610098.0002', 'OMIM:190182.0017', 'OMIM:610063.0001', 'OMIM:607159.0002', 'OMIM:604569.0001', 'OMIM:120070.0009', 'dbSNP:rs78131239', 'OMIM:601263.0003', 'OMIM:192977.0001', 'OMIM:615521.0004', 'dbSNP:rs4838595', 'ClinVarVariant:613409', 'OMIM:613666.0001', 'OMIM:308000.0021', 'OMIM:116897.0004', 'OMIM:610172.0001', 'OMIM:609552.0001', 'OMIM:612315.0002', 'OMIM:300172.0006', 'OMIM:602257.0001', 'OMIM:606680.0004', 'dbSNP:rs4925540', 'OMIM:160740.0002', 'OMIM:617266.0002', 'OMIM:602631.0003', 'OMIM:604976.0001', 'OMIM:608667.0011', 'OMIM:300499.0002', 'OMIM:516020.0001', 'OMIM:616086.0003', 'OMIM:612641.0006', 'ClinVarVariant:404620', 'OMIM:590080.0009', 'OMIM:611146.0004', 'OMIM:608668.0003', 'OMIM:300524.0001', 'OMIM:605379.0007', 'OMIM:109270.0028', 'OMIM:609018.0007', 'OMIM:612458.0001', 'OMIM:120130.0001', 'OMIM:300461.0003', 'OMIM:610308.0001', 'OMIM:602298.0003', 'OMIM:600618.0002', 'OMIM:605497.0007', 'OMIM:600702.0004', 'OMIM:107777.0017', 'OMIM:164757.0021', 'OMIM:602138.0005', 'OMIM:601746.0001', 'OMIM:605078.0006', 'dbSNP:rs9824150', 'OMIM:146738.0003', 'OMIM:615618.0002', 'OMIM:608041.0008', 'OMIM:607606.0003', 'OMIM:142410.0013', 'ClinVarVariant:567730', 'OMIM:600761.0009', 'ClinVarVariant:23280', 'OMIM:129010.0003', 'OMIM:141900.0172', 'OMIM:141800.0182', 'OMIM:601489.0002', 'OMIM:610876.0006', 'OMIM:605427.0024', 'OMIM:611053.0001', 'dbSNP:rs10805321', 'OMIM:601296.0005', 'dbSNP:rs12133007', 'OMIM:602292.0004', 'OMIM:607144.0007', 'dbSNP:rs315841515', 'OMIM:614041.0010', 'OMIM:600838.0008', 'OMIM:136440.0001', 'OMIM:300461.0027', 'OMIM:146661.0004', 'OMIM:104760.0008', 'OMIM:615364.0001', 'OMIM:606860.0013', 'OMIM:602216.0009', 'dbSNP:rs4702484', 'OMIM:600108.0001', 'OMIM:605516.0011', 'OMIM:134797.0038', 'OMIM:609894.0001', 'OMIM:607844.0002', 'OMIM:613350.0009', 'OMIM:103020.0011', 'OMIM:609247.0002', 'dbSNP:rs1254774', 'OMIM:609300.0009', 'OMIM:607522.0005', 'OMIM:602690.0020', 'OMIM:603009.0022', 'ClinVarVariant:842717', 'dbSNP:rs4933824', 'OMIM:300808.0002', 'OMIM:171760.0006', 'OMIM:138200.0001', 'OMIM:141800.0202', 'OMIM:300461.0021', 'OMIM:141900.0424', 'OMIM:176300.0010', 'OMIM:300377.0056', 'OMIM:605080.0001', 'OMIM:607839.0006', 'OMIM:607108.0006', 'OMIM:603324.0005', 'OMIM:300189.0001', 'OMIM:609058.0010', 'OMIM:131242.0003', 'ClinVarVariant:242486', 'OMIM:600179.0015', 'OMIM:141900.0115', 'OMIM:606765.0009', 'OMIM:603048.0005', 'OMIM:300393.0002', 'OMIM:604025.0002', 'ClinVarVariant:242475', 'OMIM:108746.0002', 'OMIM:120120.0017', 'OMIM:601145.0002', 'OMIM:607901.0008', 'OMIM:606416.0008', 'OMIM:606352.0002', 'OMIM:602378.0004', 'OMIM:607542.0018', 'OMIM:612636.0006', 'OMIM:300163.0011', 'OMIM:608845.0006', 'OMIM:120130.0024', 'ClinVarVariant:242598', 'OMIM:600423.0001', 'OMIM:617362.0006', 'OMIM:609937.0004', 'OMIM:604144.0007', 'OMIM:100850.0010', 'OMIM:123695.0008', 'OMIM:603377.0012', 'OMIM:611428.0007', 'OMIM:604417.0001', 'ClinVarVariant:620503', 'OMIM:602229.0007', 'OMIM:602616.0001', 'OMIM:607867.0002', 'OMIM:605906.0002', 'OMIM:609720.0003', 'OMIM:114020.0001', 'OMIM:102576.0006', 'OMIM:607601.0004', 'ClinVarVariant:33332', 'OMIM:601199.0037', 'OMIM:607803.0003', 'OMIM:613942.0003', 'OMIM:607690.0008', 'OMIM:276903.0014', 'OMIM:604831.0007', 'OMIM:176915.0006', 'dbSNP:rs62112924', 'OMIM:128239.0005', 'OMIM:608433.0001', 'OMIM:600650.0001', 'OMIM:600014.0001', 'OMIM:608833.0016', 'OMIM:603921.0001', 'OMIM:164360.0002', 'OMIM:606988.0001', 'OMIM:612283.0008', 'OMIM:136352.0008', 'OMIM:141800.0154', 'OMIM:600958.0013', 'OMIM:607542.0029', 'OMIM:609868.0003', 'OMIM:609661.0005', 'OMIM:601253.0021', 'OMIM:300248.0016', 'OMIM:107730.0010', 'OMIM:102576.0003', 'OMIM:190450.0006', 'OMIM:606273.0003', 'OMIM:606480.0011', 'OMIM:605610.0008', 'OMIM:609648.0004', 'OMIM:191305.0001', 'OMIM:138280.0006', 'OMIM:600236.0005', 'ClinVarVariant:25762', 'OMIM:192150.0010', 'OMIM:182530.0003', 'OMIM:150341.0004', 'OMIM:613733.0031', 'OMIM:603084.0002', 'OMIM:606596.0012', 'OMIM:121014.0018', 'ClinVarVariant:242532', 'OMIM:314690.0004', 'OMIM:606969.0002', 'ClinVarVariant:57589', 'OMIM:164920.0014', 'OMIM:123580.0004', 'OMIM:601873.0005', 'OMIM:615831.0002', 'OMIM:601991.0003', 'OMIM:121015.0002', 'OMIM:607036.0002', 'OMIM:603796.0002', 'ClinVarVariant:536553', 'OMIM:134934.0029', 'OMIM:603197.0011', 'OMIM:142994.0005', 'OMIM:300169.0001', 'dbSNP:rs138832179', 'OMIM:605194.0001', 'OMIM:141850.0045', 'OMIM:615047.0006', 'OMIM:607901.0005', 'OMIM:613349.0034', 'OMIM:603805.0001', 'OMIM:102582.0001', 'OMIM:600483.0005', 'OMIM:604294.0001', 'OMIM:607423.0011', 'OMIM:613113.0014', 'OMIM:141800.0101', 'OMIM:606453.0006', 'OMIM:305900.0055', 'OMIM:605988.0007', 'OMIM:600502.0002', 'OMIM:609591.0003', 'OMIM:608072.0006', 'OMIM:304040.0019', 'OMIM:608961.0001', 'OMIM:600346.0002', 'OMIM:136435.0004', 'OMIM:606107.0001', 'OMIM:613669.0001', 'OMIM:607063.0001', 'OMIM:617083.0005', 'OMIM:613984.0003', 'OMIM:612498.0001', 'OMIM:125660.0015', 'OMIM:164757.0018', 'OMIM:605495.0001', 'OMIM:601439.0002', 'OMIM:600532.0002', 'OMIM:141900.0374', 'OMIM:609018.0006', 'dbSNP:rs75243280', 'OMIM:248611.0001', 'OMIM:605747.0001', 'OMIM:135940.0005', 'OMIM:602880.0003', 'OMIM:606873.0008', 'OMIM:606829.0007', 'OMIM:604346.0012', 'OMIM:607439.0015', 'OMIM:603401.0005', 'OMIM:608441.0009', 'OMIM:612373.0005', 'OMIM:608546.0002', 'OMIM:611386.0011', 'ClinVarVariant:242582', 'OMIM:130160.0020', 'OMIM:600521.0004', 'OMIM:174763.0009', 'OMIM:182307.0004', 'OMIM:607922.0006', 'OMIM:300202.0008', 'OMIM:605597.0007', 'OMIM:601771.0010', 'OMIM:600570.0002', 'OMIM:607215.0003', 'OMIM:123864.0002', 'OMIM:300836.0004', 'OMIM:604264.0002', 'OMIM:601769.0006', 'OMIM:610844.0013', 'OMIM:165230.0002', 'OMIM:516050.0001', 'OMIM:604633.0006', 'ClinVarVariant:468682', 'OMIM:610746.0005', 'OMIM:400005.0001', 'OMIM:150330.0017', 'OMIM:191845.0003', 'OMIM:600359.0007', 'OMIM:605425.0004', 'OMIM:607314.0001', 'OMIM:191525.0003', 'OMIM:300294.0005', 'OMIM:613018.0001', 'OMIM:120090.0002', 'OMIM:606635.0002', 'ClinVarVariant:431059', 'OMIM:616312.0001', 'OMIM:611499.0013', 'OMIM:603584.0004', 'OMIM:300746.0109', 'OMIM:137167.0012', 'OMIM:300075.0011', 'OMIM:190198.0004', 'OMIM:611570.0002', 'OMIM:606145.0003', 'OMIM:600709.0001', 'OMIM:610132.0004', 'OMIM:606062.0001', 'OMIM:177400.0011', 'OMIM:604144.0012', 'OMIM:605284.0007', 'OMIM:603234.0028', 'OMIM:604223.0002', 'OMIM:603306.0001', 'OMIM:604149.0012', 'OMIM:613733.0003', 'OMIM:300169.0008', 'OMIM:607590.0001', 'OMIM:608034.0005', 'OMIM:300377.0061', 'OMIM:138570.0002', 'OMIM:300292.0009', 'OMIM:187270.0008', 'OMIM:142993.0005', 'OMIM:614571.0005', 'OMIM:606201.0031', 'OMIM:618461.0002', 'OMIM:300377.0083', 'OMIM:606151.0011', 'OMIM:611605.0001', 'OMIM:123631.0001', 'OMIM:138480.0002', 'OMIM:138280.0003', 'OMIM:602529.0006', 'OMIM:607440.0018', 'OMIM:161650.0011', 'OMIM:611559.0003', 'OMIM:600577.0001', 'OMIM:516040.0004', 'OMIM:602666.0012', 'dbSNP:rs12540771', 'OMIM:612349.0053', 'OMIM:607444.0004', 'OMIM:609014.0009', 'OMIM:611459.0002', 'dbSNP:rs6062901', 'OMIM:120090.0005', 'OMIM:600189.0001', 'OMIM:605270.0012', 'OMIM:607301.0003', 'OMIM:190180.0004', 'OMIM:141900.0215', 'OMIM:600856.0009', 'OMIM:616661.0006', 'OMIM:252800.0008', 'OMIM:603023.0004', 'OMIM:613037.0002', 'OMIM:603094.0003', 'dbSNP:rs28364475', 'OMIM:120180.0006', 'OMIM:607542.0021', 'OMIM:600024.0001', 'OMIM:141850.0061', 'OMIM:120140.0002', 'OMIM:603576.0002', 'OMIM:180472.0004', 'OMIM:611499.0016', 'OMIM:300550.0003', 'OMIM:601758.0003', 'OMIM:123580.0008', 'OMIM:606418.0004', 'OMIM:602241.0003', 'OMIM:313475.0004', 'OMIM:300300.0019', 'OMIM:600565.0005', 'OMIM:300658.0016', 'OMIM:610971.0001', 'OMIM:613114.0002', 'OMIM:614068.0004', 'ClinVarVariant:364262', 'OMIM:605080.0005', 'OMIM:603197.0013', 'OMIM:604313.0002', 'OMIM:601621.0005', 'OMIM:152790.0017', 'OMIM:601728.0037', 'OMIM:607633.0001', 'OMIM:607358.0010', 'OMIM:600225.0004', 'OMIM:602679.0001', 'OMIM:300538.0010', 'OMIM:614571.0008', 'OMIM:611592.0002', 'OMIM:176310.0002', 'OMIM:602743.0007', 'OMIM:617612.0009', 'OMIM:141900.0034', 'OMIM:150320.0005', 'OMIM:611103.0007', 'ClinVarVariant:27848', 'OMIM:607892.0002', 'OMIM:138249.0002', 'OMIM:610107.0002', 'OMIM:609237.0002', 'OMIM:133550.0001', 'OMIM:603646.0004', 'OMIM:602858.0016', 'OMIM:615322.0001', 'OMIM:160760.0038', 'OMIM:141900.0529', 'OMIM:120328.0009', 'OMIM:615291.0011', 'OMIM:600509.0010', 'OMIM:177070.0003', 'OMIM:614620.0011', 'OMIM:174763.0002', 'OMIM:601487.0005', 'OMIM:141900.0005', 'OMIM:110600.0003', 'OMIM:600133.0001', 'OMIM:605775.0005', 'OMIM:300011.0006', 'OMIM:141900.0426', 'OMIM:102545.0005', 'OMIM:602734.0002', 'OMIM:600709.0005', 'OMIM:606597.0014', 'OMIM:605267.0002', 'OMIM:607038.0003', 'OMIM:300011.0004', 'OMIM:118425.0004', 'OMIM:153454.0001', 'OMIM:600259.0002', 'OMIM:611466.0001', 'OMIM:109270.0026', 'OMIM:602421.0128', 'OMIM:601097.0020', 'OMIM:601806.0005', 'OMIM:608862.0002', 'OMIM:300205.0002', 'OMIM:141900.0209', 'OMIM:600315.0001', 'OMIM:606808.0001', 'OMIM:600983.0006', 'OMIM:600502.0012', 'OMIM:602091.0012', 'OMIM:616423.0005', 'OMIM:609884.0014', 'OMIM:605267.0001', 'OMIM:605367.0007', 'OMIM:120140.0050', 'ClinVarVariant:389363', 'OMIM:605452.0013', 'OMIM:185535.0001', 'OMIM:614848.0001', 'OMIM:617170.0002', 'ClinVarVariant:36378', 'OMIM:604096.0002', 'OMIM:601924.0002', 'OMIM:607100.0001', 'OMIM:142000.0019', 'OMIM:300163.0014', 'OMIM:300826.0010', 'dbSNP:rs312999310', 'OMIM:141180.0004', 'OMIM:602690.0015', 'OMIM:600946.0008', 'OMIM:609007.0001', 'OMIM:607566.0002', 'OMIM:606227.0008', 'OMIM:300390.0007', 'OMIM:300841.0013', 'OMIM:120150.0016', 'OMIM:610172.0006', 'OMIM:607270.0003', 'OMIM:614571.0009', 'OMIM:617949.0001', 'OMIM:232050.0001', 'OMIM:300841.0246', 'OMIM:141900.0538', 'OMIM:300037.0011', 'OMIM:164770.0011', 'OMIM:118444.0002', 'OMIM:607697.0004', 'OMIM:188840.0010', 'OMIM:300560.0002', 'OMIM:611037.0003', 'OMIM:602859.0003', 'ClinVarVariant:242501', 'OMIM:609988.0002', 'OMIM:602177.0003', 'OMIM:164770.0006', 'OMIM:613602.0015', 'OMIM:600733.0009', 'OMIM:604392.0001', 'OMIM:609279.0005', 'OMIM:104760.0009', 'OMIM:608083.9999', 'OMIM:138850.0004', 'OMIM:184430.0004', 'OMIM:601719.0002', 'OMIM:606078.0001', 'OMIM:618439.0002', 'OMIM:107690.0003', 'OMIM:601530.0002', 'OMIM:604917.0003', 'dbSNP:rs11158493', 'OMIM:164050.0001', 'ClinVarVariant:14321', 'dbSNP:rs11250464', 'OMIM:602366.0001', 'OMIM:141900.0255', 'OMIM:300304.0003', 'OMIM:600922.0001', 'OMIM:102610.0002', 'OMIM:610956.0008', 'OMIM:605011.0003', 'OMIM:600946.0033', 'OMIM:176310.0003', 'OMIM:606933.0023', 'OMIM:605517.0001', 'OMIM:614785.0003', 'OMIM:605207.0002', 'OMIM:300075.0013', 'OMIM:604902.0001', 'OMIM:600577.0003', 'OMIM:165240.0015', 'OMIM:300005.0028', 'OMIM:172411.0001', 'ClinVarVariant:94510', 'OMIM:616585.0002', 'OMIM:607491.0002', 'OMIM:608833.0020', 'OMIM:611632.0007', 'OMIM:104760.0001', 'OMIM:120070.0002', 'OMIM:125670.0007', 'OMIM:606873.0007', 'OMIM:607838.0008', 'OMIM:118504.0002', 'OMIM:313700.0048', 'dbSNP:rs11071200', 'OMIM:102545.0009', 'OMIM:605713.0006', 'OMIM:114183.0002', 'OMIM:118425.0019', 'OMIM:139320.0024', 'OMIM:601284.0007', 'OMIM:608177.0011', 'OMIM:607063.0006', 'OMIM:606494.0005', 'OMIM:152780.0001', 'OMIM:606151.0005', 'OMIM:122560.0001', 'OMIM:607358.0007', 'OMIM:600065.0001', 'OMIM:618542.0001', 'OMIM:610453.0006', 'OMIM:601421.0010', 'OMIM:147450.0028', 'OMIM:601691.0028', 'OMIM:609644.0006', 'OMIM:608761.0001', 'dbSNP:rs190662943', 'OMIM:609506.0012', 'OMIM:176876.0002', 'OMIM:170280.0016', 'OMIM:609427.0001', 'OMIM:600450.0002', 'OMIM:138300.0001', 'OMIM:601810.0001', 'OMIM:300226.0002', 'OMIM:107910.0013', 'OMIM:619098.0001', 'OMIM:614194.0007', 'OMIM:603422.0001', 'OMIM:601653.0010', 'OMIM:113705.0019', 'OMIM:134637.0012', 'OMIM:182350.0008', 'OMIM:600046.0008', 'OMIM:606980.0005', 'OMIM:606681.0003', 'OMIM:608897.0001', 'OMIM:605204.0001', 'OMIM:606151.0006', 'OMIM:305371.0001', 'OMIM:618994.0002', 'OMIM:610308.0002', 'OMIM:120110.0001', 'OMIM:601397.0002', 'OMIM:609695.0002', 'OMIM:600276.0009', 'OMIM:300746.0078', 'OMIM:164005.0012', 'OMIM:238310.0007', 'OMIM:600141.0001', 'OMIM:190182.0008', 'OMIM:179615.0014', 'OMIM:134637.0010', 'OMIM:300646.0004', 'OMIM:614159.0003', 'OMIM:148067.0011', 'OMIM:602438.0002', 'OMIM:606681.0002', 'OMIM:516020.0013', 'OMIM:614724.0001', 'OMIM:602216.0022', 'OMIM:613541.0005', 'OMIM:601019.0003', 'OMIM:608439.0001', 'OMIM:141900.0323', 'OMIM:300300.0015', 'OMIM:194363.0005', 'dbSNP:rs7816032', 'dbSNP:rs1799853', 'OMIM:603868.0008', 'OMIM:300371.0025', 'OMIM:308000.0012', 'OMIM:300350.0001', 'OMIM:120160.0005', 'OMIM:603711.0004', 'OMIM:194363.0008', 'dbSNP:rs2367725', 'OMIM:606421.0002', 'OMIM:618085.0004', 'OMIM:103220.0001', 'OMIM:605367.0009', 'OMIM:613354.0005', 'OMIM:602575.0011', 'OMIM:148069.0001', 'OMIM:603371.0004', 'OMIM:614215.0006', 'OMIM:606938.0008', 'OMIM:606882.0021', 'OMIM:606061.0001', 'OMIM:604269.0002', 'OMIM:300897.0012', 'OMIM:607574.0024', 'dbSNP:rs7979575', 'OMIM:480000.0006', 'OMIM:607752.0001', 'OMIM:601015.0005', 'OMIM:600509.0021', 'OMIM:608102.0004', 'OMIM:602346.0001', 'OMIM:604237.0007', 'OMIM:137350.0001', 'OMIM:605073.0003', 'OMIM:606478.0010', 'OMIM:155541.0001', 'OMIM:190198.0005', 'OMIM:147450.0027', 'OMIM:300075.0010', 'OMIM:605497.0003', 'OMIM:114090.0003', 'OMIM:606409.0001', 'OMIM:173470.0019', 'OMIM:608034.0012', 'OMIM:152427.0004', 'OMIM:141800.0006', 'OMIM:123630.0001', 'OMIM:606247.0005', 'OMIM:612349.0058', 'OMIM:601199.0008', 'OMIM:603499.0009', 'OMIM:300826.0002', 'OMIM:606682.0008', 'OMIM:179616.0001', 'OMIM:104311.0014', 'OMIM:300841.0218', 'OMIM:185470.0017', 'OMIM:603702.0001', 'dbSNP:rs3795578', 'OMIM:614515.0005', 'OMIM:614982.0009', 'OMIM:300841.0203', 'OMIM:104614.0008', 'OMIM:609479.0001', 'OMIM:600839.0008', 'OMIM:613138.0009', 'OMIM:614698.0001', 'OMIM:614925.0003', 'OMIM:612268.0001', 'OMIM:605195.0002', 'OMIM:606967.0013', 'OMIM:603892.0003', 'dbSNP:rs11666579', 'OMIM:300105.0004', 'OMIM:600997.0003', 'OMIM:607036.0004', 'OMIM:607035.0005', 'OMIM:607042.0007', 'OMIM:160720.0009', 'ClinVarVariant:970489', 'dbSNP:rs3784911', 'OMIM:142000.0043', 'OMIM:602716.0001', 'OMIM:615903.0001', 'OMIM:300135.0002', 'OMIM:614386.0001', 'OMIM:176975.0001', 'OMIM:611101.0003', 'OMIM:120240.0011', 'OMIM:616178.0001', 'OMIM:606822.0013', 'OMIM:602216.0023', 'OMIM:590050.0010', 'OMIM:138247.0004', 'OMIM:600956.0003', 'OMIM:607123.0002', 'OMIM:609489.0002', 'OMIM:606945.0063', 'OMIM:613111.0004', 'OMIM:134660.0003', 'OMIM:186790.0003', 'OMIM:608433.0003', 'OMIM:603453.0007', 'OMIM:608271.0005', 'OMIM:612452.0005', 'OMIM:125671.0006', 'OMIM:155541.0005', 'OMIM:108961.0012', 'OMIM:614041.0024', 'OMIM:601860.0010', 'OMIM:191740.0014', 'OMIM:190160.0026', 'OMIM:111680.0003', 'OMIM:125485.0005', 'OMIM:604283.0002', 'OMIM:600037.0009', 'OMIM:602658.0001', 'OMIM:300524.0005', 'OMIM:609577.0001', 'OMIM:603288.0003', 'OMIM:607759.0002', 'OMIM:611458.0004', 'OMIM:609751.0005', 'OMIM:605516.0002', 'OMIM:134850.0014', 'OMIM:607817.0004', 'OMIM:611318.0003', 'OMIM:180901.0006', 'dbSNP:rs2203205', 'OMIM:609291.0008', 'OMIM:602120.0001', 'OMIM:604103.0001', 'dbSNP:rs56849713', 'OMIM:602981.0004', 'OMIM:141800.0217', 'OMIM:604975.0005', 'OMIM:167410.0001', 'ClinVarVariant:609048', 'OMIM:606119.0003', 'OMIM:614738.0001', 'OMIM:516060.0008', 'dbSNP:rs9594293', 'OMIM:160740.0009', 'OMIM:616174.0002', 'OMIM:611279.0008', 'OMIM:603273.0023', 'OMIM:160760.0039', 'OMIM:609209.0002', 'OMIM:176730.0017', 'OMIM:607882.0003', 'OMIM:600584.0015', 'dbSNP:rs58117746', 'OMIM:148080.0001', 'OMIM:605446.0007', 'ClinVarVariant:242533', 'OMIM:168468.0001', 'OMIM:603590.0007', 'OMIM:142360.0002', 'OMIM:126455.0003', 'OMIM:613609.0004', 'OMIM:609342.0006', 'OMIM:616441.0003', 'OMIM:120250.0009', 'OMIM:141900.0017', 'OMIM:603714.0009', 'OMIM:300203.0007', 'OMIM:123740.0001', 'OMIM:601011.0027', 'OMIM:141800.0140', 'dbSNP:rs629404', 'OMIM:607961.0001', 'OMIM:606201.0007', 'OMIM:608595.0001', 'OMIM:590090.0001', 'OMIM:300473.0009', 'OMIM:606352.0016', 'OMIM:608769.0009', 'OMIM:601719.0001', 'OMIM:182350.0007', 'OMIM:613349.0013', 'OMIM:120131.0005', 'OMIM:607144.0004', 'OMIM:606153.0001', 'OMIM:188840.0012', 'OMIM:311800.0004', 'OMIM:614787.0001', 'OMIM:600856.0011', 'OMIM:603337.0001', 'OMIM:138150.0002', 'OMIM:614058.0001', 'OMIM:613230.0009', 'OMIM:610512.0006', 'OMIM:136132.0013', 'OMIM:516060.0007', 'OMIM:173470.0017', 'OMIM:188450.0003', 'OMIM:602291.0001', 'OMIM:606597.0002', 'OMIM:114105.0008', 'OMIM:104760.0012', 'OMIM:590085.0001', 'OMIM:600276.0008', 'OMIM:314200.0015', 'OMIM:606145.0005', 'OMIM:603453.0004', 'OMIM:300377.0080', 'OMIM:610652.0003', 'OMIM:141900.0414', 'OMIM:602125.0004', 'OMIM:615910.0006', 'OMIM:607273.0015', 'OMIM:600259.0014', 'OMIM:600310.0010', 'OMIM:610933.0002', 'OMIM:608167.0001', 'OMIM:176267.0003', 'OMIM:120328.0010', 'OMIM:300135.0001', 'OMIM:300300.0048', 'dbSNP:rs75218770', 'OMIM:300382.0013', 'OMIM:606027.0004', 'OMIM:601902.0001', 'OMIM:590045.0006', 'OMIM:607585.0024', 'OMIM:606151.0013', 'OMIM:610148.0001', 'OMIM:610956.0007', 'dbSNP:rs17124115', 'dbSNP:rs2902193', 'OMIM:152427.0012', 'OMIM:606241.0009', 'OMIM:300205.0011', 'OMIM:601762.0003', 'OMIM:120160.0003', 'OMIM:602690.0007', 'OMIM:102771.0003', 'OMIM:608736.0001', 'OMIM:605363.0001', 'OMIM:300377.0084', 'OMIM:609506.0001', 'OMIM:601365.0005', 'OMIM:605248.0005', 'OMIM:602591.0001', 'OMIM:605653.0002', 'OMIM:137070.0006', 'OMIM:606351.0002', 'OMIM:600225.0021', 'OMIM:615549.0004', 'dbSNP:rs67624109', 'OMIM:618994.0001', 'OMIM:616012.0002', 'OMIM:133530.0013', 'OMIM:607357.0002', 'OMIM:300110.0005', 'OMIM:600921.0001', 'OMIM:609856.0001', 'OMIM:605248.0004', 'OMIM:610934.0004', 'OMIM:600163.0014', 'OMIM:300377.0013', 'OMIM:126650.0007', 'OMIM:606566.0002', 'OMIM:602378.0001', 'OMIM:300278.0005', 'OMIM:608451.0004', 'OMIM:600014.0013', 'OMIM:606797.0002', 'OMIM:140100.0004', 'OMIM:165360.0008', 'OMIM:153454.0005', 'OMIM:608892.0017', 'OMIM:601614.0002', 'OMIM:137164.0001', 'OMIM:605908.0003', 'OMIM:602775.0003', 'OMIM:602658.0002', 'OMIM:605802.0017', 'OMIM:602748.0004', 'OMIM:601253.0014', 'OMIM:601893.0003', 'OMIM:605610.0004', 'OMIM:607071.0001', 'OMIM:603780.0015', 'OMIM:609708.0005', 'ClinVarVariant:627561', 'OMIM:604270.0012', 'OMIM:601663.0003', 'OMIM:615003.0007', 'OMIM:610991.0006', 'OMIM:182340.0007', 'ClinVarVariant:370379', 'OMIM:611687.0004', 'OMIM:606822.0001', 'OMIM:602666.0013', 'OMIM:104620.0001', 'OMIM:138250.0013', 'OMIM:605290.0014', 'ClinVarVariant:22052', 'OMIM:603297.0010', 'OMIM:600154.0001', 'OMIM:606885.0004', 'OMIM:613349.0037', 'OMIM:608922.0001', 'OMIM:314200.0004', 'OMIM:605713.0003', 'OMIM:608103.0002', 'OMIM:134797.0006', 'OMIM:611290.0001', 'OMIM:607056.0001', 'OMIM:602137.0002', 'OMIM:607544.0005', 'OMIM:613931.0001', 'OMIM:608780.0005', 'OMIM:604040.0002', 'OMIM:613409.0006', 'OMIM:138945.0009', 'OMIM:609314.0002', 'OMIM:102575.0004', 'OMIM:600354.0007', 'OMIM:604319.0005', 'OMIM:606897.0006', 'OMIM:141800.0125', 'OMIM:608210.0006', 'OMIM:137167.0013', 'OMIM:607574.0029', 'OMIM:606598.0001', 'OMIM:606883.0003', 'OMIM:612012.0004', 'OMIM:612498.0002', 'OMIM:607210.0007', 'OMIM:120110.0004', 'OMIM:191305.0005', 'OMIM:612799.0002', 'OMIM:182870.0008', 'OMIM:600523.0003', 'OMIM:606448.0001', 'OMIM:601728.0016', 'OMIM:116840.0003', 'OMIM:603405.0002', 'OMIM:606938.0011', 'ClinVarVariant:234844', 'OMIM:607244.0004', 'OMIM:603048.0007', 'OMIM:136350.0014', 'OMIM:602216.0007', 'dbSNP:rs10428959', 'OMIM:602049.0004', 'OMIM:600415.0002', 'OMIM:182870.0009', 'dbSNP:rs72726129', 'OMIM:600417.0003', 'ClinVarVariant:838890', 'OMIM:605427.0005', 'OMIM:157140.0014', 'OMIM:155760.0004', 'OMIM:608270.0001', 'OMIM:601622.0010', 'OMIM:607901.0009', 'OMIM:157660.0009', 'ClinVarVariant:371313', 'ClinVarVariant:237654', 'OMIM:607056.0002', 'OMIM:605427.0011', 'OMIM:300039.0008', 'OMIM:141800.0183', 'OMIM:107910.0003', 'OMIM:118423.0007', 'OMIM:601691.0037', 'OMIM:601440.0001', 'OMIM:102600.0006', 'OMIM:125660.0010', 'OMIM:137160.0001', 'OMIM:607057.0003', 'OMIM:606441.0003', 'OMIM:300461.0010', 'OMIM:605235.0001', 'OMIM:611731.0040', 'OMIM:141900.0387', 'OMIM:604824.0002', 'OMIM:141900.0194', 'OMIM:611542.0003', 'OMIM:300713.0004', 'OMIM:300196.0001', 'ClinVarVariant:622829', 'OMIM:104620.0005', 'OMIM:613213.0001', 'OMIM:590100.0003', 'OMIM:600310.0003', 'OMIM:180902.0002', 'OMIM:613733.0021', 'OMIM:120131.0001', 'OMIM:610513.0010', 'OMIM:613599.0007', 'OMIM:605646.0001', 'OMIM:610632.0001', 'dbSNP:rs7102974', 'OMIM:600937.0009', 'OMIM:604144.0010', 'OMIM:607901.0001', 'OMIM:604083.0003', 'ClinVarVariant:840856', 'OMIM:609644.0003', 'OMIM:600502.0004', 'dbSNP:rs4959235', 'OMIM:601147.0003', 'OMIM:613129.0006', 'OMIM:610924.0003', 'OMIM:600515.0001', 'OMIM:120130.0013', 'OMIM:611119.0004', 'OMIM:604134.0005', 'OMIM:120160.0048', 'OMIM:167416.0004', 'OMIM:120130.0028', 'OMIM:148080.0019', 'OMIM:606673.0002', 'OMIM:606882.0011', 'OMIM:605290.0003', 'OMIM:600046.0007', 'OMIM:115441.0007', 'OMIM:603576.0008', 'OMIM:300524.0004', 'OMIM:609489.0008', 'OMIM:616768.0002', 'OMIM:607647.0002', 'OMIM:131244.0004', 'OMIM:613446.0002', 'OMIM:600804.0001', 'OMIM:151750.0001', 'OMIM:607027.0005', 'OMIM:139150.0005', 'OMIM:603401.0008', 'OMIM:160777.0001', 'OMIM:160775.0006', 'OMIM:601873.0002', 'OMIM:611177.0007', 'OMIM:607008.0012', 'OMIM:192340.0017', 'OMIM:602593.0006', 'OMIM:609575.0007', 'OMIM:107741.0029', 'OMIM:181590.0004', 'dbSNP:rs17119280', 'OMIM:605739.0001', 'OMIM:604404.0003', 'OMIM:604260.0001', 'OMIM:607306.0003', 'ClinVarVariant:553756', 'OMIM:607521.0004', 'OMIM:614086.0004', 'OMIM:618227.0001', 'OMIM:604149.0002', 'ClinVarVariant:7841', 'ClinVarVariant:242567', 'OMIM:612753.0006', 'OMIM:173490.0002', 'OMIM:601284.0004', 'OMIM:138280.0004', 'OMIM:603470.0015', 'OMIM:167420.0002', 'OMIM:603758.0004', 'OMIM:191170.0003', 'OMIM:608797.0001', 'OMIM:141900.0176', 'OMIM:608965.0002', 'OMIM:604346.0001', 'OMIM:609239.0007', 'OMIM:605452.0003', 'OMIM:189980.0002', 'OMIM:603197.0005', 'OMIM:601150.0002', 'OMIM:300197.0004', 'OMIM:300377.0071', 'OMIM:300798.0007', 'dbSNP:rs4369272', 'OMIM:605257.0006', 'OMIM:173335.0015', 'dbSNP:rs200639', 'OMIM:103320.0002', 'OMIM:602138.0002', 'OMIM:138300.0003', 'OMIM:609058.0002', 'OMIM:602445.0004', 'OMIM:604592.0001', 'ClinVarVariant:98655', 'OMIM:613872.0015', 'OMIM:188250.0006', 'OMIM:606580.0004', 'OMIM:604373.0006', 'dbSNP:rs111637825', 'OMIM:191045.0005', 'OMIM:608160.0002', 'OMIM:607606.0009', 'OMIM:600957.0003', 'OMIM:601143.0001', 'OMIM:606686.0002', 'OMIM:134830.0011', 'OMIM:602115.0003', 'OMIM:120140.0014', 'OMIM:611549.0005', 'OMIM:608325.0003', 'OMIM:607207.0003', 'OMIM:605747.0004', 'OMIM:300556.0005', 'OMIM:600423.0002', 'OMIM:607379.0009', 'OMIM:600124.0001', 'OMIM:601011.0003', 'dbSNP:rs10746997', 'OMIM:314375.0001', 'OMIM:610865.0003', 'OMIM:600799.0009', 'OMIM:150330.0052', 'OMIM:606890.0010', 'OMIM:600650.0014', 'OMIM:608441.0014', 'OMIM:601609.0007', 'OMIM:130610.0001', 'OMIM:120140.0031', 'OMIM:300481.0008', 'dbSNP:rs313373039', 'OMIM:603094.0002', 'ClinVarVariant:973313', 'OMIM:608103.0001', 'OMIM:300823.0012', 'OMIM:123833.0001', 'dbSNP:rs3747851', 'OMIM:141900.0320', 'OMIM:613363.0003', 'OMIM:312610.0003', 'dbSNP:rs11141915', 'OMIM:314990.0002', 'OMIM:311850.0009', 'OMIM:606201.0020', 'OMIM:609610.0001', 'OMIM:602900.0007', 'ClinVarVariant:430872', 'OMIM:610045.0002', 'OMIM:120470.0002', 'OMIM:137295.0006', 'dbSNP:rs4663476', 'OMIM:613529.0002', 'OMIM:182530.0004', 'OMIM:133171.0003', 'OMIM:126340.0011', 'OMIM:150330.0055', 'OMIM:601731.0001', 'OMIM:604395.0001', 'OMIM:609661.0001', 'OMIM:603474.0004', 'OMIM:607206.0006', 'OMIM:604766.0006', 'dbSNP:rs76969352', 'OMIM:600194.0004', 'OMIM:604299.0001', 'OMIM:607892.0003', 'OMIM:606585.0003', 'OMIM:141800.0118', 'OMIM:608669.0002', 'OMIM:603401.0007', 'OMIM:602050.0003', 'dbSNP:rs10964391', 'OMIM:131244.0003', 'OMIM:604614.0003', 'OMIM:300034.0001', 'OMIM:601928.0001', 'OMIM:252800.0019', 'OMIM:613583.0008', 'OMIM:607042.0006', 'OMIM:191290.0006', 'OMIM:617362.0010', 'OMIM:601143.0006', 'OMIM:159440.0015', 'OMIM:176640.0023', 'OMIM:120150.0047', 'OMIM:188545.0001', 'OMIM:607072.0003', 'OMIM:610113.0007', 'OMIM:606725.0008', 'OMIM:608416.0008', 'OMIM:608815.0005', 'OMIM:603961.0002', 'OMIM:606411.0003', 'OMIM:600359.0010', 'OMIM:609381.0001', 'ClinVarVariant:19407', 'OMIM:603297.0007', 'OMIM:601150.0003', 'OMIM:607542.0020', 'OMIM:603644.0001', 'OMIM:300377.0015', 'OMIM:300485.0011', 'OMIM:608206.0008', 'OMIM:601498.0003', 'OMIM:120120.0014', 'OMIM:120150.0005', 'OMIM:607707.0006', 'OMIM:312610.0024', 'OMIM:617413.0004', 'OMIM:600065.0015', 'OMIM:300826.0003', 'OMIM:167415.0004', 'OMIM:150330.0053', 'OMIM:610376.0001', 'OMIM:601129.0001', 'OMIM:611184.0011', 'OMIM:614647.0001', 'OMIM:141800.0170', 'OMIM:516020.0009', 'OMIM:601047.0001', 'OMIM:602412.0004', 'OMIM:602192.0003', 'OMIM:104311.0016', 'OMIM:610957.0003', 'OMIM:190160.0011', 'OMIM:610511.0001', 'OMIM:610516.0002', 'OMIM:613446.0008', 'OMIM:311770.0015', 'OMIM:107741.0021', 'OMIM:600287.0012', 'OMIM:126090.0006', 'OMIM:300005.0027', 'OMIM:102630.0003', 'OMIM:190182.0013', 'OMIM:601825.0001', 'OMIM:189907.0004', 'OMIM:617619.0001', 'dbSNP:rs10122902', 'OMIM:600342.0001', 'OMIM:612283.0023', 'OMIM:608313.0003', 'OMIM:159555.0001', 'OMIM:300391.0010', 'OMIM:600108.0003', 'OMIM:607439.0005', 'OMIM:173910.0004', 'OMIM:610621.0004', 'OMIM:190195.0015', 'OMIM:300827.0002', 'OMIM:274180.0003', 'OMIM:608830.0004', 'OMIM:104311.0035', 'OMIM:516020.0014', 'OMIM:300017.0032', 'OMIM:179060.0002', 'OMIM:605998.0001', 'OMIM:116955.0001', 'OMIM:300461.0002', 'ClinVarVariant:38490', 'OMIM:605802.0016', 'OMIM:612870.0004', 'OMIM:606247.0007', 'OMIM:610621.0001', 'OMIM:605242.0005', 'OMIM:100725.0013', 'OMIM:120240.0010', 'OMIM:602125.0003', 'OMIM:148069.0005', 'OMIM:606597.0006', 'dbSNP:rs10499504', 'OMIM:603946.0002', 'OMIM:600733.0004', 'dbSNP:rs114870811', 'OMIM:605646.0002', 'OMIM:300461.0028', 'OMIM:601253.0013', 'OMIM:300039.0007', 'OMIM:116896.0006', 'OMIM:612309.0008', 'OMIM:603198.0008', 'OMIM:606718.0004', 'OMIM:602280.0007', 'OMIM:603729.0001', 'OMIM:602529.0004', 'OMIM:606521.0001', 'OMIM:605452.0012', 'OMIM:612349.0020', 'OMIM:614918.0001', 'OMIM:300090.0005', 'OMIM:601284.0006', 'OMIM:601215.0003', 'OMIM:164870.0008', 'OMIM:136440.0003', 'OMIM:601545.0009', 'OMIM:605459.0002', 'ClinVarVariant:404150', 'OMIM:604285.0006', 'OMIM:601282.0010', 'OMIM:605100.0001', 'OMIM:130160.0016', 'OMIM:150325.0001', 'OMIM:148040.0021', 'OMIM:136350.0009', 'OMIM:614068.0001', 'OMIM:611499.0012', 'OMIM:600140.0002', 'OMIM:300490.0006', 'OMIM:600825.0005', 'OMIM:605654.0001', 'dbSNP:rs4804134', 'OMIM:601147.0010', 'OMIM:192340.0020', 'OMIM:147557.0012', 'OMIM:600514.0002', 'OMIM:610863.0002', 'OMIM:159440.0005', 'OMIM:603057.0002', 'OMIM:600163.0020', 'OMIM:601785.0011', 'OMIM:141250.0003', 'OMIM:606933.0006', 'OMIM:603967.0031', 'OMIM:612192.0007', 'OMIM:607186.0004', 'OMIM:618865.0004', 'dbSNP:rs3794397', 'OMIM:300515.0007', 'OMIM:611192.0002', 'OMIM:606557.0004', 'dbSNP:rs316604231', 'OMIM:610552.0002', 'OMIM:516020.0012', 'OMIM:613602.0008', 'OMIM:150330.0014', 'OMIM:152790.0018', 'OMIM:139312.0002', 'OMIM:516005.0010', 'OMIM:173325.0003', 'dbSNP:rs6494735', 'OMIM:178630.0002', 'OMIM:607244.0001', 'OMIM:606622.0008', 'OMIM:300005.0029', 'OMIM:605516.0009', 'ClinVarVariant:245705', 'OMIM:612036.0002', 'OMIM:170995.0001', 'OMIM:164757.0002', 'OMIM:162230.0002', 'OMIM:114206.0002', 'OMIM:600276.0012', 'OMIM:602322.0013', 'ClinVarVariant:262711', 'OMIM:606158.0016', 'OMIM:121011.0038', 'OMIM:608771.0004', 'OMIM:141900.0090', 'OMIM:300461.0023', 'OMIM:606245.0003', 'OMIM:186711.0001', 'OMIM:300828.0002', 'OMIM:607542.0013', 'OMIM:602734.0004', 'OMIM:300644.0046', 'OMIM:120250.0003', 'OMIM:605427.0028', 'OMIM:120140.0033', 'OMIM:614506.0009', 'OMIM:613213.0015', 'OMIM:608010.0002', 'OMIM:300248.0019', 'OMIM:186357.0001', 'OMIM:613004.0001', 'OMIM:606681.0006', 'OMIM:120436.0034', 'OMIM:606454.0002', 'OMIM:300526.0002', 'OMIM:103730.0001', 'OMIM:606352.0007', 'OMIM:300841.0132', 'OMIM:602943.0003', 'OMIM:612349.0025', 'OMIM:148069.0007', 'OMIM:607108.0020', 'OMIM:602991.0006', 'OMIM:601199.0044', 'OMIM:141800.0017', 'OMIM:609806.0017', 'OMIM:607998.0008', 'OMIM:600173.0002', 'OMIM:604860.0002', 'OMIM:311770.0009', 'OMIM:609506.0006', 'OMIM:108740.0012', 'OMIM:613629.0012', 'OMIM:603360.0005', 'OMIM:618689.0006', 'OMIM:608183.0002', 'OMIM:606119.0004', 'ClinVarVariant:831906', 'OMIM:156570.0007', 'OMIM:600726.0008', 'OMIM:614139.0001', 'ClinVarVariant:31516', 'OMIM:172400.0006', 'OMIM:613619.0001', 'OMIM:611170.0005', 'OMIM:608968.0005', 'OMIM:613113.0022', 'OMIM:600046.0017', 'OMIM:606463.0024', 'OMIM:604506.0002', 'OMIM:141900.0054', 'OMIM:606962.0001', 'OMIM:606152.0004', 'OMIM:605775.0001', 'OMIM:607423.0013', 'OMIM:305915.0004', 'OMIM:606151.0001', 'OMIM:606463.0038', 'OMIM:134570.0004', 'OMIM:179410.0003', 'OMIM:120180.0026', 'OMIM:606019.0002', 'OMIM:604384.0003', 'OMIM:609806.0031', 'OMIM:606075.0007', 'OMIM:141900.0386', 'OMIM:616261.0004', 'ClinVarVariant:439525', 'dbSNP:rs17727261', 'OMIM:603023.0005', 'OMIM:300377.0085', 'OMIM:118425.0005', 'OMIM:612458.0005', 'OMIM:604473.0004', 'OMIM:603248.0008', 'OMIM:610936.0004', 'dbSNP:rs17379833', 'OMIM:141900.0011', 'OMIM:600829.0009', 'OMIM:113705.0012', 'OMIM:604061.0003', 'OMIM:607407.0010', 'OMIM:605906.0004', 'OMIM:300294.0010', 'OMIM:610128.0001', 'OMIM:611935.0007', 'OMIM:601622.0009', 'OMIM:308840.0002', 'OMIM:614589.0002', 'OMIM:609489.0006', 'OMIM:606639.0001', 'OMIM:610661.0006', 'OMIM:611023.0001', 'OMIM:603550.0002', 'OMIM:182860.0012', 'OMIM:606268.0006', 'OMIM:604653.0003', 'OMIM:611687.0002', 'OMIM:603805.0005', 'OMIM:605101.0001', 'OMIM:151443.0003', 'OMIM:302910.0001', 'OMIM:609239.0004', 'OMIM:611778.0002', 'OMIM:612036.0003', 'OMIM:125660.0019', 'OMIM:614386.0008', 'OMIM:182350.0014', 'OMIM:607878.0003', 'OMIM:611654.0010', 'OMIM:601719.0005', 'OMIM:609708.0032', 'OMIM:614603.0001', 'OMIM:103000.0006', 'ClinVarVariant:622828', 'OMIM:606411.0002', 'OMIM:300196.0004', 'OMIM:613524.0005', 'OMIM:182125.0004', 'OMIM:600650.0017', 'OMIM:608756.0001', 'OMIM:612676.0006', 'OMIM:604490.0002', 'OMIM:611642.0006', 'OMIM:300546.0001', 'dbSNP:rs7697578', 'OMIM:604063.0004', 'OMIM:606936.0002', 'OMIM:602421.0029', 'OMIM:603372.0032', 'OMIM:300137.0006', 'OMIM:612724.0011', 'ClinVarVariant:17497', 'OMIM:137164.0008', 'OMIM:134797.0041', 'OMIM:120160.0001', 'OMIM:604581.0017', 'OMIM:600276.0015', 'OMIM:609658.0001', 'OMIM:248611.0003', 'OMIM:608002.0001', 'OMIM:300300.0031', 'OMIM:182860.0006', 'OMIM:141900.0140', 'OMIM:131244.0005', 'OMIM:609825.0002', 'OMIM:613868.0003', 'ClinVarVariant:36279', 'OMIM:602860.0002', 'OMIM:600599.0002', 'OMIM:107400.0037', 'OMIM:300644.0044', 'ClinVarVariant:481283', 'OMIM:606097.0002', 'OMIM:605452.0007', 'OMIM:600276.0016', 'dbSNP:rs431254', 'OMIM:300538.0015', 'OMIM:609413.0003', 'OMIM:612648.0003', 'OMIM:300490.0003', 'OMIM:308000.0004', 'OMIM:610956.0001', 'OMIM:300841.0115', 'dbSNP:rs78835388', 'OMIM:604882.0002', 'OMIM:180902.0004', 'OMIM:601439.0011', 'OMIM:601825.0003', 'OMIM:188040.0009', 'OMIM:602360.0001', 'OMIM:602322.0007', 'OMIM:107910.0001', 'OMIM:134637.0003', 'OMIM:608699.0002', 'OMIM:600119.0001', 'OMIM:610142.0012', 'OMIM:178620.0004', 'OMIM:607207.0001', 'OMIM:603324.0006', 'OMIM:609689.0001', 'OMIM:186740.0002', 'OMIM:607123.0005', 'OMIM:176300.0052', 'OMIM:300205.0017', 'OMIM:187270.0007', 'OMIM:608305.0004', 'OMIM:603741.0005', 'OMIM:152200.0004', 'OMIM:107400.0039', 'OMIM:601757.0006', 'OMIM:601592.0013', 'OMIM:191043.0006', 'OMIM:612636.0004', 'OMIM:618421.0001', 'OMIM:120110.0010', 'OMIM:606718.0011', 'OMIM:607875.0001', 'OMIM:600783.0002', 'OMIM:164860.0003', 'dbSNP:rs149029090', 'OMIM:141900.0355', 'ClinVarVariant:262705', 'OMIM:602754.0003', 'OMIM:191170.0028', 'OMIM:163730.0002', 'OMIM:601671.0001', 'OMIM:303630.0006', 'OMIM:612120.0001', 'OMIM:605178.0002', 'OMIM:613619.0003', 'OMIM:608041.0001', 'OMIM:142250.0010', 'OMIM:613190.0001', 'OMIM:176980.0002', 'OMIM:613785.0003', 'ClinVarVariant:543920', 'OMIM:615950.0005', 'OMIM:602743.0006', 'OMIM:300823.0009', 'OMIM:613113.0029', 'OMIM:608083.0007', 'OMIM:300841.0150', 'OMIM:606075.0018', 'OMIM:604581.0012', 'OMIM:304040.0013', 'OMIM:109535.0004', 'ClinVarVariant:574855', 'OMIM:600374.0004', 'OMIM:613349.0030', 'ClinVarVariant:22208', 'OMIM:609024.0001', 'OMIM:160760.0024', 'OMIM:603758.0003', 'OMIM:602427.0003', 'OMIM:120250.0007', 'OMIM:604799.0001', 'OMIM:614925.0001', 'OMIM:613190.0004', 'OMIM:607251.0002', 'OMIM:606384.0002', 'OMIM:609751.0002', 'OMIM:609695.0003', 'OMIM:609798.0002', 'OMIM:602662.0006', 'OMIM:617612.0002', 'OMIM:309060.0004', 'OMIM:171640.0006', 'OMIM:141900.0334', 'OMIM:300552.0007', 'OMIM:613213.0014', 'OMIM:606273.0004', 'OMIM:604386.0002', 'OMIM:148067.0013', 'OMIM:590100.0004', 'OMIM:150330.0042', 'OMIM:123890.0007', 'OMIM:601097.0019', 'OMIM:160760.0035', 'OMIM:126650.0009', 'OMIM:612732.0014', 'OMIM:300746.0006', 'OMIM:604616.0004', 'OMIM:601843.0005', 'OMIM:142200.0010', 'OMIM:604834.0003', 'OMIM:133430.0005', 'OMIM:605370.0003', 'OMIM:613815.0022', 'OMIM:167413.0005', 'OMIM:611409.0001', 'OMIM:308840.0009', 'OMIM:606463.0023', 'OMIM:142810.0005', 'OMIM:172860.0004', 'OMIM:182870.0003', 'OMIM:141900.0200', 'OMIM:308000.0044', 'OMIM:608750.0005', 'OMIM:606540.0004', 'OMIM:613599.0001', 'OMIM:608305.0008', 'OMIM:603336.0001', 'OMIM:120355.0001', 'OMIM:176830.0008', 'OMIM:606463.0017', 'OMIM:172400.0001', 'OMIM:615684.0004', 'OMIM:602572.0002', 'OMIM:126090.0005', 'OMIM:608163.0003', 'OMIM:613602.0006', 'OMIM:190195.0039', 'OMIM:609845.0002', 'OMIM:617963.0001', 'OMIM:604319.0002', 'OMIM:173335.0016', 'OMIM:614477.0005', 'OMIM:194360.0002', 'OMIM:608053.0001', 'OMIM:120180.0011', 'OMIM:608508.0004', 'OMIM:606672.0007', 'OMIM:185470.0002', 'OMIM:605908.0013', 'OMIM:613602.0011', 'OMIM:190230.0005', 'OMIM:191290.0005', 'OMIM:601330.0003', 'OMIM:607608.0012', 'OMIM:102610.0001', 'OMIM:300189.0005', 'OMIM:613814.0006', 'OMIM:251170.0011', 'OMIM:606906.0001', 'OMIM:138160.0007', 'OMIM:179615.0022', 'OMIM:613814.0002', 'OMIM:605704.0001', 'dbSNP:rs7620938', 'OMIM:600514.0004', 'OMIM:120240.0018', 'ClinVarVariant:242611', 'OMIM:611927.0008', 'OMIM:164050.0003', 'OMIM:600970.0006', 'OMIM:606157.0007', 'OMIM:142250.0052', 'OMIM:300473.0008', 'OMIM:608112.0001', 'OMIM:612283.0013', 'OMIM:300808.0005', 'OMIM:185880.0006', 'OMIM:170710.0002', 'OMIM:606936.0008', 'OMIM:600678.0004', 'OMIM:138571.0002', 'OMIM:251170.0010', 'OMIM:126453.0002', 'OMIM:134820.0024', 'OMIM:300247.0001', 'OMIM:602617.0003', 'OMIM:100725.0001', 'OMIM:601011.0018', 'OMIM:608537.0025', 'OMIM:612424.0003', 'OMIM:617659.0002', 'OMIM:300401.0008', 'OMIM:606885.0001', 'OMIM:164015.0004', 'OMIM:613878.0012', 'OMIM:107300.0014', 'OMIM:610079.0003', 'OMIM:602635.0006', 'OMIM:603850.0005', 'OMIM:607257.0005', 'OMIM:601789.0005', 'OMIM:607479.0001', 'OMIM:176801.0008', 'OMIM:601688.0007', 'OMIM:609058.0001', 'OMIM:609019.0009', 'OMIM:618689.0004', 'OMIM:601146.0005', 'OMIM:608420.0002', 'OMIM:123805.0004', 'OMIM:300163.0006', 'OMIM:156540.0002', 'OMIM:102600.0001', 'OMIM:590030.0001', 'OMIM:171900.0004', 'OMIM:103600.0020', 'OMIM:304040.0008', 'ClinVarVariant:35962', 'OMIM:606962.0002', 'OMIM:600759.0007', 'OMIM:606530.0011', 'ClinVarVariant:47157', 'OMIM:612641.0009', 'OMIM:173110.0004', 'ClinVarVariant:200619', 'OMIM:300394.0002', 'OMIM:611731.0008', 'OMIM:300798.0011', 'OMIM:605564.0004', 'ClinVarVariant:44486', 'OMIM:100725.0007', 'OMIM:154235.0002', 'OMIM:300473.0010', 'OMIM:614010.0001', 'OMIM:141900.0351', 'OMIM:300951.0002', 'OMIM:608677.0001', 'OMIM:139191.0001', 'OMIM:606142.0011', 'OMIM:605775.0009', 'OMIM:601785.0020', 'OMIM:176943.0015', 'OMIM:300485.0009', 'OMIM:610285.0003', 'OMIM:609653.0004', 'OMIM:602402.0012', 'OMIM:608374.0008', 'OMIM:312610.0021', 'OMIM:516006.0003', 'ClinVarVariant:268096', 'OMIM:264900.0012', 'ClinVarVariant:565409', 'OMIM:610345.0008', 'OMIM:618181.0002', 'OMIM:608429.0010', 'OMIM:609017.0002', 'OMIM:603741.0008', 'OMIM:603197.0001', 'OMIM:613896.0002', 'OMIM:608833.0011', 'OMIM:142600.0009', 'OMIM:300697.0001', 'OMIM:601769.0013', 'OMIM:616423.0003', 'OMIM:300196.0003', 'OMIM:600923.0010', 'OMIM:608300.0008', 'OMIM:607709.0004', 'OMIM:613815.0020', 'OMIM:148040.0019', 'OMIM:601199.0028', 'OMIM:609186.0001', 'OMIM:300841.0093', 'OMIM:605414.0001', 'OMIM:192090.0021', 'OMIM:141900.0220', 'OMIM:601928.0004', 'OMIM:603470.0007', 'OMIM:602292.0003', 'OMIM:300300.0042', 'OMIM:605515.0004', 'OMIM:603273.0013', 'OMIM:601749.0003', 'ClinVarVariant:242531', 'dbSNP:rs7008904', 'OMIM:605828.0004', 'OMIM:604095.0010', 'OMIM:141800.0052', 'OMIM:171760.0007', 'OMIM:300377.0028', 'OMIM:616432.0002', 'OMIM:602931.0001', 'OMIM:614925.0002', 'OMIM:607928.0004', 'OMIM:170280.0005', 'OMIM:612123.0002', 'OMIM:188061.0001', 'OMIM:612779.0003', 'OMIM:141900.0051', 'OMIM:613293.0003', 'OMIM:610142.0011', 'OMIM:300644.0041', 'OMIM:137164.0005', 'OMIM:611731.0049', 'OMIM:156225.0010', 'OMIM:300040.0011', 'OMIM:117700.0003', 'OMIM:613726.0004', 'OMIM:608325.0002', 'OMIM:618146.0001', 'OMIM:607199.0005', 'ClinVarVariant:28975', 'OMIM:600814.0005', 'OMIM:605815.0001', 'OMIM:600827.0004', 'OMIM:276903.0021', 'OMIM:613521.0006', 'dbSNP:rs113262272', 'OMIM:610053.0003', 'OMIM:602218.0001', 'OMIM:120260.0001', 'OMIM:600857.0009', 'OMIM:107741.0019', 'OMIM:600577.0005', 'OMIM:313440.0002', 'OMIM:616618.0001', 'OMIM:604214.0008', 'OMIM:615611.0001', 'OMIM:185535.0009', 'OMIM:614139.0003', 'OMIM:604584.0001', 'OMIM:141800.0020', 'OMIM:137160.0002', 'OMIM:176260.0015', 'OMIM:601898.0001', 'OMIM:613113.0018', 'OMIM:613555.0004', 'OMIM:603360.0003', 'OMIM:609613.0001', 'OMIM:606857.0001', 'OMIM:604910.0002', 'OMIM:609390.0016', 'OMIM:152390.0001', 'OMIM:607882.0006', 'OMIM:300746.0053', 'OMIM:103000.0004', 'ClinVarVariant:439194', 'OMIM:612414.0004', 'OMIM:607904.0004', 'OMIM:172460.0010', 'OMIM:164040.0005', 'ClinVarVariant:437423', 'dbSNP:rs183736659', 'OMIM:120120.0011', 'OMIM:168840.0002', 'dbSNP:rs11769266', 'OMIM:300371.0019', 'OMIM:300011.0009', 'OMIM:611332.0008', 'OMIM:606350.0005', 'OMIM:173350.0001', 'OMIM:605497.0001', 'OMIM:300075.0017', 'OMIM:610876.0002', 'OMIM:120180.0021', 'OMIM:600065.0013', 'OMIM:613350.0006', 'OMIM:618726.0001', 'OMIM:606210.0003', 'ClinVarVariant:548681', 'OMIM:601762.0004', 'OMIM:606247.0003', 'OMIM:191845.0010', 'OMIM:614423.0005', 'OMIM:609890.0001', 'OMIM:151443.0002', 'OMIM:605239.0008', 'OMIM:142830.0004', 'OMIM:607102.0014', 'dbSNP:rs4787451', 'OMIM:172100.0003', 'OMIM:615047.0002', 'OMIM:607213.0003', 'OMIM:607352.0005', 'OMIM:600160.0004', 'OMIM:605270.0005', 'OMIM:606869.0031', 'OMIM:120575.0004', 'OMIM:603756.0005', 'OMIM:604712.0008', 'OMIM:104170.0001', 'OMIM:130130.0006', 'OMIM:188250.0001', 'OMIM:600300.0001', 'OMIM:300658.0015', 'OMIM:146661.0003', 'OMIM:300841.0051', 'OMIM:606873.0015', 'OMIM:173360.0003', 'OMIM:126455.0007', 'OMIM:602716.0005', 'OMIM:602208.0005', 'OMIM:607968.0003', 'OMIM:176266.0001', 'OMIM:606531.0001', 'OMIM:611045.0002', 'OMIM:605673.0001', 'OMIM:612222.0008', 'OMIM:610079.0002', 'OMIM:602727.0002', 'OMIM:612803.0009', 'dbSNP:rs1657408', 'OMIM:613727.0001', 'OMIM:300473.0029', 'OMIM:142000.0034', 'OMIM:613814.0001', 'OMIM:601728.0028', 'OMIM:603506.0018', 'OMIM:610553.0002', 'OMIM:605995.0005', 'OMIM:217070.0004', 'OMIM:176915.0005', 'OMIM:173335.0018', 'OMIM:607672.0001', 'dbSNP:rs141158222', 'ClinVarVariant:214016', 'OMIM:615831.0004', 'OMIM:141900.0526', 'OMIM:300746.0106', 'OMIM:603107.0009', 'OMIM:106150.0005', 'OMIM:141900.0032', 'OMIM:605109.0003', 'dbSNP:rs28561649', 'OMIM:276903.0003', 'OMIM:617878.0001', 'OMIM:162280.0006', 'OMIM:617209.0002', 'OMIM:611119.0007', 'OMIM:604392.0002', 'OMIM:615047.0001', 'OMIM:300697.0007', 'dbSNP:rs6963959', 'ClinVarVariant:371504', 'OMIM:611715.0004', 'OMIM:602768.0007', 'OMIM:606462.0005', 'OMIM:120436.0014', 'OMIM:173335.0014', 'OMIM:600529.0005', 'OMIM:608059.0002', 'OMIM:601460.0002', 'OMIM:300746.0102', 'OMIM:300386.0011', 'OMIM:602447.0002', 'OMIM:602533.0001', 'OMIM:147450.0016', 'OMIM:610916.0003', 'OMIM:618628.0002', 'OMIM:191350.0003', 'OMIM:607752.0006', 'OMIM:300841.0017', 'ClinVarVariant:651305', 'OMIM:602858.0002', 'OMIM:613360.0001', 'OMIM:602700.0009', 'OMIM:604780.0002', 'OMIM:611565.0002', 'OMIM:164350.0004', 'OMIM:608167.0009', 'OMIM:613596.0001', 'OMIM:607861.0001', 'OMIM:606480.0004', 'OMIM:600650.0009', 'ClinVarVariant:520408', 'OMIM:606810.0004', 'OMIM:121011.0021', 'OMIM:313700.0053', 'OMIM:601687.0001', 'OMIM:300110.0006', 'OMIM:603324.0007', 'OMIM:141900.0031', 'OMIM:600473.0005', 'OMIM:300377.0025', 'OMIM:141900.0469', 'OMIM:601013.0001', 'OMIM:107730.0005', 'OMIM:605951.0005', 'OMIM:134790.0011', 'OMIM:614191.0005', 'OMIM:600228.0003', 'OMIM:612907.0003', 'OMIM:606759.0002', 'OMIM:113705.0022', 'OMIM:608112.0004', 'OMIM:590060.0006', 'OMIM:182390.0010', 'OMIM:606879.0010', 'OMIM:603107.0008', 'OMIM:191044.0001', 'OMIM:600946.0024', 'OMIM:604907.0004', 'OMIM:123695.0005', 'OMIM:164005.0001', 'OMIM:608248.0002', 'OMIM:141800.0050', 'OMIM:120140.0021', 'OMIM:185881.0001', 'OMIM:600923.0007', 'OMIM:148040.0018', 'OMIM:141800.0027', 'OMIM:610206.0010', 'OMIM:606463.0019', 'OMIM:605537.0006', 'OMIM:607444.0001', 'OMIM:176885.0001', 'OMIM:600301.0003', 'OMIM:134850.0005', 'OMIM:608500.0002', 'OMIM:600234.0005', 'OMIM:608944.0009', 'OMIM:300473.0011', 'OMIM:102600.0003', 'OMIM:606597.0009', 'OMIM:180901.0039', 'OMIM:613113.0020', 'OMIM:605226.0002', 'OMIM:600876.0001', 'OMIM:612280.0010', 'OMIM:601652.0009', 'OMIM:112261.0005', 'OMIM:601717.0004', 'OMIM:616458.0004', 'OMIM:606352.0004', 'OMIM:607108.0011', 'OMIM:120520.0003', 'OMIM:142622.0001', 'OMIM:232050.0009', 'OMIM:606999.0014', 'OMIM:606681.0005', 'ClinVarVariant:374261', 'dbSNP:rs4764369', 'OMIM:138850.0009', 'OMIM:601366.0002', 'OMIM:182340.0008', 'OMIM:603401.0004', 'OMIM:609588.0007', 'OMIM:600958.0030', 'ClinVarVariant:937589', 'dbSNP:rs2224951', 'OMIM:141900.0450', 'OMIM:147138.0001', 'OMIM:609413.0009', 'OMIM:150292.0001', 'OMIM:182390.0011', 'OMIM:187270.0005', 'OMIM:616441.0004', 'OMIM:608894.0006', 'OMIM:313700.0028', 'OMIM:120140.0040', 'OMIM:605998.0006', 'OMIM:300383.0002', 'OMIM:300841.0182', 'OMIM:605393.0001', 'OMIM:142994.0010', 'OMIM:611570.0006', 'OMIM:142461.0006', 'OMIM:173470.0018', 'OMIM:607542.0011', 'OMIM:516000.0003', 'OMIM:600726.0002', 'OMIM:138079.0007', 'OMIM:613349.0029', 'OMIM:607340.0001', 'OMIM:300401.0004', 'OMIM:601215.0005', 'OMIM:609300.0035', 'OMIM:606598.0017', 'OMIM:607211.0006', 'OMIM:603601.0001', 'OMIM:607875.0002', 'OMIM:120120.0022', 'OMIM:120436.0030', 'OMIM:124040.0002', 'OMIM:600877.0002', 'OMIM:300841.0148', 'OMIM:561000.0005', 'OMIM:112264.0001', 'OMIM:300841.0149', 'OMIM:159440.0010', 'OMIM:610299.0001', 'OMIM:164761.0051', 'OMIM:607701.0002', 'OMIM:612418.0002', 'OMIM:602727.0007', 'OMIM:618269.0002', 'OMIM:120180.0028', 'OMIM:142250.0047', 'OMIM:137140.0002', 'OMIM:300169.0012', 'OMIM:300160.0013', 'OMIM:141900.0143', 'OMIM:603234.0016', 'OMIM:607542.0004', 'OMIM:602519.0003', 'OMIM:180380.0009', 'OMIM:611766.0004', 'OMIM:606463.0028', 'OMIM:125660.0008', 'OMIM:601530.0010', 'OMIM:605093.0002', 'OMIM:613931.0003', 'OMIM:141900.0302', 'OMIM:602302.0011', 'OMIM:611720.0004', 'OMIM:600108.0002', 'OMIM:618085.0003', 'OMIM:600698.0002', 'OMIM:600584.0003', 'OMIM:602337.0003', 'dbSNP:rs4111', 'OMIM:157147.0001', 'OMIM:607568.0001', 'OMIM:604395.0002', 'OMIM:603962.0001', 'OMIM:159350.0002', 'OMIM:141900.0326', 'OMIM:611103.0003', 'OMIM:607139.0008', 'OMIM:606410.0002', 'OMIM:610876.0001', 'OMIM:613609.0008', 'OMIM:191030.0003', 'OMIM:608614.0007', 'OMIM:113811.0012', 'OMIM:607439.0013', 'OMIM:103600.0025', 'OMIM:614888.0002', 'OMIM:602421.0063', 'OMIM:607574.0010', 'OMIM:615876.0003', 'OMIM:602195.0002', 'OMIM:104311.0038', 'OMIM:606822.0002', 'OMIM:608000.0001', 'OMIM:609720.0006', 'OMIM:606580.0005', 'OMIM:600354.0017', 'OMIM:107300.0038', 'OMIM:608537.0021', 'OMIM:300473.0015', 'OMIM:138252.0004', 'OMIM:602529.0007', 'OMIM:601601.0002', 'dbSNP:rs722311', 'OMIM:606530.0001', 'OMIM:602280.0009', 'OMIM:611119.0005', 'OMIM:604581.0018', 'OMIM:300203.0010', 'OMIM:313700.0021', 'OMIM:607056.0005', 'OMIM:115440.0003', 'OMIM:612803.0005', 'OMIM:177075.0002', 'OMIM:617209.0003', 'OMIM:611715.0002', 'OMIM:114020.0008', 'OMIM:150330.0056', 'OMIM:602118.0004', 'OMIM:604846.0001', 'OMIM:604705.0001', 'OMIM:604063.0002', 'OMIM:607809.0006', 'OMIM:601719.0011', 'OMIM:602378.0002', 'OMIM:607803.0002', 'OMIM:120120.0001', 'OMIM:100850.0011', 'dbSNP:rs12566888', 'OMIM:137780.0002', 'ClinVarVariant:361134', 'OMIM:601365.0001', 'OMIM:138292.0005', 'OMIM:607035.0007', 'OMIM:602292.0002', 'OMIM:612778.0004', 'OMIM:142959.0002', 'OMIM:602991.0018', 'OMIM:314200.0017', 'OMIM:123889.0003', 'OMIM:604766.0004', 'OMIM:300429.0001', 'OMIM:617170.0004', 'OMIM:603805.0004', 'OMIM:609213.0001', 'OMIM:138253.0005', 'OMIM:120140.0023', 'OMIM:602410.0003', 'OMIM:611103.0002', 'OMIM:600937.0001', 'ClinVarVariant:849364', 'OMIM:603273.0026', 'OMIM:141900.0064', 'OMIM:124020.0002', 'OMIM:157140.0005', 'OMIM:133530.0007', 'OMIM:606412.0001', 'OMIM:603400.0011', 'OMIM:114251.0002', 'ClinVarVariant:840562', 'OMIM:276903.0007', 'OMIM:611220.0005', 'OMIM:605555.0001', 'OMIM:600759.0005', 'OMIM:611220.0002', 'OMIM:604619.0008', 'OMIM:606097.0004', 'OMIM:606945.0025', 'OMIM:603297.0003', 'OMIM:610681.0001', 'OMIM:600555.0022', 'ClinVarVariant:4659', 'OMIM:606869.0027', 'dbSNP:rs11933531', 'OMIM:606938.0021', 'OMIM:614888.0003', 'ClinVarVariant:536561', 'OMIM:602635.0011', 'OMIM:614064.0004', 'OMIM:604566.0006', 'OMIM:604212.0004', 'OMIM:602575.0008', 'OMIM:609471.0002', 'OMIM:604103.0002', 'OMIM:173325.0005', 'OMIM:300145.0001', 'OMIM:614215.0003', 'OMIM:136435.0009', 'OMIM:602926.0007', 'ClinVarVariant:982525', 'ClinVarVariant:4649', 'OMIM:600528.0006', 'OMIM:605266.0001', 'OMIM:603464.0002', 'OMIM:602576.0002', 'OMIM:300172.0001', 'OMIM:590015.0001', 'OMIM:607817.0014', 'dbSNP:rs7550821', 'OMIM:616120.0004', 'OMIM:141900.0082', 'OMIM:251170.0005', 'OMIM:107470.0008', 'OMIM:610937.0011', 'OMIM:609342.0005', 'OMIM:164757.0022', 'OMIM:300161.0005', 'OMIM:609690.0002', 'OMIM:102600.0007', 'dbSNP:rs12143612', 'OMIM:603372.0027', 'OMIM:613726.0002', 'OMIM:300377.0020', 'ClinVarVariant:370232', 'OMIM:609806.0026', 'OMIM:601365.0004', 'OMIM:141800.0095', 'OMIM:126090.0002', 'OMIM:120180.0017', 'OMIM:600495.0001', 'ClinVarVariant:242681', 'OMIM:120150.0007', 'OMIM:602337.0013', 'OMIM:139250.0021', 'OMIM:141900.0116', 'OMIM:607512.0004', 'OMIM:607840.0015', 'dbSNP:rs11813481', 'OMIM:107300.0046', 'OMIM:610345.0007', 'OMIM:604122.0002', 'OMIM:601601.0007', 'ClinVarVariant:970490', 'OMIM:609690.0003', 'OMIM:300401.0009', 'OMIM:164761.0028', 'OMIM:608103.0006', 'OMIM:606523.0003', 'OMIM:604490.0007', 'OMIM:609826.0008', 'OMIM:612570.0009', 'OMIM:601146.0009', 'ClinVarVariant:14334', 'OMIM:611731.0012', 'OMIM:607566.0005', 'OMIM:141900.0165', 'OMIM:610142.0003', 'OMIM:141850.0064', 'OMIM:188040.0004', 'OMIM:608416.0003', 'OMIM:605078.0003', 'OMIM:300300.0051', 'OMIM:603550.0003', 'OMIM:602421.0035', 'OMIM:601819.0002', 'OMIM:603100.0003', 'OMIM:171060.0007', 'OMIM:607542.0009', 'OMIM:602235.0011', 'OMIM:600568.0004', 'OMIM:601906.0003', 'OMIM:607440.0013', 'OMIM:605290.0007', 'ClinVarVariant:12223', 'OMIM:102610.0005', 'OMIM:602954.0004', 'OMIM:607194.0001', 'OMIM:177070.0001', 'OMIM:613815.0003', 'OMIM:602167.0001', 'OMIM:126340.0002', 'OMIM:152780.0005', 'OMIM:613111.0002', 'OMIM:602337.0004', 'OMIM:606060.0009', 'OMIM:607532.0002', 'OMIM:605206.0009', 'OMIM:603967.0005', 'OMIM:604896.0012', 'ClinVarVariant:468709', 'OMIM:606557.0003', 'OMIM:613897.0004', 'dbSNP:rs7775721', 'OMIM:603220.0002', 'OMIM:604505.0004', 'OMIM:604285.0012', 'OMIM:305900.0034', 'OMIM:611499.0014', 'OMIM:600946.0001', 'OMIM:300377.0031', 'OMIM:612959.0002', 'OMIM:300032.0009', 'ClinVarVariant:94327', 'OMIM:147670.0031', 'OMIM:606945.0053', 'OMIM:159970.0001', 'OMIM:618980.0001', 'OMIM:607481.0002', 'OMIM:604261.0001', 'OMIM:120350.0001', 'OMIM:619129.0001', 'OMIM:148040.0020', 'OMIM:600492.0004', 'OMIM:600364.0003', 'OMIM:605452.0001', 'OMIM:191311.0005', 'OMIM:615900.0001', 'OMIM:610844.0007', 'OMIM:602166.0001', 'OMIM:610230.0006', 'dbSNP:rs17280534', 'OMIM:613349.0022', 'OMIM:114208.0008', 'OMIM:601218.0001', 'dbSNP:rs6495237', 'OMIM:120131.0007', 'OMIM:612971.0005', 'OMIM:603824.0014', 'OMIM:191092.0010', 'OMIM:608945.0002', 'OMIM:607667.0002', 'OMIM:612676.0007', 'OMIM:616441.0002', 'OMIM:120140.0015', 'OMIM:616815.0004', 'OMIM:607257.0001', 'OMIM:107741.0017', 'OMIM:605124.0003', 'OMIM:600698.0004', 'OMIM:157140.0006', 'OMIM:601199.0012', 'OMIM:604741.0005', 'OMIM:600827.0005', 'OMIM:217030.0006', 'OMIM:601865.0002', 'OMIM:607998.0009', 'OMIM:113705.0039', 'OMIM:604912.0003', 'OMIM:613018.0005', 'OMIM:179060.0010', 'OMIM:141900.0084', 'OMIM:612757.0003', 'OMIM:604447.0002', 'OMIM:607461.0004', 'OMIM:605522.0012', 'OMIM:610613.0004', 'OMIM:604557.0003', 'OMIM:604712.0011', 'OMIM:600359.0008', 'OMIM:150310.0015', 'OMIM:134797.0009', 'OMIM:606351.0008', 'OMIM:610554.0001', 'ClinVarVariant:262704', 'OMIM:603200.0005', 'OMIM:605978.0006', 'OMIM:610936.0005', 'OMIM:608803.0008', 'OMIM:131550.0006', 'OMIM:605629.0004', 'OMIM:132890.0003', 'OMIM:607542.0015', 'OMIM:182138.0002', 'OMIM:107690.0004', 'OMIM:120220.0013', 'OMIM:609449.0003', 'OMIM:176943.0025', 'OMIM:603415.0002', 'OMIM:134370.0007', 'OMIM:606416.0006', 'dbSNP:rs2239711', 'OMIM:142989.0013', 'OMIM:606871.0003', 'OMIM:170290.0002', 'OMIM:603517.0019', 'OMIM:176894.0001', 'OMIM:180380.0031', 'OMIM:607809.0013', 'OMIM:136352.0017', 'ClinVarVariant:648762', 'OMIM:180903.0001', 'ClinVarVariant:424703', 'OMIM:600163.0018', 'OMIM:603409.0004', 'OMIM:164920.0007', 'OMIM:610341.0002', 'OMIM:600160.0013', 'OMIM:300841.0111', 'OMIM:134850.0012', 'OMIM:603968.0003', 'OMIM:601652.0015', 'OMIM:141900.0451', 'OMIM:613602.0005', 'OMIM:603758.0002', 'OMIM:300231.0006', 'OMIM:601806.0004', 'OMIM:120280.0005', 'OMIM:150240.0003', 'OMIM:602397.0006', 'OMIM:603544.0001', 'OMIM:601719.0003', 'OMIM:179605.0018', 'OMIM:602744.0006', 'OMIM:606238.0005', 'OMIM:605206.0005', 'OMIM:609862.0007', 'OMIM:606622.0002', 'OMIM:605078.0005', 'OMIM:604588.0010', 'OMIM:600005.0002', 'OMIM:608364.0002', 'OMIM:217030.0002', 'OMIM:612570.0011', 'OMIM:159440.0035', 'OMIM:103600.0032', 'OMIM:313700.0004', 'OMIM:609799.0009', 'OMIM:590050.0005', 'OMIM:191350.0004', 'OMIM:603796.0004', 'OMIM:107741.0022', 'OMIM:164008.0001', 'OMIM:600574.0008', 'OMIM:607844.0006', 'OMIM:300651.0001', 'OMIM:612386.0001', 'OMIM:608441.0018', 'OMIM:600983.0004', 'OMIM:615495.0002', 'OMIM:157147.0010', 'OMIM:602661.0010', 'OMIM:600838.0004', 'OMIM:607574.0012', 'OMIM:600923.0004', 'OMIM:601671.0002', 'OMIM:611146.0002', 'OMIM:610339.0001', 'OMIM:606350.0004', 'OMIM:615316.0004', 'OMIM:615291.0013', 'OMIM:126650.0005', 'OMIM:300205.0014', 'OMIM:141900.0007', 'OMIM:602136.0009', 'OMIM:600682.0011', 'OMIM:276903.0009', 'OMIM:607273.0011', 'OMIM:190195.0037', 'OMIM:605120.0002', 'OMIM:611332.0007', 'OMIM:184429.0005', 'OMIM:603453.0006', 'OMIM:609186.0005', 'OMIM:609214.0001', 'OMIM:136850.0006', 'OMIM:141800.0139', 'OMIM:600232.0001', 'OMIM:147670.0018', 'OMIM:612035.0006', 'OMIM:160760.0033', 'OMIM:300395.0001', 'OMIM:100725.0015', 'OMIM:172100.0010', 'OMIM:123970.0001', 'OMIM:192150.0006', 'OMIM:177070.0002', 'OMIM:608593.0002', 'OMIM:615049.0005', 'ClinVarVariant:613412', 'OMIM:300461.0020', 'OMIM:606142.0010', 'OMIM:300651.0005', 'OMIM:108961.0003', 'OMIM:107777.0004', 'OMIM:600682.0012', 'OMIM:606860.0012', 'OMIM:603576.0009', 'OMIM:147370.0006', 'dbSNP:rs17460823', 'OMIM:120360.0005', 'OMIM:603273.0007', 'OMIM:516000.0006', 'OMIM:605882.0003', 'OMIM:131195.0003', 'OMIM:612349.0030', 'dbSNP:rs2547917', 'OMIM:607381.0001', 'OMIM:125270.0006', 'OMIM:602623.0001', 'OMIM:601567.0001', 'OMIM:308000.0016', 'OMIM:610681.0010', 'OMIM:179820.0004', 'OMIM:147910.0001', 'OMIM:608429.0006', 'OMIM:606273.0002', 'OMIM:604346.0009', 'dbSNP:rs286913', 'OMIM:311850.0012', 'OMIM:126340.0013', 'OMIM:609300.0019', 'OMIM:147450.0010', 'OMIM:600300.0004', 'OMIM:300137.0004', 'OMIM:300377.0047', 'OMIM:602768.0001', 'OMIM:602229.0011', 'OMIM:172490.0006', 'ClinVarVariant:948070', 'OMIM:603968.0013', 'OMIM:300522.0007', 'OMIM:300644.0008', 'OMIM:606014.0005', 'OMIM:182391.0005', 'OMIM:612082.0004', 'OMIM:609018.0005', 'OMIM:300137.0005', 'OMIM:607867.0001', 'OMIM:139320.0035', 'OMIM:300647.0004', 'OMIM:159440.0020', 'OMIM:300110.0001', 'OMIM:164780.0006', 'OMIM:600797.0002', 'OMIM:600799.0008', 'ClinVarVariant:108542', 'OMIM:601527.0002', 'OMIM:606417.0003', 'OMIM:179617.0005', 'OMIM:600442.0005', 'OMIM:609300.0029', 'OMIM:300163.0008', 'OMIM:601309.0013', 'OMIM:607123.0004', 'OMIM:612802.0005', 'OMIM:616830.0005', 'OMIM:600958.0005', 'OMIM:609118.0004', 'OMIM:605284.0011', 'OMIM:152427.0021', 'OMIM:147670.0001', 'OMIM:136350.0033', 'OMIM:602142.0003', 'OMIM:607800.0012', 'OMIM:600301.0004', 'OMIM:604032.0004', 'dbSNP:rs11910597', 'OMIM:176300.0006', 'OMIM:139250.0024', 'OMIM:139250.0012', 'OMIM:138322.0002', 'OMIM:190450.0004', 'OMIM:131320.0004', 'OMIM:606936.0007', 'OMIM:601011.0001', 'OMIM:176943.0021', 'OMIM:604878.0006', 'dbSNP:rs1941221', 'OMIM:602690.0005', 'OMIM:610613.0011', 'OMIM:601688.0004', 'OMIM:612757.0002', 'OMIM:603673.0004', 'OMIM:602023.0003', 'OMIM:617631.0003', 'OMIM:608455.0010', 'OMIM:608508.0005', 'OMIM:600276.0013', 'OMIM:601653.0003', 'OMIM:601623.0003', 'OMIM:608792.0003', 'OMIM:190182.0005', 'OMIM:613890.0010', 'OMIM:601299.0005', 'OMIM:613842.0002', 'OMIM:601920.0010', 'OMIM:614515.0006', 'OMIM:613815.0012', 'OMIM:300265.0004', 'OMIM:610206.0019', 'OMIM:190000.0001', 'OMIM:190230.0008', 'OMIM:604857.0006', 'OMIM:155760.0007', 'OMIM:601757.0002', 'OMIM:612386.0014', 'OMIM:605622.0002', 'OMIM:605908.0008', 'OMIM:606731.0001', 'OMIM:120470.0009', 'OMIM:605025.0002', 'OMIM:611499.0004', 'OMIM:141900.0012', 'OMIM:601893.0009', 'ClinVarVariant:32899', 'OMIM:608381.0002', 'ClinVarVariant:33507', 'OMIM:605427.0034', 'OMIM:604395.0007', 'OMIM:604386.0009', 'OMIM:190195.0028', 'OMIM:600150.0010', 'OMIM:600993.0006', 'OMIM:606879.0005', 'OMIM:300841.0006', 'OMIM:613842.0001', 'OMIM:614612.0001', 'OMIM:300841.0007', 'OMIM:605512.0008', 'OMIM:184757.0010', 'OMIM:602616.0003', 'OMIM:188840.0005', 'OMIM:604277.0013', 'OMIM:300535.0002', 'OMIM:601011.0023', 'OMIM:300658.0010', 'OMIM:603711.0002', 'OMIM:300121.0010', 'OMIM:192090.0026', 'OMIM:608002.0003', 'OMIM:190151.0002', 'OMIM:313430.0002', 'OMIM:141850.0017', 'OMIM:600925.0002', 'OMIM:141900.0182', 'OMIM:138079.0003', 'OMIM:614783.0001', 'OMIM:600439.0003', 'OMIM:600678.0008', 'OMIM:612971.0010', 'OMIM:300490.0012', 'OMIM:605907.0002', 'OMIM:605078.0009', 'dbSNP:rs4732957', 'OMIM:605226.0004', 'OMIM:313700.0009', 'OMIM:616105.0005', 'OMIM:120290.0001', 'dbSNP:rs114797146', 'OMIM:136350.0005', 'OMIM:603196.0001', 'OMIM:141900.0103', 'OMIM:607365.0005', 'OMIM:607358.0005', 'OMIM:141900.0079', 'OMIM:157147.0007', 'OMIM:605242.0010', 'OMIM:600185.0021', 'OMIM:606887.0002', 'OMIM:611448.0001', 'OMIM:300017.0005', 'OMIM:300746.0063', 'OMIM:604616.0005', 'OMIM:601199.0050', 'OMIM:604862.0001', 'OMIM:604580.0014', 'OMIM:604386.0008', 'OMIM:300461.0013', 'OMIM:182390.0009', 'OMIM:600281.0006', 'OMIM:608576.0001', 'OMIM:612907.0007', 'OMIM:608706.0003', 'OMIM:604857.0003', 'OMIM:603517.0006', 'OMIM:155555.0009', 'OMIM:602926.0001', 'OMIM:136850.0010', 'OMIM:603330.0004', 'OMIM:604272.0009', 'OMIM:607759.0012', 'ClinVarVariant:551920', 'OMIM:612182.0005', 'OMIM:609595.0003', 'OMIM:606672.0002', 'OMIM:312610.0014', 'OMIM:108961.0001', 'OMIM:611559.0002', 'OMIM:600702.0006', 'OMIM:613349.0006', 'OMIM:608309.0004', 'OMIM:612779.0006', 'OMIM:603286.0001', 'OMIM:602365.0006', 'OMIM:615187.0003', 'OMIM:610619.0005', 'OMIM:605515.0006', 'OMIM:300841.0067', 'OMIM:603372.0012', 'OMIM:120110.0003', 'OMIM:104311.0001', 'OMIM:606441.0001', 'OMIM:601231.0005', 'OMIM:600438.0001', 'OMIM:603727.0002', 'OMIM:129010.0004', 'OMIM:601428.0011', 'OMIM:607707.0004', 'OMIM:134797.0034', 'OMIM:607512.0005', 'OMIM:607585.0005', 'ClinVarVariant:208553', 'OMIM:600310.0008', 'OMIM:176300.0008', 'OMIM:120160.0002', 'OMIM:606419.0005', 'OMIM:120150.0039', 'OMIM:604773.0004', 'OMIM:608536.0003', 'OMIM:136850.0009', 'OMIM:614591.0001', 'OMIM:134934.0019', 'OMIM:300628.0010', 'OMIM:601592.0014', 'OMIM:601756.0011', 'OMIM:614351.0003', 'OMIM:611428.0003', 'OMIM:604386.0007', 'OMIM:612349.0051', 'OMIM:191040.0003', 'OMIM:147570.0005', 'OMIM:182307.0005', 'OMIM:608706.0005', 'OMIM:609883.0001', 'OMIM:605207.0001', 'OMIM:601284.0002', 'OMIM:617424.0005', 'OMIM:308380.0005', 'OMIM:147574.0002', 'OMIM:600160.0020', 'OMIM:189980.0008', 'OMIM:300414.0002', 'OMIM:607182.0002', 'OMIM:602208.0006', 'OMIM:182307.0006', 'OMIM:603009.0004', 'OMIM:602153.0002', 'OMIM:605283.0010', 'dbSNP:rs2192762', 'OMIM:614683.0001', 'OMIM:611184.0012', 'OMIM:138253.0002', 'OMIM:611776.0001', 'OMIM:605995.0003', 'dbSNP:rs954794', 'OMIM:126455.0002', 'OMIM:312610.0017', 'dbSNP:rs7611506', 'dbSNP:rs16035516', 'OMIM:516060.0009', 'OMIM:141900.0009', 'OMIM:120150.0040', 'OMIM:102573.0003', 'OMIM:173910.0003', 'OMIM:601428.0008', 'OMIM:190160.0037', 'OMIM:613893.0005', 'OMIM:609798.0005', 'OMIM:300035.0002', 'OMIM:606980.0011', 'OMIM:617083.0010', 'OMIM:604167.0002', 'OMIM:190070.0017', 'OMIM:600909.0008', 'OMIM:608797.0002', 'ClinVarVariant:264668', 'OMIM:613403.0003', 'dbSNP:rs6500395', 'OMIM:601530.0006', 'OMIM:601692.0001', 'OMIM:107773.0002', 'OMIM:605511.0005', 'OMIM:181590.0002', 'OMIM:618058.0004', 'OMIM:300841.0243', 'OMIM:603681.0009', 'ClinVarVariant:477494', 'OMIM:608420.0004', 'OMIM:141800.0212', 'OMIM:112264.0003', 'OMIM:150292.0006', 'OMIM:605014.0004', 'ClinVarVariant:253185', 'OMIM:603332.0001', 'OMIM:150330.0024', 'OMIM:611927.0006', 'OMIM:605554.0001', 'OMIM:120120.0038', 'OMIM:602860.0001', 'OMIM:605111.0001', 'OMIM:606609.0007', 'OMIM:602768.0008', 'OMIM:604581.0005', 'OMIM:601440.0002', 'OMIM:600814.0004', 'OMIM:606759.0001', 'OMIM:120252.0004', 'OMIM:301300.0007', 'ClinVarVariant:374203', 'OMIM:612898.0004', 'dbSNP:rs7071247', 'OMIM:602880.0001', 'OMIM:606227.0002', 'OMIM:613381.0008', 'OMIM:601149.0007', 'OMIM:601487.0013', 'OMIM:103600.0007', 'OMIM:606463.0045', 'OMIM:606603.0002', 'OMIM:611770.0001', 'OMIM:603248.0006', 'OMIM:300365.0002', 'OMIM:126340.0004', 'OMIM:612349.0023', 'OMIM:603584.0002', 'OMIM:147569.0003', 'OMIM:604544.0005', 'OMIM:612349.0067', 'OMIM:120570.0001', 'OMIM:605101.0002', 'OMIM:176943.0023', 'OMIM:614828.0002', 'OMIM:611669.0002', 'OMIM:613171.0003', 'OMIM:616690.0002', 'dbSNP:rs1567482', 'OMIM:607805.0003', 'OMIM:607182.0005', 'OMIM:600140.0001', 'OMIM:602780.0012', 'OMIM:141900.0324', 'OMIM:603945.0010', 'OMIM:300841.0014', 'OMIM:156570.0003', 'ClinVarVariant:166223', 'OMIM:190070.0011', 'OMIM:615743.0006', 'OMIM:172400.0010', 'OMIM:102582.0007', 'OMIM:609017.0004', 'OMIM:600185.0002', 'OMIM:609024.0002', 'OMIM:148080.0007', 'OMIM:614194.0002', 'OMIM:605629.0006', 'OMIM:604934.0004', 'OMIM:602842.0002', 'OMIM:176843.0001', 'OMIM:611731.0039', 'OMIM:602291.0003', 'OMIM:313700.0017', 'dbSNP:rs2279168', 'OMIM:142000.0002', 'OMIM:605880.0013', 'OMIM:120940.0007', 'OMIM:147470.0004', 'OMIM:121014.0022', 'dbSNP:rs7456261', 'OMIM:300382.0014', 'OMIM:606718.0014', 'OMIM:300032.0014', 'OMIM:608958.0009', 'OMIM:134637.0009', 'OMIM:188826.0005', 'OMIM:601146.0012', 'OMIM:137160.0005', 'OMIM:142250.0022', 'OMIM:120120.0007', 'OMIM:191044.0013', 'OMIM:604212.0009', 'OMIM:300841.0098', 'OMIM:141800.0188', 'OMIM:612452.0004', 'OMIM:605908.0011', 'OMIM:614084.0003', 'OMIM:600584.0012', 'OMIM:607059.0007', 'OMIM:191040.0004', 'OMIM:159440.0008', 'OMIM:114078.0006', 'OMIM:612309.0009', 'OMIM:615016.0002', 'OMIM:601199.0027', 'OMIM:605584.0001', 'OMIM:190070.0021', 'OMIM:604349.0001', 'OMIM:165390.0001', 'OMIM:608451.0007', 'OMIM:613326.0002', 'OMIM:606523.0002', 'OMIM:603470.0011', 'OMIM:300550.0006', 'OMIM:612392.0010', 'OMIM:300647.0007', 'OMIM:606157.0002', 'OMIM:141900.0297', 'OMIM:600799.0014', 'OMIM:601607.0007', 'OMIM:602146.0004', 'OMIM:601184.0001', 'OMIM:612268.0003', 'OMIM:611170.0001', 'OMIM:604581.0008', 'OMIM:138491.0013', 'OMIM:600225.0014', 'OMIM:603234.0019', 'OMIM:138280.0002', 'OMIM:160760.0002', 'OMIM:602445.0005', 'OMIM:603372.0019', 'OMIM:610004.0003', 'OMIM:600354.0012', 'OMIM:613349.0025', 'OMIM:605425.0005', 'OMIM:601752.0001', 'OMIM:114220.0002', 'OMIM:604041.0001', 'OMIM:603474.0008', 'OMIM:114190.0001', 'dbSNP:rs317183319', 'OMIM:179616.0005', 'OMIM:610573.0006', 'OMIM:603009.0021', 'OMIM:602769.0008', 'OMIM:600528.0012', 'OMIM:605290.0005', 'dbSNP:rs78784579', 'OMIM:615462.0002', 'OMIM:600924.0005', 'OMIM:605497.0005', 'dbSNP:rs113817060', 'ClinVarVariant:551506', 'OMIM:612898.0008', 'OMIM:120436.0011', 'OMIM:602783.0002', 'OMIM:112262.0008', 'OMIM:300300.0028', 'OMIM:606570.0002', 'OMIM:176260.0006', 'OMIM:152427.0027', 'dbSNP:rs1011267', 'OMIM:108370.0003', 'OMIM:603345.0001', 'OMIM:300658.0017', 'OMIM:118503.0004', 'ClinVarVariant:982545', 'OMIM:610621.0005', 'OMIM:131550.0004', 'OMIM:141900.0094', 'OMIM:602166.0006', 'OMIM:614620.0015', 'OMIM:141900.0046', 'OMIM:300084.0002', 'OMIM:607100.0002', 'OMIM:114761.0002', 'OMIM:600958.0011', 'OMIM:608736.0006', 'OMIM:606544.0002', 'OMIM:616186.0003', 'OMIM:300651.0002', 'OMIM:602286.0006', 'OMIM:138160.0015', 'OMIM:613815.0014', 'OMIM:609708.0008', 'OMIM:602337.0001', 'ClinVarVariant:36379', 'OMIM:300392.0011', 'OMIM:607474.0004', 'OMIM:188250.0003', 'OMIM:131550.0001', 'OMIM:600960.0002', 'OMIM:606945.0034', 'OMIM:606463.0039', 'OMIM:194363.0002', 'OMIM:182282.0002', 'OMIM:131242.0009', 'OMIM:602666.0011', 'OMIM:612283.0009', 'OMIM:613129.0009', 'OMIM:607795.0001', 'OMIM:606062.0009', 'OMIM:603967.0019', 'OMIM:607108.0017', 'OMIM:300269.0001', 'OMIM:603201.0007', 'OMIM:604759.0001', 'dbSNP:rs28364559', 'OMIM:601313.0008', 'ClinVarVariant:447432', 'OMIM:147280.0001', 'OMIM:610436.0002', 'OMIM:107773.0003', 'ClinVarVariant:2547', 'OMIM:190070.0004', 'OMIM:611006.0001', 'OMIM:123864.0001', 'OMIM:606201.0029', 'OMIM:167409.0011', 'OMIM:601336.0001', 'OMIM:604285.0013', 'OMIM:608605.0001', 'OMIM:147265.0004', 'OMIM:190195.0013', 'OMIM:611916.0001', 'OMIM:614574.0006', 'OMIM:601309.0014', 'OMIM:603191.0011', 'OMIM:300414.0003', 'OMIM:248611.0006', 'OMIM:609575.0005', 'OMIM:609309.0009', 'OMIM:142200.0011', 'OMIM:131244.0001', 'OMIM:607210.0002', 'OMIM:601314.0002', 'OMIM:609457.0003', 'OMIM:613113.0025', 'OMIM:124020.0003', 'OMIM:131550.0003', 'OMIM:102573.0001', 'OMIM:614151.0001', 'OMIM:606247.0004', 'OMIM:606844.0008', 'OMIM:603200.0002', 'OMIM:606870.0004', 'OMIM:606597.0001', 'OMIM:600003.0001', 'OMIM:516020.0002', 'OMIM:606151.0019', 'OMIM:606718.0013', 'OMIM:608416.0007', 'ClinVarVariant:135191', 'OMIM:103600.0010', 'OMIM:116806.0001', 'OMIM:100725.0003', 'OMIM:605810.0004', 'OMIM:608210.0009', 'OMIM:608547.0003', 'OMIM:147520.0004', 'OMIM:107930.0005', 'OMIM:107910.0012', 'OMIM:142200.0019', 'dbSNP:rs67443441', 'OMIM:600364.0006', 'OMIM:609390.0009', 'OMIM:610622.0003', 'OMIM:604808.0002', 'OMIM:608102.0007', 'OMIM:168468.0013', 'OMIM:613602.0003', 'OMIM:607465.0001', 'OMIM:606879.0004', 'OMIM:600185.0011', 'dbSNP:rs10261515', 'OMIM:155541.0010', 'OMIM:300746.0027', 'OMIM:311800.0011', 'OMIM:300304.0006', 'ClinVarVariant:19373', 'OMIM:120110.0020', 'OMIM:614567.0001', 'OMIM:141900.0413', 'OMIM:190198.0010', 'OMIM:611801.0005', 'OMIM:147020.0002', 'OMIM:601023.0013', 'OMIM:608945.0006', 'OMIM:605984.0003', 'OMIM:171834.0001', 'OMIM:607001.0002', 'OMIM:182870.0013', 'OMIM:608041.0006', 'OMIM:613349.0036', 'dbSNP:rs3827886', 'OMIM:606844.0006', 'OMIM:607343.0006', 'OMIM:612349.0044', 'OMIM:608537.0006', 'OMIM:102772.0001', 'OMIM:191311.0006', 'OMIM:604935.0001', 'OMIM:607759.0005', 'OMIM:603136.0007', 'OMIM:611124.0004', 'OMIM:276000.0010', 'OMIM:300392.0020', 'OMIM:603465.0005', 'OMIM:612280.0007', 'OMIM:602536.0005', 'OMIM:141800.0075', 'OMIM:600354.0021', 'OMIM:602574.0001', 'OMIM:605515.0007', 'OMIM:164760.0001', 'OMIM:300017.0038', 'OMIM:148041.0003', 'OMIM:609831.0006', 'OMIM:603604.0014', 'OMIM:191044.0003', 'OMIM:600946.0030', 'OMIM:607858.0001', 'OMIM:616109.0001', 'OMIM:604214.0003', 'OMIM:114010.0002', 'OMIM:611966.0002', 'OMIM:605145.0013', 'OMIM:177046.0005', 'OMIM:610681.0004', 'OMIM:184745.0006', 'OMIM:164860.0012', 'OMIM:601771.0007', 'OMIM:609300.0022', 'OMIM:613629.0014', 'OMIM:605248.0009', 'OMIM:608441.0004', 'OMIM:606081.0001', 'OMIM:610060.0003', 'OMIM:601861.0002', 'OMIM:603283.0001', 'OMIM:167416.0015', 'OMIM:610844.0008', 'OMIM:609712.0001', 'OMIM:612283.0014', 'OMIM:311770.0010', 'OMIM:601146.0018', 'OMIM:616012.0003', 'OMIM:160740.0003', 'OMIM:608034.0008', 'OMIM:608699.0004', 'OMIM:610982.0010', 'OMIM:606847.0004', 'OMIM:300391.0004', 'OMIM:611224.0005', 'OMIM:174763.0013', 'OMIM:610745.0004', 'OMIM:611124.0008', 'OMIM:159555.0005', 'OMIM:612636.0002', 'OMIM:607817.0015', 'OMIM:306250.0002', 'OMIM:611279.0003', 'OMIM:607072.0004', 'OMIM:607759.0013', 'OMIM:308000.0049', 'OMIM:600937.0008', 'OMIM:176761.0004', 'OMIM:606480.0009', 'OMIM:608248.0003', 'OMIM:182390.0016', 'OMIM:300746.0077', 'OMIM:615003.0003', 'OMIM:179615.0006', 'OMIM:614828.0004', 'OMIM:603921.0002', 'OMIM:603834.0002', 'OMIM:601622.0015', 'OMIM:308000.0041', 'OMIM:602207.0004', 'OMIM:612349.0027', 'OMIM:606480.0008', 'OMIM:603941.0002', 'OMIM:600759.0002', 'OMIM:604110.0002', 'OMIM:605023.0001', 'OMIM:121011.0031', 'OMIM:610285.0008', 'OMIM:605481.0008', 'OMIM:602671.0002', 'OMIM:609443.0001', 'OMIM:612779.0001', 'dbSNP:rs77259676', 'OMIM:602272.0003', 'OMIM:600275.0004', 'OMIM:608770.0002', 'OMIM:153454.0002', 'OMIM:601618.0003', 'OMIM:141900.0256', 'OMIM:131320.0012', 'OMIM:601015.0004', 'OMIM:612931.0003', 'OMIM:605810.0002', 'OMIM:606933.0007', 'OMIM:190000.0002', 'OMIM:107741.0027', 'OMIM:617878.0002', 'OMIM:602544.0004', 'OMIM:613113.0005', 'OMIM:184600.0003', 'OMIM:608160.0016', 'ClinVarVariant:38394', 'OMIM:116952.0006', 'OMIM:605380.0005', 'OMIM:612386.0003', 'OMIM:188450.0018', 'OMIM:141900.0141', 'OMIM:185620.0002', 'OMIM:606822.0015', 'OMIM:604759.0003', 'OMIM:108961.0005', 'OMIM:600053.0005', 'OMIM:601498.0001', 'OMIM:608002.0002', 'OMIM:107730.0021', 'OMIM:134350.0002', 'OMIM:604105.0002', 'dbSNP:rs80171647', 'OMIM:613350.0003', 'OMIM:590030.0003', 'OMIM:600276.0007', 'OMIM:115501.0006', 'OMIM:601691.0011', 'OMIM:605020.0001', 'OMIM:608512.0006', 'OMIM:600163.0016', 'OMIM:157140.0016', 'OMIM:615004.0002', 'OMIM:611595.0001', 'OMIM:602208.0007', 'OMIM:107300.0026', 'OMIM:191170.0007', 'OMIM:618255.0007', 'OMIM:605988.0013', 'OMIM:150330.0028', 'OMIM:606158.0017', 'dbSNP:rs12900463', 'OMIM:608160.0011', 'OMIM:120140.0054', 'OMIM:601756.0003', 'OMIM:601314.0006', 'OMIM:601090.0004', 'ClinVarVariant:16495', 'OMIM:603073.0002', 'OMIM:607474.0011', 'OMIM:600608.0002', 'ClinVarVariant:946941', 'OMIM:141900.0330', 'OMIM:601728.0034', 'OMIM:141900.0515', 'OMIM:603401.0006', 'OMIM:603073.0004', 'OMIM:614064.0001', 'OMIM:615068.0006', 'OMIM:604175.0002', 'OMIM:180901.0013', 'OMIM:608360.0001', 'OMIM:608002.0008', 'OMIM:607102.0022', 'OMIM:142810.0002', 'OMIM:602113.0001', 'OMIM:610531.0004', 'OMIM:141900.0190', 'OMIM:300451.0005', 'OMIM:603593.0005', 'OMIM:606885.0003', 'OMIM:179605.0021', 'OMIM:601368.0004', 'OMIM:139250.0002', 'OMIM:103220.0010', 'OMIM:142200.0036', 'OMIM:606521.0002', 'ClinVarVariant:15046', 'OMIM:602167.0003', 'OMIM:176871.0001', 'OMIM:602296.0004', 'OMIM:609690.0004', 'OMIM:601299.0004', 'OMIM:123590.0002', 'OMIM:606687.0001', 'OMIM:602421.0017', 'OMIM:608441.0007', 'OMIM:121011.0034', 'OMIM:308840.0001', 'ClinVarVariant:209094', 'OMIM:602421.0030', 'OMIM:603234.0007', 'OMIM:603959.0012', 'OMIM:617048.0006', 'OMIM:300502.0005', 'OMIM:174763.0015', 'OMIM:604592.0004', 'OMIM:613354.0002', 'dbSNP:rs17079773', 'OMIM:603031.0002', 'OMIM:613733.0011', 'OMIM:300838.0001', 'dbSNP:rs8083432', 'OMIM:600814.0006', 'OMIM:607439.0002', 'OMIM:141900.0100', 'OMIM:603382.0001', 'ClinVarVariant:242534', 'OMIM:138249.0003', 'OMIM:614084.0001', 'OMIM:609575.0008', 'OMIM:157147.0009', 'OMIM:610608.0003', 'OMIM:605283.0009', 'OMIM:607423.0012', 'OMIM:120280.0012', 'OMIM:602575.0003', 'OMIM:179615.0008', 'OMIM:604212.0010', 'dbSNP:rs116692768', 'OMIM:190020.0011', 'OMIM:613405.0001', 'OMIM:603729.0003', 'OMIM:313700.0036', 'OMIM:313700.0005', 'OMIM:611119.0002', 'OMIM:300394.0014', 'OMIM:607839.0003', 'OMIM:141800.0090', 'OMIM:614168.0001', 'OMIM:137192.0006', 'OMIM:602991.0001', 'OMIM:300838.0004', 'ClinVarVariant:679213', 'OMIM:176300.0001', 'dbSNP:rs4597738', 'OMIM:610035.0001', 'OMIM:601288.0004', 'OMIM:300715.0006', 'OMIM:173350.0004', 'OMIM:613622.0002', 'OMIM:609471.0004', 'OMIM:134637.0002', 'OMIM:608172.0001', 'OMIM:600098.0003', 'OMIM:615759.0002', 'OMIM:192090.0013', 'OMIM:605460.0007', 'OMIM:612839.0002', 'OMIM:612770.0001', 'OMIM:617670.0001', 'OMIM:607008.0006', 'OMIM:139320.0001', 'OMIM:602860.0009', 'OMIM:608272.0004', 'OMIM:612349.0043', 'OMIM:308840.0011', 'OMIM:300248.0002', 'OMIM:611430.0002', 'OMIM:137295.0011', 'OMIM:601513.0001', 'ClinVarVariant:242393', 'OMIM:157132.0001', 'OMIM:605654.0004', 'OMIM:179616.0004', 'OMIM:601565.0002', 'OMIM:172471.0005', 'OMIM:603867.0002', 'OMIM:614258.0007', 'OMIM:614088.0002', 'OMIM:607998.0011', 'OMIM:609799.0007', 'ClinVarVariant:20852', 'OMIM:603961.0003', 'OMIM:600037.0008', 'OMIM:608732.0004', 'OMIM:600073.0009', 'OMIM:601622.0012', 'OMIM:139313.0001', 'OMIM:609382.0001', 'OMIM:606883.0001', 'OMIM:608778.0003', 'OMIM:600617.0009', 'OMIM:607623.0004', 'OMIM:300841.0021', 'OMIM:129010.0005', 'OMIM:605101.0003', 'OMIM:606412.0002', 'OMIM:182465.0006', 'OMIM:605862.0007', 'OMIM:191190.0002', 'OMIM:300841.0060', 'OMIM:300170.0008', 'OMIM:606672.0005', 'OMIM:609883.0008', 'OMIM:608792.0004', 'OMIM:107680.0026', 'OMIM:607186.0007', 'OMIM:141800.0210', 'dbSNP:rs2412459', 'OMIM:601565.0001', 'OMIM:120436.0010', 'OMIM:141900.0516', 'OMIM:602141.0001', 'OMIM:300473.0031', 'OMIM:300644.0054', 'OMIM:170280.0004', 'OMIM:607809.0005', 'OMIM:601465.0008', 'OMIM:182390.0012', 'OMIM:611062.0008', 'OMIM:142410.0019', 'OMIM:609059.0007', 'OMIM:608059.0003', 'OMIM:606953.0003', 'OMIM:190160.0008', 'OMIM:141900.0406', 'OMIM:180901.0036', 'OMIM:191045.0002', 'dbSNP:rs938298', 'OMIM:612761.0005', 'OMIM:300538.0021', 'OMIM:123859.0003', 'OMIM:606882.0013', 'OMIM:134637.0008', 'OMIM:120140.0049', 'OMIM:139360.0002', 'OMIM:300294.0006', 'OMIM:613858.0004', 'OMIM:602216.0014', 'OMIM:305900.0016', 'OMIM:153622.0003', 'OMIM:612374.0002', 'OMIM:609708.0040', 'OMIM:131320.0003', 'dbSNP:rs12199015', 'OMIM:605725.0003', 'OMIM:185605.0001', 'OMIM:602346.0003', 'OMIM:615787.0003', 'OMIM:607273.0004', 'OMIM:601724.0001', 'OMIM:108961.0013', 'OMIM:148066.0015', 'OMIM:613602.0007', 'OMIM:600014.0014', 'OMIM:600073.0007', 'OMIM:606566.0001', 'OMIM:603248.0007', 'OMIM:601756.0001', 'OMIM:607623.0015', 'ClinVarVariant:48593', 'OMIM:305371.0004', 'OMIM:300382.0021', 'OMIM:609708.0007', 'OMIM:605908.0004', 'OMIM:601002.0007', 'OMIM:300841.0002', 'OMIM:176943.0007', 'OMIM:173470.0004', 'OMIM:134790.0009', 'OMIM:602780.0004', 'OMIM:614620.0005', 'OMIM:134570.0001', 'OMIM:107910.0011', 'OMIM:300841.0198', 'OMIM:600728.0005', 'OMIM:102540.0002', 'OMIM:608699.0001', 'OMIM:173410.0005', 'OMIM:600760.0013', 'OMIM:602860.0005', 'OMIM:147265.0011', 'OMIM:142976.0002', 'OMIM:123930.0001', 'OMIM:602104.0004', 'OMIM:616454.0003', 'OMIM:300474.0005', 'OMIM:165240.0008', 'OMIM:190182.0003', 'OMIM:104760.0004', 'OMIM:605087.0002', 'OMIM:602643.0004', 'OMIM:601199.0036', 'OMIM:109270.0022', 'OMIM:121015.0006', 'OMIM:601428.0003', 'OMIM:170998.0001', 'OMIM:611358.0003', 'OMIM:601663.0002', 'OMIM:300841.0179', 'OMIM:600225.0015', 'OMIM:614556.0005', 'OMIM:608630.0013', 'OMIM:138322.0003', 'OMIM:300836.0002', 'OMIM:614982.0017', 'OMIM:607096.0003', 'OMIM:603936.0001', 'OMIM:600682.0002', 'OMIM:602662.0007', 'OMIM:173110.0002', 'OMIM:607574.0005', 'OMIM:155760.0013', 'OMIM:607522.0003', 'OMIM:611761.0002', 'OMIM:243305.0003', 'OMIM:103220.0006', 'OMIM:131240.0002', 'OMIM:609382.0003', 'OMIM:300247.0004', 'OMIM:606060.0008', 'OMIM:610956.0006', 'OMIM:614949.0003', 'OMIM:179615.0021', 'OMIM:603200.0004', 'OMIM:141900.0442', 'OMIM:147020.0001', 'OMIM:612034.0005', 'OMIM:107680.0020', 'OMIM:607481.0005', 'OMIM:163890.0001', 'OMIM:602589.0002', 'OMIM:616386.0001', 'OMIM:602858.0012', 'OMIM:123695.0001', 'OMIM:138945.0005', 'OMIM:102575.0005', 'OMIM:600509.0027', 'OMIM:176943.0043', 'OMIM:610044.0003', 'OMIM:610178.0003', 'OMIM:609806.0039', 'OMIM:607585.0026', 'OMIM:602991.0016', 'OMIM:603254.0006', 'OMIM:601296.0003', 'OMIM:134797.0012', 'ClinVarVariant:970505', 'OMIM:180069.0010', 'OMIM:606048.0001', 'OMIM:120950.0002', 'OMIM:607542.0023', 'OMIM:608148.0006', 'OMIM:604584.0002', 'ClinVarVariant:262703', 'OMIM:602900.0004', 'OMIM:606158.0002', 'OMIM:159440.0028', 'OMIM:604593.0001', 'OMIM:120260.0004', 'OMIM:601255.0014', 'OMIM:110600.0001', 'OMIM:608416.0006', 'ClinVarVariant:447439', 'OMIM:604127.0001', 'OMIM:602421.0010', 'OMIM:300841.0128', 'OMIM:300611.0002', 'OMIM:180901.0040', 'dbSNP:rs11715896', 'OMIM:164761.0017', 'OMIM:604479.0001', 'OMIM:142910.0001', 'OMIM:601365.0002', 'OMIM:601688.0008', 'OMIM:136352.0013', 'OMIM:611570.0003', 'OMIM:613898.0001', 'dbSNP:rs4865875', 'ClinVarVariant:486806', 'OMIM:313700.0002', 'OMIM:601615.0002', 'OMIM:157140.0010', 'OMIM:300697.0004', 'OMIM:141900.0339', 'OMIM:612971.0007', 'OMIM:614232.0006', 'OMIM:613629.0003', 'OMIM:600046.0004', 'OMIM:601119.0001', 'OMIM:607542.0040', 'ClinVarVariant:374263', 'OMIM:607027.0001', 'OMIM:616013.0001', 'OMIM:608706.0006', 'OMIM:603184.0005', 'OMIM:606945.0046', 'OMIM:602118.0003', 'OMIM:157147.0004', 'OMIM:182889.0002', 'OMIM:601691.0025', 'OMIM:607585.0023', 'OMIM:614998.0004', 'OMIM:614386.0004', 'OMIM:609802.0004', 'OMIM:191315.0002', 'OMIM:308380.0011', 'OMIM:610745.0003', 'OMIM:606869.0043', 'OMIM:176830.0003', 'OMIM:300392.0013', 'ClinVarVariant:371163', 'OMIM:300188.0004', 'OMIM:610608.0004', 'OMIM:137150.0005', 'OMIM:600053.0010', 'OMIM:606201.0019', 'OMIM:603409.0002', 'OMIM:606725.0001', 'OMIM:604649.0001', 'OMIM:616663.0004', 'OMIM:150330.0007', 'OMIM:604819.0003', 'OMIM:300658.0014', 'OMIM:610285.0010', 'OMIM:114020.0007', 'OMIM:138090.0002', 'OMIM:155760.0003', 'OMIM:603337.0007', 'OMIM:608897.0009', 'OMIM:141900.0352', 'OMIM:609708.0019', 'OMIM:114131.0001', 'OMIM:606202.0005', 'OMIM:141900.0135', 'OMIM:137960.0010', 'OMIM:600529.0006', 'OMIM:610933.0001', 'ClinVarVariant:947252', 'OMIM:600543.0002', 'OMIM:137780.0012', 'OMIM:301300.0013', 'OMIM:134797.0031', 'OMIM:120130.0015', 'dbSNP:rs2758596', 'ClinVarVariant:13667', 'OMIM:601465.0015', 'OMIM:190230.0001', 'OMIM:603234.0027', 'OMIM:606584.0009', 'OMIM:614366.0005', 'OMIM:603123.0007', 'OMIM:124030.0004', 'OMIM:613900.0004', 'OMIM:141900.0102', 'OMIM:602291.0004', 'OMIM:608628.0007', 'OMIM:611549.0004', 'OMIM:176943.0019', 'OMIM:516000.0007', 'OMIM:611496.0001', 'OMIM:134850.0013', 'OMIM:618455.0001', 'OMIM:107400.0029', 'OMIM:614506.0003', 'OMIM:150341.0001', 'OMIM:600354.0010', 'ClinVarVariant:242497', 'OMIM:180901.0027', 'OMIM:603690.0003', 'OMIM:604910.0001', 'OMIM:604580.0010', 'OMIM:609712.0012', 'OMIM:611290.0003', 'OMIM:613165.0016', 'dbSNP:rs13390159', 'OMIM:612931.0004', 'OMIM:138470.0007', 'OMIM:602412.0002', 'OMIM:178640.0004', 'OMIM:607623.0018', 'OMIM:142410.0016', 'ClinVarVariant:599052', 'OMIM:600463.0004', 'OMIM:104311.0037', 'OMIM:156225.0014', 'OMIM:173880.0001', 'OMIM:613437.0006', 'OMIM:607568.0004', 'dbSNP:rs6698365', 'OMIM:150292.0007', 'OMIM:191350.0008', 'OMIM:601428.0017', 'OMIM:604902.0002', 'OMIM:161650.0002', 'dbSNP:rs58906513', 'ClinVarVariant:419505', 'OMIM:612799.0007', 'OMIM:608034.0007', 'OMIM:606869.0017', 'OMIM:121011.0004', 'OMIM:602703.0005', 'OMIM:613522.0001', 'OMIM:607306.0007', 'OMIM:602716.0006', 'OMIM:311850.0019', 'OMIM:185470.0013', 'OMIM:602337.0005', 'OMIM:300746.0043', 'dbSNP:rs2793086', 'OMIM:604773.0001', 'OMIM:602397.0003', 'OMIM:300524.0003', 'OMIM:609584.0003', 'OMIM:608755.0005', 'OMIM:305371.0008', 'OMIM:619109.0002', 'OMIM:607984.0003', 'OMIM:608512.0001', 'OMIM:607854.0005', 'OMIM:300203.0009', 'OMIM:610513.0006', 'OMIM:188250.0008', 'OMIM:605294.0003', 'OMIM:615115.0007', 'OMIM:606890.0004', 'OMIM:612349.0013', 'OMIM:134580.0001', 'OMIM:607521.0003', 'OMIM:139250.0003', 'OMIM:600037.0012', 'OMIM:616102.0001', 'OMIM:612349.0003', 'OMIM:607070.0005', 'OMIM:610937.0004', 'OMIM:617387.0002', 'OMIM:121011.0020', 'OMIM:605237.0002', 'OMIM:171760.0023', 'OMIM:606272.0017', 'OMIM:605998.0004', 'OMIM:601691.0007', 'OMIM:162332.0003', 'ClinVarVariant:565960', 'OMIM:608272.0007', 'OMIM:606882.0023', 'OMIM:612395.0001', 'OMIM:612014.0002', 'OMIM:139320.0011', 'OMIM:613878.0008', 'OMIM:125647.0006', 'OMIM:102545.0007', 'OMIM:601460.0007', 'OMIM:614336.0001', 'ClinVarVariant:242676', 'OMIM:603381.0002', 'OMIM:604910.0003', 'OMIM:120250.0004', 'dbSNP:rs146690225', 'OMIM:600827.0013', 'OMIM:191045.0012', 'OMIM:609577.0003', 'OMIM:141900.0019', 'OMIM:603623.0005', 'OMIM:614452.0003', 'OMIM:600073.0003', 'OMIM:604878.0004', 'OMIM:610528.0001', 'OMIM:300401.0012', 'OMIM:618146.0003', 'OMIM:612647.0003', 'OMIM:609332.0014', 'OMIM:603220.0005', 'OMIM:605610.0009', 'OMIM:109270.0029', 'OMIM:120290.0008', 'OMIM:612192.0002', 'OMIM:613121.0001', 'ClinVarVariant:226246', 'OMIM:120150.0053', 'OMIM:603734.0002', 'OMIM:103600.0023', 'OMIM:103600.0042', 'OMIM:600160.0010', 'OMIM:300017.0004', 'OMIM:618735.0006', 'ClinVarVariant:7830', 'OMIM:605239.0002', 'OMIM:603465.0009', 'OMIM:602678.0001', 'OMIM:605267.0003', 'OMIM:152790.0006', 'OMIM:605706.0004', 'OMIM:107300.0050', 'OMIM:601664.0001', 'OMIM:600957.0001', 'OMIM:609520.0009', 'OMIM:137295.0012', 'OMIM:603892.0007', 'OMIM:608210.0003', 'OMIM:617083.0001', 'OMIM:607542.0001', 'OMIM:103950.0006', 'ClinVarVariant:536546', 'OMIM:264900.0002', 'OMIM:172490.0002', 'OMIM:607623.0019', 'OMIM:609523.0005', 'OMIM:141900.0464', 'OMIM:602235.0010', 'dbSNP:rs2519974', 'OMIM:610083.0001', 'OMIM:606200.0002', 'OMIM:602194.0004', 'OMIM:611542.0012', 'OMIM:605829.0001', 'OMIM:604766.0001', 'OMIM:124080.0001', 'OMIM:120220.0010', 'OMIM:300037.0003', 'OMIM:610192.0002', 'OMIM:176871.0004', 'OMIM:601968.0002', 'ClinVarVariant:27343', 'OMIM:609607.0006', 'OMIM:607761.0003', 'OMIM:179605.0010', 'OMIM:176300.0005', 'OMIM:602661.0009', 'OMIM:604270.0004', 'OMIM:590055.0002', 'OMIM:600160.0019', 'OMIM:103950.0001', 'OMIM:159440.0022', 'OMIM:609948.0001', 'OMIM:300017.0017', 'OMIM:114020.0009', 'OMIM:185470.0024', 'OMIM:600065.0012', 'dbSNP:rs10995485', 'OMIM:604322.0002', 'OMIM:600650.0008', 'OMIM:120150.0069', 'OMIM:605111.0002', 'ClinVarVariant:209086', 'OMIM:607002.0003', 'OMIM:164920.0011', 'ClinVarVariant:242511', 'OMIM:601199.0054', 'OMIM:173515.0004', 'OMIM:608435.0002', 'OMIM:601881.0003', 'OMIM:609449.0001', 'dbSNP:rs4712006', 'OMIM:608508.0002', 'OMIM:608753.0001', 'OMIM:608547.0001', 'OMIM:608533.0001', 'OMIM:615584.0003', 'OMIM:607082.0004', 'OMIM:601843.0002', 'OMIM:613350.0005', 'OMIM:602696.0002', 'OMIM:611211.0002', 'OMIM:601653.0012', 'OMIM:602346.0004', 'OMIM:606652.0002', 'dbSNP:rs80170476', 'OMIM:600722.0008', 'OMIM:305900.0013', 'OMIM:605880.0011', 'OMIM:603835.0003', 'OMIM:600232.0005', 'OMIM:600173.0005', 'OMIM:603196.0005', 'dbSNP:rs4392868', 'OMIM:617579.0003', 'OMIM:601717.0006', 'OMIM:602241.0005', 'OMIM:606761.0007', 'dbSNP:rs4766152', 'OMIM:612911.0002', 'OMIM:603799.0007', 'OMIM:617424.0001', 'OMIM:600555.0020', 'OMIM:610624.0005', 'OMIM:191523.0002', 'OMIM:607939.0013', 'OMIM:613580.0001', 'OMIM:612014.0003', 'OMIM:619129.0005', 'OMIM:300841.0065', 'OMIM:102630.0008', 'dbSNP:rs1277731', 'OMIM:607904.0003', 'ClinVarVariant:468684', 'OMIM:142600.0008', 'OMIM:613858.0009', 'OMIM:600871.0001', 'OMIM:134797.0040', 'OMIM:300278.0004', 'OMIM:606879.0001', 'OMIM:607860.0001', 'OMIM:608723.0002', 'OMIM:605519.0002', 'OMIM:602690.0024', 'OMIM:606268.0002', 'OMIM:609712.0005', 'OMIM:300841.0265', 'OMIM:304040.0004', 'OMIM:601825.0002', 'OMIM:614506.0011', 'OMIM:605673.0002', 'OMIM:600236.0007', 'OMIM:611170.0004', 'OMIM:609653.0001', 'OMIM:603333.0003', 'OMIM:609825.0008', 'OMIM:191044.0016', 'dbSNP:rs73200114', 'OMIM:605880.0001', 'OMIM:605646.0005', 'OMIM:134660.0001', 'OMIM:606936.0001', 'OMIM:138945.0001', 'OMIM:120470.0011', 'OMIM:190195.0036', 'OMIM:604134.0006', 'ClinVarVariant:982530', 'OMIM:602666.0001', 'OMIM:146738.0005', 'OMIM:618461.0003', 'OMIM:607585.0004', 'OMIM:190070.0003', 'OMIM:607407.0009', 'OMIM:603357.0002', 'OMIM:602713.0003', 'OMIM:616506.0001', 'OMIM:602377.0003', 'OMIM:602427.0006', 'OMIM:604982.0003', 'OMIM:615951.0001', 'OMIM:604546.0004', 'OMIM:612944.0006', 'OMIM:605775.0011', 'OMIM:611428.0005', 'ClinVarVariant:947969', 'OMIM:613899.0004', 'OMIM:602023.0011', 'OMIM:146770.0001', 'OMIM:600678.0009', 'OMIM:600129.0004', 'OMIM:134797.0023', 'OMIM:155541.0007', 'OMIM:300377.0063', 'OMIM:190020.0009', 'OMIM:607246.0001', 'OMIM:146929.0001', 'OMIM:123580.0002', 'OMIM:604386.0010', 'OMIM:192150.0002', 'OMIM:616012.0001', 'OMIM:605755.0001', 'OMIM:602432.0008', 'OMIM:112264.0005', 'OMIM:607423.0007', 'OMIM:606636.0005', 'OMIM:600429.0005', 'OMIM:601105.0005', 'OMIM:603464.0003', 'OMIM:603605.0002', 'OMIM:610107.0006', 'OMIM:600144.0001', 'OMIM:300453.0001', 'OMIM:601314.0001', 'OMIM:146770.0002', 'OMIM:608512.0005', 'OMIM:604134.0024', 'OMIM:601688.0005', 'OMIM:613012.0001', 'OMIM:602235.0013', 'OMIM:606765.0011', 'OMIM:120120.0028', 'OMIM:177046.0002', 'OMIM:118423.0003', 'OMIM:116806.0024', 'OMIM:172480.0002', 'OMIM:615850.0002', 'OMIM:276903.0018', 'OMIM:609471.0005', 'OMIM:164840.0006', 'OMIM:611731.0018', 'OMIM:300163.0018', 'OMIM:606633.0001', 'OMIM:607939.0001', 'OMIM:610627.0004', 'OMIM:607800.0004', 'OMIM:603716.0003', 'OMIM:612277.0001', 'dbSNP:rs17130142', 'OMIM:301027.0001', 'dbSNP:rs11255043', 'OMIM:603593.0009', 'OMIM:191045.0009', 'OMIM:607490.0002', 'OMIM:602858.0022', 'OMIM:120260.0003', 'OMIM:607159.0006', 'OMIM:605489.0002', 'OMIM:600985.0005', 'OMIM:607461.0006', 'OMIM:612870.0006', 'OMIM:174762.0002', 'OMIM:605579.0001', 'OMIM:609712.0006', 'ClinVarVariant:19338', 'OMIM:614258.0004', 'OMIM:114220.0003', 'OMIM:602981.0001', 'OMIM:601428.0005', 'OMIM:607788.0002', 'OMIM:610345.0006', 'OMIM:613984.0002', 'OMIM:603015.0004', 'OMIM:613715.0002', 'OMIM:607604.0003', 'OMIM:611499.0005', 'OMIM:120120.0031', 'OMIM:609702.0002', 'OMIM:300841.0219', 'OMIM:191315.0012', 'OMIM:607604.0005', 'OMIM:615068.0001', 'OMIM:611295.0002', 'OMIM:608210.0010', 'OMIM:191525.0004', 'OMIM:604581.0002', 'OMIM:152790.0028', 'OMIM:606410.0006', 'OMIM:180901.0032', 'OMIM:607139.0002', 'OMIM:164761.0053', 'OMIM:603214.0002', 'OMIM:300651.0004', 'OMIM:611146.0001', 'OMIM:604272.0005', 'OMIM:179605.0012', 'OMIM:102610.0004', 'dbSNP:rs16977635', 'OMIM:612878.0001', 'OMIM:608707.0004', 'OMIM:607968.0002', 'OMIM:616327.0003', 'OMIM:107741.0031', 'OMIM:248610.0012', 'OMIM:609588.0006', 'dbSNP:rs564816', 'OMIM:606036.0001', 'OMIM:611119.0006', 'OMIM:248610.0006', 'OMIM:602241.0004', 'OMIM:601592.0006', 'OMIM:300017.0010', 'OMIM:191315.0001', 'OMIM:613072.0001', 'OMIM:605754.0004', 'OMIM:602000.0002', 'OMIM:112262.0005', 'OMIM:604283.0005', 'OMIM:611731.0028', 'dbSNP:rs2483519', 'OMIM:300248.0003', 'OMIM:107400.0017', 'ClinVarVariant:468692', 'OMIM:617112.0001', 'OMIM:142250.0045', 'OMIM:164761.0033', 'OMIM:615667.0002', 'OMIM:600958.0021', 'OMIM:134934.0032', 'OMIM:600310.0015', 'OMIM:138850.0002', 'OMIM:606522.0001', 'OMIM:605925.0009', 'OMIM:609010.0003', 'OMIM:137780.0003', 'OMIM:606781.0002', 'OMIM:107400.0018', 'OMIM:608723.0001', 'OMIM:607206.0005', 'OMIM:607108.0008', 'OMIM:600747.0001', 'OMIM:600650.0016', 'OMIM:601844.0004', 'OMIM:606439.0004', 'OMIM:141800.0009', 'OMIM:311770.0013', 'OMIM:608214.0004', 'OMIM:605908.0009', 'OMIM:300841.0104', 'OMIM:190195.0007', 'OMIM:600909.0007', 'OMIM:105590.0001', 'OMIM:608755.0004', 'OMIM:616432.0003', 'OMIM:172460.0006', 'OMIM:107400.0008', 'OMIM:126650.0004', 'OMIM:618299.0001', 'OMIM:604095.0007', 'OMIM:600234.0003', 'OMIM:107680.0017', 'OMIM:607929.0010', 'OMIM:300502.0013', 'OMIM:608668.0001', 'OMIM:605706.0005', 'OMIM:606463.0035', 'OMIM:612732.0007', 'OMIM:607999.0001', 'OMIM:613583.0004', 'ClinVarVariant:944445', 'OMIM:141800.0115', 'OMIM:609661.0003', 'OMIM:610572.0005', 'OMIM:141900.0018', 'OMIM:168468.0009', 'OMIM:190195.0004', 'OMIM:611060.0002', 'OMIM:606045.0001', 'OMIM:601119.0004', 'OMIM:604365.0002', 'OMIM:605257.0001', 'OMIM:165240.0012', 'OMIM:604912.0001', 'OMIM:612349.0017', 'OMIM:160760.0034', 'OMIM:176640.0001', 'OMIM:609845.0006', 'ClinVarVariant:375321', 'OMIM:176930.0010', 'OMIM:603324.0002', 'OMIM:613896.0001', 'OMIM:120180.0008', 'OMIM:601691.0027', 'OMIM:608517.0001', 'OMIM:614888.0005', 'OMIM:120160.0017', 'OMIM:612309.0011', 'OMIM:300248.0011', 'OMIM:600229.0001', 'OMIM:607955.0007', 'OMIM:604194.0003', 'ClinVarVariant:262710', 'OMIM:605725.0007', 'OMIM:107400.0016', 'OMIM:611184.0003', 'OMIM:611023.0003', 'OMIM:300382.0007', 'OMIM:141900.0030', 'OMIM:300294.0002', 'OMIM:164050.0006', 'OMIM:142000.0001', 'OMIM:607574.0022', 'OMIM:300747.0002', 'OMIM:604569.0005', 'OMIM:176730.0014', 'OMIM:152790.0002', 'OMIM:613111.0015', 'OMIM:606951.0009', 'OMIM:300294.0001', 'OMIM:141800.0023', 'OMIM:124030.0006', 'OMIM:300392.0025', 'OMIM:603503.0005', 'dbSNP:rs3112629', 'OMIM:613018.0004', 'OMIM:615494.0001', 'OMIM:191190.0004', 'OMIM:102620.0003', 'OMIM:147796.0003', 'OMIM:613469.0001', 'OMIM:141900.0224', 'OMIM:613401.0003', 'OMIM:604889.0001', 'OMIM:176930.0006', 'OMIM:614591.0004', 'dbSNP:rs10468280', 'OMIM:601538.0007', 'OMIM:600528.0011', 'OMIM:611060.0001', 'OMIM:134820.0011', 'OMIM:601192.0005', 'OMIM:603234.0021', 'OMIM:516001.0002', 'OMIM:604933.0006', 'OMIM:606682.0009', 'OMIM:107741.0012', 'OMIM:608977.0002', 'dbSNP:rs7211375', 'OMIM:609309.0001', 'OMIM:607878.0006', 'OMIM:609059.0008', 'OMIM:605202.0003', 'OMIM:120240.0012', 'dbSNP:rs873259', 'OMIM:606706.0005', 'OMIM:608272.0002', 'OMIM:605248.0006', 'OMIM:602748.0003', 'OMIM:612003.0004', 'OMIM:618994.0005', 'OMIM:602667.0010', 'ClinVarVariant:654107', 'ClinVarVariant:572285', 'OMIM:141250.0002', 'OMIM:614297.0005', 'OMIM:606847.0003', 'OMIM:606582.0004', 'OMIM:612773.0003', 'OMIM:616650.0002', 'OMIM:300248.0005', 'OMIM:617608.0001', 'OMIM:614144.0002', 'OMIM:606941.0003', 'OMIM:603506.0008', 'OMIM:603273.0006', 'dbSNP:rs9302841', 'OMIM:612719.0007', 'OMIM:601843.0007', 'OMIM:184429.0012', 'OMIM:609058.0005', 'OMIM:603234.0005', 'OMIM:164761.0045', 'OMIM:604436.0004', 'OMIM:604580.0004', 'OMIM:155760.0012', 'OMIM:600856.0004', 'OMIM:606829.0002', 'OMIM:607623.0014', 'dbSNP:rs9558996', 'OMIM:167411.0003', 'OMIM:171760.0019', 'OMIM:148069.0012', 'OMIM:618163.0001', 'ClinVarVariant:38451', 'OMIM:612283.0004', 'OMIM:120150.0070', 'OMIM:172400.0009', 'OMIM:102600.0008', 'ClinVarVariant:815787', 'dbSNP:rs149131629', 'OMIM:300294.0009', 'OMIM:606833.0005', 'dbSNP:rs3781545', 'OMIM:603309.0003', 'OMIM:131222.0007', 'OMIM:147556.0001', 'OMIM:613521.0009', 'OMIM:607574.0013', 'OMIM:182309.0003', 'OMIM:114025.0001', 'OMIM:605829.0002', 'OMIM:114105.0002', 'OMIM:191170.0036', 'OMIM:607393.0014', 'OMIM:164840.0005', 'OMIM:147370.0007', 'OMIM:134820.0025', 'OMIM:604197.0002', 'OMIM:602783.0004', 'OMIM:618181.0001', 'OMIM:238300.0003', 'OMIM:606596.0015', 'OMIM:151385.0003', 'ClinVarVariant:242476', 'OMIM:606075.0004', 'OMIM:311870.0004', 'OMIM:147450.0031', 'OMIM:617371.0006', 'OMIM:615549.0002', 'OMIM:120180.0027', 'dbSNP:rs34623288', 'OMIM:603507.0004', 'OMIM:609721.0001', 'OMIM:613497.0006', 'OMIM:608414.0006', 'OMIM:179035.0009', 'ClinVarVariant:647980', 'OMIM:165360.0004', 'OMIM:300774.0003', 'ClinVarVariant:633814', 'OMIM:300658.0003', 'OMIM:605490.0004', 'OMIM:601763.0001', 'OMIM:600835.0001', 'OMIM:605512.0001', 'ClinVarVariant:242493', 'OMIM:617362.0008', 'OMIM:142830.0002', 'OMIM:600734.0007', 'OMIM:300036.0008', 'OMIM:603489.0001', 'OMIM:617083.0006', 'OMIM:611565.0003', 'OMIM:607955.0003', 'OMIM:608968.0004', 'OMIM:601743.0003', 'OMIM:612641.0001', 'OMIM:613293.0004', 'OMIM:613742.0014', 'ClinVarVariant:242674', 'OMIM:107400.0027', 'OMIM:190198.0009', 'OMIM:603377.0020', 'OMIM:300658.0011', 'OMIM:602783.0009', 'OMIM:609309.0025', 'OMIM:191010.0004', 'OMIM:607159.0001', 'OMIM:609806.0029', 'OMIM:611715.0006', 'OMIM:300036.0002', 'OMIM:610690.0003', 'OMIM:606807.0001', 'OMIM:601105.0003', 'OMIM:616899.0008', 'OMIM:600968.0005', 'OMIM:264900.0003', 'OMIM:300384.0007', 'OMIM:603708.0009', 'OMIM:607622.0001', 'OMIM:613386.0002', 'OMIM:606323.0008', 'OMIM:602869.0001', 'OMIM:604011.0002', 'OMIM:120130.0005', 'OMIM:300269.0003', 'OMIM:601719.0004', 'OMIM:602140.0001', 'OMIM:607008.0007', 'OMIM:601906.0001', 'OMIM:606933.0012', 'OMIM:125671.0009', 'OMIM:606597.0013', 'OMIM:300008.0004', 'OMIM:604649.0008', 'OMIM:600548.0006', 'OMIM:111700.0001', 'OMIM:603415.0013', 'OMIM:601863.0005', 'OMIM:120580.0002', 'OMIM:614574.0008', 'OMIM:604965.0001', 'OMIM:608378.0004', 'OMIM:182860.0009', 'OMIM:605514.0002', 'OMIM:611458.0003', 'ClinVarVariant:468663', 'OMIM:138492.0001', 'OMIM:190195.0006', 'OMIM:609883.0011', 'OMIM:300300.0046', 'OMIM:603029.0005', 'OMIM:604149.0010', 'OMIM:613940.0001', 'OMIM:616082.0001', 'OMIM:150330.0051', 'OMIM:171060.0003', 'OMIM:604857.0001', 'OMIM:118661.0002', 'OMIM:615291.0005', 'OMIM:190070.0025', 'OMIM:608313.0002', 'OMIM:590070.0004', 'OMIM:164005.0005', 'OMIM:300774.0001', 'OMIM:314690.0002', 'ClinVarVariant:216902', 'OMIM:608132.0004', 'OMIM:176300.0021', 'OMIM:611978.0001', 'OMIM:605978.0002', 'OMIM:300746.0010', 'OMIM:602421.0091', 'dbSNP:rs2133450', 'OMIM:606075.0008', 'OMIM:605035.0002', 'OMIM:608107.0007', 'OMIM:606463.0016', 'OMIM:300035.0007', 'OMIM:300394.0012', 'OMIM:616144.0009', 'OMIM:611693.0004', 'dbSNP:rs12240959', 'OMIM:141800.0035', 'OMIM:600726.0006', 'OMIM:605087.0006', 'OMIM:616768.0007', 'OMIM:603202.0002', 'OMIM:606323.0010', 'OMIM:109270.0006', 'OMIM:178640.0003', 'OMIM:618146.0004', 'OMIM:171900.0003', 'OMIM:607423.0010', 'OMIM:609014.0002', 'OMIM:601920.0014', 'OMIM:300017.0001', 'OMIM:606890.0006', 'dbSNP:rs149722479', 'OMIM:602091.0003', 'OMIM:611399.0001', 'OMIM:613602.0012', 'OMIM:148041.0001', 'OMIM:605427.0021', 'OMIM:601373.0009', 'OMIM:138150.0004', 'OMIM:603287.0001', 'OMIM:605706.0002', 'OMIM:615265.0001', 'OMIM:610624.0001', 'OMIM:600044.0002', 'OMIM:611911.0002', 'OMIM:606062.0004', 'OMIM:607875.0004', 'OMIM:300377.0038', 'OMIM:123101.0003', 'OMIM:606462.0007', 'dbSNP:rs9895585', 'OMIM:606350.0009', 'OMIM:602544.0001', 'OMIM:600584.0018', 'OMIM:608107.0021', 'OMIM:614982.0004', 'OMIM:610243.0001', 'OMIM:300231.0003', 'OMIM:300913.0009', 'OMIM:191315.0004', 'OMIM:613113.0032', 'OMIM:610308.0003', 'OMIM:300841.0146', 'ClinVarVariant:375323', 'OMIM:608111.0005', 'OMIM:125670.0001', 'OMIM:603474.0009', 'OMIM:607008.0005', 'OMIM:615843.0007', 'OMIM:608010.0001', 'OMIM:617579.0002', 'ClinVarVariant:26581', 'ClinVarVariant:75290', 'OMIM:602192.0001', 'OMIM:600778.0003', 'OMIM:606157.0004', 'OMIM:605290.0004', 'OMIM:248610.0003', 'OMIM:187270.0019', 'OMIM:603474.0005', 'OMIM:615684.0002', 'OMIM:605411.0004', 'OMIM:607465.0007', 'OMIM:607027.0003', 'OMIM:605522.0013', 'OMIM:120160.0042', 'OMIM:171760.0010', 'ClinVarVariant:234871', 'OMIM:606869.0022', 'OMIM:610107.0001', 'OMIM:611061.0009', 'OMIM:601498.0008', 'ClinVarVariant:959489', 'OMIM:617782.0010', 'OMIM:120120.0023', 'OMIM:171760.0012', 'OMIM:300644.0053', 'OMIM:123690.0008', 'OMIM:607407.0005', 'OMIM:609799.0011', 'OMIM:612121.0001', 'OMIM:300269.0005', 'OMIM:610206.0008', 'OMIM:191845.0014', 'OMIM:606725.0013', 'OMIM:605716.0001', 'OMIM:135600.0003', 'OMIM:613534.0001', 'OMIM:604297.0002', 'OMIM:190198.0008', 'OMIM:602690.0011', 'OMIM:603026.0002', 'OMIM:194648.0001', 'OMIM:300715.0004', 'OMIM:602859.0009', 'OMIM:603009.0020', 'OMIM:141900.0167', 'OMIM:607211.0003', 'OMIM:606582.0005', 'OMIM:147470.0007', 'OMIM:608300.0004', 'dbSNP:rs17169015', 'OMIM:603372.0009', 'OMIM:610453.0011', 'OMIM:300485.0003', 'OMIM:613741.0003', 'OMIM:173110.0003', 'OMIM:131242.0005', 'OMIM:191190.0012', 'OMIM:104311.0024', 'OMIM:613577.0004', 'OMIM:109270.0034', 'OMIM:300377.0005', 'OMIM:153622.0002', 'OMIM:605393.0002', 'OMIM:314990.0004', 'OMIM:601542.0008', 'OMIM:605205.0002', 'OMIM:137164.0006', 'OMIM:611908.0007', 'OMIM:107773.0005', 'OMIM:614631.0006', 'OMIM:608167.0002', 'OMIM:601500.0006', 'OMIM:601011.0008', 'OMIM:152790.0009', 'OMIM:611224.0002', 'OMIM:601758.0011', 'OMIM:613629.0006', 'OMIM:193065.0002', 'OMIM:603335.0004', 'OMIM:300300.0035', 'ClinVarVariant:647979', 'OMIM:608053.0002', 'ClinVarVariant:635468', 'OMIM:603707.0001', 'OMIM:600917.0001', 'OMIM:300808.0008', 'OMIM:611731.0004', 'OMIM:191170.0042', 'OMIM:607955.0006', 'OMIM:604122.0006', 'OMIM:608441.0011', 'OMIM:612283.0007', 'ClinVarVariant:863298', 'OMIM:300072.0002', 'OMIM:614571.0007', 'OMIM:121011.0035', 'OMIM:606463.0006', 'OMIM:141900.0213', 'OMIM:609342.0007', 'OMIM:600046.0013', 'OMIM:600678.0016', 'OMIM:305900.0026', 'OMIM:606439.0010', 'OMIM:617110.0004', 'OMIM:608945.0004', 'OMIM:137165.0002', 'OMIM:601617.0002', 'OMIM:177075.0003', 'OMIM:120150.0061', 'OMIM:600681.0004', 'OMIM:601570.0003', 'OMIM:120070.0007', 'OMIM:607929.0001', 'OMIM:605446.0005', 'OMIM:120140.0046', 'OMIM:104225.0003', 'OMIM:251170.0009', 'OMIM:601656.0003', 'OMIM:603197.0008', 'OMIM:138850.0001', 'OMIM:172100.0009', 'OMIM:300552.0004', 'OMIM:614574.0001', 'OMIM:157660.0001', 'OMIM:612280.0009', 'OMIM:305900.0019', 'OMIM:603201.0005', 'OMIM:605242.0013', 'ClinVarVariant:242590', 'OMIM:614215.0001', 'OMIM:190070.0027', 'OMIM:192132.0001', 'OMIM:102771.0001', 'OMIM:603033.0010', 'OMIM:300841.0032', 'OMIM:614631.0001', 'dbSNP:rs7534993', 'OMIM:617782.0011', 'OMIM:606635.0003', 'OMIM:608433.0006', 'OMIM:138040.0011', 'OMIM:300808.0003', 'OMIM:618227.0003', 'ClinVarVariant:20552', 'OMIM:611153.0002', 'OMIM:603499.0007', 'OMIM:110750.0004', 'OMIM:304040.0006', 'OMIM:609458.0006', 'OMIM:300248.0008', 'OMIM:608331.0002', 'OMIM:608272.0015', 'OMIM:606151.0016', 'OMIM:600555.0007', 'OMIM:601199.0033', 'ClinVarVariant:812587', 'OMIM:611647.0001', 'OMIM:603851.0008', 'OMIM:607038.0002', 'OMIM:601528.0001', 'ClinVarVariant:242673', 'OMIM:164785.0002', 'OMIM:610819.0004', 'OMIM:601107.0005', 'OMIM:167416.0011', 'OMIM:605984.0001', 'OMIM:102775.0001', 'OMIM:613597.0003', 'OMIM:600937.0012', 'OMIM:141850.0023', 'OMIM:600681.0001', 'OMIM:606945.0001', 'OMIM:608666.0009', 'OMIM:616585.0001', 'OMIM:603254.0004', 'OMIM:600439.0005', 'OMIM:605489.0005', 'OMIM:604175.0001', 'OMIM:602241.0001', 'OMIM:610316.0007', 'dbSNP:rs17054392', 'OMIM:615316.0007', 'OMIM:606416.0007', 'OMIM:609787.0006', 'OMIM:137164.0009', 'OMIM:606158.0018', 'OMIM:516004.0002', 'dbSNP:rs549476', 'OMIM:613583.0010', 'OMIM:115440.0005', 'OMIM:300292.0013', 'OMIM:300377.0069', 'OMIM:604110.0001', 'OMIM:614556.0011', 'OMIM:124089.0001', 'OMIM:603305.0001', 'OMIM:613816.0004', 'OMIM:590045.0001', 'OMIM:610060.0001', 'OMIM:608102.0008', 'OMIM:180380.0015', 'OMIM:607875.0007', 'OMIM:608801.0003', 'OMIM:613719.0002', 'OMIM:314850.0003', 'OMIM:609826.0001', 'ClinVarVariant:557058', 'OMIM:173110.0007', 'OMIM:608707.0002', 'OMIM:618227.0002', 'OMIM:606247.0006', 'OMIM:141900.0052', 'OMIM:141900.0478', 'OMIM:600300.0002', 'OMIM:603372.0017', 'OMIM:176980.0005', 'OMIM:180090.0003', 'OMIM:603681.0013', 'OMIM:601978.0002', 'OMIM:603164.0001', 'OMIM:606765.0001', 'OMIM:300248.0022', 'OMIM:606352.0006', 'OMIM:602322.0006', 'ClinVarVariant:6663', 'OMIM:561000.0001', 'OMIM:606989.0002', 'OMIM:608515.0001', 'OMIM:139350.0005', 'OMIM:300160.0008', 'OMIM:602228.0002', 'OMIM:300382.0017', 'OMIM:120280.0003', 'OMIM:604270.0005', 'OMIM:139396.0005', 'OMIM:125270.0001', 'OMIM:607999.0007', 'OMIM:142461.0010', 'OMIM:616846.0001', 'OMIM:604025.0004', 'OMIM:600470.0005', 'OMIM:601336.0002', 'OMIM:103600.0002', 'OMIM:130160.0019', 'OMIM:612014.0008', 'OMIM:603503.0007', 'OMIM:164780.0010', 'OMIM:608517.0003', 'OMIM:602671.0007', 'OMIM:605145.0001', 'OMIM:608990.0004', 'OMIM:611254.0001', 'OMIM:300841.0142', 'OMIM:167410.0002', 'OMIM:103220.0002', 'OMIM:609557.0003', 'OMIM:100720.0006', 'OMIM:602194.0009', 'OMIM:609302.0003', 'OMIM:606352.0011', 'OMIM:300121.0006', 'OMIM:606755.0003', 'OMIM:613899.0002', 'OMIM:610339.0002', 'OMIM:601756.0002', 'OMIM:148067.0008', 'OMIM:154950.0003', 'OMIM:300522.0008', 'OMIM:191845.0008', 'OMIM:141800.0150', 'OMIM:610206.0003', 'OMIM:611341.0003', 'OMIM:602302.0014', 'OMIM:615187.0001', 'OMIM:614232.0003', 'OMIM:610063.0004', 'ClinVarVariant:22203', 'OMIM:141800.0043', 'OMIM:600005.0003', 'OMIM:607340.0007', 'OMIM:604043.0001', 'OMIM:180297.0012', 'ClinVarVariant:35472', 'OMIM:134570.0007', 'OMIM:607878.0010', 'OMIM:167409.0010', 'OMIM:608841.0002', 'OMIM:604592.0006', 'OMIM:615762.0001', 'OMIM:606440.0003', 'OMIM:609413.0008', 'dbSNP:rs4236412', 'OMIM:182465.0005', 'OMIM:606570.0003', 'OMIM:605981.0005', 'OMIM:606754.0006', 'OMIM:300382.0001', 'OMIM:190080.0001', 'OMIM:610000.0001', 'OMIM:120180.0003', 'OMIM:311770.0004', 'ClinVarVariant:617554', 'OMIM:604579.0006', 'OMIM:606635.0004', 'OMIM:131340.0004', 'OMIM:104311.0033', 'OMIM:120215.0003', 'OMIM:608845.0007', 'ClinVarVariant:362632', 'OMIM:614829.0004', 'OMIM:603799.0001', 'OMIM:610598.0002', 'OMIM:300823.0005', 'OMIM:600019.0001', 'OMIM:600515.0003', 'OMIM:614556.0009', 'OMIM:602480.0002', 'OMIM:600837.0004', 'OMIM:182390.0008', 'OMIM:613733.0019', 'OMIM:120160.0054', 'OMIM:608125.0001', 'OMIM:602727.0001', 'OMIM:602272.0005', 'OMIM:601231.0006', 'OMIM:134830.0014', 'OMIM:176872.0008', 'dbSNP:rs620875', 'OMIM:607693.0004', 'OMIM:176763.0001', 'OMIM:191290.0008', 'OMIM:190220.0002', 'OMIM:602358.0001', 'OMIM:606967.0001', 'OMIM:126450.0001', 'ClinVarVariant:404166', 'OMIM:615620.0001', 'OMIM:300841.0049', 'OMIM:613168.0002', 'OMIM:603904.0002', 'OMIM:604846.0002', 'OMIM:120900.0006', 'OMIM:300391.0001', 'OMIM:604490.0006', 'OMIM:609300.0011', 'OMIM:614864.0001', 'OMIM:604105.0003', 'OMIM:305900.0041', 'OMIM:141900.0335', 'OMIM:614661.0004', 'OMIM:140100.0002', 'OMIM:614404.0002', 'OMIM:603967.0002', 'OMIM:605921.0002', 'OMIM:125660.0002', 'OMIM:603725.0003', 'OMIM:602660.0002', 'OMIM:138945.0013', 'OMIM:147265.0007', 'OMIM:615101.0001', 'dbSNP:rs870155', 'OMIM:612014.0007', 'OMIM:147557.0011', 'OMIM:300841.0050', 'OMIM:300610.0003', 'OMIM:601313.0007', 'OMIM:148066.0006', 'OMIM:600571.0003', 'OMIM:211100.0002', 'OMIM:604103.0003', 'OMIM:139380.0005', 'OMIM:610148.0004', 'OMIM:601627.0001', 'OMIM:141800.0147', 'OMIM:176300.0031', 'OMIM:608769.0011', 'OMIM:600163.0026', 'OMIM:604297.0003', 'OMIM:182350.0006', 'OMIM:604277.0017', 'OMIM:606976.0004', 'OMIM:164770.0009', 'dbSNP:rs12043492', 'OMIM:615416.0004', 'OMIM:590040.0001', 'OMIM:607102.0009', 'OMIM:125660.0014', 'OMIM:172460.0011', 'OMIM:607397.0006', 'OMIM:590080.0005', 'OMIM:609708.0001', 'OMIM:607915.0001', 'OMIM:300913.0003', 'OMIM:609891.0003', 'OMIM:609806.0009', 'OMIM:616105.0002', 'OMIM:601013.0005', 'OMIM:613230.0008', 'OMIM:604134.0009', 'OMIM:134370.0010', 'OMIM:604799.0002', 'OMIM:605239.0007', 'OMIM:217030.0001', 'OMIM:176801.0004', 'ClinVarVariant:28956', 'OMIM:138246.0001', 'dbSNP:rs4727963', 'OMIM:618016.0002', 'OMIM:603941.0001', 'OMIM:609239.0003', 'OMIM:613597.0004', 'OMIM:300371.0005', 'dbSNP:rs4937076', 'OMIM:602302.0008', 'OMIM:608815.0008', 'OMIM:609301.0005', 'OMIM:600928.0005', 'OMIM:609883.0012', 'OMIM:300300.0011', 'OMIM:607306.0006', 'OMIM:611119.0009', 'OMIM:134370.0012', 'OMIM:606214.0001', 'dbSNP:rs4507566', 'OMIM:133530.0016', 'OMIM:608736.0003', 'OMIM:612414.0001', 'OMIM:185250.0001', 'OMIM:603756.0006', 'OMIM:609397.0001', 'OMIM:176915.0003', 'OMIM:606821.0002', 'OMIM:110300.0002', 'OMIM:179615.0017', 'OMIM:608869.0004', 'OMIM:602120.0003', 'dbSNP:rs12230440', 'OMIM:123859.0004', 'ClinVarVariant:247522', 'OMIM:605237.0004', 'OMIM:607544.0003', 'OMIM:615370.0002', 'OMIM:602991.0015', 'OMIM:107400.0009', 'OMIM:603107.0007', 'OMIM:165230.0001', 'OMIM:602216.0020', 'OMIM:305900.0037', 'OMIM:601284.0001', 'OMIM:606636.0004', 'OMIM:603339.0003', 'OMIM:114205.0004', 'OMIM:191130.0001', 'OMIM:608680.0002', 'OMIM:177046.0001', 'dbSNP:rs77834246', 'OMIM:608313.0007', 'OMIM:607009.0001', 'OMIM:613109.0006', 'OMIM:614168.0002', 'OMIM:607120.0001', 'OMIM:605353.0003', 'ClinVarVariant:209085', 'OMIM:602120.0005', 'OMIM:161650.0004', 'OMIM:300746.0104', 'OMIM:607545.0002', 'OMIM:615521.0005', 'OMIM:603273.0005', 'OMIM:606933.0033', 'OMIM:606238.0003', 'OMIM:600799.0027', 'OMIM:601309.0002', 'OMIM:114078.0001', 'OMIM:600011.0001', 'OMIM:113811.0016', 'OMIM:300382.0006', 'OMIM:609884.0003', 'OMIM:600150.0001', 'OMIM:160720.0003', 'OMIM:300172.0005', 'dbSNP:rs1368652', 'OMIM:120360.0001', 'OMIM:603914.0001', 'OMIM:616661.0001', 'OMIM:300032.0019', 'OMIM:608552.0005', 'OMIM:608668.0002', 'OMIM:604934.0001', 'OMIM:602690.0031', 'OMIM:605522.0005', 'OMIM:601465.0013', 'OMIM:601190.0002', 'OMIM:611801.0001', 'OMIM:605286.0002', 'OMIM:147670.0024', 'OMIM:601656.0007', 'OMIM:124015.0001', 'OMIM:600681.0005', 'OMIM:160777.0002', 'OMIM:600281.0005', 'OMIM:609280.0004', 'OMIM:608869.0002', 'OMIM:617631.0002', 'ClinVarVariant:200559', 'OMIM:131195.0004', 'OMIM:610404.0001', 'OMIM:137167.0007', 'OMIM:606119.0008', 'OMIM:600946.0025', 'OMIM:606201.0032', 'OMIM:602378.0003', 'OMIM:300005.0009', 'OMIM:114010.0004', 'OMIM:612222.0012', 'OMIM:150100.0002', 'OMIM:173110.0008', 'dbSNP:rs34970912', 'OMIM:173335.0001', 'OMIM:609721.0002', 'OMIM:606869.0056', 'OMIM:612803.0002', 'OMIM:168468.0014', 'OMIM:602690.0009', 'OMIM:612911.0001', 'OMIM:182381.0001', 'OMIM:604649.0003', 'OMIM:606945.0052', 'OMIM:126375.0005', 'OMIM:603453.0002', 'OMIM:611592.0005', 'OMIM:607809.0004', 'OMIM:138140.0010', 'OMIM:609787.0002', 'OMIM:300841.0269', 'OMIM:605032.0001', 'OMIM:123970.0002', 'OMIM:606229.0006', 'ClinVarVariant:430342', 'OMIM:152427.0020', 'ClinVarVariant:554557', 'OMIM:607481.0001', 'OMIM:610523.0002', 'OMIM:603305.0006', 'OMIM:601097.0009', 'OMIM:604558.0001', 'OMIM:116806.0018', 'OMIM:606478.0007', 'OMIM:617559.0002', 'OMIM:600761.0004', 'OMIM:600415.0005', 'OMIM:602337.0002', 'OMIM:615585.0006', 'OMIM:121013.0003', 'OMIM:604918.0001', 'OMIM:600958.0022', 'OMIM:608501.0001', 'dbSNP:rs11009651', 'OMIM:607985.0002', 'OMIM:109270.0004', 'OMIM:604260.0003', 'dbSNP:rs16914670', 'OMIM:300841.0187', 'OMIM:143450.0008', 'OMIM:602023.0001', 'OMIM:608713.0001', 'OMIM:120160.0009', 'OMIM:607057.0002', 'OMIM:604402.0004', 'OMIM:191740.0013', 'OMIM:604123.0003', 'OMIM:300646.0005', 'OMIM:303630.0013', 'OMIM:607211.0004', 'OMIM:148080.0009', 'OMIM:609708.0037', 'OMIM:604943.0001', 'OMIM:176300.0041', 'OMIM:600760.0002', 'OMIM:616815.0002', 'OMIM:609868.0001', 'OMIM:606462.0002', 'OMIM:192340.0018'}\n"
     ]
    }
   ],
   "source": [
    "# Overlap of variant IDs\n",
    "\n",
    "dis_variants = set(list(df_variant_disease[\"variant_id\"].unique()))\n",
    "gen_variants = set(list(df_variant_gene[\"variant_id\"].unique()))\n",
    "phe_variants = set(list(df_variant_phenotype[\"variant_id\"].unique()))\n",
    "\n",
    "print(\"Disease associated:\", len(dis_variants), \"Gene associated:\", len(gen_variants), \"Phenotype associated:\", len(phe_variants))\n",
    "\n",
    "print(\"Overlap between dis and gen:\", len(dis_variants.intersection(gen_variants)))\n",
    "print(\"Overlap between dis and phe:\", len(dis_variants.intersection(phe_variants)))\n",
    "print(\"Overlap between gen and phe:\", len(gen_variants.intersection(phe_variants)))\n",
    "\n",
    "print(\"Overlap between gen and phe+dis:\", len(gen_variants.intersection(phe_variants.union(dis_variants))))\n",
    "\n",
    "print(gen_variants.difference(phe_variants.union(dis_variants)))"
   ]
  },
  {
   "cell_type": "markdown",
   "metadata": {
    "heading_collapsed": true
   },
   "source": [
    "# Converting databases into graph edges"
   ]
  },
  {
   "cell_type": "code",
   "execution_count": 7,
   "metadata": {
    "ExecuteTime": {
     "end_time": "2021-08-06T12:17:59.008491Z",
     "start_time": "2021-08-06T12:17:58.909175Z"
    },
    "hidden": true
   },
   "outputs": [],
   "source": [
    "def clean_edges(df): \n",
    "    df = df.get(['relation', 'display_relation', 'x_id','x_type', 'x_name', 'x_source','y_id','y_type', 'y_name', 'y_source'])\n",
    "    df = df.dropna()\n",
    "    df = df.drop_duplicates()\n",
    "    df = df.query('not ((x_id == y_id) and (x_type == y_type) and (x_source == y_source) and (x_name == y_name))')\n",
    "    return df"
   ]
  },
  {
   "cell_type": "markdown",
   "metadata": {
    "hidden": true
   },
   "source": [
    "## Basic"
   ]
  },
  {
   "cell_type": "markdown",
   "metadata": {
    "hidden": true
   },
   "source": [
    "### Protein protein interactions (NCBI)"
   ]
  },
  {
   "cell_type": "code",
   "execution_count": 8,
   "metadata": {
    "ExecuteTime": {
     "end_time": "2021-08-06T12:18:00.653072Z",
     "start_time": "2021-08-06T12:17:59.013365Z"
    },
    "hidden": true
   },
   "outputs": [
    {
     "data": {
      "text/html": [
       "<div>\n",
       "<style scoped>\n",
       "    .dataframe tbody tr th:only-of-type {\n",
       "        vertical-align: middle;\n",
       "    }\n",
       "\n",
       "    .dataframe tbody tr th {\n",
       "        vertical-align: top;\n",
       "    }\n",
       "\n",
       "    .dataframe thead th {\n",
       "        text-align: right;\n",
       "    }\n",
       "</style>\n",
       "<table border=\"1\" class=\"dataframe\">\n",
       "  <thead>\n",
       "    <tr style=\"text-align: right;\">\n",
       "      <th></th>\n",
       "      <th>relation</th>\n",
       "      <th>display_relation</th>\n",
       "      <th>x_id</th>\n",
       "      <th>x_type</th>\n",
       "      <th>x_name</th>\n",
       "      <th>x_source</th>\n",
       "      <th>y_id</th>\n",
       "      <th>y_type</th>\n",
       "      <th>y_name</th>\n",
       "      <th>y_source</th>\n",
       "    </tr>\n",
       "  </thead>\n",
       "  <tbody>\n",
       "    <tr>\n",
       "      <th>0</th>\n",
       "      <td>protein_protein</td>\n",
       "      <td>ppi</td>\n",
       "      <td>9796</td>\n",
       "      <td>gene/protein</td>\n",
       "      <td>PHYHIP</td>\n",
       "      <td>NCBI</td>\n",
       "      <td>56992</td>\n",
       "      <td>gene/protein</td>\n",
       "      <td>KIF15</td>\n",
       "      <td>NCBI</td>\n",
       "    </tr>\n",
       "  </tbody>\n",
       "</table>\n",
       "</div>"
      ],
      "text/plain": [
       "          relation display_relation  x_id        x_type  x_name x_source  \\\n",
       "0  protein_protein              ppi  9796  gene/protein  PHYHIP     NCBI   \n",
       "\n",
       "    y_id        y_type y_name y_source  \n",
       "0  56992  gene/protein  KIF15     NCBI  "
      ]
     },
     "execution_count": 8,
     "metadata": {},
     "output_type": "execute_result"
    }
   ],
   "source": [
    "df_prot_prot = pd.merge(df_ppi, df_prot_names, 'left', left_on='proteinA_entrezid', right_on='ncbi_id').rename(columns={'symbol':'symbolA'})\n",
    "df_prot_prot = pd.merge(df_prot_prot, df_prot_names, 'left', left_on='proteinB_entrezid', right_on='ncbi_id').rename(columns={'symbol':'symbolB'})\n",
    "\n",
    "df_prot_prot = df_prot_prot.rename(columns={'proteinA_entrezid':'x_id', 'proteinB_entrezid':'y_id', 'symbolA':'x_name', 'symbolB':'y_name'})\n",
    "df_prot_prot['x_type'] = 'gene/protein'\n",
    "df_prot_prot['x_source'] = 'NCBI'\n",
    "df_prot_prot['y_type'] = 'gene/protein'\n",
    "df_prot_prot['y_source'] = 'NCBI'\n",
    "df_prot_prot['relation'] = 'protein_protein'\n",
    "df_prot_prot['display_relation'] = 'ppi'\n",
    "df_prot_prot = clean_edges(df_prot_prot)\n",
    "df_prot_prot.head(1)"
   ]
  },
  {
   "cell_type": "markdown",
   "metadata": {
    "hidden": true
   },
   "source": [
    "### Drug protein interactions (DrugBank)"
   ]
  },
  {
   "cell_type": "code",
   "execution_count": 9,
   "metadata": {
    "ExecuteTime": {
     "end_time": "2021-08-06T12:18:00.937639Z",
     "start_time": "2021-08-06T12:18:00.656244Z"
    },
    "hidden": true
   },
   "outputs": [
    {
     "data": {
      "text/html": [
       "<div>\n",
       "<style scoped>\n",
       "    .dataframe tbody tr th:only-of-type {\n",
       "        vertical-align: middle;\n",
       "    }\n",
       "\n",
       "    .dataframe tbody tr th {\n",
       "        vertical-align: top;\n",
       "    }\n",
       "\n",
       "    .dataframe thead th {\n",
       "        text-align: right;\n",
       "    }\n",
       "</style>\n",
       "<table border=\"1\" class=\"dataframe\">\n",
       "  <thead>\n",
       "    <tr style=\"text-align: right;\">\n",
       "      <th></th>\n",
       "      <th>relation</th>\n",
       "      <th>display_relation</th>\n",
       "      <th>x_id</th>\n",
       "      <th>x_type</th>\n",
       "      <th>x_name</th>\n",
       "      <th>x_source</th>\n",
       "      <th>y_id</th>\n",
       "      <th>y_type</th>\n",
       "      <th>y_name</th>\n",
       "      <th>y_source</th>\n",
       "    </tr>\n",
       "  </thead>\n",
       "  <tbody>\n",
       "    <tr>\n",
       "      <th>0</th>\n",
       "      <td>drug_protein</td>\n",
       "      <td>carrier</td>\n",
       "      <td>DB09130</td>\n",
       "      <td>drug</td>\n",
       "      <td>Copper</td>\n",
       "      <td>DrugBank</td>\n",
       "      <td>2157</td>\n",
       "      <td>gene/protein</td>\n",
       "      <td>F8</td>\n",
       "      <td>NCBI</td>\n",
       "    </tr>\n",
       "  </tbody>\n",
       "</table>\n",
       "</div>"
      ],
      "text/plain": [
       "       relation display_relation     x_id x_type  x_name  x_source  y_id  \\\n",
       "0  drug_protein          carrier  DB09130   drug  Copper  DrugBank  2157   \n",
       "\n",
       "         y_type y_name y_source  \n",
       "0  gene/protein     F8     NCBI  "
      ]
     },
     "execution_count": 9,
     "metadata": {},
     "output_type": "execute_result"
    }
   ],
   "source": [
    "df_prot_drug = pd.merge(df_drugbank, df_prot_names, 'left', left_on='NCBIGeneID', right_on='ncbi_id')\n",
    "\n",
    "df_prot_drug = df_prot_drug.rename(columns={'DrugBank':'x_id', 'NCBIGeneID':'y_id', 'DrugBankName':'x_name', 'symbol':'y_name'})\n",
    "df_prot_drug['x_type'] = 'drug'\n",
    "df_prot_drug['x_source'] = 'DrugBank'\n",
    "df_prot_drug['y_type'] = 'gene/protein'\n",
    "df_prot_drug['y_source'] = 'NCBI'\n",
    "df_prot_drug['display_relation'] = df_prot_drug.get('relation').values\n",
    "df_prot_drug['relation'] = 'drug_protein' # combine targets, carrier, enzyme and transporter\n",
    "df_prot_drug = clean_edges(df_prot_drug)\n",
    "df_prot_drug.head(1)"
   ]
  },
  {
   "cell_type": "markdown",
   "metadata": {
    "hidden": true
   },
   "source": [
    "### Drug disease interactions (DiseaseCentral) –– PENDING"
   ]
  },
  {
   "cell_type": "code",
   "execution_count": 10,
   "metadata": {
    "ExecuteTime": {
     "end_time": "2021-08-06T12:18:01.357506Z",
     "start_time": "2021-08-06T12:18:00.940724Z"
    },
    "hidden": true
   },
   "outputs": [
    {
     "data": {
      "text/html": [
       "<div>\n",
       "<style scoped>\n",
       "    .dataframe tbody tr th:only-of-type {\n",
       "        vertical-align: middle;\n",
       "    }\n",
       "\n",
       "    .dataframe tbody tr th {\n",
       "        vertical-align: top;\n",
       "    }\n",
       "\n",
       "    .dataframe thead th {\n",
       "        text-align: right;\n",
       "    }\n",
       "</style>\n",
       "<table border=\"1\" class=\"dataframe\">\n",
       "  <thead>\n",
       "    <tr style=\"text-align: right;\">\n",
       "      <th></th>\n",
       "      <th>relation</th>\n",
       "      <th>display_relation</th>\n",
       "      <th>x_id</th>\n",
       "      <th>x_type</th>\n",
       "      <th>x_name</th>\n",
       "      <th>x_source</th>\n",
       "      <th>y_id</th>\n",
       "      <th>y_type</th>\n",
       "      <th>y_name</th>\n",
       "      <th>y_source</th>\n",
       "    </tr>\n",
       "  </thead>\n",
       "  <tbody>\n",
       "    <tr>\n",
       "      <th>0</th>\n",
       "      <td>contraindication</td>\n",
       "      <td>contraindication</td>\n",
       "      <td>DB05271</td>\n",
       "      <td>drug</td>\n",
       "      <td>Rotigotine</td>\n",
       "      <td>DrugBank</td>\n",
       "      <td>5044</td>\n",
       "      <td>disease</td>\n",
       "      <td>hypertensive disorder</td>\n",
       "      <td>MONDO</td>\n",
       "    </tr>\n",
       "  </tbody>\n",
       "</table>\n",
       "</div>"
      ],
      "text/plain": [
       "           relation  display_relation     x_id x_type      x_name  x_source  \\\n",
       "0  contraindication  contraindication  DB05271   drug  Rotigotine  DrugBank   \n",
       "\n",
       "   y_id   y_type                 y_name y_source  \n",
       "0  5044  disease  hypertensive disorder    MONDO  "
      ]
     },
     "execution_count": 10,
     "metadata": {},
     "output_type": "execute_result"
    }
   ],
   "source": [
    "df_drug_dis = pd.merge(df_drug_central, db_vocab, 'left', left_on='cas_reg_no', right_on='CAS')\n",
    "df_drug_dis = pd.merge(df_drug_dis, df_umls_mondo, 'inner', left_on='umls_cui', right_on='umls_id')\n",
    "df_drug_dis = pd.merge(df_drug_dis, df_mondo_terms, 'left', left_on='mondo_id', right_on='id')\n",
    "\n",
    "df_drug_dis = df_drug_dis.get(['relationship_name','DrugBank ID', 'Common name', 'mondo_id', 'name'])\n",
    "df_drug_dis = df_drug_dis.dropna().drop_duplicates()\n",
    "\n",
    "df_drug_dis = df_drug_dis.rename(columns={'DrugBank ID':'x_id', 'mondo_id':'y_id', 'Common name':'x_name', 'name':'y_name', 'relationship_name':'relation'})\n",
    "df_drug_dis['x_type'] = 'drug'\n",
    "df_drug_dis['x_source'] = 'DrugBank'\n",
    "df_drug_dis['y_type'] = 'disease'\n",
    "df_drug_dis['y_source'] = 'MONDO'\n",
    "df_drug_dis['display_relation'] = df_drug_dis.get('relation').values\n",
    "df_drug_dis = clean_edges(df_drug_dis)\n",
    "df_drug_dis.head(1)"
   ]
  },
  {
   "cell_type": "markdown",
   "metadata": {
    "hidden": true
   },
   "source": [
    "### Disease protein interactions (DisGenNet)"
   ]
  },
  {
   "cell_type": "code",
   "execution_count": 11,
   "metadata": {
    "ExecuteTime": {
     "end_time": "2021-08-06T12:18:02.363099Z",
     "start_time": "2021-08-06T12:18:01.381960Z"
    },
    "hidden": true
   },
   "outputs": [
    {
     "data": {
      "text/html": [
       "<div>\n",
       "<style scoped>\n",
       "    .dataframe tbody tr th:only-of-type {\n",
       "        vertical-align: middle;\n",
       "    }\n",
       "\n",
       "    .dataframe tbody tr th {\n",
       "        vertical-align: top;\n",
       "    }\n",
       "\n",
       "    .dataframe thead th {\n",
       "        text-align: right;\n",
       "    }\n",
       "</style>\n",
       "<table border=\"1\" class=\"dataframe\">\n",
       "  <thead>\n",
       "    <tr style=\"text-align: right;\">\n",
       "      <th></th>\n",
       "      <th>relation</th>\n",
       "      <th>display_relation</th>\n",
       "      <th>x_id</th>\n",
       "      <th>x_type</th>\n",
       "      <th>x_name</th>\n",
       "      <th>x_source</th>\n",
       "      <th>y_id</th>\n",
       "      <th>y_type</th>\n",
       "      <th>y_name</th>\n",
       "      <th>y_source</th>\n",
       "    </tr>\n",
       "  </thead>\n",
       "  <tbody>\n",
       "    <tr>\n",
       "      <th>0</th>\n",
       "      <td>disease_protein</td>\n",
       "      <td>associated with</td>\n",
       "      <td>1</td>\n",
       "      <td>gene/protein</td>\n",
       "      <td>A1BG</td>\n",
       "      <td>NCBI</td>\n",
       "      <td>5090</td>\n",
       "      <td>disease</td>\n",
       "      <td>schizophrenia (disease)</td>\n",
       "      <td>MONDO</td>\n",
       "    </tr>\n",
       "  </tbody>\n",
       "</table>\n",
       "</div>"
      ],
      "text/plain": [
       "          relation display_relation x_id        x_type x_name x_source  y_id  \\\n",
       "0  disease_protein  associated with    1  gene/protein   A1BG     NCBI  5090   \n",
       "\n",
       "    y_type                   y_name y_source  \n",
       "0  disease  schizophrenia (disease)    MONDO  "
      ]
     },
     "execution_count": 11,
     "metadata": {},
     "output_type": "execute_result"
    }
   ],
   "source": [
    "df_prot_dis1 = df_disgenet.query('diseaseType==\"disease\"')\n",
    "\n",
    "df_prot_dis1 = pd.merge(df_prot_dis1, df_umls_mondo, 'inner', left_on='diseaseId', right_on='umls_id')\n",
    "df_prot_dis1 = pd.merge(df_prot_dis1, df_mondo_terms, 'left', left_on='mondo_id', right_on='id')\n",
    "\n",
    "df_prot_dis1 = df_prot_dis1.rename(columns={'geneId':'x_id', 'geneSymbol':'x_name', 'mondo_id':'y_id', 'name':'y_name'})\n",
    "df_prot_dis1['x_type'] = 'gene/protein'\n",
    "df_prot_dis1['x_source'] = 'NCBI'\n",
    "df_prot_dis1['y_type'] = 'disease'\n",
    "df_prot_dis1['y_source'] = 'MONDO'\n",
    "df_prot_dis1['relation'] = 'disease_protein'\n",
    "df_prot_dis1['display_relation'] = 'associated with'\n",
    "df_prot_dis1 = clean_edges(df_prot_dis1)\n",
    "df_prot_dis1.head(1)"
   ]
  },
  {
   "cell_type": "markdown",
   "metadata": {
    "hidden": true
   },
   "source": [
    "### Disease disease interations (MONDO)"
   ]
  },
  {
   "cell_type": "code",
   "execution_count": 12,
   "metadata": {
    "ExecuteTime": {
     "end_time": "2021-08-06T12:18:02.612068Z",
     "start_time": "2021-08-06T12:18:02.367422Z"
    },
    "hidden": true
   },
   "outputs": [
    {
     "data": {
      "text/html": [
       "<div>\n",
       "<style scoped>\n",
       "    .dataframe tbody tr th:only-of-type {\n",
       "        vertical-align: middle;\n",
       "    }\n",
       "\n",
       "    .dataframe tbody tr th {\n",
       "        vertical-align: top;\n",
       "    }\n",
       "\n",
       "    .dataframe thead th {\n",
       "        text-align: right;\n",
       "    }\n",
       "</style>\n",
       "<table border=\"1\" class=\"dataframe\">\n",
       "  <thead>\n",
       "    <tr style=\"text-align: right;\">\n",
       "      <th></th>\n",
       "      <th>relation</th>\n",
       "      <th>display_relation</th>\n",
       "      <th>x_id</th>\n",
       "      <th>x_type</th>\n",
       "      <th>x_name</th>\n",
       "      <th>x_source</th>\n",
       "      <th>y_id</th>\n",
       "      <th>y_type</th>\n",
       "      <th>y_name</th>\n",
       "      <th>y_source</th>\n",
       "    </tr>\n",
       "  </thead>\n",
       "  <tbody>\n",
       "    <tr>\n",
       "      <th>0</th>\n",
       "      <td>disease_disease</td>\n",
       "      <td>parent-child</td>\n",
       "      <td>2816</td>\n",
       "      <td>disease</td>\n",
       "      <td>adrenal cortex disease</td>\n",
       "      <td>MONDO</td>\n",
       "      <td>4</td>\n",
       "      <td>disease</td>\n",
       "      <td>adrenocortical insufficiency</td>\n",
       "      <td>MONDO</td>\n",
       "    </tr>\n",
       "  </tbody>\n",
       "</table>\n",
       "</div>"
      ],
      "text/plain": [
       "          relation display_relation  x_id   x_type                  x_name  \\\n",
       "0  disease_disease     parent-child  2816  disease  adrenal cortex disease   \n",
       "\n",
       "  x_source y_id   y_type                        y_name y_source  \n",
       "0    MONDO    4  disease  adrenocortical insufficiency    MONDO  "
      ]
     },
     "execution_count": 12,
     "metadata": {},
     "output_type": "execute_result"
    }
   ],
   "source": [
    "df_dis_dis1 = pd.merge(df_mondo_parents, df_mondo_terms, 'left', left_on='parent', right_on='id')\n",
    "df_dis_dis1 = df_dis_dis1.rename(columns={'parent':'x_id', 'name':'x_name'})\n",
    "df_dis_dis1 = pd.merge(df_dis_dis1, df_mondo_terms, 'left', left_on='child', right_on='id')\n",
    "df_dis_dis1 = df_dis_dis1.rename(columns={'child':'y_id', 'name':'y_name'})\n",
    "df_dis_dis1['x_type'] = 'disease'\n",
    "df_dis_dis1['x_source'] = 'MONDO'\n",
    "df_dis_dis1['y_type'] = 'disease'\n",
    "df_dis_dis1['y_source'] = 'MONDO'\n",
    "df_dis_dis1['relation'] = 'disease_disease'\n",
    "df_dis_dis1['display_relation'] = 'parent-child'\n",
    "df_dis_dis1 = clean_edges(df_dis_dis1)\n",
    "df_dis_dis1.head(1)"
   ]
  },
  {
   "cell_type": "markdown",
   "metadata": {
    "hidden": true
   },
   "source": [
    "### Drug drug interactions (DrugBank)"
   ]
  },
  {
   "cell_type": "code",
   "execution_count": 13,
   "metadata": {
    "ExecuteTime": {
     "end_time": "2021-08-06T12:18:15.697033Z",
     "start_time": "2021-08-06T12:18:02.616417Z"
    },
    "hidden": true
   },
   "outputs": [
    {
     "data": {
      "text/html": [
       "<div>\n",
       "<style scoped>\n",
       "    .dataframe tbody tr th:only-of-type {\n",
       "        vertical-align: middle;\n",
       "    }\n",
       "\n",
       "    .dataframe tbody tr th {\n",
       "        vertical-align: top;\n",
       "    }\n",
       "\n",
       "    .dataframe thead th {\n",
       "        text-align: right;\n",
       "    }\n",
       "</style>\n",
       "<table border=\"1\" class=\"dataframe\">\n",
       "  <thead>\n",
       "    <tr style=\"text-align: right;\">\n",
       "      <th></th>\n",
       "      <th>relation</th>\n",
       "      <th>display_relation</th>\n",
       "      <th>x_id</th>\n",
       "      <th>x_type</th>\n",
       "      <th>x_name</th>\n",
       "      <th>x_source</th>\n",
       "      <th>y_id</th>\n",
       "      <th>y_type</th>\n",
       "      <th>y_name</th>\n",
       "      <th>y_source</th>\n",
       "    </tr>\n",
       "  </thead>\n",
       "  <tbody>\n",
       "    <tr>\n",
       "      <th>0</th>\n",
       "      <td>drug_drug</td>\n",
       "      <td>synergistic interaction</td>\n",
       "      <td>DB00001</td>\n",
       "      <td>drug</td>\n",
       "      <td>Lepirudin</td>\n",
       "      <td>DrugBank</td>\n",
       "      <td>DB06605</td>\n",
       "      <td>drug</td>\n",
       "      <td>Apixaban</td>\n",
       "      <td>DrugBank</td>\n",
       "    </tr>\n",
       "  </tbody>\n",
       "</table>\n",
       "</div>"
      ],
      "text/plain": [
       "    relation         display_relation     x_id x_type     x_name  x_source  \\\n",
       "0  drug_drug  synergistic interaction  DB00001   drug  Lepirudin  DrugBank   \n",
       "\n",
       "      y_id y_type    y_name  y_source  \n",
       "0  DB06605   drug  Apixaban  DrugBank  "
      ]
     },
     "execution_count": 13,
     "metadata": {},
     "output_type": "execute_result"
    }
   ],
   "source": [
    "df_drug_drug = pd.merge(df_ddi, db_vocab, 'inner', left_on='drug1', right_on='DrugBank ID')\n",
    "df_drug_drug = df_drug_drug.rename(columns={'drug1':'x_id', 'Common name':'x_name'})\n",
    "df_drug_drug = pd.merge(df_drug_drug.astype({'drug2':'str'}), db_vocab, 'inner', left_on='drug2', right_on='DrugBank ID')\n",
    "df_drug_drug = df_drug_drug.rename(columns={'drug2':'y_id', 'Common name':'y_name'})\n",
    "df_drug_drug['x_type'] = 'drug'\n",
    "df_drug_drug['x_source'] = 'DrugBank'\n",
    "df_drug_drug['y_type'] = 'drug'\n",
    "df_drug_drug['y_source'] = 'DrugBank'\n",
    "df_drug_drug['relation'] = 'drug_drug'\n",
    "df_drug_drug['display_relation'] = 'synergistic interaction'\n",
    "df_drug_drug = clean_edges(df_drug_drug)\n",
    "df_drug_drug.head(1)"
   ]
  },
  {
   "cell_type": "markdown",
   "metadata": {
    "hidden": true
   },
   "source": [
    "## Effect/Phenotype"
   ]
  },
  {
   "cell_type": "markdown",
   "metadata": {
    "hidden": true
   },
   "source": [
    "### Effect protein interactions (DisGenNet)"
   ]
  },
  {
   "cell_type": "code",
   "execution_count": 14,
   "metadata": {
    "ExecuteTime": {
     "end_time": "2021-08-06T12:18:16.132855Z",
     "start_time": "2021-08-06T12:18:15.701935Z"
    },
    "hidden": true
   },
   "outputs": [
    {
     "data": {
      "text/html": [
       "<div>\n",
       "<style scoped>\n",
       "    .dataframe tbody tr th:only-of-type {\n",
       "        vertical-align: middle;\n",
       "    }\n",
       "\n",
       "    .dataframe tbody tr th {\n",
       "        vertical-align: top;\n",
       "    }\n",
       "\n",
       "    .dataframe thead th {\n",
       "        text-align: right;\n",
       "    }\n",
       "</style>\n",
       "<table border=\"1\" class=\"dataframe\">\n",
       "  <thead>\n",
       "    <tr style=\"text-align: right;\">\n",
       "      <th></th>\n",
       "      <th>relation</th>\n",
       "      <th>display_relation</th>\n",
       "      <th>x_id</th>\n",
       "      <th>x_type</th>\n",
       "      <th>x_name</th>\n",
       "      <th>x_source</th>\n",
       "      <th>y_id</th>\n",
       "      <th>y_type</th>\n",
       "      <th>y_name</th>\n",
       "      <th>y_source</th>\n",
       "    </tr>\n",
       "  </thead>\n",
       "  <tbody>\n",
       "    <tr>\n",
       "      <th>0</th>\n",
       "      <td>phenotype_protein</td>\n",
       "      <td>associated with</td>\n",
       "      <td>1</td>\n",
       "      <td>gene/protein</td>\n",
       "      <td>A1BG</td>\n",
       "      <td>NCBI</td>\n",
       "      <td>2240</td>\n",
       "      <td>effect/phenotype</td>\n",
       "      <td>Hepatomegaly</td>\n",
       "      <td>HPO</td>\n",
       "    </tr>\n",
       "  </tbody>\n",
       "</table>\n",
       "</div>"
      ],
      "text/plain": [
       "            relation display_relation x_id        x_type x_name x_source  \\\n",
       "0  phenotype_protein  associated with    1  gene/protein   A1BG     NCBI   \n",
       "\n",
       "   y_id            y_type        y_name y_source  \n",
       "0  2240  effect/phenotype  Hepatomegaly      HPO  "
      ]
     },
     "execution_count": 14,
     "metadata": {},
     "output_type": "execute_result"
    }
   ],
   "source": [
    "df_prot_phe = df_disgenet.query('diseaseType==\"phenotype\"')\n",
    "\n",
    "df_prot_phe = pd.merge(df_prot_phe, df_hp_xref, 'inner', left_on='diseaseId', right_on='ontology_id')\n",
    "df_prot_phe = pd.merge(df_prot_phe, df_hp_terms, 'left', left_on='hp_id', right_on='id')\n",
    "\n",
    "df_prot_phe = df_prot_phe.rename(columns={'geneId':'x_id', 'geneSymbol':'x_name', 'hp_id':'y_id', 'name':'y_name'})\n",
    "df_prot_phe['x_type'] = 'gene/protein'\n",
    "df_prot_phe['x_source'] = 'NCBI'\n",
    "df_prot_phe['y_type'] = 'effect/phenotype'\n",
    "df_prot_phe['y_source'] = 'HPO'\n",
    "df_prot_phe['relation'] = 'phenotype_protein'\n",
    "df_prot_phe['display_relation'] = 'associated with'\n",
    "df_prot_phe = clean_edges(df_prot_phe)\n",
    "df_prot_phe.head(1)"
   ]
  },
  {
   "cell_type": "markdown",
   "metadata": {
    "hidden": true
   },
   "source": [
    "### Effect effect interactions (HPO)"
   ]
  },
  {
   "cell_type": "code",
   "execution_count": 15,
   "metadata": {
    "ExecuteTime": {
     "end_time": "2021-08-06T12:18:16.566142Z",
     "start_time": "2021-08-06T12:18:16.138257Z"
    },
    "hidden": true
   },
   "outputs": [
    {
     "data": {
      "text/html": [
       "<div>\n",
       "<style scoped>\n",
       "    .dataframe tbody tr th:only-of-type {\n",
       "        vertical-align: middle;\n",
       "    }\n",
       "\n",
       "    .dataframe tbody tr th {\n",
       "        vertical-align: top;\n",
       "    }\n",
       "\n",
       "    .dataframe thead th {\n",
       "        text-align: right;\n",
       "    }\n",
       "</style>\n",
       "<table border=\"1\" class=\"dataframe\">\n",
       "  <thead>\n",
       "    <tr style=\"text-align: right;\">\n",
       "      <th></th>\n",
       "      <th>relation</th>\n",
       "      <th>display_relation</th>\n",
       "      <th>x_id</th>\n",
       "      <th>x_type</th>\n",
       "      <th>x_name</th>\n",
       "      <th>x_source</th>\n",
       "      <th>y_id</th>\n",
       "      <th>y_type</th>\n",
       "      <th>y_name</th>\n",
       "      <th>y_source</th>\n",
       "    </tr>\n",
       "  </thead>\n",
       "  <tbody>\n",
       "    <tr>\n",
       "      <th>0</th>\n",
       "      <td>phenotype_phenotype</td>\n",
       "      <td>parent-child</td>\n",
       "      <td>1507</td>\n",
       "      <td>effect/phenotype</td>\n",
       "      <td>Growth abnormality</td>\n",
       "      <td>HPO</td>\n",
       "      <td>2</td>\n",
       "      <td>effect/phenotype</td>\n",
       "      <td>Abnormality of body height</td>\n",
       "      <td>HPO</td>\n",
       "    </tr>\n",
       "  </tbody>\n",
       "</table>\n",
       "</div>"
      ],
      "text/plain": [
       "              relation display_relation  x_id            x_type  \\\n",
       "0  phenotype_phenotype     parent-child  1507  effect/phenotype   \n",
       "\n",
       "               x_name x_source y_id            y_type  \\\n",
       "0  Growth abnormality      HPO    2  effect/phenotype   \n",
       "\n",
       "                       y_name y_source  \n",
       "0  Abnormality of body height      HPO  "
      ]
     },
     "execution_count": 15,
     "metadata": {},
     "output_type": "execute_result"
    }
   ],
   "source": [
    "df_phe_phe = pd.merge(df_hp_parents, df_hp_terms, 'left', left_on='parent', right_on='id')\n",
    "df_phe_phe = df_phe_phe.rename(columns={'name':'parent_name'})\n",
    "df_phe_phe = pd.merge(df_phe_phe, df_hp_terms, 'left', left_on='child', right_on='id')\n",
    "df_phe_phe = df_phe_phe.rename(columns={'name':'child_name'})\n",
    "df_phe_phe = df_phe_phe.get(['parent', 'child', 'parent_name', 'child_name'])\n",
    "\n",
    "df_phe_phe = df_phe_phe.rename(columns={'parent':'x_id', 'child':'y_id', 'parent_name':'x_name', 'child_name':'y_name'})\n",
    "df_phe_phe['x_type'] = 'effect/phenotype'\n",
    "df_phe_phe['x_source'] = 'HPO'\n",
    "df_phe_phe['y_type'] = 'effect/phenotype'\n",
    "df_phe_phe['y_source'] = 'HPO'\n",
    "df_phe_phe['relation'] = 'phenotype_phenotype'\n",
    "df_phe_phe['display_relation'] = 'parent-child'\n",
    "df_phe_phe = clean_edges(df_phe_phe)\n",
    "df_phe_phe.head(1)"
   ]
  },
  {
   "cell_type": "markdown",
   "metadata": {
    "hidden": true
   },
   "source": [
    "### Disease effect interactions (HPO-A)"
   ]
  },
  {
   "cell_type": "code",
   "execution_count": 16,
   "metadata": {
    "ExecuteTime": {
     "end_time": "2021-08-06T12:18:18.049528Z",
     "start_time": "2021-08-06T12:18:16.571436Z"
    },
    "hidden": true,
    "scrolled": true
   },
   "outputs": [
    {
     "data": {
      "text/html": [
       "<div>\n",
       "<style scoped>\n",
       "    .dataframe tbody tr th:only-of-type {\n",
       "        vertical-align: middle;\n",
       "    }\n",
       "\n",
       "    .dataframe tbody tr th {\n",
       "        vertical-align: top;\n",
       "    }\n",
       "\n",
       "    .dataframe thead th {\n",
       "        text-align: right;\n",
       "    }\n",
       "</style>\n",
       "<table border=\"1\" class=\"dataframe\">\n",
       "  <thead>\n",
       "    <tr style=\"text-align: right;\">\n",
       "      <th></th>\n",
       "      <th>relation</th>\n",
       "      <th>display_relation</th>\n",
       "      <th>x_id</th>\n",
       "      <th>x_type</th>\n",
       "      <th>x_name</th>\n",
       "      <th>x_source</th>\n",
       "      <th>y_id</th>\n",
       "      <th>y_type</th>\n",
       "      <th>y_name</th>\n",
       "      <th>y_source</th>\n",
       "    </tr>\n",
       "  </thead>\n",
       "  <tbody>\n",
       "    <tr>\n",
       "      <th>0</th>\n",
       "      <td>disease_phenotype_positive</td>\n",
       "      <td>phenotype present</td>\n",
       "      <td>10761</td>\n",
       "      <td>disease</td>\n",
       "      <td>retinitis pigmentosa Y-linked</td>\n",
       "      <td>MONDO</td>\n",
       "      <td>510</td>\n",
       "      <td>effect/phenotype</td>\n",
       "      <td>Rod-cone dystrophy</td>\n",
       "      <td>HPO</td>\n",
       "    </tr>\n",
       "  </tbody>\n",
       "</table>\n",
       "</div>"
      ],
      "text/plain": [
       "                     relation   display_relation   x_id   x_type  \\\n",
       "0  disease_phenotype_positive  phenotype present  10761  disease   \n",
       "\n",
       "                          x_name x_source y_id            y_type  \\\n",
       "0  retinitis pigmentosa Y-linked    MONDO  510  effect/phenotype   \n",
       "\n",
       "               y_name y_source  \n",
       "0  Rod-cone dystrophy      HPO  "
      ]
     },
     "execution_count": 16,
     "metadata": {},
     "output_type": "execute_result"
    }
   ],
   "source": [
    "df_dis_phe_pos1 = pd.merge(df_hpoa_pos, df_mondo_xref, 'left', left_on='disease_ontology_id', right_on='ontology_id')\n",
    "df_dis_phe_pos1 = df_dis_phe_pos1.query('(disease_ontology==ontology) or (disease_ontology==\"ORPHA\" and ontology==\"Orphanet\")')\n",
    "df_dis_phe_pos1 = pd.merge(df_dis_phe_pos1, df_hp_terms, 'left', left_on='hp_id', right_on='id').rename(columns={'name':'hp_name'})\n",
    "df_dis_phe_pos1 = pd.merge(df_dis_phe_pos1, df_mondo_terms, 'left', left_on='mondo_id', right_on='id').rename(columns={'name':'mondo_name'})\n",
    "df_dis_phe_pos1 = df_dis_phe_pos1.get(['mondo_id', 'mondo_name', 'hp_id', 'hp_name'])\n",
    "df_dis_phe_pos1 = df_dis_phe_pos1.rename(columns={'mondo_id':'x_id', 'mondo_name':'x_name', 'hp_id': 'y_id', 'hp_name':'y_name'})\n",
    "df_dis_phe_pos1.loc[:, 'x_source'] = 'MONDO'\n",
    "df_dis_phe_pos1.loc[:, 'x_type'] = 'disease'\n",
    "df_dis_phe_pos1.loc[:, 'y_source'] = 'HPO'\n",
    "df_dis_phe_pos1.loc[:, 'y_type'] = 'effect/phenotype'\n",
    "df_dis_phe_pos1.loc[:, 'relation'] = 'disease_phenotype_positive'\n",
    "df_dis_phe_pos1.loc[:, 'display_relation'] = 'phenotype present'\n",
    "df_dis_phe_pos1 = clean_edges(df_dis_phe_pos1)\n",
    "df_dis_phe_pos1.head(1)"
   ]
  },
  {
   "cell_type": "code",
   "execution_count": 17,
   "metadata": {
    "ExecuteTime": {
     "end_time": "2021-08-06T12:18:18.294348Z",
     "start_time": "2021-08-06T12:18:18.051937Z"
    },
    "hidden": true
   },
   "outputs": [
    {
     "data": {
      "text/html": [
       "<div>\n",
       "<style scoped>\n",
       "    .dataframe tbody tr th:only-of-type {\n",
       "        vertical-align: middle;\n",
       "    }\n",
       "\n",
       "    .dataframe tbody tr th {\n",
       "        vertical-align: top;\n",
       "    }\n",
       "\n",
       "    .dataframe thead th {\n",
       "        text-align: right;\n",
       "    }\n",
       "</style>\n",
       "<table border=\"1\" class=\"dataframe\">\n",
       "  <thead>\n",
       "    <tr style=\"text-align: right;\">\n",
       "      <th></th>\n",
       "      <th>relation</th>\n",
       "      <th>display_relation</th>\n",
       "      <th>x_id</th>\n",
       "      <th>x_type</th>\n",
       "      <th>x_name</th>\n",
       "      <th>x_source</th>\n",
       "      <th>y_id</th>\n",
       "      <th>y_type</th>\n",
       "      <th>y_name</th>\n",
       "      <th>y_source</th>\n",
       "    </tr>\n",
       "  </thead>\n",
       "  <tbody>\n",
       "    <tr>\n",
       "      <th>0</th>\n",
       "      <td>disease_phenotype_negative</td>\n",
       "      <td>phenotype absent</td>\n",
       "      <td>13924</td>\n",
       "      <td>disease</td>\n",
       "      <td>osteogenesis imperfecta type 13</td>\n",
       "      <td>MONDO</td>\n",
       "      <td>365</td>\n",
       "      <td>effect/phenotype</td>\n",
       "      <td>Hearing impairment</td>\n",
       "      <td>HPO</td>\n",
       "    </tr>\n",
       "  </tbody>\n",
       "</table>\n",
       "</div>"
      ],
      "text/plain": [
       "                     relation  display_relation   x_id   x_type  \\\n",
       "0  disease_phenotype_negative  phenotype absent  13924  disease   \n",
       "\n",
       "                            x_name x_source y_id            y_type  \\\n",
       "0  osteogenesis imperfecta type 13    MONDO  365  effect/phenotype   \n",
       "\n",
       "               y_name y_source  \n",
       "0  Hearing impairment      HPO  "
      ]
     },
     "execution_count": 17,
     "metadata": {},
     "output_type": "execute_result"
    }
   ],
   "source": [
    "df_dis_phe_neg = pd.merge(df_hpoa_neg, df_mondo_xref, 'left', left_on='disease_ontology_id', right_on='ontology_id')\n",
    "df_dis_phe_neg = df_dis_phe_neg.query('(disease_ontology==ontology) or (disease_ontology==\"ORPHA\" and ontology==\"Orphanet\")')\n",
    "df_dis_phe_neg = pd.merge(df_dis_phe_neg, df_hp_terms, 'left', left_on='hp_id', right_on='id').rename(columns={'name':'hp_name'})\n",
    "df_dis_phe_neg = pd.merge(df_dis_phe_neg, df_mondo_terms, 'left', left_on='mondo_id', right_on='id').rename(columns={'name':'mondo_name'})\n",
    "df_dis_phe_neg = df_dis_phe_neg.get(['mondo_id', 'mondo_name', 'hp_id', 'hp_name'])\n",
    "df_dis_phe_neg = df_dis_phe_neg.rename(columns={'mondo_id':'x_id', 'mondo_name':'x_name', 'hp_id': 'y_id', 'hp_name':'y_name'})\n",
    "df_dis_phe_neg.loc[:, 'x_source'] = 'MONDO'\n",
    "df_dis_phe_neg.loc[:, 'x_type'] = 'disease'\n",
    "df_dis_phe_neg.loc[:, 'y_source'] = 'HPO'\n",
    "df_dis_phe_neg.loc[:, 'y_type'] = 'effect/phenotype'\n",
    "df_dis_phe_neg.loc[:, 'relation'] = 'disease_phenotype_negative'\n",
    "df_dis_phe_neg.loc[:, 'display_relation'] = 'phenotype absent'\n",
    "df_dis_phe_neg = clean_edges(df_dis_phe_neg)\n",
    "df_dis_phe_neg.head(1)"
   ]
  },
  {
   "cell_type": "markdown",
   "metadata": {
    "hidden": true
   },
   "source": [
    "### Remove phenotype nodes if they exist in MONDO"
   ]
  },
  {
   "cell_type": "code",
   "execution_count": 18,
   "metadata": {
    "ExecuteTime": {
     "end_time": "2021-08-06T12:18:18.395112Z",
     "start_time": "2021-08-06T12:18:18.296744Z"
    },
    "code_folding": [],
    "hidden": true
   },
   "outputs": [
    {
     "name": "stderr",
     "output_type": "stream",
     "text": [
      "/home/ema30/zaklab/envs/rare_disease/lib/python3.8/site-packages/pandas/core/indexing.py:1843: SettingWithCopyWarning: \n",
      "A value is trying to be set on a copy of a slice from a DataFrame.\n",
      "Try using .loc[row_indexer,col_indexer] = value instead\n",
      "\n",
      "See the caveats in the documentation: https://pandas.pydata.org/pandas-docs/stable/user_guide/indexing.html#returning-a-view-versus-a-copy\n",
      "  self.obj[item_labels[indexer[info_axis]]] = value\n"
     ]
    }
   ],
   "source": [
    "# phenotypes that are actually diseases in MONDO\n",
    "# avoid duplicate nodes and convert them to disease relations\n",
    "mondo_xref_hp_subset = df_mondo_xref.query('ontology==\"HP\"')\n",
    "mondo_xref_hp_subset.loc[:, 'ontology_id'] = mondo_xref_hp_subset.get('ontology_id').astype(int).astype(str).values\n",
    "hp_ids_r_mondo = pd.merge(mondo_xref_hp_subset, df_hp_terms, 'inner', left_on='ontology_id', right_on='id').get('ontology_id').values\n",
    "\n",
    "def replace_hp_data_w_mondo(df, hp_id_col, drop_cols=[]): \n",
    "    cols = list(df.columns.values)\n",
    "    cols.extend(['mondo_id', 'mondo_name'])\n",
    "    [cols.remove(x) for x in drop_cols]\n",
    "    df = pd.merge(df, mondo_xref_hp_subset, 'left', left_on=hp_id_col, right_on='ontology_id')\n",
    "    df = pd.merge(df, df_mondo_terms, 'left', left_on='mondo_id', right_on='id')\n",
    "    df = df.rename(columns={'name':'mondo_name'}).get(cols)\n",
    "    return df"
   ]
  },
  {
   "cell_type": "code",
   "execution_count": 19,
   "metadata": {
    "ExecuteTime": {
     "end_time": "2021-08-06T12:18:18.615544Z",
     "start_time": "2021-08-06T12:18:18.397091Z"
    },
    "code_folding": [],
    "hidden": true
   },
   "outputs": [],
   "source": [
    "# HANDLE EFFECT EFFECT \n",
    "\n",
    "# PHE-PHE should be PHE-DIS if ONE PHE is in MONDO\n",
    "\n",
    "df_dis_phe_x = df_phe_phe.query('x_id in @hp_ids_r_mondo and y_id not in @hp_ids_r_mondo')\n",
    "df_dis_phe_x = replace_hp_data_w_mondo(df=df_dis_phe_x, hp_id_col='x_id', \n",
    "                                       drop_cols=[c for c in df_dis_phe_x.columns.values if 'x_' in c])\n",
    "df_dis_phe_x = df_dis_phe_x.rename(columns={'mondo_id':'x_id', 'mondo_name':'x_name'})\n",
    "df_dis_phe_x.loc[:, 'x_source'] = 'MONDO'\n",
    "df_dis_phe_x.loc[:, 'x_type'] = 'disease'\n",
    "\n",
    "df_dis_phe_y = df_phe_phe.query('y_id in @hp_ids_r_mondo and x_id not in @hp_ids_r_mondo')\n",
    "df_dis_phe_y = replace_hp_data_w_mondo(df=df_dis_phe_y, hp_id_col='y_id',\n",
    "                                       drop_cols=[c for c in df_dis_phe_y.columns.values if 'y_' in c])\n",
    "df_dis_phe_y = df_dis_phe_y.rename(columns={'mondo_id':'y_id', 'mondo_name':'y_name'})\n",
    "df_dis_phe_y.loc[:, 'y_source'] = 'MONDO'\n",
    "df_dis_phe_y.loc[:, 'y_type'] = 'disease'\n",
    "\n",
    "df_dis_phe_pos2 = pd.concat([df_dis_phe_x, df_dis_phe_y], ignore_index=True)\n",
    "df_dis_phe_pos2['relation'] = 'disease_phenotype_positive'\n",
    "df_dis_phe_pos2.loc[:, 'display_relation'] = 'phenotype present'\n",
    "df_dis_phe_pos2 = clean_edges(df_dis_phe_pos2)\n",
    "\n",
    "\n",
    "# PHE-PHE should be DIS-DIS if BOTH PHE are in MONDO\n",
    "\n",
    "df_dis_dis2 = df_phe_phe.query('x_id in @hp_ids_r_mondo and y_id in @hp_ids_r_mondo')\n",
    "df_dis_dis2 = replace_hp_data_w_mondo(df=df_dis_dis2, \n",
    "                                       hp_id_col='x_id', \n",
    "                                       drop_cols=[c for c in df_dis_dis2.columns.values if 'x_' in c])\n",
    "df_dis_dis2 = df_dis_dis2.rename(columns={'mondo_id':'x_id', 'mondo_name':'x_name'})\n",
    "df_dis_dis2 = replace_hp_data_w_mondo(df=df_dis_dis2, \n",
    "                                       hp_id_col='y_id', \n",
    "                                       drop_cols=[c for c in df_dis_dis2.columns.values if 'y_' in c])\n",
    "df_dis_dis2 = df_dis_dis2.rename(columns={'mondo_id':'y_id', 'mondo_name':'y_name'})\n",
    "df_dis_dis2.loc[:, 'x_source'] = 'MONDO'\n",
    "df_dis_dis2.loc[:, 'x_type'] = 'disease'\n",
    "df_dis_dis2.loc[:, 'y_source'] = 'MONDO'\n",
    "df_dis_dis2.loc[:, 'y_type'] = 'disease'\n",
    "df_dis_dis2.loc[:,'relation'] = 'disease_disease'\n",
    "df_dis_dis2.loc[:,'display_relation'] = 'parent-child'\n",
    "df_dis_dis2 = clean_edges(df_dis_dis2)\n",
    "\n",
    "# drop relations in PHE PHE if either PHE is in MONDO\n",
    "# phenotype phenotype should have no disease nodes\n",
    "df_phe_phe = df_phe_phe.query('x_id not in @hp_ids_r_mondo and y_id not in @hp_ids_r_mondo')"
   ]
  },
  {
   "cell_type": "code",
   "execution_count": 20,
   "metadata": {
    "ExecuteTime": {
     "end_time": "2021-08-06T12:18:18.800901Z",
     "start_time": "2021-08-06T12:18:18.619402Z"
    },
    "code_folding": [],
    "hidden": true
   },
   "outputs": [],
   "source": [
    "# HANDLE PROTEIN EFFECT \n",
    "\n",
    "# if phenotype in MONDO make it protein-disease relations \n",
    "df_prot_dis2= df_prot_phe.query('y_id in @hp_ids_r_mondo')\n",
    "df_prot_dis2 = replace_hp_data_w_mondo(df=df_prot_dis2, hp_id_col='y_id',\n",
    "                                       drop_cols=[c for c in df_prot_dis2.columns.values if 'y_' in c])\n",
    "df_prot_dis2 = df_prot_dis2.rename(columns={'mondo_id':'y_id', 'mondo_name':'y_name'})\n",
    "df_prot_dis2.loc[:, 'y_source'] = 'MONDO'\n",
    "df_prot_dis2.loc[:, 'y_type'] = 'disease'\n",
    "df_prot_dis2.loc[:, 'relation'] = 'disease_protein'\n",
    "df_prot_dis2.loc[:, 'display_relation'] = 'associated with'\n",
    "df_prot_dis2 = clean_edges(df_prot_dis2)\n",
    "\n",
    "# remove from protein-phenotype if phenotype in MONDO \n",
    "df_prot_phe = df_prot_phe.query('y_id not in @hp_ids_r_mondo')"
   ]
  },
  {
   "cell_type": "code",
   "execution_count": 21,
   "metadata": {
    "ExecuteTime": {
     "end_time": "2021-08-06T12:18:19.042217Z",
     "start_time": "2021-08-06T12:18:18.807270Z"
    },
    "code_folding": [],
    "hidden": true
   },
   "outputs": [],
   "source": [
    "# HANDLE DISEASE EFFECT \n",
    "\n",
    "# remove from protein-phenotype if phenotype in MONDO \n",
    "df_dis_phe_pos1 = df_dis_phe_pos1.query('y_id not in @hp_ids_r_mondo')\n",
    "\n",
    "# NEGATIVE disease_phenotype should just be dropped because negative disease_disease doesn't make sense \n",
    "df_dis_phe_neg = df_dis_phe_neg.query('y_id not in @hp_ids_r_mondo')"
   ]
  },
  {
   "cell_type": "code",
   "execution_count": 22,
   "metadata": {
    "ExecuteTime": {
     "end_time": "2021-08-06T12:18:19.533348Z",
     "start_time": "2021-08-06T12:18:19.057321Z"
    },
    "hidden": true
   },
   "outputs": [],
   "source": [
    "# COMBINE DATAFRAMES \n",
    "\n",
    "df_prot_dis = pd.concat([df_prot_dis1, df_prot_dis2], ignore_index=True).drop_duplicates()\n",
    "df_dis_dis = pd.concat([df_dis_dis1, df_dis_dis2], ignore_index=True).drop_duplicates()\n",
    "df_dis_phe_pos = pd.concat([df_dis_phe_pos1, df_dis_phe_pos2], ignore_index=True).drop_duplicates()"
   ]
  },
  {
   "cell_type": "markdown",
   "metadata": {
    "hidden": true
   },
   "source": [
    "### Drug effect interactions (SIDER)"
   ]
  },
  {
   "cell_type": "code",
   "execution_count": 23,
   "metadata": {
    "ExecuteTime": {
     "end_time": "2021-08-06T12:18:20.396548Z",
     "start_time": "2021-08-06T12:18:19.535589Z"
    },
    "hidden": true
   },
   "outputs": [
    {
     "data": {
      "text/html": [
       "<div>\n",
       "<style scoped>\n",
       "    .dataframe tbody tr th:only-of-type {\n",
       "        vertical-align: middle;\n",
       "    }\n",
       "\n",
       "    .dataframe tbody tr th {\n",
       "        vertical-align: top;\n",
       "    }\n",
       "\n",
       "    .dataframe thead th {\n",
       "        text-align: right;\n",
       "    }\n",
       "</style>\n",
       "<table border=\"1\" class=\"dataframe\">\n",
       "  <thead>\n",
       "    <tr style=\"text-align: right;\">\n",
       "      <th></th>\n",
       "      <th>relation</th>\n",
       "      <th>display_relation</th>\n",
       "      <th>x_id</th>\n",
       "      <th>x_type</th>\n",
       "      <th>x_name</th>\n",
       "      <th>x_source</th>\n",
       "      <th>y_id</th>\n",
       "      <th>y_type</th>\n",
       "      <th>y_name</th>\n",
       "      <th>y_source</th>\n",
       "    </tr>\n",
       "  </thead>\n",
       "  <tbody>\n",
       "    <tr>\n",
       "      <th>0</th>\n",
       "      <td>drug_effect</td>\n",
       "      <td>side effect</td>\n",
       "      <td>DB00583</td>\n",
       "      <td>drug</td>\n",
       "      <td>Levocarnitine</td>\n",
       "      <td>DrugBank</td>\n",
       "      <td>2027</td>\n",
       "      <td>effect/phenotype</td>\n",
       "      <td>Abdominal pain</td>\n",
       "      <td>HPO</td>\n",
       "    </tr>\n",
       "  </tbody>\n",
       "</table>\n",
       "</div>"
      ],
      "text/plain": [
       "      relation display_relation     x_id x_type         x_name  x_source  \\\n",
       "0  drug_effect      side effect  DB00583   drug  Levocarnitine  DrugBank   \n",
       "\n",
       "   y_id            y_type          y_name y_source  \n",
       "0  2027  effect/phenotype  Abdominal pain      HPO  "
      ]
     },
     "execution_count": 23,
     "metadata": {},
     "output_type": "execute_result"
    }
   ],
   "source": [
    "df_drug_effect = pd.merge(df_sider, df_db_atc, 'left', left_on='atc', right_on='atc_code')\n",
    "df_drug_effect = df_drug_effect.rename(columns={'parent_key':'DrugBank', 'UMLS_from_meddra':'UMLS'})\n",
    "df_drug_effect = pd.merge(df_drug_effect, db_vocab, 'left', left_on='DrugBank', right_on='DrugBank ID')\n",
    "df_drug_effect = pd.merge(df_drug_effect, df_hp_xref, 'left', left_on='UMLS' , right_on='ontology_id')\n",
    "df_drug_effect = pd.merge(df_drug_effect, df_hp_terms, 'left', left_on='hp_id' , right_on='id')\n",
    "df_drug_effect = df_drug_effect.get(['DrugBank ID','Common name','hp_id', 'name'])\n",
    "df_drug_effect = df_drug_effect.dropna().drop_duplicates()\n",
    "\n",
    "df_drug_effect = df_drug_effect.rename(columns={'DrugBank ID':'x_id', 'Common name':'x_name', 'hp_id':'y_id', 'name':'y_name'})\n",
    "df_drug_effect['x_type'] = 'drug'\n",
    "df_drug_effect['x_source'] = 'DrugBank'\n",
    "df_drug_effect['y_type'] = 'effect/phenotype'\n",
    "df_drug_effect['y_source'] = 'HPO'\n",
    "df_drug_effect['relation'] = 'drug_effect'\n",
    "df_drug_effect['display_relation'] = 'side effect'\n",
    "df_drug_effect = df_drug_effect.query('y_id not in @hp_ids_r_mondo')\n",
    "df_drug_effect = clean_edges(df_drug_effect)\n",
    "df_drug_effect.head(1)"
   ]
  },
  {
   "cell_type": "markdown",
   "metadata": {
    "hidden": true
   },
   "source": [
    "## GO Terms"
   ]
  },
  {
   "cell_type": "markdown",
   "metadata": {
    "hidden": true
   },
   "source": [
    "### Go terms interactions (GO)"
   ]
  },
  {
   "cell_type": "code",
   "execution_count": 24,
   "metadata": {
    "ExecuteTime": {
     "end_time": "2021-08-06T12:18:20.828806Z",
     "start_time": "2021-08-06T12:18:20.400380Z"
    },
    "hidden": true
   },
   "outputs": [
    {
     "data": {
      "text/html": [
       "<div>\n",
       "<style scoped>\n",
       "    .dataframe tbody tr th:only-of-type {\n",
       "        vertical-align: middle;\n",
       "    }\n",
       "\n",
       "    .dataframe tbody tr th {\n",
       "        vertical-align: top;\n",
       "    }\n",
       "\n",
       "    .dataframe thead th {\n",
       "        text-align: right;\n",
       "    }\n",
       "</style>\n",
       "<table border=\"1\" class=\"dataframe\">\n",
       "  <thead>\n",
       "    <tr style=\"text-align: right;\">\n",
       "      <th></th>\n",
       "      <th>relation</th>\n",
       "      <th>display_relation</th>\n",
       "      <th>x_id</th>\n",
       "      <th>x_type</th>\n",
       "      <th>x_name</th>\n",
       "      <th>x_source</th>\n",
       "      <th>y_id</th>\n",
       "      <th>y_type</th>\n",
       "      <th>y_name</th>\n",
       "      <th>y_source</th>\n",
       "    </tr>\n",
       "  </thead>\n",
       "  <tbody>\n",
       "    <tr>\n",
       "      <th>0</th>\n",
       "      <td>bioprocess_bioprocess</td>\n",
       "      <td>parent-child</td>\n",
       "      <td>51581</td>\n",
       "      <td>biological_process</td>\n",
       "      <td>negative regulation of neurotransmitter uptake</td>\n",
       "      <td>GO</td>\n",
       "      <td>51612</td>\n",
       "      <td>biological_process</td>\n",
       "      <td>negative regulation of serotonin uptake</td>\n",
       "      <td>GO</td>\n",
       "    </tr>\n",
       "  </tbody>\n",
       "</table>\n",
       "</div>"
      ],
      "text/plain": [
       "                relation display_relation   x_id              x_type  \\\n",
       "0  bioprocess_bioprocess     parent-child  51581  biological_process   \n",
       "\n",
       "                                           x_name x_source   y_id  \\\n",
       "0  negative regulation of neurotransmitter uptake       GO  51612   \n",
       "\n",
       "               y_type                                   y_name y_source  \n",
       "0  biological_process  negative regulation of serotonin uptake       GO  "
      ]
     },
     "execution_count": 24,
     "metadata": {},
     "output_type": "execute_result"
    }
   ],
   "source": [
    "bp = df_go_terms.query('go_term_type==\"biological_process\"')\n",
    "df_bp_bp = pd.merge(df_go_edges, bp, 'inner', left_on='x', right_on='go_term_id')\n",
    "df_bp_bp = df_bp_bp.rename(columns={'go_term_id':'x_id','go_term_name':'x_name','go_term_type':'x_type'})\n",
    "df_bp_bp = pd.merge(df_bp_bp, bp, 'inner', left_on='y', right_on='go_term_id')\n",
    "df_bp_bp = df_bp_bp.rename(columns={'go_term_id':'y_id','go_term_name':'y_name','go_term_type':'y_type'})\n",
    "df_bp_bp['relation'] = 'bioprocess_bioprocess'\n",
    "df_bp_bp['x_source'] = 'GO'\n",
    "df_bp_bp['y_source'] = 'GO'\n",
    "df_bp_bp['display_relation'] = 'parent-child'\n",
    "df_bp_bp = clean_edges(df_bp_bp)\n",
    "df_bp_bp.head(1)"
   ]
  },
  {
   "cell_type": "code",
   "execution_count": 25,
   "metadata": {
    "ExecuteTime": {
     "end_time": "2021-08-06T12:18:20.988390Z",
     "start_time": "2021-08-06T12:18:20.831955Z"
    },
    "hidden": true
   },
   "outputs": [
    {
     "data": {
      "text/html": [
       "<div>\n",
       "<style scoped>\n",
       "    .dataframe tbody tr th:only-of-type {\n",
       "        vertical-align: middle;\n",
       "    }\n",
       "\n",
       "    .dataframe tbody tr th {\n",
       "        vertical-align: top;\n",
       "    }\n",
       "\n",
       "    .dataframe thead th {\n",
       "        text-align: right;\n",
       "    }\n",
       "</style>\n",
       "<table border=\"1\" class=\"dataframe\">\n",
       "  <thead>\n",
       "    <tr style=\"text-align: right;\">\n",
       "      <th></th>\n",
       "      <th>relation</th>\n",
       "      <th>display_relation</th>\n",
       "      <th>x_id</th>\n",
       "      <th>x_type</th>\n",
       "      <th>x_name</th>\n",
       "      <th>x_source</th>\n",
       "      <th>y_id</th>\n",
       "      <th>y_type</th>\n",
       "      <th>y_name</th>\n",
       "      <th>y_source</th>\n",
       "    </tr>\n",
       "  </thead>\n",
       "  <tbody>\n",
       "    <tr>\n",
       "      <th>0</th>\n",
       "      <td>molfunc_molfunc</td>\n",
       "      <td>parent-child</td>\n",
       "      <td>8168</td>\n",
       "      <td>molecular_function</td>\n",
       "      <td>methyltransferase activity</td>\n",
       "      <td>GO</td>\n",
       "      <td>102130</td>\n",
       "      <td>molecular_function</td>\n",
       "      <td>malonyl-CoA methyltransferase activity</td>\n",
       "      <td>GO</td>\n",
       "    </tr>\n",
       "  </tbody>\n",
       "</table>\n",
       "</div>"
      ],
      "text/plain": [
       "          relation display_relation  x_id              x_type  \\\n",
       "0  molfunc_molfunc     parent-child  8168  molecular_function   \n",
       "\n",
       "                       x_name x_source    y_id              y_type  \\\n",
       "0  methyltransferase activity       GO  102130  molecular_function   \n",
       "\n",
       "                                   y_name y_source  \n",
       "0  malonyl-CoA methyltransferase activity       GO  "
      ]
     },
     "execution_count": 25,
     "metadata": {},
     "output_type": "execute_result"
    }
   ],
   "source": [
    "mf = df_go_terms.query('go_term_type==\"molecular_function\"')\n",
    "df_mf_mf = pd.merge(df_go_edges, mf, 'inner', left_on='x', right_on='go_term_id')\n",
    "df_mf_mf = df_mf_mf.rename(columns={'go_term_id':'x_id','go_term_name':'x_name','go_term_type':'x_type'})\n",
    "df_mf_mf = pd.merge(df_mf_mf, mf, 'inner', left_on='y', right_on='go_term_id')\n",
    "df_mf_mf = df_mf_mf.rename(columns={'go_term_id':'y_id','go_term_name':'y_name','go_term_type':'y_type'})\n",
    "df_mf_mf['relation'] = 'molfunc_molfunc'\n",
    "df_mf_mf['display_relation'] = 'parent-child'\n",
    "df_mf_mf['x_source'] = 'GO'\n",
    "df_mf_mf['y_source'] = 'GO'\n",
    "df_mf_mf = clean_edges(df_mf_mf)\n",
    "df_mf_mf.head(1)"
   ]
  },
  {
   "cell_type": "code",
   "execution_count": 26,
   "metadata": {
    "ExecuteTime": {
     "end_time": "2021-08-06T12:18:21.149592Z",
     "start_time": "2021-08-06T12:18:20.996132Z"
    },
    "hidden": true
   },
   "outputs": [
    {
     "data": {
      "text/html": [
       "<div>\n",
       "<style scoped>\n",
       "    .dataframe tbody tr th:only-of-type {\n",
       "        vertical-align: middle;\n",
       "    }\n",
       "\n",
       "    .dataframe tbody tr th {\n",
       "        vertical-align: top;\n",
       "    }\n",
       "\n",
       "    .dataframe thead th {\n",
       "        text-align: right;\n",
       "    }\n",
       "</style>\n",
       "<table border=\"1\" class=\"dataframe\">\n",
       "  <thead>\n",
       "    <tr style=\"text-align: right;\">\n",
       "      <th></th>\n",
       "      <th>relation</th>\n",
       "      <th>display_relation</th>\n",
       "      <th>x_id</th>\n",
       "      <th>x_type</th>\n",
       "      <th>x_name</th>\n",
       "      <th>x_source</th>\n",
       "      <th>y_id</th>\n",
       "      <th>y_type</th>\n",
       "      <th>y_name</th>\n",
       "      <th>y_source</th>\n",
       "    </tr>\n",
       "  </thead>\n",
       "  <tbody>\n",
       "    <tr>\n",
       "      <th>0</th>\n",
       "      <td>cellcomp_cellcomp</td>\n",
       "      <td>parent-child</td>\n",
       "      <td>110165</td>\n",
       "      <td>cellular_component</td>\n",
       "      <td>cellular anatomical entity</td>\n",
       "      <td>GO</td>\n",
       "      <td>90553</td>\n",
       "      <td>cellular_component</td>\n",
       "      <td>unicellular trichome tip</td>\n",
       "      <td>GO</td>\n",
       "    </tr>\n",
       "  </tbody>\n",
       "</table>\n",
       "</div>"
      ],
      "text/plain": [
       "            relation display_relation    x_id              x_type  \\\n",
       "0  cellcomp_cellcomp     parent-child  110165  cellular_component   \n",
       "\n",
       "                       x_name x_source   y_id              y_type  \\\n",
       "0  cellular anatomical entity       GO  90553  cellular_component   \n",
       "\n",
       "                     y_name y_source  \n",
       "0  unicellular trichome tip       GO  "
      ]
     },
     "execution_count": 26,
     "metadata": {},
     "output_type": "execute_result"
    }
   ],
   "source": [
    "cc = df_go_terms.query('go_term_type==\"cellular_component\"')\n",
    "df_cc_cc = pd.merge(df_go_edges, cc, 'inner', left_on='x', right_on='go_term_id')\n",
    "df_cc_cc = df_cc_cc.rename(columns={'go_term_id':'x_id','go_term_name':'x_name','go_term_type':'x_type'})\n",
    "df_cc_cc = pd.merge(df_cc_cc, cc, 'inner', left_on='y', right_on='go_term_id')\n",
    "df_cc_cc = df_cc_cc.rename(columns={'go_term_id':'y_id','go_term_name':'y_name','go_term_type':'y_type'})\n",
    "df_cc_cc['relation'] = 'cellcomp_cellcomp'\n",
    "df_cc_cc['display_relation'] = 'parent-child'\n",
    "df_cc_cc['x_source'] = 'GO'\n",
    "df_cc_cc['y_source'] = 'GO'\n",
    "df_cc_cc = clean_edges(df_cc_cc)\n",
    "df_cc_cc.head(1)\n"
   ]
  },
  {
   "cell_type": "markdown",
   "metadata": {
    "hidden": true
   },
   "source": [
    "### Go protein interactions (Gene2GO)"
   ]
  },
  {
   "cell_type": "code",
   "execution_count": 27,
   "metadata": {
    "ExecuteTime": {
     "end_time": "2021-08-06T12:18:22.059413Z",
     "start_time": "2021-08-06T12:18:21.156638Z"
    },
    "hidden": true
   },
   "outputs": [],
   "source": [
    "df_prot_path = pd.merge(df_gene2go, df_go_terms, 'inner', 'go_term_id').rename(columns={'go_term_type_x':'go_term_type'})\n",
    "df_prot_path = pd.merge(df_prot_path, df_prot_names, 'left', left_on='ncbi_gene_id', right_on='ncbi_id')\n",
    "df_prot_path = df_prot_path.rename(columns={'ncbi_gene_id':'x_id', 'symbol':'x_name', \n",
    "                             'go_term_id':'y_id','go_term_name':'y_name', 'go_term_type':'y_type'})\n",
    "df_prot_path['x_type'] = 'gene/protein'\n",
    "df_prot_path['x_source'] = 'NCBI'\n",
    "df_prot_path['y_source'] = 'GO'\n",
    "df_prot_path = df_prot_path.get(['x_id','x_type', 'x_name', 'x_source','y_id','y_type', 'y_name', 'y_source'])"
   ]
  },
  {
   "cell_type": "code",
   "execution_count": 28,
   "metadata": {
    "ExecuteTime": {
     "end_time": "2021-08-06T12:18:22.492514Z",
     "start_time": "2021-08-06T12:18:22.065000Z"
    },
    "hidden": true
   },
   "outputs": [
    {
     "data": {
      "text/html": [
       "<div>\n",
       "<style scoped>\n",
       "    .dataframe tbody tr th:only-of-type {\n",
       "        vertical-align: middle;\n",
       "    }\n",
       "\n",
       "    .dataframe tbody tr th {\n",
       "        vertical-align: top;\n",
       "    }\n",
       "\n",
       "    .dataframe thead th {\n",
       "        text-align: right;\n",
       "    }\n",
       "</style>\n",
       "<table border=\"1\" class=\"dataframe\">\n",
       "  <thead>\n",
       "    <tr style=\"text-align: right;\">\n",
       "      <th></th>\n",
       "      <th>relation</th>\n",
       "      <th>display_relation</th>\n",
       "      <th>x_id</th>\n",
       "      <th>x_type</th>\n",
       "      <th>x_name</th>\n",
       "      <th>x_source</th>\n",
       "      <th>y_id</th>\n",
       "      <th>y_type</th>\n",
       "      <th>y_name</th>\n",
       "      <th>y_source</th>\n",
       "    </tr>\n",
       "  </thead>\n",
       "  <tbody>\n",
       "    <tr>\n",
       "      <th>0</th>\n",
       "      <td>molfunc_protein</td>\n",
       "      <td>interacts with</td>\n",
       "      <td>2</td>\n",
       "      <td>gene/protein</td>\n",
       "      <td>A2M</td>\n",
       "      <td>NCBI</td>\n",
       "      <td>19966</td>\n",
       "      <td>molecular_function</td>\n",
       "      <td>interleukin-1 binding</td>\n",
       "      <td>GO</td>\n",
       "    </tr>\n",
       "  </tbody>\n",
       "</table>\n",
       "</div>"
      ],
      "text/plain": [
       "          relation display_relation x_id        x_type x_name x_source   y_id  \\\n",
       "0  molfunc_protein   interacts with    2  gene/protein    A2M     NCBI  19966   \n",
       "\n",
       "               y_type                 y_name y_source  \n",
       "0  molecular_function  interleukin-1 binding       GO  "
      ]
     },
     "execution_count": 28,
     "metadata": {},
     "output_type": "execute_result"
    }
   ],
   "source": [
    "df_prot_mf = df_prot_path.query('y_type==\"molecular_function\"').copy()\n",
    "df_prot_mf['relation'] = 'molfunc_protein'\n",
    "df_prot_mf['display_relation'] = 'interacts with'\n",
    "df_prot_mf = clean_edges(df_prot_mf)\n",
    "df_prot_mf.head(1)"
   ]
  },
  {
   "cell_type": "code",
   "execution_count": 29,
   "metadata": {
    "ExecuteTime": {
     "end_time": "2021-08-06T12:18:22.897652Z",
     "start_time": "2021-08-06T12:18:22.499167Z"
    },
    "hidden": true
   },
   "outputs": [
    {
     "data": {
      "text/html": [
       "<div>\n",
       "<style scoped>\n",
       "    .dataframe tbody tr th:only-of-type {\n",
       "        vertical-align: middle;\n",
       "    }\n",
       "\n",
       "    .dataframe tbody tr th {\n",
       "        vertical-align: top;\n",
       "    }\n",
       "\n",
       "    .dataframe thead th {\n",
       "        text-align: right;\n",
       "    }\n",
       "</style>\n",
       "<table border=\"1\" class=\"dataframe\">\n",
       "  <thead>\n",
       "    <tr style=\"text-align: right;\">\n",
       "      <th></th>\n",
       "      <th>relation</th>\n",
       "      <th>display_relation</th>\n",
       "      <th>x_id</th>\n",
       "      <th>x_type</th>\n",
       "      <th>x_name</th>\n",
       "      <th>x_source</th>\n",
       "      <th>y_id</th>\n",
       "      <th>y_type</th>\n",
       "      <th>y_name</th>\n",
       "      <th>y_source</th>\n",
       "    </tr>\n",
       "  </thead>\n",
       "  <tbody>\n",
       "    <tr>\n",
       "      <th>214459</th>\n",
       "      <td>cellcomp_protein</td>\n",
       "      <td>interacts with</td>\n",
       "      <td>1</td>\n",
       "      <td>gene/protein</td>\n",
       "      <td>A1BG</td>\n",
       "      <td>NCBI</td>\n",
       "      <td>1904813</td>\n",
       "      <td>cellular_component</td>\n",
       "      <td>ficolin-1-rich granule lumen</td>\n",
       "      <td>GO</td>\n",
       "    </tr>\n",
       "  </tbody>\n",
       "</table>\n",
       "</div>"
      ],
      "text/plain": [
       "                relation display_relation x_id        x_type x_name x_source  \\\n",
       "214459  cellcomp_protein   interacts with    1  gene/protein   A1BG     NCBI   \n",
       "\n",
       "           y_id              y_type                        y_name y_source  \n",
       "214459  1904813  cellular_component  ficolin-1-rich granule lumen       GO  "
      ]
     },
     "execution_count": 29,
     "metadata": {},
     "output_type": "execute_result"
    }
   ],
   "source": [
    "df_prot_cc = df_prot_path.query('y_type==\"cellular_component\"').copy()\n",
    "df_prot_cc['relation'] = 'cellcomp_protein'\n",
    "df_prot_cc['display_relation'] = 'interacts with'\n",
    "df_prot_cc = clean_edges(df_prot_cc)\n",
    "df_prot_cc.head(1)"
   ]
  },
  {
   "cell_type": "code",
   "execution_count": 30,
   "metadata": {
    "ExecuteTime": {
     "end_time": "2021-08-06T12:18:23.584170Z",
     "start_time": "2021-08-06T12:18:22.904825Z"
    },
    "hidden": true
   },
   "outputs": [
    {
     "data": {
      "text/html": [
       "<div>\n",
       "<style scoped>\n",
       "    .dataframe tbody tr th:only-of-type {\n",
       "        vertical-align: middle;\n",
       "    }\n",
       "\n",
       "    .dataframe tbody tr th {\n",
       "        vertical-align: top;\n",
       "    }\n",
       "\n",
       "    .dataframe thead th {\n",
       "        text-align: right;\n",
       "    }\n",
       "</style>\n",
       "<table border=\"1\" class=\"dataframe\">\n",
       "  <thead>\n",
       "    <tr style=\"text-align: right;\">\n",
       "      <th></th>\n",
       "      <th>relation</th>\n",
       "      <th>display_relation</th>\n",
       "      <th>x_id</th>\n",
       "      <th>x_type</th>\n",
       "      <th>x_name</th>\n",
       "      <th>x_source</th>\n",
       "      <th>y_id</th>\n",
       "      <th>y_type</th>\n",
       "      <th>y_name</th>\n",
       "      <th>y_source</th>\n",
       "    </tr>\n",
       "  </thead>\n",
       "  <tbody>\n",
       "    <tr>\n",
       "      <th>69588</th>\n",
       "      <td>bioprocess_protein</td>\n",
       "      <td>interacts with</td>\n",
       "      <td>1</td>\n",
       "      <td>gene/protein</td>\n",
       "      <td>A1BG</td>\n",
       "      <td>NCBI</td>\n",
       "      <td>43312</td>\n",
       "      <td>biological_process</td>\n",
       "      <td>neutrophil degranulation</td>\n",
       "      <td>GO</td>\n",
       "    </tr>\n",
       "  </tbody>\n",
       "</table>\n",
       "</div>"
      ],
      "text/plain": [
       "                 relation display_relation x_id        x_type x_name x_source  \\\n",
       "69588  bioprocess_protein   interacts with    1  gene/protein   A1BG     NCBI   \n",
       "\n",
       "        y_id              y_type                    y_name y_source  \n",
       "69588  43312  biological_process  neutrophil degranulation       GO  "
      ]
     },
     "execution_count": 30,
     "metadata": {},
     "output_type": "execute_result"
    }
   ],
   "source": [
    "df_prot_bp = df_prot_path.query('y_type==\"biological_process\"').copy()\n",
    "df_prot_bp['relation'] = 'bioprocess_protein'\n",
    "df_prot_bp['display_relation'] = 'interacts with'\n",
    "df_prot_bp = clean_edges(df_prot_bp)\n",
    "df_prot_bp.head(1)"
   ]
  },
  {
   "cell_type": "markdown",
   "metadata": {
    "hidden": true
   },
   "source": [
    "## Exposure"
   ]
  },
  {
   "cell_type": "markdown",
   "metadata": {
    "hidden": true
   },
   "source": [
    "### Exposure protein interactions (CTD)"
   ]
  },
  {
   "cell_type": "code",
   "execution_count": 31,
   "metadata": {
    "ExecuteTime": {
     "end_time": "2021-08-06T12:18:42.557753Z",
     "start_time": "2021-08-06T12:18:23.586715Z"
    },
    "hidden": true
   },
   "outputs": [
    {
     "data": {
      "text/html": [
       "<div>\n",
       "<style scoped>\n",
       "    .dataframe tbody tr th:only-of-type {\n",
       "        vertical-align: middle;\n",
       "    }\n",
       "\n",
       "    .dataframe tbody tr th {\n",
       "        vertical-align: top;\n",
       "    }\n",
       "\n",
       "    .dataframe thead th {\n",
       "        text-align: right;\n",
       "    }\n",
       "</style>\n",
       "<table border=\"1\" class=\"dataframe\">\n",
       "  <thead>\n",
       "    <tr style=\"text-align: right;\">\n",
       "      <th></th>\n",
       "      <th>relation</th>\n",
       "      <th>display_relation</th>\n",
       "      <th>x_id</th>\n",
       "      <th>x_type</th>\n",
       "      <th>x_name</th>\n",
       "      <th>x_source</th>\n",
       "      <th>y_id</th>\n",
       "      <th>y_type</th>\n",
       "      <th>y_name</th>\n",
       "      <th>y_source</th>\n",
       "    </tr>\n",
       "  </thead>\n",
       "  <tbody>\n",
       "    <tr>\n",
       "      <th>0</th>\n",
       "      <td>exposure_protein</td>\n",
       "      <td>interacts with</td>\n",
       "      <td>C092102</td>\n",
       "      <td>exposure</td>\n",
       "      <td>1-hydroxyphenanthrene</td>\n",
       "      <td>CTD</td>\n",
       "      <td>1401</td>\n",
       "      <td>gene/protein</td>\n",
       "      <td>CRP</td>\n",
       "      <td>NCBI</td>\n",
       "    </tr>\n",
       "  </tbody>\n",
       "</table>\n",
       "</div>"
      ],
      "text/plain": [
       "           relation display_relation     x_id    x_type  \\\n",
       "0  exposure_protein   interacts with  C092102  exposure   \n",
       "\n",
       "                  x_name x_source  y_id        y_type y_name y_source  \n",
       "0  1-hydroxyphenanthrene      CTD  1401  gene/protein    CRP     NCBI  "
      ]
     },
     "execution_count": 31,
     "metadata": {},
     "output_type": "execute_result"
    }
   ],
   "source": [
    "df_exp_prot = df_exposures.get(['exposurestressorname', 'exposurestressorid','exposuremarker', 'exposuremarkerid'])\n",
    "df_exp_prot = df_exp_prot.loc[df_exp_prot.get(['exposuremarkerid']).dropna().index, :]\n",
    "\n",
    "gene_row_index = []\n",
    "for idx, data in df_exp_prot.iterrows():\n",
    "    if data.exposuremarkerid.isnumeric(): \n",
    "        gene_row_index.append(idx)\n",
    "\n",
    "df_exp_prot = df_exp_prot.loc[gene_row_index, :].astype({'exposuremarkerid': 'int'}).astype({'exposuremarkerid': 'str'})\n",
    "df_exp_prot = pd.merge(df_exp_prot, df_prot_names, 'left', left_on='exposuremarkerid', right_on='ncbi_id')\n",
    "\n",
    "df_exp_prot = df_exp_prot.rename(columns={'exposurestressorid':'x_id', 'exposurestressorname':'x_name', 'ncbi_id':'y_id', 'symbol':'y_name'})\n",
    "df_exp_prot['x_type'] = 'exposure'\n",
    "df_exp_prot['x_source'] = 'CTD'\n",
    "df_exp_prot['y_type'] = 'gene/protein'\n",
    "df_exp_prot['y_source'] = 'NCBI'\n",
    "df_exp_prot['relation'] = 'exposure_protein'\n",
    "df_exp_prot['display_relation'] = 'interacts with'\n",
    "df_exp_prot = clean_edges(df_exp_prot)\n",
    "df_exp_prot.head(1)"
   ]
  },
  {
   "cell_type": "markdown",
   "metadata": {
    "hidden": true
   },
   "source": [
    "### Exposure disease interactions (CTD)"
   ]
  },
  {
   "cell_type": "code",
   "execution_count": 32,
   "metadata": {
    "ExecuteTime": {
     "end_time": "2021-08-06T12:18:43.131769Z",
     "start_time": "2021-08-06T12:18:42.744281Z"
    },
    "hidden": true
   },
   "outputs": [
    {
     "data": {
      "text/html": [
       "<div>\n",
       "<style scoped>\n",
       "    .dataframe tbody tr th:only-of-type {\n",
       "        vertical-align: middle;\n",
       "    }\n",
       "\n",
       "    .dataframe tbody tr th {\n",
       "        vertical-align: top;\n",
       "    }\n",
       "\n",
       "    .dataframe thead th {\n",
       "        text-align: right;\n",
       "    }\n",
       "</style>\n",
       "<table border=\"1\" class=\"dataframe\">\n",
       "  <thead>\n",
       "    <tr style=\"text-align: right;\">\n",
       "      <th></th>\n",
       "      <th>relation</th>\n",
       "      <th>display_relation</th>\n",
       "      <th>x_id</th>\n",
       "      <th>x_type</th>\n",
       "      <th>x_name</th>\n",
       "      <th>x_source</th>\n",
       "      <th>y_id</th>\n",
       "      <th>y_type</th>\n",
       "      <th>y_name</th>\n",
       "      <th>y_source</th>\n",
       "    </tr>\n",
       "  </thead>\n",
       "  <tbody>\n",
       "    <tr>\n",
       "      <th>0</th>\n",
       "      <td>exposure_disease</td>\n",
       "      <td>linked to</td>\n",
       "      <td>C024566</td>\n",
       "      <td>exposure</td>\n",
       "      <td>1,1,1-trichloroethane</td>\n",
       "      <td>CTD</td>\n",
       "      <td>4976</td>\n",
       "      <td>disease</td>\n",
       "      <td>amyotrophic lateral sclerosis</td>\n",
       "      <td>MONDO</td>\n",
       "    </tr>\n",
       "  </tbody>\n",
       "</table>\n",
       "</div>"
      ],
      "text/plain": [
       "           relation display_relation     x_id    x_type  \\\n",
       "0  exposure_disease        linked to  C024566  exposure   \n",
       "\n",
       "                  x_name x_source  y_id   y_type  \\\n",
       "0  1,1,1-trichloroethane      CTD  4976  disease   \n",
       "\n",
       "                          y_name y_source  \n",
       "0  amyotrophic lateral sclerosis    MONDO  "
      ]
     },
     "execution_count": 32,
     "metadata": {},
     "output_type": "execute_result"
    }
   ],
   "source": [
    "df_exp_dis = df_exposures.get(['exposurestressorname', 'exposurestressorid','diseasename', 'diseaseid'])\n",
    "df_exp_dis = df_exp_dis.loc[df_exp_dis.get(['diseaseid']).dropna().index, :]\n",
    "df_exp_dis = pd.merge(df_exp_dis, df_mondo_xref.query('ontology==\"MESH\"'), 'left', left_on='diseaseid', right_on='ontology_id')\n",
    "df_exp_dis = pd.merge(df_exp_dis, df_mondo_terms, 'left', left_on='mondo_id', right_on= 'id')\n",
    "\n",
    "df_exp_dis = df_exp_dis.rename(columns={'exposurestressorid':'x_id', 'exposurestressorname':'x_name', 'mondo_id':'y_id', 'name':'y_name'})\n",
    "df_exp_dis['x_type'] = 'exposure'\n",
    "df_exp_dis['x_source'] = 'CTD'\n",
    "df_exp_dis['y_type'] = 'disease'\n",
    "df_exp_dis['y_source'] = 'MONDO'\n",
    "df_exp_dis['relation'] = 'exposure_disease'\n",
    "df_exp_dis['display_relation'] = 'linked to'\n",
    "df_exp_dis = clean_edges(df_exp_dis)\n",
    "df_exp_dis.head(1)"
   ]
  },
  {
   "cell_type": "markdown",
   "metadata": {
    "hidden": true
   },
   "source": [
    "### Exposure exposure interactions (CTD)"
   ]
  },
  {
   "cell_type": "code",
   "execution_count": 33,
   "metadata": {
    "ExecuteTime": {
     "end_time": "2021-08-06T12:18:43.918651Z",
     "start_time": "2021-08-06T12:18:43.138177Z"
    },
    "hidden": true
   },
   "outputs": [],
   "source": [
    "exposures = np.unique(df_exposures.get('exposurestressorid').values)\n",
    "df_exp_exp = df_exposures.query('exposuremarkerid in @exposures')\n",
    "\n",
    "df_exp_exp = df_exp_exp.get(['exposurestressorname', 'exposurestressorid','exposuremarker', 'exposuremarkerid'])\n",
    "df_exp_exp = df_exp_exp.loc[df_exp_exp.get(['exposuremarkerid']).dropna().index, :]\n",
    "df_exp_exp = df_exp_exp.drop_duplicates()\n",
    "\n",
    "df_exp_exp = df_exp_exp.rename(columns={'exposurestressorid':'x_id', 'exposurestressorname':'x_name', 'exposuremarker':'y_name', 'exposuremarkerid':'y_id'})\n",
    "df_exp_exp['x_type'] = 'exposure'\n",
    "df_exp_exp['x_source'] = 'CTD'\n",
    "df_exp_exp['y_type'] = 'exposure'\n",
    "df_exp_exp['y_source'] = 'CTD'\n",
    "df_exp_exp['relation'] = 'exposure_exposure'\n",
    "df_exp_exp['display_relation'] = 'parent-child'\n",
    "df_exp_exp = clean_edges(df_exp_exp)"
   ]
  },
  {
   "cell_type": "markdown",
   "metadata": {
    "hidden": true
   },
   "source": [
    "### Exposure pathway interactions (CTD)"
   ]
  },
  {
   "cell_type": "code",
   "execution_count": 34,
   "metadata": {
    "ExecuteTime": {
     "end_time": "2021-08-06T12:18:44.045651Z",
     "start_time": "2021-08-06T12:18:43.924387Z"
    },
    "hidden": true
   },
   "outputs": [],
   "source": [
    "# phenotypes are actually pathways \n",
    "\n",
    "df_exp_path = df_exposures.get(['exposurestressorname', 'exposurestressorid','phenotypename', 'phenotypeid'])\n",
    "df_exp_path = df_exp_path.loc[df_exp_path.get(['phenotypeid']).dropna().index, :]\n",
    "df_exp_path.loc[:, 'phenotypeid'] = [str(int(x.split(':')[1])) for x in df_exp_path.get(['phenotypeid']).values.reshape(-1)]\n",
    "df_exp_path = df_exp_path.drop_duplicates()\n",
    "df_exp_path = pd.merge(df_exp_path, df_go_terms, 'inner', left_on='phenotypeid', right_on='go_term_id')\n",
    "df_exp_path = df_exp_path.rename(columns={'exposurestressorid':'x_id', 'exposurestressorname':'x_name', \n",
    "                                          'go_term_id':'y_id', 'go_term_name':'y_name', 'go_term_type':'y_type'})\n",
    "df_exp_path['x_type'] = 'exposure'\n",
    "df_exp_path['x_source'] = 'CTD'\n",
    "df_exp_path['y_source'] = 'GO'"
   ]
  },
  {
   "cell_type": "code",
   "execution_count": 35,
   "metadata": {
    "ExecuteTime": {
     "end_time": "2021-08-06T12:18:44.139834Z",
     "start_time": "2021-08-06T12:18:44.048929Z"
    },
    "hidden": true
   },
   "outputs": [
    {
     "data": {
      "text/html": [
       "<div>\n",
       "<style scoped>\n",
       "    .dataframe tbody tr th:only-of-type {\n",
       "        vertical-align: middle;\n",
       "    }\n",
       "\n",
       "    .dataframe tbody tr th {\n",
       "        vertical-align: top;\n",
       "    }\n",
       "\n",
       "    .dataframe thead th {\n",
       "        text-align: right;\n",
       "    }\n",
       "</style>\n",
       "<table border=\"1\" class=\"dataframe\">\n",
       "  <thead>\n",
       "    <tr style=\"text-align: right;\">\n",
       "      <th></th>\n",
       "      <th>relation</th>\n",
       "      <th>display_relation</th>\n",
       "      <th>x_id</th>\n",
       "      <th>x_type</th>\n",
       "      <th>x_name</th>\n",
       "      <th>x_source</th>\n",
       "      <th>y_id</th>\n",
       "      <th>y_type</th>\n",
       "      <th>y_name</th>\n",
       "      <th>y_source</th>\n",
       "    </tr>\n",
       "  </thead>\n",
       "  <tbody>\n",
       "    <tr>\n",
       "      <th>0</th>\n",
       "      <td>exposure_bioprocess</td>\n",
       "      <td>interacts with</td>\n",
       "      <td>C046839</td>\n",
       "      <td>exposure</td>\n",
       "      <td>1,2,3,4,6,7,8-heptachlorodibenzodioxin</td>\n",
       "      <td>CTD</td>\n",
       "      <td>8217</td>\n",
       "      <td>biological_process</td>\n",
       "      <td>regulation of blood pressure</td>\n",
       "      <td>GO</td>\n",
       "    </tr>\n",
       "  </tbody>\n",
       "</table>\n",
       "</div>"
      ],
      "text/plain": [
       "              relation display_relation     x_id    x_type  \\\n",
       "0  exposure_bioprocess   interacts with  C046839  exposure   \n",
       "\n",
       "                                   x_name x_source  y_id              y_type  \\\n",
       "0  1,2,3,4,6,7,8-heptachlorodibenzodioxin      CTD  8217  biological_process   \n",
       "\n",
       "                         y_name y_source  \n",
       "0  regulation of blood pressure       GO  "
      ]
     },
     "execution_count": 35,
     "metadata": {},
     "output_type": "execute_result"
    }
   ],
   "source": [
    "df_exp_bp = df_exp_path.query('y_type==\"biological_process\"').copy()\n",
    "df_exp_bp['relation'] = 'exposure_bioprocess'\n",
    "df_exp_bp['display_relation'] = 'interacts with'\n",
    "df_exp_bp = clean_edges(df_exp_bp)\n",
    "df_exp_bp.head(1)"
   ]
  },
  {
   "cell_type": "code",
   "execution_count": 36,
   "metadata": {
    "ExecuteTime": {
     "end_time": "2021-08-06T12:18:44.221350Z",
     "start_time": "2021-08-06T12:18:44.143253Z"
    },
    "hidden": true
   },
   "outputs": [
    {
     "data": {
      "text/html": [
       "<div>\n",
       "<style scoped>\n",
       "    .dataframe tbody tr th:only-of-type {\n",
       "        vertical-align: middle;\n",
       "    }\n",
       "\n",
       "    .dataframe tbody tr th {\n",
       "        vertical-align: top;\n",
       "    }\n",
       "\n",
       "    .dataframe thead th {\n",
       "        text-align: right;\n",
       "    }\n",
       "</style>\n",
       "<table border=\"1\" class=\"dataframe\">\n",
       "  <thead>\n",
       "    <tr style=\"text-align: right;\">\n",
       "      <th></th>\n",
       "      <th>relation</th>\n",
       "      <th>display_relation</th>\n",
       "      <th>x_id</th>\n",
       "      <th>x_type</th>\n",
       "      <th>x_name</th>\n",
       "      <th>x_source</th>\n",
       "      <th>y_id</th>\n",
       "      <th>y_type</th>\n",
       "      <th>y_name</th>\n",
       "      <th>y_source</th>\n",
       "    </tr>\n",
       "  </thead>\n",
       "  <tbody>\n",
       "    <tr>\n",
       "      <th>527</th>\n",
       "      <td>exposure_molfunc</td>\n",
       "      <td>interacts with</td>\n",
       "      <td>C014024</td>\n",
       "      <td>exposure</td>\n",
       "      <td>2,4,5,2',4',5'-hexachlorobiphenyl</td>\n",
       "      <td>CTD</td>\n",
       "      <td>19766</td>\n",
       "      <td>molecular_function</td>\n",
       "      <td>IgA receptor activity</td>\n",
       "      <td>GO</td>\n",
       "    </tr>\n",
       "  </tbody>\n",
       "</table>\n",
       "</div>"
      ],
      "text/plain": [
       "             relation display_relation     x_id    x_type  \\\n",
       "527  exposure_molfunc   interacts with  C014024  exposure   \n",
       "\n",
       "                                x_name x_source   y_id              y_type  \\\n",
       "527  2,4,5,2',4',5'-hexachlorobiphenyl      CTD  19766  molecular_function   \n",
       "\n",
       "                    y_name y_source  \n",
       "527  IgA receptor activity       GO  "
      ]
     },
     "execution_count": 36,
     "metadata": {},
     "output_type": "execute_result"
    }
   ],
   "source": [
    "df_exp_mf = df_exp_path.query('y_type==\"molecular_function\"').copy()\n",
    "df_exp_mf['relation'] = 'exposure_molfunc'\n",
    "df_exp_mf['display_relation'] = 'interacts with'\n",
    "df_exp_mf = clean_edges(df_exp_mf)\n",
    "df_exp_mf.head(1)"
   ]
  },
  {
   "cell_type": "code",
   "execution_count": 37,
   "metadata": {
    "ExecuteTime": {
     "end_time": "2021-08-06T12:18:44.291345Z",
     "start_time": "2021-08-06T12:18:44.223480Z"
    },
    "hidden": true
   },
   "outputs": [
    {
     "data": {
      "text/html": [
       "<div>\n",
       "<style scoped>\n",
       "    .dataframe tbody tr th:only-of-type {\n",
       "        vertical-align: middle;\n",
       "    }\n",
       "\n",
       "    .dataframe tbody tr th {\n",
       "        vertical-align: top;\n",
       "    }\n",
       "\n",
       "    .dataframe thead th {\n",
       "        text-align: right;\n",
       "    }\n",
       "</style>\n",
       "<table border=\"1\" class=\"dataframe\">\n",
       "  <thead>\n",
       "    <tr style=\"text-align: right;\">\n",
       "      <th></th>\n",
       "      <th>relation</th>\n",
       "      <th>display_relation</th>\n",
       "      <th>x_id</th>\n",
       "      <th>x_type</th>\n",
       "      <th>x_name</th>\n",
       "      <th>x_source</th>\n",
       "      <th>y_id</th>\n",
       "      <th>y_type</th>\n",
       "      <th>y_name</th>\n",
       "      <th>y_source</th>\n",
       "    </tr>\n",
       "  </thead>\n",
       "  <tbody>\n",
       "    <tr>\n",
       "      <th>833</th>\n",
       "      <td>exposure_cellcomp</td>\n",
       "      <td>interacts with</td>\n",
       "      <td>D000393</td>\n",
       "      <td>exposure</td>\n",
       "      <td>Air Pollutants</td>\n",
       "      <td>CTD</td>\n",
       "      <td>71743</td>\n",
       "      <td>cellular_component</td>\n",
       "      <td>IgE immunoglobulin complex, circulating</td>\n",
       "      <td>GO</td>\n",
       "    </tr>\n",
       "  </tbody>\n",
       "</table>\n",
       "</div>"
      ],
      "text/plain": [
       "              relation display_relation     x_id    x_type          x_name  \\\n",
       "833  exposure_cellcomp   interacts with  D000393  exposure  Air Pollutants   \n",
       "\n",
       "    x_source   y_id              y_type  \\\n",
       "833      CTD  71743  cellular_component   \n",
       "\n",
       "                                      y_name y_source  \n",
       "833  IgE immunoglobulin complex, circulating       GO  "
      ]
     },
     "execution_count": 37,
     "metadata": {},
     "output_type": "execute_result"
    }
   ],
   "source": [
    "df_exp_cc = df_exp_path.query('y_type==\"cellular_component\"').copy()\n",
    "df_exp_cc['relation'] = 'exposure_cellcomp'\n",
    "df_exp_cc['display_relation'] = 'interacts with'\n",
    "df_exp_cc = clean_edges(df_exp_cc)\n",
    "df_exp_cc.head(1)"
   ]
  },
  {
   "cell_type": "markdown",
   "metadata": {
    "hidden": true
   },
   "source": [
    "## Anatomy"
   ]
  },
  {
   "cell_type": "markdown",
   "metadata": {
    "hidden": true
   },
   "source": [
    "### Anatomy anatomy interactions (UBERON) "
   ]
  },
  {
   "cell_type": "code",
   "execution_count": 38,
   "metadata": {
    "ExecuteTime": {
     "end_time": "2021-08-06T12:18:44.470250Z",
     "start_time": "2021-08-06T12:18:44.294967Z"
    },
    "hidden": true
   },
   "outputs": [
    {
     "data": {
      "text/html": [
       "<div>\n",
       "<style scoped>\n",
       "    .dataframe tbody tr th:only-of-type {\n",
       "        vertical-align: middle;\n",
       "    }\n",
       "\n",
       "    .dataframe tbody tr th {\n",
       "        vertical-align: top;\n",
       "    }\n",
       "\n",
       "    .dataframe thead th {\n",
       "        text-align: right;\n",
       "    }\n",
       "</style>\n",
       "<table border=\"1\" class=\"dataframe\">\n",
       "  <thead>\n",
       "    <tr style=\"text-align: right;\">\n",
       "      <th></th>\n",
       "      <th>relation</th>\n",
       "      <th>display_relation</th>\n",
       "      <th>x_id</th>\n",
       "      <th>x_type</th>\n",
       "      <th>x_name</th>\n",
       "      <th>x_source</th>\n",
       "      <th>y_id</th>\n",
       "      <th>y_type</th>\n",
       "      <th>y_name</th>\n",
       "      <th>y_source</th>\n",
       "    </tr>\n",
       "  </thead>\n",
       "  <tbody>\n",
       "    <tr>\n",
       "      <th>0</th>\n",
       "      <td>anatomy_anatomy</td>\n",
       "      <td>parent-child</td>\n",
       "      <td>2</td>\n",
       "      <td>anatomy</td>\n",
       "      <td>uterine cervix</td>\n",
       "      <td>UBERON</td>\n",
       "      <td>5156</td>\n",
       "      <td>anatomy</td>\n",
       "      <td>reproductive structure</td>\n",
       "      <td>UBERON</td>\n",
       "    </tr>\n",
       "  </tbody>\n",
       "</table>\n",
       "</div>"
      ],
      "text/plain": [
       "          relation display_relation x_id   x_type          x_name x_source  \\\n",
       "0  anatomy_anatomy     parent-child    2  anatomy  uterine cervix   UBERON   \n",
       "\n",
       "   y_id   y_type                  y_name y_source  \n",
       "0  5156  anatomy  reproductive structure   UBERON  "
      ]
     },
     "execution_count": 38,
     "metadata": {},
     "output_type": "execute_result"
    }
   ],
   "source": [
    "df_ana_ana = pd.merge(df_uberon_is_a, df_uberon_terms, 'left', left_on='id', right_on='id')\n",
    "df_ana_ana = df_ana_ana.rename(columns={'id':'x_id', 'name':'x_name'})\n",
    "df_ana_ana = pd.merge(df_ana_ana, df_uberon_terms, 'left', left_on='is_a', right_on='id')\n",
    "df_ana_ana = df_ana_ana.rename(columns={'id':'y_id', 'name':'y_name'})\n",
    "df_ana_ana['x_type'] = 'anatomy'\n",
    "df_ana_ana['x_source'] = 'UBERON'\n",
    "df_ana_ana['y_type'] = 'anatomy'\n",
    "df_ana_ana['y_source'] = 'UBERON'\n",
    "df_ana_ana['relation'] = 'anatomy_anatomy'\n",
    "df_ana_ana['display_relation'] = 'parent-child'\n",
    "df_ana_ana = clean_edges(df_ana_ana)\n",
    "df_ana_ana.head(1)"
   ]
  },
  {
   "cell_type": "markdown",
   "metadata": {
    "hidden": true
   },
   "source": [
    "### Anatomy Protein (BGEE)"
   ]
  },
  {
   "cell_type": "code",
   "execution_count": 39,
   "metadata": {
    "ExecuteTime": {
     "end_time": "2021-08-06T12:18:46.577643Z",
     "start_time": "2021-08-06T12:18:44.475187Z"
    },
    "hidden": true
   },
   "outputs": [],
   "source": [
    "df_bgee = pd.merge(df_bgee, df_prot_names, 'inner', left_on='gene_name', right_on='symbol')\n",
    "df_bgee = df_bgee.rename(columns={'ncbi_id':'x_id', 'symbol':'x_name', \n",
    "                                  'anatomy_id':'y_id', 'anatomy_name':'y_name'})\n",
    "df_bgee['x_source'] = 'NCBI'\n",
    "df_bgee['x_type'] = 'gene/protein'\n",
    "df_bgee['y_source'] = 'UBERON'\n",
    "df_bgee['y_type'] = 'anatomy'"
   ]
  },
  {
   "cell_type": "code",
   "execution_count": 40,
   "metadata": {
    "ExecuteTime": {
     "end_time": "2021-08-06T12:18:50.843665Z",
     "start_time": "2021-08-06T12:18:46.579406Z"
    },
    "hidden": true
   },
   "outputs": [
    {
     "data": {
      "text/html": [
       "<div>\n",
       "<style scoped>\n",
       "    .dataframe tbody tr th:only-of-type {\n",
       "        vertical-align: middle;\n",
       "    }\n",
       "\n",
       "    .dataframe tbody tr th {\n",
       "        vertical-align: top;\n",
       "    }\n",
       "\n",
       "    .dataframe thead th {\n",
       "        text-align: right;\n",
       "    }\n",
       "</style>\n",
       "<table border=\"1\" class=\"dataframe\">\n",
       "  <thead>\n",
       "    <tr style=\"text-align: right;\">\n",
       "      <th></th>\n",
       "      <th>relation</th>\n",
       "      <th>display_relation</th>\n",
       "      <th>x_id</th>\n",
       "      <th>x_type</th>\n",
       "      <th>x_name</th>\n",
       "      <th>x_source</th>\n",
       "      <th>y_id</th>\n",
       "      <th>y_type</th>\n",
       "      <th>y_name</th>\n",
       "      <th>y_source</th>\n",
       "    </tr>\n",
       "  </thead>\n",
       "  <tbody>\n",
       "    <tr>\n",
       "      <th>0</th>\n",
       "      <td>anatomy_protein_present</td>\n",
       "      <td>expression present</td>\n",
       "      <td>7105</td>\n",
       "      <td>gene/protein</td>\n",
       "      <td>TSPAN6</td>\n",
       "      <td>NCBI</td>\n",
       "      <td>2</td>\n",
       "      <td>anatomy</td>\n",
       "      <td>uterine cervix</td>\n",
       "      <td>UBERON</td>\n",
       "    </tr>\n",
       "  </tbody>\n",
       "</table>\n",
       "</div>"
      ],
      "text/plain": [
       "                  relation    display_relation  x_id        x_type  x_name  \\\n",
       "0  anatomy_protein_present  expression present  7105  gene/protein  TSPAN6   \n",
       "\n",
       "  x_source y_id   y_type          y_name y_source  \n",
       "0     NCBI    2  anatomy  uterine cervix   UBERON  "
      ]
     },
     "execution_count": 40,
     "metadata": {},
     "output_type": "execute_result"
    }
   ],
   "source": [
    "df_ana_prot_pos = df_bgee.query('expression==\"present\"').copy()\n",
    "df_ana_prot_pos['relation'] = 'anatomy_protein_present'\n",
    "df_ana_prot_pos['display_relation'] = 'expression present'\n",
    "df_ana_prot_pos = clean_edges(df_ana_prot_pos)\n",
    "df_ana_prot_pos.head(1)"
   ]
  },
  {
   "cell_type": "code",
   "execution_count": 41,
   "metadata": {
    "ExecuteTime": {
     "end_time": "2021-08-06T12:18:51.146611Z",
     "start_time": "2021-08-06T12:18:50.858329Z"
    },
    "hidden": true
   },
   "outputs": [
    {
     "data": {
      "text/html": [
       "<div>\n",
       "<style scoped>\n",
       "    .dataframe tbody tr th:only-of-type {\n",
       "        vertical-align: middle;\n",
       "    }\n",
       "\n",
       "    .dataframe tbody tr th {\n",
       "        vertical-align: top;\n",
       "    }\n",
       "\n",
       "    .dataframe thead th {\n",
       "        text-align: right;\n",
       "    }\n",
       "</style>\n",
       "<table border=\"1\" class=\"dataframe\">\n",
       "  <thead>\n",
       "    <tr style=\"text-align: right;\">\n",
       "      <th></th>\n",
       "      <th>relation</th>\n",
       "      <th>display_relation</th>\n",
       "      <th>x_id</th>\n",
       "      <th>x_type</th>\n",
       "      <th>x_name</th>\n",
       "      <th>x_source</th>\n",
       "      <th>y_id</th>\n",
       "      <th>y_type</th>\n",
       "      <th>y_name</th>\n",
       "      <th>y_source</th>\n",
       "    </tr>\n",
       "  </thead>\n",
       "  <tbody>\n",
       "    <tr>\n",
       "      <th>507</th>\n",
       "      <td>anatomy_protein_absent</td>\n",
       "      <td>expression absent</td>\n",
       "      <td>2268</td>\n",
       "      <td>gene/protein</td>\n",
       "      <td>FGR</td>\n",
       "      <td>NCBI</td>\n",
       "      <td>1476</td>\n",
       "      <td>anatomy</td>\n",
       "      <td>deltoid</td>\n",
       "      <td>UBERON</td>\n",
       "    </tr>\n",
       "  </tbody>\n",
       "</table>\n",
       "</div>"
      ],
      "text/plain": [
       "                   relation   display_relation  x_id        x_type x_name  \\\n",
       "507  anatomy_protein_absent  expression absent  2268  gene/protein    FGR   \n",
       "\n",
       "    x_source  y_id   y_type   y_name y_source  \n",
       "507     NCBI  1476  anatomy  deltoid   UBERON  "
      ]
     },
     "execution_count": 41,
     "metadata": {},
     "output_type": "execute_result"
    }
   ],
   "source": [
    "df_ana_prot_neg = df_bgee.query('expression==\"absent\"').copy()\n",
    "df_ana_prot_neg['relation'] = 'anatomy_protein_absent'\n",
    "df_ana_prot_neg['display_relation'] = 'expression absent'\n",
    "df_ana_prot_neg = clean_edges(df_ana_prot_neg)\n",
    "df_ana_prot_neg.head(1)"
   ]
  },
  {
   "cell_type": "markdown",
   "metadata": {
    "hidden": true
   },
   "source": [
    "## Pathways"
   ]
  },
  {
   "cell_type": "code",
   "execution_count": 42,
   "metadata": {
    "ExecuteTime": {
     "end_time": "2021-08-06T12:18:51.324577Z",
     "start_time": "2021-08-06T12:18:51.152492Z"
    },
    "hidden": true
   },
   "outputs": [
    {
     "data": {
      "text/html": [
       "<div>\n",
       "<style scoped>\n",
       "    .dataframe tbody tr th:only-of-type {\n",
       "        vertical-align: middle;\n",
       "    }\n",
       "\n",
       "    .dataframe tbody tr th {\n",
       "        vertical-align: top;\n",
       "    }\n",
       "\n",
       "    .dataframe thead th {\n",
       "        text-align: right;\n",
       "    }\n",
       "</style>\n",
       "<table border=\"1\" class=\"dataframe\">\n",
       "  <thead>\n",
       "    <tr style=\"text-align: right;\">\n",
       "      <th></th>\n",
       "      <th>relation</th>\n",
       "      <th>display_relation</th>\n",
       "      <th>x_id</th>\n",
       "      <th>x_type</th>\n",
       "      <th>x_name</th>\n",
       "      <th>x_source</th>\n",
       "      <th>y_id</th>\n",
       "      <th>y_type</th>\n",
       "      <th>y_name</th>\n",
       "      <th>y_source</th>\n",
       "    </tr>\n",
       "  </thead>\n",
       "  <tbody>\n",
       "    <tr>\n",
       "      <th>0</th>\n",
       "      <td>pathway_pathway</td>\n",
       "      <td>parent-child</td>\n",
       "      <td>R-HSA-109581</td>\n",
       "      <td>pathway</td>\n",
       "      <td>Apoptosis</td>\n",
       "      <td>REACTOME</td>\n",
       "      <td>R-HSA-109606</td>\n",
       "      <td>pathway</td>\n",
       "      <td>Intrinsic Pathway for Apoptosis</td>\n",
       "      <td>REACTOME</td>\n",
       "    </tr>\n",
       "  </tbody>\n",
       "</table>\n",
       "</div>"
      ],
      "text/plain": [
       "          relation display_relation          x_id   x_type     x_name  \\\n",
       "0  pathway_pathway     parent-child  R-HSA-109581  pathway  Apoptosis   \n",
       "\n",
       "   x_source          y_id   y_type                           y_name  y_source  \n",
       "0  REACTOME  R-HSA-109606  pathway  Intrinsic Pathway for Apoptosis  REACTOME  "
      ]
     },
     "execution_count": 42,
     "metadata": {},
     "output_type": "execute_result"
    }
   ],
   "source": [
    "df_path_path = pd.merge(df_reactome_rels, df_reactome_terms, 'inner', left_on='reactome_id_1', right_on='reactome_id')\n",
    "df_path_path = df_path_path.rename(columns={'reactome_id': 'x_id', 'reactome_name':'x_name'})\n",
    "df_path_path = pd.merge(df_path_path, df_reactome_terms, 'inner', left_on='reactome_id_2', right_on='reactome_id')\n",
    "df_path_path = df_path_path.rename(columns={'reactome_id': 'y_id', 'reactome_name':'y_name'})\n",
    "\n",
    "df_path_path['x_source'] = 'REACTOME'\n",
    "df_path_path['x_type'] = 'pathway'\n",
    "df_path_path['y_source'] = 'REACTOME'\n",
    "df_path_path['y_type'] = 'pathway'\n",
    "df_path_path['relation'] = 'pathway_pathway'\n",
    "df_path_path['display_relation'] = 'parent-child'\n",
    "df_path_path = clean_edges(df_path_path)\n",
    "df_path_path.head(1)"
   ]
  },
  {
   "cell_type": "markdown",
   "metadata": {
    "hidden": true
   },
   "source": [
    "### Pathway protein interactions"
   ]
  },
  {
   "cell_type": "code",
   "execution_count": 43,
   "metadata": {
    "ExecuteTime": {
     "end_time": "2021-08-06T12:18:51.616244Z",
     "start_time": "2021-08-06T12:18:51.328730Z"
    },
    "hidden": true
   },
   "outputs": [
    {
     "data": {
      "text/html": [
       "<div>\n",
       "<style scoped>\n",
       "    .dataframe tbody tr th:only-of-type {\n",
       "        vertical-align: middle;\n",
       "    }\n",
       "\n",
       "    .dataframe tbody tr th {\n",
       "        vertical-align: top;\n",
       "    }\n",
       "\n",
       "    .dataframe thead th {\n",
       "        text-align: right;\n",
       "    }\n",
       "</style>\n",
       "<table border=\"1\" class=\"dataframe\">\n",
       "  <thead>\n",
       "    <tr style=\"text-align: right;\">\n",
       "      <th></th>\n",
       "      <th>relation</th>\n",
       "      <th>display_relation</th>\n",
       "      <th>x_id</th>\n",
       "      <th>x_type</th>\n",
       "      <th>x_name</th>\n",
       "      <th>x_source</th>\n",
       "      <th>y_id</th>\n",
       "      <th>y_type</th>\n",
       "      <th>y_name</th>\n",
       "      <th>y_source</th>\n",
       "    </tr>\n",
       "  </thead>\n",
       "  <tbody>\n",
       "    <tr>\n",
       "      <th>0</th>\n",
       "      <td>pathway_protein</td>\n",
       "      <td>interacts with</td>\n",
       "      <td>1</td>\n",
       "      <td>gene/protein</td>\n",
       "      <td>A1BG</td>\n",
       "      <td>NCBI</td>\n",
       "      <td>R-HSA-114608</td>\n",
       "      <td>pathway</td>\n",
       "      <td>Platelet degranulation</td>\n",
       "      <td>REACTOME</td>\n",
       "    </tr>\n",
       "  </tbody>\n",
       "</table>\n",
       "</div>"
      ],
      "text/plain": [
       "          relation display_relation x_id        x_type x_name x_source  \\\n",
       "0  pathway_protein   interacts with    1  gene/protein   A1BG     NCBI   \n",
       "\n",
       "           y_id   y_type                   y_name  y_source  \n",
       "0  R-HSA-114608  pathway  Platelet degranulation   REACTOME  "
      ]
     },
     "execution_count": 43,
     "metadata": {},
     "output_type": "execute_result"
    }
   ],
   "source": [
    "df_path_prot = pd.merge(df_reactome_ncbi, df_prot_names, 'inner', 'ncbi_id')\n",
    "\n",
    "df_path_prot = df_path_prot.rename(columns={'ncbi_id': 'x_id', 'symbol':'x_name', \n",
    "                                            'reactome_id': 'y_id', 'reactome_name':'y_name'})\n",
    "df_path_prot['x_source'] = 'NCBI'\n",
    "df_path_prot['x_type'] = 'gene/protein'\n",
    "df_path_prot['y_source'] = 'REACTOME'\n",
    "df_path_prot['y_type'] = 'pathway'\n",
    "df_path_prot['relation'] = 'pathway_protein'\n",
    "df_path_prot['display_relation'] = 'interacts with'\n",
    "df_path_prot = clean_edges(df_path_prot)\n",
    "df_path_prot.head(1)"
   ]
  },
  {
   "cell_type": "markdown",
   "metadata": {},
   "source": [
    "## Variant gene interactions"
   ]
  },
  {
   "cell_type": "code",
   "execution_count": 44,
   "metadata": {
    "scrolled": true
   },
   "outputs": [
    {
     "data": {
      "text/html": [
       "<div>\n",
       "<style scoped>\n",
       "    .dataframe tbody tr th:only-of-type {\n",
       "        vertical-align: middle;\n",
       "    }\n",
       "\n",
       "    .dataframe tbody tr th {\n",
       "        vertical-align: top;\n",
       "    }\n",
       "\n",
       "    .dataframe thead th {\n",
       "        text-align: right;\n",
       "    }\n",
       "</style>\n",
       "<table border=\"1\" class=\"dataframe\">\n",
       "  <thead>\n",
       "    <tr style=\"text-align: right;\">\n",
       "      <th></th>\n",
       "      <th>variant_id</th>\n",
       "      <th>variant_label</th>\n",
       "      <th>hgnc_id</th>\n",
       "      <th>relation_label</th>\n",
       "    </tr>\n",
       "  </thead>\n",
       "  <tbody>\n",
       "    <tr>\n",
       "      <th>0</th>\n",
       "      <td>OMIM:148040.0012</td>\n",
       "      <td>KRT5, SER181PRO</td>\n",
       "      <td>6442</td>\n",
       "      <td>is_allele_of</td>\n",
       "    </tr>\n",
       "  </tbody>\n",
       "</table>\n",
       "</div>"
      ],
      "text/plain": [
       "         variant_id    variant_label hgnc_id relation_label\n",
       "0  OMIM:148040.0012  KRT5, SER181PRO    6442   is_allele_of"
      ]
     },
     "execution_count": 44,
     "metadata": {},
     "output_type": "execute_result"
    }
   ],
   "source": [
    "df_variant_gene_hgnc = pd.merge(df_variant_gene[df_variant_gene[\"gene_source\"] == \"HGNC\"], df_gene_mapping, 'left', left_on='gene_id', right_on=\"hgnc_id\")\n",
    "assert len(df_variant_gene_hgnc[df_variant_gene_hgnc[\"hgnc_id\"].isna()]) == 0\n",
    "df_variant_gene_hgnc = df_variant_gene_hgnc.get([\"variant_id\", \"variant_label\", \"hgnc_id\", \"relation_label\"]).drop_duplicates()\n",
    "df_variant_gene_hgnc.head(1)"
   ]
  },
  {
   "cell_type": "code",
   "execution_count": 45,
   "metadata": {},
   "outputs": [
    {
     "data": {
      "text/html": [
       "<div>\n",
       "<style scoped>\n",
       "    .dataframe tbody tr th:only-of-type {\n",
       "        vertical-align: middle;\n",
       "    }\n",
       "\n",
       "    .dataframe tbody tr th {\n",
       "        vertical-align: top;\n",
       "    }\n",
       "\n",
       "    .dataframe thead th {\n",
       "        text-align: right;\n",
       "    }\n",
       "</style>\n",
       "<table border=\"1\" class=\"dataframe\">\n",
       "  <thead>\n",
       "    <tr style=\"text-align: right;\">\n",
       "      <th></th>\n",
       "      <th>variant_id</th>\n",
       "      <th>variant_label</th>\n",
       "      <th>hgnc_id</th>\n",
       "      <th>relation_label</th>\n",
       "    </tr>\n",
       "  </thead>\n",
       "  <tbody>\n",
       "  </tbody>\n",
       "</table>\n",
       "</div>"
      ],
      "text/plain": [
       "Empty DataFrame\n",
       "Columns: [variant_id, variant_label, hgnc_id, relation_label]\n",
       "Index: []"
      ]
     },
     "execution_count": 45,
     "metadata": {},
     "output_type": "execute_result"
    }
   ],
   "source": [
    "df_gene_mapping_ncbi = df_gene_mapping[~df_gene_mapping[\"ncbi_id\"].isna()].astype({\"ncbi_id\":int}).astype({\"ncbi_id\":str})\n",
    "df_variant_gene_ncbi = pd.merge(df_variant_gene[df_variant_gene[\"gene_source\"] == \"NCBIGene\"], df_gene_mapping_ncbi, 'inner', left_on='gene_id', right_on=\"ncbi_id\")\n",
    "df_variant_gene_ncbi = df_variant_gene_ncbi.get([\"variant_id\", \"variant_label\", \"hgnc_id\", \"relation_label\"]).drop_duplicates()\n",
    "df_variant_gene_ncbi.head(1)"
   ]
  },
  {
   "cell_type": "code",
   "execution_count": 46,
   "metadata": {},
   "outputs": [
    {
     "data": {
      "text/html": [
       "<div>\n",
       "<style scoped>\n",
       "    .dataframe tbody tr th:only-of-type {\n",
       "        vertical-align: middle;\n",
       "    }\n",
       "\n",
       "    .dataframe tbody tr th {\n",
       "        vertical-align: top;\n",
       "    }\n",
       "\n",
       "    .dataframe thead th {\n",
       "        text-align: right;\n",
       "    }\n",
       "</style>\n",
       "<table border=\"1\" class=\"dataframe\">\n",
       "  <thead>\n",
       "    <tr style=\"text-align: right;\">\n",
       "      <th></th>\n",
       "      <th>variant_id</th>\n",
       "      <th>variant_label</th>\n",
       "      <th>hgnc_id</th>\n",
       "      <th>relation_label</th>\n",
       "    </tr>\n",
       "  </thead>\n",
       "  <tbody>\n",
       "  </tbody>\n",
       "</table>\n",
       "</div>"
      ],
      "text/plain": [
       "Empty DataFrame\n",
       "Columns: [variant_id, variant_label, hgnc_id, relation_label]\n",
       "Index: []"
      ]
     },
     "execution_count": 46,
     "metadata": {},
     "output_type": "execute_result"
    }
   ],
   "source": [
    "df_gene_mapping_omim = df_gene_mapping[~df_gene_mapping[\"omim_id\"].isna()].astype({\"omim_id\":int}).astype({\"omim_id\":str})\n",
    "df_variant_gene_omim = pd.merge(df_variant_gene[df_variant_gene[\"gene_source\"] == \"OMIM\"], df_gene_mapping_omim, 'inner', left_on='gene_id', right_on=\"omim_id\")\n",
    "df_variant_gene_omim = df_variant_gene_omim[~df_variant_gene_omim[\"ncbi_id\"].isna()].astype({\"ncbi_id\":int}).astype({\"ncbi_id\":str})\n",
    "df_variant_gene_omim = df_variant_gene_omim.get([\"variant_id\", \"variant_label\", \"hgnc_id\", \"relation_label\"]).drop_duplicates()\n",
    "df_variant_gene_omim.head(1)"
   ]
  },
  {
   "cell_type": "code",
   "execution_count": 47,
   "metadata": {},
   "outputs": [
    {
     "data": {
      "text/html": [
       "<div>\n",
       "<style scoped>\n",
       "    .dataframe tbody tr th:only-of-type {\n",
       "        vertical-align: middle;\n",
       "    }\n",
       "\n",
       "    .dataframe tbody tr th {\n",
       "        vertical-align: top;\n",
       "    }\n",
       "\n",
       "    .dataframe thead th {\n",
       "        text-align: right;\n",
       "    }\n",
       "</style>\n",
       "<table border=\"1\" class=\"dataframe\">\n",
       "  <thead>\n",
       "    <tr style=\"text-align: right;\">\n",
       "      <th></th>\n",
       "      <th>variant_id</th>\n",
       "      <th>variant_label</th>\n",
       "      <th>hgnc_id</th>\n",
       "      <th>relation_label</th>\n",
       "    </tr>\n",
       "  </thead>\n",
       "  <tbody>\n",
       "    <tr>\n",
       "      <th>0</th>\n",
       "      <td>dbSNP:rs2161300</td>\n",
       "      <td>rs2161300-T</td>\n",
       "      <td>56066</td>\n",
       "      <td>has_affected_feature</td>\n",
       "    </tr>\n",
       "  </tbody>\n",
       "</table>\n",
       "</div>"
      ],
      "text/plain": [
       "        variant_id variant_label hgnc_id        relation_label\n",
       "0  dbSNP:rs2161300   rs2161300-T   56066  has_affected_feature"
      ]
     },
     "execution_count": 47,
     "metadata": {},
     "output_type": "execute_result"
    }
   ],
   "source": [
    "df_gene_mapping_ensg = df_gene_mapping[~df_gene_mapping[\"ens_id\"].isna()]\n",
    "df_variant_gene_ensg = pd.merge(df_variant_gene[df_variant_gene[\"gene_source\"] == \"ENSEMBL\"], df_gene_mapping_ensg, 'inner', left_on='gene_id', right_on=\"ens_id\")\n",
    "df_variant_gene_ensg = df_variant_gene_ensg[~df_variant_gene_ensg[\"ncbi_id\"].isna()].astype({\"ncbi_id\":int}).astype({\"ncbi_id\":str})\n",
    "df_variant_gene_ensg = df_variant_gene_ensg.get([\"variant_id\", \"variant_label\", \"hgnc_id\", \"relation_label\"]).rename(columns={\"gene_id\": \"gene_name\"}).drop_duplicates()\n",
    "df_variant_gene_ensg.head(1)"
   ]
  },
  {
   "cell_type": "code",
   "execution_count": 48,
   "metadata": {
    "scrolled": true
   },
   "outputs": [
    {
     "name": "stdout",
     "output_type": "stream",
     "text": [
      "All HGNC genes from Monarch Initiative: (226413, 6)\n",
      "Mapped HGNC genes to HGNC: (226413, 4)\n",
      "All NCBI genes from Monarch Initiative: (15, 6)\n",
      "Mapped NCBI genes to HGNC: (0, 4)\n",
      "All OMIM genes from Monarch Initiative: (1, 6)\n",
      "Mapped OMIM genes to HGNC: (0, 4)\n",
      "All ENS genes from Monarch Initiative: (459, 6)\n",
      "Mapped ENS genes to HGNC: (10, 4)\n"
     ]
    }
   ],
   "source": [
    "print(\"All HGNC genes from Monarch Initiative:\", df_variant_gene[df_variant_gene[\"gene_source\"] == \"HGNC\"].shape)\n",
    "print(\"Mapped HGNC genes to HGNC:\", df_variant_gene_hgnc.shape)\n",
    "\n",
    "print(\"All NCBI genes from Monarch Initiative:\", df_variant_gene[df_variant_gene[\"gene_source\"] == \"NCBIGene\"].shape)\n",
    "print(\"Mapped NCBI genes to HGNC:\", df_variant_gene_ncbi.shape)\n",
    "\n",
    "print(\"All OMIM genes from Monarch Initiative:\", df_variant_gene[df_variant_gene[\"gene_source\"] == \"OMIM\"].shape)\n",
    "print(\"Mapped OMIM genes to HGNC:\", df_variant_gene_omim.shape)\n",
    "\n",
    "print(\"All ENS genes from Monarch Initiative:\", df_variant_gene[df_variant_gene[\"gene_source\"] == \"ENSEMBL\"].shape)\n",
    "print(\"Mapped ENS genes to HGNC:\", df_variant_gene_ensg.shape)"
   ]
  },
  {
   "cell_type": "code",
   "execution_count": 49,
   "metadata": {},
   "outputs": [
    {
     "name": "stdout",
     "output_type": "stream",
     "text": [
      "Final variant-gene associations: (226418, 4)\n"
     ]
    }
   ],
   "source": [
    "df_variant_gene_hgnc = pd.concat([df_variant_gene_hgnc, df_variant_gene_ncbi, df_variant_gene_omim, df_variant_gene_ensg], ignore_index=True)\n",
    "df_variant_gene_hgnc = df_variant_gene_hgnc.drop_duplicates()\n",
    "print(\"Final variant-gene associations:\", df_variant_gene_hgnc.shape)"
   ]
  },
  {
   "cell_type": "code",
   "execution_count": null,
   "metadata": {},
   "outputs": [],
   "source": [
    "\n",
    "# Need to map NCBI to HGNC before compiling KG\n"
   ]
  },
  {
   "cell_type": "markdown",
   "metadata": {},
   "source": [
    "## Variant phenotype associations"
   ]
  },
  {
   "cell_type": "code",
   "execution_count": 50,
   "metadata": {},
   "outputs": [],
   "source": [
    "\n",
    "# Need to map EFO to UMLS (https://github.com/EBISPOT/efo/releases)\n",
    "\n",
    "\n",
    "\n"
   ]
  },
  {
   "cell_type": "code",
   "execution_count": 51,
   "metadata": {},
   "outputs": [
    {
     "data": {
      "text/html": [
       "<div>\n",
       "<style scoped>\n",
       "    .dataframe tbody tr th:only-of-type {\n",
       "        vertical-align: middle;\n",
       "    }\n",
       "\n",
       "    .dataframe tbody tr th {\n",
       "        vertical-align: top;\n",
       "    }\n",
       "\n",
       "    .dataframe thead th {\n",
       "        text-align: right;\n",
       "    }\n",
       "</style>\n",
       "<table border=\"1\" class=\"dataframe\">\n",
       "  <thead>\n",
       "    <tr style=\"text-align: right;\">\n",
       "      <th></th>\n",
       "      <th>variant_id</th>\n",
       "      <th>variant_label</th>\n",
       "      <th>relation_label</th>\n",
       "      <th>phenotype_id</th>\n",
       "      <th>phenotype_label</th>\n",
       "      <th>phenotype_source</th>\n",
       "    </tr>\n",
       "  </thead>\n",
       "  <tbody>\n",
       "    <tr>\n",
       "      <th>0</th>\n",
       "      <td>OMIM:107310.0002</td>\n",
       "      <td>SLC9A1, SER464PHE</td>\n",
       "      <td>has phenotype</td>\n",
       "      <td>5881</td>\n",
       "      <td>oligohydramnios (disease)</td>\n",
       "      <td>MONDO</td>\n",
       "    </tr>\n",
       "    <tr>\n",
       "      <th>1</th>\n",
       "      <td>dbSNP:rs2342406</td>\n",
       "      <td>rs2342406-?</td>\n",
       "      <td>contributes to condition</td>\n",
       "      <td>1384</td>\n",
       "      <td>myopia (disease)</td>\n",
       "      <td>MONDO</td>\n",
       "    </tr>\n",
       "    <tr>\n",
       "      <th>2</th>\n",
       "      <td>dbSNP:rs115689122</td>\n",
       "      <td>rs115689122-A</td>\n",
       "      <td>contributes to condition</td>\n",
       "      <td>1156</td>\n",
       "      <td>borderline personality disorder (disease)</td>\n",
       "      <td>MONDO</td>\n",
       "    </tr>\n",
       "    <tr>\n",
       "      <th>3</th>\n",
       "      <td>dbSNP:rs77008212</td>\n",
       "      <td>rs77008212-A</td>\n",
       "      <td>contributes to condition</td>\n",
       "      <td>11284</td>\n",
       "      <td>astigmatism (disease)</td>\n",
       "      <td>MONDO</td>\n",
       "    </tr>\n",
       "    <tr>\n",
       "      <th>4</th>\n",
       "      <td>dbSNP:rs4357117</td>\n",
       "      <td>rs4357117-T</td>\n",
       "      <td>contributes to condition</td>\n",
       "      <td>1673</td>\n",
       "      <td>diarrheal disease</td>\n",
       "      <td>MONDO</td>\n",
       "    </tr>\n",
       "    <tr>\n",
       "      <th>...</th>\n",
       "      <td>...</td>\n",
       "      <td>...</td>\n",
       "      <td>...</td>\n",
       "      <td>...</td>\n",
       "      <td>...</td>\n",
       "      <td>...</td>\n",
       "    </tr>\n",
       "    <tr>\n",
       "      <th>712</th>\n",
       "      <td>dbSNP:rs28613963</td>\n",
       "      <td>rs28613963-T</td>\n",
       "      <td>contributes to condition</td>\n",
       "      <td>1384</td>\n",
       "      <td>myopia (disease)</td>\n",
       "      <td>MONDO</td>\n",
       "    </tr>\n",
       "    <tr>\n",
       "      <th>713</th>\n",
       "      <td>dbSNP:rs6420484</td>\n",
       "      <td>rs6420484-G</td>\n",
       "      <td>contributes to condition</td>\n",
       "      <td>1384</td>\n",
       "      <td>myopia (disease)</td>\n",
       "      <td>MONDO</td>\n",
       "    </tr>\n",
       "    <tr>\n",
       "      <th>714</th>\n",
       "      <td>dbSNP:rs56075542</td>\n",
       "      <td>rs56075542-T</td>\n",
       "      <td>contributes to condition</td>\n",
       "      <td>1384</td>\n",
       "      <td>myopia (disease)</td>\n",
       "      <td>MONDO</td>\n",
       "    </tr>\n",
       "    <tr>\n",
       "      <th>715</th>\n",
       "      <td>dbSNP:rs117949737</td>\n",
       "      <td>rs117949737-G</td>\n",
       "      <td>contributes to condition</td>\n",
       "      <td>11284</td>\n",
       "      <td>astigmatism (disease)</td>\n",
       "      <td>MONDO</td>\n",
       "    </tr>\n",
       "    <tr>\n",
       "      <th>716</th>\n",
       "      <td>dbSNP:rs12998513</td>\n",
       "      <td>rs12998513-A</td>\n",
       "      <td>contributes to condition</td>\n",
       "      <td>1384</td>\n",
       "      <td>myopia (disease)</td>\n",
       "      <td>MONDO</td>\n",
       "    </tr>\n",
       "  </tbody>\n",
       "</table>\n",
       "<p>717 rows × 6 columns</p>\n",
       "</div>"
      ],
      "text/plain": [
       "            variant_id      variant_label            relation_label  \\\n",
       "0     OMIM:107310.0002  SLC9A1, SER464PHE             has phenotype   \n",
       "1      dbSNP:rs2342406        rs2342406-?  contributes to condition   \n",
       "2    dbSNP:rs115689122      rs115689122-A  contributes to condition   \n",
       "3     dbSNP:rs77008212       rs77008212-A  contributes to condition   \n",
       "4      dbSNP:rs4357117        rs4357117-T  contributes to condition   \n",
       "..                 ...                ...                       ...   \n",
       "712   dbSNP:rs28613963       rs28613963-T  contributes to condition   \n",
       "713    dbSNP:rs6420484        rs6420484-G  contributes to condition   \n",
       "714   dbSNP:rs56075542       rs56075542-T  contributes to condition   \n",
       "715  dbSNP:rs117949737      rs117949737-G  contributes to condition   \n",
       "716   dbSNP:rs12998513       rs12998513-A  contributes to condition   \n",
       "\n",
       "    phenotype_id                            phenotype_label phenotype_source  \n",
       "0           5881                  oligohydramnios (disease)            MONDO  \n",
       "1           1384                           myopia (disease)            MONDO  \n",
       "2           1156  borderline personality disorder (disease)            MONDO  \n",
       "3          11284                      astigmatism (disease)            MONDO  \n",
       "4           1673                          diarrheal disease            MONDO  \n",
       "..           ...                                        ...              ...  \n",
       "712         1384                           myopia (disease)            MONDO  \n",
       "713         1384                           myopia (disease)            MONDO  \n",
       "714         1384                           myopia (disease)            MONDO  \n",
       "715        11284                      astigmatism (disease)            MONDO  \n",
       "716         1384                           myopia (disease)            MONDO  \n",
       "\n",
       "[717 rows x 6 columns]"
      ]
     },
     "execution_count": 51,
     "metadata": {},
     "output_type": "execute_result"
    }
   ],
   "source": [
    "# Remove HPO that already have MONDO IDs\n",
    "\n",
    "df_variant_phenotype_MONDO = df_variant_phenotype[df_variant_phenotype[\"phenotype_source\"] == \"HP\"].query('phenotype_id in @hp_ids_r_mondo')\n",
    "df_variant_phenotype_MONDO = replace_hp_data_w_mondo(df=df_variant_phenotype_MONDO, hp_id_col='phenotype_id', drop_cols=[c for c in df_variant_phenotype_MONDO.columns.values if 'phenotype_' in c])\n",
    "df_variant_phenotype_MONDO = df_variant_phenotype_MONDO.rename(columns={'mondo_id':'phenotype_id', 'mondo_name':'phenotype_label'})\n",
    "df_variant_phenotype_MONDO.loc[:, 'phenotype_source'] = 'MONDO'\n",
    "df_variant_phenotype_MONDO"
   ]
  },
  {
   "cell_type": "code",
   "execution_count": 52,
   "metadata": {},
   "outputs": [
    {
     "data": {
      "text/html": [
       "<div>\n",
       "<style scoped>\n",
       "    .dataframe tbody tr th:only-of-type {\n",
       "        vertical-align: middle;\n",
       "    }\n",
       "\n",
       "    .dataframe tbody tr th {\n",
       "        vertical-align: top;\n",
       "    }\n",
       "\n",
       "    .dataframe thead th {\n",
       "        text-align: right;\n",
       "    }\n",
       "</style>\n",
       "<table border=\"1\" class=\"dataframe\">\n",
       "  <thead>\n",
       "    <tr style=\"text-align: right;\">\n",
       "      <th></th>\n",
       "      <th>variant_id</th>\n",
       "      <th>variant_label</th>\n",
       "      <th>phenotype_id</th>\n",
       "      <th>phenotype_label</th>\n",
       "      <th>phenotype_source</th>\n",
       "      <th>relation_label</th>\n",
       "    </tr>\n",
       "  </thead>\n",
       "  <tbody>\n",
       "    <tr>\n",
       "      <th>50506</th>\n",
       "      <td>dbSNP:rs2066844</td>\n",
       "      <td>rs2066844-?</td>\n",
       "      <td>155</td>\n",
       "      <td>Oral ulcer</td>\n",
       "      <td>HP</td>\n",
       "      <td>contributes to condition</td>\n",
       "    </tr>\n",
       "  </tbody>\n",
       "</table>\n",
       "</div>"
      ],
      "text/plain": [
       "            variant_id variant_label phenotype_id phenotype_label  \\\n",
       "50506  dbSNP:rs2066844   rs2066844-?          155      Oral ulcer   \n",
       "\n",
       "      phenotype_source            relation_label  \n",
       "50506               HP  contributes to condition  "
      ]
     },
     "execution_count": 52,
     "metadata": {},
     "output_type": "execute_result"
    }
   ],
   "source": [
    "# Make sure all HPOs are mapped\n",
    "\n",
    "df_variant_phenotype_HPO = df_variant_phenotype[df_variant_phenotype[\"phenotype_source\"] == \"HP\"].query('phenotype_id not in @hp_ids_r_mondo')\n",
    "assert pd.merge(df_variant_phenotype_HPO, df_hp_terms, 'left', left_on='phenotype_id', right_on='id').shape == pd.merge(df_variant_phenotype_HPO, df_hp_terms, 'inner', left_on='phenotype_id', right_on='id').shape\n",
    "df_variant_phenotype_HPO.head(1)"
   ]
  },
  {
   "cell_type": "markdown",
   "metadata": {},
   "source": [
    "## Variant disease associations"
   ]
  },
  {
   "cell_type": "code",
   "execution_count": 59,
   "metadata": {},
   "outputs": [
    {
     "data": {
      "text/plain": [
       "array(['MONDO', 'OMIM'], dtype=object)"
      ]
     },
     "execution_count": 59,
     "metadata": {},
     "output_type": "execute_result"
    }
   ],
   "source": [
    "df_variant_disease[\"disease_source\"].unique()"
   ]
  },
  {
   "cell_type": "code",
   "execution_count": 58,
   "metadata": {},
   "outputs": [
    {
     "name": "stdout",
     "output_type": "stream",
     "text": [
      "(192271, 10) (191848, 10)\n",
      "Not mapped (but will keep for now) {'600024', '600027', '700060', '700089', '700092', '100352', '700087', '30849', '100348', '700088', '700090', '30837'}\n"
     ]
    }
   ],
   "source": [
    "# Map MONDO\n",
    "\n",
    "mapped_left = pd.merge(df_variant_disease[df_variant_disease[\"disease_source\"] == \"MONDO\"], df_mondo_terms, 'left', left_on='disease_id', right_on='id')\n",
    "mapped_inner = pd.merge(df_variant_disease[df_variant_disease[\"disease_source\"] == \"MONDO\"], df_mondo_terms, 'inner', left_on='disease_id', right_on='id')\n",
    "print(mapped_left.shape, mapped_inner.shape)\n",
    "\n",
    "not_mapped = set(list(mapped_left[\"disease_id\"].unique())).difference(set(list(mapped_inner[\"disease_id\"].unique())))\n",
    "print(\"Not mapped (but will keep for now)\", not_mapped)"
   ]
  },
  {
   "cell_type": "code",
   "execution_count": 54,
   "metadata": {},
   "outputs": [
    {
     "data": {
      "text/plain": [
       "['616617', '234580', '184840']"
      ]
     },
     "execution_count": 54,
     "metadata": {},
     "output_type": "execute_result"
    }
   ],
   "source": [
    "# Map OMIM\n",
    "\n",
    "list(df_variant_disease[df_variant_disease[\"disease_source\"] == \"OMIM\"][\"disease_id\"].unique())\n",
    "# OMIM:616617 has obsolete MONDO IDs (MONDO:0014709, MONDO:0100263)\n",
    "# OMIM:234580 is mapped to MONDO:0024544 according to Wikidata but no other reference available\n",
    "# OMIM:184840 has no MONDO ID\n",
    "\n",
    "# Verdict: Assuming that these OMIM IDs do not have MONDO IDs"
   ]
  },
  {
   "cell_type": "markdown",
   "metadata": {
    "heading_collapsed": true
   },
   "source": [
    "# Compiling knowledge graph"
   ]
  },
  {
   "cell_type": "code",
   "execution_count": 110,
   "metadata": {
    "ExecuteTime": {
     "end_time": "2021-08-06T12:19:32.597604Z",
     "start_time": "2021-08-06T12:18:51.620711Z"
    },
    "hidden": true
   },
   "outputs": [
    {
     "data": {
      "text/html": [
       "<div>\n",
       "<style scoped>\n",
       "    .dataframe tbody tr th:only-of-type {\n",
       "        vertical-align: middle;\n",
       "    }\n",
       "\n",
       "    .dataframe tbody tr th {\n",
       "        vertical-align: top;\n",
       "    }\n",
       "\n",
       "    .dataframe thead th {\n",
       "        text-align: right;\n",
       "    }\n",
       "</style>\n",
       "<table border=\"1\" class=\"dataframe\">\n",
       "  <thead>\n",
       "    <tr style=\"text-align: right;\">\n",
       "      <th></th>\n",
       "      <th>relation</th>\n",
       "      <th>display_relation</th>\n",
       "      <th>x_id</th>\n",
       "      <th>x_type</th>\n",
       "      <th>x_name</th>\n",
       "      <th>x_source</th>\n",
       "      <th>y_id</th>\n",
       "      <th>y_type</th>\n",
       "      <th>y_name</th>\n",
       "      <th>y_source</th>\n",
       "    </tr>\n",
       "  </thead>\n",
       "  <tbody>\n",
       "    <tr>\n",
       "      <th>0</th>\n",
       "      <td>protein_protein</td>\n",
       "      <td>ppi</td>\n",
       "      <td>9796</td>\n",
       "      <td>gene/protein</td>\n",
       "      <td>PHYHIP</td>\n",
       "      <td>NCBI</td>\n",
       "      <td>56992</td>\n",
       "      <td>gene/protein</td>\n",
       "      <td>KIF15</td>\n",
       "      <td>NCBI</td>\n",
       "    </tr>\n",
       "    <tr>\n",
       "      <th>1</th>\n",
       "      <td>protein_protein</td>\n",
       "      <td>ppi</td>\n",
       "      <td>7918</td>\n",
       "      <td>gene/protein</td>\n",
       "      <td>GPANK1</td>\n",
       "      <td>NCBI</td>\n",
       "      <td>9240</td>\n",
       "      <td>gene/protein</td>\n",
       "      <td>PNMA1</td>\n",
       "      <td>NCBI</td>\n",
       "    </tr>\n",
       "    <tr>\n",
       "      <th>2</th>\n",
       "      <td>protein_protein</td>\n",
       "      <td>ppi</td>\n",
       "      <td>8233</td>\n",
       "      <td>gene/protein</td>\n",
       "      <td>ZRSR2</td>\n",
       "      <td>NCBI</td>\n",
       "      <td>23548</td>\n",
       "      <td>gene/protein</td>\n",
       "      <td>TTC33</td>\n",
       "      <td>NCBI</td>\n",
       "    </tr>\n",
       "    <tr>\n",
       "      <th>3</th>\n",
       "      <td>protein_protein</td>\n",
       "      <td>ppi</td>\n",
       "      <td>4899</td>\n",
       "      <td>gene/protein</td>\n",
       "      <td>NRF1</td>\n",
       "      <td>NCBI</td>\n",
       "      <td>11253</td>\n",
       "      <td>gene/protein</td>\n",
       "      <td>MAN1B1</td>\n",
       "      <td>NCBI</td>\n",
       "    </tr>\n",
       "    <tr>\n",
       "      <th>4</th>\n",
       "      <td>protein_protein</td>\n",
       "      <td>ppi</td>\n",
       "      <td>5297</td>\n",
       "      <td>gene/protein</td>\n",
       "      <td>PI4KA</td>\n",
       "      <td>NCBI</td>\n",
       "      <td>8601</td>\n",
       "      <td>gene/protein</td>\n",
       "      <td>RGS20</td>\n",
       "      <td>NCBI</td>\n",
       "    </tr>\n",
       "  </tbody>\n",
       "</table>\n",
       "</div>"
      ],
      "text/plain": [
       "          relation display_relation  x_id        x_type  x_name x_source  \\\n",
       "0  protein_protein              ppi  9796  gene/protein  PHYHIP     NCBI   \n",
       "1  protein_protein              ppi  7918  gene/protein  GPANK1     NCBI   \n",
       "2  protein_protein              ppi  8233  gene/protein   ZRSR2     NCBI   \n",
       "3  protein_protein              ppi  4899  gene/protein    NRF1     NCBI   \n",
       "4  protein_protein              ppi  5297  gene/protein   PI4KA     NCBI   \n",
       "\n",
       "    y_id        y_type  y_name y_source  \n",
       "0  56992  gene/protein   KIF15     NCBI  \n",
       "1   9240  gene/protein   PNMA1     NCBI  \n",
       "2  23548  gene/protein   TTC33     NCBI  \n",
       "3  11253  gene/protein  MAN1B1     NCBI  \n",
       "4   8601  gene/protein   RGS20     NCBI  "
      ]
     },
     "execution_count": 110,
     "metadata": {},
     "output_type": "execute_result"
    }
   ],
   "source": [
    "kg = pd.concat([df_prot_prot, df_prot_drug, df_drug_dis, df_drug_drug, df_prot_phe,\n",
    "                df_phe_phe, df_dis_phe_neg, df_dis_phe_pos, df_prot_dis, df_dis_dis, \n",
    "                df_drug_effect, df_bp_bp, df_mf_mf, df_cc_cc, df_prot_mf, \n",
    "                df_prot_cc, df_prot_bp, df_exp_prot, df_exp_dis, df_exp_exp, \n",
    "                df_exp_bp, df_exp_mf, df_exp_cc, df_path_path, df_path_prot,\n",
    "                df_ana_ana, df_ana_prot_pos, df_ana_prot_neg]) #28\n",
    "kg = kg.drop_duplicates()\n",
    "kg_rev = kg.copy().rename(columns={'x_id':'y_id','x_type':'y_type', 'x_name':'y_name', 'x_source':'y_source',\n",
    "                            'y_id':'x_id','y_type':'x_type', 'y_name':'x_name', 'y_source':'x_source' }) #add reverse edges\n",
    "kg = pd.concat([kg, kg_rev])\n",
    "kg = kg.drop_duplicates()\n",
    "kg = kg.dropna()\n",
    "# remove self loops from edges \n",
    "kg = kg.query('not ((x_id == y_id) and (x_type == y_type) and (x_source == y_source) and (x_name == y_name))')\n",
    "kg.head()"
   ]
  },
  {
   "cell_type": "code",
   "execution_count": 42,
   "metadata": {
    "ExecuteTime": {
     "end_time": "2021-08-06T12:20:04.693646Z",
     "start_time": "2021-08-06T12:19:32.602234Z"
    },
    "hidden": true
   },
   "outputs": [],
   "source": [
    "kg.to_csv(save_path+'auxillary/kg_raw.csv', index=False)"
   ]
  },
  {
   "cell_type": "markdown",
   "metadata": {
    "heading_collapsed": true
   },
   "source": [
    "# Get giant component"
   ]
  },
  {
   "cell_type": "code",
   "execution_count": 43,
   "metadata": {
    "ExecuteTime": {
     "end_time": "2021-08-06T12:20:20.238147Z",
     "start_time": "2021-08-06T12:20:04.696534Z"
    },
    "hidden": true
   },
   "outputs": [],
   "source": [
    "kg = pd.read_csv(save_path+'auxillary/kg_raw.csv', low_memory=False)"
   ]
  },
  {
   "cell_type": "code",
   "execution_count": 44,
   "metadata": {
    "ExecuteTime": {
     "end_time": "2021-08-06T12:21:48.910982Z",
     "start_time": "2021-08-06T12:20:20.245604Z"
    },
    "hidden": true
   },
   "outputs": [],
   "source": [
    "nodes = pd.concat([kg.get(['x_id','x_type', 'x_name','x_source']).rename(columns={'x_id':'node_id', 'x_type':'node_type', 'x_name':'node_name','x_source':'node_source'}), \n",
    "                   kg.get(['y_id','y_type', 'y_name','y_source']).rename(columns={'y_id':'node_id', 'y_type':'node_type', 'y_name':'node_name','y_source':'node_source'})])\n",
    "nodes = nodes.drop_duplicates().reset_index().drop('index',axis=1).reset_index().rename(columns={'index':'node_idx'})\n",
    "\n",
    "edges = pd.merge(kg, nodes, 'left', left_on=['x_id','x_type', 'x_name','x_source'], right_on=['node_id','node_type','node_name','node_source'])\n",
    "edges = edges.rename(columns={'node_idx':'x_idx'})\n",
    "edges = pd.merge(edges, nodes, 'left', left_on=['y_id','y_type', 'y_name','y_source'], right_on=['node_id','node_type','node_name','node_source'])\n",
    "edges = edges.rename(columns={'node_idx':'y_idx'})\n",
    "edges = edges.get(['relation', 'display_relation','x_idx', 'y_idx'])\n",
    "edges['combine_idx'] = edges['x_idx'].astype(str) + '-' + edges['y_idx'].astype(str)\n",
    "\n",
    "edge_index = edges.get(['x_idx', 'y_idx']).values.T\n",
    "\n",
    "graph = ig.Graph()\n",
    "graph.add_vertices(list(range(nodes.shape[0])))\n",
    "graph.add_edges([tuple(x) for x in edge_index.T])\n",
    "\n",
    "graph = graph.as_undirected(mode='collapse')\n",
    "\n",
    "c = graph.components(mode='strong')\n",
    "giant = c.giant()\n",
    "\n",
    "#print('Nodes: %d' % giant.vcount())\n",
    "#print('Edges: %d' % giant.ecount())\n",
    "\n",
    "assert not giant.is_directed()\n",
    "assert giant.is_connected()\n",
    "\n",
    "giant_nodes = giant.vs['name']\n",
    "new_nodes = nodes.query('node_idx in @giant_nodes')\n",
    "assert new_nodes.shape[0] == giant.vcount()\n",
    "\n",
    "new_edges = edges.query('x_idx in @giant_nodes and y_idx in @giant_nodes').copy()\n",
    "assert new_edges.shape[0] == giant.ecount()\n",
    "\n",
    "new_kg = pd.merge(new_edges, new_nodes, 'left', left_on='x_idx', right_on='node_idx')\n",
    "new_kg = new_kg.rename(columns={'node_id':'x_id', 'node_type':'x_type', 'node_name':'x_name','node_source':'x_source'}) \n",
    "new_kg = pd.merge(new_kg, new_nodes, 'left', left_on='y_idx', right_on='node_idx')\n",
    "new_kg = new_kg.rename(columns={'node_id':'y_id', 'node_type':'y_type', 'node_name':'y_name','node_source':'y_source'}) \n",
    "new_kg = clean_edges(new_kg)"
   ]
  },
  {
   "cell_type": "code",
   "execution_count": 45,
   "metadata": {
    "ExecuteTime": {
     "end_time": "2021-08-06T12:22:20.208631Z",
     "start_time": "2021-08-06T12:21:48.913545Z"
    },
    "hidden": true
   },
   "outputs": [],
   "source": [
    "kg = new_kg.copy()\n",
    "kg.to_csv(save_path+'auxillary/kg_giant.csv', index=False)"
   ]
  },
  {
   "cell_type": "markdown",
   "metadata": {
    "heading_collapsed": true
   },
   "source": [
    "# Collapse similar diseases"
   ]
  },
  {
   "cell_type": "code",
   "execution_count": 46,
   "metadata": {
    "ExecuteTime": {
     "end_time": "2021-08-06T12:22:34.422640Z",
     "start_time": "2021-08-06T12:22:20.210477Z"
    },
    "hidden": true
   },
   "outputs": [],
   "source": [
    "kg = pd.read_csv(save_path+'auxillary/kg_giant.csv', low_memory=False)"
   ]
  },
  {
   "cell_type": "markdown",
   "metadata": {
    "hidden": true
   },
   "source": [
    "## Find Groups"
   ]
  },
  {
   "cell_type": "markdown",
   "metadata": {
    "heading_collapsed": true,
    "hidden": true
   },
   "source": [
    "### Automated grouping"
   ]
  },
  {
   "cell_type": "code",
   "execution_count": 47,
   "metadata": {
    "ExecuteTime": {
     "end_time": "2021-08-06T12:22:34.495911Z",
     "start_time": "2021-08-06T12:22:34.424764Z"
    },
    "hidden": true
   },
   "outputs": [
    {
     "data": {
      "text/plain": [
       "'\\ndisease_nodes = pd.concat([kg.get([\\'x_id\\',\\'x_type\\', \\'x_name\\',\\'x_source\\']).rename(columns={\\'x_id\\':\\'node_id\\', \\'x_type\\':\\'node_type\\', \\'x_name\\':\\'node_name\\',\\'x_source\\':\\'node_source\\'}), \\n                   kg.get([\\'y_id\\',\\'y_type\\', \\'y_name\\',\\'y_source\\']).rename(columns={\\'y_id\\':\\'node_id\\', \\'y_type\\':\\'node_type\\', \\'y_name\\':\\'node_name\\',\\'y_source\\':\\'node_source\\'})])\\ndisease_nodes = disease_nodes.query(\\'node_type==\"disease\"\\')\\ndisease_nodes = disease_nodes.drop_duplicates().reset_index().drop(\\'index\\',axis=1).reset_index().rename(columns={\\'index\\':\\'node_idx\\'})\\n'"
      ]
     },
     "execution_count": 47,
     "metadata": {},
     "output_type": "execute_result"
    }
   ],
   "source": [
    "'''\n",
    "disease_nodes = pd.concat([kg.get(['x_id','x_type', 'x_name','x_source']).rename(columns={'x_id':'node_id', 'x_type':'node_type', 'x_name':'node_name','x_source':'node_source'}), \n",
    "                   kg.get(['y_id','y_type', 'y_name','y_source']).rename(columns={'y_id':'node_id', 'y_type':'node_type', 'y_name':'node_name','y_source':'node_source'})])\n",
    "disease_nodes = disease_nodes.query('node_type==\"disease\"')\n",
    "disease_nodes = disease_nodes.drop_duplicates().reset_index().drop('index',axis=1).reset_index().rename(columns={'index':'node_idx'})\n",
    "'''"
   ]
  },
  {
   "cell_type": "code",
   "execution_count": 48,
   "metadata": {
    "ExecuteTime": {
     "end_time": "2021-08-06T12:22:34.540058Z",
     "start_time": "2021-08-06T12:22:34.501005Z"
    },
    "hidden": true,
    "scrolled": true
   },
   "outputs": [
    {
     "data": {
      "text/plain": [
       "'\\ngroups = []\\nseen = set()\\nidx2group = {}\\nno = set()\\n\\ndef isroman(s):\\n    return bool(re.search(r\"^M{0,3}(CM|CD|D?C{0,3})(XC|XL|L?X{0,3})(IX|IV|V?I{0,3})$\",s))\\n\\ndef issingleletter(s): \\n    if len(s)>1: return False\\n\\ndef same_words(s1, s2): \\n    for word in s1.lower().split(\\' \\'): \\n        word = word.split(\\',\\')[0]\\n        if word!=\\'type\\' and word!=\\'(disease)\\' and word not in s2.lower(): \\n            return False \\n    for word in s2.lower().split(\\' \\'): \\n        word = word.split(\\',\\')[0]\\n        if word!=\\'type\\' and word!=\\'(disease)\\' and word not in s1.lower(): \\n            return False\\n    return True\\n\\nfor i in range(disease_nodes.shape[0]):\\n    i_name = disease_nodes.loc[i, \\'node_name\\']\\n    i_idx = disease_nodes.loc[i, \\'node_idx\\']\\n    for w in [\\'monosomy\\',\\'disomy\\', \\'trisomy\\', \\'trisomy/tetrasomy\\', \\'chromosome\\']: \\n        if w in i_name: \\n            no.add(i_idx)\\n\\nfor i in range(disease_nodes.shape[0]):\\n    i_idx = disease_nodes.loc[i, \\'node_idx\\']\\n    if i_idx in seen: continue \\n    if i_idx in no: continue \\n    i_name = disease_nodes.loc[i, \\'node_name\\']\\n    i_split = i_name.split(\\' \\')\\n    end = i_split[-1]\\n    if len(end)<=2 or end.isnumeric() or isroman(end):  \\n        main_text = \\' \\'.join(i_split[:-1])\\n        matches = [i_name]\\n        matches_idx = [i_idx]\\n        match_found = False\\n        numeric = True\\n        for j in range(disease_nodes.shape[0]):\\n            j_idx = disease_nodes.loc[j, \\'node_idx\\']\\n            j_name = disease_nodes.loc[j, \\'node_name\\']\\n            m = \\' \\'.join(j_name.split(\\' \\')[:-1])\\n            if m.lower() == main_text.lower() or same_words(m, main_text): \\n                matches.append(j_name)\\n                matches_idx.append(j_idx)\\n                match_found = True\\n        if match_found:\\n            matches_idx = list(set(matches_idx))\\n            matches = list(set(matches))\\n            if len(matches) <= 1: continue \\n            if main_text.endswith(\\'type\\'): \\n                main_text = main_text[:-4]\\n            if main_text.endswith(\\',\\'): \\n                main_text = main_text[:-1]\\n            if main_text.endswith(\\' \\'): \\n                main_text = main_text[:-1]\\n            print(main_text)\\n            for x in sorted(matches): \\n                print(\\'-  \\',x)\\n            for x in matches_idx: \\n                seen.add(x)\\n                idx2group[x] = main_text\\n            groups.append((main_text, matches_idx))\\n\\n'"
      ]
     },
     "execution_count": 48,
     "metadata": {},
     "output_type": "execute_result"
    }
   ],
   "source": [
    "'''\n",
    "groups = []\n",
    "seen = set()\n",
    "idx2group = {}\n",
    "no = set()\n",
    "\n",
    "def isroman(s):\n",
    "    return bool(re.search(r\"^M{0,3}(CM|CD|D?C{0,3})(XC|XL|L?X{0,3})(IX|IV|V?I{0,3})$\",s))\n",
    "\n",
    "def issingleletter(s): \n",
    "    if len(s)>1: return False\n",
    "\n",
    "def same_words(s1, s2): \n",
    "    for word in s1.lower().split(' '): \n",
    "        word = word.split(',')[0]\n",
    "        if word!='type' and word!='(disease)' and word not in s2.lower(): \n",
    "            return False \n",
    "    for word in s2.lower().split(' '): \n",
    "        word = word.split(',')[0]\n",
    "        if word!='type' and word!='(disease)' and word not in s1.lower(): \n",
    "            return False\n",
    "    return True\n",
    "\n",
    "for i in range(disease_nodes.shape[0]):\n",
    "    i_name = disease_nodes.loc[i, 'node_name']\n",
    "    i_idx = disease_nodes.loc[i, 'node_idx']\n",
    "    for w in ['monosomy','disomy', 'trisomy', 'trisomy/tetrasomy', 'chromosome']: \n",
    "        if w in i_name: \n",
    "            no.add(i_idx)\n",
    "\n",
    "for i in range(disease_nodes.shape[0]):\n",
    "    i_idx = disease_nodes.loc[i, 'node_idx']\n",
    "    if i_idx in seen: continue \n",
    "    if i_idx in no: continue \n",
    "    i_name = disease_nodes.loc[i, 'node_name']\n",
    "    i_split = i_name.split(' ')\n",
    "    end = i_split[-1]\n",
    "    if len(end)<=2 or end.isnumeric() or isroman(end):  \n",
    "        main_text = ' '.join(i_split[:-1])\n",
    "        matches = [i_name]\n",
    "        matches_idx = [i_idx]\n",
    "        match_found = False\n",
    "        numeric = True\n",
    "        for j in range(disease_nodes.shape[0]):\n",
    "            j_idx = disease_nodes.loc[j, 'node_idx']\n",
    "            j_name = disease_nodes.loc[j, 'node_name']\n",
    "            m = ' '.join(j_name.split(' ')[:-1])\n",
    "            if m.lower() == main_text.lower() or same_words(m, main_text): \n",
    "                matches.append(j_name)\n",
    "                matches_idx.append(j_idx)\n",
    "                match_found = True\n",
    "        if match_found:\n",
    "            matches_idx = list(set(matches_idx))\n",
    "            matches = list(set(matches))\n",
    "            if len(matches) <= 1: continue \n",
    "            if main_text.endswith('type'): \n",
    "                main_text = main_text[:-4]\n",
    "            if main_text.endswith(','): \n",
    "                main_text = main_text[:-1]\n",
    "            if main_text.endswith(' '): \n",
    "                main_text = main_text[:-1]\n",
    "            print(main_text)\n",
    "            for x in sorted(matches): \n",
    "                print('-  ',x)\n",
    "            for x in matches_idx: \n",
    "                seen.add(x)\n",
    "                idx2group[x] = main_text\n",
    "            groups.append((main_text, matches_idx))\n",
    "\n",
    "'''"
   ]
  },
  {
   "cell_type": "code",
   "execution_count": 49,
   "metadata": {
    "ExecuteTime": {
     "end_time": "2021-08-06T12:22:34.579734Z",
     "start_time": "2021-08-06T12:22:34.542417Z"
    },
    "hidden": true
   },
   "outputs": [
    {
     "data": {
      "text/plain": [
       "\"\\ndisease_nodes.loc[:, 'group_name'] = ''\\nfor data in disease_nodes.itertuples():\\n    if data.node_idx in idx2group.keys(): \\n        disease_nodes.loc[data.Index, 'group_name'] = idx2group[data.node_idx]\\n    else: \\n        disease_nodes.loc[data.Index, 'group_name'] = data.node_name\\n        \\ndisease_group_1 = disease_nodes.get(['group_name']).drop_duplicates().reset_index().rename(columns={'index':'group_idx'})\\ndisease_nodes = pd.merge(disease_nodes, disease_group_1, 'left', 'group_name')\\n\""
      ]
     },
     "execution_count": 49,
     "metadata": {},
     "output_type": "execute_result"
    }
   ],
   "source": [
    "'''\n",
    "disease_nodes.loc[:, 'group_name'] = ''\n",
    "for data in disease_nodes.itertuples():\n",
    "    if data.node_idx in idx2group.keys(): \n",
    "        disease_nodes.loc[data.Index, 'group_name'] = idx2group[data.node_idx]\n",
    "    else: \n",
    "        disease_nodes.loc[data.Index, 'group_name'] = data.node_name\n",
    "        \n",
    "disease_group_1 = disease_nodes.get(['group_name']).drop_duplicates().reset_index().rename(columns={'index':'group_idx'})\n",
    "disease_nodes = pd.merge(disease_nodes, disease_group_1, 'left', 'group_name')\n",
    "'''"
   ]
  },
  {
   "cell_type": "markdown",
   "metadata": {
    "heading_collapsed": true,
    "hidden": true
   },
   "source": [
    "### Grouping with BERT"
   ]
  },
  {
   "cell_type": "code",
   "execution_count": 50,
   "metadata": {
    "ExecuteTime": {
     "end_time": "2021-08-06T12:22:34.618408Z",
     "start_time": "2021-08-06T12:22:34.582228Z"
    },
    "code_folding": [],
    "hidden": true
   },
   "outputs": [
    {
     "data": {
      "text/plain": [
       "'\\ninput_text = list(disease_group_1.get(\\'group_name\\').values)\\n\\ndevice = torch.device(\"cuda:0\" if torch.cuda.is_available() else \"cpu\")\\n#model_name=\\'dmis-lab/biobert-large-cased-v1.1\\'\\nmodel_name = \\'emilyalsentzer/Bio_ClinicalBERT\\'\\ntokenizer = AutoTokenizer.from_pretrained(model_name)\\nmodel = AutoModel.from_pretrained(model_name)\\nmodel = model.to(device)\\nmodel.eval()\\n\\ndef batch(iterable, batch_size=4, return_idx=True):\\n    l = len(iterable)\\n    for ndx in range(0, l, batch_size):\\n        if return_idx: \\n            yield (ndx, min(ndx + batch_size, l))\\n        else:\\n            yield iterable[ndx:min(ndx + batch_size, l)]\\n            \\ntmp_dir = \\'tmp/\\'\\nif os.path.isdir(tmp_dir): \\n    shutil.rmtree(tmp_dir)\\nos.mkdir(tmp_dir)\\n\\nbatch_size=32\\ninput_tokens = tokenizer(input_text, padding=True, return_tensors=\\'pt\\', truncation=True, max_length=512)\\nfor i, (start, end) in tqdm(enumerate(batch(input_text, batch_size))):\\n    input_ids = input_tokens[\\'input_ids\\'][start:end, :].to(device)\\n    attention_mask = input_tokens[\\'attention_mask\\'][start:end, :].to(device)\\n    with torch.no_grad():\\n        outputs = model(input_ids=input_ids, attention_mask=attention_mask)\\n        embeds = torch.mean(outputs[0], dim=1)\\n    np.save(tmp_dir+str(i)+\\'.npy\\', embeds.numpy())\\n    \\nembeds = []\\nfor i, _ in enumerate(batch(input_text, batch_size)):\\n    x = np.load(tmp_dir+str(i)+\\'.npy\\')\\n    embeds.append(x)\\nembeds = np.concatenate(embeds)\\n\\nnp.save(save_path+\\'auxillary/kg_disease_bert_embeds.npy\\', embeds)\\nif os.path.isdir(tmp_dir): \\n    shutil.rmtree(tmp_dir)'"
      ]
     },
     "execution_count": 50,
     "metadata": {},
     "output_type": "execute_result"
    }
   ],
   "source": [
    "# generate embeddings \n",
    "'''\n",
    "input_text = list(disease_group_1.get('group_name').values)\n",
    "\n",
    "device = torch.device(\"cuda:0\" if torch.cuda.is_available() else \"cpu\")\n",
    "#model_name='dmis-lab/biobert-large-cased-v1.1'\n",
    "model_name = 'emilyalsentzer/Bio_ClinicalBERT'\n",
    "tokenizer = AutoTokenizer.from_pretrained(model_name)\n",
    "model = AutoModel.from_pretrained(model_name)\n",
    "model = model.to(device)\n",
    "model.eval()\n",
    "\n",
    "def batch(iterable, batch_size=4, return_idx=True):\n",
    "    l = len(iterable)\n",
    "    for ndx in range(0, l, batch_size):\n",
    "        if return_idx: \n",
    "            yield (ndx, min(ndx + batch_size, l))\n",
    "        else:\n",
    "            yield iterable[ndx:min(ndx + batch_size, l)]\n",
    "            \n",
    "tmp_dir = 'tmp/'\n",
    "if os.path.isdir(tmp_dir): \n",
    "    shutil.rmtree(tmp_dir)\n",
    "os.mkdir(tmp_dir)\n",
    "\n",
    "batch_size=32\n",
    "input_tokens = tokenizer(input_text, padding=True, return_tensors='pt', truncation=True, max_length=512)\n",
    "for i, (start, end) in tqdm(enumerate(batch(input_text, batch_size))):\n",
    "    input_ids = input_tokens['input_ids'][start:end, :].to(device)\n",
    "    attention_mask = input_tokens['attention_mask'][start:end, :].to(device)\n",
    "    with torch.no_grad():\n",
    "        outputs = model(input_ids=input_ids, attention_mask=attention_mask)\n",
    "        embeds = torch.mean(outputs[0], dim=1)\n",
    "    np.save(tmp_dir+str(i)+'.npy', embeds.numpy())\n",
    "    \n",
    "embeds = []\n",
    "for i, _ in enumerate(batch(input_text, batch_size)):\n",
    "    x = np.load(tmp_dir+str(i)+'.npy')\n",
    "    embeds.append(x)\n",
    "embeds = np.concatenate(embeds)\n",
    "\n",
    "np.save(save_path+'auxillary/kg_disease_bert_embeds.npy', embeds)\n",
    "if os.path.isdir(tmp_dir): \n",
    "    shutil.rmtree(tmp_dir)'''"
   ]
  },
  {
   "cell_type": "code",
   "execution_count": 51,
   "metadata": {
    "ExecuteTime": {
     "end_time": "2021-08-06T12:22:34.656301Z",
     "start_time": "2021-08-06T12:22:34.621379Z"
    },
    "hidden": true
   },
   "outputs": [
    {
     "data": {
      "text/plain": [
       "\"\\nembeds = np.load(save_path+'auxillary/kg_disease_bert_embeds.npy')\\ncos_sim = cosine_similarity(embeds, embeds)\\n\\nseen = set()\\ngroups = []\\nidx2group = {}\\nno = set()\\n\\nfor i in range(disease_group_1.shape[0]):\\n    i_name = disease_group_1.loc[i, 'group_name']\\n    i_idx = disease_group_1.loc[i, 'group_idx']\\n    for w in ['cardiomyopathy', 'syndrome', 'combined', 'complement', 'deficiency', \\n              'factor', 'immunodeficiency', 'monosomy','disomy', 'trisomy', \\n              'trisomy/tetrasomy', 'chromosome', 'neuroendocrine tumor', \\n              'neuroendocrine neoplasm', 'cancer', 'tumor', 'neoplasm','carcinoma',\\n              'lymphoma', 'lipoma']: \\n        if w in i_name: \\n            no.add(i_idx)\\n            continue\\n    for w in ['CDG']: \\n        if i_name.endswith(w): \\n            no.add(i_idx)\\n            continue\\n    for w in ['neurodevelopmental disorder', 'glycogen storage disease', \\n              'congenital disorder of glycosylation', 'qualitative or quantitative defects']: \\n        if i_name.startswith(w): \\n            no.add(i_idx)\\n            continue\\n            \\ncutoff = 0.98\\nfor i in range(disease_group_1.shape[0]):\\n    i_name = disease_group_1.loc[i, 'group_name']\\n    i_idx = disease_group_1.loc[i, 'group_idx']\\n    if i_idx in no or i_idx in seen: continue\\n    x = disease_group_1[cos_sim[i]>cutoff]\\n    if x.shape[0]>1: \\n        for v in x.get('group_name').values: \\n            print(v)\\n        main_text = input(' Ok? ')\\n        if main_text not in ['','on','no', 'No', 'NO']: \\n            for v in x.get('group_idx').values: \\n                seen.add(v)\\n                idx2group[v] = main_text\\n            g = list(x.get('group_idx').values.reshape(-1))\\n            groups.append((main_text, g)) # main_text contains group name\\n        else: \\n            no.add(i_idx)\\n            print('Not added')\\n\""
      ]
     },
     "execution_count": 51,
     "metadata": {},
     "output_type": "execute_result"
    }
   ],
   "source": [
    "'''\n",
    "embeds = np.load(save_path+'auxillary/kg_disease_bert_embeds.npy')\n",
    "cos_sim = cosine_similarity(embeds, embeds)\n",
    "\n",
    "seen = set()\n",
    "groups = []\n",
    "idx2group = {}\n",
    "no = set()\n",
    "\n",
    "for i in range(disease_group_1.shape[0]):\n",
    "    i_name = disease_group_1.loc[i, 'group_name']\n",
    "    i_idx = disease_group_1.loc[i, 'group_idx']\n",
    "    for w in ['cardiomyopathy', 'syndrome', 'combined', 'complement', 'deficiency', \n",
    "              'factor', 'immunodeficiency', 'monosomy','disomy', 'trisomy', \n",
    "              'trisomy/tetrasomy', 'chromosome', 'neuroendocrine tumor', \n",
    "              'neuroendocrine neoplasm', 'cancer', 'tumor', 'neoplasm','carcinoma',\n",
    "              'lymphoma', 'lipoma']: \n",
    "        if w in i_name: \n",
    "            no.add(i_idx)\n",
    "            continue\n",
    "    for w in ['CDG']: \n",
    "        if i_name.endswith(w): \n",
    "            no.add(i_idx)\n",
    "            continue\n",
    "    for w in ['neurodevelopmental disorder', 'glycogen storage disease', \n",
    "              'congenital disorder of glycosylation', 'qualitative or quantitative defects']: \n",
    "        if i_name.startswith(w): \n",
    "            no.add(i_idx)\n",
    "            continue\n",
    "            \n",
    "cutoff = 0.98\n",
    "for i in range(disease_group_1.shape[0]):\n",
    "    i_name = disease_group_1.loc[i, 'group_name']\n",
    "    i_idx = disease_group_1.loc[i, 'group_idx']\n",
    "    if i_idx in no or i_idx in seen: continue\n",
    "    x = disease_group_1[cos_sim[i]>cutoff]\n",
    "    if x.shape[0]>1: \n",
    "        for v in x.get('group_name').values: \n",
    "            print(v)\n",
    "        main_text = input(' Ok? ')\n",
    "        if main_text not in ['','on','no', 'No', 'NO']: \n",
    "            for v in x.get('group_idx').values: \n",
    "                seen.add(v)\n",
    "                idx2group[v] = main_text\n",
    "            g = list(x.get('group_idx').values.reshape(-1))\n",
    "            groups.append((main_text, g)) # main_text contains group name\n",
    "        else: \n",
    "            no.add(i_idx)\n",
    "            print('Not added')\n",
    "'''"
   ]
  },
  {
   "cell_type": "code",
   "execution_count": 52,
   "metadata": {
    "ExecuteTime": {
     "end_time": "2021-08-06T12:22:34.702232Z",
     "start_time": "2021-08-06T12:22:34.662051Z"
    },
    "hidden": true
   },
   "outputs": [
    {
     "data": {
      "text/plain": [
       "\"\\ndisease_group_1.loc[:, 'group_name_2'] = ''\\nfor data in disease_group_1.itertuples(): \\n    if data.group_idx in idx2group.keys():\\n        disease_group_1.loc[data.Index, 'group_name_2'] = idx2group[data.group_idx]\\n    else: \\n        disease_group_1.loc[data.Index, 'group_name_2'] = data.group_name\\n        \\ndisease_group_2 = disease_group_1.get(['group_name_2']).drop_duplicates().reset_index().rename(columns={'index':'group_idx_2'})\\n\""
      ]
     },
     "execution_count": 52,
     "metadata": {},
     "output_type": "execute_result"
    }
   ],
   "source": [
    "'''\n",
    "disease_group_1.loc[:, 'group_name_2'] = ''\n",
    "for data in disease_group_1.itertuples(): \n",
    "    if data.group_idx in idx2group.keys():\n",
    "        disease_group_1.loc[data.Index, 'group_name_2'] = idx2group[data.group_idx]\n",
    "    else: \n",
    "        disease_group_1.loc[data.Index, 'group_name_2'] = data.group_name\n",
    "        \n",
    "disease_group_2 = disease_group_1.get(['group_name_2']).drop_duplicates().reset_index().rename(columns={'index':'group_idx_2'})\n",
    "'''"
   ]
  },
  {
   "cell_type": "code",
   "execution_count": 53,
   "metadata": {
    "ExecuteTime": {
     "end_time": "2021-08-06T12:22:34.745711Z",
     "start_time": "2021-08-06T12:22:34.709900Z"
    },
    "hidden": true
   },
   "outputs": [
    {
     "data": {
      "text/plain": [
       "\"\\ndf_disease_group = pd.merge(disease_nodes, disease_group_1, 'left', 'group_name')\\ndf_disease_group = df_disease_group.get(['node_id', 'node_type', 'node_name', 'node_source',\\n       'group_name', 'group_name_2'])\\ndf_disease_group = df_disease_group.rename(columns={'group_name':'group_name_auto',\\n        'group_name_2':'group_name_bert'}).astype({'node_id':str})\\ndf_disease_group.to_csv(save_path+'auxillary/kg_grouped_diseases.csv')\\n\""
      ]
     },
     "execution_count": 53,
     "metadata": {},
     "output_type": "execute_result"
    }
   ],
   "source": [
    "'''\n",
    "df_disease_group = pd.merge(disease_nodes, disease_group_1, 'left', 'group_name')\n",
    "df_disease_group = df_disease_group.get(['node_id', 'node_type', 'node_name', 'node_source',\n",
    "       'group_name', 'group_name_2'])\n",
    "df_disease_group = df_disease_group.rename(columns={'group_name':'group_name_auto',\n",
    "        'group_name_2':'group_name_bert'}).astype({'node_id':str})\n",
    "df_disease_group.to_csv(save_path+'auxillary/kg_grouped_diseases.csv')\n",
    "'''"
   ]
  },
  {
   "cell_type": "markdown",
   "metadata": {
    "hidden": true
   },
   "source": [
    "## Apply Groups"
   ]
  },
  {
   "cell_type": "code",
   "execution_count": 54,
   "metadata": {
    "ExecuteTime": {
     "end_time": "2021-08-06T12:22:36.824640Z",
     "start_time": "2021-08-06T12:22:34.748321Z"
    },
    "hidden": true
   },
   "outputs": [],
   "source": [
    "grouped_diseases = pd.read_csv(save_path+'auxillary/kg_grouped_diseases.csv').astype({'node_id':str})\n",
    "group_col = 'group_name_bert'\n",
    "\n",
    "groups = grouped_diseases.groupby(group_col).count().query('node_id>1').index.values\n",
    "set_groups = set(groups)\n",
    "\n",
    "id_col = group_col.replace('name','id')\n",
    "group_map = pd.DataFrame(columns=[id_col, group_col])\n",
    "group_map.loc[:, group_col] = groups\n",
    "\n",
    "grouped_diseases = grouped_diseases.query('{} in @set_groups'.format(group_col))\n",
    "\n",
    "for g, data in grouped_diseases.groupby(group_col): \n",
    "    if g in set_groups:\n",
    "        x = '_'.join(list(data.get('node_id').values))\n",
    "        i = group_map.query('{}==@g'.format(group_col)).index[0]\n",
    "        group_map.loc[i, id_col] = x\n",
    "        \n",
    "grouped_diseases = pd.merge(grouped_diseases, group_map)\n",
    "grouped_diseases.to_csv(save_path+'auxillary/kg_grouped_diseases_bert_map.csv', index=False)"
   ]
  },
  {
   "cell_type": "code",
   "execution_count": 55,
   "metadata": {
    "ExecuteTime": {
     "end_time": "2021-08-06T12:26:36.665730Z",
     "start_time": "2021-08-06T12:22:36.827448Z"
    },
    "hidden": true,
    "scrolled": true
   },
   "outputs": [
    {
     "data": {
      "application/vnd.jupyter.widget-view+json": {
       "model_id": "9cd2af24336143f7a65093c954a7c58e",
       "version_major": 2,
       "version_minor": 0
      },
      "text/plain": [
       "HBox(children=(FloatProgress(value=0.0, max=6392.0), HTML(value='')))"
      ]
     },
     "metadata": {},
     "output_type": "display_data"
    },
    {
     "name": "stdout",
     "output_type": "stream",
     "text": [
      "\n"
     ]
    }
   ],
   "source": [
    "kg_x_dis = kg.query('x_type==\"disease\" and x_source==\"MONDO\"')\n",
    "kg_y_dis = kg.query('y_type==\"disease\" and y_source==\"MONDO\"')\n",
    "\n",
    "for idx, data in tqdm(grouped_diseases.iterrows(), total=grouped_diseases.shape[0]): \n",
    "    x_index = kg_x_dis.query('x_id==@data.node_id and x_name==@data.node_name').index.values\n",
    "    kg.loc[x_index, 'x_id'] = data.get(id_col)\n",
    "    kg.loc[x_index, 'x_name'] = data.get(group_col)\n",
    "    kg.loc[x_index, 'x_source'] = 'MONDO_grouped'\n",
    "\n",
    "    y_index = kg_y_dis.query('y_id==@data.node_id and y_name==@data.node_name').index.values\n",
    "    kg.loc[y_index, 'y_id'] = data.get(id_col)\n",
    "    kg.loc[y_index, 'y_name'] = data.get(group_col)\n",
    "    kg.loc[y_index, 'y_source'] = 'MONDO_grouped'"
   ]
  },
  {
   "cell_type": "code",
   "execution_count": 56,
   "metadata": {
    "ExecuteTime": {
     "end_time": "2021-08-06T12:27:07.721261Z",
     "start_time": "2021-08-06T12:26:36.673297Z"
    },
    "hidden": true
   },
   "outputs": [],
   "source": [
    "kg = kg.drop_duplicates()\n",
    "kg_rev = kg.copy().rename(columns={'x_id':'y_id','x_type':'y_type', 'x_name':'y_name', 'x_source':'y_source',\n",
    "                                   'y_id':'x_id','y_type':'x_type', 'y_name':'x_name', 'y_source':'x_source' }) #add reverse edges\n",
    "kg = pd.concat([kg, kg_rev])\n",
    "kg = kg.drop_duplicates()\n",
    "kg = kg.dropna()\n",
    "# remove self loops from edges \n",
    "kg = kg.query('not ((x_id == y_id) and (x_type == y_type) and (x_source == y_source) and (x_name == y_name))')"
   ]
  },
  {
   "cell_type": "code",
   "execution_count": 57,
   "metadata": {
    "ExecuteTime": {
     "end_time": "2021-08-06T12:27:41.975721Z",
     "start_time": "2021-08-06T12:27:07.723129Z"
    },
    "hidden": true
   },
   "outputs": [],
   "source": [
    "kg.to_csv(save_path+'auxillary/kg_grouped.csv', index=False)"
   ]
  },
  {
   "cell_type": "markdown",
   "metadata": {},
   "source": [
    "# Knowledge graph description"
   ]
  },
  {
   "cell_type": "code",
   "execution_count": 58,
   "metadata": {
    "ExecuteTime": {
     "end_time": "2021-08-06T12:27:56.845094Z",
     "start_time": "2021-08-06T12:27:41.977822Z"
    }
   },
   "outputs": [],
   "source": [
    "kg = pd.read_csv(save_path+'auxillary/kg_grouped.csv', low_memory=False)"
   ]
  },
  {
   "cell_type": "code",
   "execution_count": 59,
   "metadata": {
    "ExecuteTime": {
     "end_time": "2021-08-06T12:28:19.775375Z",
     "start_time": "2021-08-06T12:27:56.847134Z"
    }
   },
   "outputs": [],
   "source": [
    "# nodes file \n",
    "nodes = pd.concat([kg.get(['x_id','x_type', 'x_name','x_source']).rename(columns={'x_id':'node_id', 'x_type':'node_type', 'x_name':'node_name', 'x_source':'node_source'}), \n",
    "                   kg.get(['y_id','y_type', 'y_name','y_source']).rename(columns={'y_id':'node_id', 'y_type':'node_type', 'y_name':'node_name', 'y_source':'node_source'})])\n",
    "nodes = nodes.drop_duplicates().reset_index().drop('index',axis=1).reset_index().rename(columns={'index':'node_index'})\n",
    "\n",
    "# assign index \n",
    "kg = pd.merge(kg, nodes.rename(columns={'node_index':'x_index',\n",
    "                                        'node_id':'x_id',\n",
    "                                        'node_type':'x_type',\n",
    "                                        'node_name':'x_name',\n",
    "                                        'node_source':'x_source'}), 'left').dropna()\n",
    "kg = pd.merge(kg, nodes.rename(columns={'node_index':'y_index',\n",
    "                                        'node_id':'y_id',\n",
    "                                        'node_type':'y_type',\n",
    "                                        'node_name':'y_name',\n",
    "                                        'node_source':'y_source'}), 'left').dropna()\n",
    "kg = kg.get(['relation', 'display_relation', 'x_index', 'x_id', 'x_type', 'x_name', 'x_source',\n",
    "       'y_index', 'y_id', 'y_type', 'y_name', 'y_source'])\n",
    "\n",
    "# edges file \n",
    "edges = kg.get(['relation', 'display_relation', 'x_index', 'y_index']).copy()"
   ]
  },
  {
   "cell_type": "code",
   "execution_count": 60,
   "metadata": {
    "ExecuteTime": {
     "end_time": "2021-08-06T12:29:17.530524Z",
     "start_time": "2021-08-06T12:28:19.778095Z"
    }
   },
   "outputs": [],
   "source": [
    "kg.to_csv(save_path+'kg.csv', index=False)\n",
    "nodes.to_csv(save_path+'nodes.csv', index=False)\n",
    "edges.to_csv(save_path+'edges.csv', index=False)"
   ]
  },
  {
   "cell_type": "code",
   "execution_count": 61,
   "metadata": {
    "ExecuteTime": {
     "end_time": "2021-08-06T12:29:17.586693Z",
     "start_time": "2021-08-06T12:29:17.532592Z"
    },
    "code_folding": []
   },
   "outputs": [],
   "source": [
    "def kg_describe(df, by, count_col): \n",
    "    df = df.groupby(by).count().sort_values(by=count_col, ascending=False).rename(columns={count_col:'count'}).get(['count'])\n",
    "    total = np.sum(df.get('count').values)\n",
    "    df = df.eval('percent = 100*count/@total')\n",
    "    df = df.append(df.sum(0).rename('total'))\n",
    "    df['count'] = df.get(['count']).astype('int')\n",
    "    df['percent'] = df.get(['percent']).round(1)\n",
    "    return df"
   ]
  },
  {
   "cell_type": "code",
   "execution_count": 62,
   "metadata": {
    "ExecuteTime": {
     "end_time": "2021-08-06T12:29:17.776738Z",
     "start_time": "2021-08-06T12:29:17.591473Z"
    },
    "scrolled": true
   },
   "outputs": [
    {
     "data": {
      "text/html": [
       "<div>\n",
       "<style scoped>\n",
       "    .dataframe tbody tr th:only-of-type {\n",
       "        vertical-align: middle;\n",
       "    }\n",
       "\n",
       "    .dataframe tbody tr th {\n",
       "        vertical-align: top;\n",
       "    }\n",
       "\n",
       "    .dataframe thead th {\n",
       "        text-align: right;\n",
       "    }\n",
       "</style>\n",
       "<table border=\"1\" class=\"dataframe\">\n",
       "  <thead>\n",
       "    <tr style=\"text-align: right;\">\n",
       "      <th></th>\n",
       "      <th>count</th>\n",
       "      <th>percent</th>\n",
       "    </tr>\n",
       "    <tr>\n",
       "      <th>node_type</th>\n",
       "      <th></th>\n",
       "      <th></th>\n",
       "    </tr>\n",
       "  </thead>\n",
       "  <tbody>\n",
       "    <tr>\n",
       "      <th>biological_process</th>\n",
       "      <td>28642</td>\n",
       "      <td>22.1</td>\n",
       "    </tr>\n",
       "    <tr>\n",
       "      <th>gene/protein</th>\n",
       "      <td>27671</td>\n",
       "      <td>21.4</td>\n",
       "    </tr>\n",
       "    <tr>\n",
       "      <th>disease</th>\n",
       "      <td>17080</td>\n",
       "      <td>13.2</td>\n",
       "    </tr>\n",
       "    <tr>\n",
       "      <th>effect/phenotype</th>\n",
       "      <td>15311</td>\n",
       "      <td>11.8</td>\n",
       "    </tr>\n",
       "    <tr>\n",
       "      <th>anatomy</th>\n",
       "      <td>14035</td>\n",
       "      <td>10.8</td>\n",
       "    </tr>\n",
       "    <tr>\n",
       "      <th>molecular_function</th>\n",
       "      <td>11169</td>\n",
       "      <td>8.6</td>\n",
       "    </tr>\n",
       "    <tr>\n",
       "      <th>drug</th>\n",
       "      <td>7957</td>\n",
       "      <td>6.2</td>\n",
       "    </tr>\n",
       "    <tr>\n",
       "      <th>cellular_component</th>\n",
       "      <td>4176</td>\n",
       "      <td>3.2</td>\n",
       "    </tr>\n",
       "    <tr>\n",
       "      <th>pathway</th>\n",
       "      <td>2516</td>\n",
       "      <td>1.9</td>\n",
       "    </tr>\n",
       "    <tr>\n",
       "      <th>exposure</th>\n",
       "      <td>818</td>\n",
       "      <td>0.6</td>\n",
       "    </tr>\n",
       "    <tr>\n",
       "      <th>total</th>\n",
       "      <td>129375</td>\n",
       "      <td>100.0</td>\n",
       "    </tr>\n",
       "  </tbody>\n",
       "</table>\n",
       "</div>"
      ],
      "text/plain": [
       "                     count  percent\n",
       "node_type                          \n",
       "biological_process   28642     22.1\n",
       "gene/protein         27671     21.4\n",
       "disease              17080     13.2\n",
       "effect/phenotype     15311     11.8\n",
       "anatomy              14035     10.8\n",
       "molecular_function   11169      8.6\n",
       "drug                  7957      6.2\n",
       "cellular_component    4176      3.2\n",
       "pathway               2516      1.9\n",
       "exposure               818      0.6\n",
       "total               129375    100.0"
      ]
     },
     "execution_count": 62,
     "metadata": {},
     "output_type": "execute_result"
    }
   ],
   "source": [
    "kg_describe(nodes,'node_type','node_index')"
   ]
  },
  {
   "cell_type": "code",
   "execution_count": 63,
   "metadata": {
    "ExecuteTime": {
     "end_time": "2021-08-06T12:29:18.783745Z",
     "start_time": "2021-08-06T12:29:17.779433Z"
    }
   },
   "outputs": [
    {
     "data": {
      "text/html": [
       "<div>\n",
       "<style scoped>\n",
       "    .dataframe tbody tr th:only-of-type {\n",
       "        vertical-align: middle;\n",
       "    }\n",
       "\n",
       "    .dataframe tbody tr th {\n",
       "        vertical-align: top;\n",
       "    }\n",
       "\n",
       "    .dataframe thead th {\n",
       "        text-align: right;\n",
       "    }\n",
       "</style>\n",
       "<table border=\"1\" class=\"dataframe\">\n",
       "  <thead>\n",
       "    <tr style=\"text-align: right;\">\n",
       "      <th></th>\n",
       "      <th>count</th>\n",
       "      <th>percent</th>\n",
       "    </tr>\n",
       "    <tr>\n",
       "      <th>relation</th>\n",
       "      <th></th>\n",
       "      <th></th>\n",
       "    </tr>\n",
       "  </thead>\n",
       "  <tbody>\n",
       "    <tr>\n",
       "      <th>anatomy_protein_present</th>\n",
       "      <td>3036406</td>\n",
       "      <td>37.5</td>\n",
       "    </tr>\n",
       "    <tr>\n",
       "      <th>drug_drug</th>\n",
       "      <td>2672628</td>\n",
       "      <td>33.0</td>\n",
       "    </tr>\n",
       "    <tr>\n",
       "      <th>protein_protein</th>\n",
       "      <td>642150</td>\n",
       "      <td>7.9</td>\n",
       "    </tr>\n",
       "    <tr>\n",
       "      <th>disease_phenotype_positive</th>\n",
       "      <td>300634</td>\n",
       "      <td>3.7</td>\n",
       "    </tr>\n",
       "    <tr>\n",
       "      <th>bioprocess_protein</th>\n",
       "      <td>289610</td>\n",
       "      <td>3.6</td>\n",
       "    </tr>\n",
       "    <tr>\n",
       "      <th>cellcomp_protein</th>\n",
       "      <td>166804</td>\n",
       "      <td>2.1</td>\n",
       "    </tr>\n",
       "    <tr>\n",
       "      <th>disease_protein</th>\n",
       "      <td>160822</td>\n",
       "      <td>2.0</td>\n",
       "    </tr>\n",
       "    <tr>\n",
       "      <th>molfunc_protein</th>\n",
       "      <td>139060</td>\n",
       "      <td>1.7</td>\n",
       "    </tr>\n",
       "    <tr>\n",
       "      <th>drug_effect</th>\n",
       "      <td>129568</td>\n",
       "      <td>1.6</td>\n",
       "    </tr>\n",
       "    <tr>\n",
       "      <th>bioprocess_bioprocess</th>\n",
       "      <td>105772</td>\n",
       "      <td>1.3</td>\n",
       "    </tr>\n",
       "    <tr>\n",
       "      <th>pathway_protein</th>\n",
       "      <td>85292</td>\n",
       "      <td>1.1</td>\n",
       "    </tr>\n",
       "    <tr>\n",
       "      <th>disease_disease</th>\n",
       "      <td>64388</td>\n",
       "      <td>0.8</td>\n",
       "    </tr>\n",
       "    <tr>\n",
       "      <th>contraindication</th>\n",
       "      <td>61350</td>\n",
       "      <td>0.8</td>\n",
       "    </tr>\n",
       "    <tr>\n",
       "      <th>drug_protein</th>\n",
       "      <td>51306</td>\n",
       "      <td>0.6</td>\n",
       "    </tr>\n",
       "    <tr>\n",
       "      <th>anatomy_protein_absent</th>\n",
       "      <td>39774</td>\n",
       "      <td>0.5</td>\n",
       "    </tr>\n",
       "    <tr>\n",
       "      <th>phenotype_phenotype</th>\n",
       "      <td>37472</td>\n",
       "      <td>0.5</td>\n",
       "    </tr>\n",
       "    <tr>\n",
       "      <th>anatomy_anatomy</th>\n",
       "      <td>28064</td>\n",
       "      <td>0.3</td>\n",
       "    </tr>\n",
       "    <tr>\n",
       "      <th>molfunc_molfunc</th>\n",
       "      <td>27148</td>\n",
       "      <td>0.3</td>\n",
       "    </tr>\n",
       "    <tr>\n",
       "      <th>indication</th>\n",
       "      <td>18776</td>\n",
       "      <td>0.2</td>\n",
       "    </tr>\n",
       "    <tr>\n",
       "      <th>cellcomp_cellcomp</th>\n",
       "      <td>9690</td>\n",
       "      <td>0.1</td>\n",
       "    </tr>\n",
       "    <tr>\n",
       "      <th>phenotype_protein</th>\n",
       "      <td>6660</td>\n",
       "      <td>0.1</td>\n",
       "    </tr>\n",
       "    <tr>\n",
       "      <th>off-label use</th>\n",
       "      <td>5136</td>\n",
       "      <td>0.1</td>\n",
       "    </tr>\n",
       "    <tr>\n",
       "      <th>pathway_pathway</th>\n",
       "      <td>5070</td>\n",
       "      <td>0.1</td>\n",
       "    </tr>\n",
       "    <tr>\n",
       "      <th>exposure_disease</th>\n",
       "      <td>4608</td>\n",
       "      <td>0.1</td>\n",
       "    </tr>\n",
       "    <tr>\n",
       "      <th>exposure_exposure</th>\n",
       "      <td>4140</td>\n",
       "      <td>0.1</td>\n",
       "    </tr>\n",
       "    <tr>\n",
       "      <th>exposure_bioprocess</th>\n",
       "      <td>3250</td>\n",
       "      <td>0.0</td>\n",
       "    </tr>\n",
       "    <tr>\n",
       "      <th>exposure_protein</th>\n",
       "      <td>2424</td>\n",
       "      <td>0.0</td>\n",
       "    </tr>\n",
       "    <tr>\n",
       "      <th>disease_phenotype_negative</th>\n",
       "      <td>2386</td>\n",
       "      <td>0.0</td>\n",
       "    </tr>\n",
       "    <tr>\n",
       "      <th>exposure_molfunc</th>\n",
       "      <td>90</td>\n",
       "      <td>0.0</td>\n",
       "    </tr>\n",
       "    <tr>\n",
       "      <th>exposure_cellcomp</th>\n",
       "      <td>20</td>\n",
       "      <td>0.0</td>\n",
       "    </tr>\n",
       "    <tr>\n",
       "      <th>total</th>\n",
       "      <td>8100498</td>\n",
       "      <td>100.0</td>\n",
       "    </tr>\n",
       "  </tbody>\n",
       "</table>\n",
       "</div>"
      ],
      "text/plain": [
       "                              count  percent\n",
       "relation                                    \n",
       "anatomy_protein_present     3036406     37.5\n",
       "drug_drug                   2672628     33.0\n",
       "protein_protein              642150      7.9\n",
       "disease_phenotype_positive   300634      3.7\n",
       "bioprocess_protein           289610      3.6\n",
       "cellcomp_protein             166804      2.1\n",
       "disease_protein              160822      2.0\n",
       "molfunc_protein              139060      1.7\n",
       "drug_effect                  129568      1.6\n",
       "bioprocess_bioprocess        105772      1.3\n",
       "pathway_protein               85292      1.1\n",
       "disease_disease               64388      0.8\n",
       "contraindication              61350      0.8\n",
       "drug_protein                  51306      0.6\n",
       "anatomy_protein_absent        39774      0.5\n",
       "phenotype_phenotype           37472      0.5\n",
       "anatomy_anatomy               28064      0.3\n",
       "molfunc_molfunc               27148      0.3\n",
       "indication                    18776      0.2\n",
       "cellcomp_cellcomp              9690      0.1\n",
       "phenotype_protein              6660      0.1\n",
       "off-label use                  5136      0.1\n",
       "pathway_pathway                5070      0.1\n",
       "exposure_disease               4608      0.1\n",
       "exposure_exposure              4140      0.1\n",
       "exposure_bioprocess            3250      0.0\n",
       "exposure_protein               2424      0.0\n",
       "disease_phenotype_negative     2386      0.0\n",
       "exposure_molfunc                 90      0.0\n",
       "exposure_cellcomp                20      0.0\n",
       "total                       8100498    100.0"
      ]
     },
     "execution_count": 63,
     "metadata": {},
     "output_type": "execute_result"
    }
   ],
   "source": [
    "kg_describe(edges,'relation','x_index')"
   ]
  },
  {
   "cell_type": "code",
   "execution_count": null,
   "metadata": {},
   "outputs": [],
   "source": []
  }
 ],
 "metadata": {
  "hide_input": false,
  "kernelspec": {
   "display_name": "Python 3",
   "language": "python",
   "name": "python3"
  },
  "language_info": {
   "codemirror_mode": {
    "name": "ipython",
    "version": 3
   },
   "file_extension": ".py",
   "mimetype": "text/x-python",
   "name": "python",
   "nbconvert_exporter": "python",
   "pygments_lexer": "ipython3",
   "version": "3.8.8"
  },
  "notify_time": "10",
  "toc": {
   "base_numbering": 1,
   "nav_menu": {},
   "number_sections": false,
   "sideBar": false,
   "skip_h1_title": false,
   "title_cell": "Table of Contents",
   "title_sidebar": "Contents",
   "toc_cell": false,
   "toc_position": {
    "height": "549.5652465820312px",
    "left": "993.9918212890625px",
    "top": "49.45652389526367px",
    "width": "161.64402770996094px"
   },
   "toc_section_display": false,
   "toc_window_display": false
  }
 },
 "nbformat": 4,
 "nbformat_minor": 4
}
